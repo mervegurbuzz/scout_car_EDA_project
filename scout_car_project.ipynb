{
 "cells": [
  {
   "cell_type": "code",
   "execution_count": 1917,
   "metadata": {},
   "outputs": [],
   "source": [
    "import pandas as pd\n",
    "import numpy as np\n",
    "import warnings \n",
    "\n",
    "pd.set_option('display.max_columns', 500)\n",
    "pd.set_option('display.max_colwidth', 500)\n",
    "pd.set_option('display.max_info_columns', 500)\n",
    "pd.set_option('display.max_info_rows', 2000)\n",
    "pd.set_option('display.expand_frame_repr', True)\n",
    "pd.set_option('display.width', 2000)\n",
    "\n",
    "warnings.filterwarnings('ignore')"
   ]
  },
  {
   "cell_type": "code",
   "execution_count": 1918,
   "metadata": {},
   "outputs": [],
   "source": [
    "data = pd.read_json('scout_car.json', orient = 'records', lines=True)"
   ]
  },
  {
   "cell_type": "code",
   "execution_count": 1919,
   "metadata": {},
   "outputs": [
    {
     "data": {
      "text/html": [
       "<div>\n",
       "<style scoped>\n",
       "    .dataframe tbody tr th:only-of-type {\n",
       "        vertical-align: middle;\n",
       "    }\n",
       "\n",
       "    .dataframe tbody tr th {\n",
       "        vertical-align: top;\n",
       "    }\n",
       "\n",
       "    .dataframe thead th {\n",
       "        text-align: right;\n",
       "    }\n",
       "</style>\n",
       "<table border=\"1\" class=\"dataframe\">\n",
       "  <thead>\n",
       "    <tr style=\"text-align: right;\">\n",
       "      <th></th>\n",
       "      <th>url</th>\n",
       "      <th>make_model</th>\n",
       "      <th>short_description</th>\n",
       "      <th>body_type</th>\n",
       "      <th>price</th>\n",
       "      <th>vat</th>\n",
       "      <th>km</th>\n",
       "      <th>registration</th>\n",
       "      <th>prev_owner</th>\n",
       "      <th>kW</th>\n",
       "      <th>hp</th>\n",
       "      <th>Type</th>\n",
       "      <th>Previous Owners</th>\n",
       "      <th>Next Inspection</th>\n",
       "      <th>Inspection new</th>\n",
       "      <th>Warranty</th>\n",
       "      <th>Full Service</th>\n",
       "      <th>Non-smoking Vehicle</th>\n",
       "      <th>null</th>\n",
       "      <th>Make</th>\n",
       "      <th>Model</th>\n",
       "      <th>Offer Number</th>\n",
       "      <th>First Registration</th>\n",
       "      <th>Body Color</th>\n",
       "      <th>Paint Type</th>\n",
       "      <th>Body Color Original</th>\n",
       "      <th>Upholstery</th>\n",
       "      <th>Body</th>\n",
       "      <th>Nr. of Doors</th>\n",
       "      <th>Nr. of Seats</th>\n",
       "      <th>Model Code</th>\n",
       "      <th>Gearing Type</th>\n",
       "      <th>Displacement</th>\n",
       "      <th>Cylinders</th>\n",
       "      <th>Weight</th>\n",
       "      <th>Drive chain</th>\n",
       "      <th>Fuel</th>\n",
       "      <th>Consumption</th>\n",
       "      <th>CO2 Emission</th>\n",
       "      <th>Emission Class</th>\n",
       "      <th>\\nComfort &amp; Convenience\\n</th>\n",
       "      <th>\\nEntertainment &amp; Media\\n</th>\n",
       "      <th>\\nExtras\\n</th>\n",
       "      <th>\\nSafety &amp; Security\\n</th>\n",
       "      <th>description</th>\n",
       "      <th>Emission Label</th>\n",
       "      <th>Gears</th>\n",
       "      <th>Country version</th>\n",
       "      <th>Electricity consumption</th>\n",
       "      <th>Last Service Date</th>\n",
       "      <th>Other Fuel Types</th>\n",
       "      <th>Availability</th>\n",
       "      <th>Last Timing Belt Service Date</th>\n",
       "      <th>Available from</th>\n",
       "    </tr>\n",
       "  </thead>\n",
       "  <tbody>\n",
       "    <tr>\n",
       "      <th>0</th>\n",
       "      <td>https://www.autoscout24.com//offers/audi-a1-sportback-1-4-tdi-s-tronic-xenon-navi-klima-diesel-black-bdab349a-caa5-41b0-98eb-c1345b84445e</td>\n",
       "      <td>Audi A1</td>\n",
       "      <td>Sportback 1.4 TDI S-tronic Xenon Navi Klima</td>\n",
       "      <td>Sedans</td>\n",
       "      <td>15770</td>\n",
       "      <td>VAT deductible</td>\n",
       "      <td>56,013 km</td>\n",
       "      <td>01/2016</td>\n",
       "      <td>2 previous owners</td>\n",
       "      <td>NaN</td>\n",
       "      <td>66 kW</td>\n",
       "      <td>[, Used, , Diesel (Particulate Filter)]</td>\n",
       "      <td>\\n2\\n</td>\n",
       "      <td>[\\n06/2021\\n, \\n99 g CO2/km (comb)\\n]</td>\n",
       "      <td>[\\nYes\\n, \\nEuro 6\\n]</td>\n",
       "      <td>[\\n, \\n, \\n4 (Green)\\n]</td>\n",
       "      <td>[\\n, \\n]</td>\n",
       "      <td>[\\n, \\n]</td>\n",
       "      <td>[]</td>\n",
       "      <td>\\nAudi\\n</td>\n",
       "      <td>[\\n, A1, \\n]</td>\n",
       "      <td>[\\nLR-062483\\n]</td>\n",
       "      <td>[\\n, 2016, \\n]</td>\n",
       "      <td>[\\n, Black, \\n]</td>\n",
       "      <td>[\\nMetallic\\n]</td>\n",
       "      <td>[\\nMythosschwarz\\n]</td>\n",
       "      <td>[\\nCloth, Black\\n]</td>\n",
       "      <td>[\\n, Sedans, \\n]</td>\n",
       "      <td>[\\n5\\n]</td>\n",
       "      <td>[\\n5\\n]</td>\n",
       "      <td>[\\n0588/BDF\\n]</td>\n",
       "      <td>[\\n, Automatic, \\n]</td>\n",
       "      <td>[\\n1,422 cc\\n]</td>\n",
       "      <td>[\\n3\\n]</td>\n",
       "      <td>[\\n1,220 kg\\n]</td>\n",
       "      <td>[\\nfront\\n]</td>\n",
       "      <td>[\\n, Diesel (Particulate Filter), \\n]</td>\n",
       "      <td>[[3.8 l/100 km (comb)], [4.3 l/100 km (city)], [3.5 l/100 km (country)]]</td>\n",
       "      <td>[\\n99 g CO2/km (comb)\\n]</td>\n",
       "      <td>[\\nEuro 6\\n]</td>\n",
       "      <td>[Air conditioning, Armrest, Automatic climate control, Cruise control, Electrical side mirrors, Hill Holder, Leather steering wheel, Light sensor, Multi-function steering wheel, Navigation system, Park Distance Control, Parking assist system sensors rear, Power windows, Rain sensor, Seat heating, Start-stop system]</td>\n",
       "      <td>[Bluetooth, Hands-free equipment, On-board computer, Radio]</td>\n",
       "      <td>[Alloy wheels, Catalytic Converter, Voice Control]</td>\n",
       "      <td>[ABS, Central door lock, Daytime running lights, Driver-side airbag, Electronic stability control, Fog lights, Immobilizer, Isofix, Passenger-side airbag, Power steering, Side airbag, Tire pressure monitoring system, Traction control, Xenon headlights]</td>\n",
       "      <td>[\\n, Sicherheit:,  , Deaktivierung für Beifahrer-Airbag,  , ESC mit elektronischer Quersperre,  , Tagfahrlicht,  , Reifendruck-Kontrollanzeige,  , Kopfairbag-System mit Seiten-Airbags vorn,  , Sicherheitslenksäule, Assistenzsysteme:,  , Berganfahrassistent, Komfort:,  , Scheinwerferreinigung,  , Xenon plus inklusive Scheinwerfer-Reinigungsanlage,  , Scheinwerfer-Reinigungsanlage,  , Einparkhilfe hinten,  , Licht-/Regensensor,  , Funkfernbedienung,  , Elektrische Luftzusatzheizung, Interieur:...</td>\n",
       "      <td>NaN</td>\n",
       "      <td>NaN</td>\n",
       "      <td>NaN</td>\n",
       "      <td>NaN</td>\n",
       "      <td>NaN</td>\n",
       "      <td>NaN</td>\n",
       "      <td>NaN</td>\n",
       "      <td>NaN</td>\n",
       "      <td>NaN</td>\n",
       "    </tr>\n",
       "    <tr>\n",
       "      <th>1</th>\n",
       "      <td>https://www.autoscout24.com//offers/audi-a1-1-8-tfsi-sport-gasoline-red-b2547f8a-e83f-6237-e053-e250040a56df</td>\n",
       "      <td>Audi A1</td>\n",
       "      <td>1.8 TFSI sport</td>\n",
       "      <td>Sedans</td>\n",
       "      <td>14500</td>\n",
       "      <td>Price negotiable</td>\n",
       "      <td>80,000 km</td>\n",
       "      <td>03/2017</td>\n",
       "      <td>None</td>\n",
       "      <td>NaN</td>\n",
       "      <td>141 kW</td>\n",
       "      <td>[, Used, , Gasoline]</td>\n",
       "      <td>NaN</td>\n",
       "      <td>NaN</td>\n",
       "      <td>NaN</td>\n",
       "      <td>NaN</td>\n",
       "      <td>NaN</td>\n",
       "      <td>NaN</td>\n",
       "      <td>[]</td>\n",
       "      <td>\\nAudi\\n</td>\n",
       "      <td>[\\n, A1, \\n]</td>\n",
       "      <td>NaN</td>\n",
       "      <td>[\\n, 2017, \\n]</td>\n",
       "      <td>[\\n, Red, \\n]</td>\n",
       "      <td>NaN</td>\n",
       "      <td>NaN</td>\n",
       "      <td>[\\nCloth, Grey\\n]</td>\n",
       "      <td>[\\n, Sedans, \\n]</td>\n",
       "      <td>[\\n3\\n]</td>\n",
       "      <td>[\\n4\\n]</td>\n",
       "      <td>[\\n0588/BCY\\n]</td>\n",
       "      <td>[\\n, Automatic, \\n]</td>\n",
       "      <td>[\\n1,798 cc\\n]</td>\n",
       "      <td>[\\n4\\n]</td>\n",
       "      <td>[\\n1,255 kg\\n]</td>\n",
       "      <td>[\\nfront\\n]</td>\n",
       "      <td>[\\n, Gasoline, \\n]</td>\n",
       "      <td>[[5.6 l/100 km (comb)], [7.1 l/100 km (city)], [4.7 l/100 km (country)]]</td>\n",
       "      <td>[\\n129 g CO2/km (comb)\\n]</td>\n",
       "      <td>[\\nEuro 6\\n]</td>\n",
       "      <td>[Air conditioning, Automatic climate control, Hill Holder, Leather steering wheel, Lumbar support, Parking assist system sensors rear, Power windows, Start-stop system, Tinted windows]</td>\n",
       "      <td>[Bluetooth, Hands-free equipment, On-board computer, Radio, Sound system]</td>\n",
       "      <td>[Alloy wheels, Sport seats, Sport suspension, Voice Control]</td>\n",
       "      <td>[ABS, Central door lock, Central door lock with remote control, Daytime running lights, Driver-side airbag, Electronic stability control, Head airbag, Immobilizer, Isofix, Passenger-side airbag, Power steering, Side airbag, Tire pressure monitoring system, Traction control, Xenon headlights]</td>\n",
       "      <td>[\\nLangstreckenfahrzeug daher die hohe Kilometerleistung. , Bremsen neu bei 62000 km. , Gut gepflegter A1\\n]</td>\n",
       "      <td>[\\n4 (Green)\\n]</td>\n",
       "      <td>[\\n7\\n]</td>\n",
       "      <td>NaN</td>\n",
       "      <td>NaN</td>\n",
       "      <td>NaN</td>\n",
       "      <td>NaN</td>\n",
       "      <td>NaN</td>\n",
       "      <td>NaN</td>\n",
       "      <td>NaN</td>\n",
       "    </tr>\n",
       "    <tr>\n",
       "      <th>2</th>\n",
       "      <td>https://www.autoscout24.com//offers/audi-a1-sportback-1-6-tdi-s-tronic-einparkhilfe-plus-music-diesel-black-6183cb6a-8570-4b86-a132-9b54214bca88</td>\n",
       "      <td>Audi A1</td>\n",
       "      <td>Sportback 1.6 TDI S tronic Einparkhilfe plus+music</td>\n",
       "      <td>Sedans</td>\n",
       "      <td>14640</td>\n",
       "      <td>VAT deductible</td>\n",
       "      <td>83,450 km</td>\n",
       "      <td>02/2016</td>\n",
       "      <td>1 previous owner</td>\n",
       "      <td>NaN</td>\n",
       "      <td>85 kW</td>\n",
       "      <td>[, Used, , Diesel (Particulate Filter)]</td>\n",
       "      <td>\\n1\\n</td>\n",
       "      <td>NaN</td>\n",
       "      <td>NaN</td>\n",
       "      <td>[\\n, \\n, \\n99 g CO2/km (comb)\\n]</td>\n",
       "      <td>NaN</td>\n",
       "      <td>NaN</td>\n",
       "      <td>[]</td>\n",
       "      <td>\\nAudi\\n</td>\n",
       "      <td>[\\n, A1, \\n]</td>\n",
       "      <td>[\\nAM-95365\\n]</td>\n",
       "      <td>[\\n, 2016, \\n]</td>\n",
       "      <td>[\\n, Black, \\n]</td>\n",
       "      <td>[\\nMetallic\\n]</td>\n",
       "      <td>[\\nmythosschwarz metallic\\n]</td>\n",
       "      <td>[\\nCloth, Black\\n]</td>\n",
       "      <td>[\\n, Sedans, \\n]</td>\n",
       "      <td>[\\n4\\n]</td>\n",
       "      <td>[\\n4\\n]</td>\n",
       "      <td>NaN</td>\n",
       "      <td>[\\n, Automatic, \\n]</td>\n",
       "      <td>[\\n1,598 cc\\n]</td>\n",
       "      <td>NaN</td>\n",
       "      <td>NaN</td>\n",
       "      <td>[\\nfront\\n]</td>\n",
       "      <td>[\\n, Diesel (Particulate Filter), \\n]</td>\n",
       "      <td>[[3.8 l/100 km (comb)], [4.4 l/100 km (city)], [3.4 l/100 km (country)]]</td>\n",
       "      <td>[\\n99 g CO2/km (comb)\\n]</td>\n",
       "      <td>[\\nEuro 6\\n]</td>\n",
       "      <td>[Air conditioning, Cruise control, Electrical side mirrors, Hill Holder, Leather steering wheel, Multi-function steering wheel, Navigation system, Park Distance Control, Parking assist system sensors front, Parking assist system sensors rear, Power windows, Seat heating, Start-stop system]</td>\n",
       "      <td>[MP3, On-board computer]</td>\n",
       "      <td>[Alloy wheels, Voice Control]</td>\n",
       "      <td>[ABS, Central door lock, Daytime running lights, Driver-side airbag, Electronic stability control, Immobilizer, Isofix, Passenger-side airbag, Power steering, Side airbag, Tire pressure monitoring system, Traction control]</td>\n",
       "      <td>[\\n, Fahrzeug-Nummer: AM-95365,  , Ehem. UPE 24.640 EUR,  , Komfort,  , Klimaanlage,  , Elektrische Fensterheber,  , Sitzheizung,  , Tempomat,  , Zentralverriegelung,  , Leder-Lenkrad,  , Elektrische Spiegel,  , Wärmedämmendes Glas,  , Anfahrassistent,  , Sicherheit,  , Window/Kopfairbags,  , ESP (el. Stabilitäts Programm),  , Elektronische Wegfahrsperre,  , Reifendruckkontrolle,  , Tagfahrlicht,  , Exterieur,  , Alufelgen 16 Zoll,  , Einparkhilfe vo + hi,  , Interieur,  , Stoff Zeitgeist,  ...</td>\n",
       "      <td>[\\n4 (Green)\\n]</td>\n",
       "      <td>NaN</td>\n",
       "      <td>NaN</td>\n",
       "      <td>NaN</td>\n",
       "      <td>NaN</td>\n",
       "      <td>NaN</td>\n",
       "      <td>NaN</td>\n",
       "      <td>NaN</td>\n",
       "      <td>NaN</td>\n",
       "    </tr>\n",
       "    <tr>\n",
       "      <th>3</th>\n",
       "      <td>https://www.autoscout24.com//offers/audi-a1-1-4-tdi-design-s-tronic-diesel-brown-35c86585-2727-d61e-e053-e250040ad640</td>\n",
       "      <td>Audi A1</td>\n",
       "      <td>1.4 TDi Design S tronic</td>\n",
       "      <td>Sedans</td>\n",
       "      <td>14500</td>\n",
       "      <td>None</td>\n",
       "      <td>73,000 km</td>\n",
       "      <td>08/2016</td>\n",
       "      <td>1 previous owner</td>\n",
       "      <td>NaN</td>\n",
       "      <td>66 kW</td>\n",
       "      <td>[, Used, , Diesel (Particulate Filter)]</td>\n",
       "      <td>\\n1\\n</td>\n",
       "      <td>NaN</td>\n",
       "      <td>NaN</td>\n",
       "      <td>NaN</td>\n",
       "      <td>[\\n, \\n, \\n99 g CO2/km (comb)\\n]</td>\n",
       "      <td>[\\n, \\n, \\nEuro 6\\n]</td>\n",
       "      <td>[]</td>\n",
       "      <td>\\nAudi\\n</td>\n",
       "      <td>[\\n, A1, \\n]</td>\n",
       "      <td>NaN</td>\n",
       "      <td>[\\n, 2016, \\n]</td>\n",
       "      <td>[\\n, Brown, \\n]</td>\n",
       "      <td>[\\nMetallic\\n]</td>\n",
       "      <td>NaN</td>\n",
       "      <td>NaN</td>\n",
       "      <td>[\\n, Sedans, \\n]</td>\n",
       "      <td>[\\n3\\n]</td>\n",
       "      <td>[\\n4\\n]</td>\n",
       "      <td>NaN</td>\n",
       "      <td>[\\n, Automatic, \\n]</td>\n",
       "      <td>[\\n1,422 cc\\n]</td>\n",
       "      <td>[\\n3\\n]</td>\n",
       "      <td>[\\n1,195 kg\\n]</td>\n",
       "      <td>NaN</td>\n",
       "      <td>[\\n, Diesel (Particulate Filter), \\n]</td>\n",
       "      <td>[[3.8 l/100 km (comb)], [4.3 l/100 km (city)], [3.5 l/100 km (country)]]</td>\n",
       "      <td>[\\n99 g CO2/km (comb)\\n]</td>\n",
       "      <td>[\\nEuro 6\\n]</td>\n",
       "      <td>[Air suspension, Armrest, Auxiliary heating, Electrical side mirrors, Heads-up display, Hill Holder, Leather steering wheel, Light sensor, Lumbar support, Multi-function steering wheel, Navigation system, Power windows, Rain sensor, Seat heating, Split rear seats, Start-stop system]</td>\n",
       "      <td>[Bluetooth, CD player, Hands-free equipment, MP3, On-board computer, Radio, Sound system, USB]</td>\n",
       "      <td>[Alloy wheels, Sport seats, Voice Control]</td>\n",
       "      <td>[ABS, Alarm system, Central door lock with remote control, Driver drowsiness detection, Driver-side airbag, Electronic stability control, Emergency system, Head airbag, Immobilizer, Isofix, Passenger-side airbag, Power steering, Side airbag, Tire pressure monitoring system]</td>\n",
       "      <td>[\\nAudi A1: , - 1e eigenaar , - Perfecte staat: schade/ongevalvrij , - Onderhoudsboekje Audi garage , - Full option!, - S-line opties, - Automaat, lederen bekleding, navi-pro, Xenon lampen, zetelverwarming, automatische airco,...\\n]</td>\n",
       "      <td>NaN</td>\n",
       "      <td>[\\n6\\n]</td>\n",
       "      <td>NaN</td>\n",
       "      <td>NaN</td>\n",
       "      <td>NaN</td>\n",
       "      <td>NaN</td>\n",
       "      <td>NaN</td>\n",
       "      <td>NaN</td>\n",
       "      <td>NaN</td>\n",
       "    </tr>\n",
       "    <tr>\n",
       "      <th>4</th>\n",
       "      <td>https://www.autoscout24.com//offers/audi-a1-sportback-1-4-tdi-s-tronic-s-line-ext-admired-xe-diesel-black-b86b55d8-9c7c-4a58-b658-b97008a51efc</td>\n",
       "      <td>Audi A1</td>\n",
       "      <td>Sportback 1.4 TDI S-Tronic S-Line Ext. admired, Xe</td>\n",
       "      <td>Sedans</td>\n",
       "      <td>16790</td>\n",
       "      <td>None</td>\n",
       "      <td>16,200 km</td>\n",
       "      <td>05/2016</td>\n",
       "      <td>1 previous owner</td>\n",
       "      <td>NaN</td>\n",
       "      <td>66 kW</td>\n",
       "      <td>[, Used, , Diesel (Particulate Filter)]</td>\n",
       "      <td>\\n1\\n</td>\n",
       "      <td>NaN</td>\n",
       "      <td>[\\nYes\\n, \\n109 g CO2/km (comb)\\n]</td>\n",
       "      <td>[\\n, \\n, \\nEuro 6\\n]</td>\n",
       "      <td>[\\n, \\n, \\n4 (Green)\\n]</td>\n",
       "      <td>[\\n, \\n]</td>\n",
       "      <td>[]</td>\n",
       "      <td>\\nAudi\\n</td>\n",
       "      <td>[\\n, A1, \\n]</td>\n",
       "      <td>[\\nC1626\\n]</td>\n",
       "      <td>[\\n, 2016, \\n]</td>\n",
       "      <td>[\\n, Black, \\n]</td>\n",
       "      <td>[\\nMetallic\\n]</td>\n",
       "      <td>[\\nMythosschwarz Metallic\\n]</td>\n",
       "      <td>[\\nCloth, Black\\n]</td>\n",
       "      <td>[\\n, Sedans, \\n]</td>\n",
       "      <td>[\\n5\\n]</td>\n",
       "      <td>[\\n5\\n]</td>\n",
       "      <td>[\\n0588/BDF\\n]</td>\n",
       "      <td>[\\n, Automatic, \\n]</td>\n",
       "      <td>[\\n1,422 cc\\n]</td>\n",
       "      <td>[\\n3\\n]</td>\n",
       "      <td>NaN</td>\n",
       "      <td>[\\nfront\\n]</td>\n",
       "      <td>[\\n, Diesel (Particulate Filter), \\n]</td>\n",
       "      <td>[[4.1 l/100 km (comb)], [4.6 l/100 km (city)], [3.8 l/100 km (country)]]</td>\n",
       "      <td>[\\n109 g CO2/km (comb)\\n]</td>\n",
       "      <td>[\\nEuro 6\\n]</td>\n",
       "      <td>[Air conditioning, Armrest, Automatic climate control, Electrical side mirrors, Hill Holder, Leather steering wheel, Light sensor, Multi-function steering wheel, Park Distance Control, Parking assist system sensors rear, Power windows, Rain sensor, Start-stop system]</td>\n",
       "      <td>[Bluetooth, CD player, Hands-free equipment, MP3, On-board computer, Radio, USB]</td>\n",
       "      <td>[Alloy wheels, Sport package, Sport suspension, Voice Control]</td>\n",
       "      <td>[ABS, Central door lock, Driver-side airbag, Electronic stability control, Fog lights, Immobilizer, Isofix, Passenger-side airbag, Power steering, Side airbag, Tire pressure monitoring system, Traction control, Xenon headlights]</td>\n",
       "      <td>[\\n, Technik &amp; Sicherheit:, Xenon plus, Klimaautomatik, Einparkhilfe hinten, Scheinwerferreinigungsanlage, Nebelscheinwerfer, Zentralverriegelung mit Fernbedienung, Außenspiegel elek. einstellbar, Fensterheber elek, Start/Stop Anlage, 6 Airbag inkl. Kopfairbag, Euro 6, Multimedia:, Radio CD Concert, audi music interface, Handyvorbereitung (Bluetooth), Sprachsteuerung, USB Anschluss, Assistenzsysteme:, Lichtsensor, Regensensor, Berganfahrassistent, Reifendruckkontrolle, ESP inkl. ABS, Interie...</td>\n",
       "      <td>NaN</td>\n",
       "      <td>NaN</td>\n",
       "      <td>[\\nGermany\\n]</td>\n",
       "      <td>NaN</td>\n",
       "      <td>NaN</td>\n",
       "      <td>NaN</td>\n",
       "      <td>NaN</td>\n",
       "      <td>NaN</td>\n",
       "      <td>NaN</td>\n",
       "    </tr>\n",
       "  </tbody>\n",
       "</table>\n",
       "</div>"
      ],
      "text/plain": [
       "                                                                                                                                                url make_model                                   short_description body_type  price               vat         km registration         prev_owner  kW      hp                                     Type Previous Owners                        Next Inspection                      Inspection new                          Warranty                      Full Service   Non-smoking Vehicle null      Make         Model     Offer Number First Registration       Body Color      Paint Type           Body Color Original          Upholstery              Body Nr. of Doors Nr. of Seats      Model Code         Gearing Type    Displacement Cylinders          Weight  Drive chain                                   Fuel                                                               Consumption               CO2 Emission Emission Class                                                                                                                                                                                                                                                                                                     \\nComfort & Convenience\\n                                                                       \\nEntertainment & Media\\n                                                      \\nExtras\\n                                                                                                                                                                                                                                                                                 \\nSafety & Security\\n  \\\n",
       "0         https://www.autoscout24.com//offers/audi-a1-sportback-1-4-tdi-s-tronic-xenon-navi-klima-diesel-black-bdab349a-caa5-41b0-98eb-c1345b84445e    Audi A1         Sportback 1.4 TDI S-tronic Xenon Navi Klima    Sedans  15770    VAT deductible  56,013 km      01/2016  2 previous owners NaN   66 kW  [, Used, , Diesel (Particulate Filter)]           \\n2\\n  [\\n06/2021\\n, \\n99 g CO2/km (comb)\\n]               [\\nYes\\n, \\nEuro 6\\n]           [\\n, \\n, \\n4 (Green)\\n]                          [\\n, \\n]              [\\n, \\n]   []  \\nAudi\\n  [\\n, A1, \\n]  [\\nLR-062483\\n]     [\\n, 2016, \\n]  [\\n, Black, \\n]  [\\nMetallic\\n]           [\\nMythosschwarz\\n]  [\\nCloth, Black\\n]  [\\n, Sedans, \\n]      [\\n5\\n]      [\\n5\\n]  [\\n0588/BDF\\n]  [\\n, Automatic, \\n]  [\\n1,422 cc\\n]   [\\n3\\n]  [\\n1,220 kg\\n]  [\\nfront\\n]  [\\n, Diesel (Particulate Filter), \\n]  [[3.8 l/100 km (comb)], [4.3 l/100 km (city)], [3.5 l/100 km (country)]]   [\\n99 g CO2/km (comb)\\n]   [\\nEuro 6\\n]  [Air conditioning, Armrest, Automatic climate control, Cruise control, Electrical side mirrors, Hill Holder, Leather steering wheel, Light sensor, Multi-function steering wheel, Navigation system, Park Distance Control, Parking assist system sensors rear, Power windows, Rain sensor, Seat heating, Start-stop system]                                     [Bluetooth, Hands-free equipment, On-board computer, Radio]              [Alloy wheels, Catalytic Converter, Voice Control]                                          [ABS, Central door lock, Daytime running lights, Driver-side airbag, Electronic stability control, Fog lights, Immobilizer, Isofix, Passenger-side airbag, Power steering, Side airbag, Tire pressure monitoring system, Traction control, Xenon headlights]   \n",
       "1                                      https://www.autoscout24.com//offers/audi-a1-1-8-tfsi-sport-gasoline-red-b2547f8a-e83f-6237-e053-e250040a56df    Audi A1                                      1.8 TFSI sport    Sedans  14500  Price negotiable  80,000 km      03/2017               None NaN  141 kW                     [, Used, , Gasoline]             NaN                                    NaN                                 NaN                               NaN                               NaN                   NaN   []  \\nAudi\\n  [\\n, A1, \\n]              NaN     [\\n, 2017, \\n]    [\\n, Red, \\n]             NaN                           NaN   [\\nCloth, Grey\\n]  [\\n, Sedans, \\n]      [\\n3\\n]      [\\n4\\n]  [\\n0588/BCY\\n]  [\\n, Automatic, \\n]  [\\n1,798 cc\\n]   [\\n4\\n]  [\\n1,255 kg\\n]  [\\nfront\\n]                     [\\n, Gasoline, \\n]  [[5.6 l/100 km (comb)], [7.1 l/100 km (city)], [4.7 l/100 km (country)]]  [\\n129 g CO2/km (comb)\\n]   [\\nEuro 6\\n]                                                                                                                                      [Air conditioning, Automatic climate control, Hill Holder, Leather steering wheel, Lumbar support, Parking assist system sensors rear, Power windows, Start-stop system, Tinted windows]                       [Bluetooth, Hands-free equipment, On-board computer, Radio, Sound system]    [Alloy wheels, Sport seats, Sport suspension, Voice Control]  [ABS, Central door lock, Central door lock with remote control, Daytime running lights, Driver-side airbag, Electronic stability control, Head airbag, Immobilizer, Isofix, Passenger-side airbag, Power steering, Side airbag, Tire pressure monitoring system, Traction control, Xenon headlights]   \n",
       "2  https://www.autoscout24.com//offers/audi-a1-sportback-1-6-tdi-s-tronic-einparkhilfe-plus-music-diesel-black-6183cb6a-8570-4b86-a132-9b54214bca88    Audi A1  Sportback 1.6 TDI S tronic Einparkhilfe plus+music    Sedans  14640    VAT deductible  83,450 km      02/2016   1 previous owner NaN   85 kW  [, Used, , Diesel (Particulate Filter)]           \\n1\\n                                    NaN                                 NaN  [\\n, \\n, \\n99 g CO2/km (comb)\\n]                               NaN                   NaN   []  \\nAudi\\n  [\\n, A1, \\n]   [\\nAM-95365\\n]     [\\n, 2016, \\n]  [\\n, Black, \\n]  [\\nMetallic\\n]  [\\nmythosschwarz metallic\\n]  [\\nCloth, Black\\n]  [\\n, Sedans, \\n]      [\\n4\\n]      [\\n4\\n]             NaN  [\\n, Automatic, \\n]  [\\n1,598 cc\\n]       NaN             NaN  [\\nfront\\n]  [\\n, Diesel (Particulate Filter), \\n]  [[3.8 l/100 km (comb)], [4.4 l/100 km (city)], [3.4 l/100 km (country)]]   [\\n99 g CO2/km (comb)\\n]   [\\nEuro 6\\n]                            [Air conditioning, Cruise control, Electrical side mirrors, Hill Holder, Leather steering wheel, Multi-function steering wheel, Navigation system, Park Distance Control, Parking assist system sensors front, Parking assist system sensors rear, Power windows, Seat heating, Start-stop system]                                                                        [MP3, On-board computer]                                   [Alloy wheels, Voice Control]                                                                        [ABS, Central door lock, Daytime running lights, Driver-side airbag, Electronic stability control, Immobilizer, Isofix, Passenger-side airbag, Power steering, Side airbag, Tire pressure monitoring system, Traction control]   \n",
       "3                             https://www.autoscout24.com//offers/audi-a1-1-4-tdi-design-s-tronic-diesel-brown-35c86585-2727-d61e-e053-e250040ad640    Audi A1                             1.4 TDi Design S tronic    Sedans  14500              None  73,000 km      08/2016   1 previous owner NaN   66 kW  [, Used, , Diesel (Particulate Filter)]           \\n1\\n                                    NaN                                 NaN                               NaN  [\\n, \\n, \\n99 g CO2/km (comb)\\n]  [\\n, \\n, \\nEuro 6\\n]   []  \\nAudi\\n  [\\n, A1, \\n]              NaN     [\\n, 2016, \\n]  [\\n, Brown, \\n]  [\\nMetallic\\n]                           NaN                 NaN  [\\n, Sedans, \\n]      [\\n3\\n]      [\\n4\\n]             NaN  [\\n, Automatic, \\n]  [\\n1,422 cc\\n]   [\\n3\\n]  [\\n1,195 kg\\n]          NaN  [\\n, Diesel (Particulate Filter), \\n]  [[3.8 l/100 km (comb)], [4.3 l/100 km (city)], [3.5 l/100 km (country)]]   [\\n99 g CO2/km (comb)\\n]   [\\nEuro 6\\n]                                   [Air suspension, Armrest, Auxiliary heating, Electrical side mirrors, Heads-up display, Hill Holder, Leather steering wheel, Light sensor, Lumbar support, Multi-function steering wheel, Navigation system, Power windows, Rain sensor, Seat heating, Split rear seats, Start-stop system]  [Bluetooth, CD player, Hands-free equipment, MP3, On-board computer, Radio, Sound system, USB]                      [Alloy wheels, Sport seats, Voice Control]                    [ABS, Alarm system, Central door lock with remote control, Driver drowsiness detection, Driver-side airbag, Electronic stability control, Emergency system, Head airbag, Immobilizer, Isofix, Passenger-side airbag, Power steering, Side airbag, Tire pressure monitoring system]   \n",
       "4    https://www.autoscout24.com//offers/audi-a1-sportback-1-4-tdi-s-tronic-s-line-ext-admired-xe-diesel-black-b86b55d8-9c7c-4a58-b658-b97008a51efc    Audi A1  Sportback 1.4 TDI S-Tronic S-Line Ext. admired, Xe    Sedans  16790              None  16,200 km      05/2016   1 previous owner NaN   66 kW  [, Used, , Diesel (Particulate Filter)]           \\n1\\n                                    NaN  [\\nYes\\n, \\n109 g CO2/km (comb)\\n]              [\\n, \\n, \\nEuro 6\\n]           [\\n, \\n, \\n4 (Green)\\n]              [\\n, \\n]   []  \\nAudi\\n  [\\n, A1, \\n]      [\\nC1626\\n]     [\\n, 2016, \\n]  [\\n, Black, \\n]  [\\nMetallic\\n]  [\\nMythosschwarz Metallic\\n]  [\\nCloth, Black\\n]  [\\n, Sedans, \\n]      [\\n5\\n]      [\\n5\\n]  [\\n0588/BDF\\n]  [\\n, Automatic, \\n]  [\\n1,422 cc\\n]   [\\n3\\n]             NaN  [\\nfront\\n]  [\\n, Diesel (Particulate Filter), \\n]  [[4.1 l/100 km (comb)], [4.6 l/100 km (city)], [3.8 l/100 km (country)]]  [\\n109 g CO2/km (comb)\\n]   [\\nEuro 6\\n]                                                   [Air conditioning, Armrest, Automatic climate control, Electrical side mirrors, Hill Holder, Leather steering wheel, Light sensor, Multi-function steering wheel, Park Distance Control, Parking assist system sensors rear, Power windows, Rain sensor, Start-stop system]                [Bluetooth, CD player, Hands-free equipment, MP3, On-board computer, Radio, USB]  [Alloy wheels, Sport package, Sport suspension, Voice Control]                                                                  [ABS, Central door lock, Driver-side airbag, Electronic stability control, Fog lights, Immobilizer, Isofix, Passenger-side airbag, Power steering, Side airbag, Tire pressure monitoring system, Traction control, Xenon headlights]   \n",
       "\n",
       "                                                                                                                                                                                                                                                                                                                                                                                                                                                                                                           description   Emission Label    Gears Country version Electricity consumption Last Service Date Other Fuel Types Availability Last Timing Belt Service Date Available from  \n",
       "0  [\\n, Sicherheit:,  , Deaktivierung für Beifahrer-Airbag,  , ESC mit elektronischer Quersperre,  , Tagfahrlicht,  , Reifendruck-Kontrollanzeige,  , Kopfairbag-System mit Seiten-Airbags vorn,  , Sicherheitslenksäule, Assistenzsysteme:,  , Berganfahrassistent, Komfort:,  , Scheinwerferreinigung,  , Xenon plus inklusive Scheinwerfer-Reinigungsanlage,  , Scheinwerfer-Reinigungsanlage,  , Einparkhilfe hinten,  , Licht-/Regensensor,  , Funkfernbedienung,  , Elektrische Luftzusatzheizung, Interieur:...              NaN      NaN             NaN                     NaN               NaN              NaN          NaN                           NaN            NaN  \n",
       "1                                                                                                                                                                                                                                                                                                                                                                                                         [\\nLangstreckenfahrzeug daher die hohe Kilometerleistung. , Bremsen neu bei 62000 km. , Gut gepflegter A1\\n]  [\\n4 (Green)\\n]  [\\n7\\n]             NaN                     NaN               NaN              NaN          NaN                           NaN            NaN  \n",
       "2  [\\n, Fahrzeug-Nummer: AM-95365,  , Ehem. UPE 24.640 EUR,  , Komfort,  , Klimaanlage,  , Elektrische Fensterheber,  , Sitzheizung,  , Tempomat,  , Zentralverriegelung,  , Leder-Lenkrad,  , Elektrische Spiegel,  , Wärmedämmendes Glas,  , Anfahrassistent,  , Sicherheit,  , Window/Kopfairbags,  , ESP (el. Stabilitäts Programm),  , Elektronische Wegfahrsperre,  , Reifendruckkontrolle,  , Tagfahrlicht,  , Exterieur,  , Alufelgen 16 Zoll,  , Einparkhilfe vo + hi,  , Interieur,  , Stoff Zeitgeist,  ...  [\\n4 (Green)\\n]      NaN             NaN                     NaN               NaN              NaN          NaN                           NaN            NaN  \n",
       "3                                                                                                                                                                                                                                                                             [\\nAudi A1: , - 1e eigenaar , - Perfecte staat: schade/ongevalvrij , - Onderhoudsboekje Audi garage , - Full option!, - S-line opties, - Automaat, lederen bekleding, navi-pro, Xenon lampen, zetelverwarming, automatische airco,...\\n]              NaN  [\\n6\\n]             NaN                     NaN               NaN              NaN          NaN                           NaN            NaN  \n",
       "4  [\\n, Technik & Sicherheit:, Xenon plus, Klimaautomatik, Einparkhilfe hinten, Scheinwerferreinigungsanlage, Nebelscheinwerfer, Zentralverriegelung mit Fernbedienung, Außenspiegel elek. einstellbar, Fensterheber elek, Start/Stop Anlage, 6 Airbag inkl. Kopfairbag, Euro 6, Multimedia:, Radio CD Concert, audi music interface, Handyvorbereitung (Bluetooth), Sprachsteuerung, USB Anschluss, Assistenzsysteme:, Lichtsensor, Regensensor, Berganfahrassistent, Reifendruckkontrolle, ESP inkl. ABS, Interie...              NaN      NaN   [\\nGermany\\n]                     NaN               NaN              NaN          NaN                           NaN            NaN  "
      ]
     },
     "execution_count": 1919,
     "metadata": {},
     "output_type": "execute_result"
    }
   ],
   "source": [
    "data.head()"
   ]
  },
  {
   "cell_type": "code",
   "execution_count": 1920,
   "metadata": {},
   "outputs": [
    {
     "data": {
      "text/html": [
       "<div>\n",
       "<style scoped>\n",
       "    .dataframe tbody tr th:only-of-type {\n",
       "        vertical-align: middle;\n",
       "    }\n",
       "\n",
       "    .dataframe tbody tr th {\n",
       "        vertical-align: top;\n",
       "    }\n",
       "\n",
       "    .dataframe thead th {\n",
       "        text-align: right;\n",
       "    }\n",
       "</style>\n",
       "<table border=\"1\" class=\"dataframe\">\n",
       "  <thead>\n",
       "    <tr style=\"text-align: right;\">\n",
       "      <th></th>\n",
       "      <th>url</th>\n",
       "      <th>make_model</th>\n",
       "      <th>short_description</th>\n",
       "      <th>body_type</th>\n",
       "      <th>price</th>\n",
       "      <th>vat</th>\n",
       "      <th>km</th>\n",
       "      <th>registration</th>\n",
       "      <th>prev_owner</th>\n",
       "      <th>kW</th>\n",
       "      <th>hp</th>\n",
       "      <th>Type</th>\n",
       "      <th>Previous Owners</th>\n",
       "      <th>Next Inspection</th>\n",
       "      <th>Inspection new</th>\n",
       "      <th>Warranty</th>\n",
       "      <th>Full Service</th>\n",
       "      <th>Non-smoking Vehicle</th>\n",
       "      <th>null</th>\n",
       "      <th>Make</th>\n",
       "      <th>Model</th>\n",
       "      <th>Offer Number</th>\n",
       "      <th>First Registration</th>\n",
       "      <th>Body Color</th>\n",
       "      <th>Paint Type</th>\n",
       "      <th>Body Color Original</th>\n",
       "      <th>Upholstery</th>\n",
       "      <th>Body</th>\n",
       "      <th>Nr. of Doors</th>\n",
       "      <th>Nr. of Seats</th>\n",
       "      <th>Model Code</th>\n",
       "      <th>Gearing Type</th>\n",
       "      <th>Displacement</th>\n",
       "      <th>Cylinders</th>\n",
       "      <th>Weight</th>\n",
       "      <th>Drive chain</th>\n",
       "      <th>Fuel</th>\n",
       "      <th>Consumption</th>\n",
       "      <th>CO2 Emission</th>\n",
       "      <th>Emission Class</th>\n",
       "      <th>\\nComfort &amp; Convenience\\n</th>\n",
       "      <th>\\nEntertainment &amp; Media\\n</th>\n",
       "      <th>\\nExtras\\n</th>\n",
       "      <th>\\nSafety &amp; Security\\n</th>\n",
       "      <th>description</th>\n",
       "      <th>Emission Label</th>\n",
       "      <th>Gears</th>\n",
       "      <th>Country version</th>\n",
       "      <th>Electricity consumption</th>\n",
       "      <th>Last Service Date</th>\n",
       "      <th>Other Fuel Types</th>\n",
       "      <th>Availability</th>\n",
       "      <th>Last Timing Belt Service Date</th>\n",
       "      <th>Available from</th>\n",
       "    </tr>\n",
       "  </thead>\n",
       "  <tbody>\n",
       "    <tr>\n",
       "      <th>15914</th>\n",
       "      <td>https://www.autoscout24.com//offers/renault-espace-blue-dci-200cv-edc-executive-4control-diesel-grey-8de8076f-140e-410c-88ee-ba0312bea2e9</td>\n",
       "      <td>Renault Espace</td>\n",
       "      <td>Blue dCi 200CV EDC Executive 4Control</td>\n",
       "      <td>Van</td>\n",
       "      <td>39950</td>\n",
       "      <td>VAT deductible</td>\n",
       "      <td>- km</td>\n",
       "      <td>-/-</td>\n",
       "      <td>None</td>\n",
       "      <td>NaN</td>\n",
       "      <td>147 kW</td>\n",
       "      <td>[, New, , Diesel (Particulate Filter)]</td>\n",
       "      <td>NaN</td>\n",
       "      <td>NaN</td>\n",
       "      <td>NaN</td>\n",
       "      <td>\\n24 months\\n</td>\n",
       "      <td>NaN</td>\n",
       "      <td>NaN</td>\n",
       "      <td>[]</td>\n",
       "      <td>\\nRenault\\n</td>\n",
       "      <td>[\\n, Espace, \\n]</td>\n",
       "      <td>[\\n10988301\\n]</td>\n",
       "      <td>NaN</td>\n",
       "      <td>[\\n, Grey, \\n]</td>\n",
       "      <td>[\\nMetallic\\n]</td>\n",
       "      <td>[\\nGrigio scuro\\n]</td>\n",
       "      <td>NaN</td>\n",
       "      <td>[\\n, Van, \\n]</td>\n",
       "      <td>[\\n5\\n]</td>\n",
       "      <td>[\\n5\\n]</td>\n",
       "      <td>NaN</td>\n",
       "      <td>[\\n, Automatic, \\n]</td>\n",
       "      <td>[\\n1,997 cc\\n]</td>\n",
       "      <td>[\\n4\\n]</td>\n",
       "      <td>[\\n1,758 kg\\n]</td>\n",
       "      <td>[\\nfront\\n]</td>\n",
       "      <td>[\\n, Diesel (Particulate Filter), \\n]</td>\n",
       "      <td>[[5.3 l/100 km (comb)], [6.2 l/100 km (city)], [4.7 l/100 km (country)]]</td>\n",
       "      <td>[\\n139 g CO2/km (comb)\\n]</td>\n",
       "      <td>NaN</td>\n",
       "      <td>[Air conditioning, Automatic climate control, Cruise control, Electrically adjustable seats, Electrical side mirrors, Hill Holder, Keyless central door lock, Leather steering wheel, Light sensor, Massage seats, Multi-function steering wheel, Navigation system, Park Distance Control, Parking assist system sensors front, Parking assist system sensors rear, Power windows, Rain sensor, Split rear seats, Start-stop system, Tinted windows]</td>\n",
       "      <td>[Bluetooth, Digital radio, Hands-free equipment, On-board computer, Radio, USB]</td>\n",
       "      <td>[Alloy wheels, Touch screen]</td>\n",
       "      <td>[ABS, Central door lock, Central door lock with remote control, Driver-side airbag, Electronic stability control, Emergency brake assistant, Head airbag, Immobilizer, Isofix, Lane departure warning system, LED Daytime Running Lights, LED Headlights, Passenger-side airbag, Power steering, Rear airbag, Side airbag, Tire pressure monitoring system, Traction control, Traffic sign recognition]</td>\n",
       "      <td>[\\nVettura visionabile nella sede in Via Roma 141 a Villorba (TV)., Prezzo escluse spese immatricolazione., Optional inclusi nel prezzo:, - Easy Park Assist con parking camera., Non esiti a contattare i nostri consulenti nella sede di:, Villorba (TV) - Via Roma 141, Numero verde: 800286606 (gratuito), Concessionaria ufficiale per UDINE: Lancia, Alfa Romeo, Subaru, Hyundai, Infiniti. Concessionaria ufficiale per UDINE, TRIESTE e GORIZIA: Kia e Volvo. Concessionaria ufficiale per TRIESTE e GOR...</td>\n",
       "      <td>NaN</td>\n",
       "      <td>[\\n6\\n]</td>\n",
       "      <td>NaN</td>\n",
       "      <td>NaN</td>\n",
       "      <td>NaN</td>\n",
       "      <td>NaN</td>\n",
       "      <td>NaN</td>\n",
       "      <td>NaN</td>\n",
       "      <td>NaN</td>\n",
       "    </tr>\n",
       "    <tr>\n",
       "      <th>15915</th>\n",
       "      <td>https://www.autoscout24.com//offers/renault-espace-tce-225-edc-gpf-lim-deluxe-pano-rfk-gasoline-grey-1114d233-a176-41aa-b324-299ba89998b4</td>\n",
       "      <td>Renault Espace</td>\n",
       "      <td>TCe 225 EDC GPF LIM Deluxe Pano,RFK</td>\n",
       "      <td>Van</td>\n",
       "      <td>39885</td>\n",
       "      <td>VAT deductible</td>\n",
       "      <td>9,900 km</td>\n",
       "      <td>01/2019</td>\n",
       "      <td>1 previous owner</td>\n",
       "      <td>NaN</td>\n",
       "      <td>165 kW</td>\n",
       "      <td>[, Used, , Super 95 / Super Plus 98 (Particulate Filter)]</td>\n",
       "      <td>[\\n1\\n, \\n, 7.4 l/100 km (comb), \\n, 9.2 l/100 km (city), \\n, 6.3 l/100 km (country), \\n]</td>\n",
       "      <td>[\\n01/2022\\n, \\n168 g CO2/km (comb)\\n]</td>\n",
       "      <td>NaN</td>\n",
       "      <td>[\\n, \\n, \\nEuro 6\\n]</td>\n",
       "      <td>NaN</td>\n",
       "      <td>[\\n, \\n, \\n4 (Green)\\n]</td>\n",
       "      <td>[]</td>\n",
       "      <td>\\nRenault\\n</td>\n",
       "      <td>[\\n, Espace, \\n]</td>\n",
       "      <td>[\\n507370_3223\\n]</td>\n",
       "      <td>[\\n, 2019, \\n]</td>\n",
       "      <td>[\\n, Grey, \\n]</td>\n",
       "      <td>[\\nMetallic\\n]</td>\n",
       "      <td>[\\nStahl-Grau Metallic\\n]</td>\n",
       "      <td>[\\nCloth\\n]</td>\n",
       "      <td>[\\n, Van, \\n]</td>\n",
       "      <td>[\\n5\\n]</td>\n",
       "      <td>[\\n5\\n]</td>\n",
       "      <td>[\\n0000/000\\n]</td>\n",
       "      <td>[\\n, Automatic, \\n]</td>\n",
       "      <td>[\\n1,798 cc\\n]</td>\n",
       "      <td>[\\n4\\n]</td>\n",
       "      <td>[\\n1,708 kg\\n]</td>\n",
       "      <td>[\\nfront\\n]</td>\n",
       "      <td>[\\n, Super 95 / Super Plus 98 (Particulate Filter), \\n]</td>\n",
       "      <td>[\\n, 7.4 l/100 km (comb), \\n, 9.2 l/100 km (city), \\n, 6.3 l/100 km (country), \\n]</td>\n",
       "      <td>[\\n168 g CO2/km (comb)\\n]</td>\n",
       "      <td>NaN</td>\n",
       "      <td>[Air conditioning, Automatic climate control, Cruise control, Electrically heated windshield, Electrical side mirrors, Electric tailgate, Heads-up display, Heated steering wheel, Hill Holder, Keyless central door lock, Leather steering wheel, Light sensor, Lumbar support, Navigation system, Park Distance Control, Parking assist system camera, Parking assist system self-steering, Parking assist system sensors front, Parking assist system sensors rear, Power windows, Rain sensor, Seat heating,...</td>\n",
       "      <td>[Bluetooth, Digital radio, Hands-free equipment, Radio, USB]</td>\n",
       "      <td>[Alloy wheels, Touch screen, Voice Control]</td>\n",
       "      <td>[ABS, Adaptive Cruise Control, Blind spot monitor, Central door lock, Daytime running lights, Driver-side airbag, Electronic stability control, Emergency brake assistant, Immobilizer, Isofix, Lane departure warning system, LED Daytime Running Lights, LED Headlights, Passenger-side airbag, Power steering, Side airbag, Tire pressure monitoring system, Traction control, Traffic sign recognition]</td>\n",
       "      <td>[\\nDach: Panorama-Glas-Schiebedach, Lackierung: Metallic, Paket: CRUISING - Adaptiver Tempopilot ACC (bis 150km/h) - Head-up-Display, Paket: LIMITED Deluxe - Easy-Park-Assistent: Teilautomatisches Einparken - Elektrische Heckklappe mit Fußsensor - Rückfahrkamera, Paket: WINTER - Beheizbares Lenkrad - Beheizbare Windschutzscheibe - Beheizbare Sitze in der 2. Sitzreihe, Airbag: Anti Submarining Airbags v/h, Airbag: 2 Seitenairbags vorne, Airbag: Windowbags für Sitzreihen 1 + 2, Airbag Fahrer- ...</td>\n",
       "      <td>NaN</td>\n",
       "      <td>[\\n7\\n]</td>\n",
       "      <td>[\\nGermany\\n]</td>\n",
       "      <td>NaN</td>\n",
       "      <td>NaN</td>\n",
       "      <td>[[], [], []]</td>\n",
       "      <td>\\nin 5 days from ordering\\n</td>\n",
       "      <td>NaN</td>\n",
       "      <td>NaN</td>\n",
       "    </tr>\n",
       "    <tr>\n",
       "      <th>15916</th>\n",
       "      <td>https://www.autoscout24.com//offers/renault-espace-blue-dci-200-edc-initiale-paris-leder-led-navi-key-diesel-white-6256d1a3-ea68-4193-91de-b5b5ffa4631c</td>\n",
       "      <td>Renault Espace</td>\n",
       "      <td>Blue dCi 200 EDC Initiale Paris Leder LED Navi Key</td>\n",
       "      <td>Van</td>\n",
       "      <td>39875</td>\n",
       "      <td>VAT deductible</td>\n",
       "      <td>15 km</td>\n",
       "      <td>03/2019</td>\n",
       "      <td>1 previous owner</td>\n",
       "      <td>NaN</td>\n",
       "      <td>146 kW</td>\n",
       "      <td>[, Pre-registered, , Diesel]</td>\n",
       "      <td>[\\n1\\n, \\n139 g CO2/km (comb)\\n]</td>\n",
       "      <td>NaN</td>\n",
       "      <td>[\\nYes\\n, \\nEuro 6d-TEMP\\n]</td>\n",
       "      <td>[\\n, \\n, \\n4 (Green)\\n]</td>\n",
       "      <td>[\\n, \\n]</td>\n",
       "      <td>[\\n, \\n]</td>\n",
       "      <td>[]</td>\n",
       "      <td>\\nRenault\\n</td>\n",
       "      <td>[\\n, Espace, \\n]</td>\n",
       "      <td>[\\nEspace16\\n]</td>\n",
       "      <td>[\\n, 2019, \\n]</td>\n",
       "      <td>[\\n, White, \\n]</td>\n",
       "      <td>NaN</td>\n",
       "      <td>[\\narktis-weiß\\n]</td>\n",
       "      <td>[\\nFull leather, Black\\n]</td>\n",
       "      <td>[\\n, Van, \\n]</td>\n",
       "      <td>[\\n5\\n]</td>\n",
       "      <td>[\\n7\\n]</td>\n",
       "      <td>NaN</td>\n",
       "      <td>[\\n, Automatic, \\n]</td>\n",
       "      <td>[\\n1,997 cc\\n]</td>\n",
       "      <td>[\\n4\\n]</td>\n",
       "      <td>NaN</td>\n",
       "      <td>[\\nfront\\n]</td>\n",
       "      <td>[\\n, Diesel, \\n]</td>\n",
       "      <td>[[5.3 l/100 km (comb)], [6.2 l/100 km (city)], [4.7 l/100 km (country)]]</td>\n",
       "      <td>[\\n139 g CO2/km (comb)\\n]</td>\n",
       "      <td>[\\nEuro 6d-TEMP\\n]</td>\n",
       "      <td>[Air conditioning, Armrest, Automatic climate control, Cruise control, Electrically heated windshield, Electrical side mirrors, Electric tailgate, Heads-up display, Heated steering wheel, Leather steering wheel, Light sensor, Massage seats, Multi-function steering wheel, Navigation system, Panorama roof, Park Distance Control, Parking assist system camera, Parking assist system sensors front, Parking assist system sensors rear, Power windows, Rain sensor, Seat heating, Seat ventilation, Sunr...</td>\n",
       "      <td>[Bluetooth, Hands-free equipment, On-board computer, Radio]</td>\n",
       "      <td>[Alloy wheels]</td>\n",
       "      <td>[ABS, Adaptive Cruise Control, Blind spot monitor, Central door lock, Daytime running lights, Driver-side airbag, Electronic stability control, Emergency brake assistant, Immobilizer, Isofix, Lane departure warning system, LED Daytime Running Lights, LED Headlights, Passenger-side airbag, Power steering, Side airbag, Traction control, Traffic sign recognition]</td>\n",
       "      <td>[\\n, Getriebe:,  Automatik, Technik:,  Bordcomputer, Assistenten:,  Totwinkel-Assistent, Verkehrszeichenerkennung, Regensensor, Fernlichtassistent, Lichtsensor, Notbremsassistent, Spurhalteassistent, Abstandsregeltempomat, Komfort:,  Servolenkung, Zentralverriegelung, Elektrischer Fensterheber, Lederausstattung, Sitzheizung, Elektrische Aussenspiegel, Teilbare Ruecksitzlehne, Tempomat, Multifunktionslenkrad, Keyless Go Startfunktion, Mittelarmlehne, Lenksaeule einstellbar, ParkDistanceContro...</td>\n",
       "      <td>NaN</td>\n",
       "      <td>[\\n6\\n]</td>\n",
       "      <td>[\\nAustria\\n]</td>\n",
       "      <td>NaN</td>\n",
       "      <td>NaN</td>\n",
       "      <td>NaN</td>\n",
       "      <td>\\nin 120 days from ordering\\n</td>\n",
       "      <td>NaN</td>\n",
       "      <td>NaN</td>\n",
       "    </tr>\n",
       "    <tr>\n",
       "      <th>15917</th>\n",
       "      <td>https://www.autoscout24.com//offers/renault-espace-blue-dci-200cv-edc-business-nuova-da-immatricola-diesel-grey-5b0251a1-bd88-475c-a039-7e499da85d9d</td>\n",
       "      <td>Renault Espace</td>\n",
       "      <td>Blue dCi 200CV EDC Business , NUOVA DA IMMATRICOLA</td>\n",
       "      <td>Van</td>\n",
       "      <td>39700</td>\n",
       "      <td>VAT deductible</td>\n",
       "      <td>10 km</td>\n",
       "      <td>06/2019</td>\n",
       "      <td>None</td>\n",
       "      <td>NaN</td>\n",
       "      <td>147 kW</td>\n",
       "      <td>[, Pre-registered, , Diesel]</td>\n",
       "      <td>NaN</td>\n",
       "      <td>NaN</td>\n",
       "      <td>NaN</td>\n",
       "      <td>\\n</td>\n",
       "      <td>NaN</td>\n",
       "      <td>NaN</td>\n",
       "      <td>[]</td>\n",
       "      <td>\\nRenault\\n</td>\n",
       "      <td>[\\n, Espace, \\n]</td>\n",
       "      <td>[\\n2691331\\n]</td>\n",
       "      <td>[\\n, 2019, \\n]</td>\n",
       "      <td>[\\n, Grey, \\n]</td>\n",
       "      <td>NaN</td>\n",
       "      <td>[\\nGrigio\\n]</td>\n",
       "      <td>[\\nPart leather\\n]</td>\n",
       "      <td>[\\n, Van, \\n]</td>\n",
       "      <td>[\\n5\\n]</td>\n",
       "      <td>[\\n7\\n]</td>\n",
       "      <td>NaN</td>\n",
       "      <td>[\\n, Automatic, \\n]</td>\n",
       "      <td>[\\n1,997 cc\\n]</td>\n",
       "      <td>[\\n4\\n]</td>\n",
       "      <td>[\\n1,758 kg\\n]</td>\n",
       "      <td>[\\nfront\\n]</td>\n",
       "      <td>[\\n, Diesel, \\n]</td>\n",
       "      <td>[[5.3 l/100 km (comb)], [6.2 l/100 km (city)], [4.7 l/100 km (country)]]</td>\n",
       "      <td>[\\n139 g CO2/km (comb)\\n]</td>\n",
       "      <td>[\\nEuro 6\\n]</td>\n",
       "      <td>[Air conditioning, Automatic climate control, Cruise control, Electrically adjustable seats, Electrical side mirrors, Leather steering wheel, Light sensor, Park Distance Control, Power windows, Start-stop system]</td>\n",
       "      <td>[Bluetooth, Digital radio, Radio, USB]</td>\n",
       "      <td>[Alloy wheels, Touch screen]</td>\n",
       "      <td>[ABS, Blind spot monitor, Driver-side airbag, Electronic stability control, Emergency brake assistant, Isofix, LED Headlights, Passenger-side airbag, Power steering, Side airbag, Tire pressure monitoring system, Traffic sign recognition]</td>\n",
       "      <td>[\\nDEK:[2691331], Renault Espace Blue dCi 200CV EDC Business, Nuova da Immatricolare, COLORE: Grigio Titanio, INTERNO: Pelle+Tessuto, TRASMISSIONE: Cambio Automatico EDC, ---, ACCESSORI: , 7 Posti, , , Cerchi in Lega 17, Navigatore con Display 8.7, Clima Automatico, Sensori di Parcheggio Anteriori e Posteriori con Retrocamera, Fari Full LED Pure Vision, Cruise Control, Renault Multisense, ---, Listino Nuovo 44.300 Euro, Prezzo Gruppo Carmeli: 39.700 Euro (Esclusa IPT e Messa in Strada), IVA ...</td>\n",
       "      <td>NaN</td>\n",
       "      <td>[\\n6\\n]</td>\n",
       "      <td>NaN</td>\n",
       "      <td>NaN</td>\n",
       "      <td>NaN</td>\n",
       "      <td>NaN</td>\n",
       "      <td>NaN</td>\n",
       "      <td>NaN</td>\n",
       "      <td>NaN</td>\n",
       "    </tr>\n",
       "    <tr>\n",
       "      <th>15918</th>\n",
       "      <td>https://www.autoscout24.com//offers/renault-espace-initiale-paris-tce-225-edc-gpf-navi-shz-aux-gasoline-grey-0bd690d9-7e93-4cab-bc5a-9d5b63402481</td>\n",
       "      <td>Renault Espace</td>\n",
       "      <td>INITIALE PARIS TCe 225 EDC GPF NAVI SHZ AUX</td>\n",
       "      <td>Van</td>\n",
       "      <td>40999</td>\n",
       "      <td>VAT deductible</td>\n",
       "      <td>- km</td>\n",
       "      <td>01/2019</td>\n",
       "      <td>1 previous owner</td>\n",
       "      <td>NaN</td>\n",
       "      <td>165 kW</td>\n",
       "      <td>[, Demonstration, , Super 95]</td>\n",
       "      <td>\\n1\\n</td>\n",
       "      <td>NaN</td>\n",
       "      <td>[\\nYes\\n, \\n153 g CO2/km (comb)\\n]</td>\n",
       "      <td>NaN</td>\n",
       "      <td>NaN</td>\n",
       "      <td>NaN</td>\n",
       "      <td>[]</td>\n",
       "      <td>\\nRenault\\n</td>\n",
       "      <td>[\\n, Espace, \\n]</td>\n",
       "      <td>[\\nRe_30000008029\\n]</td>\n",
       "      <td>[\\n, 2019, \\n]</td>\n",
       "      <td>[\\n, Grey, \\n]</td>\n",
       "      <td>[\\nMetallic\\n]</td>\n",
       "      <td>[\\nTitanium-Grau Metallic\\n]</td>\n",
       "      <td>[\\nFull leather, Brown\\n]</td>\n",
       "      <td>[\\n, Van, \\n]</td>\n",
       "      <td>[\\n5\\n]</td>\n",
       "      <td>[\\n5\\n]</td>\n",
       "      <td>[\\n3333/BHJ\\n]</td>\n",
       "      <td>[\\n, Automatic, \\n]</td>\n",
       "      <td>[\\n1,798 cc\\n]</td>\n",
       "      <td>[\\n4\\n]</td>\n",
       "      <td>[\\n1,685 kg\\n]</td>\n",
       "      <td>[\\n4WD\\n]</td>\n",
       "      <td>[\\n, Super 95, \\n]</td>\n",
       "      <td>[[6.8 l/100 km (comb)], [8.7 l/100 km (city)], [5.7 l/100 km (country)]]</td>\n",
       "      <td>[\\n153 g CO2/km (comb)\\n]</td>\n",
       "      <td>[\\nEuro 6\\n]</td>\n",
       "      <td>[Air conditioning, Automatic climate control, Cruise control, Electrically adjustable seats, Electrical side mirrors, Electric tailgate, Hill Holder, Leather steering wheel, Navigation system, Power windows, Seat heating]</td>\n",
       "      <td>[USB]</td>\n",
       "      <td>[Alloy wheels, Touch screen]</td>\n",
       "      <td>[ABS, Blind spot monitor, Daytime running lights, Driver-side airbag, Electronic stability control, Emergency brake assistant, Immobilizer, Isofix, LED Daytime Running Lights, Passenger-side airbag, Power steering, Side airbag, Tire pressure monitoring system, Traffic sign recognition]</td>\n",
       "      <td>[\\n, Sicherheit Airbags:,  , Seitenairbag,  , Fahrerairbag,  , Beifahrerairbag,  , Sicherheit:,  , Rückfahrkamera,  , Reifendruckkontrolle,  , ABS,  , elektr. Stabilitätsprogramm (ESP),  , ISOFIX Kindersitzhalterung,  , Tagfahrlicht,  , Kindersitze integriert,  , Wegfahrsperre,  , Spiegel automatisch abblendbar,  , Servolenkung,  , 3. Bremsleuchte,  , LED-Tagfahrlicht,  , Notbremsassistent,  , Totwinkel-Assistent,  , Verkehrszeichenerkennung,  , Fernlichtassistent,  , Geschwindigkeitsbegrenz...</td>\n",
       "      <td>[\\n4 (Green)\\n]</td>\n",
       "      <td>NaN</td>\n",
       "      <td>[\\nGermany\\n]</td>\n",
       "      <td>NaN</td>\n",
       "      <td>NaN</td>\n",
       "      <td>NaN</td>\n",
       "      <td>NaN</td>\n",
       "      <td>NaN</td>\n",
       "      <td>NaN</td>\n",
       "    </tr>\n",
       "  </tbody>\n",
       "</table>\n",
       "</div>"
      ],
      "text/plain": [
       "                                                                                                                                                           url      make_model                                   short_description body_type  price             vat        km registration        prev_owner  kW      hp                                                       Type                                                                            Previous Owners                         Next Inspection                      Inspection new                 Warranty Full Service      Non-smoking Vehicle null         Make             Model          Offer Number First Registration       Body Color      Paint Type           Body Color Original                 Upholstery           Body Nr. of Doors Nr. of Seats      Model Code         Gearing Type    Displacement Cylinders          Weight  Drive chain                                                     Fuel                                                                         Consumption               CO2 Emission      Emission Class                                                                                                                                                                                                                                                                                                                                                                                                                                                                                            \\nComfort & Convenience\\n                                                        \\nEntertainment & Media\\n                                   \\nExtras\\n  \\\n",
       "15914                https://www.autoscout24.com//offers/renault-espace-blue-dci-200cv-edc-executive-4control-diesel-grey-8de8076f-140e-410c-88ee-ba0312bea2e9  Renault Espace               Blue dCi 200CV EDC Executive 4Control       Van  39950  VAT deductible      - km          -/-              None NaN  147 kW                     [, New, , Diesel (Particulate Filter)]                                                                                        NaN                                     NaN                                 NaN            \\n24 months\\n          NaN                      NaN   []  \\nRenault\\n  [\\n, Espace, \\n]        [\\n10988301\\n]                NaN   [\\n, Grey, \\n]  [\\nMetallic\\n]            [\\nGrigio scuro\\n]                        NaN  [\\n, Van, \\n]      [\\n5\\n]      [\\n5\\n]             NaN  [\\n, Automatic, \\n]  [\\n1,997 cc\\n]   [\\n4\\n]  [\\n1,758 kg\\n]  [\\nfront\\n]                    [\\n, Diesel (Particulate Filter), \\n]            [[5.3 l/100 km (comb)], [6.2 l/100 km (city)], [4.7 l/100 km (country)]]  [\\n139 g CO2/km (comb)\\n]                 NaN                                                                [Air conditioning, Automatic climate control, Cruise control, Electrically adjustable seats, Electrical side mirrors, Hill Holder, Keyless central door lock, Leather steering wheel, Light sensor, Massage seats, Multi-function steering wheel, Navigation system, Park Distance Control, Parking assist system sensors front, Parking assist system sensors rear, Power windows, Rain sensor, Split rear seats, Start-stop system, Tinted windows]  [Bluetooth, Digital radio, Hands-free equipment, On-board computer, Radio, USB]                 [Alloy wheels, Touch screen]   \n",
       "15915                https://www.autoscout24.com//offers/renault-espace-tce-225-edc-gpf-lim-deluxe-pano-rfk-gasoline-grey-1114d233-a176-41aa-b324-299ba89998b4  Renault Espace                 TCe 225 EDC GPF LIM Deluxe Pano,RFK       Van  39885  VAT deductible  9,900 km      01/2019  1 previous owner NaN  165 kW  [, Used, , Super 95 / Super Plus 98 (Particulate Filter)]  [\\n1\\n, \\n, 7.4 l/100 km (comb), \\n, 9.2 l/100 km (city), \\n, 6.3 l/100 km (country), \\n]  [\\n01/2022\\n, \\n168 g CO2/km (comb)\\n]                                 NaN     [\\n, \\n, \\nEuro 6\\n]          NaN  [\\n, \\n, \\n4 (Green)\\n]   []  \\nRenault\\n  [\\n, Espace, \\n]     [\\n507370_3223\\n]     [\\n, 2019, \\n]   [\\n, Grey, \\n]  [\\nMetallic\\n]     [\\nStahl-Grau Metallic\\n]                [\\nCloth\\n]  [\\n, Van, \\n]      [\\n5\\n]      [\\n5\\n]  [\\n0000/000\\n]  [\\n, Automatic, \\n]  [\\n1,798 cc\\n]   [\\n4\\n]  [\\n1,708 kg\\n]  [\\nfront\\n]  [\\n, Super 95 / Super Plus 98 (Particulate Filter), \\n]  [\\n, 7.4 l/100 km (comb), \\n, 9.2 l/100 km (city), \\n, 6.3 l/100 km (country), \\n]  [\\n168 g CO2/km (comb)\\n]                 NaN  [Air conditioning, Automatic climate control, Cruise control, Electrically heated windshield, Electrical side mirrors, Electric tailgate, Heads-up display, Heated steering wheel, Hill Holder, Keyless central door lock, Leather steering wheel, Light sensor, Lumbar support, Navigation system, Park Distance Control, Parking assist system camera, Parking assist system self-steering, Parking assist system sensors front, Parking assist system sensors rear, Power windows, Rain sensor, Seat heating,...                     [Bluetooth, Digital radio, Hands-free equipment, Radio, USB]  [Alloy wheels, Touch screen, Voice Control]   \n",
       "15916  https://www.autoscout24.com//offers/renault-espace-blue-dci-200-edc-initiale-paris-leder-led-navi-key-diesel-white-6256d1a3-ea68-4193-91de-b5b5ffa4631c  Renault Espace  Blue dCi 200 EDC Initiale Paris Leder LED Navi Key       Van  39875  VAT deductible     15 km      03/2019  1 previous owner NaN  146 kW                               [, Pre-registered, , Diesel]                                                           [\\n1\\n, \\n139 g CO2/km (comb)\\n]                                     NaN         [\\nYes\\n, \\nEuro 6d-TEMP\\n]  [\\n, \\n, \\n4 (Green)\\n]     [\\n, \\n]                 [\\n, \\n]   []  \\nRenault\\n  [\\n, Espace, \\n]        [\\nEspace16\\n]     [\\n, 2019, \\n]  [\\n, White, \\n]             NaN             [\\narktis-weiß\\n]  [\\nFull leather, Black\\n]  [\\n, Van, \\n]      [\\n5\\n]      [\\n7\\n]             NaN  [\\n, Automatic, \\n]  [\\n1,997 cc\\n]   [\\n4\\n]             NaN  [\\nfront\\n]                                         [\\n, Diesel, \\n]            [[5.3 l/100 km (comb)], [6.2 l/100 km (city)], [4.7 l/100 km (country)]]  [\\n139 g CO2/km (comb)\\n]  [\\nEuro 6d-TEMP\\n]  [Air conditioning, Armrest, Automatic climate control, Cruise control, Electrically heated windshield, Electrical side mirrors, Electric tailgate, Heads-up display, Heated steering wheel, Leather steering wheel, Light sensor, Massage seats, Multi-function steering wheel, Navigation system, Panorama roof, Park Distance Control, Parking assist system camera, Parking assist system sensors front, Parking assist system sensors rear, Power windows, Rain sensor, Seat heating, Seat ventilation, Sunr...                      [Bluetooth, Hands-free equipment, On-board computer, Radio]                               [Alloy wheels]   \n",
       "15917     https://www.autoscout24.com//offers/renault-espace-blue-dci-200cv-edc-business-nuova-da-immatricola-diesel-grey-5b0251a1-bd88-475c-a039-7e499da85d9d  Renault Espace  Blue dCi 200CV EDC Business , NUOVA DA IMMATRICOLA       Van  39700  VAT deductible     10 km      06/2019              None NaN  147 kW                               [, Pre-registered, , Diesel]                                                                                        NaN                                     NaN                                 NaN                       \\n          NaN                      NaN   []  \\nRenault\\n  [\\n, Espace, \\n]         [\\n2691331\\n]     [\\n, 2019, \\n]   [\\n, Grey, \\n]             NaN                  [\\nGrigio\\n]         [\\nPart leather\\n]  [\\n, Van, \\n]      [\\n5\\n]      [\\n7\\n]             NaN  [\\n, Automatic, \\n]  [\\n1,997 cc\\n]   [\\n4\\n]  [\\n1,758 kg\\n]  [\\nfront\\n]                                         [\\n, Diesel, \\n]            [[5.3 l/100 km (comb)], [6.2 l/100 km (city)], [4.7 l/100 km (country)]]  [\\n139 g CO2/km (comb)\\n]        [\\nEuro 6\\n]                                                                                                                                                                                                                                                                                                 [Air conditioning, Automatic climate control, Cruise control, Electrically adjustable seats, Electrical side mirrors, Leather steering wheel, Light sensor, Park Distance Control, Power windows, Start-stop system]                                           [Bluetooth, Digital radio, Radio, USB]                 [Alloy wheels, Touch screen]   \n",
       "15918        https://www.autoscout24.com//offers/renault-espace-initiale-paris-tce-225-edc-gpf-navi-shz-aux-gasoline-grey-0bd690d9-7e93-4cab-bc5a-9d5b63402481  Renault Espace         INITIALE PARIS TCe 225 EDC GPF NAVI SHZ AUX       Van  40999  VAT deductible      - km      01/2019  1 previous owner NaN  165 kW                              [, Demonstration, , Super 95]                                                                                      \\n1\\n                                     NaN  [\\nYes\\n, \\n153 g CO2/km (comb)\\n]                      NaN          NaN                      NaN   []  \\nRenault\\n  [\\n, Espace, \\n]  [\\nRe_30000008029\\n]     [\\n, 2019, \\n]   [\\n, Grey, \\n]  [\\nMetallic\\n]  [\\nTitanium-Grau Metallic\\n]  [\\nFull leather, Brown\\n]  [\\n, Van, \\n]      [\\n5\\n]      [\\n5\\n]  [\\n3333/BHJ\\n]  [\\n, Automatic, \\n]  [\\n1,798 cc\\n]   [\\n4\\n]  [\\n1,685 kg\\n]    [\\n4WD\\n]                                       [\\n, Super 95, \\n]            [[6.8 l/100 km (comb)], [8.7 l/100 km (city)], [5.7 l/100 km (country)]]  [\\n153 g CO2/km (comb)\\n]        [\\nEuro 6\\n]                                                                                                                                                                                                                                                                                        [Air conditioning, Automatic climate control, Cruise control, Electrically adjustable seats, Electrical side mirrors, Electric tailgate, Hill Holder, Leather steering wheel, Navigation system, Power windows, Seat heating]                                                                            [USB]                 [Alloy wheels, Touch screen]   \n",
       "\n",
       "                                                                                                                                                                                                                                                                                                                                                                                             \\nSafety & Security\\n                                                                                                                                                                                                                                                                                                                                                                                                                                                                                                          description   Emission Label    Gears Country version Electricity consumption Last Service Date Other Fuel Types                   Availability Last Timing Belt Service Date Available from  \n",
       "15914      [ABS, Central door lock, Central door lock with remote control, Driver-side airbag, Electronic stability control, Emergency brake assistant, Head airbag, Immobilizer, Isofix, Lane departure warning system, LED Daytime Running Lights, LED Headlights, Passenger-side airbag, Power steering, Rear airbag, Side airbag, Tire pressure monitoring system, Traction control, Traffic sign recognition]  [\\nVettura visionabile nella sede in Via Roma 141 a Villorba (TV)., Prezzo escluse spese immatricolazione., Optional inclusi nel prezzo:, - Easy Park Assist con parking camera., Non esiti a contattare i nostri consulenti nella sede di:, Villorba (TV) - Via Roma 141, Numero verde: 800286606 (gratuito), Concessionaria ufficiale per UDINE: Lancia, Alfa Romeo, Subaru, Hyundai, Infiniti. Concessionaria ufficiale per UDINE, TRIESTE e GORIZIA: Kia e Volvo. Concessionaria ufficiale per TRIESTE e GOR...              NaN  [\\n6\\n]             NaN                     NaN               NaN              NaN                            NaN                           NaN            NaN  \n",
       "15915  [ABS, Adaptive Cruise Control, Blind spot monitor, Central door lock, Daytime running lights, Driver-side airbag, Electronic stability control, Emergency brake assistant, Immobilizer, Isofix, Lane departure warning system, LED Daytime Running Lights, LED Headlights, Passenger-side airbag, Power steering, Side airbag, Tire pressure monitoring system, Traction control, Traffic sign recognition]  [\\nDach: Panorama-Glas-Schiebedach, Lackierung: Metallic, Paket: CRUISING - Adaptiver Tempopilot ACC (bis 150km/h) - Head-up-Display, Paket: LIMITED Deluxe - Easy-Park-Assistent: Teilautomatisches Einparken - Elektrische Heckklappe mit Fußsensor - Rückfahrkamera, Paket: WINTER - Beheizbares Lenkrad - Beheizbare Windschutzscheibe - Beheizbare Sitze in der 2. Sitzreihe, Airbag: Anti Submarining Airbags v/h, Airbag: 2 Seitenairbags vorne, Airbag: Windowbags für Sitzreihen 1 + 2, Airbag Fahrer- ...              NaN  [\\n7\\n]   [\\nGermany\\n]                     NaN               NaN     [[], [], []]    \\nin 5 days from ordering\\n                           NaN            NaN  \n",
       "15916                                   [ABS, Adaptive Cruise Control, Blind spot monitor, Central door lock, Daytime running lights, Driver-side airbag, Electronic stability control, Emergency brake assistant, Immobilizer, Isofix, Lane departure warning system, LED Daytime Running Lights, LED Headlights, Passenger-side airbag, Power steering, Side airbag, Traction control, Traffic sign recognition]  [\\n, Getriebe:,  Automatik, Technik:,  Bordcomputer, Assistenten:,  Totwinkel-Assistent, Verkehrszeichenerkennung, Regensensor, Fernlichtassistent, Lichtsensor, Notbremsassistent, Spurhalteassistent, Abstandsregeltempomat, Komfort:,  Servolenkung, Zentralverriegelung, Elektrischer Fensterheber, Lederausstattung, Sitzheizung, Elektrische Aussenspiegel, Teilbare Ruecksitzlehne, Tempomat, Multifunktionslenkrad, Keyless Go Startfunktion, Mittelarmlehne, Lenksaeule einstellbar, ParkDistanceContro...              NaN  [\\n6\\n]   [\\nAustria\\n]                     NaN               NaN              NaN  \\nin 120 days from ordering\\n                           NaN            NaN  \n",
       "15917                                                                                                                                                                [ABS, Blind spot monitor, Driver-side airbag, Electronic stability control, Emergency brake assistant, Isofix, LED Headlights, Passenger-side airbag, Power steering, Side airbag, Tire pressure monitoring system, Traffic sign recognition]  [\\nDEK:[2691331], Renault Espace Blue dCi 200CV EDC Business, Nuova da Immatricolare, COLORE: Grigio Titanio, INTERNO: Pelle+Tessuto, TRASMISSIONE: Cambio Automatico EDC, ---, ACCESSORI: , 7 Posti, , , Cerchi in Lega 17, Navigatore con Display 8.7, Clima Automatico, Sensori di Parcheggio Anteriori e Posteriori con Retrocamera, Fari Full LED Pure Vision, Cruise Control, Renault Multisense, ---, Listino Nuovo 44.300 Euro, Prezzo Gruppo Carmeli: 39.700 Euro (Esclusa IPT e Messa in Strada), IVA ...              NaN  [\\n6\\n]             NaN                     NaN               NaN              NaN                            NaN                           NaN            NaN  \n",
       "15918                                                                                                               [ABS, Blind spot monitor, Daytime running lights, Driver-side airbag, Electronic stability control, Emergency brake assistant, Immobilizer, Isofix, LED Daytime Running Lights, Passenger-side airbag, Power steering, Side airbag, Tire pressure monitoring system, Traffic sign recognition]  [\\n, Sicherheit Airbags:,  , Seitenairbag,  , Fahrerairbag,  , Beifahrerairbag,  , Sicherheit:,  , Rückfahrkamera,  , Reifendruckkontrolle,  , ABS,  , elektr. Stabilitätsprogramm (ESP),  , ISOFIX Kindersitzhalterung,  , Tagfahrlicht,  , Kindersitze integriert,  , Wegfahrsperre,  , Spiegel automatisch abblendbar,  , Servolenkung,  , 3. Bremsleuchte,  , LED-Tagfahrlicht,  , Notbremsassistent,  , Totwinkel-Assistent,  , Verkehrszeichenerkennung,  , Fernlichtassistent,  , Geschwindigkeitsbegrenz...  [\\n4 (Green)\\n]      NaN   [\\nGermany\\n]                     NaN               NaN              NaN                            NaN                           NaN            NaN  "
      ]
     },
     "execution_count": 1920,
     "metadata": {},
     "output_type": "execute_result"
    }
   ],
   "source": [
    "data.tail()"
   ]
  },
  {
   "cell_type": "markdown",
   "metadata": {},
   "source": [
    "# Now let's try to examine our dataframe"
   ]
  },
  {
   "cell_type": "code",
   "execution_count": 1921,
   "metadata": {},
   "outputs": [
    {
     "data": {
      "text/plain": [
       "(15919, 54)"
      ]
     },
     "execution_count": 1921,
     "metadata": {},
     "output_type": "execute_result"
    }
   ],
   "source": [
    "data.shape"
   ]
  },
  {
   "cell_type": "code",
   "execution_count": 1922,
   "metadata": {},
   "outputs": [
    {
     "data": {
      "text/html": [
       "<div>\n",
       "<style scoped>\n",
       "    .dataframe tbody tr th:only-of-type {\n",
       "        vertical-align: middle;\n",
       "    }\n",
       "\n",
       "    .dataframe tbody tr th {\n",
       "        vertical-align: top;\n",
       "    }\n",
       "\n",
       "    .dataframe thead th {\n",
       "        text-align: right;\n",
       "    }\n",
       "</style>\n",
       "<table border=\"1\" class=\"dataframe\">\n",
       "  <thead>\n",
       "    <tr style=\"text-align: right;\">\n",
       "      <th></th>\n",
       "      <th>price</th>\n",
       "      <th>kW</th>\n",
       "    </tr>\n",
       "  </thead>\n",
       "  <tbody>\n",
       "    <tr>\n",
       "      <th>count</th>\n",
       "      <td>15919.000000</td>\n",
       "      <td>0.0</td>\n",
       "    </tr>\n",
       "    <tr>\n",
       "      <th>mean</th>\n",
       "      <td>18019.896727</td>\n",
       "      <td>NaN</td>\n",
       "    </tr>\n",
       "    <tr>\n",
       "      <th>std</th>\n",
       "      <td>7386.169409</td>\n",
       "      <td>NaN</td>\n",
       "    </tr>\n",
       "    <tr>\n",
       "      <th>min</th>\n",
       "      <td>13.000000</td>\n",
       "      <td>NaN</td>\n",
       "    </tr>\n",
       "    <tr>\n",
       "      <th>25%</th>\n",
       "      <td>12850.000000</td>\n",
       "      <td>NaN</td>\n",
       "    </tr>\n",
       "    <tr>\n",
       "      <th>50%</th>\n",
       "      <td>16900.000000</td>\n",
       "      <td>NaN</td>\n",
       "    </tr>\n",
       "    <tr>\n",
       "      <th>75%</th>\n",
       "      <td>21900.000000</td>\n",
       "      <td>NaN</td>\n",
       "    </tr>\n",
       "    <tr>\n",
       "      <th>max</th>\n",
       "      <td>74600.000000</td>\n",
       "      <td>NaN</td>\n",
       "    </tr>\n",
       "  </tbody>\n",
       "</table>\n",
       "</div>"
      ],
      "text/plain": [
       "              price   kW\n",
       "count  15919.000000  0.0\n",
       "mean   18019.896727  NaN\n",
       "std     7386.169409  NaN\n",
       "min       13.000000  NaN\n",
       "25%    12850.000000  NaN\n",
       "50%    16900.000000  NaN\n",
       "75%    21900.000000  NaN\n",
       "max    74600.000000  NaN"
      ]
     },
     "execution_count": 1922,
     "metadata": {},
     "output_type": "execute_result"
    }
   ],
   "source": [
    "data.describe()"
   ]
  },
  {
   "cell_type": "code",
   "execution_count": 1923,
   "metadata": {},
   "outputs": [
    {
     "name": "stdout",
     "output_type": "stream",
     "text": [
      "<class 'pandas.core.frame.DataFrame'>\n",
      "RangeIndex: 15919 entries, 0 to 15918\n",
      "Data columns (total 54 columns):\n",
      " #   Column                         Dtype  \n",
      "---  ------                         -----  \n",
      " 0   url                            object \n",
      " 1   make_model                     object \n",
      " 2   short_description              object \n",
      " 3   body_type                      object \n",
      " 4   price                          int64  \n",
      " 5   vat                            object \n",
      " 6   km                             object \n",
      " 7   registration                   object \n",
      " 8   prev_owner                     object \n",
      " 9   kW                             float64\n",
      " 10  hp                             object \n",
      " 11  Type                           object \n",
      " 12  Previous Owners                object \n",
      " 13  Next Inspection                object \n",
      " 14  Inspection new                 object \n",
      " 15  Warranty                       object \n",
      " 16  Full Service                   object \n",
      " 17  Non-smoking Vehicle            object \n",
      " 18  null                           object \n",
      " 19  Make                           object \n",
      " 20  Model                          object \n",
      " 21  Offer Number                   object \n",
      " 22  First Registration             object \n",
      " 23  Body Color                     object \n",
      " 24  Paint Type                     object \n",
      " 25  Body Color Original            object \n",
      " 26  Upholstery                     object \n",
      " 27  Body                           object \n",
      " 28  Nr. of Doors                   object \n",
      " 29  Nr. of Seats                   object \n",
      " 30  Model Code                     object \n",
      " 31  Gearing Type                   object \n",
      " 32  Displacement                   object \n",
      " 33  Cylinders                      object \n",
      " 34  Weight                         object \n",
      " 35  Drive chain                    object \n",
      " 36  Fuel                           object \n",
      " 37  Consumption                    object \n",
      " 38  CO2 Emission                   object \n",
      " 39  Emission Class                 object \n",
      " 40  \n",
      "Comfort & Convenience\n",
      "        object \n",
      " 41  \n",
      "Entertainment & Media\n",
      "        object \n",
      " 42  \n",
      "Extras\n",
      "                       object \n",
      " 43  \n",
      "Safety & Security\n",
      "            object \n",
      " 44  description                    object \n",
      " 45  Emission Label                 object \n",
      " 46  Gears                          object \n",
      " 47  Country version                object \n",
      " 48  Electricity consumption        object \n",
      " 49  Last Service Date              object \n",
      " 50  Other Fuel Types               object \n",
      " 51  Availability                   object \n",
      " 52  Last Timing Belt Service Date  object \n",
      " 53  Available from                 object \n",
      "dtypes: float64(1), int64(1), object(52)\n",
      "memory usage: 6.6+ MB\n"
     ]
    }
   ],
   "source": [
    "data.info()"
   ]
  },
  {
   "cell_type": "markdown",
   "metadata": {},
   "source": [
    "# Handling with Missing Values."
   ]
  },
  {
   "cell_type": "markdown",
   "metadata": {},
   "source": [
    "* Identifying the amount of the Missing Values"
   ]
  },
  {
   "cell_type": "code",
   "execution_count": 1924,
   "metadata": {},
   "outputs": [
    {
     "data": {
      "text/plain": [
       "url                                0.000000\n",
       "make_model                         0.000000\n",
       "short_description                  0.288963\n",
       "body_type                          0.376908\n",
       "price                              0.000000\n",
       "vat                               28.349771\n",
       "km                                 0.000000\n",
       "registration                       0.000000\n",
       "prev_owner                        42.892141\n",
       "kW                               100.000000\n",
       "hp                                 0.000000\n",
       "Type                               0.012564\n",
       "Previous Owners                   41.711163\n",
       "Next Inspection                   77.793831\n",
       "Inspection new                    75.299956\n",
       "Warranty                          34.047365\n",
       "Full Service                      48.395000\n",
       "Non-smoking Vehicle               54.915510\n",
       "null                               0.000000\n",
       "Make                               0.000000\n",
       "Model                              0.000000\n",
       "Offer Number                      19.944720\n",
       "First Registration                10.032037\n",
       "Body Color                         3.750236\n",
       "Paint Type                        36.258559\n",
       "Body Color Original               23.613292\n",
       "Upholstery                        23.368302\n",
       "Body                               0.376908\n",
       "Nr. of Doors                       1.331742\n",
       "Nr. of Seats                       6.137320\n",
       "Model Code                        68.729192\n",
       "Gearing Type                       0.000000\n",
       "Displacement                       3.115774\n",
       "Cylinders                         35.680633\n",
       "Weight                            43.809285\n",
       "Drive chain                       43.080596\n",
       "Fuel                               0.000000\n",
       "Consumption                       11.973114\n",
       "CO2 Emission                      11.357497\n",
       "Emission Class                    18.977323\n",
       "\\nComfort & Convenience\\n          5.779257\n",
       "\\nEntertainment & Media\\n          8.631195\n",
       "\\nExtras\\n                        18.606696\n",
       "\\nSafety & Security\\n              6.168729\n",
       "description                        0.000000\n",
       "Emission Label                    74.967021\n",
       "Gears                             29.599849\n",
       "Country version                   52.346253\n",
       "Electricity consumption           99.139393\n",
       "Last Service Date                 96.444500\n",
       "Other Fuel Types                  94.472015\n",
       "Availability                      96.011056\n",
       "Last Timing Belt Service Date     99.899491\n",
       "Available from                    98.291350\n",
       "dtype: float64"
      ]
     },
     "execution_count": 1924,
     "metadata": {},
     "output_type": "execute_result"
    }
   ],
   "source": [
    "data.isnull().sum()*100 / data.shape[0]"
   ]
  },
  {
   "cell_type": "code",
   "execution_count": 1925,
   "metadata": {},
   "outputs": [],
   "source": [
    "col_list = list(data.columns)"
   ]
  },
  {
   "cell_type": "code",
   "execution_count": 1926,
   "metadata": {},
   "outputs": [
    {
     "data": {
      "text/plain": [
       "['url',\n",
       " 'make_model',\n",
       " 'short_description',\n",
       " 'body_type',\n",
       " 'price',\n",
       " 'vat',\n",
       " 'km',\n",
       " 'registration',\n",
       " 'prev_owner',\n",
       " 'kW',\n",
       " 'hp',\n",
       " 'Type',\n",
       " 'Previous Owners',\n",
       " 'Next Inspection',\n",
       " 'Inspection new',\n",
       " 'Warranty',\n",
       " 'Full Service',\n",
       " 'Non-smoking Vehicle',\n",
       " 'null',\n",
       " 'Make',\n",
       " 'Model',\n",
       " 'Offer Number',\n",
       " 'First Registration',\n",
       " 'Body Color',\n",
       " 'Paint Type',\n",
       " 'Body Color Original',\n",
       " 'Upholstery',\n",
       " 'Body',\n",
       " 'Nr. of Doors',\n",
       " 'Nr. of Seats',\n",
       " 'Model Code',\n",
       " 'Gearing Type',\n",
       " 'Displacement',\n",
       " 'Cylinders',\n",
       " 'Weight',\n",
       " 'Drive chain',\n",
       " 'Fuel',\n",
       " 'Consumption',\n",
       " 'CO2 Emission',\n",
       " 'Emission Class',\n",
       " '\\nComfort & Convenience\\n',\n",
       " '\\nEntertainment & Media\\n',\n",
       " '\\nExtras\\n',\n",
       " '\\nSafety & Security\\n',\n",
       " 'description',\n",
       " 'Emission Label',\n",
       " 'Gears',\n",
       " 'Country version',\n",
       " 'Electricity consumption',\n",
       " 'Last Service Date',\n",
       " 'Other Fuel Types',\n",
       " 'Availability',\n",
       " 'Last Timing Belt Service Date',\n",
       " 'Available from']"
      ]
     },
     "execution_count": 1926,
     "metadata": {},
     "output_type": "execute_result"
    }
   ],
   "source": [
    "col_list"
   ]
  },
  {
   "cell_type": "markdown",
   "metadata": {},
   "source": [
    "## At the begining we can focus on the columns that have %35 precentage and higher of missing values."
   ]
  },
  {
   "cell_type": "code",
   "execution_count": 1927,
   "metadata": {
    "scrolled": true
   },
   "outputs": [
    {
     "data": {
      "text/plain": [
       "prev_owner                        42.892141\n",
       "kW                               100.000000\n",
       "Previous Owners                   41.711163\n",
       "Next Inspection                   77.793831\n",
       "Inspection new                    75.299956\n",
       "Full Service                      48.395000\n",
       "Non-smoking Vehicle               54.915510\n",
       "Paint Type                        36.258559\n",
       "Model Code                        68.729192\n",
       "Cylinders                         35.680633\n",
       "Weight                            43.809285\n",
       "Drive chain                       43.080596\n",
       "Emission Label                    74.967021\n",
       "Country version                   52.346253\n",
       "Electricity consumption           99.139393\n",
       "Last Service Date                 96.444500\n",
       "Other Fuel Types                  94.472015\n",
       "Availability                      96.011056\n",
       "Last Timing Belt Service Date     99.899491\n",
       "Available from                    98.291350\n",
       "dtype: float64"
      ]
     },
     "execution_count": 1927,
     "metadata": {},
     "output_type": "execute_result"
    }
   ],
   "source": [
    "def show_nans(data, limit):\n",
    "    missing = data.isnull().sum()*100/data.shape[0]\n",
    "    return missing.loc[lambda x : x > limit] \n",
    "show_nans(data, 35)"
   ]
  },
  {
   "cell_type": "markdown",
   "metadata": {},
   "source": [
    "* We can drop the columns that has %90 missing values"
   ]
  },
  {
   "cell_type": "markdown",
   "metadata": {},
   "source": [
    "- ``'Availability'``, ``'Available from'``, ``'Electricity consumption'``, ``'Last Service Date'``, ``'Last Timing Belt Service Date'``, ``'Other Fuel Types'``, ``'kW'``"
   ]
  },
  {
   "cell_type": "code",
   "execution_count": 1928,
   "metadata": {},
   "outputs": [],
   "source": [
    "data.drop(['Availability','Available from','Electricity consumption','Last Service Date','Last Timing Belt Service Date',\n",
    "         'Other Fuel Types','kW'], axis=1, inplace = True)"
   ]
  },
  {
   "cell_type": "code",
   "execution_count": 1929,
   "metadata": {},
   "outputs": [],
   "source": [
    "# drop_list = [\"Availability\", \"Available from\", \"Electricity consumption\", \"Last Service Date\", \"Last Timing Belt Service Date\",\n",
    "#            \"Other Fuel Types\", \"kW\" ]\n",
    "# oto.drop(drop_list, axis =1, inplace = True)"
   ]
  },
  {
   "cell_type": "code",
   "execution_count": 1930,
   "metadata": {},
   "outputs": [
    {
     "data": {
      "text/html": [
       "<div>\n",
       "<style scoped>\n",
       "    .dataframe tbody tr th:only-of-type {\n",
       "        vertical-align: middle;\n",
       "    }\n",
       "\n",
       "    .dataframe tbody tr th {\n",
       "        vertical-align: top;\n",
       "    }\n",
       "\n",
       "    .dataframe thead th {\n",
       "        text-align: right;\n",
       "    }\n",
       "</style>\n",
       "<table border=\"1\" class=\"dataframe\">\n",
       "  <thead>\n",
       "    <tr style=\"text-align: right;\">\n",
       "      <th></th>\n",
       "      <th>url</th>\n",
       "      <th>make_model</th>\n",
       "      <th>short_description</th>\n",
       "      <th>body_type</th>\n",
       "      <th>price</th>\n",
       "      <th>vat</th>\n",
       "      <th>km</th>\n",
       "      <th>registration</th>\n",
       "      <th>prev_owner</th>\n",
       "      <th>hp</th>\n",
       "      <th>Type</th>\n",
       "      <th>Previous Owners</th>\n",
       "      <th>Next Inspection</th>\n",
       "      <th>Inspection new</th>\n",
       "      <th>Warranty</th>\n",
       "      <th>Full Service</th>\n",
       "      <th>Non-smoking Vehicle</th>\n",
       "      <th>null</th>\n",
       "      <th>Make</th>\n",
       "      <th>Model</th>\n",
       "      <th>Offer Number</th>\n",
       "      <th>First Registration</th>\n",
       "      <th>Body Color</th>\n",
       "      <th>Paint Type</th>\n",
       "      <th>Body Color Original</th>\n",
       "      <th>Upholstery</th>\n",
       "      <th>Body</th>\n",
       "      <th>Nr. of Doors</th>\n",
       "      <th>Nr. of Seats</th>\n",
       "      <th>Model Code</th>\n",
       "      <th>Gearing Type</th>\n",
       "      <th>Displacement</th>\n",
       "      <th>Cylinders</th>\n",
       "      <th>Weight</th>\n",
       "      <th>Drive chain</th>\n",
       "      <th>Fuel</th>\n",
       "      <th>Consumption</th>\n",
       "      <th>CO2 Emission</th>\n",
       "      <th>Emission Class</th>\n",
       "      <th>\\nComfort &amp; Convenience\\n</th>\n",
       "      <th>\\nEntertainment &amp; Media\\n</th>\n",
       "      <th>\\nExtras\\n</th>\n",
       "      <th>\\nSafety &amp; Security\\n</th>\n",
       "      <th>description</th>\n",
       "      <th>Emission Label</th>\n",
       "      <th>Gears</th>\n",
       "      <th>Country version</th>\n",
       "    </tr>\n",
       "  </thead>\n",
       "  <tbody>\n",
       "    <tr>\n",
       "      <th>0</th>\n",
       "      <td>https://www.autoscout24.com//offers/audi-a1-sportback-1-4-tdi-s-tronic-xenon-navi-klima-diesel-black-bdab349a-caa5-41b0-98eb-c1345b84445e</td>\n",
       "      <td>Audi A1</td>\n",
       "      <td>Sportback 1.4 TDI S-tronic Xenon Navi Klima</td>\n",
       "      <td>Sedans</td>\n",
       "      <td>15770</td>\n",
       "      <td>VAT deductible</td>\n",
       "      <td>56,013 km</td>\n",
       "      <td>01/2016</td>\n",
       "      <td>2 previous owners</td>\n",
       "      <td>66 kW</td>\n",
       "      <td>[, Used, , Diesel (Particulate Filter)]</td>\n",
       "      <td>\\n2\\n</td>\n",
       "      <td>[\\n06/2021\\n, \\n99 g CO2/km (comb)\\n]</td>\n",
       "      <td>[\\nYes\\n, \\nEuro 6\\n]</td>\n",
       "      <td>[\\n, \\n, \\n4 (Green)\\n]</td>\n",
       "      <td>[\\n, \\n]</td>\n",
       "      <td>[\\n, \\n]</td>\n",
       "      <td>[]</td>\n",
       "      <td>\\nAudi\\n</td>\n",
       "      <td>[\\n, A1, \\n]</td>\n",
       "      <td>[\\nLR-062483\\n]</td>\n",
       "      <td>[\\n, 2016, \\n]</td>\n",
       "      <td>[\\n, Black, \\n]</td>\n",
       "      <td>[\\nMetallic\\n]</td>\n",
       "      <td>[\\nMythosschwarz\\n]</td>\n",
       "      <td>[\\nCloth, Black\\n]</td>\n",
       "      <td>[\\n, Sedans, \\n]</td>\n",
       "      <td>[\\n5\\n]</td>\n",
       "      <td>[\\n5\\n]</td>\n",
       "      <td>[\\n0588/BDF\\n]</td>\n",
       "      <td>[\\n, Automatic, \\n]</td>\n",
       "      <td>[\\n1,422 cc\\n]</td>\n",
       "      <td>[\\n3\\n]</td>\n",
       "      <td>[\\n1,220 kg\\n]</td>\n",
       "      <td>[\\nfront\\n]</td>\n",
       "      <td>[\\n, Diesel (Particulate Filter), \\n]</td>\n",
       "      <td>[[3.8 l/100 km (comb)], [4.3 l/100 km (city)], [3.5 l/100 km (country)]]</td>\n",
       "      <td>[\\n99 g CO2/km (comb)\\n]</td>\n",
       "      <td>[\\nEuro 6\\n]</td>\n",
       "      <td>[Air conditioning, Armrest, Automatic climate control, Cruise control, Electrical side mirrors, Hill Holder, Leather steering wheel, Light sensor, Multi-function steering wheel, Navigation system, Park Distance Control, Parking assist system sensors rear, Power windows, Rain sensor, Seat heating, Start-stop system]</td>\n",
       "      <td>[Bluetooth, Hands-free equipment, On-board computer, Radio]</td>\n",
       "      <td>[Alloy wheels, Catalytic Converter, Voice Control]</td>\n",
       "      <td>[ABS, Central door lock, Daytime running lights, Driver-side airbag, Electronic stability control, Fog lights, Immobilizer, Isofix, Passenger-side airbag, Power steering, Side airbag, Tire pressure monitoring system, Traction control, Xenon headlights]</td>\n",
       "      <td>[\\n, Sicherheit:,  , Deaktivierung für Beifahrer-Airbag,  , ESC mit elektronischer Quersperre,  , Tagfahrlicht,  , Reifendruck-Kontrollanzeige,  , Kopfairbag-System mit Seiten-Airbags vorn,  , Sicherheitslenksäule, Assistenzsysteme:,  , Berganfahrassistent, Komfort:,  , Scheinwerferreinigung,  , Xenon plus inklusive Scheinwerfer-Reinigungsanlage,  , Scheinwerfer-Reinigungsanlage,  , Einparkhilfe hinten,  , Licht-/Regensensor,  , Funkfernbedienung,  , Elektrische Luftzusatzheizung, Interieur:...</td>\n",
       "      <td>NaN</td>\n",
       "      <td>NaN</td>\n",
       "      <td>NaN</td>\n",
       "    </tr>\n",
       "    <tr>\n",
       "      <th>1</th>\n",
       "      <td>https://www.autoscout24.com//offers/audi-a1-1-8-tfsi-sport-gasoline-red-b2547f8a-e83f-6237-e053-e250040a56df</td>\n",
       "      <td>Audi A1</td>\n",
       "      <td>1.8 TFSI sport</td>\n",
       "      <td>Sedans</td>\n",
       "      <td>14500</td>\n",
       "      <td>Price negotiable</td>\n",
       "      <td>80,000 km</td>\n",
       "      <td>03/2017</td>\n",
       "      <td>None</td>\n",
       "      <td>141 kW</td>\n",
       "      <td>[, Used, , Gasoline]</td>\n",
       "      <td>NaN</td>\n",
       "      <td>NaN</td>\n",
       "      <td>NaN</td>\n",
       "      <td>NaN</td>\n",
       "      <td>NaN</td>\n",
       "      <td>NaN</td>\n",
       "      <td>[]</td>\n",
       "      <td>\\nAudi\\n</td>\n",
       "      <td>[\\n, A1, \\n]</td>\n",
       "      <td>NaN</td>\n",
       "      <td>[\\n, 2017, \\n]</td>\n",
       "      <td>[\\n, Red, \\n]</td>\n",
       "      <td>NaN</td>\n",
       "      <td>NaN</td>\n",
       "      <td>[\\nCloth, Grey\\n]</td>\n",
       "      <td>[\\n, Sedans, \\n]</td>\n",
       "      <td>[\\n3\\n]</td>\n",
       "      <td>[\\n4\\n]</td>\n",
       "      <td>[\\n0588/BCY\\n]</td>\n",
       "      <td>[\\n, Automatic, \\n]</td>\n",
       "      <td>[\\n1,798 cc\\n]</td>\n",
       "      <td>[\\n4\\n]</td>\n",
       "      <td>[\\n1,255 kg\\n]</td>\n",
       "      <td>[\\nfront\\n]</td>\n",
       "      <td>[\\n, Gasoline, \\n]</td>\n",
       "      <td>[[5.6 l/100 km (comb)], [7.1 l/100 km (city)], [4.7 l/100 km (country)]]</td>\n",
       "      <td>[\\n129 g CO2/km (comb)\\n]</td>\n",
       "      <td>[\\nEuro 6\\n]</td>\n",
       "      <td>[Air conditioning, Automatic climate control, Hill Holder, Leather steering wheel, Lumbar support, Parking assist system sensors rear, Power windows, Start-stop system, Tinted windows]</td>\n",
       "      <td>[Bluetooth, Hands-free equipment, On-board computer, Radio, Sound system]</td>\n",
       "      <td>[Alloy wheels, Sport seats, Sport suspension, Voice Control]</td>\n",
       "      <td>[ABS, Central door lock, Central door lock with remote control, Daytime running lights, Driver-side airbag, Electronic stability control, Head airbag, Immobilizer, Isofix, Passenger-side airbag, Power steering, Side airbag, Tire pressure monitoring system, Traction control, Xenon headlights]</td>\n",
       "      <td>[\\nLangstreckenfahrzeug daher die hohe Kilometerleistung. , Bremsen neu bei 62000 km. , Gut gepflegter A1\\n]</td>\n",
       "      <td>[\\n4 (Green)\\n]</td>\n",
       "      <td>[\\n7\\n]</td>\n",
       "      <td>NaN</td>\n",
       "    </tr>\n",
       "    <tr>\n",
       "      <th>2</th>\n",
       "      <td>https://www.autoscout24.com//offers/audi-a1-sportback-1-6-tdi-s-tronic-einparkhilfe-plus-music-diesel-black-6183cb6a-8570-4b86-a132-9b54214bca88</td>\n",
       "      <td>Audi A1</td>\n",
       "      <td>Sportback 1.6 TDI S tronic Einparkhilfe plus+music</td>\n",
       "      <td>Sedans</td>\n",
       "      <td>14640</td>\n",
       "      <td>VAT deductible</td>\n",
       "      <td>83,450 km</td>\n",
       "      <td>02/2016</td>\n",
       "      <td>1 previous owner</td>\n",
       "      <td>85 kW</td>\n",
       "      <td>[, Used, , Diesel (Particulate Filter)]</td>\n",
       "      <td>\\n1\\n</td>\n",
       "      <td>NaN</td>\n",
       "      <td>NaN</td>\n",
       "      <td>[\\n, \\n, \\n99 g CO2/km (comb)\\n]</td>\n",
       "      <td>NaN</td>\n",
       "      <td>NaN</td>\n",
       "      <td>[]</td>\n",
       "      <td>\\nAudi\\n</td>\n",
       "      <td>[\\n, A1, \\n]</td>\n",
       "      <td>[\\nAM-95365\\n]</td>\n",
       "      <td>[\\n, 2016, \\n]</td>\n",
       "      <td>[\\n, Black, \\n]</td>\n",
       "      <td>[\\nMetallic\\n]</td>\n",
       "      <td>[\\nmythosschwarz metallic\\n]</td>\n",
       "      <td>[\\nCloth, Black\\n]</td>\n",
       "      <td>[\\n, Sedans, \\n]</td>\n",
       "      <td>[\\n4\\n]</td>\n",
       "      <td>[\\n4\\n]</td>\n",
       "      <td>NaN</td>\n",
       "      <td>[\\n, Automatic, \\n]</td>\n",
       "      <td>[\\n1,598 cc\\n]</td>\n",
       "      <td>NaN</td>\n",
       "      <td>NaN</td>\n",
       "      <td>[\\nfront\\n]</td>\n",
       "      <td>[\\n, Diesel (Particulate Filter), \\n]</td>\n",
       "      <td>[[3.8 l/100 km (comb)], [4.4 l/100 km (city)], [3.4 l/100 km (country)]]</td>\n",
       "      <td>[\\n99 g CO2/km (comb)\\n]</td>\n",
       "      <td>[\\nEuro 6\\n]</td>\n",
       "      <td>[Air conditioning, Cruise control, Electrical side mirrors, Hill Holder, Leather steering wheel, Multi-function steering wheel, Navigation system, Park Distance Control, Parking assist system sensors front, Parking assist system sensors rear, Power windows, Seat heating, Start-stop system]</td>\n",
       "      <td>[MP3, On-board computer]</td>\n",
       "      <td>[Alloy wheels, Voice Control]</td>\n",
       "      <td>[ABS, Central door lock, Daytime running lights, Driver-side airbag, Electronic stability control, Immobilizer, Isofix, Passenger-side airbag, Power steering, Side airbag, Tire pressure monitoring system, Traction control]</td>\n",
       "      <td>[\\n, Fahrzeug-Nummer: AM-95365,  , Ehem. UPE 24.640 EUR,  , Komfort,  , Klimaanlage,  , Elektrische Fensterheber,  , Sitzheizung,  , Tempomat,  , Zentralverriegelung,  , Leder-Lenkrad,  , Elektrische Spiegel,  , Wärmedämmendes Glas,  , Anfahrassistent,  , Sicherheit,  , Window/Kopfairbags,  , ESP (el. Stabilitäts Programm),  , Elektronische Wegfahrsperre,  , Reifendruckkontrolle,  , Tagfahrlicht,  , Exterieur,  , Alufelgen 16 Zoll,  , Einparkhilfe vo + hi,  , Interieur,  , Stoff Zeitgeist,  ...</td>\n",
       "      <td>[\\n4 (Green)\\n]</td>\n",
       "      <td>NaN</td>\n",
       "      <td>NaN</td>\n",
       "    </tr>\n",
       "    <tr>\n",
       "      <th>3</th>\n",
       "      <td>https://www.autoscout24.com//offers/audi-a1-1-4-tdi-design-s-tronic-diesel-brown-35c86585-2727-d61e-e053-e250040ad640</td>\n",
       "      <td>Audi A1</td>\n",
       "      <td>1.4 TDi Design S tronic</td>\n",
       "      <td>Sedans</td>\n",
       "      <td>14500</td>\n",
       "      <td>None</td>\n",
       "      <td>73,000 km</td>\n",
       "      <td>08/2016</td>\n",
       "      <td>1 previous owner</td>\n",
       "      <td>66 kW</td>\n",
       "      <td>[, Used, , Diesel (Particulate Filter)]</td>\n",
       "      <td>\\n1\\n</td>\n",
       "      <td>NaN</td>\n",
       "      <td>NaN</td>\n",
       "      <td>NaN</td>\n",
       "      <td>[\\n, \\n, \\n99 g CO2/km (comb)\\n]</td>\n",
       "      <td>[\\n, \\n, \\nEuro 6\\n]</td>\n",
       "      <td>[]</td>\n",
       "      <td>\\nAudi\\n</td>\n",
       "      <td>[\\n, A1, \\n]</td>\n",
       "      <td>NaN</td>\n",
       "      <td>[\\n, 2016, \\n]</td>\n",
       "      <td>[\\n, Brown, \\n]</td>\n",
       "      <td>[\\nMetallic\\n]</td>\n",
       "      <td>NaN</td>\n",
       "      <td>NaN</td>\n",
       "      <td>[\\n, Sedans, \\n]</td>\n",
       "      <td>[\\n3\\n]</td>\n",
       "      <td>[\\n4\\n]</td>\n",
       "      <td>NaN</td>\n",
       "      <td>[\\n, Automatic, \\n]</td>\n",
       "      <td>[\\n1,422 cc\\n]</td>\n",
       "      <td>[\\n3\\n]</td>\n",
       "      <td>[\\n1,195 kg\\n]</td>\n",
       "      <td>NaN</td>\n",
       "      <td>[\\n, Diesel (Particulate Filter), \\n]</td>\n",
       "      <td>[[3.8 l/100 km (comb)], [4.3 l/100 km (city)], [3.5 l/100 km (country)]]</td>\n",
       "      <td>[\\n99 g CO2/km (comb)\\n]</td>\n",
       "      <td>[\\nEuro 6\\n]</td>\n",
       "      <td>[Air suspension, Armrest, Auxiliary heating, Electrical side mirrors, Heads-up display, Hill Holder, Leather steering wheel, Light sensor, Lumbar support, Multi-function steering wheel, Navigation system, Power windows, Rain sensor, Seat heating, Split rear seats, Start-stop system]</td>\n",
       "      <td>[Bluetooth, CD player, Hands-free equipment, MP3, On-board computer, Radio, Sound system, USB]</td>\n",
       "      <td>[Alloy wheels, Sport seats, Voice Control]</td>\n",
       "      <td>[ABS, Alarm system, Central door lock with remote control, Driver drowsiness detection, Driver-side airbag, Electronic stability control, Emergency system, Head airbag, Immobilizer, Isofix, Passenger-side airbag, Power steering, Side airbag, Tire pressure monitoring system]</td>\n",
       "      <td>[\\nAudi A1: , - 1e eigenaar , - Perfecte staat: schade/ongevalvrij , - Onderhoudsboekje Audi garage , - Full option!, - S-line opties, - Automaat, lederen bekleding, navi-pro, Xenon lampen, zetelverwarming, automatische airco,...\\n]</td>\n",
       "      <td>NaN</td>\n",
       "      <td>[\\n6\\n]</td>\n",
       "      <td>NaN</td>\n",
       "    </tr>\n",
       "    <tr>\n",
       "      <th>4</th>\n",
       "      <td>https://www.autoscout24.com//offers/audi-a1-sportback-1-4-tdi-s-tronic-s-line-ext-admired-xe-diesel-black-b86b55d8-9c7c-4a58-b658-b97008a51efc</td>\n",
       "      <td>Audi A1</td>\n",
       "      <td>Sportback 1.4 TDI S-Tronic S-Line Ext. admired, Xe</td>\n",
       "      <td>Sedans</td>\n",
       "      <td>16790</td>\n",
       "      <td>None</td>\n",
       "      <td>16,200 km</td>\n",
       "      <td>05/2016</td>\n",
       "      <td>1 previous owner</td>\n",
       "      <td>66 kW</td>\n",
       "      <td>[, Used, , Diesel (Particulate Filter)]</td>\n",
       "      <td>\\n1\\n</td>\n",
       "      <td>NaN</td>\n",
       "      <td>[\\nYes\\n, \\n109 g CO2/km (comb)\\n]</td>\n",
       "      <td>[\\n, \\n, \\nEuro 6\\n]</td>\n",
       "      <td>[\\n, \\n, \\n4 (Green)\\n]</td>\n",
       "      <td>[\\n, \\n]</td>\n",
       "      <td>[]</td>\n",
       "      <td>\\nAudi\\n</td>\n",
       "      <td>[\\n, A1, \\n]</td>\n",
       "      <td>[\\nC1626\\n]</td>\n",
       "      <td>[\\n, 2016, \\n]</td>\n",
       "      <td>[\\n, Black, \\n]</td>\n",
       "      <td>[\\nMetallic\\n]</td>\n",
       "      <td>[\\nMythosschwarz Metallic\\n]</td>\n",
       "      <td>[\\nCloth, Black\\n]</td>\n",
       "      <td>[\\n, Sedans, \\n]</td>\n",
       "      <td>[\\n5\\n]</td>\n",
       "      <td>[\\n5\\n]</td>\n",
       "      <td>[\\n0588/BDF\\n]</td>\n",
       "      <td>[\\n, Automatic, \\n]</td>\n",
       "      <td>[\\n1,422 cc\\n]</td>\n",
       "      <td>[\\n3\\n]</td>\n",
       "      <td>NaN</td>\n",
       "      <td>[\\nfront\\n]</td>\n",
       "      <td>[\\n, Diesel (Particulate Filter), \\n]</td>\n",
       "      <td>[[4.1 l/100 km (comb)], [4.6 l/100 km (city)], [3.8 l/100 km (country)]]</td>\n",
       "      <td>[\\n109 g CO2/km (comb)\\n]</td>\n",
       "      <td>[\\nEuro 6\\n]</td>\n",
       "      <td>[Air conditioning, Armrest, Automatic climate control, Electrical side mirrors, Hill Holder, Leather steering wheel, Light sensor, Multi-function steering wheel, Park Distance Control, Parking assist system sensors rear, Power windows, Rain sensor, Start-stop system]</td>\n",
       "      <td>[Bluetooth, CD player, Hands-free equipment, MP3, On-board computer, Radio, USB]</td>\n",
       "      <td>[Alloy wheels, Sport package, Sport suspension, Voice Control]</td>\n",
       "      <td>[ABS, Central door lock, Driver-side airbag, Electronic stability control, Fog lights, Immobilizer, Isofix, Passenger-side airbag, Power steering, Side airbag, Tire pressure monitoring system, Traction control, Xenon headlights]</td>\n",
       "      <td>[\\n, Technik &amp; Sicherheit:, Xenon plus, Klimaautomatik, Einparkhilfe hinten, Scheinwerferreinigungsanlage, Nebelscheinwerfer, Zentralverriegelung mit Fernbedienung, Außenspiegel elek. einstellbar, Fensterheber elek, Start/Stop Anlage, 6 Airbag inkl. Kopfairbag, Euro 6, Multimedia:, Radio CD Concert, audi music interface, Handyvorbereitung (Bluetooth), Sprachsteuerung, USB Anschluss, Assistenzsysteme:, Lichtsensor, Regensensor, Berganfahrassistent, Reifendruckkontrolle, ESP inkl. ABS, Interie...</td>\n",
       "      <td>NaN</td>\n",
       "      <td>NaN</td>\n",
       "      <td>[\\nGermany\\n]</td>\n",
       "    </tr>\n",
       "  </tbody>\n",
       "</table>\n",
       "</div>"
      ],
      "text/plain": [
       "                                                                                                                                                url make_model                                   short_description body_type  price               vat         km registration         prev_owner      hp                                     Type Previous Owners                        Next Inspection                      Inspection new                          Warranty                      Full Service   Non-smoking Vehicle null      Make         Model     Offer Number First Registration       Body Color      Paint Type           Body Color Original          Upholstery              Body Nr. of Doors Nr. of Seats      Model Code         Gearing Type    Displacement Cylinders          Weight  Drive chain                                   Fuel                                                               Consumption               CO2 Emission Emission Class                                                                                                                                                                                                                                                                                                     \\nComfort & Convenience\\n                                                                       \\nEntertainment & Media\\n                                                      \\nExtras\\n                                                                                                                                                                                                                                                                                 \\nSafety & Security\\n  \\\n",
       "0         https://www.autoscout24.com//offers/audi-a1-sportback-1-4-tdi-s-tronic-xenon-navi-klima-diesel-black-bdab349a-caa5-41b0-98eb-c1345b84445e    Audi A1         Sportback 1.4 TDI S-tronic Xenon Navi Klima    Sedans  15770    VAT deductible  56,013 km      01/2016  2 previous owners   66 kW  [, Used, , Diesel (Particulate Filter)]           \\n2\\n  [\\n06/2021\\n, \\n99 g CO2/km (comb)\\n]               [\\nYes\\n, \\nEuro 6\\n]           [\\n, \\n, \\n4 (Green)\\n]                          [\\n, \\n]              [\\n, \\n]   []  \\nAudi\\n  [\\n, A1, \\n]  [\\nLR-062483\\n]     [\\n, 2016, \\n]  [\\n, Black, \\n]  [\\nMetallic\\n]           [\\nMythosschwarz\\n]  [\\nCloth, Black\\n]  [\\n, Sedans, \\n]      [\\n5\\n]      [\\n5\\n]  [\\n0588/BDF\\n]  [\\n, Automatic, \\n]  [\\n1,422 cc\\n]   [\\n3\\n]  [\\n1,220 kg\\n]  [\\nfront\\n]  [\\n, Diesel (Particulate Filter), \\n]  [[3.8 l/100 km (comb)], [4.3 l/100 km (city)], [3.5 l/100 km (country)]]   [\\n99 g CO2/km (comb)\\n]   [\\nEuro 6\\n]  [Air conditioning, Armrest, Automatic climate control, Cruise control, Electrical side mirrors, Hill Holder, Leather steering wheel, Light sensor, Multi-function steering wheel, Navigation system, Park Distance Control, Parking assist system sensors rear, Power windows, Rain sensor, Seat heating, Start-stop system]                                     [Bluetooth, Hands-free equipment, On-board computer, Radio]              [Alloy wheels, Catalytic Converter, Voice Control]                                          [ABS, Central door lock, Daytime running lights, Driver-side airbag, Electronic stability control, Fog lights, Immobilizer, Isofix, Passenger-side airbag, Power steering, Side airbag, Tire pressure monitoring system, Traction control, Xenon headlights]   \n",
       "1                                      https://www.autoscout24.com//offers/audi-a1-1-8-tfsi-sport-gasoline-red-b2547f8a-e83f-6237-e053-e250040a56df    Audi A1                                      1.8 TFSI sport    Sedans  14500  Price negotiable  80,000 km      03/2017               None  141 kW                     [, Used, , Gasoline]             NaN                                    NaN                                 NaN                               NaN                               NaN                   NaN   []  \\nAudi\\n  [\\n, A1, \\n]              NaN     [\\n, 2017, \\n]    [\\n, Red, \\n]             NaN                           NaN   [\\nCloth, Grey\\n]  [\\n, Sedans, \\n]      [\\n3\\n]      [\\n4\\n]  [\\n0588/BCY\\n]  [\\n, Automatic, \\n]  [\\n1,798 cc\\n]   [\\n4\\n]  [\\n1,255 kg\\n]  [\\nfront\\n]                     [\\n, Gasoline, \\n]  [[5.6 l/100 km (comb)], [7.1 l/100 km (city)], [4.7 l/100 km (country)]]  [\\n129 g CO2/km (comb)\\n]   [\\nEuro 6\\n]                                                                                                                                      [Air conditioning, Automatic climate control, Hill Holder, Leather steering wheel, Lumbar support, Parking assist system sensors rear, Power windows, Start-stop system, Tinted windows]                       [Bluetooth, Hands-free equipment, On-board computer, Radio, Sound system]    [Alloy wheels, Sport seats, Sport suspension, Voice Control]  [ABS, Central door lock, Central door lock with remote control, Daytime running lights, Driver-side airbag, Electronic stability control, Head airbag, Immobilizer, Isofix, Passenger-side airbag, Power steering, Side airbag, Tire pressure monitoring system, Traction control, Xenon headlights]   \n",
       "2  https://www.autoscout24.com//offers/audi-a1-sportback-1-6-tdi-s-tronic-einparkhilfe-plus-music-diesel-black-6183cb6a-8570-4b86-a132-9b54214bca88    Audi A1  Sportback 1.6 TDI S tronic Einparkhilfe plus+music    Sedans  14640    VAT deductible  83,450 km      02/2016   1 previous owner   85 kW  [, Used, , Diesel (Particulate Filter)]           \\n1\\n                                    NaN                                 NaN  [\\n, \\n, \\n99 g CO2/km (comb)\\n]                               NaN                   NaN   []  \\nAudi\\n  [\\n, A1, \\n]   [\\nAM-95365\\n]     [\\n, 2016, \\n]  [\\n, Black, \\n]  [\\nMetallic\\n]  [\\nmythosschwarz metallic\\n]  [\\nCloth, Black\\n]  [\\n, Sedans, \\n]      [\\n4\\n]      [\\n4\\n]             NaN  [\\n, Automatic, \\n]  [\\n1,598 cc\\n]       NaN             NaN  [\\nfront\\n]  [\\n, Diesel (Particulate Filter), \\n]  [[3.8 l/100 km (comb)], [4.4 l/100 km (city)], [3.4 l/100 km (country)]]   [\\n99 g CO2/km (comb)\\n]   [\\nEuro 6\\n]                            [Air conditioning, Cruise control, Electrical side mirrors, Hill Holder, Leather steering wheel, Multi-function steering wheel, Navigation system, Park Distance Control, Parking assist system sensors front, Parking assist system sensors rear, Power windows, Seat heating, Start-stop system]                                                                        [MP3, On-board computer]                                   [Alloy wheels, Voice Control]                                                                        [ABS, Central door lock, Daytime running lights, Driver-side airbag, Electronic stability control, Immobilizer, Isofix, Passenger-side airbag, Power steering, Side airbag, Tire pressure monitoring system, Traction control]   \n",
       "3                             https://www.autoscout24.com//offers/audi-a1-1-4-tdi-design-s-tronic-diesel-brown-35c86585-2727-d61e-e053-e250040ad640    Audi A1                             1.4 TDi Design S tronic    Sedans  14500              None  73,000 km      08/2016   1 previous owner   66 kW  [, Used, , Diesel (Particulate Filter)]           \\n1\\n                                    NaN                                 NaN                               NaN  [\\n, \\n, \\n99 g CO2/km (comb)\\n]  [\\n, \\n, \\nEuro 6\\n]   []  \\nAudi\\n  [\\n, A1, \\n]              NaN     [\\n, 2016, \\n]  [\\n, Brown, \\n]  [\\nMetallic\\n]                           NaN                 NaN  [\\n, Sedans, \\n]      [\\n3\\n]      [\\n4\\n]             NaN  [\\n, Automatic, \\n]  [\\n1,422 cc\\n]   [\\n3\\n]  [\\n1,195 kg\\n]          NaN  [\\n, Diesel (Particulate Filter), \\n]  [[3.8 l/100 km (comb)], [4.3 l/100 km (city)], [3.5 l/100 km (country)]]   [\\n99 g CO2/km (comb)\\n]   [\\nEuro 6\\n]                                   [Air suspension, Armrest, Auxiliary heating, Electrical side mirrors, Heads-up display, Hill Holder, Leather steering wheel, Light sensor, Lumbar support, Multi-function steering wheel, Navigation system, Power windows, Rain sensor, Seat heating, Split rear seats, Start-stop system]  [Bluetooth, CD player, Hands-free equipment, MP3, On-board computer, Radio, Sound system, USB]                      [Alloy wheels, Sport seats, Voice Control]                    [ABS, Alarm system, Central door lock with remote control, Driver drowsiness detection, Driver-side airbag, Electronic stability control, Emergency system, Head airbag, Immobilizer, Isofix, Passenger-side airbag, Power steering, Side airbag, Tire pressure monitoring system]   \n",
       "4    https://www.autoscout24.com//offers/audi-a1-sportback-1-4-tdi-s-tronic-s-line-ext-admired-xe-diesel-black-b86b55d8-9c7c-4a58-b658-b97008a51efc    Audi A1  Sportback 1.4 TDI S-Tronic S-Line Ext. admired, Xe    Sedans  16790              None  16,200 km      05/2016   1 previous owner   66 kW  [, Used, , Diesel (Particulate Filter)]           \\n1\\n                                    NaN  [\\nYes\\n, \\n109 g CO2/km (comb)\\n]              [\\n, \\n, \\nEuro 6\\n]           [\\n, \\n, \\n4 (Green)\\n]              [\\n, \\n]   []  \\nAudi\\n  [\\n, A1, \\n]      [\\nC1626\\n]     [\\n, 2016, \\n]  [\\n, Black, \\n]  [\\nMetallic\\n]  [\\nMythosschwarz Metallic\\n]  [\\nCloth, Black\\n]  [\\n, Sedans, \\n]      [\\n5\\n]      [\\n5\\n]  [\\n0588/BDF\\n]  [\\n, Automatic, \\n]  [\\n1,422 cc\\n]   [\\n3\\n]             NaN  [\\nfront\\n]  [\\n, Diesel (Particulate Filter), \\n]  [[4.1 l/100 km (comb)], [4.6 l/100 km (city)], [3.8 l/100 km (country)]]  [\\n109 g CO2/km (comb)\\n]   [\\nEuro 6\\n]                                                   [Air conditioning, Armrest, Automatic climate control, Electrical side mirrors, Hill Holder, Leather steering wheel, Light sensor, Multi-function steering wheel, Park Distance Control, Parking assist system sensors rear, Power windows, Rain sensor, Start-stop system]                [Bluetooth, CD player, Hands-free equipment, MP3, On-board computer, Radio, USB]  [Alloy wheels, Sport package, Sport suspension, Voice Control]                                                                  [ABS, Central door lock, Driver-side airbag, Electronic stability control, Fog lights, Immobilizer, Isofix, Passenger-side airbag, Power steering, Side airbag, Tire pressure monitoring system, Traction control, Xenon headlights]   \n",
       "\n",
       "                                                                                                                                                                                                                                                                                                                                                                                                                                                                                                           description   Emission Label    Gears Country version  \n",
       "0  [\\n, Sicherheit:,  , Deaktivierung für Beifahrer-Airbag,  , ESC mit elektronischer Quersperre,  , Tagfahrlicht,  , Reifendruck-Kontrollanzeige,  , Kopfairbag-System mit Seiten-Airbags vorn,  , Sicherheitslenksäule, Assistenzsysteme:,  , Berganfahrassistent, Komfort:,  , Scheinwerferreinigung,  , Xenon plus inklusive Scheinwerfer-Reinigungsanlage,  , Scheinwerfer-Reinigungsanlage,  , Einparkhilfe hinten,  , Licht-/Regensensor,  , Funkfernbedienung,  , Elektrische Luftzusatzheizung, Interieur:...              NaN      NaN             NaN  \n",
       "1                                                                                                                                                                                                                                                                                                                                                                                                         [\\nLangstreckenfahrzeug daher die hohe Kilometerleistung. , Bremsen neu bei 62000 km. , Gut gepflegter A1\\n]  [\\n4 (Green)\\n]  [\\n7\\n]             NaN  \n",
       "2  [\\n, Fahrzeug-Nummer: AM-95365,  , Ehem. UPE 24.640 EUR,  , Komfort,  , Klimaanlage,  , Elektrische Fensterheber,  , Sitzheizung,  , Tempomat,  , Zentralverriegelung,  , Leder-Lenkrad,  , Elektrische Spiegel,  , Wärmedämmendes Glas,  , Anfahrassistent,  , Sicherheit,  , Window/Kopfairbags,  , ESP (el. Stabilitäts Programm),  , Elektronische Wegfahrsperre,  , Reifendruckkontrolle,  , Tagfahrlicht,  , Exterieur,  , Alufelgen 16 Zoll,  , Einparkhilfe vo + hi,  , Interieur,  , Stoff Zeitgeist,  ...  [\\n4 (Green)\\n]      NaN             NaN  \n",
       "3                                                                                                                                                                                                                                                                             [\\nAudi A1: , - 1e eigenaar , - Perfecte staat: schade/ongevalvrij , - Onderhoudsboekje Audi garage , - Full option!, - S-line opties, - Automaat, lederen bekleding, navi-pro, Xenon lampen, zetelverwarming, automatische airco,...\\n]              NaN  [\\n6\\n]             NaN  \n",
       "4  [\\n, Technik & Sicherheit:, Xenon plus, Klimaautomatik, Einparkhilfe hinten, Scheinwerferreinigungsanlage, Nebelscheinwerfer, Zentralverriegelung mit Fernbedienung, Außenspiegel elek. einstellbar, Fensterheber elek, Start/Stop Anlage, 6 Airbag inkl. Kopfairbag, Euro 6, Multimedia:, Radio CD Concert, audi music interface, Handyvorbereitung (Bluetooth), Sprachsteuerung, USB Anschluss, Assistenzsysteme:, Lichtsensor, Regensensor, Berganfahrassistent, Reifendruckkontrolle, ESP inkl. ABS, Interie...              NaN      NaN   [\\nGermany\\n]  "
      ]
     },
     "execution_count": 1930,
     "metadata": {},
     "output_type": "execute_result"
    }
   ],
   "source": [
    "data.head()"
   ]
  },
  {
   "cell_type": "code",
   "execution_count": 1931,
   "metadata": {},
   "outputs": [
    {
     "data": {
      "text/plain": [
       "(15919, 47)"
      ]
     },
     "execution_count": 1931,
     "metadata": {},
     "output_type": "execute_result"
    }
   ],
   "source": [
    "data.shape"
   ]
  },
  {
   "cell_type": "markdown",
   "metadata": {},
   "source": [
    "- 'prev_owner' is very similar to 'Previous Owners'. 'Weight' and 'Non-smoking Vehicle' are assumed that they don't have meaningful effect on the result. So we can drop them all."
   ]
  },
  {
   "cell_type": "code",
   "execution_count": 1932,
   "metadata": {},
   "outputs": [
    {
     "data": {
      "text/html": [
       "<div>\n",
       "<style scoped>\n",
       "    .dataframe tbody tr th:only-of-type {\n",
       "        vertical-align: middle;\n",
       "    }\n",
       "\n",
       "    .dataframe tbody tr th {\n",
       "        vertical-align: top;\n",
       "    }\n",
       "\n",
       "    .dataframe thead th {\n",
       "        text-align: right;\n",
       "    }\n",
       "</style>\n",
       "<table border=\"1\" class=\"dataframe\">\n",
       "  <thead>\n",
       "    <tr style=\"text-align: right;\">\n",
       "      <th></th>\n",
       "      <th>prev_owner</th>\n",
       "      <th>Previous Owners</th>\n",
       "    </tr>\n",
       "  </thead>\n",
       "  <tbody>\n",
       "    <tr>\n",
       "      <th>0</th>\n",
       "      <td>2 previous owners</td>\n",
       "      <td>\\n2\\n</td>\n",
       "    </tr>\n",
       "    <tr>\n",
       "      <th>1</th>\n",
       "      <td>None</td>\n",
       "      <td>NaN</td>\n",
       "    </tr>\n",
       "    <tr>\n",
       "      <th>2</th>\n",
       "      <td>1 previous owner</td>\n",
       "      <td>\\n1\\n</td>\n",
       "    </tr>\n",
       "    <tr>\n",
       "      <th>3</th>\n",
       "      <td>1 previous owner</td>\n",
       "      <td>\\n1\\n</td>\n",
       "    </tr>\n",
       "    <tr>\n",
       "      <th>4</th>\n",
       "      <td>1 previous owner</td>\n",
       "      <td>\\n1\\n</td>\n",
       "    </tr>\n",
       "    <tr>\n",
       "      <th>...</th>\n",
       "      <td>...</td>\n",
       "      <td>...</td>\n",
       "    </tr>\n",
       "    <tr>\n",
       "      <th>15914</th>\n",
       "      <td>None</td>\n",
       "      <td>NaN</td>\n",
       "    </tr>\n",
       "    <tr>\n",
       "      <th>15915</th>\n",
       "      <td>1 previous owner</td>\n",
       "      <td>[\\n1\\n, \\n, 7.4 l/100 km (comb), \\n, 9.2 l/100 km (city), \\n, 6.3 l/100 km (country), \\n]</td>\n",
       "    </tr>\n",
       "    <tr>\n",
       "      <th>15916</th>\n",
       "      <td>1 previous owner</td>\n",
       "      <td>[\\n1\\n, \\n139 g CO2/km (comb)\\n]</td>\n",
       "    </tr>\n",
       "    <tr>\n",
       "      <th>15917</th>\n",
       "      <td>None</td>\n",
       "      <td>NaN</td>\n",
       "    </tr>\n",
       "    <tr>\n",
       "      <th>15918</th>\n",
       "      <td>1 previous owner</td>\n",
       "      <td>\\n1\\n</td>\n",
       "    </tr>\n",
       "  </tbody>\n",
       "</table>\n",
       "<p>15919 rows × 2 columns</p>\n",
       "</div>"
      ],
      "text/plain": [
       "              prev_owner                                                                            Previous Owners\n",
       "0      2 previous owners                                                                                      \\n2\\n\n",
       "1                   None                                                                                        NaN\n",
       "2       1 previous owner                                                                                      \\n1\\n\n",
       "3       1 previous owner                                                                                      \\n1\\n\n",
       "4       1 previous owner                                                                                      \\n1\\n\n",
       "...                  ...                                                                                        ...\n",
       "15914               None                                                                                        NaN\n",
       "15915   1 previous owner  [\\n1\\n, \\n, 7.4 l/100 km (comb), \\n, 9.2 l/100 km (city), \\n, 6.3 l/100 km (country), \\n]\n",
       "15916   1 previous owner                                                           [\\n1\\n, \\n139 g CO2/km (comb)\\n]\n",
       "15917               None                                                                                        NaN\n",
       "15918   1 previous owner                                                                                      \\n1\\n\n",
       "\n",
       "[15919 rows x 2 columns]"
      ]
     },
     "execution_count": 1932,
     "metadata": {},
     "output_type": "execute_result"
    }
   ],
   "source": [
    "data[[\"prev_owner\", \"Previous Owners\"]]"
   ]
  },
  {
   "cell_type": "markdown",
   "metadata": {},
   "source": [
    "### These two columns are very similar to each other. Let's choose better of them."
   ]
  },
  {
   "cell_type": "code",
   "execution_count": 1933,
   "metadata": {},
   "outputs": [
    {
     "data": {
      "text/plain": [
       "0                                                                                            \\n2\\n\n",
       "1                                                                                              NaN\n",
       "2                                                                                            \\n1\\n\n",
       "3                                                                                            \\n1\\n\n",
       "4                                                                                            \\n1\\n\n",
       "                                                   ...                                            \n",
       "15914                                                                                          NaN\n",
       "15915    [\\n1\\n, \\n, 7.4 l/100 km (comb), \\n, 9.2 l/100 km (city), \\n, 6.3 l/100 km (country), \\n]\n",
       "15916                                                             [\\n1\\n, \\n139 g CO2/km (comb)\\n]\n",
       "15917                                                                                          NaN\n",
       "15918                                                                                        \\n1\\n\n",
       "Name: Previous Owners, Length: 15919, dtype: object"
      ]
     },
     "execution_count": 1933,
     "metadata": {},
     "output_type": "execute_result"
    }
   ],
   "source": [
    "data['Previous Owners']"
   ]
  },
  {
   "cell_type": "code",
   "execution_count": 1934,
   "metadata": {},
   "outputs": [
    {
     "data": {
      "text/plain": [
       "0        2 previous owners\n",
       "1                     None\n",
       "2         1 previous owner\n",
       "3         1 previous owner\n",
       "4         1 previous owner\n",
       "               ...        \n",
       "15914                 None\n",
       "15915     1 previous owner\n",
       "15916     1 previous owner\n",
       "15917                 None\n",
       "15918     1 previous owner\n",
       "Name: prev_owner, Length: 15919, dtype: object"
      ]
     },
     "execution_count": 1934,
     "metadata": {},
     "output_type": "execute_result"
    }
   ],
   "source": [
    "data[\"prev_owner\"]"
   ]
  },
  {
   "cell_type": "code",
   "execution_count": 1935,
   "metadata": {},
   "outputs": [
    {
     "ename": "TypeError",
     "evalue": "unhashable type: 'list'",
     "output_type": "error",
     "traceback": [
      "\u001b[0;31m---------------------------------------------------------------------------\u001b[0m",
      "\u001b[0;31mTypeError\u001b[0m                                 Traceback (most recent call last)",
      "\u001b[0;32mpandas/_libs/hashtable_class_helper.pxi\u001b[0m in \u001b[0;36mpandas._libs.hashtable.PyObjectHashTable.map_locations\u001b[0;34m()\u001b[0m\n",
      "\u001b[0;31mTypeError\u001b[0m: unhashable type: 'list'"
     ]
    },
    {
     "name": "stderr",
     "output_type": "stream",
     "text": [
      "Exception ignored in: 'pandas._libs.index.IndexEngine._call_map_locations'\n",
      "Traceback (most recent call last):\n",
      "  File \"pandas/_libs/hashtable_class_helper.pxi\", line 1652, in pandas._libs.hashtable.PyObjectHashTable.map_locations\n",
      "TypeError: unhashable type: 'list'\n"
     ]
    },
    {
     "data": {
      "text/plain": [
       "\\n1\\n                                                                                        8101\n",
       "NaN                                                                                          6640\n",
       "\\n2\\n                                                                                         766\n",
       "\\n0\\n                                                                                         163\n",
       "\\n3\\n                                                                                          17\n",
       "                                                                                             ... \n",
       "[\\n1\\n, \\n181 g CO2/km (comb)\\n]                                                                1\n",
       "[\\n1\\n, \\n, 6.1 l/100 km (comb), \\n, 7.7 l/100 km (city), \\n, 5.2 l/100 km (country), \\n]       1\n",
       "[\\n1\\n, \\nEuro 6\\n]                                                                             1\n",
       "[\\n1\\n, \\n, 5.9 l/100 km (comb), \\n, 7.6 l/100 km (city), \\n, 4.9 l/100 km (country), \\n]       1\n",
       "[\\n1\\n, \\n102 g CO2/km (comb)\\n]                                                                1\n",
       "Name: Previous Owners, Length: 103, dtype: int64"
      ]
     },
     "execution_count": 1935,
     "metadata": {},
     "output_type": "execute_result"
    }
   ],
   "source": [
    "data[\"Previous Owners\"].value_counts(dropna = False)"
   ]
  },
  {
   "cell_type": "code",
   "execution_count": 1936,
   "metadata": {},
   "outputs": [
    {
     "data": {
      "text/plain": [
       "1 previous owner     8294\n",
       "NaN                  6828\n",
       "2 previous owners     778\n",
       "3 previous owners      17\n",
       "4 previous owners       2\n",
       "Name: prev_owner, dtype: int64"
      ]
     },
     "execution_count": 1936,
     "metadata": {},
     "output_type": "execute_result"
    }
   ],
   "source": [
    "data[\"prev_owner\"].value_counts(dropna = False)"
   ]
  },
  {
   "cell_type": "code",
   "execution_count": 1937,
   "metadata": {},
   "outputs": [
    {
     "data": {
      "text/plain": [
       "0          2\n",
       "1        NaN\n",
       "2          1\n",
       "3          1\n",
       "4          1\n",
       "        ... \n",
       "15914    NaN\n",
       "15915    NaN\n",
       "15916    NaN\n",
       "15917    NaN\n",
       "15918      1\n",
       "Name: Previous Owners, Length: 15919, dtype: object"
      ]
     },
     "execution_count": 1937,
     "metadata": {},
     "output_type": "execute_result"
    }
   ],
   "source": [
    "data['Previous Owners'].str.strip('\\n')"
   ]
  },
  {
   "cell_type": "code",
   "execution_count": 1938,
   "metadata": {},
   "outputs": [
    {
     "data": {
      "text/plain": [
       "1      8101\n",
       "NaN    6870\n",
       "2       766\n",
       "0       163\n",
       "3        17\n",
       "4         2\n",
       "Name: Previous Owners, dtype: int64"
      ]
     },
     "execution_count": 1938,
     "metadata": {},
     "output_type": "execute_result"
    }
   ],
   "source": [
    "data['Previous Owners'].str.strip('\\n').value_counts(dropna = False)"
   ]
  },
  {
   "cell_type": "code",
   "execution_count": 1939,
   "metadata": {},
   "outputs": [
    {
     "data": {
      "text/plain": [
       "0           \\n\n",
       "1          NaN\n",
       "2           \\n\n",
       "3           \\n\n",
       "4           \\n\n",
       "         ...  \n",
       "15914      NaN\n",
       "15915    \\n1\\n\n",
       "15916    \\n1\\n\n",
       "15917      NaN\n",
       "15918       \\n\n",
       "Name: Previous Owners, Length: 15919, dtype: object"
      ]
     },
     "execution_count": 1939,
     "metadata": {},
     "output_type": "execute_result"
    }
   ],
   "source": [
    "data['Previous Owners'].str[0]"
   ]
  },
  {
   "cell_type": "code",
   "execution_count": 1940,
   "metadata": {},
   "outputs": [
    {
     "data": {
      "text/plain": [
       "0        NaN\n",
       "1        NaN\n",
       "2        NaN\n",
       "3        NaN\n",
       "4        NaN\n",
       "        ... \n",
       "15914    NaN\n",
       "15915      1\n",
       "15916      1\n",
       "15917    NaN\n",
       "15918    NaN\n",
       "Name: Previous Owners, Length: 15919, dtype: object"
      ]
     },
     "execution_count": 1940,
     "metadata": {},
     "output_type": "execute_result"
    }
   ],
   "source": [
    "data['Previous Owners'].str[0].str[1]"
   ]
  },
  {
   "cell_type": "code",
   "execution_count": 1941,
   "metadata": {},
   "outputs": [
    {
     "data": {
      "text/plain": [
       "NaN    15689\n",
       "1        193\n",
       "0         25\n",
       "2         12\n",
       "Name: Previous Owners, dtype: int64"
      ]
     },
     "execution_count": 1941,
     "metadata": {},
     "output_type": "execute_result"
    }
   ],
   "source": [
    "data['Previous Owners'].str[0].str[1].value_counts(dropna = False)"
   ]
  },
  {
   "cell_type": "markdown",
   "metadata": {},
   "source": [
    "> ### We catch the values inside the lists.\n",
    "\n",
    "> ### There are 230 new values which are not visible in previous format.\n",
    "\n",
    "1   →     193\n",
    "\n",
    "0   →     25\n",
    "\n",
    "2   →     12"
   ]
  },
  {
   "cell_type": "code",
   "execution_count": 1942,
   "metadata": {},
   "outputs": [
    {
     "data": {
      "text/plain": [
       "0        NaN\n",
       "1        NaN\n",
       "2        NaN\n",
       "3        NaN\n",
       "4        NaN\n",
       "        ... \n",
       "15914    NaN\n",
       "15915      1\n",
       "15916      1\n",
       "15917    NaN\n",
       "15918    NaN\n",
       "Name: Previous_Owner1, Length: 15919, dtype: object"
      ]
     },
     "execution_count": 1942,
     "metadata": {},
     "output_type": "execute_result"
    }
   ],
   "source": [
    "data['Previous_Owner1'] = data['Previous Owners'].str[0].str[1]\n",
    "data['Previous_Owner1']"
   ]
  },
  {
   "cell_type": "code",
   "execution_count": 1943,
   "metadata": {},
   "outputs": [
    {
     "data": {
      "text/plain": [
       "0          2\n",
       "1        NaN\n",
       "2          1\n",
       "3          1\n",
       "4          1\n",
       "        ... \n",
       "15914    NaN\n",
       "15915    NaN\n",
       "15916    NaN\n",
       "15917    NaN\n",
       "15918      1\n",
       "Name: Previous_Owner, Length: 15919, dtype: object"
      ]
     },
     "execution_count": 1943,
     "metadata": {},
     "output_type": "execute_result"
    }
   ],
   "source": [
    "data['Previous_Owner'] = data['Previous Owners'].str.strip('\\n')\n",
    "data['Previous_Owner']"
   ]
  },
  {
   "cell_type": "code",
   "execution_count": 1944,
   "metadata": {},
   "outputs": [
    {
     "data": {
      "text/plain": [
       "1      8294\n",
       "NaN    6640\n",
       "2       778\n",
       "0       188\n",
       "3        17\n",
       "4         2\n",
       "Name: Previous_Owner, dtype: int64"
      ]
     },
     "execution_count": 1944,
     "metadata": {},
     "output_type": "execute_result"
    }
   ],
   "source": [
    "data.Previous_Owner.fillna(data.Previous_Owner1, inplace = True)\n",
    "data.Previous_Owner.value_counts(dropna = False)"
   ]
  },
  {
   "cell_type": "markdown",
   "metadata": {},
   "source": [
    "### ``\"Previous_Owner\"`` our new column. Now, we have to fillna this column in the most convenient way"
   ]
  },
  {
   "cell_type": "markdown",
   "metadata": {},
   "source": [
    "### We can fill the missing values with proportion of other existing values using `bfill` method."
   ]
  },
  {
   "cell_type": "code",
   "execution_count": 1945,
   "metadata": {},
   "outputs": [
    {
     "data": {
      "text/plain": [
       "1    14169\n",
       "2     1179\n",
       "0      531\n",
       "3       38\n",
       "4        2\n",
       "Name: Previous_Owner, dtype: int64"
      ]
     },
     "execution_count": 1945,
     "metadata": {},
     "output_type": "execute_result"
    }
   ],
   "source": [
    "data['Previous_Owner'].fillna(method = 'bfill', inplace = True)\n",
    "data.Previous_Owner.value_counts(dropna=False)"
   ]
  },
  {
   "cell_type": "code",
   "execution_count": 1946,
   "metadata": {},
   "outputs": [
    {
     "data": {
      "text/plain": [
       "1 previous owner     8294\n",
       "NaN                  6828\n",
       "2 previous owners     778\n",
       "3 previous owners      17\n",
       "4 previous owners       2\n",
       "Name: prev_owner, dtype: int64"
      ]
     },
     "execution_count": 1946,
     "metadata": {},
     "output_type": "execute_result"
    }
   ],
   "source": [
    "data.prev_owner.value_counts(dropna = False)"
   ]
  },
  {
   "cell_type": "code",
   "execution_count": 1947,
   "metadata": {},
   "outputs": [],
   "source": [
    "data['prev_owner'] = data['prev_owner'].str.replace('previous owner', '').str.replace('s', '')"
   ]
  },
  {
   "cell_type": "code",
   "execution_count": 1948,
   "metadata": {},
   "outputs": [
    {
     "data": {
      "text/plain": [
       "1      8294\n",
       "NaN    6828\n",
       "2       778\n",
       "3        17\n",
       "4         2\n",
       "Name: prev_owner, dtype: int64"
      ]
     },
     "execution_count": 1948,
     "metadata": {},
     "output_type": "execute_result"
    }
   ],
   "source": [
    "data.prev_owner.value_counts(dropna = False)"
   ]
  },
  {
   "cell_type": "code",
   "execution_count": 1949,
   "metadata": {},
   "outputs": [],
   "source": [
    "data['prev_owner'].fillna(method = 'bfill', inplace = True)"
   ]
  },
  {
   "cell_type": "code",
   "execution_count": 1950,
   "metadata": {},
   "outputs": [
    {
     "data": {
      "text/plain": [
       "1     14692\n",
       "2      1187\n",
       "3        38\n",
       "4         2\n",
       "Name: prev_owner, dtype: int64"
      ]
     },
     "execution_count": 1950,
     "metadata": {},
     "output_type": "execute_result"
    }
   ],
   "source": [
    "data.prev_owner.value_counts(dropna = False)"
   ]
  },
  {
   "cell_type": "code",
   "execution_count": 1951,
   "metadata": {},
   "outputs": [
    {
     "data": {
      "text/plain": [
       "1    14169\n",
       "2     1179\n",
       "0      531\n",
       "3       38\n",
       "4        2\n",
       "Name: Previous_Owner, dtype: int64"
      ]
     },
     "execution_count": 1951,
     "metadata": {},
     "output_type": "execute_result"
    }
   ],
   "source": [
    "data['Previous_Owner'].value_counts()"
   ]
  },
  {
   "cell_type": "code",
   "execution_count": 1952,
   "metadata": {},
   "outputs": [],
   "source": [
    "data[\"prev_owner\"].fillna(method='bfill', inplace=True)"
   ]
  },
  {
   "cell_type": "code",
   "execution_count": 1953,
   "metadata": {},
   "outputs": [
    {
     "data": {
      "text/plain": [
       "1     14692\n",
       "2      1187\n",
       "3        38\n",
       "4         2\n",
       "Name: prev_owner, dtype: int64"
      ]
     },
     "execution_count": 1953,
     "metadata": {},
     "output_type": "execute_result"
    }
   ],
   "source": [
    "data.prev_owner.value_counts(dropna = False)"
   ]
  },
  {
   "cell_type": "code",
   "execution_count": 1954,
   "metadata": {},
   "outputs": [],
   "source": [
    "drop_list2 = [\"prev_owner\", 'Weight','Non-smoking Vehicle']"
   ]
  },
  {
   "cell_type": "code",
   "execution_count": 1955,
   "metadata": {},
   "outputs": [],
   "source": [
    "data.drop(drop_list2, axis = 1, inplace = True)"
   ]
  },
  {
   "cell_type": "markdown",
   "metadata": {},
   "source": [
    "## 'body_type' is also very similar to 'Body'."
   ]
  },
  {
   "cell_type": "code",
   "execution_count": 1956,
   "metadata": {},
   "outputs": [
    {
     "name": "stdout",
     "output_type": "stream",
     "text": [
      "<class 'pandas.core.frame.DataFrame'>\n",
      "RangeIndex: 15919 entries, 0 to 15918\n",
      "Data columns (total 46 columns):\n",
      " #   Column                   Dtype \n",
      "---  ------                   ----- \n",
      " 0   url                      object\n",
      " 1   make_model               object\n",
      " 2   short_description        object\n",
      " 3   body_type                object\n",
      " 4   price                    int64 \n",
      " 5   vat                      object\n",
      " 6   km                       object\n",
      " 7   registration             object\n",
      " 8   hp                       object\n",
      " 9   Type                     object\n",
      " 10  Previous Owners          object\n",
      " 11  Next Inspection          object\n",
      " 12  Inspection new           object\n",
      " 13  Warranty                 object\n",
      " 14  Full Service             object\n",
      " 15  null                     object\n",
      " 16  Make                     object\n",
      " 17  Model                    object\n",
      " 18  Offer Number             object\n",
      " 19  First Registration       object\n",
      " 20  Body Color               object\n",
      " 21  Paint Type               object\n",
      " 22  Body Color Original      object\n",
      " 23  Upholstery               object\n",
      " 24  Body                     object\n",
      " 25  Nr. of Doors             object\n",
      " 26  Nr. of Seats             object\n",
      " 27  Model Code               object\n",
      " 28  Gearing Type             object\n",
      " 29  Displacement             object\n",
      " 30  Cylinders                object\n",
      " 31  Drive chain              object\n",
      " 32  Fuel                     object\n",
      " 33  Consumption              object\n",
      " 34  CO2 Emission             object\n",
      " 35  Emission Class           object\n",
      " 36  \n",
      "Comfort & Convenience\n",
      "  object\n",
      " 37  \n",
      "Entertainment & Media\n",
      "  object\n",
      " 38  \n",
      "Extras\n",
      "                 object\n",
      " 39  \n",
      "Safety & Security\n",
      "      object\n",
      " 40  description              object\n",
      " 41  Emission Label           object\n",
      " 42  Gears                    object\n",
      " 43  Country version          object\n",
      " 44  Previous_Owner1          object\n",
      " 45  Previous_Owner           object\n",
      "dtypes: int64(1), object(45)\n",
      "memory usage: 5.6+ MB\n"
     ]
    }
   ],
   "source": [
    "data.info()"
   ]
  },
  {
   "cell_type": "code",
   "execution_count": 1957,
   "metadata": {},
   "outputs": [
    {
     "data": {
      "text/html": [
       "<div>\n",
       "<style scoped>\n",
       "    .dataframe tbody tr th:only-of-type {\n",
       "        vertical-align: middle;\n",
       "    }\n",
       "\n",
       "    .dataframe tbody tr th {\n",
       "        vertical-align: top;\n",
       "    }\n",
       "\n",
       "    .dataframe thead th {\n",
       "        text-align: right;\n",
       "    }\n",
       "</style>\n",
       "<table border=\"1\" class=\"dataframe\">\n",
       "  <thead>\n",
       "    <tr style=\"text-align: right;\">\n",
       "      <th></th>\n",
       "      <th>body_type</th>\n",
       "      <th>Body</th>\n",
       "    </tr>\n",
       "  </thead>\n",
       "  <tbody>\n",
       "    <tr>\n",
       "      <th>0</th>\n",
       "      <td>Sedans</td>\n",
       "      <td>[\\n, Sedans, \\n]</td>\n",
       "    </tr>\n",
       "    <tr>\n",
       "      <th>1</th>\n",
       "      <td>Sedans</td>\n",
       "      <td>[\\n, Sedans, \\n]</td>\n",
       "    </tr>\n",
       "    <tr>\n",
       "      <th>2</th>\n",
       "      <td>Sedans</td>\n",
       "      <td>[\\n, Sedans, \\n]</td>\n",
       "    </tr>\n",
       "    <tr>\n",
       "      <th>3</th>\n",
       "      <td>Sedans</td>\n",
       "      <td>[\\n, Sedans, \\n]</td>\n",
       "    </tr>\n",
       "    <tr>\n",
       "      <th>4</th>\n",
       "      <td>Sedans</td>\n",
       "      <td>[\\n, Sedans, \\n]</td>\n",
       "    </tr>\n",
       "    <tr>\n",
       "      <th>...</th>\n",
       "      <td>...</td>\n",
       "      <td>...</td>\n",
       "    </tr>\n",
       "    <tr>\n",
       "      <th>15914</th>\n",
       "      <td>Van</td>\n",
       "      <td>[\\n, Van, \\n]</td>\n",
       "    </tr>\n",
       "    <tr>\n",
       "      <th>15915</th>\n",
       "      <td>Van</td>\n",
       "      <td>[\\n, Van, \\n]</td>\n",
       "    </tr>\n",
       "    <tr>\n",
       "      <th>15916</th>\n",
       "      <td>Van</td>\n",
       "      <td>[\\n, Van, \\n]</td>\n",
       "    </tr>\n",
       "    <tr>\n",
       "      <th>15917</th>\n",
       "      <td>Van</td>\n",
       "      <td>[\\n, Van, \\n]</td>\n",
       "    </tr>\n",
       "    <tr>\n",
       "      <th>15918</th>\n",
       "      <td>Van</td>\n",
       "      <td>[\\n, Van, \\n]</td>\n",
       "    </tr>\n",
       "  </tbody>\n",
       "</table>\n",
       "<p>15919 rows × 2 columns</p>\n",
       "</div>"
      ],
      "text/plain": [
       "      body_type              Body\n",
       "0        Sedans  [\\n, Sedans, \\n]\n",
       "1        Sedans  [\\n, Sedans, \\n]\n",
       "2        Sedans  [\\n, Sedans, \\n]\n",
       "3        Sedans  [\\n, Sedans, \\n]\n",
       "4        Sedans  [\\n, Sedans, \\n]\n",
       "...         ...               ...\n",
       "15914       Van     [\\n, Van, \\n]\n",
       "15915       Van     [\\n, Van, \\n]\n",
       "15916       Van     [\\n, Van, \\n]\n",
       "15917       Van     [\\n, Van, \\n]\n",
       "15918       Van     [\\n, Van, \\n]\n",
       "\n",
       "[15919 rows x 2 columns]"
      ]
     },
     "execution_count": 1957,
     "metadata": {},
     "output_type": "execute_result"
    }
   ],
   "source": [
    "data[['body_type', 'Body']]"
   ]
  },
  {
   "cell_type": "markdown",
   "metadata": {},
   "source": [
    "## Filling the body with the most value"
   ]
  },
  {
   "cell_type": "code",
   "execution_count": 1958,
   "metadata": {},
   "outputs": [],
   "source": [
    "def fill_most(data, group_col, col_name):\n",
    "    for group in list(data[group_col].unique()):\n",
    "        grp_index = list(data[data[group_col] == group][col_name].index)\n",
    "        data[col_name].iloc[grp_index] = data[col_name].iloc[grp_index].fillna(data[data[group_col] == group][col_name].mode()[0])\n",
    "   "
   ]
  },
  {
   "cell_type": "code",
   "execution_count": 1959,
   "metadata": {},
   "outputs": [],
   "source": [
    "# fill_most(data, 'make_model', 'body_type')"
   ]
  },
  {
   "cell_type": "code",
   "execution_count": 1960,
   "metadata": {},
   "outputs": [],
   "source": [
    "# fill_most(data, 'make_model', 'Extras')"
   ]
  },
  {
   "cell_type": "code",
   "execution_count": 1961,
   "metadata": {},
   "outputs": [],
   "source": [
    "# fill_most(data, 'make_model', 'Comfort&Convenience')"
   ]
  },
  {
   "cell_type": "code",
   "execution_count": 1962,
   "metadata": {},
   "outputs": [
    {
     "data": {
      "text/plain": [
       "array(['Audi A1', 'Audi A2', 'Audi A3', 'Opel Astra', 'Opel Corsa',\n",
       "       'Opel Insignia', 'Renault Clio', 'Renault Duster',\n",
       "       'Renault Espace'], dtype=object)"
      ]
     },
     "execution_count": 1962,
     "metadata": {},
     "output_type": "execute_result"
    }
   ],
   "source": [
    "data['make_model'].unique()"
   ]
  },
  {
   "cell_type": "code",
   "execution_count": 1963,
   "metadata": {},
   "outputs": [
    {
     "data": {
      "text/plain": [
       "'Sedans'"
      ]
     },
     "execution_count": 1963,
     "metadata": {},
     "output_type": "execute_result"
    }
   ],
   "source": [
    "data[data['make_model'] == 'Audi A3']['body_type'].mode()[0]"
   ]
  },
  {
   "cell_type": "code",
   "execution_count": 1964,
   "metadata": {},
   "outputs": [
    {
     "data": {
      "text/plain": [
       "'Sedans'"
      ]
     },
     "execution_count": 1964,
     "metadata": {},
     "output_type": "execute_result"
    }
   ],
   "source": [
    "data[data['make_model'] == 'Audi A1']['body_type'].mode()[0]"
   ]
  },
  {
   "cell_type": "code",
   "execution_count": 1965,
   "metadata": {},
   "outputs": [
    {
     "data": {
      "text/plain": [
       "'Van'"
      ]
     },
     "execution_count": 1965,
     "metadata": {},
     "output_type": "execute_result"
    }
   ],
   "source": [
    "data[data['make_model'] == 'Renault Espace']['body_type'].mode()[0]"
   ]
  },
  {
   "cell_type": "markdown",
   "metadata": {},
   "source": [
    "****************"
   ]
  },
  {
   "cell_type": "code",
   "execution_count": 1966,
   "metadata": {},
   "outputs": [
    {
     "data": {
      "text/plain": [
       "Sedans           7903\n",
       "Station wagon    3553\n",
       "Compact          3153\n",
       "Van               783\n",
       "Other             290\n",
       "Transporter        88\n",
       "NaN                60\n",
       "Off-Road           56\n",
       "Coupe              25\n",
       "Convertible         8\n",
       "Name: body_type, dtype: int64"
      ]
     },
     "execution_count": 1966,
     "metadata": {},
     "output_type": "execute_result"
    }
   ],
   "source": [
    "data['body_type'].value_counts(dropna = False)"
   ]
  },
  {
   "cell_type": "code",
   "execution_count": 1967,
   "metadata": {},
   "outputs": [
    {
     "data": {
      "text/plain": [
       "make_model      body_type    \n",
       "Audi A1         Sedans           1538\n",
       "                Compact          1039\n",
       "                Station wagon      21\n",
       "                Other              13\n",
       "                Coupe               2\n",
       "                Van                 1\n",
       "Audi A2         Off-Road            1\n",
       "Audi A3         Sedans           2598\n",
       "                Station wagon     282\n",
       "                Compact           182\n",
       "                Other              16\n",
       "                Convertible         8\n",
       "                NaN                 7\n",
       "                Coupe               4\n",
       "Opel Astra      Station wagon    1211\n",
       "                Sedans           1053\n",
       "                Compact           185\n",
       "                Other              67\n",
       "                NaN                 7\n",
       "                Coupe               2\n",
       "                Off-Road            1\n",
       "Opel Corsa      Compact          1230\n",
       "                Sedans            875\n",
       "                Other              87\n",
       "                Coupe              13\n",
       "                Transporter         7\n",
       "                Off-Road            3\n",
       "                NaN                 2\n",
       "                Van                 2\n",
       "Opel Insignia   Station wagon    1611\n",
       "                Sedans            900\n",
       "                Other              48\n",
       "                Compact            27\n",
       "                Off-Road            7\n",
       "                NaN                 3\n",
       "                Coupe               1\n",
       "                Van                 1\n",
       "Renault Clio    Sedans            918\n",
       "                Compact           484\n",
       "                Station wagon     337\n",
       "                Other              51\n",
       "                Transporter        29\n",
       "                NaN                15\n",
       "                Off-Road            2\n",
       "                Van                 2\n",
       "                Coupe               1\n",
       "Renault Duster  Off-Road           34\n",
       "Renault Espace  Van               777\n",
       "                Station wagon      91\n",
       "                Transporter        52\n",
       "                NaN                26\n",
       "                Sedans             21\n",
       "                Off-Road            8\n",
       "                Other               8\n",
       "                Compact             6\n",
       "                Coupe               2\n",
       "Name: body_type, dtype: int64"
      ]
     },
     "execution_count": 1967,
     "metadata": {},
     "output_type": "execute_result"
    }
   ],
   "source": [
    "data.groupby('make_model')['body_type'].value_counts(dropna = False)"
   ]
  },
  {
   "cell_type": "code",
   "execution_count": 1968,
   "metadata": {},
   "outputs": [],
   "source": [
    "fill_most(data, 'make_model', 'body_type')"
   ]
  },
  {
   "cell_type": "code",
   "execution_count": 1969,
   "metadata": {},
   "outputs": [
    {
     "data": {
      "text/plain": [
       "Sedans           7925\n",
       "Station wagon    3563\n",
       "Compact          3155\n",
       "Van               809\n",
       "Other             290\n",
       "Transporter        88\n",
       "Off-Road           56\n",
       "Coupe              25\n",
       "Convertible         8\n",
       "Name: body_type, dtype: int64"
      ]
     },
     "execution_count": 1969,
     "metadata": {},
     "output_type": "execute_result"
    }
   ],
   "source": [
    "data['body_type'].value_counts(dropna = False)"
   ]
  },
  {
   "cell_type": "code",
   "execution_count": 1970,
   "metadata": {},
   "outputs": [
    {
     "ename": "TypeError",
     "evalue": "unhashable type: 'list'",
     "output_type": "error",
     "traceback": [
      "\u001b[0;31m---------------------------------------------------------------------------\u001b[0m",
      "\u001b[0;31mTypeError\u001b[0m                                 Traceback (most recent call last)",
      "\u001b[0;32mpandas/_libs/hashtable_class_helper.pxi\u001b[0m in \u001b[0;36mpandas._libs.hashtable.PyObjectHashTable.map_locations\u001b[0;34m()\u001b[0m\n",
      "\u001b[0;31mTypeError\u001b[0m: unhashable type: 'list'"
     ]
    },
    {
     "name": "stderr",
     "output_type": "stream",
     "text": [
      "Exception ignored in: 'pandas._libs.index.IndexEngine._call_map_locations'\n",
      "Traceback (most recent call last):\n",
      "  File \"pandas/_libs/hashtable_class_helper.pxi\", line 1652, in pandas._libs.hashtable.PyObjectHashTable.map_locations\n",
      "TypeError: unhashable type: 'list'\n"
     ]
    },
    {
     "data": {
      "text/plain": [
       "[\\n, Sedans, \\n]           7903\n",
       "[\\n, Station wagon, \\n]    3553\n",
       "[\\n, Compact, \\n]          3153\n",
       "[\\n, Van, \\n]               783\n",
       "[\\n, Other, \\n]             290\n",
       "[\\n, Transporter, \\n]        88\n",
       "NaN                          60\n",
       "[\\n, Off-Road, \\n]           56\n",
       "[\\n, Coupe, \\n]              25\n",
       "[\\n, Convertible, \\n]         8\n",
       "Name: Body, dtype: int64"
      ]
     },
     "execution_count": 1970,
     "metadata": {},
     "output_type": "execute_result"
    }
   ],
   "source": [
    "data['Body'].value_counts(dropna = False)"
   ]
  },
  {
   "cell_type": "markdown",
   "metadata": {},
   "source": [
    "### It seems that ``\"Body\"`` deserves to be dropped"
   ]
  },
  {
   "cell_type": "code",
   "execution_count": 1971,
   "metadata": {},
   "outputs": [],
   "source": [
    "data.drop('Body', axis=1, inplace = True)"
   ]
  },
  {
   "cell_type": "markdown",
   "metadata": {},
   "source": [
    "## Inspection new"
   ]
  },
  {
   "cell_type": "code",
   "execution_count": 1972,
   "metadata": {},
   "outputs": [
    {
     "data": {
      "text/plain": [
       "0.7529995602738866"
      ]
     },
     "execution_count": 1972,
     "metadata": {},
     "output_type": "execute_result"
    }
   ],
   "source": [
    "data['Inspection new'].isnull().sum() / len(data['Inspection new'])"
   ]
  },
  {
   "cell_type": "markdown",
   "metadata": {},
   "source": [
    "#### It has high percentage of missing values, but it is important feature for the result (predicting price). We should keep it for now and we can assume missing values as 'no', so that we can fillna missing values with string 'no'.¶"
   ]
  },
  {
   "cell_type": "code",
   "execution_count": 1973,
   "metadata": {},
   "outputs": [
    {
     "ename": "TypeError",
     "evalue": "unhashable type: 'list'",
     "output_type": "error",
     "traceback": [
      "\u001b[0;31m---------------------------------------------------------------------------\u001b[0m",
      "\u001b[0;31mTypeError\u001b[0m                                 Traceback (most recent call last)",
      "\u001b[0;32mpandas/_libs/hashtable_class_helper.pxi\u001b[0m in \u001b[0;36mpandas._libs.hashtable.PyObjectHashTable.map_locations\u001b[0;34m()\u001b[0m\n",
      "\u001b[0;31mTypeError\u001b[0m: unhashable type: 'list'"
     ]
    },
    {
     "name": "stderr",
     "output_type": "stream",
     "text": [
      "Exception ignored in: 'pandas._libs.index.IndexEngine._call_map_locations'\n",
      "Traceback (most recent call last):\n",
      "  File \"pandas/_libs/hashtable_class_helper.pxi\", line 1652, in pandas._libs.hashtable.PyObjectHashTable.map_locations\n",
      "TypeError: unhashable type: 'list'\n"
     ]
    },
    {
     "data": {
      "text/plain": [
       "NaN                                                                                            11987\n",
       "[\\nYes\\n, \\nEuro 6\\n]                                                                            523\n",
       "\\nYes\\n                                                                                          362\n",
       "[\\nYes\\n, \\n102 g CO2/km (comb)\\n]                                                               174\n",
       "[\\nYes\\n, \\n4 (Green)\\n]                                                                         166\n",
       "                                                                                               ...  \n",
       "[\\nYes\\n, \\n, 5.1 l/100 km (comb), \\n, 6.4 l/100 km (city), \\n, 4.3 l/100 km (country), \\n]        1\n",
       "[\\nYes\\n, \\n, 6.3 l/100 km (comb), \\n, \\n, \\n]                                                     1\n",
       "[\\nYes\\n, \\n89 g CO2/km (comb)\\n]                                                                  1\n",
       "[\\nYes\\n, \\n, 4.7 l/100 km (comb), \\n, \\n, \\n]                                                     1\n",
       "[\\nYes\\n, \\n, 6.7 l/100 km (comb), \\n, 8.7 l/100 km (city), \\n, 5.6 l/100 km (country), \\n]        1\n",
       "Name: Inspection new, Length: 203, dtype: int64"
      ]
     },
     "execution_count": 1973,
     "metadata": {},
     "output_type": "execute_result"
    }
   ],
   "source": [
    "data['Inspection new'].value_counts(dropna = False)"
   ]
  },
  {
   "cell_type": "code",
   "execution_count": 1974,
   "metadata": {},
   "outputs": [
    {
     "data": {
      "text/plain": [
       "NaN        11987\n",
       "\\nYes\\n     3570\n",
       "\\n           362\n",
       "Name: Inspection new, dtype: int64"
      ]
     },
     "execution_count": 1974,
     "metadata": {},
     "output_type": "execute_result"
    }
   ],
   "source": [
    "data['Inspection new'].str[0].value_counts(dropna = False)"
   ]
  },
  {
   "cell_type": "markdown",
   "metadata": {},
   "source": [
    "#### We chose the ``'\\n'`` string in ``'.contains()'``. So we cover both variables in the lists and out of the lists\n",
    "#### ``'*'`` 1 → gives us 1 or 0 according to True/False"
   ]
  },
  {
   "cell_type": "code",
   "execution_count": 1975,
   "metadata": {},
   "outputs": [
    {
     "data": {
      "text/plain": [
       "0         True\n",
       "1        False\n",
       "2        False\n",
       "3        False\n",
       "4         True\n",
       "         ...  \n",
       "15914    False\n",
       "15915    False\n",
       "15916     True\n",
       "15917    False\n",
       "15918     True\n",
       "Name: Inspection new, Length: 15919, dtype: bool"
      ]
     },
     "execution_count": 1975,
     "metadata": {},
     "output_type": "execute_result"
    }
   ],
   "source": [
    "data['Inspection new'].str[0].str.contains('\\n', na = False)"
   ]
  },
  {
   "cell_type": "code",
   "execution_count": 1976,
   "metadata": {},
   "outputs": [],
   "source": [
    "data['Inspection_New_Bool'] = data['Inspection new'].str[0].str.contains('\\n', na = False)*1"
   ]
  },
  {
   "cell_type": "code",
   "execution_count": 1977,
   "metadata": {},
   "outputs": [
    {
     "data": {
      "text/plain": [
       "0    11987\n",
       "1     3932\n",
       "Name: Inspection_New_Bool, dtype: int64"
      ]
     },
     "execution_count": 1977,
     "metadata": {},
     "output_type": "execute_result"
    }
   ],
   "source": [
    "data['Inspection_New_Bool'].value_counts(dropna = False)"
   ]
  },
  {
   "cell_type": "markdown",
   "metadata": {},
   "source": [
    "## Next Inspection"
   ]
  },
  {
   "cell_type": "code",
   "execution_count": 1978,
   "metadata": {},
   "outputs": [
    {
     "data": {
      "text/plain": [
       "0.7779383127080847"
      ]
     },
     "execution_count": 1978,
     "metadata": {},
     "output_type": "execute_result"
    }
   ],
   "source": [
    "data['Next Inspection'].isnull().sum()/ len(data['Next Inspection'])"
   ]
  },
  {
   "cell_type": "code",
   "execution_count": 1979,
   "metadata": {},
   "outputs": [
    {
     "ename": "TypeError",
     "evalue": "unhashable type: 'list'",
     "output_type": "error",
     "traceback": [
      "\u001b[0;31m---------------------------------------------------------------------------\u001b[0m",
      "\u001b[0;31mTypeError\u001b[0m                                 Traceback (most recent call last)",
      "\u001b[0;32mpandas/_libs/hashtable_class_helper.pxi\u001b[0m in \u001b[0;36mpandas._libs.hashtable.PyObjectHashTable.map_locations\u001b[0;34m()\u001b[0m\n",
      "\u001b[0;31mTypeError\u001b[0m: unhashable type: 'list'"
     ]
    },
    {
     "name": "stderr",
     "output_type": "stream",
     "text": [
      "Exception ignored in: 'pandas._libs.index.IndexEngine._call_map_locations'\n",
      "Traceback (most recent call last):\n",
      "  File \"pandas/_libs/hashtable_class_helper.pxi\", line 1652, in pandas._libs.hashtable.PyObjectHashTable.map_locations\n",
      "TypeError: unhashable type: 'list'\n"
     ]
    },
    {
     "data": {
      "text/plain": [
       "NaN                                       12384\n",
       "\\n04/2022\\n                                  62\n",
       "\\n03/2021\\n                                  38\n",
       "\\n03/2022\\n                                  36\n",
       "\\n06/2021\\n                                  34\n",
       "                                          ...  \n",
       "[\\n02/2021\\n, \\n111 g CO2/km (comb)\\n]        1\n",
       "[\\n05/2019\\n, \\n143 g CO2/km (comb)\\n]        1\n",
       "[\\n03/2022\\n, \\n148 g CO2/km (comb)\\n]        1\n",
       "[\\n10/2019\\n, \\n4 (Green)\\n]                  1\n",
       "[\\n11/2021\\n, \\n111 g CO2/km (comb)\\n]        1\n",
       "Name: Next Inspection, Length: 1400, dtype: int64"
      ]
     },
     "execution_count": 1979,
     "metadata": {},
     "output_type": "execute_result"
    }
   ],
   "source": [
    "data['Next Inspection'].value_counts(dropna = False)"
   ]
  },
  {
   "cell_type": "markdown",
   "metadata": {},
   "source": [
    "## 'next_inspection' has %77 percent of missing value. For now, lets leave it as it is. "
   ]
  },
  {
   "cell_type": "code",
   "execution_count": 1980,
   "metadata": {},
   "outputs": [],
   "source": [
    "nxtins_list = [\"\".join(item).strip() if type(item) == list else item for item in data['Next Inspection']]\n",
    "data['next_inspection'] = pd.DataFrame(nxtins_list)"
   ]
  },
  {
   "cell_type": "code",
   "execution_count": 1981,
   "metadata": {},
   "outputs": [
    {
     "data": {
      "text/plain": [
       "NaN                               12384\n",
       "\\n04/2022\\n                          62\n",
       "\\n03/2021\\n                          38\n",
       "\\n03/2022\\n                          36\n",
       "\\n06/2021\\n                          34\n",
       "                                  ...  \n",
       "09/2019\\n\\n112 g CO2/km (comb)        1\n",
       "04/2021\\n\\n161 g CO2/km (comb)        1\n",
       "02/2021\\n\\n118 g CO2/km (comb)        1\n",
       "09/2020\\n\\n102 g CO2/km (comb)        1\n",
       "04/2022\\n\\n120 g CO2/km (comb)        1\n",
       "Name: next_inspection, Length: 1400, dtype: int64"
      ]
     },
     "execution_count": 1981,
     "metadata": {},
     "output_type": "execute_result"
    }
   ],
   "source": [
    "data.next_inspection.value_counts(dropna = False)"
   ]
  },
  {
   "cell_type": "code",
   "execution_count": 1982,
   "metadata": {},
   "outputs": [
    {
     "data": {
      "text/plain": [
       "15914                               NaN\n",
       "15915    01/2022\\n\\n168 g CO2/km (comb)\n",
       "15916                               NaN\n",
       "15917                               NaN\n",
       "15918                               NaN\n",
       "Name: next_inspection, dtype: object"
      ]
     },
     "execution_count": 1982,
     "metadata": {},
     "output_type": "execute_result"
    }
   ],
   "source": [
    "data['next_inspection'].tail()"
   ]
  },
  {
   "cell_type": "code",
   "execution_count": 1983,
   "metadata": {},
   "outputs": [],
   "source": [
    "data['next_inspection'] = data.next_inspection.str.extract('(\\d\\d/\\d\\d\\d\\d)')"
   ]
  },
  {
   "cell_type": "code",
   "execution_count": 1984,
   "metadata": {},
   "outputs": [
    {
     "data": {
      "text/plain": [
       "NaN        12384\n",
       "06/2021      471\n",
       "03/2021      210\n",
       "05/2021      180\n",
       "04/2021      171\n",
       "           ...  \n",
       "12/2017        1\n",
       "01/1955        1\n",
       "03/2024        1\n",
       "01/1999        1\n",
       "04/2016        1\n",
       "Name: next_inspection, Length: 78, dtype: int64"
      ]
     },
     "execution_count": 1984,
     "metadata": {},
     "output_type": "execute_result"
    }
   ],
   "source": [
    "data.next_inspection.value_counts(dropna = False)"
   ]
  },
  {
   "cell_type": "code",
   "execution_count": 1985,
   "metadata": {},
   "outputs": [],
   "source": [
    "data.next_inspection = pd.to_datetime(data.next_inspection, format = '%m/%Y')"
   ]
  },
  {
   "cell_type": "code",
   "execution_count": 1986,
   "metadata": {},
   "outputs": [
    {
     "data": {
      "text/plain": [
       "NaT           12384\n",
       "2021-06-01      471\n",
       "2021-03-01      210\n",
       "2021-05-01      180\n",
       "2021-04-01      171\n",
       "              ...  \n",
       "2016-04-01        1\n",
       "1955-01-01        1\n",
       "1999-01-01        1\n",
       "2017-05-01        1\n",
       "2016-05-01        1\n",
       "Name: next_inspection, Length: 78, dtype: int64"
      ]
     },
     "execution_count": 1986,
     "metadata": {},
     "output_type": "execute_result"
    }
   ],
   "source": [
    "data.next_inspection.value_counts(dropna = False)"
   ]
  },
  {
   "cell_type": "markdown",
   "metadata": {},
   "source": [
    "### `\"next_inspection\"` has %77 percent of missing value. For now, let's leave it as it is. We can take a look at it again later."
   ]
  },
  {
   "cell_type": "code",
   "execution_count": 1987,
   "metadata": {},
   "outputs": [
    {
     "data": {
      "text/plain": [
       "['url',\n",
       " 'make_model',\n",
       " 'short_description',\n",
       " 'body_type',\n",
       " 'price',\n",
       " 'vat',\n",
       " 'km',\n",
       " 'registration',\n",
       " 'prev_owner',\n",
       " 'kW',\n",
       " 'hp',\n",
       " 'Type',\n",
       " 'Previous Owners',\n",
       " 'Next Inspection',\n",
       " 'Inspection new',\n",
       " 'Warranty',\n",
       " 'Full Service',\n",
       " 'Non-smoking Vehicle',\n",
       " 'null',\n",
       " 'Make',\n",
       " 'Model',\n",
       " 'Offer Number',\n",
       " 'First Registration',\n",
       " 'Body Color',\n",
       " 'Paint Type',\n",
       " 'Body Color Original',\n",
       " 'Upholstery',\n",
       " 'Body',\n",
       " 'Nr. of Doors',\n",
       " 'Nr. of Seats',\n",
       " 'Model Code',\n",
       " 'Gearing Type',\n",
       " 'Displacement',\n",
       " 'Cylinders',\n",
       " 'Weight',\n",
       " 'Drive chain',\n",
       " 'Fuel',\n",
       " 'Consumption',\n",
       " 'CO2 Emission',\n",
       " 'Emission Class',\n",
       " '\\nComfort & Convenience\\n',\n",
       " '\\nEntertainment & Media\\n',\n",
       " '\\nExtras\\n',\n",
       " '\\nSafety & Security\\n',\n",
       " 'description',\n",
       " 'Emission Label',\n",
       " 'Gears',\n",
       " 'Country version',\n",
       " 'Electricity consumption',\n",
       " 'Last Service Date',\n",
       " 'Other Fuel Types',\n",
       " 'Availability',\n",
       " 'Last Timing Belt Service Date',\n",
       " 'Available from']"
      ]
     },
     "execution_count": 1987,
     "metadata": {},
     "output_type": "execute_result"
    }
   ],
   "source": [
    "col_list"
   ]
  },
  {
   "cell_type": "markdown",
   "metadata": {},
   "source": [
    "## 'Paint Type'"
   ]
  },
  {
   "cell_type": "code",
   "execution_count": 1988,
   "metadata": {},
   "outputs": [
    {
     "data": {
      "text/plain": [
       "36.25855895470821"
      ]
     },
     "execution_count": 1988,
     "metadata": {},
     "output_type": "execute_result"
    }
   ],
   "source": [
    "data['Paint Type'].isnull().sum() / len(data['Paint Type'])*100"
   ]
  },
  {
   "cell_type": "code",
   "execution_count": 1989,
   "metadata": {},
   "outputs": [
    {
     "ename": "TypeError",
     "evalue": "unhashable type: 'list'",
     "output_type": "error",
     "traceback": [
      "\u001b[0;31m---------------------------------------------------------------------------\u001b[0m",
      "\u001b[0;31mTypeError\u001b[0m                                 Traceback (most recent call last)",
      "\u001b[0;32mpandas/_libs/hashtable_class_helper.pxi\u001b[0m in \u001b[0;36mpandas._libs.hashtable.PyObjectHashTable.map_locations\u001b[0;34m()\u001b[0m\n",
      "\u001b[0;31mTypeError\u001b[0m: unhashable type: 'list'"
     ]
    },
    {
     "name": "stderr",
     "output_type": "stream",
     "text": [
      "Exception ignored in: 'pandas._libs.index.IndexEngine._call_map_locations'\n",
      "Traceback (most recent call last):\n",
      "  File \"pandas/_libs/hashtable_class_helper.pxi\", line 1652, in pandas._libs.hashtable.PyObjectHashTable.map_locations\n",
      "TypeError: unhashable type: 'list'\n"
     ]
    },
    {
     "data": {
      "text/plain": [
       "[\\nMetallic\\n]       9794\n",
       "NaN                  5772\n",
       "[\\nUni/basic\\n]       347\n",
       "[\\nPerl effect\\n]       6\n",
       "Name: Paint Type, dtype: int64"
      ]
     },
     "execution_count": 1989,
     "metadata": {},
     "output_type": "execute_result"
    }
   ],
   "source": [
    "data['Paint Type'].value_counts(dropna = False)"
   ]
  },
  {
   "cell_type": "code",
   "execution_count": 1990,
   "metadata": {},
   "outputs": [
    {
     "data": {
      "text/plain": [
       "0        \\nMetallic\\n\n",
       "1                 NaN\n",
       "2        \\nMetallic\\n\n",
       "3        \\nMetallic\\n\n",
       "4        \\nMetallic\\n\n",
       "             ...     \n",
       "15914    \\nMetallic\\n\n",
       "15915    \\nMetallic\\n\n",
       "15916             NaN\n",
       "15917             NaN\n",
       "15918    \\nMetallic\\n\n",
       "Name: Paint Type, Length: 15919, dtype: object"
      ]
     },
     "execution_count": 1990,
     "metadata": {},
     "output_type": "execute_result"
    }
   ],
   "source": [
    "data['Paint Type'].str[0]"
   ]
  },
  {
   "cell_type": "code",
   "execution_count": 1991,
   "metadata": {},
   "outputs": [
    {
     "data": {
      "text/plain": [
       "Metallic       9794\n",
       "NaN            5772\n",
       "Uni/basic       347\n",
       "Perl effect       6\n",
       "Name: Paint Type, dtype: int64"
      ]
     },
     "execution_count": 1991,
     "metadata": {},
     "output_type": "execute_result"
    }
   ],
   "source": [
    "data['Paint Type'].str[0].str.strip('\\n').value_counts(dropna = False)"
   ]
  },
  {
   "cell_type": "markdown",
   "metadata": {},
   "source": [
    "### We should decide or specify its importance or value level for price prediction."
   ]
  },
  {
   "cell_type": "code",
   "execution_count": 1992,
   "metadata": {},
   "outputs": [],
   "source": [
    "data['paint_type'] = data['Paint Type'].str[0].str.strip('\\n')"
   ]
  },
  {
   "cell_type": "code",
   "execution_count": 1993,
   "metadata": {},
   "outputs": [
    {
     "data": {
      "text/plain": [
       "Metallic       9794\n",
       "NaN            5772\n",
       "Uni/basic       347\n",
       "Perl effect       6\n",
       "Name: paint_type, dtype: int64"
      ]
     },
     "execution_count": 1993,
     "metadata": {},
     "output_type": "execute_result"
    }
   ],
   "source": [
    "data['paint_type'].value_counts(dropna = False)"
   ]
  },
  {
   "cell_type": "markdown",
   "metadata": {},
   "source": [
    "## country version"
   ]
  },
  {
   "cell_type": "code",
   "execution_count": 1994,
   "metadata": {},
   "outputs": [
    {
     "data": {
      "text/plain": [
       "0.5234625290533325"
      ]
     },
     "execution_count": 1994,
     "metadata": {},
     "output_type": "execute_result"
    }
   ],
   "source": [
    "data['Country version'].isnull().sum() / len(data['Country version'])"
   ]
  },
  {
   "cell_type": "markdown",
   "metadata": {},
   "source": [
    "### It seems more than half of the data are missing.¶"
   ]
  },
  {
   "cell_type": "code",
   "execution_count": 1995,
   "metadata": {},
   "outputs": [
    {
     "ename": "TypeError",
     "evalue": "unhashable type: 'list'",
     "output_type": "error",
     "traceback": [
      "\u001b[0;31m---------------------------------------------------------------------------\u001b[0m",
      "\u001b[0;31mTypeError\u001b[0m                                 Traceback (most recent call last)",
      "\u001b[0;32mpandas/_libs/hashtable_class_helper.pxi\u001b[0m in \u001b[0;36mpandas._libs.hashtable.PyObjectHashTable.map_locations\u001b[0;34m()\u001b[0m\n",
      "\u001b[0;31mTypeError\u001b[0m: unhashable type: 'list'"
     ]
    },
    {
     "name": "stderr",
     "output_type": "stream",
     "text": [
      "Exception ignored in: 'pandas._libs.index.IndexEngine._call_map_locations'\n",
      "Traceback (most recent call last):\n",
      "  File \"pandas/_libs/hashtable_class_helper.pxi\", line 1652, in pandas._libs.hashtable.PyObjectHashTable.map_locations\n",
      "TypeError: unhashable type: 'list'\n"
     ]
    },
    {
     "data": {
      "text/plain": [
       "NaN                     8333\n",
       "[\\nGermany\\n]           4502\n",
       "[\\nItaly\\n]             1038\n",
       "[\\nEuropean Union\\n]     507\n",
       "[\\nNetherlands\\n]        464\n",
       "[\\nSpain\\n]              325\n",
       "[\\nBelgium\\n]            314\n",
       "[\\nAustria\\n]            208\n",
       "[\\nCzech Republic\\n]      52\n",
       "[\\nPoland\\n]              49\n",
       "[\\nFrance\\n]              38\n",
       "[\\nDenmark\\n]             33\n",
       "[\\nHungary\\n]             28\n",
       "[\\nJapan\\n]                8\n",
       "[\\nSlovakia\\n]             4\n",
       "[\\nCroatia\\n]              4\n",
       "[\\nSweden\\n]               3\n",
       "[\\nRomania\\n]              2\n",
       "[\\nBulgaria\\n]             2\n",
       "[\\nSerbia\\n]               1\n",
       "[\\nLuxembourg\\n]           1\n",
       "[\\nSwitzerland\\n]          1\n",
       "[\\nSlovenia\\n]             1\n",
       "[\\nEgypt\\n]                1\n",
       "Name: Country version, dtype: int64"
      ]
     },
     "execution_count": 1995,
     "metadata": {},
     "output_type": "execute_result"
    }
   ],
   "source": [
    "data['Country version'].value_counts(dropna = False)"
   ]
  },
  {
   "cell_type": "code",
   "execution_count": 1996,
   "metadata": {},
   "outputs": [
    {
     "data": {
      "text/plain": [
       "NaN               8333\n",
       "Germany           4502\n",
       "Italy             1038\n",
       "European Union     507\n",
       "Netherlands        464\n",
       "Spain              325\n",
       "Belgium            314\n",
       "Austria            208\n",
       "Czech Republic      52\n",
       "Poland              49\n",
       "France              38\n",
       "Denmark             33\n",
       "Hungary             28\n",
       "Japan                8\n",
       "Slovakia             4\n",
       "Croatia              4\n",
       "Sweden               3\n",
       "Bulgaria             2\n",
       "Romania              2\n",
       "Egypt                1\n",
       "Luxembourg           1\n",
       "Slovenia             1\n",
       "Switzerland          1\n",
       "Serbia               1\n",
       "Name: Country version, dtype: int64"
      ]
     },
     "execution_count": 1996,
     "metadata": {},
     "output_type": "execute_result"
    }
   ],
   "source": [
    "data['Country version'].str[0].str.strip('\\n').value_counts(dropna = False)"
   ]
  },
  {
   "cell_type": "markdown",
   "metadata": {},
   "source": [
    "### It's not essential for the result (price) but we can keep it.\n",
    "### May be we can fillna using weight-mean in terms of values respectively"
   ]
  },
  {
   "cell_type": "code",
   "execution_count": 1997,
   "metadata": {},
   "outputs": [],
   "source": [
    "data['country'] = data['Country version'].str[0].str.strip('\\n')"
   ]
  },
  {
   "cell_type": "markdown",
   "metadata": {},
   "source": [
    "## Cylinders"
   ]
  },
  {
   "cell_type": "code",
   "execution_count": 1998,
   "metadata": {},
   "outputs": [
    {
     "data": {
      "text/plain": [
       "0.3568063320560337"
      ]
     },
     "execution_count": 1998,
     "metadata": {},
     "output_type": "execute_result"
    }
   ],
   "source": [
    "data.Cylinders.isnull().sum()/ len(data['Cylinders'])"
   ]
  },
  {
   "cell_type": "code",
   "execution_count": 1999,
   "metadata": {},
   "outputs": [
    {
     "ename": "TypeError",
     "evalue": "unhashable type: 'list'",
     "output_type": "error",
     "traceback": [
      "\u001b[0;31m---------------------------------------------------------------------------\u001b[0m",
      "\u001b[0;31mTypeError\u001b[0m                                 Traceback (most recent call last)",
      "\u001b[0;32mpandas/_libs/hashtable_class_helper.pxi\u001b[0m in \u001b[0;36mpandas._libs.hashtable.PyObjectHashTable.map_locations\u001b[0;34m()\u001b[0m\n",
      "\u001b[0;31mTypeError\u001b[0m: unhashable type: 'list'"
     ]
    },
    {
     "name": "stderr",
     "output_type": "stream",
     "text": [
      "Exception ignored in: 'pandas._libs.index.IndexEngine._call_map_locations'\n",
      "Traceback (most recent call last):\n",
      "  File \"pandas/_libs/hashtable_class_helper.pxi\", line 1652, in pandas._libs.hashtable.PyObjectHashTable.map_locations\n",
      "TypeError: unhashable type: 'list'\n"
     ]
    },
    {
     "data": {
      "text/plain": [
       "[\\n4\\n]    8105\n",
       "NaN        5680\n",
       "[\\n3\\n]    2104\n",
       "[\\n5\\n]      22\n",
       "[\\n6\\n]       3\n",
       "[\\n2\\n]       2\n",
       "[\\n8\\n]       2\n",
       "[\\n1\\n]       1\n",
       "Name: Cylinders, dtype: int64"
      ]
     },
     "execution_count": 1999,
     "metadata": {},
     "output_type": "execute_result"
    }
   ],
   "source": [
    "data.Cylinders.value_counts(dropna = False)"
   ]
  },
  {
   "cell_type": "markdown",
   "metadata": {},
   "source": [
    "### We can handle with the missing values later. Let's keep it for now."
   ]
  },
  {
   "cell_type": "code",
   "execution_count": 2000,
   "metadata": {},
   "outputs": [],
   "source": [
    "data['Cylinders'] = data['Cylinders'].str[0].str.strip('\\n')"
   ]
  },
  {
   "cell_type": "markdown",
   "metadata": {},
   "source": [
    "## Emmission Label"
   ]
  },
  {
   "cell_type": "code",
   "execution_count": 2001,
   "metadata": {},
   "outputs": [
    {
     "data": {
      "text/plain": [
       "0.749670205414913"
      ]
     },
     "execution_count": 2001,
     "metadata": {},
     "output_type": "execute_result"
    }
   ],
   "source": [
    "data['Emission Label'].isnull().sum()/ len(data['Emission Label'])"
   ]
  },
  {
   "cell_type": "markdown",
   "metadata": {},
   "source": [
    "### It has very high percentage of missing values. The percent of the missing values is high enough to drop but let's keep it for now."
   ]
  },
  {
   "cell_type": "code",
   "execution_count": 2002,
   "metadata": {},
   "outputs": [
    {
     "ename": "TypeError",
     "evalue": "unhashable type: 'list'",
     "output_type": "error",
     "traceback": [
      "\u001b[0;31m---------------------------------------------------------------------------\u001b[0m",
      "\u001b[0;31mTypeError\u001b[0m                                 Traceback (most recent call last)",
      "\u001b[0;32mpandas/_libs/hashtable_class_helper.pxi\u001b[0m in \u001b[0;36mpandas._libs.hashtable.PyObjectHashTable.map_locations\u001b[0;34m()\u001b[0m\n",
      "\u001b[0;31mTypeError\u001b[0m: unhashable type: 'list'"
     ]
    },
    {
     "name": "stderr",
     "output_type": "stream",
     "text": [
      "Exception ignored in: 'pandas._libs.index.IndexEngine._call_map_locations'\n",
      "Traceback (most recent call last):\n",
      "  File \"pandas/_libs/hashtable_class_helper.pxi\", line 1652, in pandas._libs.hashtable.PyObjectHashTable.map_locations\n",
      "TypeError: unhashable type: 'list'\n"
     ]
    },
    {
     "data": {
      "text/plain": [
       "NaN                     11934\n",
       "[\\n4 (Green)\\n]          3553\n",
       "[\\n1 (No sticker)\\n]      381\n",
       "[[], [], []]               40\n",
       "[\\n5 (Blue)\\n]              8\n",
       "[\\n3 (Yellow)\\n]            2\n",
       "[\\n2 (Red)\\n]               1\n",
       "Name: Emission Label, dtype: int64"
      ]
     },
     "execution_count": 2002,
     "metadata": {},
     "output_type": "execute_result"
    }
   ],
   "source": [
    "data['Emission Label'].value_counts(dropna = False)"
   ]
  },
  {
   "cell_type": "code",
   "execution_count": 2003,
   "metadata": {},
   "outputs": [
    {
     "data": {
      "text/plain": [
       "NaN               11974\n",
       "4 (Green)          3553\n",
       "1 (No sticker)      381\n",
       "5 (Blue)              8\n",
       "3 (Yellow)            2\n",
       "2 (Red)               1\n",
       "Name: Emission Label, dtype: int64"
      ]
     },
     "execution_count": 2003,
     "metadata": {},
     "output_type": "execute_result"
    }
   ],
   "source": [
    "data['Emission Label'].str[0].str.strip('\\n').value_counts(dropna = False)"
   ]
  },
  {
   "cell_type": "code",
   "execution_count": 2004,
   "metadata": {},
   "outputs": [],
   "source": [
    "data['emission_label'] = data['Emission Label'].str[0].str.strip('\\n')"
   ]
  },
  {
   "cell_type": "code",
   "execution_count": 2005,
   "metadata": {},
   "outputs": [
    {
     "data": {
      "text/plain": [
       "NaN               11974\n",
       "4 (Green)          3553\n",
       "1 (No sticker)      381\n",
       "5 (Blue)              8\n",
       "3 (Yellow)            2\n",
       "2 (Red)               1\n",
       "Name: emission_label, dtype: int64"
      ]
     },
     "execution_count": 2005,
     "metadata": {},
     "output_type": "execute_result"
    }
   ],
   "source": [
    "data.emission_label.value_counts(dropna = False)"
   ]
  },
  {
   "cell_type": "markdown",
   "metadata": {},
   "source": [
    "## Full Service"
   ]
  },
  {
   "cell_type": "code",
   "execution_count": 2006,
   "metadata": {},
   "outputs": [
    {
     "data": {
      "text/plain": [
       "0.4839499968590992"
      ]
     },
     "execution_count": 2006,
     "metadata": {},
     "output_type": "execute_result"
    }
   ],
   "source": [
    "data['Full Service'].isnull().sum()/ len(data['Full Service'])"
   ]
  },
  {
   "cell_type": "code",
   "execution_count": 2007,
   "metadata": {},
   "outputs": [
    {
     "ename": "TypeError",
     "evalue": "unhashable type: 'list'",
     "output_type": "error",
     "traceback": [
      "\u001b[0;31m---------------------------------------------------------------------------\u001b[0m",
      "\u001b[0;31mTypeError\u001b[0m                                 Traceback (most recent call last)",
      "\u001b[0;32mpandas/_libs/hashtable_class_helper.pxi\u001b[0m in \u001b[0;36mpandas._libs.hashtable.PyObjectHashTable.map_locations\u001b[0;34m()\u001b[0m\n",
      "\u001b[0;31mTypeError\u001b[0m: unhashable type: 'list'"
     ]
    },
    {
     "name": "stderr",
     "output_type": "stream",
     "text": [
      "Exception ignored in: 'pandas._libs.index.IndexEngine._call_map_locations'\n",
      "Traceback (most recent call last):\n",
      "  File \"pandas/_libs/hashtable_class_helper.pxi\", line 1652, in pandas._libs.hashtable.PyObjectHashTable.map_locations\n",
      "TypeError: unhashable type: 'list'\n"
     ]
    },
    {
     "data": {
      "text/plain": [
       "NaN                                                                                           7704\n",
       "[\\n, \\n, \\n4 (Green)\\n]                                                                       2235\n",
       "[\\n, \\n, \\nEuro 6\\n]                                                                          2097\n",
       "[\\n, \\n]                                                                                      1702\n",
       "[\\n, \\n, \\nEuro 6d-TEMP\\n]                                                                     399\n",
       "                                                                                              ... \n",
       "[\\n, \\n, \\n, 6 l/100 km (comb), \\n, 7.5 l/100 km (city), \\n, 5.2 l/100 km (country), \\n]         1\n",
       "[\\n, \\n, \\n, 5.5 l/100 km (comb), \\n, 7.2 l/100 km (city), \\n, 4.5 l/100 km (country), \\n]       1\n",
       "[\\n, \\n, \\n, 5.8 l/100 km (comb), \\n, 7.4 l/100 km (city), \\n, 4.9 l/100 km (country), \\n]       1\n",
       "[\\n, \\n, \\n, 5.4 l/100 km (comb), \\n, 7 l/100 km (city), \\n, 4.5 l/100 km (country), \\n]         1\n",
       "[\\n, \\n, \\n, 5.4 l/100 km (comb), \\n, 7.3 l/100 km (city), \\n, 4.2 l/100 km (country), \\n]       1\n",
       "Name: Full Service, Length: 123, dtype: int64"
      ]
     },
     "execution_count": 2007,
     "metadata": {},
     "output_type": "execute_result"
    }
   ],
   "source": [
    "data['Full Service'].value_counts(dropna = False)"
   ]
  },
  {
   "cell_type": "code",
   "execution_count": 2008,
   "metadata": {},
   "outputs": [
    {
     "data": {
      "text/plain": [
       "[nan,\n",
       " ['\\n', '\\n', '\\n4 (Green)\\n'],\n",
       " ['\\n', '\\n', '\\nEuro 6\\n'],\n",
       " ['\\n', '\\n'],\n",
       " ['\\n', '\\n', '\\nEuro 6d-TEMP\\n'],\n",
       " '\\n',\n",
       " ['\\n', '\\n', '\\n120 g CO2/km (comb)\\n'],\n",
       " ['\\n', '\\n', '\\n126 g CO2/km (comb)\\n'],\n",
       " ['\\n', '\\n', '\\n104 g CO2/km (comb)\\n'],\n",
       " ['\\n', '\\n', '\\n97 g CO2/km (comb)\\n'],\n",
       " ['\\n', '\\n', '\\n124 g CO2/km (comb)\\n'],\n",
       " ['\\n', '\\n', '\\n99 g CO2/km (comb)\\n'],\n",
       " ['\\n', '\\n', '\\n128 g CO2/km (comb)\\n'],\n",
       " ['\\n', '\\n', '\\n119 g CO2/km (comb)\\n'],\n",
       " ['\\n', '\\n', '\\n140 g CO2/km (comb)\\n'],\n",
       " ['\\n', '\\n', '\\n106 g CO2/km (comb)\\n'],\n",
       " ['\\n', '\\n', '\\n92 g CO2/km (comb)\\n'],\n",
       " ['\\n', '\\n', '\\n107 g CO2/km (comb)\\n'],\n",
       " ['\\n', '\\n', '\\n114 g CO2/km (comb)\\n'],\n",
       " ['\\n', '\\n', '\\n1 (No sticker)\\n'],\n",
       " ['\\n', '\\n', '\\n102 g CO2/km (comb)\\n'],\n",
       " ['\\n', '\\n', '\\n103 g CO2/km (comb)\\n'],\n",
       " ['\\n', '\\n', '\\nEuro 6c\\n'],\n",
       " ['\\n', '\\n', '\\n117 g CO2/km (comb)\\n'],\n",
       " ['\\n', '\\n', '\\n139 g CO2/km (comb)\\n'],\n",
       " ['\\n', '\\n', '\\n127 g CO2/km (comb)\\n'],\n",
       " ['\\n', '\\n', '\\n141 g CO2/km (comb)\\n'],\n",
       " ['\\n', '\\n', '\\n125 g CO2/km (comb)\\n'],\n",
       " ['\\n', '\\n', '\\n136 g CO2/km (comb)\\n'],\n",
       " ['\\n', '\\n', '\\n85 g CO2/km (comb)\\n'],\n",
       " ['\\n', '\\n', '\\n108 g CO2/km (comb)\\n'],\n",
       " ['\\n', '\\n', '\\n112 g CO2/km (comb)\\n'],\n",
       " ['\\n', '\\n', '\\n5 (Blue)\\n'],\n",
       " ['\\n', '\\n', '\\n109 g CO2/km (comb)\\n'],\n",
       " ['\\n', '\\n', '\\n129 g CO2/km (comb)\\n'],\n",
       " ['\\n', '\\n', '\\n150 g CO2/km (comb)\\n'],\n",
       " ['\\n', '\\n', '\\n130 g CO2/km (comb)\\n'],\n",
       " ['\\n', '\\n', '\\n154 g CO2/km (comb)\\n'],\n",
       " ['\\n', '\\n', '\\n113 g CO2/km (comb)\\n'],\n",
       " ['\\n', '\\n', '\\n133 g CO2/km (comb)\\n'],\n",
       " ['\\n', '\\n', '\\n135 g CO2/km (comb)\\n'],\n",
       " ['\\n', '\\n', '\\n116 g CO2/km (comb)\\n'],\n",
       " ['\\n', '\\n', '\\n110 g CO2/km (comb)\\n'],\n",
       " ['\\n', '\\n', '\\n143 g CO2/km (comb)\\n'],\n",
       " ['\\n', '\\n', '\\n123 g CO2/km (comb)\\n'],\n",
       " ['\\n', '\\n', '\\n137 g CO2/km (comb)\\n'],\n",
       " ['\\n', '\\n', '\\nEuro 6d\\n'],\n",
       " ['\\n', '\\n', '\\n105 g CO2/km (comb)\\n'],\n",
       " ['\\n', '\\n', '\\n95 g CO2/km (comb)\\n'],\n",
       " ['\\n', '\\n', '\\n101 g CO2/km (comb)\\n'],\n",
       " ['\\n', '\\n', '\\n132 g CO2/km (comb)\\n'],\n",
       " ['\\n', '\\n', '\\n118 g CO2/km (comb)\\n'],\n",
       " ['\\n', '\\n', '\\n111 g CO2/km (comb)\\n'],\n",
       " ['\\n', '\\n', '\\n149 g CO2/km (comb)\\n'],\n",
       " ['\\n', '\\n', '\\n91 g CO2/km (comb)\\n'],\n",
       " ['\\n', '\\n', '\\n147 g CO2/km (comb)\\n'],\n",
       " ['\\n', '\\n', '\\n145 g CO2/km (comb)\\n'],\n",
       " ['\\n', '\\n', '\\nEuro 5\\n'],\n",
       " ['\\n', '\\n', '\\n121 g CO2/km (comb)\\n'],\n",
       " ['\\n', '\\n', '\\n96 g CO2/km (comb)\\n'],\n",
       " ['\\n', '\\n', '\\n138 g CO2/km (comb)\\n'],\n",
       " ['\\n', '\\n', '\\n134 g CO2/km (comb)\\n'],\n",
       " ['\\n', '\\n', '\\n142 g CO2/km (comb)\\n'],\n",
       " ['\\n', '\\n', '\\n82 g CO2/km (comb)\\n'],\n",
       " ['\\n', '\\n', '\\n148 g CO2/km (comb)\\n'],\n",
       " ['\\n', '\\n', '\\n89 g CO2/km (comb)\\n'],\n",
       " ['\\n', '\\n', '\\n189 g CO2/km (comb)\\n'],\n",
       " ['\\n', '\\n', '\\n131 g CO2/km (comb)\\n'],\n",
       " ['\\n',\n",
       "  '\\n',\n",
       "  '\\n',\n",
       "  '6.6 l/100 km (comb)',\n",
       "  '\\n',\n",
       "  '8.2 l/100 km (city)',\n",
       "  '\\n',\n",
       "  '5.6 l/100 km (country)',\n",
       "  '\\n'],\n",
       " ['\\n', '\\n', '\\n94 g CO2/km (comb)\\n'],\n",
       " ['\\n', '\\n', '\\n115 g CO2/km (comb)\\n'],\n",
       " ['\\n', '\\n', '\\n153 g CO2/km (comb)\\n'],\n",
       " ['\\n', '\\n', '\\n122 g CO2/km (comb)\\n'],\n",
       " ['\\n', '\\n', '\\n152 g CO2/km (comb)\\n'],\n",
       " ['\\n',\n",
       "  '\\n',\n",
       "  '\\n',\n",
       "  '4.9 l/100 km (comb)',\n",
       "  '\\n',\n",
       "  '6 l/100 km (city)',\n",
       "  '\\n',\n",
       "  '4.2 l/100 km (country)',\n",
       "  '\\n'],\n",
       " ['\\n', '\\n', '\\n151 g CO2/km (comb)\\n'],\n",
       " ['\\n', '\\n', '\\n98 g CO2/km (comb)\\n'],\n",
       " ['\\n',\n",
       "  '\\n',\n",
       "  '\\n',\n",
       "  '5.7 l/100 km (comb)',\n",
       "  '\\n',\n",
       "  '7.3 l/100 km (city)',\n",
       "  '\\n',\n",
       "  '4.8 l/100 km (country)',\n",
       "  '\\n'],\n",
       " ['\\n',\n",
       "  '\\n',\n",
       "  '\\n',\n",
       "  '4.8 l/100 km (comb)',\n",
       "  '\\n',\n",
       "  '5.9 l/100 km (city)',\n",
       "  '\\n',\n",
       "  '4.2 l/100 km (country)',\n",
       "  '\\n'],\n",
       " ['\\n', '\\n', '\\n169 g CO2/km (comb)\\n'],\n",
       " ['\\n', '\\n', '\\n0 kWh/100 km (comb)\\n'],\n",
       " ['\\n', '\\n', '\\n166 g CO2/km (comb)\\n'],\n",
       " ['\\n', '\\n', '\\n93 g CO2/km (comb)\\n'],\n",
       " ['\\n', '\\n', '\\n', '5.4 l/100 km (comb)', '\\n', '\\n', '\\n'],\n",
       " ['\\n', '\\n', '\\n157 g CO2/km (comb)\\n'],\n",
       " ['\\n',\n",
       "  '\\n',\n",
       "  '\\n',\n",
       "  '6.3 l/100 km (comb)',\n",
       "  '\\n',\n",
       "  '7.8 l/100 km (city)',\n",
       "  '\\n',\n",
       "  '5.4 l/100 km (country)',\n",
       "  '\\n'],\n",
       " ['\\n', '\\n', '\\n188 g CO2/km (comb)\\n'],\n",
       " ['\\n', '\\n', '\\n144 g CO2/km (comb)\\n'],\n",
       " ['\\n',\n",
       "  '\\n',\n",
       "  '\\n',\n",
       "  '5.4 l/100 km (comb)',\n",
       "  '\\n',\n",
       "  '6.7 l/100 km (city)',\n",
       "  '\\n',\n",
       "  '4.6 l/100 km (country)',\n",
       "  '\\n'],\n",
       " ['\\n',\n",
       "  '\\n',\n",
       "  '\\n',\n",
       "  '4.4 l/100 km (comb)',\n",
       "  '\\n',\n",
       "  '5.2 l/100 km (city)',\n",
       "  '\\n',\n",
       "  '3.9 l/100 km (country)',\n",
       "  '\\n'],\n",
       " ['\\n', '\\n', '\\n146 g CO2/km (comb)\\n'],\n",
       " ['\\n', '\\n', '\\n90 g CO2/km (comb)\\n'],\n",
       " ['\\n',\n",
       "  '\\n',\n",
       "  '\\n',\n",
       "  '5.7 l/100 km (comb)',\n",
       "  '\\n',\n",
       "  '7.2 l/100 km (city)',\n",
       "  '\\n',\n",
       "  '4.8 l/100 km (country)',\n",
       "  '\\n'],\n",
       " ['\\n',\n",
       "  '\\n',\n",
       "  '\\n',\n",
       "  '5.9 l/100 km (comb)',\n",
       "  '\\n',\n",
       "  '7.8 l/100 km (city)',\n",
       "  '\\n',\n",
       "  '4.8 l/100 km (country)',\n",
       "  '\\n'],\n",
       " ['\\n', '\\n', '\\n88 g CO2/km (comb)\\n'],\n",
       " ['\\n',\n",
       "  '\\n',\n",
       "  '\\n',\n",
       "  '5.9 l/100 km (comb)',\n",
       "  '\\n',\n",
       "  '7.6 l/100 km (city)',\n",
       "  '\\n',\n",
       "  '5.1 l/100 km (country)',\n",
       "  '\\n'],\n",
       " ['\\n', '\\n', '\\nEuro 4\\n'],\n",
       " ['\\n',\n",
       "  '\\n',\n",
       "  '\\n',\n",
       "  '5.9 l/100 km (comb)',\n",
       "  '\\n',\n",
       "  '7.6 l/100 km (city)',\n",
       "  '\\n',\n",
       "  '4.9 l/100 km (country)',\n",
       "  '\\n'],\n",
       " ['\\n',\n",
       "  '\\n',\n",
       "  '\\n',\n",
       "  '4.6 l/100 km (comb)',\n",
       "  '\\n',\n",
       "  '5.8 l/100 km (city)',\n",
       "  '\\n',\n",
       "  '3.9 l/100 km (country)',\n",
       "  '\\n'],\n",
       " ['\\n',\n",
       "  '\\n',\n",
       "  '\\n',\n",
       "  '5.7 l/100 km (comb)',\n",
       "  '\\n',\n",
       "  '7.3 l/100 km (city)',\n",
       "  '\\n',\n",
       "  '4.9 l/100 km (country)',\n",
       "  '\\n'],\n",
       " ['\\n',\n",
       "  '\\n',\n",
       "  '\\n',\n",
       "  '6.6 l/100 km (comb)',\n",
       "  '\\n',\n",
       "  '8.4 l/100 km (city)',\n",
       "  '\\n',\n",
       "  '5.6 l/100 km (country)',\n",
       "  '\\n'],\n",
       " ['\\n',\n",
       "  '\\n',\n",
       "  '\\n',\n",
       "  '6.6 l/100 km (comb)',\n",
       "  '\\n',\n",
       "  '8.3 l/100 km (city)',\n",
       "  '\\n',\n",
       "  '5.6 l/100 km (country)',\n",
       "  '\\n'],\n",
       " ['\\n', '\\n', '\\n197 g CO2/km (comb)\\n'],\n",
       " ['\\n', '\\n', '\\n13,983 g CO2/km (comb)\\n'],\n",
       " ['\\n',\n",
       "  '\\n',\n",
       "  '\\n',\n",
       "  '6.5 l/100 km (comb)',\n",
       "  '\\n',\n",
       "  '8.1 l/100 km (city)',\n",
       "  '\\n',\n",
       "  '5.5 l/100 km (country)',\n",
       "  '\\n'],\n",
       " ['\\n', '\\n', '\\n164 g CO2/km (comb)\\n'],\n",
       " ['\\n', '\\n', '\\n253 g CO2/km (comb)\\n'],\n",
       " ['\\n', '\\n', '\\n159 g CO2/km (comb)\\n'],\n",
       " ['\\n', '\\n', '\\n156 g CO2/km (comb)\\n'],\n",
       " ['\\n',\n",
       "  '\\n',\n",
       "  '\\n',\n",
       "  '6.2 l/100 km (comb)',\n",
       "  '\\n',\n",
       "  '7.7 l/100 km (city)',\n",
       "  '\\n',\n",
       "  '5.4 l/100 km (country)',\n",
       "  '\\n'],\n",
       " ['\\n', '\\n', '\\n87 g CO2/km (comb)\\n'],\n",
       " ['\\n',\n",
       "  '\\n',\n",
       "  '\\n',\n",
       "  '4.3 l/100 km (comb)',\n",
       "  '\\n',\n",
       "  '5.2 l/100 km (city)',\n",
       "  '\\n',\n",
       "  '3.9 l/100 km (country)',\n",
       "  '\\n'],\n",
       " ['\\n', '\\n', '\\n84 g CO2/km (comb)\\n'],\n",
       " ['\\n',\n",
       "  '\\n',\n",
       "  '\\n',\n",
       "  '6 l/100 km (comb)',\n",
       "  '\\n',\n",
       "  '8 l/100 km (city)',\n",
       "  '\\n',\n",
       "  '4.9 l/100 km (country)',\n",
       "  '\\n'],\n",
       " ['\\n',\n",
       "  '\\n',\n",
       "  '\\n',\n",
       "  '4.9 l/100 km (comb)',\n",
       "  '\\n',\n",
       "  '6.2 l/100 km (city)',\n",
       "  '\\n',\n",
       "  '4.1 l/100 km (country)',\n",
       "  '\\n'],\n",
       " ['\\n',\n",
       "  '\\n',\n",
       "  '\\n',\n",
       "  '5 l/100 km (comb)',\n",
       "  '\\n',\n",
       "  '5.9 l/100 km (city)',\n",
       "  '\\n',\n",
       "  '4.5 l/100 km (country)',\n",
       "  '\\n'],\n",
       " ['\\n',\n",
       "  '\\n',\n",
       "  '\\n',\n",
       "  '4.7 l/100 km (comb)',\n",
       "  '\\n',\n",
       "  '5.4 l/100 km (city)',\n",
       "  '\\n',\n",
       "  '4.2 l/100 km (country)',\n",
       "  '\\n'],\n",
       " ['\\n', '\\n', '\\n80 g CO2/km (comb)\\n'],\n",
       " ['\\n',\n",
       "  '\\n',\n",
       "  '\\n',\n",
       "  '6 l/100 km (comb)',\n",
       "  '\\n',\n",
       "  '7.5 l/100 km (city)',\n",
       "  '\\n',\n",
       "  '5.2 l/100 km (country)',\n",
       "  '\\n'],\n",
       " ['\\n',\n",
       "  '\\n',\n",
       "  '\\n',\n",
       "  '5.5 l/100 km (comb)',\n",
       "  '\\n',\n",
       "  '7.2 l/100 km (city)',\n",
       "  '\\n',\n",
       "  '4.5 l/100 km (country)',\n",
       "  '\\n'],\n",
       " ['\\n',\n",
       "  '\\n',\n",
       "  '\\n',\n",
       "  '5.8 l/100 km (comb)',\n",
       "  '\\n',\n",
       "  '7.4 l/100 km (city)',\n",
       "  '\\n',\n",
       "  '4.9 l/100 km (country)',\n",
       "  '\\n'],\n",
       " ['\\n',\n",
       "  '\\n',\n",
       "  '\\n',\n",
       "  '5.4 l/100 km (comb)',\n",
       "  '\\n',\n",
       "  '7 l/100 km (city)',\n",
       "  '\\n',\n",
       "  '4.5 l/100 km (country)',\n",
       "  '\\n'],\n",
       " ['\\n',\n",
       "  '\\n',\n",
       "  '\\n',\n",
       "  '5.4 l/100 km (comb)',\n",
       "  '\\n',\n",
       "  '7.3 l/100 km (city)',\n",
       "  '\\n',\n",
       "  '4.2 l/100 km (country)',\n",
       "  '\\n']]"
      ]
     },
     "execution_count": 2008,
     "metadata": {},
     "output_type": "execute_result"
    }
   ],
   "source": [
    "list(data['Full Service'].value_counts(dropna = False).index)"
   ]
  },
  {
   "cell_type": "code",
   "execution_count": 2009,
   "metadata": {},
   "outputs": [],
   "source": [
    "data.drop('Full Service', axis=1, inplace = True)"
   ]
  },
  {
   "cell_type": "markdown",
   "metadata": {},
   "source": [
    "## Comfort & Convenience"
   ]
  },
  {
   "cell_type": "code",
   "execution_count": 2010,
   "metadata": {},
   "outputs": [
    {
     "data": {
      "text/plain": [
       "0                                                                                                                                                                                               [Air conditioning, Armrest, Automatic climate control, Cruise control, Electrical side mirrors, Hill Holder, Leather steering wheel, Light sensor, Multi-function steering wheel, Navigation system, Park Distance Control, Parking assist system sensors rear, Power windows, Rain sensor, Seat heating, Start-stop system]\n",
       "1                                                                                                                                                                                                                                                                                                                                   [Air conditioning, Automatic climate control, Hill Holder, Leather steering wheel, Lumbar support, Parking assist system sensors rear, Power windows, Start-stop system, Tinted windows]\n",
       "2                                                                                                                                                                                                                         [Air conditioning, Cruise control, Electrical side mirrors, Hill Holder, Leather steering wheel, Multi-function steering wheel, Navigation system, Park Distance Control, Parking assist system sensors front, Parking assist system sensors rear, Power windows, Seat heating, Start-stop system]\n",
       "3                                                                                                                                                                                                                                [Air suspension, Armrest, Auxiliary heating, Electrical side mirrors, Heads-up display, Hill Holder, Leather steering wheel, Light sensor, Lumbar support, Multi-function steering wheel, Navigation system, Power windows, Rain sensor, Seat heating, Split rear seats, Start-stop system]\n",
       "4                                                                                                                                                                                                                                                [Air conditioning, Armrest, Automatic climate control, Electrical side mirrors, Hill Holder, Leather steering wheel, Light sensor, Multi-function steering wheel, Park Distance Control, Parking assist system sensors rear, Power windows, Rain sensor, Start-stop system]\n",
       "                                                                                                                                                                                                                                                                ...                                                                                                                                                                                                                                                         \n",
       "15914                                                                  [Air conditioning, Automatic climate control, Cruise control, Electrically adjustable seats, Electrical side mirrors, Hill Holder, Keyless central door lock, Leather steering wheel, Light sensor, Massage seats, Multi-function steering wheel, Navigation system, Park Distance Control, Parking assist system sensors front, Parking assist system sensors rear, Power windows, Rain sensor, Split rear seats, Start-stop system, Tinted windows]\n",
       "15915    [Air conditioning, Automatic climate control, Cruise control, Electrically heated windshield, Electrical side mirrors, Electric tailgate, Heads-up display, Heated steering wheel, Hill Holder, Keyless central door lock, Leather steering wheel, Light sensor, Lumbar support, Navigation system, Park Distance Control, Parking assist system camera, Parking assist system self-steering, Parking assist system sensors front, Parking assist system sensors rear, Power windows, Rain sensor, Seat heating,...\n",
       "15916    [Air conditioning, Armrest, Automatic climate control, Cruise control, Electrically heated windshield, Electrical side mirrors, Electric tailgate, Heads-up display, Heated steering wheel, Leather steering wheel, Light sensor, Massage seats, Multi-function steering wheel, Navigation system, Panorama roof, Park Distance Control, Parking assist system camera, Parking assist system sensors front, Parking assist system sensors rear, Power windows, Rain sensor, Seat heating, Seat ventilation, Sunr...\n",
       "15917                                                                                                                                                                                                                                                                                                   [Air conditioning, Automatic climate control, Cruise control, Electrically adjustable seats, Electrical side mirrors, Leather steering wheel, Light sensor, Park Distance Control, Power windows, Start-stop system]\n",
       "15918                                                                                                                                                                                                                                                                                          [Air conditioning, Automatic climate control, Cruise control, Electrically adjustable seats, Electrical side mirrors, Electric tailgate, Hill Holder, Leather steering wheel, Navigation system, Power windows, Seat heating]\n",
       "Name: \\nComfort & Convenience\\n, Length: 15919, dtype: object"
      ]
     },
     "execution_count": 2010,
     "metadata": {},
     "output_type": "execute_result"
    }
   ],
   "source": [
    "data['\\nComfort & Convenience\\n']"
   ]
  },
  {
   "cell_type": "code",
   "execution_count": 2011,
   "metadata": {},
   "outputs": [
    {
     "ename": "TypeError",
     "evalue": "unhashable type: 'list'",
     "output_type": "error",
     "traceback": [
      "\u001b[0;31m---------------------------------------------------------------------------\u001b[0m",
      "\u001b[0;31mTypeError\u001b[0m                                 Traceback (most recent call last)",
      "\u001b[0;32mpandas/_libs/hashtable_class_helper.pxi\u001b[0m in \u001b[0;36mpandas._libs.hashtable.PyObjectHashTable.map_locations\u001b[0;34m()\u001b[0m\n",
      "\u001b[0;31mTypeError\u001b[0m: unhashable type: 'list'"
     ]
    },
    {
     "name": "stderr",
     "output_type": "stream",
     "text": [
      "Exception ignored in: 'pandas._libs.index.IndexEngine._call_map_locations'\n",
      "Traceback (most recent call last):\n",
      "  File \"pandas/_libs/hashtable_class_helper.pxi\", line 1652, in pandas._libs.hashtable.PyObjectHashTable.map_locations\n",
      "TypeError: unhashable type: 'list'\n"
     ]
    },
    {
     "data": {
      "text/plain": [
       "NaN                                                                                                                                                                                                                                                                                                                                                                     920\n",
       "[Air conditioning, Electrical side mirrors, Hill Holder, Power windows]                                                                                                                                                                                                                                                                                                 216\n",
       "[Air conditioning, Electrical side mirrors, Power windows]                                                                                                                                                                                                                                                                                                              134\n",
       "[Air conditioning, Power windows]                                                                                                                                                                                                                                                                                                                                       130\n",
       "[Air conditioning, Armrest, Automatic climate control, Cruise control, Electrical side mirrors, Leather steering wheel, Light sensor, Lumbar support, Multi-function steering wheel, Navigation system, Park Distance Control, Parking assist system sensors front, Parking assist system sensors rear, Power windows, Rain sensor, Seat heating, Start-stop system]    105\n",
       "                                                                                                                                                                                                                                                                                                                                                                       ... \n",
       "[Air conditioning, Armrest, Automatic climate control, Cruise control, Leather steering wheel, Lumbar support, Multi-function steering wheel, Navigation system, Park Distance Control, Parking assist system sensors front, Parking assist system sensors rear, Power windows, Rain sensor]                                                                              1\n",
       "[Air conditioning, Armrest, Automatic climate control, Electrical side mirrors, Hill Holder, Keyless central door lock, Leather steering wheel, Light sensor, Park Distance Control, Parking assist system sensors rear, Power windows, Rain sensor]                                                                                                                      1\n",
       "[Air conditioning, Automatic climate control, Cruise control, Electrical side mirrors, Leather steering wheel, Light sensor, Multi-function steering wheel, Navigation system, Park Distance Control, Parking assist system sensors rear, Power windows, Rain sensor, Start-stop system]                                                                                  1\n",
       "[Air conditioning, Armrest, Cruise control, Electrical side mirrors, Leather steering wheel, Light sensor, Multi-function steering wheel, Park Distance Control, Parking assist system camera, Parking assist system sensors front, Parking assist system sensors rear, Power windows, Rain sensor, Seat heating, Start-stop system]                                      1\n",
       "[Air conditioning, Armrest, Automatic climate control, Auxiliary heating, Electrical side mirrors, Leather steering wheel, Light sensor, Multi-function steering wheel, Navigation system, Park Distance Control, Parking assist system sensors front, Parking assist system sensors rear, Power windows, Seat heating]                                                   1\n",
       "Name: \\nComfort & Convenience\\n, Length: 6199, dtype: int64"
      ]
     },
     "execution_count": 2011,
     "metadata": {},
     "output_type": "execute_result"
    }
   ],
   "source": [
    "data['\\nComfort & Convenience\\n'].value_counts(dropna = False)"
   ]
  },
  {
   "cell_type": "code",
   "execution_count": 2012,
   "metadata": {},
   "outputs": [
    {
     "ename": "TypeError",
     "evalue": "unhashable type: 'list'",
     "output_type": "error",
     "traceback": [
      "\u001b[0;31m---------------------------------------------------------------------------\u001b[0m",
      "\u001b[0;31mTypeError\u001b[0m                                 Traceback (most recent call last)",
      "\u001b[0;32mpandas/_libs/hashtable_class_helper.pxi\u001b[0m in \u001b[0;36mpandas._libs.hashtable.PyObjectHashTable.map_locations\u001b[0;34m()\u001b[0m\n",
      "\u001b[0;31mTypeError\u001b[0m: unhashable type: 'list'"
     ]
    },
    {
     "name": "stderr",
     "output_type": "stream",
     "text": [
      "Exception ignored in: 'pandas._libs.index.IndexEngine._call_map_locations'\n",
      "Traceback (most recent call last):\n",
      "  File \"pandas/_libs/hashtable_class_helper.pxi\", line 1652, in pandas._libs.hashtable.PyObjectHashTable.map_locations\n",
      "TypeError: unhashable type: 'list'\n"
     ]
    },
    {
     "data": {
      "text/plain": [
       "NaN                                                                                                                                                                                                                                                                                                                                                                                                                                                                                                                    920\n",
       "[Air conditioning, Electrical side mirrors, Hill Holder, Power windows]                                                                                                                                                                                                                                                                                                                                                                                                                                                216\n",
       "[Air conditioning, Electrical side mirrors, Power windows]                                                                                                                                                                                                                                                                                                                                                                                                                                                             134\n",
       "[Air conditioning, Power windows]                                                                                                                                                                                                                                                                                                                                                                                                                                                                                      130\n",
       "[Air conditioning, Armrest, Automatic climate control, Cruise control, Electrical side mirrors, Leather steering wheel, Light sensor, Lumbar support, Multi-function steering wheel, Navigation system, Park Distance Control, Parking assist system sensors front, Parking assist system sensors rear, Power windows, Rain sensor, Seat heating, Start-stop system]                                                                                                                                                   105\n",
       "[Air conditioning, Armrest, Automatic climate control, Cruise control, Electrical side mirrors, Hill Holder, Leather steering wheel, Light sensor, Multi-function steering wheel, Navigation system, Park Distance Control, Parking assist system sensors rear, Power windows, Rain sensor, Seat heating, Start-stop system]                                                                                                                                                                                            92\n",
       "[Air conditioning, Automatic climate control, Cruise control, Multi-function steering wheel, Park Distance Control, Power windows]                                                                                                                                                                                                                                                                                                                                                                                      89\n",
       "[Air conditioning, Power windows, Seat ventilation, Split rear seats]                                                                                                                                                                                                                                                                                                                                                                                                                                                   82\n",
       "[Air conditioning]                                                                                                                                                                                                                                                                                                                                                                                                                                                                                                      79\n",
       "[Air conditioning, Seat ventilation, Split rear seats]                                                                                                                                                                                                                                                                                                                                                                                                                                                                  79\n",
       "[Air conditioning, Electrical side mirrors, Hill Holder, Multi-function steering wheel, Power windows]                                                                                                                                                                                                                                                                                                                                                                                                                  78\n",
       "[Air conditioning, Cruise control, Electrical side mirrors, Hill Holder, Leather steering wheel, Multi-function steering wheel, Power windows]                                                                                                                                                                                                                                                                                                                                                                          77\n",
       "[Air conditioning, Cruise control, Electrically heated windshield, Electrical side mirrors, Heated steering wheel, Hill Holder, Leather steering wheel, Light sensor, Multi-function steering wheel, Park Distance Control, Parking assist system camera, Parking assist system sensors front, Parking assist system sensors rear, Power windows, Rain sensor, Seat heating]                                                                                                                                            72\n",
       "[Air conditioning, Cruise control, Electrical side mirrors, Heated steering wheel, Hill Holder, Leather steering wheel, Multi-function steering wheel, Park Distance Control, Parking assist system sensors rear, Power windows, Seat heating]                                                                                                                                                                                                                                                                          64\n",
       "[Air conditioning, Armrest, Automatic climate control, Cruise control, Electrically adjustable seats, Electrical side mirrors, Electric tailgate, Heated steering wheel, Hill Holder, Keyless central door lock, Leather steering wheel, Light sensor, Lumbar support, Multi-function steering wheel, Navigation system, Park Distance Control, Parking assist system camera, Parking assist system sensors front, Parking assist system sensors rear, Power windows, Rain sensor, Seat heating, Start-stop system]     58\n",
       "[Air conditioning, Armrest, Automatic climate control, Electrical side mirrors, Hill Holder, Keyless central door lock, Leather steering wheel, Light sensor, Lumbar support, Multi-function steering wheel, Navigation system, Park Distance Control, Parking assist system sensors rear, Power windows, Rain sensor, Seat heating, Start-stop system]                                                                                                                                                                 57\n",
       "[Air conditioning, Armrest, Automatic climate control, Cruise control, Electrical side mirrors, Leather steering wheel, Light sensor, Multi-function steering wheel, Navigation system, Park Distance Control, Parking assist system sensors rear, Power windows, Rain sensor, Seat heating, Start-stop system]                                                                                                                                                                                                         53\n",
       "[Air conditioning, Cruise control, Electrical side mirrors, Multi-function steering wheel, Power windows]                                                                                                                                                                                                                                                                                                                                                                                                               53\n",
       "[Air conditioning, Armrest, Automatic climate control, Electrical side mirrors, Leather steering wheel, Light sensor, Multi-function steering wheel, Park Distance Control, Parking assist system sensors rear, Power windows, Rain sensor, Seat heating, Start-stop system]                                                                                                                                                                                                                                            51\n",
       "[Cruise control]                                                                                                                                                                                                                                                                                                                                                                                                                                                                                                        49\n",
       "[Air conditioning, Armrest, Automatic climate control, Cruise control, Electrical side mirrors, Heated steering wheel, Hill Holder, Leather steering wheel, Light sensor, Lumbar support, Multi-function steering wheel, Navigation system, Park Distance Control, Parking assist system camera, Parking assist system sensors front, Parking assist system sensors rear, Power windows, Rain sensor, Seat heating, Start-stop system]                                                                                  48\n",
       "[Cruise control, Electrical side mirrors, Power windows]                                                                                                                                                                                                                                                                                                                                                                                                                                                                48\n",
       "[Air conditioning, Cruise control, Hill Holder, Multi-function steering wheel, Power windows, Start-stop system]                                                                                                                                                                                                                                                                                                                                                                                                        48\n",
       "[Air conditioning, Armrest, Automatic climate control, Electrical side mirrors, Hill Holder, Leather steering wheel, Light sensor, Multi-function steering wheel, Navigation system, Park Distance Control, Parking assist system sensors rear, Power windows, Rain sensor, Seat heating, Start-stop system]                                                                                                                                                                                                            45\n",
       "[Air conditioning, Armrest, Automatic climate control, Cruise control, Electrical side mirrors, Hill Holder, Leather steering wheel, Light sensor, Multi-function steering wheel, Navigation system, Park Distance Control, Parking assist system sensors front, Parking assist system sensors rear, Power windows, Rain sensor, Seat heating, Start-stop system]                                                                                                                                                       45\n",
       "[Air conditioning, Armrest, Automatic climate control, Cruise control, Electrical side mirrors, Hill Holder, Leather steering wheel, Light sensor, Lumbar support, Multi-function steering wheel, Navigation system, Park Distance Control, Parking assist system sensors front, Parking assist system sensors rear, Power windows, Rain sensor, Seat heating, Start-stop system]                                                                                                                                       44\n",
       "[Air conditioning, Electrical side mirrors, Multi-function steering wheel, Power windows]                                                                                                                                                                                                                                                                                                                                                                                                                               44\n",
       "[Air conditioning, Cruise control, Electrical side mirrors, Hill Holder, Keyless central door lock, Navigation system, Power windows, Start-stop system]                                                                                                                                                                                                                                                                                                                                                                44\n",
       "[Air conditioning, Multi-function steering wheel, Power windows]                                                                                                                                                                                                                                                                                                                                                                                                                                                        42\n",
       "[Air conditioning, Armrest, Automatic climate control, Electrical side mirrors, Leather steering wheel, Light sensor, Lumbar support, Multi-function steering wheel, Park Distance Control, Parking assist system sensors rear, Power windows, Rain sensor, Seat heating, Start-stop system]                                                                                                                                                                                                                            41\n",
       "[Air conditioning, Automatic climate control, Power windows, Split rear seats]                                                                                                                                                                                                                                                                                                                                                                                                                                          40\n",
       "[Air conditioning, Automatic climate control]                                                                                                                                                                                                                                                                                                                                                                                                                                                                           39\n",
       "[Air conditioning, Cruise control, Electrical side mirrors, Hill Holder, Light sensor, Multi-function steering wheel, Park Distance Control, Parking assist system sensors rear, Power windows, Start-stop system]                                                                                                                                                                                                                                                                                                      39\n",
       "[Air conditioning, Automatic climate control, Cruise control, Electrical side mirrors, Light sensor, Multi-function steering wheel, Navigation system, Park Distance Control, Parking assist system sensors front, Parking assist system sensors rear, Power windows, Rain sensor, Start-stop system]                                                                                                                                                                                                                   39\n",
       "[Air conditioning, Automatic climate control, Cruise control, Electrically adjustable seats, Electrical side mirrors, Hill Holder, Leather steering wheel, Park Distance Control, Parking assist system sensors rear, Power windows, Start-stop system]                                                                                                                                                                                                                                                                 38\n",
       "[Air conditioning, Armrest, Automatic climate control, Cruise control, Electrical side mirrors, Electric tailgate, Heated steering wheel, Hill Holder, Keyless central door lock, Leather steering wheel, Light sensor, Lumbar support, Multi-function steering wheel, Navigation system, Park Distance Control, Parking assist system camera, Parking assist system sensors front, Parking assist system sensors rear, Power windows, Rain sensor, Seat heating, Start-stop system]                                    38\n",
       "[Air conditioning, Automatic climate control, Cruise control]                                                                                                                                                                                                                                                                                                                                                                                                                                                           37\n",
       "[Air conditioning, Armrest, Automatic climate control, Cruise control, Electrical side mirrors, Leather steering wheel, Light sensor, Multi-function steering wheel, Navigation system, Park Distance Control, Parking assist system sensors front, Parking assist system sensors rear, Power windows, Rain sensor, Start-stop system]                                                                                                                                                                                  36\n",
       "[Air conditioning, Armrest, Automatic climate control, Cruise control, Electrical side mirrors, Leather steering wheel, Light sensor, Multi-function steering wheel, Navigation system, Park Distance Control, Parking assist system sensors front, Parking assist system sensors rear, Power windows, Rain sensor, Seat heating, Start-stop system]                                                                                                                                                                    36\n",
       "[Air conditioning, Armrest, Automatic climate control, Electrical side mirrors, Hill Holder, Leather steering wheel, Light sensor, Lumbar support, Multi-function steering wheel, Park Distance Control, Parking assist system sensors rear, Power windows, Rain sensor, Seat heating, Start-stop system]                                                                                                                                                                                                               35\n",
       "[Air conditioning, Armrest, Automatic climate control, Cruise control, Electrical side mirrors, Leather steering wheel, Light sensor, Multi-function steering wheel, Park Distance Control, Parking assist system sensors rear, Power windows, Rain sensor, Seat heating, Start-stop system]                                                                                                                                                                                                                            34\n",
       "[Air conditioning, Automatic climate control, Cruise control, Electrical side mirrors, Heated steering wheel, Hill Holder, Leather steering wheel, Light sensor, Multi-function steering wheel, Navigation system, Park Distance Control, Parking assist system camera, Parking assist system sensors rear, Power windows, Rain sensor, Seat heating, Start-stop system]                                                                                                                                                33\n",
       "[Air conditioning, Armrest, Cruise control, Electrical side mirrors, Heated steering wheel, Hill Holder, Leather steering wheel, Light sensor, Lumbar support, Multi-function steering wheel, Navigation system, Park Distance Control, Parking assist system camera, Parking assist system sensors front, Parking assist system sensors rear, Power windows, Rain sensor, Seat heating, Start-stop system]                                                                                                             31\n",
       "[Air conditioning, Automatic climate control, Cruise control, Electrical side mirrors, Leather steering wheel, Light sensor, Multi-function steering wheel, Navigation system, Park Distance Control, Parking assist system sensors rear, Power windows, Rain sensor, Seat heating, Start-stop system]                                                                                                                                                                                                                  31\n",
       "[Air conditioning, Cruise control, Power windows]                                                                                                                                                                                                                                                                                                                                                                                                                                                                       31\n",
       "[Air conditioning, Armrest, Automatic climate control, Electrical side mirrors, Keyless central door lock, Leather steering wheel, Light sensor, Lumbar support, Multi-function steering wheel, Park Distance Control, Parking assist system sensors rear, Power windows, Rain sensor, Seat heating, Start-stop system]                                                                                                                                                                                                 30\n",
       "[Air conditioning, Armrest, Automatic climate control, Cruise control, Electrically adjustable seats, Electrical side mirrors, Heated steering wheel, Hill Holder, Keyless central door lock, Leather steering wheel, Light sensor, Lumbar support, Multi-function steering wheel, Navigation system, Park Distance Control, Parking assist system camera, Parking assist system sensors front, Parking assist system sensors rear, Power windows, Rain sensor, Seat heating, Start-stop system]                        28\n",
       "[Air conditioning, Cruise control, Electrical side mirrors, Hill Holder, Keyless central door lock, Leather steering wheel, Multi-function steering wheel, Navigation system, Power windows]                                                                                                                                                                                                                                                                                                                            28\n",
       "[Air conditioning, Electrical side mirrors, Hill Holder, Power windows, Start-stop system]                                                                                                                                                                                                                                                                                                                                                                                                                              28\n",
       "[Air conditioning, Armrest, Automatic climate control, Cruise control, Electrical side mirrors, Leather steering wheel, Light sensor, Lumbar support, Multi-function steering wheel, Navigation system, Park Distance Control, Parking assist system sensors rear, Power windows, Rain sensor, Seat heating, Start-stop system]                                                                                                                                                                                         28\n",
       "Name: \\nComfort & Convenience\\n, dtype: int64"
      ]
     },
     "execution_count": 2012,
     "metadata": {},
     "output_type": "execute_result"
    }
   ],
   "source": [
    "data['\\nComfort & Convenience\\n'].value_counts(dropna = False).head(50)"
   ]
  },
  {
   "cell_type": "code",
   "execution_count": 2013,
   "metadata": {},
   "outputs": [
    {
     "ename": "TypeError",
     "evalue": "unhashable type: 'list'",
     "output_type": "error",
     "traceback": [
      "\u001b[0;31m---------------------------------------------------------------------------\u001b[0m",
      "\u001b[0;31mTypeError\u001b[0m                                 Traceback (most recent call last)",
      "\u001b[0;32mpandas/_libs/hashtable_class_helper.pxi\u001b[0m in \u001b[0;36mpandas._libs.hashtable.PyObjectHashTable.map_locations\u001b[0;34m()\u001b[0m\n",
      "\u001b[0;31mTypeError\u001b[0m: unhashable type: 'list'"
     ]
    },
    {
     "name": "stderr",
     "output_type": "stream",
     "text": [
      "Exception ignored in: 'pandas._libs.index.IndexEngine._call_map_locations'\n",
      "Traceback (most recent call last):\n",
      "  File \"pandas/_libs/hashtable_class_helper.pxi\", line 1652, in pandas._libs.hashtable.PyObjectHashTable.map_locations\n",
      "TypeError: unhashable type: 'list'\n"
     ]
    },
    {
     "data": {
      "text/plain": [
       "[Air conditioning, Automatic climate control, Cruise control, Electrically adjustable seats, Electrical side mirrors, Heated steering wheel, Hill Holder, Leather steering wheel, Lumbar support, Multi-function steering wheel, Navigation system, Power windows, Rain sensor, Seat heating, Seat ventilation]                                                                                                                                        1\n",
       "[Air conditioning, Armrest, Automatic climate control, Cruise control, Electrical side mirrors, Leather steering wheel, Multi-function steering wheel, Park Distance Control, Parking assist system sensors front, Parking assist system sensors rear, Split rear seats, Start-stop system]                                                                                                                                                            1\n",
       "[Air conditioning, Armrest, Automatic climate control, Cruise control, Electrical side mirrors, Electric tailgate, Heads-up display, Hill Holder, Keyless central door lock, Leather steering wheel, Light sensor, Multi-function steering wheel, Navigation system, Park Distance Control, Parking assist system sensors front, Parking assist system sensors rear, Power windows, Rain sensor, Seat heating, Split rear seats, Start-stop system]    1\n",
       "[Air conditioning, Armrest, Automatic climate control, Cruise control, Electrical side mirrors, Electric tailgate, Hill Holder, Leather steering wheel, Light sensor, Lumbar support, Multi-function steering wheel, Park Distance Control, Parking assist system sensors front, Parking assist system sensors rear, Power windows, Rain sensor, Seat heating, Split rear seats, Start-stop system, Tinted windows]                                    1\n",
       "[Air conditioning, Automatic climate control, Cruise control, Hill Holder, Leather steering wheel, Light sensor, Lumbar support, Multi-function steering wheel, Navigation system, Park Distance Control, Parking assist system sensors rear, Power windows, Rain sensor]                                                                                                                                                                              1\n",
       "[Air conditioning, Automatic climate control, Cruise control, Electrically adjustable seats, Electrical side mirrors, Multi-function steering wheel, Navigation system, Park Distance Control, Parking assist system camera, Parking assist system self-steering, Parking assist system sensors front, Parking assist system sensors rear, Power windows, Seat heating]                                                                                1\n",
       "[Air conditioning, Armrest, Automatic climate control, Cruise control, Electrically adjustable seats, Electrically heated windshield, Electrical side mirrors, Leather steering wheel, Lumbar support, Multi-function steering wheel, Navigation system, Park Distance Control, Parking assist system sensors rear, Power windows, Seat heating, Start-stop system]                                                                                    1\n",
       "[Air conditioning, Cruise control, Electrical side mirrors, Hill Holder, Leather steering wheel, Navigation system, Park Distance Control, Parking assist system sensors front, Parking assist system sensors rear, Power windows, Seat heating, Start-stop system]                                                                                                                                                                                    1\n",
       "[Air conditioning, Electrical side mirrors, Light sensor, Navigation system, Parking assist system sensors front, Parking assist system sensors rear, Power windows, Rain sensor, Seat heating, Split rear seats, Start-stop system]                                                                                                                                                                                                                   1\n",
       "[Air conditioning, Armrest, Automatic climate control, Cruise control, Electrical side mirrors, Navigation system, Power windows, Seat heating]                                                                                                                                                                                                                                                                                                        1\n",
       "[Air conditioning, Armrest, Cruise control, Electrically adjustable seats, Electrically heated windshield, Electrical side mirrors, Electric tailgate, Keyless central door lock, Leather steering wheel, Multi-function steering wheel, Navigation system, Park Distance Control, Power windows, Start-stop system]                                                                                                                                   1\n",
       "[Air conditioning, Armrest, Automatic climate control, Hill Holder, Multi-function steering wheel, Navigation system, Panorama roof, Park Distance Control, Parking assist system sensors front, Parking assist system sensors rear, Power windows, Start-stop system, Sunroof]                                                                                                                                                                        1\n",
       "[Air conditioning, Cruise control, Electrical side mirrors, Keyless central door lock, Light sensor, Multi-function steering wheel, Navigation system, Park Distance Control, Parking assist system camera, Power windows, Rain sensor, Seat heating]                                                                                                                                                                                                  1\n",
       "[Air conditioning, Cruise control, Electrical side mirrors, Multi-function steering wheel, Power windows, Seat heating]                                                                                                                                                                                                                                                                                                                                1\n",
       "[Air conditioning, Automatic climate control, Cruise control, Electrical side mirrors, Hill Holder, Leather steering wheel, Light sensor, Navigation system, Park Distance Control, Parking assist system sensors rear, Power windows, Rain sensor, Split rear seats, Start-stop system]                                                                                                                                                               1\n",
       "[Air conditioning, Armrest, Automatic climate control, Cruise control, Electrically adjustable seats, Electrical side mirrors, Electric tailgate, Leather steering wheel, Light sensor, Multi-function steering wheel, Park Distance Control, Parking assist system sensors front, Parking assist system sensors rear, Power windows, Rain sensor, Tinted windows]                                                                                     1\n",
       "[Air conditioning, Automatic climate control, Cruise control, Electrical side mirrors, Leather steering wheel, Multi-function steering wheel, Navigation system, Park Distance Control, Parking assist system sensors rear, Power windows, Start-stop system]                                                                                                                                                                                          1\n",
       "[Air conditioning, Armrest, Automatic climate control, Cruise control, Electrical side mirrors, Hill Holder, Leather steering wheel, Lumbar support, Multi-function steering wheel, Navigation system, Park Distance Control, Parking assist system sensors front, Parking assist system sensors rear, Power windows, Rain sensor, Split rear seats]                                                                                                   1\n",
       "[Armrest, Cruise control, Electrical side mirrors, Leather steering wheel, Light sensor, Multi-function steering wheel, Navigation system, Parking assist system sensors rear, Power windows, Rain sensor, Seat heating, Split rear seats, Start-stop system]                                                                                                                                                                                          1\n",
       "[Air conditioning, Armrest, Automatic climate control, Cruise control, Electrically adjustable seats, Electrical side mirrors, Leather steering wheel, Light sensor, Lumbar support, Multi-function steering wheel, Navigation system, Power windows, Rain sensor, Split rear seats, Start-stop system, Tinted windows]                                                                                                                                1\n",
       "[Air conditioning, Electrical side mirrors, Hill Holder, Leather steering wheel, Multi-function steering wheel, Split rear seats, Start-stop system]                                                                                                                                                                                                                                                                                                   1\n",
       "[Air conditioning, Armrest, Automatic climate control, Cruise control, Electrical side mirrors, Leather steering wheel, Light sensor, Multi-function steering wheel, Navigation system, Panorama roof, Park Distance Control, Parking assist system sensors rear, Power windows, Rain sensor, Seat heating, Split rear seats, Start-stop system, Sunroof, Tinted windows]                                                                              1\n",
       "[Air conditioning, Armrest, Automatic climate control, Cruise control, Leather steering wheel, Multi-function steering wheel, Navigation system, Park Distance Control, Parking assist system sensors rear, Power windows, Tinted windows]                                                                                                                                                                                                             1\n",
       "[Cruise control, Heads-up display, Navigation system]                                                                                                                                                                                                                                                                                                                                                                                                  1\n",
       "[Air conditioning, Auxiliary heating, Cruise control, Electrical side mirrors, Hill Holder, Light sensor, Multi-function steering wheel, Park Distance Control, Parking assist system sensors rear, Power windows, Start-stop system]                                                                                                                                                                                                                  1\n",
       "[Air conditioning, Armrest, Automatic climate control, Cruise control, Electrical side mirrors, Leather steering wheel, Light sensor, Multi-function steering wheel, Navigation system, Park Distance Control, Parking assist system self-steering, Parking assist system sensors front, Parking assist system sensors rear, Power windows, Rain sensor, Start-stop system, Tinted windows]                                                            1\n",
       "[Air conditioning, Automatic climate control, Electrical side mirrors, Leather steering wheel, Light sensor, Multi-function steering wheel, Park Distance Control, Parking assist system sensors front, Parking assist system sensors rear, Power windows, Rain sensor, Split rear seats, Start-stop system]                                                                                                                                           1\n",
       "[Air conditioning, Armrest, Leather steering wheel, Parking assist system camera, Power windows, Rain sensor, Seat ventilation, Start-stop system]                                                                                                                                                                                                                                                                                                     1\n",
       "[Air conditioning, Automatic climate control, Cruise control, Navigation system, Park Distance Control, Parking assist system sensors front, Parking assist system sensors rear, Power windows, Rain sensor, Seat heating, Start-stop system, Tinted windows]                                                                                                                                                                                          1\n",
       "[Air conditioning, Armrest, Automatic climate control, Cruise control, Leather steering wheel, Lumbar support, Multi-function steering wheel, Navigation system, Park Distance Control, Parking assist system sensors rear, Power windows, Rain sensor]                                                                                                                                                                                                1\n",
       "[Air conditioning, Armrest, Automatic climate control, Cruise control, Electrical side mirrors, Heated steering wheel, Hill Holder, Leather steering wheel, Multi-function steering wheel, Park Distance Control, Parking assist system sensors front, Parking assist system sensors rear, Power windows, Seat heating]                                                                                                                                1\n",
       "[Air conditioning, Multi-function steering wheel, Parking assist system sensors front, Parking assist system sensors rear, Power windows, Seat ventilation, Split rear seats]                                                                                                                                                                                                                                                                          1\n",
       "[Air conditioning, Armrest, Automatic climate control, Cruise control, Electrical side mirrors, Electric tailgate, Leather steering wheel, Light sensor, Multi-function steering wheel, Navigation system, Park Distance Control, Parking assist system camera, Parking assist system sensors front, Parking assist system sensors rear, Power windows, Rain sensor, Seat heating]                                                                     1\n",
       "[Air conditioning, Armrest, Automatic climate control, Cruise control, Electrically heated windshield, Electrical side mirrors, Hill Holder, Leather steering wheel, Light sensor, Multi-function steering wheel, Navigation system, Park Distance Control, Parking assist system sensors front, Parking assist system sensors rear, Power windows, Rain sensor, Seat ventilation, Split rear seats, Wind deflector]                                   1\n",
       "[Air conditioning, Armrest, Cruise control, Electrical side mirrors, Heads-up display, Leather steering wheel, Light sensor, Multi-function steering wheel, Park Distance Control, Parking assist system sensors front, Parking assist system sensors rear, Power windows, Rain sensor, Split rear seats]                                                                                                                                              1\n",
       "[Air conditioning, Armrest, Automatic climate control, Cruise control, Electrical side mirrors, Keyless central door lock, Leather steering wheel, Light sensor, Multi-function steering wheel, Navigation system, Panorama roof, Park Distance Control, Parking assist system sensors front, Parking assist system sensors rear, Power windows, Rain sensor, Split rear seats, Tinted windows]                                                        1\n",
       "[Air conditioning, Armrest, Automatic climate control, Cruise control, Electrical side mirrors, Light sensor, Multi-function steering wheel, Navigation system, Park Distance Control, Parking assist system sensors front, Parking assist system sensors rear, Power windows, Rain sensor, Split rear seats, Start-stop system]                                                                                                                       1\n",
       "[Air conditioning, Cruise control, Hill Holder, Navigation system, Park Distance Control, Parking assist system sensors rear, Rain sensor]                                                                                                                                                                                                                                                                                                             1\n",
       "[Air conditioning, Armrest, Automatic climate control, Cruise control, Electrically heated windshield, Electrical side mirrors, Hill Holder, Leather steering wheel, Light sensor, Multi-function steering wheel, Navigation system, Park Distance Control, Parking assist system sensors front, Parking assist system sensors rear, Power windows, Rain sensor, Seat ventilation, Split rear seats]                                                   1\n",
       "[Air conditioning, Armrest, Automatic climate control, Cruise control, Heated steering wheel, Leather steering wheel, Light sensor, Multi-function steering wheel, Navigation system, Park Distance Control, Parking assist system sensors front, Parking assist system sensors rear, Power windows, Rain sensor, Seat heating]                                                                                                                        1\n",
       "[Air conditioning, Armrest, Automatic climate control, Cruise control, Electrically adjustable seats, Electrical side mirrors, Leather steering wheel, Multi-function steering wheel, Navigation system, Park Distance Control, Parking assist system camera, Parking assist system sensors front, Parking assist system sensors rear, Power windows, Rain sensor, Start-stop system]                                                                  1\n",
       "[Air conditioning, Armrest, Cruise control, Electrical side mirrors, Hill Holder, Leather steering wheel, Multi-function steering wheel, Power windows, Seat heating]                                                                                                                                                                                                                                                                                  1\n",
       "[Air conditioning, Armrest, Automatic climate control, Cruise control, Electrical side mirrors, Keyless central door lock, Leather steering wheel, Light sensor, Multi-function steering wheel, Navigation system, Park Distance Control, Parking assist system camera, Parking assist system sensors rear, Power windows, Rain sensor, Seat heating, Start-stop system]                                                                               1\n",
       "[Air conditioning, Automatic climate control, Cruise control, Electrical side mirrors, Leather steering wheel, Light sensor, Multi-function steering wheel, Navigation system, Park Distance Control, Parking assist system sensors rear, Power windows, Rain sensor, Seat heating]                                                                                                                                                                    1\n",
       "[Air conditioning, Cruise control, Electrical side mirrors, Hill Holder, Keyless central door lock, Multi-function steering wheel, Navigation system, Power windows, Start-stop system]                                                                                                                                                                                                                                                                1\n",
       "[Air conditioning, Armrest, Automatic climate control, Cruise control, Leather steering wheel, Lumbar support, Multi-function steering wheel, Navigation system, Park Distance Control, Parking assist system sensors front, Parking assist system sensors rear, Power windows, Rain sensor]                                                                                                                                                           1\n",
       "[Air conditioning, Armrest, Automatic climate control, Electrical side mirrors, Hill Holder, Keyless central door lock, Leather steering wheel, Light sensor, Park Distance Control, Parking assist system sensors rear, Power windows, Rain sensor]                                                                                                                                                                                                   1\n",
       "[Air conditioning, Automatic climate control, Cruise control, Electrical side mirrors, Leather steering wheel, Light sensor, Multi-function steering wheel, Navigation system, Park Distance Control, Parking assist system sensors rear, Power windows, Rain sensor, Start-stop system]                                                                                                                                                               1\n",
       "[Air conditioning, Armrest, Cruise control, Electrical side mirrors, Leather steering wheel, Light sensor, Multi-function steering wheel, Park Distance Control, Parking assist system camera, Parking assist system sensors front, Parking assist system sensors rear, Power windows, Rain sensor, Seat heating, Start-stop system]                                                                                                                   1\n",
       "[Air conditioning, Armrest, Automatic climate control, Auxiliary heating, Electrical side mirrors, Leather steering wheel, Light sensor, Multi-function steering wheel, Navigation system, Park Distance Control, Parking assist system sensors front, Parking assist system sensors rear, Power windows, Seat heating]                                                                                                                                1\n",
       "Name: \\nComfort & Convenience\\n, dtype: int64"
      ]
     },
     "execution_count": 2013,
     "metadata": {},
     "output_type": "execute_result"
    }
   ],
   "source": [
    "data['\\nComfort & Convenience\\n'].value_counts(dropna = False).tail(50)"
   ]
  },
  {
   "cell_type": "markdown",
   "metadata": {},
   "source": [
    "********"
   ]
  },
  {
   "cell_type": "markdown",
   "metadata": {},
   "source": [
    "> ### May be this column contains the most important data for prediction of the price.\n",
    "> ### Because there are some variables that have list in list, so we have to see all 'combined' values the variables have. \n",
    "> ### We have to examine the unique values. We produce two function to do that.  First we convert ``NaN`` values to empty list than combine all values using ``set().update()`` syntax."
   ]
  },
  {
   "cell_type": "code",
   "execution_count": 2014,
   "metadata": {},
   "outputs": [],
   "source": [
    "def unique_values(data, column_name):\n",
    "    unique_vals = set()\n",
    "    for rows in data[column_name]:\n",
    "        unique_vals.update(rows)\n",
    "    return list(unique_vals)"
   ]
  },
  {
   "cell_type": "code",
   "execution_count": 2015,
   "metadata": {},
   "outputs": [],
   "source": [
    "nans = data['\\nComfort & Convenience\\n'].isnull()"
   ]
  },
  {
   "cell_type": "code",
   "execution_count": 2016,
   "metadata": {},
   "outputs": [
    {
     "data": {
      "text/plain": [
       "9        NaN\n",
       "30       NaN\n",
       "53       NaN\n",
       "168      NaN\n",
       "191      NaN\n",
       "        ... \n",
       "15791    NaN\n",
       "15804    NaN\n",
       "15805    NaN\n",
       "15854    NaN\n",
       "15864    NaN\n",
       "Name: \\nComfort & Convenience\\n, Length: 920, dtype: object"
      ]
     },
     "execution_count": 2016,
     "metadata": {},
     "output_type": "execute_result"
    }
   ],
   "source": [
    "data.loc[nans, '\\nComfort & Convenience\\n']"
   ]
  },
  {
   "cell_type": "code",
   "execution_count": 2017,
   "metadata": {},
   "outputs": [],
   "source": [
    "def Nan_to_list(data, column_name):\n",
    "    Nan_rows = data[column_name].isnull()\n",
    "    data.loc[Nan_rows, column_name] = data.loc[Nan_rows, column_name].apply(lambda x:[])"
   ]
  },
  {
   "cell_type": "code",
   "execution_count": 2018,
   "metadata": {},
   "outputs": [
    {
     "data": {
      "text/plain": [
       "['Armrest',\n",
       " 'Park Distance Control',\n",
       " 'Electrical side mirrors',\n",
       " 'Multi-function steering wheel',\n",
       " 'Tinted windows',\n",
       " 'Leather steering wheel',\n",
       " 'Cruise control',\n",
       " 'Electrically adjustable seats',\n",
       " 'Electric Starter',\n",
       " 'Massage seats',\n",
       " 'Leather seats',\n",
       " 'Navigation system',\n",
       " 'Power windows',\n",
       " 'Parking assist system self-steering',\n",
       " 'Windshield',\n",
       " 'Split rear seats',\n",
       " 'Wind deflector',\n",
       " 'Heated steering wheel',\n",
       " 'Light sensor',\n",
       " 'Air suspension',\n",
       " 'Heads-up display',\n",
       " 'Parking assist system sensors rear',\n",
       " 'Electrically heated windshield',\n",
       " 'Start-stop system',\n",
       " 'Electric tailgate',\n",
       " 'Seat heating',\n",
       " 'Automatic climate control',\n",
       " 'Parking assist system sensors front',\n",
       " 'Hill Holder',\n",
       " 'Lumbar support',\n",
       " 'Seat ventilation',\n",
       " 'Sunroof',\n",
       " 'Auxiliary heating',\n",
       " 'Keyless central door lock',\n",
       " 'Panorama roof',\n",
       " 'Air conditioning',\n",
       " 'Parking assist system camera',\n",
       " 'Rain sensor']"
      ]
     },
     "execution_count": 2018,
     "metadata": {},
     "output_type": "execute_result"
    }
   ],
   "source": [
    "Nan_to_list(data,'\\nComfort & Convenience\\n' )\n",
    "unique_values(data, '\\nComfort & Convenience\\n')"
   ]
  },
  {
   "cell_type": "code",
   "execution_count": 2019,
   "metadata": {},
   "outputs": [],
   "source": [
    "nxtins_list = [\",\".join(item).strip() if type(item) == list else item for item in data['\\nComfort & Convenience\\n']]"
   ]
  },
  {
   "cell_type": "code",
   "execution_count": 2020,
   "metadata": {},
   "outputs": [],
   "source": [
    "data['Comfort&Convenience'] = pd.DataFrame(nxtins_list)"
   ]
  },
  {
   "cell_type": "code",
   "execution_count": 2021,
   "metadata": {},
   "outputs": [
    {
     "data": {
      "text/plain": [
       "                                                                                                                                                                                                                                                                                                                                                       920\n",
       "Air conditioning,Electrical side mirrors,Hill Holder,Power windows                                                                                                                                                                                                                                                                                     216\n",
       "Air conditioning,Electrical side mirrors,Power windows                                                                                                                                                                                                                                                                                                 134\n",
       "Air conditioning,Power windows                                                                                                                                                                                                                                                                                                                         130\n",
       "Air conditioning,Armrest,Automatic climate control,Cruise control,Electrical side mirrors,Leather steering wheel,Light sensor,Lumbar support,Multi-function steering wheel,Navigation system,Park Distance Control,Parking assist system sensors front,Parking assist system sensors rear,Power windows,Rain sensor,Seat heating,Start-stop system     105\n",
       "                                                                                                                                                                                                                                                                                                                                                      ... \n",
       "Air conditioning,Cruise control,Electrical side mirrors,Heated steering wheel,Hill Holder,Leather steering wheel,Light sensor,Multi-function steering wheel,Park Distance Control,Parking assist system sensors rear,Power windows,Seat heating,Start-stop system                                                                                        1\n",
       "Air conditioning,Armrest,Automatic climate control,Cruise control,Electrical side mirrors,Hill Holder,Leather steering wheel,Lumbar support,Multi-function steering wheel,Navigation system,Park Distance Control,Parking assist system sensors front,Parking assist system sensors rear,Power windows,Rain sensor,Start-stop system,Tinted windows      1\n",
       "Air conditioning,Cruise control,Electrically heated windshield,Electrical side mirrors,Heated steering wheel,Leather steering wheel,Light sensor,Multi-function steering wheel,Power windows,Rain sensor,Seat heating                                                                                                                                    1\n",
       "Air conditioning,Cruise control,Electrical side mirrors,Heated steering wheel,Hill Holder,Leather steering wheel,Multi-function steering wheel,Park Distance Control,Parking assist system sensors rear,Power windows,Seat heating,Tinted windows                                                                                                        1\n",
       "Air conditioning,Armrest,Cruise control,Electrical side mirrors,Multi-function steering wheel,Navigation system,Parking assist system sensors rear,Power windows,Seat ventilation,Start-stop system                                                                                                                                                      1\n",
       "Name: Comfort&Convenience, Length: 6199, dtype: int64"
      ]
     },
     "execution_count": 2021,
     "metadata": {},
     "output_type": "execute_result"
    }
   ],
   "source": [
    "data['Comfort&Convenience'].value_counts(dropna = False)"
   ]
  },
  {
   "cell_type": "code",
   "execution_count": 2022,
   "metadata": {},
   "outputs": [
    {
     "data": {
      "text/html": [
       "<div>\n",
       "<style scoped>\n",
       "    .dataframe tbody tr th:only-of-type {\n",
       "        vertical-align: middle;\n",
       "    }\n",
       "\n",
       "    .dataframe tbody tr th {\n",
       "        vertical-align: top;\n",
       "    }\n",
       "\n",
       "    .dataframe thead th {\n",
       "        text-align: right;\n",
       "    }\n",
       "</style>\n",
       "<table border=\"1\" class=\"dataframe\">\n",
       "  <thead>\n",
       "    <tr style=\"text-align: right;\">\n",
       "      <th></th>\n",
       "      <th>url</th>\n",
       "      <th>make_model</th>\n",
       "      <th>short_description</th>\n",
       "      <th>body_type</th>\n",
       "      <th>price</th>\n",
       "      <th>vat</th>\n",
       "      <th>km</th>\n",
       "      <th>registration</th>\n",
       "      <th>hp</th>\n",
       "      <th>Type</th>\n",
       "      <th>Previous Owners</th>\n",
       "      <th>Next Inspection</th>\n",
       "      <th>Inspection new</th>\n",
       "      <th>Warranty</th>\n",
       "      <th>null</th>\n",
       "      <th>Make</th>\n",
       "      <th>Model</th>\n",
       "      <th>Offer Number</th>\n",
       "      <th>First Registration</th>\n",
       "      <th>Body Color</th>\n",
       "      <th>Paint Type</th>\n",
       "      <th>Body Color Original</th>\n",
       "      <th>Upholstery</th>\n",
       "      <th>Nr. of Doors</th>\n",
       "      <th>Nr. of Seats</th>\n",
       "      <th>Model Code</th>\n",
       "      <th>Gearing Type</th>\n",
       "      <th>Displacement</th>\n",
       "      <th>Cylinders</th>\n",
       "      <th>Drive chain</th>\n",
       "      <th>Fuel</th>\n",
       "      <th>Consumption</th>\n",
       "      <th>CO2 Emission</th>\n",
       "      <th>Emission Class</th>\n",
       "      <th>\\nComfort &amp; Convenience\\n</th>\n",
       "      <th>\\nEntertainment &amp; Media\\n</th>\n",
       "      <th>\\nExtras\\n</th>\n",
       "      <th>\\nSafety &amp; Security\\n</th>\n",
       "      <th>description</th>\n",
       "      <th>Emission Label</th>\n",
       "      <th>Gears</th>\n",
       "      <th>Country version</th>\n",
       "      <th>Previous_Owner1</th>\n",
       "      <th>Previous_Owner</th>\n",
       "      <th>Inspection_New_Bool</th>\n",
       "      <th>next_inspection</th>\n",
       "      <th>paint_type</th>\n",
       "      <th>country</th>\n",
       "      <th>emission_label</th>\n",
       "      <th>Comfort&amp;Convenience</th>\n",
       "    </tr>\n",
       "  </thead>\n",
       "  <tbody>\n",
       "    <tr>\n",
       "      <th>9</th>\n",
       "      <td>https://www.autoscout24.com//offers/audi-a1-sportback-tfsi-ultra-95-s-tronic-amb-gasoline-white-e2c49a42-6aaa-4039-9af1-7546a20c110e</td>\n",
       "      <td>Audi A1</td>\n",
       "      <td>SPORTBACK TFSI ULTRA 95 S-TRONIC AMB.</td>\n",
       "      <td>Sedans</td>\n",
       "      <td>17990</td>\n",
       "      <td>None</td>\n",
       "      <td>16,103 km</td>\n",
       "      <td>06/2017</td>\n",
       "      <td>70 kW</td>\n",
       "      <td>[, Used, , Gasoline]</td>\n",
       "      <td>NaN</td>\n",
       "      <td>NaN</td>\n",
       "      <td>NaN</td>\n",
       "      <td>\\n3 months\\n</td>\n",
       "      <td>[]</td>\n",
       "      <td>\\nAudi\\n</td>\n",
       "      <td>[\\n, A1, \\n]</td>\n",
       "      <td>NaN</td>\n",
       "      <td>[\\n, 2017, \\n]</td>\n",
       "      <td>[\\n, White, \\n]</td>\n",
       "      <td>NaN</td>\n",
       "      <td>[\\nBlanc\\n]</td>\n",
       "      <td>NaN</td>\n",
       "      <td>[\\n5\\n]</td>\n",
       "      <td>[\\n4\\n]</td>\n",
       "      <td>NaN</td>\n",
       "      <td>[\\n, Automatic, \\n]</td>\n",
       "      <td>[\\n999 cc\\n]</td>\n",
       "      <td>NaN</td>\n",
       "      <td>NaN</td>\n",
       "      <td>[\\n, Gasoline, \\n]</td>\n",
       "      <td>NaN</td>\n",
       "      <td>NaN</td>\n",
       "      <td>NaN</td>\n",
       "      <td>[]</td>\n",
       "      <td>NaN</td>\n",
       "      <td>NaN</td>\n",
       "      <td>NaN</td>\n",
       "      <td>[\\nClim automatique,Ecran multifonction couleur,Capteur de pluie,Capteur de luminosité,Contrôle élect. de la pression des pneus,Régulateur de vitesse,EBD,ESP,8 Haut parleurs,ABS,Airbag conducteur,Airbag passager,Airbags latéraux avant,Airbags rideaux AV et AR,Antidémarrage électronique,Antipatinage,Appui-tête conducteur réglable hauteur,Appui-tête passager réglable en hauteur,Arrêt et redémarrage auto. du moteur,Bacs de portes avant,Banquette 1/3-2/3,Banquette AR rabattable,Boite à gant ferm...</td>\n",
       "      <td>NaN</td>\n",
       "      <td>[\\n7\\n]</td>\n",
       "      <td>NaN</td>\n",
       "      <td>NaN</td>\n",
       "      <td>1</td>\n",
       "      <td>0</td>\n",
       "      <td>NaT</td>\n",
       "      <td>NaN</td>\n",
       "      <td>NaN</td>\n",
       "      <td>NaN</td>\n",
       "      <td></td>\n",
       "    </tr>\n",
       "    <tr>\n",
       "      <th>30</th>\n",
       "      <td>https://www.autoscout24.com//offers/audi-a1-sportback-1-4tdi-attraction-diesel-black-be5e7705-5e6e-4ca0-a7df-fc6153d6e384</td>\n",
       "      <td>Audi A1</td>\n",
       "      <td>Sportback 1.4TDI Attraction</td>\n",
       "      <td>Compact</td>\n",
       "      <td>11290</td>\n",
       "      <td>None</td>\n",
       "      <td>38,400 km</td>\n",
       "      <td>06/2016</td>\n",
       "      <td>66 kW</td>\n",
       "      <td>[, Used, , Diesel]</td>\n",
       "      <td>NaN</td>\n",
       "      <td>NaN</td>\n",
       "      <td>NaN</td>\n",
       "      <td>\\n12 months\\n</td>\n",
       "      <td>[]</td>\n",
       "      <td>\\nAudi\\n</td>\n",
       "      <td>[\\n, A1, \\n]</td>\n",
       "      <td>[\\n2780690\\n]</td>\n",
       "      <td>[\\n, 2016, \\n]</td>\n",
       "      <td>[\\n, Black, \\n]</td>\n",
       "      <td>NaN</td>\n",
       "      <td>[\\nNegro\\n]</td>\n",
       "      <td>NaN</td>\n",
       "      <td>[\\n5\\n]</td>\n",
       "      <td>[\\n5\\n]</td>\n",
       "      <td>NaN</td>\n",
       "      <td>[\\n, Manual, \\n]</td>\n",
       "      <td>[\\n1,422 cc\\n]</td>\n",
       "      <td>3</td>\n",
       "      <td>[\\nfront\\n]</td>\n",
       "      <td>[\\n, Diesel, \\n]</td>\n",
       "      <td>[[3 l/100 km (comb)], [3 l/100 km (city)], [3 l/100 km (country)]]</td>\n",
       "      <td>NaN</td>\n",
       "      <td>NaN</td>\n",
       "      <td>[]</td>\n",
       "      <td>NaN</td>\n",
       "      <td>NaN</td>\n",
       "      <td>NaN</td>\n",
       "      <td>[\\nVEHÍCULO NACIONAL, PROCEDE DE CONCESIONARIO OFICIAL , KMTS CERTIFICADOS CON LIBRO DE REVISIONES EN CONCESIONARIO OFICIAL, MUY BUEN ESTADO GENERAL Y MECANICO (21% IVA INCLUIDO EN EL PRECIO), AUX, SROP&amp;GO, 5 PLAZAS, CIERRE CENTRALIZADO , ESPEJOS AUT..., ACEPTAMOS VEHICULO COMO PAGO , GESTIONAMOS SU FINANCIACION , GARANTIA MECANICA 12 MESES INCLUIDA, CAMBIO DE TITULAR +190 €, Este anuncio tiene caracter informarivo, puede contener errores, no tiene valor contractual.,  , Detalles de la finan...</td>\n",
       "      <td>NaN</td>\n",
       "      <td>[\\n5\\n]</td>\n",
       "      <td>NaN</td>\n",
       "      <td>NaN</td>\n",
       "      <td>1</td>\n",
       "      <td>0</td>\n",
       "      <td>NaT</td>\n",
       "      <td>NaN</td>\n",
       "      <td>NaN</td>\n",
       "      <td>NaN</td>\n",
       "      <td></td>\n",
       "    </tr>\n",
       "    <tr>\n",
       "      <th>53</th>\n",
       "      <td>https://www.autoscout24.com//offers/audi-a1-sportback-1-6tdi-attraction-diesel-black-7ca7c3ad-80da-440a-b166-3766bda27464</td>\n",
       "      <td>Audi A1</td>\n",
       "      <td>Sportback 1.6TDI Attraction</td>\n",
       "      <td>Compact</td>\n",
       "      <td>11100</td>\n",
       "      <td>None</td>\n",
       "      <td>111,670 km</td>\n",
       "      <td>06/2016</td>\n",
       "      <td>85 kW</td>\n",
       "      <td>[, Used, , Diesel]</td>\n",
       "      <td>NaN</td>\n",
       "      <td>NaN</td>\n",
       "      <td>NaN</td>\n",
       "      <td>\\n12 months\\n</td>\n",
       "      <td>[]</td>\n",
       "      <td>\\nAudi\\n</td>\n",
       "      <td>[\\n, A1, \\n]</td>\n",
       "      <td>[\\n2902210\\n]</td>\n",
       "      <td>[\\n, 2016, \\n]</td>\n",
       "      <td>[\\n, Black, \\n]</td>\n",
       "      <td>NaN</td>\n",
       "      <td>[\\nNegro\\n]</td>\n",
       "      <td>NaN</td>\n",
       "      <td>[\\n5\\n]</td>\n",
       "      <td>[\\n5\\n]</td>\n",
       "      <td>NaN</td>\n",
       "      <td>[\\n, Manual, \\n]</td>\n",
       "      <td>[\\n1,598 cc\\n]</td>\n",
       "      <td>4</td>\n",
       "      <td>[\\nfront\\n]</td>\n",
       "      <td>[\\n, Diesel, \\n]</td>\n",
       "      <td>[[3 l/100 km (comb)], [4 l/100 km (city)], [3 l/100 km (country)]]</td>\n",
       "      <td>NaN</td>\n",
       "      <td>NaN</td>\n",
       "      <td>[]</td>\n",
       "      <td>NaN</td>\n",
       "      <td>NaN</td>\n",
       "      <td>NaN</td>\n",
       "      <td>[\\nEn Traverauto (Desde 1978,Opel desde 1986), Te damos precios llave en mano, PAGA AL CONTADO 12.600 € , ! TE FINANCIAMOS DESDE 4'99% ¡, SI PREFIERES DESCUENTO ...FINANCIA: 11.100 € (desde 158 €/MES), En ambos casos tendrás incluido :, Coche en perfecto estado, 12 Meses Garantía Nacional sin límite de kms, 100% Revisado con aceite y filtros cambiados, Transferencia, Impuestos, Certificado kilometraje, Certificado de no siniestralidad, Te tasamos tu coche online, ENTREGA EN LA PUERTA DE TU C...</td>\n",
       "      <td>NaN</td>\n",
       "      <td>[\\n5\\n]</td>\n",
       "      <td>NaN</td>\n",
       "      <td>NaN</td>\n",
       "      <td>1</td>\n",
       "      <td>0</td>\n",
       "      <td>NaT</td>\n",
       "      <td>NaN</td>\n",
       "      <td>NaN</td>\n",
       "      <td>NaN</td>\n",
       "      <td></td>\n",
       "    </tr>\n",
       "    <tr>\n",
       "      <th>168</th>\n",
       "      <td>https://www.autoscout24.com//offers/audi-a1-spb-1-0-tfsi-ultra-s-tronic-admired-gasoline-blue-d7717886-d0b5-cb17-e053-e250040a03a9</td>\n",
       "      <td>Audi A1</td>\n",
       "      <td>SPB 1.0 TFSI ultra S tronic Admired</td>\n",
       "      <td>Sedans</td>\n",
       "      <td>17500</td>\n",
       "      <td>None</td>\n",
       "      <td>15,000 km</td>\n",
       "      <td>07/2017</td>\n",
       "      <td>70 kW</td>\n",
       "      <td>[, Used, , Gasoline]</td>\n",
       "      <td>NaN</td>\n",
       "      <td>NaN</td>\n",
       "      <td>NaN</td>\n",
       "      <td>NaN</td>\n",
       "      <td>[]</td>\n",
       "      <td>\\nAudi\\n</td>\n",
       "      <td>[\\n, A1, \\n]</td>\n",
       "      <td>NaN</td>\n",
       "      <td>[\\n, 2017, \\n]</td>\n",
       "      <td>[\\n, Blue, \\n]</td>\n",
       "      <td>NaN</td>\n",
       "      <td>NaN</td>\n",
       "      <td>NaN</td>\n",
       "      <td>[\\n5\\n]</td>\n",
       "      <td>[\\n4\\n]</td>\n",
       "      <td>NaN</td>\n",
       "      <td>[\\n, Automatic, \\n]</td>\n",
       "      <td>[\\n999 cc\\n]</td>\n",
       "      <td>3</td>\n",
       "      <td>NaN</td>\n",
       "      <td>[\\n, Gasoline, \\n]</td>\n",
       "      <td>[[4.4 l/100 km (comb)], [5.4 l/100 km (city)], [3.8 l/100 km (country)]]</td>\n",
       "      <td>[\\n102 g CO2/km (comb)\\n]</td>\n",
       "      <td>[\\nEuro 6\\n]</td>\n",
       "      <td>[]</td>\n",
       "      <td>NaN</td>\n",
       "      <td>[Alloy wheels]</td>\n",
       "      <td>NaN</td>\n",
       "      <td>[\\nFari a led e xenon , Bracciolo centrale anteriore, Navigatore, Cerchi da 17 extra , Ruote invernali da 16 con cerchi e gomme originali audi\\n]</td>\n",
       "      <td>NaN</td>\n",
       "      <td>[\\n7\\n]</td>\n",
       "      <td>NaN</td>\n",
       "      <td>NaN</td>\n",
       "      <td>1</td>\n",
       "      <td>0</td>\n",
       "      <td>NaT</td>\n",
       "      <td>NaN</td>\n",
       "      <td>NaN</td>\n",
       "      <td>NaN</td>\n",
       "      <td></td>\n",
       "    </tr>\n",
       "    <tr>\n",
       "      <th>191</th>\n",
       "      <td>https://www.autoscout24.com//offers/audi-a1-sportback-sportback-1-4-tdi-s-tronic-adrenalin2-diesel-grey-8bbc9cf9-2598-4f9b-a6cb-35e6d48c12b3</td>\n",
       "      <td>Audi A1</td>\n",
       "      <td>Sportback Sportback 1.4 TDI S tronic Adrenalin2</td>\n",
       "      <td>Compact</td>\n",
       "      <td>17900</td>\n",
       "      <td>None</td>\n",
       "      <td>11,300 km</td>\n",
       "      <td>11/2016</td>\n",
       "      <td>66 kW</td>\n",
       "      <td>[, Used, , Diesel]</td>\n",
       "      <td>NaN</td>\n",
       "      <td>NaN</td>\n",
       "      <td>NaN</td>\n",
       "      <td>\\n12 months\\n</td>\n",
       "      <td>[]</td>\n",
       "      <td>\\nAudi\\n</td>\n",
       "      <td>[\\n, A1, \\n]</td>\n",
       "      <td>[\\n174585\\n]</td>\n",
       "      <td>[\\n, 2016, \\n]</td>\n",
       "      <td>[\\n, Grey, \\n]</td>\n",
       "      <td>[\\nMetallic\\n]</td>\n",
       "      <td>[\\nGris Metalizado\\n]</td>\n",
       "      <td>NaN</td>\n",
       "      <td>[\\n5\\n]</td>\n",
       "      <td>[\\n4\\n]</td>\n",
       "      <td>NaN</td>\n",
       "      <td>[\\n, Automatic, \\n]</td>\n",
       "      <td>NaN</td>\n",
       "      <td>NaN</td>\n",
       "      <td>NaN</td>\n",
       "      <td>[\\n, Diesel, \\n]</td>\n",
       "      <td>NaN</td>\n",
       "      <td>NaN</td>\n",
       "      <td>NaN</td>\n",
       "      <td>[]</td>\n",
       "      <td>NaN</td>\n",
       "      <td>NaN</td>\n",
       "      <td>NaN</td>\n",
       "      <td>[\\n\\AUTOSI, La gran exposición del Vallés., Concesionarios Oficiales: Jeep, KIA, Alfa Romeo, Fiat y Abarth., Precio al contado: 16.900€, Precio financiado: 15.900€ (desde 243€/mes) financiando el 100%., Cambio de nombre: +325€, Vehículo revisado 100% por nuestro taller oficial., Aceptamos tu coche como parte de pago. IVA deducible. Entrega en la puerta de tu casa., Garantía propia 12 meses., Coche nacional con la certificación más completa del mercado, incluyendo kilometraje garantizado e hi...</td>\n",
       "      <td>NaN</td>\n",
       "      <td>[\\n7\\n]</td>\n",
       "      <td>NaN</td>\n",
       "      <td>NaN</td>\n",
       "      <td>1</td>\n",
       "      <td>0</td>\n",
       "      <td>NaT</td>\n",
       "      <td>Metallic</td>\n",
       "      <td>NaN</td>\n",
       "      <td>NaN</td>\n",
       "      <td></td>\n",
       "    </tr>\n",
       "    <tr>\n",
       "      <th>...</th>\n",
       "      <td>...</td>\n",
       "      <td>...</td>\n",
       "      <td>...</td>\n",
       "      <td>...</td>\n",
       "      <td>...</td>\n",
       "      <td>...</td>\n",
       "      <td>...</td>\n",
       "      <td>...</td>\n",
       "      <td>...</td>\n",
       "      <td>...</td>\n",
       "      <td>...</td>\n",
       "      <td>...</td>\n",
       "      <td>...</td>\n",
       "      <td>...</td>\n",
       "      <td>...</td>\n",
       "      <td>...</td>\n",
       "      <td>...</td>\n",
       "      <td>...</td>\n",
       "      <td>...</td>\n",
       "      <td>...</td>\n",
       "      <td>...</td>\n",
       "      <td>...</td>\n",
       "      <td>...</td>\n",
       "      <td>...</td>\n",
       "      <td>...</td>\n",
       "      <td>...</td>\n",
       "      <td>...</td>\n",
       "      <td>...</td>\n",
       "      <td>...</td>\n",
       "      <td>...</td>\n",
       "      <td>...</td>\n",
       "      <td>...</td>\n",
       "      <td>...</td>\n",
       "      <td>...</td>\n",
       "      <td>...</td>\n",
       "      <td>...</td>\n",
       "      <td>...</td>\n",
       "      <td>...</td>\n",
       "      <td>...</td>\n",
       "      <td>...</td>\n",
       "      <td>...</td>\n",
       "      <td>...</td>\n",
       "      <td>...</td>\n",
       "      <td>...</td>\n",
       "      <td>...</td>\n",
       "      <td>...</td>\n",
       "      <td>...</td>\n",
       "      <td>...</td>\n",
       "      <td>...</td>\n",
       "      <td>...</td>\n",
       "    </tr>\n",
       "    <tr>\n",
       "      <th>15791</th>\n",
       "      <td>https://www.autoscout24.com//offers/renault-espace-v-dci-160-energy-twin-turbo-diesel-grey-0559a598-97ea-42a9-94d8-ad86c545d631</td>\n",
       "      <td>Renault Espace</td>\n",
       "      <td>V dCi 160 Energy Twin Turbo</td>\n",
       "      <td>Van</td>\n",
       "      <td>33990</td>\n",
       "      <td>VAT deductible</td>\n",
       "      <td>10,803 km</td>\n",
       "      <td>05/2018</td>\n",
       "      <td>- kW</td>\n",
       "      <td>[, Used, , Diesel]</td>\n",
       "      <td>NaN</td>\n",
       "      <td>NaN</td>\n",
       "      <td>NaN</td>\n",
       "      <td>\\n12 months\\n</td>\n",
       "      <td>[]</td>\n",
       "      <td>\\nRenault\\n</td>\n",
       "      <td>[\\n, Espace, \\n]</td>\n",
       "      <td>[\\nVO003105\\n]</td>\n",
       "      <td>[\\n, 2018, \\n]</td>\n",
       "      <td>[\\n, Grey, \\n]</td>\n",
       "      <td>NaN</td>\n",
       "      <td>[\\ngris\\n]</td>\n",
       "      <td>NaN</td>\n",
       "      <td>[\\n5\\n]</td>\n",
       "      <td>NaN</td>\n",
       "      <td>NaN</td>\n",
       "      <td>[\\n, Automatic, \\n]</td>\n",
       "      <td>NaN</td>\n",
       "      <td>NaN</td>\n",
       "      <td>NaN</td>\n",
       "      <td>[\\n, Diesel, \\n]</td>\n",
       "      <td>[[4.6 l/100 km (comb)], [], []]</td>\n",
       "      <td>NaN</td>\n",
       "      <td>NaN</td>\n",
       "      <td>[]</td>\n",
       "      <td>NaN</td>\n",
       "      <td>NaN</td>\n",
       "      <td>NaN</td>\n",
       "      <td>[\\nV dCi 160 Energy Twin Turbo Initiale Paris EDC, diesel, gris, 04/05/2018, Peinture Gris Cassiopée, Roue de secours\\n]</td>\n",
       "      <td>NaN</td>\n",
       "      <td>NaN</td>\n",
       "      <td>NaN</td>\n",
       "      <td>NaN</td>\n",
       "      <td>1</td>\n",
       "      <td>0</td>\n",
       "      <td>NaT</td>\n",
       "      <td>NaN</td>\n",
       "      <td>NaN</td>\n",
       "      <td>NaN</td>\n",
       "      <td></td>\n",
       "    </tr>\n",
       "    <tr>\n",
       "      <th>15804</th>\n",
       "      <td>https://www.autoscout24.com//offers/renault-espace-initiale-paris-blue-dci-200-edc-diesel-blue-67d89e07-74b6-454e-b4fc-6c20716cb5cb</td>\n",
       "      <td>Renault Espace</td>\n",
       "      <td>Initiale Paris Blue dCi 200 EDC</td>\n",
       "      <td>Van</td>\n",
       "      <td>44500</td>\n",
       "      <td>None</td>\n",
       "      <td>9,000 km</td>\n",
       "      <td>03/2019</td>\n",
       "      <td>147 kW</td>\n",
       "      <td>[, Used, , Diesel]</td>\n",
       "      <td>NaN</td>\n",
       "      <td>NaN</td>\n",
       "      <td>NaN</td>\n",
       "      <td>NaN</td>\n",
       "      <td>[]</td>\n",
       "      <td>\\nRenault\\n</td>\n",
       "      <td>[\\n, Espace, \\n]</td>\n",
       "      <td>[\\nVN023381\\n]</td>\n",
       "      <td>[\\n, 2019, \\n]</td>\n",
       "      <td>[\\n, Blue, \\n]</td>\n",
       "      <td>NaN</td>\n",
       "      <td>[\\nbleu\\n]</td>\n",
       "      <td>NaN</td>\n",
       "      <td>[\\n5\\n]</td>\n",
       "      <td>[\\n7\\n]</td>\n",
       "      <td>NaN</td>\n",
       "      <td>[\\n, Automatic, \\n]</td>\n",
       "      <td>NaN</td>\n",
       "      <td>NaN</td>\n",
       "      <td>NaN</td>\n",
       "      <td>[\\n, Diesel, \\n]</td>\n",
       "      <td>NaN</td>\n",
       "      <td>[[], [], []]</td>\n",
       "      <td>NaN</td>\n",
       "      <td>[]</td>\n",
       "      <td>NaN</td>\n",
       "      <td>NaN</td>\n",
       "      <td>NaN</td>\n",
       "      <td>[\\nInitiale Paris Blue dCi 200 EDC, diesel, bleu, 22/03/2019, Peinture Bleu Cosmos, Pack 7 places\\n]</td>\n",
       "      <td>NaN</td>\n",
       "      <td>NaN</td>\n",
       "      <td>NaN</td>\n",
       "      <td>NaN</td>\n",
       "      <td>1</td>\n",
       "      <td>0</td>\n",
       "      <td>NaT</td>\n",
       "      <td>NaN</td>\n",
       "      <td>NaN</td>\n",
       "      <td>NaN</td>\n",
       "      <td></td>\n",
       "    </tr>\n",
       "    <tr>\n",
       "      <th>15805</th>\n",
       "      <td>https://www.autoscout24.com//offers/renault-espace-init-p-blue-dci-147kw-200cv-edc-18-leomotor-diesel-black-a38eb852-05ed-495d-8f3d-f001571f97ea</td>\n",
       "      <td>Renault Espace</td>\n",
       "      <td>Init. P. Blue dCi 147kW (200CV) EDC - 18 Leomotor</td>\n",
       "      <td>Compact</td>\n",
       "      <td>43000</td>\n",
       "      <td>None</td>\n",
       "      <td>1,000 km</td>\n",
       "      <td>03/2019</td>\n",
       "      <td>147 kW</td>\n",
       "      <td>[, Used, , Diesel]</td>\n",
       "      <td>NaN</td>\n",
       "      <td>NaN</td>\n",
       "      <td>NaN</td>\n",
       "      <td>\\n24 months\\n</td>\n",
       "      <td>[]</td>\n",
       "      <td>\\nRenault\\n</td>\n",
       "      <td>[\\n, Espace, \\n]</td>\n",
       "      <td>[\\n386482\\n]</td>\n",
       "      <td>[\\n, 2019, \\n]</td>\n",
       "      <td>[\\n, Black, \\n]</td>\n",
       "      <td>[\\nMetallic\\n]</td>\n",
       "      <td>[\\nNegro Amatista (metalizado esp\\n]</td>\n",
       "      <td>NaN</td>\n",
       "      <td>[\\n5\\n]</td>\n",
       "      <td>[\\n5\\n]</td>\n",
       "      <td>NaN</td>\n",
       "      <td>[\\n, Automatic, \\n]</td>\n",
       "      <td>NaN</td>\n",
       "      <td>NaN</td>\n",
       "      <td>NaN</td>\n",
       "      <td>[\\n, Diesel, \\n]</td>\n",
       "      <td>NaN</td>\n",
       "      <td>NaN</td>\n",
       "      <td>NaN</td>\n",
       "      <td>[]</td>\n",
       "      <td>NaN</td>\n",
       "      <td>NaN</td>\n",
       "      <td>NaN</td>\n",
       "      <td>[]</td>\n",
       "      <td>NaN</td>\n",
       "      <td>[\\n6\\n]</td>\n",
       "      <td>NaN</td>\n",
       "      <td>NaN</td>\n",
       "      <td>1</td>\n",
       "      <td>0</td>\n",
       "      <td>NaT</td>\n",
       "      <td>Metallic</td>\n",
       "      <td>NaN</td>\n",
       "      <td>NaN</td>\n",
       "      <td></td>\n",
       "    </tr>\n",
       "    <tr>\n",
       "      <th>15854</th>\n",
       "      <td>https://www.autoscout24.com//offers/renault-espace-2-0dci-tt-initiale-paris-blue-edc-147kw-diesel-fa37074f-8ae1-49cb-b593-cc1f08d17bae</td>\n",
       "      <td>Renault Espace</td>\n",
       "      <td>2.0dCi TT Initiale Paris Blue EDC 147kW</td>\n",
       "      <td>Van</td>\n",
       "      <td>43911</td>\n",
       "      <td>None</td>\n",
       "      <td>- km</td>\n",
       "      <td>-/-</td>\n",
       "      <td>147 kW</td>\n",
       "      <td>[, New, , Diesel]</td>\n",
       "      <td>NaN</td>\n",
       "      <td>NaN</td>\n",
       "      <td>NaN</td>\n",
       "      <td>NaN</td>\n",
       "      <td>[]</td>\n",
       "      <td>\\nRenault\\n</td>\n",
       "      <td>[\\n, Espace, \\n]</td>\n",
       "      <td>[\\n2504321\\n]</td>\n",
       "      <td>NaN</td>\n",
       "      <td>NaN</td>\n",
       "      <td>NaN</td>\n",
       "      <td>NaN</td>\n",
       "      <td>NaN</td>\n",
       "      <td>[\\n5\\n]</td>\n",
       "      <td>[\\n5\\n]</td>\n",
       "      <td>NaN</td>\n",
       "      <td>[\\n, Automatic, \\n]</td>\n",
       "      <td>[\\n1,997 cc\\n]</td>\n",
       "      <td>4</td>\n",
       "      <td>[\\nfront\\n]</td>\n",
       "      <td>[\\n, Diesel, \\n]</td>\n",
       "      <td>[[5 l/100 km (comb)], [5 l/100 km (city)], [4 l/100 km (country)]]</td>\n",
       "      <td>NaN</td>\n",
       "      <td>NaN</td>\n",
       "      <td>[]</td>\n",
       "      <td>NaN</td>\n",
       "      <td>NaN</td>\n",
       "      <td>NaN</td>\n",
       "      <td>[]</td>\n",
       "      <td>NaN</td>\n",
       "      <td>[\\n6\\n]</td>\n",
       "      <td>NaN</td>\n",
       "      <td>NaN</td>\n",
       "      <td>1</td>\n",
       "      <td>0</td>\n",
       "      <td>NaT</td>\n",
       "      <td>NaN</td>\n",
       "      <td>NaN</td>\n",
       "      <td>NaN</td>\n",
       "      <td></td>\n",
       "    </tr>\n",
       "    <tr>\n",
       "      <th>15864</th>\n",
       "      <td>https://www.autoscout24.com//offers/renault-espace-1-8-tce-gpf-initiale-paris-edc-gasoline-321bb168-821a-44b0-8784-958b10fa8ab7</td>\n",
       "      <td>Renault Espace</td>\n",
       "      <td>1.8 TCe GPF Initiale París EDC</td>\n",
       "      <td>Van</td>\n",
       "      <td>43315</td>\n",
       "      <td>None</td>\n",
       "      <td>- km</td>\n",
       "      <td>-/-</td>\n",
       "      <td>165 kW</td>\n",
       "      <td>[, New, , Gasoline]</td>\n",
       "      <td>NaN</td>\n",
       "      <td>NaN</td>\n",
       "      <td>NaN</td>\n",
       "      <td>NaN</td>\n",
       "      <td>[]</td>\n",
       "      <td>\\nRenault\\n</td>\n",
       "      <td>[\\n, Espace, \\n]</td>\n",
       "      <td>[\\n2447574\\n]</td>\n",
       "      <td>NaN</td>\n",
       "      <td>NaN</td>\n",
       "      <td>NaN</td>\n",
       "      <td>NaN</td>\n",
       "      <td>NaN</td>\n",
       "      <td>[\\n5\\n]</td>\n",
       "      <td>[\\n5\\n]</td>\n",
       "      <td>NaN</td>\n",
       "      <td>[\\n, Automatic, \\n]</td>\n",
       "      <td>[\\n1,798 cc\\n]</td>\n",
       "      <td>4</td>\n",
       "      <td>[\\nfront\\n]</td>\n",
       "      <td>[\\n, Gasoline, \\n]</td>\n",
       "      <td>[[6 l/100 km (comb)], [8 l/100 km (city)], [5 l/100 km (country)]]</td>\n",
       "      <td>NaN</td>\n",
       "      <td>NaN</td>\n",
       "      <td>[]</td>\n",
       "      <td>NaN</td>\n",
       "      <td>NaN</td>\n",
       "      <td>NaN</td>\n",
       "      <td>[]</td>\n",
       "      <td>NaN</td>\n",
       "      <td>[\\n7\\n]</td>\n",
       "      <td>NaN</td>\n",
       "      <td>NaN</td>\n",
       "      <td>1</td>\n",
       "      <td>0</td>\n",
       "      <td>NaT</td>\n",
       "      <td>NaN</td>\n",
       "      <td>NaN</td>\n",
       "      <td>NaN</td>\n",
       "      <td></td>\n",
       "    </tr>\n",
       "  </tbody>\n",
       "</table>\n",
       "<p>920 rows × 50 columns</p>\n",
       "</div>"
      ],
      "text/plain": [
       "                                                                                                                                                    url      make_model                                  short_description body_type  price             vat          km registration      hp                  Type Previous Owners Next Inspection Inspection new       Warranty null         Make             Model    Offer Number First Registration       Body Color      Paint Type                   Body Color Original Upholstery Nr. of Doors Nr. of Seats Model Code         Gearing Type    Displacement Cylinders  Drive chain                Fuel                                                               Consumption               CO2 Emission Emission Class \\nComfort & Convenience\\n \\nEntertainment & Media\\n      \\nExtras\\n \\nSafety & Security\\n                                                                                                                                                                                                                                                                                                                                                                                                                                                                                                          description Emission Label    Gears Country version Previous_Owner1 Previous_Owner  Inspection_New_Bool next_inspection paint_type country emission_label Comfort&Convenience\n",
       "9                  https://www.autoscout24.com//offers/audi-a1-sportback-tfsi-ultra-95-s-tronic-amb-gasoline-white-e2c49a42-6aaa-4039-9af1-7546a20c110e         Audi A1              SPORTBACK TFSI ULTRA 95 S-TRONIC AMB.    Sedans  17990            None   16,103 km      06/2017   70 kW  [, Used, , Gasoline]             NaN             NaN            NaN   \\n3 months\\n   []     \\nAudi\\n      [\\n, A1, \\n]             NaN     [\\n, 2017, \\n]  [\\n, White, \\n]             NaN                           [\\nBlanc\\n]        NaN      [\\n5\\n]      [\\n4\\n]        NaN  [\\n, Automatic, \\n]    [\\n999 cc\\n]       NaN          NaN  [\\n, Gasoline, \\n]                                                                       NaN                        NaN            NaN                        []                       NaN             NaN                   NaN  [\\nClim automatique,Ecran multifonction couleur,Capteur de pluie,Capteur de luminosité,Contrôle élect. de la pression des pneus,Régulateur de vitesse,EBD,ESP,8 Haut parleurs,ABS,Airbag conducteur,Airbag passager,Airbags latéraux avant,Airbags rideaux AV et AR,Antidémarrage électronique,Antipatinage,Appui-tête conducteur réglable hauteur,Appui-tête passager réglable en hauteur,Arrêt et redémarrage auto. du moteur,Bacs de portes avant,Banquette 1/3-2/3,Banquette AR rabattable,Boite à gant ferm...            NaN  [\\n7\\n]             NaN             NaN              1                    0             NaT        NaN     NaN            NaN                    \n",
       "30                            https://www.autoscout24.com//offers/audi-a1-sportback-1-4tdi-attraction-diesel-black-be5e7705-5e6e-4ca0-a7df-fc6153d6e384         Audi A1                        Sportback 1.4TDI Attraction   Compact  11290            None   38,400 km      06/2016   66 kW    [, Used, , Diesel]             NaN             NaN            NaN  \\n12 months\\n   []     \\nAudi\\n      [\\n, A1, \\n]   [\\n2780690\\n]     [\\n, 2016, \\n]  [\\n, Black, \\n]             NaN                           [\\nNegro\\n]        NaN      [\\n5\\n]      [\\n5\\n]        NaN     [\\n, Manual, \\n]  [\\n1,422 cc\\n]         3  [\\nfront\\n]    [\\n, Diesel, \\n]        [[3 l/100 km (comb)], [3 l/100 km (city)], [3 l/100 km (country)]]                        NaN            NaN                        []                       NaN             NaN                   NaN  [\\nVEHÍCULO NACIONAL, PROCEDE DE CONCESIONARIO OFICIAL , KMTS CERTIFICADOS CON LIBRO DE REVISIONES EN CONCESIONARIO OFICIAL, MUY BUEN ESTADO GENERAL Y MECANICO (21% IVA INCLUIDO EN EL PRECIO), AUX, SROP&GO, 5 PLAZAS, CIERRE CENTRALIZADO , ESPEJOS AUT..., ACEPTAMOS VEHICULO COMO PAGO , GESTIONAMOS SU FINANCIACION , GARANTIA MECANICA 12 MESES INCLUIDA, CAMBIO DE TITULAR +190 €, Este anuncio tiene caracter informarivo, puede contener errores, no tiene valor contractual.,  , Detalles de la finan...            NaN  [\\n5\\n]             NaN             NaN              1                    0             NaT        NaN     NaN            NaN                    \n",
       "53                            https://www.autoscout24.com//offers/audi-a1-sportback-1-6tdi-attraction-diesel-black-7ca7c3ad-80da-440a-b166-3766bda27464         Audi A1                        Sportback 1.6TDI Attraction   Compact  11100            None  111,670 km      06/2016   85 kW    [, Used, , Diesel]             NaN             NaN            NaN  \\n12 months\\n   []     \\nAudi\\n      [\\n, A1, \\n]   [\\n2902210\\n]     [\\n, 2016, \\n]  [\\n, Black, \\n]             NaN                           [\\nNegro\\n]        NaN      [\\n5\\n]      [\\n5\\n]        NaN     [\\n, Manual, \\n]  [\\n1,598 cc\\n]         4  [\\nfront\\n]    [\\n, Diesel, \\n]        [[3 l/100 km (comb)], [4 l/100 km (city)], [3 l/100 km (country)]]                        NaN            NaN                        []                       NaN             NaN                   NaN  [\\nEn Traverauto (Desde 1978,Opel desde 1986), Te damos precios llave en mano, PAGA AL CONTADO 12.600 € , ! TE FINANCIAMOS DESDE 4'99% ¡, SI PREFIERES DESCUENTO ...FINANCIA: 11.100 € (desde 158 €/MES), En ambos casos tendrás incluido :, Coche en perfecto estado, 12 Meses Garantía Nacional sin límite de kms, 100% Revisado con aceite y filtros cambiados, Transferencia, Impuestos, Certificado kilometraje, Certificado de no siniestralidad, Te tasamos tu coche online, ENTREGA EN LA PUERTA DE TU C...            NaN  [\\n5\\n]             NaN             NaN              1                    0             NaT        NaN     NaN            NaN                    \n",
       "168                  https://www.autoscout24.com//offers/audi-a1-spb-1-0-tfsi-ultra-s-tronic-admired-gasoline-blue-d7717886-d0b5-cb17-e053-e250040a03a9         Audi A1                SPB 1.0 TFSI ultra S tronic Admired    Sedans  17500            None   15,000 km      07/2017   70 kW  [, Used, , Gasoline]             NaN             NaN            NaN            NaN   []     \\nAudi\\n      [\\n, A1, \\n]             NaN     [\\n, 2017, \\n]   [\\n, Blue, \\n]             NaN                                   NaN        NaN      [\\n5\\n]      [\\n4\\n]        NaN  [\\n, Automatic, \\n]    [\\n999 cc\\n]         3          NaN  [\\n, Gasoline, \\n]  [[4.4 l/100 km (comb)], [5.4 l/100 km (city)], [3.8 l/100 km (country)]]  [\\n102 g CO2/km (comb)\\n]   [\\nEuro 6\\n]                        []                       NaN  [Alloy wheels]                   NaN                                                                                                                                                                                                                                                                                                                                                                    [\\nFari a led e xenon , Bracciolo centrale anteriore, Navigatore, Cerchi da 17 extra , Ruote invernali da 16 con cerchi e gomme originali audi\\n]            NaN  [\\n7\\n]             NaN             NaN              1                    0             NaT        NaN     NaN            NaN                    \n",
       "191        https://www.autoscout24.com//offers/audi-a1-sportback-sportback-1-4-tdi-s-tronic-adrenalin2-diesel-grey-8bbc9cf9-2598-4f9b-a6cb-35e6d48c12b3         Audi A1    Sportback Sportback 1.4 TDI S tronic Adrenalin2   Compact  17900            None   11,300 km      11/2016   66 kW    [, Used, , Diesel]             NaN             NaN            NaN  \\n12 months\\n   []     \\nAudi\\n      [\\n, A1, \\n]    [\\n174585\\n]     [\\n, 2016, \\n]   [\\n, Grey, \\n]  [\\nMetallic\\n]                 [\\nGris Metalizado\\n]        NaN      [\\n5\\n]      [\\n4\\n]        NaN  [\\n, Automatic, \\n]             NaN       NaN          NaN    [\\n, Diesel, \\n]                                                                       NaN                        NaN            NaN                        []                       NaN             NaN                   NaN  [\\n\\AUTOSI, La gran exposición del Vallés., Concesionarios Oficiales: Jeep, KIA, Alfa Romeo, Fiat y Abarth., Precio al contado: 16.900€, Precio financiado: 15.900€ (desde 243€/mes) financiando el 100%., Cambio de nombre: +325€, Vehículo revisado 100% por nuestro taller oficial., Aceptamos tu coche como parte de pago. IVA deducible. Entrega en la puerta de tu casa., Garantía propia 12 meses., Coche nacional con la certificación más completa del mercado, incluyendo kilometraje garantizado e hi...            NaN  [\\n7\\n]             NaN             NaN              1                    0             NaT   Metallic     NaN            NaN                    \n",
       "...                                                                                                                                                 ...             ...                                                ...       ...    ...             ...         ...          ...     ...                   ...             ...             ...            ...            ...  ...          ...               ...             ...                ...              ...             ...                                   ...        ...          ...          ...        ...                  ...             ...       ...          ...                 ...                                                                       ...                        ...            ...                       ...                       ...             ...                   ...                                                                                                                                                                                                                                                                                                                                                                                                                                                                                                                  ...            ...      ...             ...             ...            ...                  ...             ...        ...     ...            ...                 ...\n",
       "15791                   https://www.autoscout24.com//offers/renault-espace-v-dci-160-energy-twin-turbo-diesel-grey-0559a598-97ea-42a9-94d8-ad86c545d631  Renault Espace                        V dCi 160 Energy Twin Turbo       Van  33990  VAT deductible   10,803 km      05/2018    - kW    [, Used, , Diesel]             NaN             NaN            NaN  \\n12 months\\n   []  \\nRenault\\n  [\\n, Espace, \\n]  [\\nVO003105\\n]     [\\n, 2018, \\n]   [\\n, Grey, \\n]             NaN                            [\\ngris\\n]        NaN      [\\n5\\n]          NaN        NaN  [\\n, Automatic, \\n]             NaN       NaN          NaN    [\\n, Diesel, \\n]                                           [[4.6 l/100 km (comb)], [], []]                        NaN            NaN                        []                       NaN             NaN                   NaN                                                                                                                                                                                                                                                                                                                                                                                             [\\nV dCi 160 Energy Twin Turbo Initiale Paris EDC, diesel, gris, 04/05/2018, Peinture Gris Cassiopée, Roue de secours\\n]            NaN      NaN             NaN             NaN              1                    0             NaT        NaN     NaN            NaN                    \n",
       "15804               https://www.autoscout24.com//offers/renault-espace-initiale-paris-blue-dci-200-edc-diesel-blue-67d89e07-74b6-454e-b4fc-6c20716cb5cb  Renault Espace                    Initiale Paris Blue dCi 200 EDC       Van  44500            None    9,000 km      03/2019  147 kW    [, Used, , Diesel]             NaN             NaN            NaN            NaN   []  \\nRenault\\n  [\\n, Espace, \\n]  [\\nVN023381\\n]     [\\n, 2019, \\n]   [\\n, Blue, \\n]             NaN                            [\\nbleu\\n]        NaN      [\\n5\\n]      [\\n7\\n]        NaN  [\\n, Automatic, \\n]             NaN       NaN          NaN    [\\n, Diesel, \\n]                                                                       NaN               [[], [], []]            NaN                        []                       NaN             NaN                   NaN                                                                                                                                                                                                                                                                                                                                                                                                                 [\\nInitiale Paris Blue dCi 200 EDC, diesel, bleu, 22/03/2019, Peinture Bleu Cosmos, Pack 7 places\\n]            NaN      NaN             NaN             NaN              1                    0             NaT        NaN     NaN            NaN                    \n",
       "15805  https://www.autoscout24.com//offers/renault-espace-init-p-blue-dci-147kw-200cv-edc-18-leomotor-diesel-black-a38eb852-05ed-495d-8f3d-f001571f97ea  Renault Espace  Init. P. Blue dCi 147kW (200CV) EDC - 18 Leomotor   Compact  43000            None    1,000 km      03/2019  147 kW    [, Used, , Diesel]             NaN             NaN            NaN  \\n24 months\\n   []  \\nRenault\\n  [\\n, Espace, \\n]    [\\n386482\\n]     [\\n, 2019, \\n]  [\\n, Black, \\n]  [\\nMetallic\\n]  [\\nNegro Amatista (metalizado esp\\n]        NaN      [\\n5\\n]      [\\n5\\n]        NaN  [\\n, Automatic, \\n]             NaN       NaN          NaN    [\\n, Diesel, \\n]                                                                       NaN                        NaN            NaN                        []                       NaN             NaN                   NaN                                                                                                                                                                                                                                                                                                                                                                                                                                                                                                                   []            NaN  [\\n6\\n]             NaN             NaN              1                    0             NaT   Metallic     NaN            NaN                    \n",
       "15854            https://www.autoscout24.com//offers/renault-espace-2-0dci-tt-initiale-paris-blue-edc-147kw-diesel-fa37074f-8ae1-49cb-b593-cc1f08d17bae  Renault Espace            2.0dCi TT Initiale Paris Blue EDC 147kW       Van  43911            None        - km          -/-  147 kW     [, New, , Diesel]             NaN             NaN            NaN            NaN   []  \\nRenault\\n  [\\n, Espace, \\n]   [\\n2504321\\n]                NaN              NaN             NaN                                   NaN        NaN      [\\n5\\n]      [\\n5\\n]        NaN  [\\n, Automatic, \\n]  [\\n1,997 cc\\n]         4  [\\nfront\\n]    [\\n, Diesel, \\n]        [[5 l/100 km (comb)], [5 l/100 km (city)], [4 l/100 km (country)]]                        NaN            NaN                        []                       NaN             NaN                   NaN                                                                                                                                                                                                                                                                                                                                                                                                                                                                                                                   []            NaN  [\\n6\\n]             NaN             NaN              1                    0             NaT        NaN     NaN            NaN                    \n",
       "15864                   https://www.autoscout24.com//offers/renault-espace-1-8-tce-gpf-initiale-paris-edc-gasoline-321bb168-821a-44b0-8784-958b10fa8ab7  Renault Espace                     1.8 TCe GPF Initiale París EDC       Van  43315            None        - km          -/-  165 kW   [, New, , Gasoline]             NaN             NaN            NaN            NaN   []  \\nRenault\\n  [\\n, Espace, \\n]   [\\n2447574\\n]                NaN              NaN             NaN                                   NaN        NaN      [\\n5\\n]      [\\n5\\n]        NaN  [\\n, Automatic, \\n]  [\\n1,798 cc\\n]         4  [\\nfront\\n]  [\\n, Gasoline, \\n]        [[6 l/100 km (comb)], [8 l/100 km (city)], [5 l/100 km (country)]]                        NaN            NaN                        []                       NaN             NaN                   NaN                                                                                                                                                                                                                                                                                                                                                                                                                                                                                                                   []            NaN  [\\n7\\n]             NaN             NaN              1                    0             NaT        NaN     NaN            NaN                    \n",
       "\n",
       "[920 rows x 50 columns]"
      ]
     },
     "execution_count": 2022,
     "metadata": {},
     "output_type": "execute_result"
    }
   ],
   "source": [
    "data[data['Comfort&Convenience']== ''] "
   ]
  },
  {
   "cell_type": "code",
   "execution_count": 2023,
   "metadata": {},
   "outputs": [
    {
     "data": {
      "text/plain": [
       "0"
      ]
     },
     "execution_count": 2023,
     "metadata": {},
     "output_type": "execute_result"
    }
   ],
   "source": [
    "data['Comfort&Convenience'].isnull().sum()"
   ]
  },
  {
   "cell_type": "code",
   "execution_count": 2024,
   "metadata": {},
   "outputs": [],
   "source": [
    "data['Comfort&Convenience'] = [np.nan if data['Comfort&Convenience'].iloc[i] == \"\" else data['Comfort&Convenience'].iloc[i] for i in range(len(data['Comfort&Convenience']))]"
   ]
  },
  {
   "cell_type": "code",
   "execution_count": 2025,
   "metadata": {},
   "outputs": [
    {
     "data": {
      "text/plain": [
       "NaN                                                                                                                                                                                                                                                                                                                                                    920\n",
       "Air conditioning,Electrical side mirrors,Hill Holder,Power windows                                                                                                                                                                                                                                                                                     216\n",
       "Air conditioning,Electrical side mirrors,Power windows                                                                                                                                                                                                                                                                                                 134\n",
       "Air conditioning,Power windows                                                                                                                                                                                                                                                                                                                         130\n",
       "Air conditioning,Armrest,Automatic climate control,Cruise control,Electrical side mirrors,Leather steering wheel,Light sensor,Lumbar support,Multi-function steering wheel,Navigation system,Park Distance Control,Parking assist system sensors front,Parking assist system sensors rear,Power windows,Rain sensor,Seat heating,Start-stop system     105\n",
       "                                                                                                                                                                                                                                                                                                                                                      ... \n",
       "Air conditioning,Cruise control,Electrical side mirrors,Heated steering wheel,Hill Holder,Leather steering wheel,Light sensor,Multi-function steering wheel,Park Distance Control,Parking assist system sensors rear,Power windows,Seat heating,Start-stop system                                                                                        1\n",
       "Air conditioning,Armrest,Automatic climate control,Cruise control,Electrical side mirrors,Hill Holder,Leather steering wheel,Lumbar support,Multi-function steering wheel,Navigation system,Park Distance Control,Parking assist system sensors front,Parking assist system sensors rear,Power windows,Rain sensor,Start-stop system,Tinted windows      1\n",
       "Air conditioning,Cruise control,Electrically heated windshield,Electrical side mirrors,Heated steering wheel,Leather steering wheel,Light sensor,Multi-function steering wheel,Power windows,Rain sensor,Seat heating                                                                                                                                    1\n",
       "Air conditioning,Cruise control,Electrical side mirrors,Heated steering wheel,Hill Holder,Leather steering wheel,Multi-function steering wheel,Park Distance Control,Parking assist system sensors rear,Power windows,Seat heating,Tinted windows                                                                                                        1\n",
       "Air conditioning,Cruise control,Electrical side mirrors,Hill Holder,Keyless central door lock,Leather steering wheel,Light sensor,Multi-function steering wheel,Power windows,Rain sensor,Start-stop system                                                                                                                                              1\n",
       "Name: Comfort&Convenience, Length: 6199, dtype: int64"
      ]
     },
     "execution_count": 2025,
     "metadata": {},
     "output_type": "execute_result"
    }
   ],
   "source": [
    "data['Comfort&Convenience'].value_counts(dropna = False)"
   ]
  },
  {
   "cell_type": "code",
   "execution_count": 2026,
   "metadata": {},
   "outputs": [],
   "source": [
    "fill_most(data, 'make_model', 'Comfort&Convenience')"
   ]
  },
  {
   "cell_type": "code",
   "execution_count": 2027,
   "metadata": {},
   "outputs": [
    {
     "data": {
      "text/plain": [
       "0"
      ]
     },
     "execution_count": 2027,
     "metadata": {},
     "output_type": "execute_result"
    }
   ],
   "source": [
    "data['Comfort&Convenience'].isnull().sum()"
   ]
  },
  {
   "cell_type": "code",
   "execution_count": 2028,
   "metadata": {},
   "outputs": [
    {
     "data": {
      "text/plain": [
       "Air conditioning,Electrical side mirrors,Hill Holder,Power windows                                                                                                                                                                                                                                                                                                                                                                                                                                             389\n",
       "Air conditioning,Armrest,Automatic climate control,Cruise control,Electrically adjustable seats,Electrical side mirrors,Electric tailgate,Heated steering wheel,Hill Holder,Keyless central door lock,Leather steering wheel,Light sensor,Lumbar support,Multi-function steering wheel,Navigation system,Park Distance Control,Parking assist system camera,Parking assist system sensors front,Parking assist system sensors rear,Power windows,Rain sensor,Seat heating,Start-stop system                    259\n",
       "Air conditioning,Cruise control,Electrical side mirrors,Hill Holder,Light sensor,Multi-function steering wheel,Park Distance Control,Parking assist system sensors rear,Power windows,Start-stop system                                                                                                                                                                                                                                                                                                        207\n",
       "Air conditioning,Automatic climate control,Cruise control,Multi-function steering wheel,Park Distance Control,Power windows                                                                                                                                                                                                                                                                                                                                                                                    190\n",
       "Air conditioning,Armrest,Automatic climate control,Cruise control,Electrical side mirrors,Leather steering wheel,Light sensor,Lumbar support,Multi-function steering wheel,Navigation system,Park Distance Control,Parking assist system sensors front,Parking assist system sensors rear,Power windows,Rain sensor,Seat heating,Start-stop system                                                                                                                                                             187\n",
       "                                                                                                                                                                                                                                                                                                                                                                                                                                                                                                              ... \n",
       "Air conditioning,Armrest,Automatic climate control,Cruise control,Electrically adjustable seats,Electrical side mirrors,Heads-up display,Leather steering wheel,Multi-function steering wheel,Navigation system,Park Distance Control,Parking assist system camera,Parking assist system sensors rear,Power windows,Rain sensor,Seat heating,Start-stop system                                                                                                                                                   1\n",
       "Air conditioning,Cruise control,Electrical side mirrors,Heated steering wheel,Hill Holder,Leather steering wheel,Light sensor,Multi-function steering wheel,Park Distance Control,Parking assist system sensors rear,Power windows,Seat heating,Start-stop system                                                                                                                                                                                                                                                1\n",
       "Air conditioning,Armrest,Automatic climate control,Cruise control,Electrical side mirrors,Hill Holder,Leather steering wheel,Lumbar support,Multi-function steering wheel,Navigation system,Park Distance Control,Parking assist system sensors front,Parking assist system sensors rear,Power windows,Rain sensor,Start-stop system,Tinted windows                                                                                                                                                              1\n",
       "Air conditioning,Cruise control,Electrically heated windshield,Electrical side mirrors,Heated steering wheel,Leather steering wheel,Light sensor,Multi-function steering wheel,Power windows,Rain sensor,Seat heating                                                                                                                                                                                                                                                                                            1\n",
       "Air conditioning,Armrest,Automatic climate control,Cruise control,Electrical side mirrors,Electric tailgate,Heads-up display,Heated steering wheel,Hill Holder,Keyless central door lock,Leather steering wheel,Light sensor,Lumbar support,Multi-function steering wheel,Navigation system,Panorama roof,Park Distance Control,Parking assist system self-steering,Parking assist system sensors front,Parking assist system sensors rear,Power windows,Rain sensor,Seat heating,Start-stop system,Sunroof      1\n",
       "Name: Comfort&Convenience, Length: 6198, dtype: int64"
      ]
     },
     "execution_count": 2028,
     "metadata": {},
     "output_type": "execute_result"
    }
   ],
   "source": [
    "data['Comfort&Convenience'].value_counts(dropna = False)"
   ]
  },
  {
   "cell_type": "code",
   "execution_count": 2029,
   "metadata": {},
   "outputs": [
    {
     "data": {
      "text/html": [
       "<div>\n",
       "<style scoped>\n",
       "    .dataframe tbody tr th:only-of-type {\n",
       "        vertical-align: middle;\n",
       "    }\n",
       "\n",
       "    .dataframe tbody tr th {\n",
       "        vertical-align: top;\n",
       "    }\n",
       "\n",
       "    .dataframe thead th {\n",
       "        text-align: right;\n",
       "    }\n",
       "</style>\n",
       "<table border=\"1\" class=\"dataframe\">\n",
       "  <thead>\n",
       "    <tr style=\"text-align: right;\">\n",
       "      <th></th>\n",
       "      <th>Air conditioning</th>\n",
       "      <th>Air suspension</th>\n",
       "      <th>Armrest</th>\n",
       "      <th>Automatic climate control</th>\n",
       "      <th>Auxiliary heating</th>\n",
       "      <th>Cruise control</th>\n",
       "      <th>Electric Starter</th>\n",
       "      <th>Electric tailgate</th>\n",
       "      <th>Electrical side mirrors</th>\n",
       "      <th>Electrically adjustable seats</th>\n",
       "      <th>Electrically heated windshield</th>\n",
       "      <th>Heads-up display</th>\n",
       "      <th>Heated steering wheel</th>\n",
       "      <th>Hill Holder</th>\n",
       "      <th>Keyless central door lock</th>\n",
       "      <th>Leather seats</th>\n",
       "      <th>Leather steering wheel</th>\n",
       "      <th>Light sensor</th>\n",
       "      <th>Lumbar support</th>\n",
       "      <th>Massage seats</th>\n",
       "      <th>Multi-function steering wheel</th>\n",
       "      <th>Navigation system</th>\n",
       "      <th>Panorama roof</th>\n",
       "      <th>Park Distance Control</th>\n",
       "      <th>Parking assist system camera</th>\n",
       "      <th>Parking assist system self-steering</th>\n",
       "      <th>Parking assist system sensors front</th>\n",
       "      <th>Parking assist system sensors rear</th>\n",
       "      <th>Power windows</th>\n",
       "      <th>Rain sensor</th>\n",
       "      <th>Seat heating</th>\n",
       "      <th>Seat ventilation</th>\n",
       "      <th>Split rear seats</th>\n",
       "      <th>Start-stop system</th>\n",
       "      <th>Sunroof</th>\n",
       "      <th>Tinted windows</th>\n",
       "      <th>Wind deflector</th>\n",
       "      <th>Windshield</th>\n",
       "    </tr>\n",
       "  </thead>\n",
       "  <tbody>\n",
       "    <tr>\n",
       "      <th>0</th>\n",
       "      <td>1</td>\n",
       "      <td>0</td>\n",
       "      <td>1</td>\n",
       "      <td>1</td>\n",
       "      <td>0</td>\n",
       "      <td>1</td>\n",
       "      <td>0</td>\n",
       "      <td>0</td>\n",
       "      <td>1</td>\n",
       "      <td>0</td>\n",
       "      <td>0</td>\n",
       "      <td>0</td>\n",
       "      <td>0</td>\n",
       "      <td>1</td>\n",
       "      <td>0</td>\n",
       "      <td>0</td>\n",
       "      <td>1</td>\n",
       "      <td>1</td>\n",
       "      <td>0</td>\n",
       "      <td>0</td>\n",
       "      <td>1</td>\n",
       "      <td>1</td>\n",
       "      <td>0</td>\n",
       "      <td>1</td>\n",
       "      <td>0</td>\n",
       "      <td>0</td>\n",
       "      <td>0</td>\n",
       "      <td>1</td>\n",
       "      <td>1</td>\n",
       "      <td>1</td>\n",
       "      <td>1</td>\n",
       "      <td>0</td>\n",
       "      <td>0</td>\n",
       "      <td>1</td>\n",
       "      <td>0</td>\n",
       "      <td>0</td>\n",
       "      <td>0</td>\n",
       "      <td>0</td>\n",
       "    </tr>\n",
       "    <tr>\n",
       "      <th>1</th>\n",
       "      <td>1</td>\n",
       "      <td>0</td>\n",
       "      <td>0</td>\n",
       "      <td>1</td>\n",
       "      <td>0</td>\n",
       "      <td>0</td>\n",
       "      <td>0</td>\n",
       "      <td>0</td>\n",
       "      <td>0</td>\n",
       "      <td>0</td>\n",
       "      <td>0</td>\n",
       "      <td>0</td>\n",
       "      <td>0</td>\n",
       "      <td>1</td>\n",
       "      <td>0</td>\n",
       "      <td>0</td>\n",
       "      <td>1</td>\n",
       "      <td>0</td>\n",
       "      <td>1</td>\n",
       "      <td>0</td>\n",
       "      <td>0</td>\n",
       "      <td>0</td>\n",
       "      <td>0</td>\n",
       "      <td>0</td>\n",
       "      <td>0</td>\n",
       "      <td>0</td>\n",
       "      <td>0</td>\n",
       "      <td>1</td>\n",
       "      <td>1</td>\n",
       "      <td>0</td>\n",
       "      <td>0</td>\n",
       "      <td>0</td>\n",
       "      <td>0</td>\n",
       "      <td>1</td>\n",
       "      <td>0</td>\n",
       "      <td>1</td>\n",
       "      <td>0</td>\n",
       "      <td>0</td>\n",
       "    </tr>\n",
       "    <tr>\n",
       "      <th>2</th>\n",
       "      <td>1</td>\n",
       "      <td>0</td>\n",
       "      <td>0</td>\n",
       "      <td>0</td>\n",
       "      <td>0</td>\n",
       "      <td>1</td>\n",
       "      <td>0</td>\n",
       "      <td>0</td>\n",
       "      <td>1</td>\n",
       "      <td>0</td>\n",
       "      <td>0</td>\n",
       "      <td>0</td>\n",
       "      <td>0</td>\n",
       "      <td>1</td>\n",
       "      <td>0</td>\n",
       "      <td>0</td>\n",
       "      <td>1</td>\n",
       "      <td>0</td>\n",
       "      <td>0</td>\n",
       "      <td>0</td>\n",
       "      <td>1</td>\n",
       "      <td>1</td>\n",
       "      <td>0</td>\n",
       "      <td>1</td>\n",
       "      <td>0</td>\n",
       "      <td>0</td>\n",
       "      <td>1</td>\n",
       "      <td>1</td>\n",
       "      <td>1</td>\n",
       "      <td>0</td>\n",
       "      <td>1</td>\n",
       "      <td>0</td>\n",
       "      <td>0</td>\n",
       "      <td>1</td>\n",
       "      <td>0</td>\n",
       "      <td>0</td>\n",
       "      <td>0</td>\n",
       "      <td>0</td>\n",
       "    </tr>\n",
       "    <tr>\n",
       "      <th>3</th>\n",
       "      <td>0</td>\n",
       "      <td>1</td>\n",
       "      <td>1</td>\n",
       "      <td>0</td>\n",
       "      <td>1</td>\n",
       "      <td>0</td>\n",
       "      <td>0</td>\n",
       "      <td>0</td>\n",
       "      <td>1</td>\n",
       "      <td>0</td>\n",
       "      <td>0</td>\n",
       "      <td>1</td>\n",
       "      <td>0</td>\n",
       "      <td>1</td>\n",
       "      <td>0</td>\n",
       "      <td>0</td>\n",
       "      <td>1</td>\n",
       "      <td>1</td>\n",
       "      <td>1</td>\n",
       "      <td>0</td>\n",
       "      <td>1</td>\n",
       "      <td>1</td>\n",
       "      <td>0</td>\n",
       "      <td>0</td>\n",
       "      <td>0</td>\n",
       "      <td>0</td>\n",
       "      <td>0</td>\n",
       "      <td>0</td>\n",
       "      <td>1</td>\n",
       "      <td>1</td>\n",
       "      <td>1</td>\n",
       "      <td>0</td>\n",
       "      <td>1</td>\n",
       "      <td>1</td>\n",
       "      <td>0</td>\n",
       "      <td>0</td>\n",
       "      <td>0</td>\n",
       "      <td>0</td>\n",
       "    </tr>\n",
       "    <tr>\n",
       "      <th>4</th>\n",
       "      <td>1</td>\n",
       "      <td>0</td>\n",
       "      <td>1</td>\n",
       "      <td>1</td>\n",
       "      <td>0</td>\n",
       "      <td>0</td>\n",
       "      <td>0</td>\n",
       "      <td>0</td>\n",
       "      <td>1</td>\n",
       "      <td>0</td>\n",
       "      <td>0</td>\n",
       "      <td>0</td>\n",
       "      <td>0</td>\n",
       "      <td>1</td>\n",
       "      <td>0</td>\n",
       "      <td>0</td>\n",
       "      <td>1</td>\n",
       "      <td>1</td>\n",
       "      <td>0</td>\n",
       "      <td>0</td>\n",
       "      <td>1</td>\n",
       "      <td>0</td>\n",
       "      <td>0</td>\n",
       "      <td>1</td>\n",
       "      <td>0</td>\n",
       "      <td>0</td>\n",
       "      <td>0</td>\n",
       "      <td>1</td>\n",
       "      <td>1</td>\n",
       "      <td>1</td>\n",
       "      <td>0</td>\n",
       "      <td>0</td>\n",
       "      <td>0</td>\n",
       "      <td>1</td>\n",
       "      <td>0</td>\n",
       "      <td>0</td>\n",
       "      <td>0</td>\n",
       "      <td>0</td>\n",
       "    </tr>\n",
       "    <tr>\n",
       "      <th>...</th>\n",
       "      <td>...</td>\n",
       "      <td>...</td>\n",
       "      <td>...</td>\n",
       "      <td>...</td>\n",
       "      <td>...</td>\n",
       "      <td>...</td>\n",
       "      <td>...</td>\n",
       "      <td>...</td>\n",
       "      <td>...</td>\n",
       "      <td>...</td>\n",
       "      <td>...</td>\n",
       "      <td>...</td>\n",
       "      <td>...</td>\n",
       "      <td>...</td>\n",
       "      <td>...</td>\n",
       "      <td>...</td>\n",
       "      <td>...</td>\n",
       "      <td>...</td>\n",
       "      <td>...</td>\n",
       "      <td>...</td>\n",
       "      <td>...</td>\n",
       "      <td>...</td>\n",
       "      <td>...</td>\n",
       "      <td>...</td>\n",
       "      <td>...</td>\n",
       "      <td>...</td>\n",
       "      <td>...</td>\n",
       "      <td>...</td>\n",
       "      <td>...</td>\n",
       "      <td>...</td>\n",
       "      <td>...</td>\n",
       "      <td>...</td>\n",
       "      <td>...</td>\n",
       "      <td>...</td>\n",
       "      <td>...</td>\n",
       "      <td>...</td>\n",
       "      <td>...</td>\n",
       "      <td>...</td>\n",
       "    </tr>\n",
       "    <tr>\n",
       "      <th>15914</th>\n",
       "      <td>1</td>\n",
       "      <td>0</td>\n",
       "      <td>0</td>\n",
       "      <td>1</td>\n",
       "      <td>0</td>\n",
       "      <td>1</td>\n",
       "      <td>0</td>\n",
       "      <td>0</td>\n",
       "      <td>1</td>\n",
       "      <td>1</td>\n",
       "      <td>0</td>\n",
       "      <td>0</td>\n",
       "      <td>0</td>\n",
       "      <td>1</td>\n",
       "      <td>1</td>\n",
       "      <td>0</td>\n",
       "      <td>1</td>\n",
       "      <td>1</td>\n",
       "      <td>0</td>\n",
       "      <td>1</td>\n",
       "      <td>1</td>\n",
       "      <td>1</td>\n",
       "      <td>0</td>\n",
       "      <td>1</td>\n",
       "      <td>0</td>\n",
       "      <td>0</td>\n",
       "      <td>1</td>\n",
       "      <td>1</td>\n",
       "      <td>1</td>\n",
       "      <td>1</td>\n",
       "      <td>0</td>\n",
       "      <td>0</td>\n",
       "      <td>1</td>\n",
       "      <td>1</td>\n",
       "      <td>0</td>\n",
       "      <td>1</td>\n",
       "      <td>0</td>\n",
       "      <td>0</td>\n",
       "    </tr>\n",
       "    <tr>\n",
       "      <th>15915</th>\n",
       "      <td>1</td>\n",
       "      <td>0</td>\n",
       "      <td>0</td>\n",
       "      <td>1</td>\n",
       "      <td>0</td>\n",
       "      <td>1</td>\n",
       "      <td>0</td>\n",
       "      <td>1</td>\n",
       "      <td>1</td>\n",
       "      <td>0</td>\n",
       "      <td>1</td>\n",
       "      <td>1</td>\n",
       "      <td>1</td>\n",
       "      <td>1</td>\n",
       "      <td>1</td>\n",
       "      <td>0</td>\n",
       "      <td>1</td>\n",
       "      <td>1</td>\n",
       "      <td>1</td>\n",
       "      <td>0</td>\n",
       "      <td>0</td>\n",
       "      <td>1</td>\n",
       "      <td>0</td>\n",
       "      <td>1</td>\n",
       "      <td>1</td>\n",
       "      <td>1</td>\n",
       "      <td>1</td>\n",
       "      <td>1</td>\n",
       "      <td>1</td>\n",
       "      <td>1</td>\n",
       "      <td>1</td>\n",
       "      <td>0</td>\n",
       "      <td>0</td>\n",
       "      <td>0</td>\n",
       "      <td>1</td>\n",
       "      <td>0</td>\n",
       "      <td>0</td>\n",
       "      <td>0</td>\n",
       "    </tr>\n",
       "    <tr>\n",
       "      <th>15916</th>\n",
       "      <td>1</td>\n",
       "      <td>0</td>\n",
       "      <td>1</td>\n",
       "      <td>1</td>\n",
       "      <td>0</td>\n",
       "      <td>1</td>\n",
       "      <td>0</td>\n",
       "      <td>1</td>\n",
       "      <td>1</td>\n",
       "      <td>0</td>\n",
       "      <td>1</td>\n",
       "      <td>1</td>\n",
       "      <td>1</td>\n",
       "      <td>0</td>\n",
       "      <td>0</td>\n",
       "      <td>0</td>\n",
       "      <td>1</td>\n",
       "      <td>1</td>\n",
       "      <td>0</td>\n",
       "      <td>1</td>\n",
       "      <td>1</td>\n",
       "      <td>1</td>\n",
       "      <td>1</td>\n",
       "      <td>1</td>\n",
       "      <td>1</td>\n",
       "      <td>0</td>\n",
       "      <td>1</td>\n",
       "      <td>1</td>\n",
       "      <td>1</td>\n",
       "      <td>1</td>\n",
       "      <td>1</td>\n",
       "      <td>1</td>\n",
       "      <td>0</td>\n",
       "      <td>0</td>\n",
       "      <td>1</td>\n",
       "      <td>0</td>\n",
       "      <td>0</td>\n",
       "      <td>0</td>\n",
       "    </tr>\n",
       "    <tr>\n",
       "      <th>15917</th>\n",
       "      <td>1</td>\n",
       "      <td>0</td>\n",
       "      <td>0</td>\n",
       "      <td>1</td>\n",
       "      <td>0</td>\n",
       "      <td>1</td>\n",
       "      <td>0</td>\n",
       "      <td>0</td>\n",
       "      <td>1</td>\n",
       "      <td>1</td>\n",
       "      <td>0</td>\n",
       "      <td>0</td>\n",
       "      <td>0</td>\n",
       "      <td>0</td>\n",
       "      <td>0</td>\n",
       "      <td>0</td>\n",
       "      <td>1</td>\n",
       "      <td>1</td>\n",
       "      <td>0</td>\n",
       "      <td>0</td>\n",
       "      <td>0</td>\n",
       "      <td>0</td>\n",
       "      <td>0</td>\n",
       "      <td>1</td>\n",
       "      <td>0</td>\n",
       "      <td>0</td>\n",
       "      <td>0</td>\n",
       "      <td>0</td>\n",
       "      <td>1</td>\n",
       "      <td>0</td>\n",
       "      <td>0</td>\n",
       "      <td>0</td>\n",
       "      <td>0</td>\n",
       "      <td>1</td>\n",
       "      <td>0</td>\n",
       "      <td>0</td>\n",
       "      <td>0</td>\n",
       "      <td>0</td>\n",
       "    </tr>\n",
       "    <tr>\n",
       "      <th>15918</th>\n",
       "      <td>1</td>\n",
       "      <td>0</td>\n",
       "      <td>0</td>\n",
       "      <td>1</td>\n",
       "      <td>0</td>\n",
       "      <td>1</td>\n",
       "      <td>0</td>\n",
       "      <td>1</td>\n",
       "      <td>1</td>\n",
       "      <td>1</td>\n",
       "      <td>0</td>\n",
       "      <td>0</td>\n",
       "      <td>0</td>\n",
       "      <td>1</td>\n",
       "      <td>0</td>\n",
       "      <td>0</td>\n",
       "      <td>1</td>\n",
       "      <td>0</td>\n",
       "      <td>0</td>\n",
       "      <td>0</td>\n",
       "      <td>0</td>\n",
       "      <td>1</td>\n",
       "      <td>0</td>\n",
       "      <td>0</td>\n",
       "      <td>0</td>\n",
       "      <td>0</td>\n",
       "      <td>0</td>\n",
       "      <td>0</td>\n",
       "      <td>1</td>\n",
       "      <td>0</td>\n",
       "      <td>1</td>\n",
       "      <td>0</td>\n",
       "      <td>0</td>\n",
       "      <td>0</td>\n",
       "      <td>0</td>\n",
       "      <td>0</td>\n",
       "      <td>0</td>\n",
       "      <td>0</td>\n",
       "    </tr>\n",
       "  </tbody>\n",
       "</table>\n",
       "<p>15919 rows × 38 columns</p>\n",
       "</div>"
      ],
      "text/plain": [
       "       Air conditioning  Air suspension  Armrest  Automatic climate control  Auxiliary heating  Cruise control  Electric Starter  Electric tailgate  Electrical side mirrors  Electrically adjustable seats  Electrically heated windshield  Heads-up display  Heated steering wheel  Hill Holder  Keyless central door lock  Leather seats  Leather steering wheel  Light sensor  Lumbar support  Massage seats  Multi-function steering wheel  Navigation system  Panorama roof  Park Distance Control  Parking assist system camera  Parking assist system self-steering  Parking assist system sensors front  Parking assist system sensors rear  Power windows  Rain sensor  Seat heating  Seat ventilation  Split rear seats  Start-stop system  Sunroof  Tinted windows  Wind deflector  Windshield\n",
       "0                     1               0        1                          1                  0               1                 0                  0                        1                              0                               0                 0                      0            1                          0              0                       1             1               0              0                              1                  1              0                      1                             0                                    0                                    0                                   1              1            1             1                 0                 0                  1        0               0               0           0\n",
       "1                     1               0        0                          1                  0               0                 0                  0                        0                              0                               0                 0                      0            1                          0              0                       1             0               1              0                              0                  0              0                      0                             0                                    0                                    0                                   1              1            0             0                 0                 0                  1        0               1               0           0\n",
       "2                     1               0        0                          0                  0               1                 0                  0                        1                              0                               0                 0                      0            1                          0              0                       1             0               0              0                              1                  1              0                      1                             0                                    0                                    1                                   1              1            0             1                 0                 0                  1        0               0               0           0\n",
       "3                     0               1        1                          0                  1               0                 0                  0                        1                              0                               0                 1                      0            1                          0              0                       1             1               1              0                              1                  1              0                      0                             0                                    0                                    0                                   0              1            1             1                 0                 1                  1        0               0               0           0\n",
       "4                     1               0        1                          1                  0               0                 0                  0                        1                              0                               0                 0                      0            1                          0              0                       1             1               0              0                              1                  0              0                      1                             0                                    0                                    0                                   1              1            1             0                 0                 0                  1        0               0               0           0\n",
       "...                 ...             ...      ...                        ...                ...             ...               ...                ...                      ...                            ...                             ...               ...                    ...          ...                        ...            ...                     ...           ...             ...            ...                            ...                ...            ...                    ...                           ...                                  ...                                  ...                                 ...            ...          ...           ...               ...               ...                ...      ...             ...             ...         ...\n",
       "15914                 1               0        0                          1                  0               1                 0                  0                        1                              1                               0                 0                      0            1                          1              0                       1             1               0              1                              1                  1              0                      1                             0                                    0                                    1                                   1              1            1             0                 0                 1                  1        0               1               0           0\n",
       "15915                 1               0        0                          1                  0               1                 0                  1                        1                              0                               1                 1                      1            1                          1              0                       1             1               1              0                              0                  1              0                      1                             1                                    1                                    1                                   1              1            1             1                 0                 0                  0        1               0               0           0\n",
       "15916                 1               0        1                          1                  0               1                 0                  1                        1                              0                               1                 1                      1            0                          0              0                       1             1               0              1                              1                  1              1                      1                             1                                    0                                    1                                   1              1            1             1                 1                 0                  0        1               0               0           0\n",
       "15917                 1               0        0                          1                  0               1                 0                  0                        1                              1                               0                 0                      0            0                          0              0                       1             1               0              0                              0                  0              0                      1                             0                                    0                                    0                                   0              1            0             0                 0                 0                  1        0               0               0           0\n",
       "15918                 1               0        0                          1                  0               1                 0                  1                        1                              1                               0                 0                      0            1                          0              0                       1             0               0              0                              0                  1              0                      0                             0                                    0                                    0                                   0              1            0             1                 0                 0                  0        0               0               0           0\n",
       "\n",
       "[15919 rows x 38 columns]"
      ]
     },
     "execution_count": 2029,
     "metadata": {},
     "output_type": "execute_result"
    }
   ],
   "source": [
    "data['Comfort&Convenience'].str.get_dummies(sep = ',')"
   ]
  },
  {
   "cell_type": "code",
   "execution_count": 2030,
   "metadata": {},
   "outputs": [
    {
     "data": {
      "text/plain": [
       "False"
      ]
     },
     "execution_count": 2030,
     "metadata": {},
     "output_type": "execute_result"
    }
   ],
   "source": [
    "'Windshield' in data['Comfort&Convenience'][0]"
   ]
  },
  {
   "cell_type": "code",
   "execution_count": 2031,
   "metadata": {},
   "outputs": [],
   "source": [
    "data = data.join(data['Comfort&Convenience'].str.get_dummies(sep = ',').add_prefix('cc_'))"
   ]
  },
  {
   "cell_type": "code",
   "execution_count": 2032,
   "metadata": {
    "scrolled": false
   },
   "outputs": [
    {
     "data": {
      "text/html": [
       "<div>\n",
       "<style scoped>\n",
       "    .dataframe tbody tr th:only-of-type {\n",
       "        vertical-align: middle;\n",
       "    }\n",
       "\n",
       "    .dataframe tbody tr th {\n",
       "        vertical-align: top;\n",
       "    }\n",
       "\n",
       "    .dataframe thead th {\n",
       "        text-align: right;\n",
       "    }\n",
       "</style>\n",
       "<table border=\"1\" class=\"dataframe\">\n",
       "  <thead>\n",
       "    <tr style=\"text-align: right;\">\n",
       "      <th></th>\n",
       "      <th>url</th>\n",
       "      <th>make_model</th>\n",
       "      <th>short_description</th>\n",
       "      <th>body_type</th>\n",
       "      <th>price</th>\n",
       "      <th>vat</th>\n",
       "      <th>km</th>\n",
       "      <th>registration</th>\n",
       "      <th>hp</th>\n",
       "      <th>Type</th>\n",
       "      <th>Previous Owners</th>\n",
       "      <th>Next Inspection</th>\n",
       "      <th>Inspection new</th>\n",
       "      <th>Warranty</th>\n",
       "      <th>null</th>\n",
       "      <th>Make</th>\n",
       "      <th>Model</th>\n",
       "      <th>Offer Number</th>\n",
       "      <th>First Registration</th>\n",
       "      <th>Body Color</th>\n",
       "      <th>Paint Type</th>\n",
       "      <th>Body Color Original</th>\n",
       "      <th>Upholstery</th>\n",
       "      <th>Nr. of Doors</th>\n",
       "      <th>Nr. of Seats</th>\n",
       "      <th>Model Code</th>\n",
       "      <th>Gearing Type</th>\n",
       "      <th>Displacement</th>\n",
       "      <th>Cylinders</th>\n",
       "      <th>Drive chain</th>\n",
       "      <th>Fuel</th>\n",
       "      <th>Consumption</th>\n",
       "      <th>CO2 Emission</th>\n",
       "      <th>Emission Class</th>\n",
       "      <th>\\nComfort &amp; Convenience\\n</th>\n",
       "      <th>\\nEntertainment &amp; Media\\n</th>\n",
       "      <th>\\nExtras\\n</th>\n",
       "      <th>\\nSafety &amp; Security\\n</th>\n",
       "      <th>description</th>\n",
       "      <th>Emission Label</th>\n",
       "      <th>Gears</th>\n",
       "      <th>Country version</th>\n",
       "      <th>Previous_Owner1</th>\n",
       "      <th>Previous_Owner</th>\n",
       "      <th>Inspection_New_Bool</th>\n",
       "      <th>next_inspection</th>\n",
       "      <th>paint_type</th>\n",
       "      <th>country</th>\n",
       "      <th>emission_label</th>\n",
       "      <th>Comfort&amp;Convenience</th>\n",
       "      <th>cc_Air conditioning</th>\n",
       "      <th>cc_Air suspension</th>\n",
       "      <th>cc_Armrest</th>\n",
       "      <th>cc_Automatic climate control</th>\n",
       "      <th>cc_Auxiliary heating</th>\n",
       "      <th>cc_Cruise control</th>\n",
       "      <th>cc_Electric Starter</th>\n",
       "      <th>cc_Electric tailgate</th>\n",
       "      <th>cc_Electrical side mirrors</th>\n",
       "      <th>cc_Electrically adjustable seats</th>\n",
       "      <th>cc_Electrically heated windshield</th>\n",
       "      <th>cc_Heads-up display</th>\n",
       "      <th>cc_Heated steering wheel</th>\n",
       "      <th>cc_Hill Holder</th>\n",
       "      <th>cc_Keyless central door lock</th>\n",
       "      <th>cc_Leather seats</th>\n",
       "      <th>cc_Leather steering wheel</th>\n",
       "      <th>cc_Light sensor</th>\n",
       "      <th>cc_Lumbar support</th>\n",
       "      <th>cc_Massage seats</th>\n",
       "      <th>cc_Multi-function steering wheel</th>\n",
       "      <th>cc_Navigation system</th>\n",
       "      <th>cc_Panorama roof</th>\n",
       "      <th>cc_Park Distance Control</th>\n",
       "      <th>cc_Parking assist system camera</th>\n",
       "      <th>cc_Parking assist system self-steering</th>\n",
       "      <th>cc_Parking assist system sensors front</th>\n",
       "      <th>cc_Parking assist system sensors rear</th>\n",
       "      <th>cc_Power windows</th>\n",
       "      <th>cc_Rain sensor</th>\n",
       "      <th>cc_Seat heating</th>\n",
       "      <th>cc_Seat ventilation</th>\n",
       "      <th>cc_Split rear seats</th>\n",
       "      <th>cc_Start-stop system</th>\n",
       "      <th>cc_Sunroof</th>\n",
       "      <th>cc_Tinted windows</th>\n",
       "      <th>cc_Wind deflector</th>\n",
       "      <th>cc_Windshield</th>\n",
       "    </tr>\n",
       "  </thead>\n",
       "  <tbody>\n",
       "    <tr>\n",
       "      <th>0</th>\n",
       "      <td>https://www.autoscout24.com//offers/audi-a1-sportback-1-4-tdi-s-tronic-xenon-navi-klima-diesel-black-bdab349a-caa5-41b0-98eb-c1345b84445e</td>\n",
       "      <td>Audi A1</td>\n",
       "      <td>Sportback 1.4 TDI S-tronic Xenon Navi Klima</td>\n",
       "      <td>Sedans</td>\n",
       "      <td>15770</td>\n",
       "      <td>VAT deductible</td>\n",
       "      <td>56,013 km</td>\n",
       "      <td>01/2016</td>\n",
       "      <td>66 kW</td>\n",
       "      <td>[, Used, , Diesel (Particulate Filter)]</td>\n",
       "      <td>\\n2\\n</td>\n",
       "      <td>[\\n06/2021\\n, \\n99 g CO2/km (comb)\\n]</td>\n",
       "      <td>[\\nYes\\n, \\nEuro 6\\n]</td>\n",
       "      <td>[\\n, \\n, \\n4 (Green)\\n]</td>\n",
       "      <td>[]</td>\n",
       "      <td>\\nAudi\\n</td>\n",
       "      <td>[\\n, A1, \\n]</td>\n",
       "      <td>[\\nLR-062483\\n]</td>\n",
       "      <td>[\\n, 2016, \\n]</td>\n",
       "      <td>[\\n, Black, \\n]</td>\n",
       "      <td>[\\nMetallic\\n]</td>\n",
       "      <td>[\\nMythosschwarz\\n]</td>\n",
       "      <td>[\\nCloth, Black\\n]</td>\n",
       "      <td>[\\n5\\n]</td>\n",
       "      <td>[\\n5\\n]</td>\n",
       "      <td>[\\n0588/BDF\\n]</td>\n",
       "      <td>[\\n, Automatic, \\n]</td>\n",
       "      <td>[\\n1,422 cc\\n]</td>\n",
       "      <td>3</td>\n",
       "      <td>[\\nfront\\n]</td>\n",
       "      <td>[\\n, Diesel (Particulate Filter), \\n]</td>\n",
       "      <td>[[3.8 l/100 km (comb)], [4.3 l/100 km (city)], [3.5 l/100 km (country)]]</td>\n",
       "      <td>[\\n99 g CO2/km (comb)\\n]</td>\n",
       "      <td>[\\nEuro 6\\n]</td>\n",
       "      <td>[Air conditioning, Armrest, Automatic climate control, Cruise control, Electrical side mirrors, Hill Holder, Leather steering wheel, Light sensor, Multi-function steering wheel, Navigation system, Park Distance Control, Parking assist system sensors rear, Power windows, Rain sensor, Seat heating, Start-stop system]</td>\n",
       "      <td>[Bluetooth, Hands-free equipment, On-board computer, Radio]</td>\n",
       "      <td>[Alloy wheels, Catalytic Converter, Voice Control]</td>\n",
       "      <td>[ABS, Central door lock, Daytime running lights, Driver-side airbag, Electronic stability control, Fog lights, Immobilizer, Isofix, Passenger-side airbag, Power steering, Side airbag, Tire pressure monitoring system, Traction control, Xenon headlights]</td>\n",
       "      <td>[\\n, Sicherheit:,  , Deaktivierung für Beifahrer-Airbag,  , ESC mit elektronischer Quersperre,  , Tagfahrlicht,  , Reifendruck-Kontrollanzeige,  , Kopfairbag-System mit Seiten-Airbags vorn,  , Sicherheitslenksäule, Assistenzsysteme:,  , Berganfahrassistent, Komfort:,  , Scheinwerferreinigung,  , Xenon plus inklusive Scheinwerfer-Reinigungsanlage,  , Scheinwerfer-Reinigungsanlage,  , Einparkhilfe hinten,  , Licht-/Regensensor,  , Funkfernbedienung,  , Elektrische Luftzusatzheizung, Interieur:...</td>\n",
       "      <td>NaN</td>\n",
       "      <td>NaN</td>\n",
       "      <td>NaN</td>\n",
       "      <td>NaN</td>\n",
       "      <td>2</td>\n",
       "      <td>1</td>\n",
       "      <td>2021-06-01</td>\n",
       "      <td>Metallic</td>\n",
       "      <td>NaN</td>\n",
       "      <td>NaN</td>\n",
       "      <td>Air conditioning,Armrest,Automatic climate control,Cruise control,Electrical side mirrors,Hill Holder,Leather steering wheel,Light sensor,Multi-function steering wheel,Navigation system,Park Distance Control,Parking assist system sensors rear,Power windows,Rain sensor,Seat heating,Start-stop system</td>\n",
       "      <td>1</td>\n",
       "      <td>0</td>\n",
       "      <td>1</td>\n",
       "      <td>1</td>\n",
       "      <td>0</td>\n",
       "      <td>1</td>\n",
       "      <td>0</td>\n",
       "      <td>0</td>\n",
       "      <td>1</td>\n",
       "      <td>0</td>\n",
       "      <td>0</td>\n",
       "      <td>0</td>\n",
       "      <td>0</td>\n",
       "      <td>1</td>\n",
       "      <td>0</td>\n",
       "      <td>0</td>\n",
       "      <td>1</td>\n",
       "      <td>1</td>\n",
       "      <td>0</td>\n",
       "      <td>0</td>\n",
       "      <td>1</td>\n",
       "      <td>1</td>\n",
       "      <td>0</td>\n",
       "      <td>1</td>\n",
       "      <td>0</td>\n",
       "      <td>0</td>\n",
       "      <td>0</td>\n",
       "      <td>1</td>\n",
       "      <td>1</td>\n",
       "      <td>1</td>\n",
       "      <td>1</td>\n",
       "      <td>0</td>\n",
       "      <td>0</td>\n",
       "      <td>1</td>\n",
       "      <td>0</td>\n",
       "      <td>0</td>\n",
       "      <td>0</td>\n",
       "      <td>0</td>\n",
       "    </tr>\n",
       "    <tr>\n",
       "      <th>1</th>\n",
       "      <td>https://www.autoscout24.com//offers/audi-a1-1-8-tfsi-sport-gasoline-red-b2547f8a-e83f-6237-e053-e250040a56df</td>\n",
       "      <td>Audi A1</td>\n",
       "      <td>1.8 TFSI sport</td>\n",
       "      <td>Sedans</td>\n",
       "      <td>14500</td>\n",
       "      <td>Price negotiable</td>\n",
       "      <td>80,000 km</td>\n",
       "      <td>03/2017</td>\n",
       "      <td>141 kW</td>\n",
       "      <td>[, Used, , Gasoline]</td>\n",
       "      <td>NaN</td>\n",
       "      <td>NaN</td>\n",
       "      <td>NaN</td>\n",
       "      <td>NaN</td>\n",
       "      <td>[]</td>\n",
       "      <td>\\nAudi\\n</td>\n",
       "      <td>[\\n, A1, \\n]</td>\n",
       "      <td>NaN</td>\n",
       "      <td>[\\n, 2017, \\n]</td>\n",
       "      <td>[\\n, Red, \\n]</td>\n",
       "      <td>NaN</td>\n",
       "      <td>NaN</td>\n",
       "      <td>[\\nCloth, Grey\\n]</td>\n",
       "      <td>[\\n3\\n]</td>\n",
       "      <td>[\\n4\\n]</td>\n",
       "      <td>[\\n0588/BCY\\n]</td>\n",
       "      <td>[\\n, Automatic, \\n]</td>\n",
       "      <td>[\\n1,798 cc\\n]</td>\n",
       "      <td>4</td>\n",
       "      <td>[\\nfront\\n]</td>\n",
       "      <td>[\\n, Gasoline, \\n]</td>\n",
       "      <td>[[5.6 l/100 km (comb)], [7.1 l/100 km (city)], [4.7 l/100 km (country)]]</td>\n",
       "      <td>[\\n129 g CO2/km (comb)\\n]</td>\n",
       "      <td>[\\nEuro 6\\n]</td>\n",
       "      <td>[Air conditioning, Automatic climate control, Hill Holder, Leather steering wheel, Lumbar support, Parking assist system sensors rear, Power windows, Start-stop system, Tinted windows]</td>\n",
       "      <td>[Bluetooth, Hands-free equipment, On-board computer, Radio, Sound system]</td>\n",
       "      <td>[Alloy wheels, Sport seats, Sport suspension, Voice Control]</td>\n",
       "      <td>[ABS, Central door lock, Central door lock with remote control, Daytime running lights, Driver-side airbag, Electronic stability control, Head airbag, Immobilizer, Isofix, Passenger-side airbag, Power steering, Side airbag, Tire pressure monitoring system, Traction control, Xenon headlights]</td>\n",
       "      <td>[\\nLangstreckenfahrzeug daher die hohe Kilometerleistung. , Bremsen neu bei 62000 km. , Gut gepflegter A1\\n]</td>\n",
       "      <td>[\\n4 (Green)\\n]</td>\n",
       "      <td>[\\n7\\n]</td>\n",
       "      <td>NaN</td>\n",
       "      <td>NaN</td>\n",
       "      <td>1</td>\n",
       "      <td>0</td>\n",
       "      <td>NaT</td>\n",
       "      <td>NaN</td>\n",
       "      <td>NaN</td>\n",
       "      <td>4 (Green)</td>\n",
       "      <td>Air conditioning,Automatic climate control,Hill Holder,Leather steering wheel,Lumbar support,Parking assist system sensors rear,Power windows,Start-stop system,Tinted windows</td>\n",
       "      <td>1</td>\n",
       "      <td>0</td>\n",
       "      <td>0</td>\n",
       "      <td>1</td>\n",
       "      <td>0</td>\n",
       "      <td>0</td>\n",
       "      <td>0</td>\n",
       "      <td>0</td>\n",
       "      <td>0</td>\n",
       "      <td>0</td>\n",
       "      <td>0</td>\n",
       "      <td>0</td>\n",
       "      <td>0</td>\n",
       "      <td>1</td>\n",
       "      <td>0</td>\n",
       "      <td>0</td>\n",
       "      <td>1</td>\n",
       "      <td>0</td>\n",
       "      <td>1</td>\n",
       "      <td>0</td>\n",
       "      <td>0</td>\n",
       "      <td>0</td>\n",
       "      <td>0</td>\n",
       "      <td>0</td>\n",
       "      <td>0</td>\n",
       "      <td>0</td>\n",
       "      <td>0</td>\n",
       "      <td>1</td>\n",
       "      <td>1</td>\n",
       "      <td>0</td>\n",
       "      <td>0</td>\n",
       "      <td>0</td>\n",
       "      <td>0</td>\n",
       "      <td>1</td>\n",
       "      <td>0</td>\n",
       "      <td>1</td>\n",
       "      <td>0</td>\n",
       "      <td>0</td>\n",
       "    </tr>\n",
       "    <tr>\n",
       "      <th>2</th>\n",
       "      <td>https://www.autoscout24.com//offers/audi-a1-sportback-1-6-tdi-s-tronic-einparkhilfe-plus-music-diesel-black-6183cb6a-8570-4b86-a132-9b54214bca88</td>\n",
       "      <td>Audi A1</td>\n",
       "      <td>Sportback 1.6 TDI S tronic Einparkhilfe plus+music</td>\n",
       "      <td>Sedans</td>\n",
       "      <td>14640</td>\n",
       "      <td>VAT deductible</td>\n",
       "      <td>83,450 km</td>\n",
       "      <td>02/2016</td>\n",
       "      <td>85 kW</td>\n",
       "      <td>[, Used, , Diesel (Particulate Filter)]</td>\n",
       "      <td>\\n1\\n</td>\n",
       "      <td>NaN</td>\n",
       "      <td>NaN</td>\n",
       "      <td>[\\n, \\n, \\n99 g CO2/km (comb)\\n]</td>\n",
       "      <td>[]</td>\n",
       "      <td>\\nAudi\\n</td>\n",
       "      <td>[\\n, A1, \\n]</td>\n",
       "      <td>[\\nAM-95365\\n]</td>\n",
       "      <td>[\\n, 2016, \\n]</td>\n",
       "      <td>[\\n, Black, \\n]</td>\n",
       "      <td>[\\nMetallic\\n]</td>\n",
       "      <td>[\\nmythosschwarz metallic\\n]</td>\n",
       "      <td>[\\nCloth, Black\\n]</td>\n",
       "      <td>[\\n4\\n]</td>\n",
       "      <td>[\\n4\\n]</td>\n",
       "      <td>NaN</td>\n",
       "      <td>[\\n, Automatic, \\n]</td>\n",
       "      <td>[\\n1,598 cc\\n]</td>\n",
       "      <td>NaN</td>\n",
       "      <td>[\\nfront\\n]</td>\n",
       "      <td>[\\n, Diesel (Particulate Filter), \\n]</td>\n",
       "      <td>[[3.8 l/100 km (comb)], [4.4 l/100 km (city)], [3.4 l/100 km (country)]]</td>\n",
       "      <td>[\\n99 g CO2/km (comb)\\n]</td>\n",
       "      <td>[\\nEuro 6\\n]</td>\n",
       "      <td>[Air conditioning, Cruise control, Electrical side mirrors, Hill Holder, Leather steering wheel, Multi-function steering wheel, Navigation system, Park Distance Control, Parking assist system sensors front, Parking assist system sensors rear, Power windows, Seat heating, Start-stop system]</td>\n",
       "      <td>[MP3, On-board computer]</td>\n",
       "      <td>[Alloy wheels, Voice Control]</td>\n",
       "      <td>[ABS, Central door lock, Daytime running lights, Driver-side airbag, Electronic stability control, Immobilizer, Isofix, Passenger-side airbag, Power steering, Side airbag, Tire pressure monitoring system, Traction control]</td>\n",
       "      <td>[\\n, Fahrzeug-Nummer: AM-95365,  , Ehem. UPE 24.640 EUR,  , Komfort,  , Klimaanlage,  , Elektrische Fensterheber,  , Sitzheizung,  , Tempomat,  , Zentralverriegelung,  , Leder-Lenkrad,  , Elektrische Spiegel,  , Wärmedämmendes Glas,  , Anfahrassistent,  , Sicherheit,  , Window/Kopfairbags,  , ESP (el. Stabilitäts Programm),  , Elektronische Wegfahrsperre,  , Reifendruckkontrolle,  , Tagfahrlicht,  , Exterieur,  , Alufelgen 16 Zoll,  , Einparkhilfe vo + hi,  , Interieur,  , Stoff Zeitgeist,  ...</td>\n",
       "      <td>[\\n4 (Green)\\n]</td>\n",
       "      <td>NaN</td>\n",
       "      <td>NaN</td>\n",
       "      <td>NaN</td>\n",
       "      <td>1</td>\n",
       "      <td>0</td>\n",
       "      <td>NaT</td>\n",
       "      <td>Metallic</td>\n",
       "      <td>NaN</td>\n",
       "      <td>4 (Green)</td>\n",
       "      <td>Air conditioning,Cruise control,Electrical side mirrors,Hill Holder,Leather steering wheel,Multi-function steering wheel,Navigation system,Park Distance Control,Parking assist system sensors front,Parking assist system sensors rear,Power windows,Seat heating,Start-stop system</td>\n",
       "      <td>1</td>\n",
       "      <td>0</td>\n",
       "      <td>0</td>\n",
       "      <td>0</td>\n",
       "      <td>0</td>\n",
       "      <td>1</td>\n",
       "      <td>0</td>\n",
       "      <td>0</td>\n",
       "      <td>1</td>\n",
       "      <td>0</td>\n",
       "      <td>0</td>\n",
       "      <td>0</td>\n",
       "      <td>0</td>\n",
       "      <td>1</td>\n",
       "      <td>0</td>\n",
       "      <td>0</td>\n",
       "      <td>1</td>\n",
       "      <td>0</td>\n",
       "      <td>0</td>\n",
       "      <td>0</td>\n",
       "      <td>1</td>\n",
       "      <td>1</td>\n",
       "      <td>0</td>\n",
       "      <td>1</td>\n",
       "      <td>0</td>\n",
       "      <td>0</td>\n",
       "      <td>1</td>\n",
       "      <td>1</td>\n",
       "      <td>1</td>\n",
       "      <td>0</td>\n",
       "      <td>1</td>\n",
       "      <td>0</td>\n",
       "      <td>0</td>\n",
       "      <td>1</td>\n",
       "      <td>0</td>\n",
       "      <td>0</td>\n",
       "      <td>0</td>\n",
       "      <td>0</td>\n",
       "    </tr>\n",
       "    <tr>\n",
       "      <th>3</th>\n",
       "      <td>https://www.autoscout24.com//offers/audi-a1-1-4-tdi-design-s-tronic-diesel-brown-35c86585-2727-d61e-e053-e250040ad640</td>\n",
       "      <td>Audi A1</td>\n",
       "      <td>1.4 TDi Design S tronic</td>\n",
       "      <td>Sedans</td>\n",
       "      <td>14500</td>\n",
       "      <td>None</td>\n",
       "      <td>73,000 km</td>\n",
       "      <td>08/2016</td>\n",
       "      <td>66 kW</td>\n",
       "      <td>[, Used, , Diesel (Particulate Filter)]</td>\n",
       "      <td>\\n1\\n</td>\n",
       "      <td>NaN</td>\n",
       "      <td>NaN</td>\n",
       "      <td>NaN</td>\n",
       "      <td>[]</td>\n",
       "      <td>\\nAudi\\n</td>\n",
       "      <td>[\\n, A1, \\n]</td>\n",
       "      <td>NaN</td>\n",
       "      <td>[\\n, 2016, \\n]</td>\n",
       "      <td>[\\n, Brown, \\n]</td>\n",
       "      <td>[\\nMetallic\\n]</td>\n",
       "      <td>NaN</td>\n",
       "      <td>NaN</td>\n",
       "      <td>[\\n3\\n]</td>\n",
       "      <td>[\\n4\\n]</td>\n",
       "      <td>NaN</td>\n",
       "      <td>[\\n, Automatic, \\n]</td>\n",
       "      <td>[\\n1,422 cc\\n]</td>\n",
       "      <td>3</td>\n",
       "      <td>NaN</td>\n",
       "      <td>[\\n, Diesel (Particulate Filter), \\n]</td>\n",
       "      <td>[[3.8 l/100 km (comb)], [4.3 l/100 km (city)], [3.5 l/100 km (country)]]</td>\n",
       "      <td>[\\n99 g CO2/km (comb)\\n]</td>\n",
       "      <td>[\\nEuro 6\\n]</td>\n",
       "      <td>[Air suspension, Armrest, Auxiliary heating, Electrical side mirrors, Heads-up display, Hill Holder, Leather steering wheel, Light sensor, Lumbar support, Multi-function steering wheel, Navigation system, Power windows, Rain sensor, Seat heating, Split rear seats, Start-stop system]</td>\n",
       "      <td>[Bluetooth, CD player, Hands-free equipment, MP3, On-board computer, Radio, Sound system, USB]</td>\n",
       "      <td>[Alloy wheels, Sport seats, Voice Control]</td>\n",
       "      <td>[ABS, Alarm system, Central door lock with remote control, Driver drowsiness detection, Driver-side airbag, Electronic stability control, Emergency system, Head airbag, Immobilizer, Isofix, Passenger-side airbag, Power steering, Side airbag, Tire pressure monitoring system]</td>\n",
       "      <td>[\\nAudi A1: , - 1e eigenaar , - Perfecte staat: schade/ongevalvrij , - Onderhoudsboekje Audi garage , - Full option!, - S-line opties, - Automaat, lederen bekleding, navi-pro, Xenon lampen, zetelverwarming, automatische airco,...\\n]</td>\n",
       "      <td>NaN</td>\n",
       "      <td>[\\n6\\n]</td>\n",
       "      <td>NaN</td>\n",
       "      <td>NaN</td>\n",
       "      <td>1</td>\n",
       "      <td>0</td>\n",
       "      <td>NaT</td>\n",
       "      <td>Metallic</td>\n",
       "      <td>NaN</td>\n",
       "      <td>NaN</td>\n",
       "      <td>Air suspension,Armrest,Auxiliary heating,Electrical side mirrors,Heads-up display,Hill Holder,Leather steering wheel,Light sensor,Lumbar support,Multi-function steering wheel,Navigation system,Power windows,Rain sensor,Seat heating,Split rear seats,Start-stop system</td>\n",
       "      <td>0</td>\n",
       "      <td>1</td>\n",
       "      <td>1</td>\n",
       "      <td>0</td>\n",
       "      <td>1</td>\n",
       "      <td>0</td>\n",
       "      <td>0</td>\n",
       "      <td>0</td>\n",
       "      <td>1</td>\n",
       "      <td>0</td>\n",
       "      <td>0</td>\n",
       "      <td>1</td>\n",
       "      <td>0</td>\n",
       "      <td>1</td>\n",
       "      <td>0</td>\n",
       "      <td>0</td>\n",
       "      <td>1</td>\n",
       "      <td>1</td>\n",
       "      <td>1</td>\n",
       "      <td>0</td>\n",
       "      <td>1</td>\n",
       "      <td>1</td>\n",
       "      <td>0</td>\n",
       "      <td>0</td>\n",
       "      <td>0</td>\n",
       "      <td>0</td>\n",
       "      <td>0</td>\n",
       "      <td>0</td>\n",
       "      <td>1</td>\n",
       "      <td>1</td>\n",
       "      <td>1</td>\n",
       "      <td>0</td>\n",
       "      <td>1</td>\n",
       "      <td>1</td>\n",
       "      <td>0</td>\n",
       "      <td>0</td>\n",
       "      <td>0</td>\n",
       "      <td>0</td>\n",
       "    </tr>\n",
       "    <tr>\n",
       "      <th>4</th>\n",
       "      <td>https://www.autoscout24.com//offers/audi-a1-sportback-1-4-tdi-s-tronic-s-line-ext-admired-xe-diesel-black-b86b55d8-9c7c-4a58-b658-b97008a51efc</td>\n",
       "      <td>Audi A1</td>\n",
       "      <td>Sportback 1.4 TDI S-Tronic S-Line Ext. admired, Xe</td>\n",
       "      <td>Sedans</td>\n",
       "      <td>16790</td>\n",
       "      <td>None</td>\n",
       "      <td>16,200 km</td>\n",
       "      <td>05/2016</td>\n",
       "      <td>66 kW</td>\n",
       "      <td>[, Used, , Diesel (Particulate Filter)]</td>\n",
       "      <td>\\n1\\n</td>\n",
       "      <td>NaN</td>\n",
       "      <td>[\\nYes\\n, \\n109 g CO2/km (comb)\\n]</td>\n",
       "      <td>[\\n, \\n, \\nEuro 6\\n]</td>\n",
       "      <td>[]</td>\n",
       "      <td>\\nAudi\\n</td>\n",
       "      <td>[\\n, A1, \\n]</td>\n",
       "      <td>[\\nC1626\\n]</td>\n",
       "      <td>[\\n, 2016, \\n]</td>\n",
       "      <td>[\\n, Black, \\n]</td>\n",
       "      <td>[\\nMetallic\\n]</td>\n",
       "      <td>[\\nMythosschwarz Metallic\\n]</td>\n",
       "      <td>[\\nCloth, Black\\n]</td>\n",
       "      <td>[\\n5\\n]</td>\n",
       "      <td>[\\n5\\n]</td>\n",
       "      <td>[\\n0588/BDF\\n]</td>\n",
       "      <td>[\\n, Automatic, \\n]</td>\n",
       "      <td>[\\n1,422 cc\\n]</td>\n",
       "      <td>3</td>\n",
       "      <td>[\\nfront\\n]</td>\n",
       "      <td>[\\n, Diesel (Particulate Filter), \\n]</td>\n",
       "      <td>[[4.1 l/100 km (comb)], [4.6 l/100 km (city)], [3.8 l/100 km (country)]]</td>\n",
       "      <td>[\\n109 g CO2/km (comb)\\n]</td>\n",
       "      <td>[\\nEuro 6\\n]</td>\n",
       "      <td>[Air conditioning, Armrest, Automatic climate control, Electrical side mirrors, Hill Holder, Leather steering wheel, Light sensor, Multi-function steering wheel, Park Distance Control, Parking assist system sensors rear, Power windows, Rain sensor, Start-stop system]</td>\n",
       "      <td>[Bluetooth, CD player, Hands-free equipment, MP3, On-board computer, Radio, USB]</td>\n",
       "      <td>[Alloy wheels, Sport package, Sport suspension, Voice Control]</td>\n",
       "      <td>[ABS, Central door lock, Driver-side airbag, Electronic stability control, Fog lights, Immobilizer, Isofix, Passenger-side airbag, Power steering, Side airbag, Tire pressure monitoring system, Traction control, Xenon headlights]</td>\n",
       "      <td>[\\n, Technik &amp; Sicherheit:, Xenon plus, Klimaautomatik, Einparkhilfe hinten, Scheinwerferreinigungsanlage, Nebelscheinwerfer, Zentralverriegelung mit Fernbedienung, Außenspiegel elek. einstellbar, Fensterheber elek, Start/Stop Anlage, 6 Airbag inkl. Kopfairbag, Euro 6, Multimedia:, Radio CD Concert, audi music interface, Handyvorbereitung (Bluetooth), Sprachsteuerung, USB Anschluss, Assistenzsysteme:, Lichtsensor, Regensensor, Berganfahrassistent, Reifendruckkontrolle, ESP inkl. ABS, Interie...</td>\n",
       "      <td>NaN</td>\n",
       "      <td>NaN</td>\n",
       "      <td>[\\nGermany\\n]</td>\n",
       "      <td>NaN</td>\n",
       "      <td>1</td>\n",
       "      <td>1</td>\n",
       "      <td>NaT</td>\n",
       "      <td>Metallic</td>\n",
       "      <td>Germany</td>\n",
       "      <td>NaN</td>\n",
       "      <td>Air conditioning,Armrest,Automatic climate control,Electrical side mirrors,Hill Holder,Leather steering wheel,Light sensor,Multi-function steering wheel,Park Distance Control,Parking assist system sensors rear,Power windows,Rain sensor,Start-stop system</td>\n",
       "      <td>1</td>\n",
       "      <td>0</td>\n",
       "      <td>1</td>\n",
       "      <td>1</td>\n",
       "      <td>0</td>\n",
       "      <td>0</td>\n",
       "      <td>0</td>\n",
       "      <td>0</td>\n",
       "      <td>1</td>\n",
       "      <td>0</td>\n",
       "      <td>0</td>\n",
       "      <td>0</td>\n",
       "      <td>0</td>\n",
       "      <td>1</td>\n",
       "      <td>0</td>\n",
       "      <td>0</td>\n",
       "      <td>1</td>\n",
       "      <td>1</td>\n",
       "      <td>0</td>\n",
       "      <td>0</td>\n",
       "      <td>1</td>\n",
       "      <td>0</td>\n",
       "      <td>0</td>\n",
       "      <td>1</td>\n",
       "      <td>0</td>\n",
       "      <td>0</td>\n",
       "      <td>0</td>\n",
       "      <td>1</td>\n",
       "      <td>1</td>\n",
       "      <td>1</td>\n",
       "      <td>0</td>\n",
       "      <td>0</td>\n",
       "      <td>0</td>\n",
       "      <td>1</td>\n",
       "      <td>0</td>\n",
       "      <td>0</td>\n",
       "      <td>0</td>\n",
       "      <td>0</td>\n",
       "    </tr>\n",
       "  </tbody>\n",
       "</table>\n",
       "</div>"
      ],
      "text/plain": [
       "                                                                                                                                                url make_model                                   short_description body_type  price               vat         km registration      hp                                     Type Previous Owners                        Next Inspection                      Inspection new                          Warranty null      Make         Model     Offer Number First Registration       Body Color      Paint Type           Body Color Original          Upholstery Nr. of Doors Nr. of Seats      Model Code         Gearing Type    Displacement Cylinders  Drive chain                                   Fuel                                                               Consumption               CO2 Emission Emission Class                                                                                                                                                                                                                                                                                                     \\nComfort & Convenience\\n                                                                       \\nEntertainment & Media\\n                                                      \\nExtras\\n                                                                                                                                                                                                                                                                                 \\nSafety & Security\\n  \\\n",
       "0         https://www.autoscout24.com//offers/audi-a1-sportback-1-4-tdi-s-tronic-xenon-navi-klima-diesel-black-bdab349a-caa5-41b0-98eb-c1345b84445e    Audi A1         Sportback 1.4 TDI S-tronic Xenon Navi Klima    Sedans  15770    VAT deductible  56,013 km      01/2016   66 kW  [, Used, , Diesel (Particulate Filter)]           \\n2\\n  [\\n06/2021\\n, \\n99 g CO2/km (comb)\\n]               [\\nYes\\n, \\nEuro 6\\n]           [\\n, \\n, \\n4 (Green)\\n]   []  \\nAudi\\n  [\\n, A1, \\n]  [\\nLR-062483\\n]     [\\n, 2016, \\n]  [\\n, Black, \\n]  [\\nMetallic\\n]           [\\nMythosschwarz\\n]  [\\nCloth, Black\\n]      [\\n5\\n]      [\\n5\\n]  [\\n0588/BDF\\n]  [\\n, Automatic, \\n]  [\\n1,422 cc\\n]         3  [\\nfront\\n]  [\\n, Diesel (Particulate Filter), \\n]  [[3.8 l/100 km (comb)], [4.3 l/100 km (city)], [3.5 l/100 km (country)]]   [\\n99 g CO2/km (comb)\\n]   [\\nEuro 6\\n]  [Air conditioning, Armrest, Automatic climate control, Cruise control, Electrical side mirrors, Hill Holder, Leather steering wheel, Light sensor, Multi-function steering wheel, Navigation system, Park Distance Control, Parking assist system sensors rear, Power windows, Rain sensor, Seat heating, Start-stop system]                                     [Bluetooth, Hands-free equipment, On-board computer, Radio]              [Alloy wheels, Catalytic Converter, Voice Control]                                          [ABS, Central door lock, Daytime running lights, Driver-side airbag, Electronic stability control, Fog lights, Immobilizer, Isofix, Passenger-side airbag, Power steering, Side airbag, Tire pressure monitoring system, Traction control, Xenon headlights]   \n",
       "1                                      https://www.autoscout24.com//offers/audi-a1-1-8-tfsi-sport-gasoline-red-b2547f8a-e83f-6237-e053-e250040a56df    Audi A1                                      1.8 TFSI sport    Sedans  14500  Price negotiable  80,000 km      03/2017  141 kW                     [, Used, , Gasoline]             NaN                                    NaN                                 NaN                               NaN   []  \\nAudi\\n  [\\n, A1, \\n]              NaN     [\\n, 2017, \\n]    [\\n, Red, \\n]             NaN                           NaN   [\\nCloth, Grey\\n]      [\\n3\\n]      [\\n4\\n]  [\\n0588/BCY\\n]  [\\n, Automatic, \\n]  [\\n1,798 cc\\n]         4  [\\nfront\\n]                     [\\n, Gasoline, \\n]  [[5.6 l/100 km (comb)], [7.1 l/100 km (city)], [4.7 l/100 km (country)]]  [\\n129 g CO2/km (comb)\\n]   [\\nEuro 6\\n]                                                                                                                                      [Air conditioning, Automatic climate control, Hill Holder, Leather steering wheel, Lumbar support, Parking assist system sensors rear, Power windows, Start-stop system, Tinted windows]                       [Bluetooth, Hands-free equipment, On-board computer, Radio, Sound system]    [Alloy wheels, Sport seats, Sport suspension, Voice Control]  [ABS, Central door lock, Central door lock with remote control, Daytime running lights, Driver-side airbag, Electronic stability control, Head airbag, Immobilizer, Isofix, Passenger-side airbag, Power steering, Side airbag, Tire pressure monitoring system, Traction control, Xenon headlights]   \n",
       "2  https://www.autoscout24.com//offers/audi-a1-sportback-1-6-tdi-s-tronic-einparkhilfe-plus-music-diesel-black-6183cb6a-8570-4b86-a132-9b54214bca88    Audi A1  Sportback 1.6 TDI S tronic Einparkhilfe plus+music    Sedans  14640    VAT deductible  83,450 km      02/2016   85 kW  [, Used, , Diesel (Particulate Filter)]           \\n1\\n                                    NaN                                 NaN  [\\n, \\n, \\n99 g CO2/km (comb)\\n]   []  \\nAudi\\n  [\\n, A1, \\n]   [\\nAM-95365\\n]     [\\n, 2016, \\n]  [\\n, Black, \\n]  [\\nMetallic\\n]  [\\nmythosschwarz metallic\\n]  [\\nCloth, Black\\n]      [\\n4\\n]      [\\n4\\n]             NaN  [\\n, Automatic, \\n]  [\\n1,598 cc\\n]       NaN  [\\nfront\\n]  [\\n, Diesel (Particulate Filter), \\n]  [[3.8 l/100 km (comb)], [4.4 l/100 km (city)], [3.4 l/100 km (country)]]   [\\n99 g CO2/km (comb)\\n]   [\\nEuro 6\\n]                            [Air conditioning, Cruise control, Electrical side mirrors, Hill Holder, Leather steering wheel, Multi-function steering wheel, Navigation system, Park Distance Control, Parking assist system sensors front, Parking assist system sensors rear, Power windows, Seat heating, Start-stop system]                                                                        [MP3, On-board computer]                                   [Alloy wheels, Voice Control]                                                                        [ABS, Central door lock, Daytime running lights, Driver-side airbag, Electronic stability control, Immobilizer, Isofix, Passenger-side airbag, Power steering, Side airbag, Tire pressure monitoring system, Traction control]   \n",
       "3                             https://www.autoscout24.com//offers/audi-a1-1-4-tdi-design-s-tronic-diesel-brown-35c86585-2727-d61e-e053-e250040ad640    Audi A1                             1.4 TDi Design S tronic    Sedans  14500              None  73,000 km      08/2016   66 kW  [, Used, , Diesel (Particulate Filter)]           \\n1\\n                                    NaN                                 NaN                               NaN   []  \\nAudi\\n  [\\n, A1, \\n]              NaN     [\\n, 2016, \\n]  [\\n, Brown, \\n]  [\\nMetallic\\n]                           NaN                 NaN      [\\n3\\n]      [\\n4\\n]             NaN  [\\n, Automatic, \\n]  [\\n1,422 cc\\n]         3          NaN  [\\n, Diesel (Particulate Filter), \\n]  [[3.8 l/100 km (comb)], [4.3 l/100 km (city)], [3.5 l/100 km (country)]]   [\\n99 g CO2/km (comb)\\n]   [\\nEuro 6\\n]                                   [Air suspension, Armrest, Auxiliary heating, Electrical side mirrors, Heads-up display, Hill Holder, Leather steering wheel, Light sensor, Lumbar support, Multi-function steering wheel, Navigation system, Power windows, Rain sensor, Seat heating, Split rear seats, Start-stop system]  [Bluetooth, CD player, Hands-free equipment, MP3, On-board computer, Radio, Sound system, USB]                      [Alloy wheels, Sport seats, Voice Control]                    [ABS, Alarm system, Central door lock with remote control, Driver drowsiness detection, Driver-side airbag, Electronic stability control, Emergency system, Head airbag, Immobilizer, Isofix, Passenger-side airbag, Power steering, Side airbag, Tire pressure monitoring system]   \n",
       "4    https://www.autoscout24.com//offers/audi-a1-sportback-1-4-tdi-s-tronic-s-line-ext-admired-xe-diesel-black-b86b55d8-9c7c-4a58-b658-b97008a51efc    Audi A1  Sportback 1.4 TDI S-Tronic S-Line Ext. admired, Xe    Sedans  16790              None  16,200 km      05/2016   66 kW  [, Used, , Diesel (Particulate Filter)]           \\n1\\n                                    NaN  [\\nYes\\n, \\n109 g CO2/km (comb)\\n]              [\\n, \\n, \\nEuro 6\\n]   []  \\nAudi\\n  [\\n, A1, \\n]      [\\nC1626\\n]     [\\n, 2016, \\n]  [\\n, Black, \\n]  [\\nMetallic\\n]  [\\nMythosschwarz Metallic\\n]  [\\nCloth, Black\\n]      [\\n5\\n]      [\\n5\\n]  [\\n0588/BDF\\n]  [\\n, Automatic, \\n]  [\\n1,422 cc\\n]         3  [\\nfront\\n]  [\\n, Diesel (Particulate Filter), \\n]  [[4.1 l/100 km (comb)], [4.6 l/100 km (city)], [3.8 l/100 km (country)]]  [\\n109 g CO2/km (comb)\\n]   [\\nEuro 6\\n]                                                   [Air conditioning, Armrest, Automatic climate control, Electrical side mirrors, Hill Holder, Leather steering wheel, Light sensor, Multi-function steering wheel, Park Distance Control, Parking assist system sensors rear, Power windows, Rain sensor, Start-stop system]                [Bluetooth, CD player, Hands-free equipment, MP3, On-board computer, Radio, USB]  [Alloy wheels, Sport package, Sport suspension, Voice Control]                                                                  [ABS, Central door lock, Driver-side airbag, Electronic stability control, Fog lights, Immobilizer, Isofix, Passenger-side airbag, Power steering, Side airbag, Tire pressure monitoring system, Traction control, Xenon headlights]   \n",
       "\n",
       "                                                                                                                                                                                                                                                                                                                                                                                                                                                                                                           description   Emission Label    Gears Country version Previous_Owner1 Previous_Owner  Inspection_New_Bool next_inspection paint_type  country emission_label                                                                                                                                                                                                                                                                                          Comfort&Convenience  cc_Air conditioning  cc_Air suspension  cc_Armrest  cc_Automatic climate control  cc_Auxiliary heating  cc_Cruise control  cc_Electric Starter  cc_Electric tailgate  cc_Electrical side mirrors  cc_Electrically adjustable seats  cc_Electrically heated windshield  cc_Heads-up display  cc_Heated steering wheel  cc_Hill Holder  cc_Keyless central door lock  cc_Leather seats  cc_Leather steering wheel  cc_Light sensor  cc_Lumbar support  cc_Massage seats  cc_Multi-function steering wheel  cc_Navigation system  cc_Panorama roof  cc_Park Distance Control  cc_Parking assist system camera  cc_Parking assist system self-steering  cc_Parking assist system sensors front  cc_Parking assist system sensors rear  cc_Power windows  cc_Rain sensor  cc_Seat heating  cc_Seat ventilation  cc_Split rear seats  cc_Start-stop system  cc_Sunroof  cc_Tinted windows  cc_Wind deflector  cc_Windshield  \n",
       "0  [\\n, Sicherheit:,  , Deaktivierung für Beifahrer-Airbag,  , ESC mit elektronischer Quersperre,  , Tagfahrlicht,  , Reifendruck-Kontrollanzeige,  , Kopfairbag-System mit Seiten-Airbags vorn,  , Sicherheitslenksäule, Assistenzsysteme:,  , Berganfahrassistent, Komfort:,  , Scheinwerferreinigung,  , Xenon plus inklusive Scheinwerfer-Reinigungsanlage,  , Scheinwerfer-Reinigungsanlage,  , Einparkhilfe hinten,  , Licht-/Regensensor,  , Funkfernbedienung,  , Elektrische Luftzusatzheizung, Interieur:...              NaN      NaN             NaN             NaN              2                    1      2021-06-01   Metallic      NaN            NaN  Air conditioning,Armrest,Automatic climate control,Cruise control,Electrical side mirrors,Hill Holder,Leather steering wheel,Light sensor,Multi-function steering wheel,Navigation system,Park Distance Control,Parking assist system sensors rear,Power windows,Rain sensor,Seat heating,Start-stop system                    1                  0           1                             1                     0                  1                    0                     0                           1                                 0                                  0                    0                         0               1                             0                 0                          1                1                  0                 0                                 1                     1                 0                         1                                0                                       0                                       0                                      1                 1               1                1                    0                    0                     1           0                  0                  0              0  \n",
       "1                                                                                                                                                                                                                                                                                                                                                                                                         [\\nLangstreckenfahrzeug daher die hohe Kilometerleistung. , Bremsen neu bei 62000 km. , Gut gepflegter A1\\n]  [\\n4 (Green)\\n]  [\\n7\\n]             NaN             NaN              1                    0             NaT        NaN      NaN      4 (Green)                                                                                                                               Air conditioning,Automatic climate control,Hill Holder,Leather steering wheel,Lumbar support,Parking assist system sensors rear,Power windows,Start-stop system,Tinted windows                    1                  0           0                             1                     0                  0                    0                     0                           0                                 0                                  0                    0                         0               1                             0                 0                          1                0                  1                 0                                 0                     0                 0                         0                                0                                       0                                       0                                      1                 1               0                0                    0                    0                     1           0                  1                  0              0  \n",
       "2  [\\n, Fahrzeug-Nummer: AM-95365,  , Ehem. UPE 24.640 EUR,  , Komfort,  , Klimaanlage,  , Elektrische Fensterheber,  , Sitzheizung,  , Tempomat,  , Zentralverriegelung,  , Leder-Lenkrad,  , Elektrische Spiegel,  , Wärmedämmendes Glas,  , Anfahrassistent,  , Sicherheit,  , Window/Kopfairbags,  , ESP (el. Stabilitäts Programm),  , Elektronische Wegfahrsperre,  , Reifendruckkontrolle,  , Tagfahrlicht,  , Exterieur,  , Alufelgen 16 Zoll,  , Einparkhilfe vo + hi,  , Interieur,  , Stoff Zeitgeist,  ...  [\\n4 (Green)\\n]      NaN             NaN             NaN              1                    0             NaT   Metallic      NaN      4 (Green)                         Air conditioning,Cruise control,Electrical side mirrors,Hill Holder,Leather steering wheel,Multi-function steering wheel,Navigation system,Park Distance Control,Parking assist system sensors front,Parking assist system sensors rear,Power windows,Seat heating,Start-stop system                    1                  0           0                             0                     0                  1                    0                     0                           1                                 0                                  0                    0                         0               1                             0                 0                          1                0                  0                 0                                 1                     1                 0                         1                                0                                       0                                       1                                      1                 1               0                1                    0                    0                     1           0                  0                  0              0  \n",
       "3                                                                                                                                                                                                                                                                             [\\nAudi A1: , - 1e eigenaar , - Perfecte staat: schade/ongevalvrij , - Onderhoudsboekje Audi garage , - Full option!, - S-line opties, - Automaat, lederen bekleding, navi-pro, Xenon lampen, zetelverwarming, automatische airco,...\\n]              NaN  [\\n6\\n]             NaN             NaN              1                    0             NaT   Metallic      NaN            NaN                                   Air suspension,Armrest,Auxiliary heating,Electrical side mirrors,Heads-up display,Hill Holder,Leather steering wheel,Light sensor,Lumbar support,Multi-function steering wheel,Navigation system,Power windows,Rain sensor,Seat heating,Split rear seats,Start-stop system                    0                  1           1                             0                     1                  0                    0                     0                           1                                 0                                  0                    1                         0               1                             0                 0                          1                1                  1                 0                                 1                     1                 0                         0                                0                                       0                                       0                                      0                 1               1                1                    0                    1                     1           0                  0                  0              0  \n",
       "4  [\\n, Technik & Sicherheit:, Xenon plus, Klimaautomatik, Einparkhilfe hinten, Scheinwerferreinigungsanlage, Nebelscheinwerfer, Zentralverriegelung mit Fernbedienung, Außenspiegel elek. einstellbar, Fensterheber elek, Start/Stop Anlage, 6 Airbag inkl. Kopfairbag, Euro 6, Multimedia:, Radio CD Concert, audi music interface, Handyvorbereitung (Bluetooth), Sprachsteuerung, USB Anschluss, Assistenzsysteme:, Lichtsensor, Regensensor, Berganfahrassistent, Reifendruckkontrolle, ESP inkl. ABS, Interie...              NaN      NaN   [\\nGermany\\n]             NaN              1                    1             NaT   Metallic  Germany            NaN                                                Air conditioning,Armrest,Automatic climate control,Electrical side mirrors,Hill Holder,Leather steering wheel,Light sensor,Multi-function steering wheel,Park Distance Control,Parking assist system sensors rear,Power windows,Rain sensor,Start-stop system                    1                  0           1                             1                     0                  0                    0                     0                           1                                 0                                  0                    0                         0               1                             0                 0                          1                1                  0                 0                                 1                     0                 0                         1                                0                                       0                                       0                                      1                 1               1                0                    0                    0                     1           0                  0                  0              0  "
      ]
     },
     "execution_count": 2032,
     "metadata": {},
     "output_type": "execute_result"
    }
   ],
   "source": [
    "data.head()"
   ]
  },
  {
   "cell_type": "code",
   "execution_count": 2033,
   "metadata": {},
   "outputs": [
    {
     "data": {
      "text/plain": [
       "(15919, 88)"
      ]
     },
     "execution_count": 2033,
     "metadata": {},
     "output_type": "execute_result"
    }
   ],
   "source": [
    "data.shape"
   ]
  },
  {
   "cell_type": "markdown",
   "metadata": {},
   "source": [
    "## \\nEntertainment & Media\\n"
   ]
  },
  {
   "cell_type": "code",
   "execution_count": 2034,
   "metadata": {},
   "outputs": [
    {
     "data": {
      "text/plain": [
       "8.63119542684842"
      ]
     },
     "execution_count": 2034,
     "metadata": {},
     "output_type": "execute_result"
    }
   ],
   "source": [
    "data['\\nEntertainment & Media\\n'].isnull().sum()/ len(data['\\nEntertainment & Media\\n'])*100"
   ]
  },
  {
   "cell_type": "code",
   "execution_count": 2035,
   "metadata": {},
   "outputs": [
    {
     "ename": "TypeError",
     "evalue": "unhashable type: 'list'",
     "output_type": "error",
     "traceback": [
      "\u001b[0;31m---------------------------------------------------------------------------\u001b[0m",
      "\u001b[0;31mTypeError\u001b[0m                                 Traceback (most recent call last)",
      "\u001b[0;32mpandas/_libs/hashtable_class_helper.pxi\u001b[0m in \u001b[0;36mpandas._libs.hashtable.PyObjectHashTable.map_locations\u001b[0;34m()\u001b[0m\n",
      "\u001b[0;31mTypeError\u001b[0m: unhashable type: 'list'"
     ]
    },
    {
     "name": "stderr",
     "output_type": "stream",
     "text": [
      "Exception ignored in: 'pandas._libs.index.IndexEngine._call_map_locations'\n",
      "Traceback (most recent call last):\n",
      "  File \"pandas/_libs/hashtable_class_helper.pxi\", line 1652, in pandas._libs.hashtable.PyObjectHashTable.map_locations\n",
      "TypeError: unhashable type: 'list'\n"
     ]
    },
    {
     "data": {
      "text/plain": [
       "NaN                                                                                      1374\n",
       "[Bluetooth, Hands-free equipment, On-board computer, Radio, USB]                         1282\n",
       "[Bluetooth, Hands-free equipment, MP3, On-board computer, Radio, USB]                     982\n",
       "[Bluetooth, CD player, Hands-free equipment, MP3, On-board computer, Radio, USB]          783\n",
       "[On-board computer, Radio]                                                                487\n",
       "                                                                                         ... \n",
       "[Bluetooth, MP3, On-board computer, Sound system, USB]                                      1\n",
       "[CD player, Hands-free equipment, On-board computer, Radio, Sound system, Television]       1\n",
       "[Bluetooth, Digital radio, On-board computer, Sound system, USB]                            1\n",
       "[CD player, Hands-free equipment, MP3, Radio, USB]                                          1\n",
       "[CD player, Digital radio, Radio]                                                           1\n",
       "Name: \\nEntertainment & Media\\n, Length: 347, dtype: int64"
      ]
     },
     "execution_count": 2035,
     "metadata": {},
     "output_type": "execute_result"
    }
   ],
   "source": [
    "data['\\nEntertainment & Media\\n'].value_counts(dropna = False)"
   ]
  },
  {
   "cell_type": "code",
   "execution_count": 2036,
   "metadata": {},
   "outputs": [
    {
     "data": {
      "text/plain": [
       "'Bluetooth,Hands-free equipment,On-board computer,Radio'"
      ]
     },
     "execution_count": 2036,
     "metadata": {},
     "output_type": "execute_result"
    }
   ],
   "source": [
    "','.join(data['\\nEntertainment & Media\\n'][0])"
   ]
  },
  {
   "cell_type": "code",
   "execution_count": 2037,
   "metadata": {},
   "outputs": [
    {
     "data": {
      "text/plain": [
       "['Bluetooth',\n",
       " 'USB',\n",
       " 'Radio',\n",
       " 'Hands-free equipment',\n",
       " 'MP3',\n",
       " 'CD player',\n",
       " 'On-board computer',\n",
       " 'Digital radio',\n",
       " 'Television',\n",
       " 'Sound system']"
      ]
     },
     "execution_count": 2037,
     "metadata": {},
     "output_type": "execute_result"
    }
   ],
   "source": [
    "Nan_to_list(data, '\\nEntertainment & Media\\n')\n",
    "unique_values(data, '\\nEntertainment & Media\\n')"
   ]
  },
  {
   "cell_type": "code",
   "execution_count": 2038,
   "metadata": {},
   "outputs": [],
   "source": [
    "nxtins_list = [\",\".join(item).strip() if type(item) == list else item for item in data['\\nEntertainment & Media\\n']]"
   ]
  },
  {
   "cell_type": "code",
   "execution_count": 2039,
   "metadata": {},
   "outputs": [],
   "source": [
    "data['Entertainment&Media'] = pd.DataFrame(nxtins_list)"
   ]
  },
  {
   "cell_type": "code",
   "execution_count": 2040,
   "metadata": {},
   "outputs": [
    {
     "data": {
      "text/plain": [
       "                                                                                   1374\n",
       "Bluetooth,Hands-free equipment,On-board computer,Radio,USB                         1282\n",
       "Bluetooth,Hands-free equipment,MP3,On-board computer,Radio,USB                      982\n",
       "Bluetooth,CD player,Hands-free equipment,MP3,On-board computer,Radio,USB            783\n",
       "On-board computer,Radio                                                             487\n",
       "                                                                                   ... \n",
       "Bluetooth,CD player,Digital radio,Hands-free equipment                                1\n",
       "Bluetooth,Digital radio,USB                                                           1\n",
       "Bluetooth,CD player,Digital radio,Hands-free equipment,Radio                          1\n",
       "Bluetooth,CD player,Digital radio,MP3,Radio,Sound system,USB                          1\n",
       "Bluetooth,CD player,Hands-free equipment,MP3,On-board computer,Sound system,USB       1\n",
       "Name: Entertainment&Media, Length: 347, dtype: int64"
      ]
     },
     "execution_count": 2040,
     "metadata": {},
     "output_type": "execute_result"
    }
   ],
   "source": [
    "data['Entertainment&Media'].value_counts(dropna = False)"
   ]
  },
  {
   "cell_type": "code",
   "execution_count": 2041,
   "metadata": {},
   "outputs": [
    {
     "data": {
      "text/plain": [
       "0"
      ]
     },
     "execution_count": 2041,
     "metadata": {},
     "output_type": "execute_result"
    }
   ],
   "source": [
    "data['Entertainment&Media'].isnull().sum()"
   ]
  },
  {
   "cell_type": "code",
   "execution_count": 2042,
   "metadata": {},
   "outputs": [],
   "source": [
    "data['Entertainment&Media'] = [np.nan if data['Entertainment&Media'].iloc[i] == \"\" else data['Entertainment&Media'].iloc[i] for i in range(len(data['Entertainment&Media']))]"
   ]
  },
  {
   "cell_type": "code",
   "execution_count": 2043,
   "metadata": {},
   "outputs": [],
   "source": [
    "fill_most(data, 'make_model', 'Entertainment&Media')"
   ]
  },
  {
   "cell_type": "code",
   "execution_count": 2044,
   "metadata": {},
   "outputs": [
    {
     "data": {
      "text/plain": [
       "Bluetooth,Hands-free equipment,On-board computer,Radio,USB                         2015\n",
       "Bluetooth,Hands-free equipment,MP3,On-board computer,Radio,USB                     1206\n",
       "Bluetooth,CD player,Hands-free equipment,MP3,On-board computer,Radio,USB           1049\n",
       "Bluetooth,Hands-free equipment,On-board computer,Radio                              529\n",
       "On-board computer,Radio                                                             487\n",
       "                                                                                   ... \n",
       "Digital radio,Hands-free equipment,MP3,On-board computer,USB                          1\n",
       "CD player,Digital radio,MP3,On-board computer,Radio,Sound system,USB                  1\n",
       "CD player,Hands-free equipment,MP3,On-board computer                                  1\n",
       "Digital radio,Sound system,USB                                                        1\n",
       "Bluetooth,CD player,Hands-free equipment,MP3,On-board computer,Sound system,USB       1\n",
       "Name: Entertainment&Media, Length: 346, dtype: int64"
      ]
     },
     "execution_count": 2044,
     "metadata": {},
     "output_type": "execute_result"
    }
   ],
   "source": [
    "data['Entertainment&Media'].value_counts(dropna = False)"
   ]
  },
  {
   "cell_type": "code",
   "execution_count": 2045,
   "metadata": {},
   "outputs": [
    {
     "data": {
      "text/html": [
       "<div>\n",
       "<style scoped>\n",
       "    .dataframe tbody tr th:only-of-type {\n",
       "        vertical-align: middle;\n",
       "    }\n",
       "\n",
       "    .dataframe tbody tr th {\n",
       "        vertical-align: top;\n",
       "    }\n",
       "\n",
       "    .dataframe thead th {\n",
       "        text-align: right;\n",
       "    }\n",
       "</style>\n",
       "<table border=\"1\" class=\"dataframe\">\n",
       "  <thead>\n",
       "    <tr style=\"text-align: right;\">\n",
       "      <th></th>\n",
       "      <th>'CD player'</th>\n",
       "      <th>'CD player']</th>\n",
       "      <th>'Digital radio'</th>\n",
       "      <th>'Digital radio']</th>\n",
       "      <th>'Hands-free equipment'</th>\n",
       "      <th>'Hands-free equipment']</th>\n",
       "      <th>'MP3'</th>\n",
       "      <th>'MP3']</th>\n",
       "      <th>'On-board computer'</th>\n",
       "      <th>'On-board computer']</th>\n",
       "      <th>'Radio'</th>\n",
       "      <th>'Radio']</th>\n",
       "      <th>'Sound system'</th>\n",
       "      <th>'Sound system']</th>\n",
       "      <th>'Television'</th>\n",
       "      <th>'Television']</th>\n",
       "      <th>'USB']</th>\n",
       "      <th>['Bluetooth'</th>\n",
       "      <th>['Bluetooth']</th>\n",
       "      <th>['CD player'</th>\n",
       "      <th>['CD player']</th>\n",
       "      <th>['Digital radio'</th>\n",
       "      <th>['Digital radio']</th>\n",
       "      <th>['Hands-free equipment'</th>\n",
       "      <th>['Hands-free equipment']</th>\n",
       "      <th>['MP3'</th>\n",
       "      <th>['MP3']</th>\n",
       "      <th>['On-board computer'</th>\n",
       "      <th>['On-board computer']</th>\n",
       "      <th>['Radio'</th>\n",
       "      <th>['Radio']</th>\n",
       "      <th>['Sound system'</th>\n",
       "      <th>['Sound system']</th>\n",
       "      <th>['USB']</th>\n",
       "      <th>[]</th>\n",
       "    </tr>\n",
       "  </thead>\n",
       "  <tbody>\n",
       "    <tr>\n",
       "      <th>0</th>\n",
       "      <td>0</td>\n",
       "      <td>0</td>\n",
       "      <td>0</td>\n",
       "      <td>0</td>\n",
       "      <td>1</td>\n",
       "      <td>0</td>\n",
       "      <td>0</td>\n",
       "      <td>0</td>\n",
       "      <td>1</td>\n",
       "      <td>0</td>\n",
       "      <td>0</td>\n",
       "      <td>1</td>\n",
       "      <td>0</td>\n",
       "      <td>0</td>\n",
       "      <td>0</td>\n",
       "      <td>0</td>\n",
       "      <td>0</td>\n",
       "      <td>1</td>\n",
       "      <td>0</td>\n",
       "      <td>0</td>\n",
       "      <td>0</td>\n",
       "      <td>0</td>\n",
       "      <td>0</td>\n",
       "      <td>0</td>\n",
       "      <td>0</td>\n",
       "      <td>0</td>\n",
       "      <td>0</td>\n",
       "      <td>0</td>\n",
       "      <td>0</td>\n",
       "      <td>0</td>\n",
       "      <td>0</td>\n",
       "      <td>0</td>\n",
       "      <td>0</td>\n",
       "      <td>0</td>\n",
       "      <td>0</td>\n",
       "    </tr>\n",
       "    <tr>\n",
       "      <th>1</th>\n",
       "      <td>0</td>\n",
       "      <td>0</td>\n",
       "      <td>0</td>\n",
       "      <td>0</td>\n",
       "      <td>1</td>\n",
       "      <td>0</td>\n",
       "      <td>0</td>\n",
       "      <td>0</td>\n",
       "      <td>1</td>\n",
       "      <td>0</td>\n",
       "      <td>1</td>\n",
       "      <td>0</td>\n",
       "      <td>0</td>\n",
       "      <td>1</td>\n",
       "      <td>0</td>\n",
       "      <td>0</td>\n",
       "      <td>0</td>\n",
       "      <td>1</td>\n",
       "      <td>0</td>\n",
       "      <td>0</td>\n",
       "      <td>0</td>\n",
       "      <td>0</td>\n",
       "      <td>0</td>\n",
       "      <td>0</td>\n",
       "      <td>0</td>\n",
       "      <td>0</td>\n",
       "      <td>0</td>\n",
       "      <td>0</td>\n",
       "      <td>0</td>\n",
       "      <td>0</td>\n",
       "      <td>0</td>\n",
       "      <td>0</td>\n",
       "      <td>0</td>\n",
       "      <td>0</td>\n",
       "      <td>0</td>\n",
       "    </tr>\n",
       "    <tr>\n",
       "      <th>2</th>\n",
       "      <td>0</td>\n",
       "      <td>0</td>\n",
       "      <td>0</td>\n",
       "      <td>0</td>\n",
       "      <td>0</td>\n",
       "      <td>0</td>\n",
       "      <td>0</td>\n",
       "      <td>0</td>\n",
       "      <td>0</td>\n",
       "      <td>1</td>\n",
       "      <td>0</td>\n",
       "      <td>0</td>\n",
       "      <td>0</td>\n",
       "      <td>0</td>\n",
       "      <td>0</td>\n",
       "      <td>0</td>\n",
       "      <td>0</td>\n",
       "      <td>0</td>\n",
       "      <td>0</td>\n",
       "      <td>0</td>\n",
       "      <td>0</td>\n",
       "      <td>0</td>\n",
       "      <td>0</td>\n",
       "      <td>0</td>\n",
       "      <td>0</td>\n",
       "      <td>1</td>\n",
       "      <td>0</td>\n",
       "      <td>0</td>\n",
       "      <td>0</td>\n",
       "      <td>0</td>\n",
       "      <td>0</td>\n",
       "      <td>0</td>\n",
       "      <td>0</td>\n",
       "      <td>0</td>\n",
       "      <td>0</td>\n",
       "    </tr>\n",
       "    <tr>\n",
       "      <th>3</th>\n",
       "      <td>1</td>\n",
       "      <td>0</td>\n",
       "      <td>0</td>\n",
       "      <td>0</td>\n",
       "      <td>1</td>\n",
       "      <td>0</td>\n",
       "      <td>1</td>\n",
       "      <td>0</td>\n",
       "      <td>1</td>\n",
       "      <td>0</td>\n",
       "      <td>1</td>\n",
       "      <td>0</td>\n",
       "      <td>1</td>\n",
       "      <td>0</td>\n",
       "      <td>0</td>\n",
       "      <td>0</td>\n",
       "      <td>1</td>\n",
       "      <td>1</td>\n",
       "      <td>0</td>\n",
       "      <td>0</td>\n",
       "      <td>0</td>\n",
       "      <td>0</td>\n",
       "      <td>0</td>\n",
       "      <td>0</td>\n",
       "      <td>0</td>\n",
       "      <td>0</td>\n",
       "      <td>0</td>\n",
       "      <td>0</td>\n",
       "      <td>0</td>\n",
       "      <td>0</td>\n",
       "      <td>0</td>\n",
       "      <td>0</td>\n",
       "      <td>0</td>\n",
       "      <td>0</td>\n",
       "      <td>0</td>\n",
       "    </tr>\n",
       "    <tr>\n",
       "      <th>4</th>\n",
       "      <td>1</td>\n",
       "      <td>0</td>\n",
       "      <td>0</td>\n",
       "      <td>0</td>\n",
       "      <td>1</td>\n",
       "      <td>0</td>\n",
       "      <td>1</td>\n",
       "      <td>0</td>\n",
       "      <td>1</td>\n",
       "      <td>0</td>\n",
       "      <td>1</td>\n",
       "      <td>0</td>\n",
       "      <td>0</td>\n",
       "      <td>0</td>\n",
       "      <td>0</td>\n",
       "      <td>0</td>\n",
       "      <td>1</td>\n",
       "      <td>1</td>\n",
       "      <td>0</td>\n",
       "      <td>0</td>\n",
       "      <td>0</td>\n",
       "      <td>0</td>\n",
       "      <td>0</td>\n",
       "      <td>0</td>\n",
       "      <td>0</td>\n",
       "      <td>0</td>\n",
       "      <td>0</td>\n",
       "      <td>0</td>\n",
       "      <td>0</td>\n",
       "      <td>0</td>\n",
       "      <td>0</td>\n",
       "      <td>0</td>\n",
       "      <td>0</td>\n",
       "      <td>0</td>\n",
       "      <td>0</td>\n",
       "    </tr>\n",
       "    <tr>\n",
       "      <th>...</th>\n",
       "      <td>...</td>\n",
       "      <td>...</td>\n",
       "      <td>...</td>\n",
       "      <td>...</td>\n",
       "      <td>...</td>\n",
       "      <td>...</td>\n",
       "      <td>...</td>\n",
       "      <td>...</td>\n",
       "      <td>...</td>\n",
       "      <td>...</td>\n",
       "      <td>...</td>\n",
       "      <td>...</td>\n",
       "      <td>...</td>\n",
       "      <td>...</td>\n",
       "      <td>...</td>\n",
       "      <td>...</td>\n",
       "      <td>...</td>\n",
       "      <td>...</td>\n",
       "      <td>...</td>\n",
       "      <td>...</td>\n",
       "      <td>...</td>\n",
       "      <td>...</td>\n",
       "      <td>...</td>\n",
       "      <td>...</td>\n",
       "      <td>...</td>\n",
       "      <td>...</td>\n",
       "      <td>...</td>\n",
       "      <td>...</td>\n",
       "      <td>...</td>\n",
       "      <td>...</td>\n",
       "      <td>...</td>\n",
       "      <td>...</td>\n",
       "      <td>...</td>\n",
       "      <td>...</td>\n",
       "      <td>...</td>\n",
       "    </tr>\n",
       "    <tr>\n",
       "      <th>15914</th>\n",
       "      <td>0</td>\n",
       "      <td>0</td>\n",
       "      <td>1</td>\n",
       "      <td>0</td>\n",
       "      <td>1</td>\n",
       "      <td>0</td>\n",
       "      <td>0</td>\n",
       "      <td>0</td>\n",
       "      <td>1</td>\n",
       "      <td>0</td>\n",
       "      <td>1</td>\n",
       "      <td>0</td>\n",
       "      <td>0</td>\n",
       "      <td>0</td>\n",
       "      <td>0</td>\n",
       "      <td>0</td>\n",
       "      <td>1</td>\n",
       "      <td>1</td>\n",
       "      <td>0</td>\n",
       "      <td>0</td>\n",
       "      <td>0</td>\n",
       "      <td>0</td>\n",
       "      <td>0</td>\n",
       "      <td>0</td>\n",
       "      <td>0</td>\n",
       "      <td>0</td>\n",
       "      <td>0</td>\n",
       "      <td>0</td>\n",
       "      <td>0</td>\n",
       "      <td>0</td>\n",
       "      <td>0</td>\n",
       "      <td>0</td>\n",
       "      <td>0</td>\n",
       "      <td>0</td>\n",
       "      <td>0</td>\n",
       "    </tr>\n",
       "    <tr>\n",
       "      <th>15915</th>\n",
       "      <td>0</td>\n",
       "      <td>0</td>\n",
       "      <td>1</td>\n",
       "      <td>0</td>\n",
       "      <td>1</td>\n",
       "      <td>0</td>\n",
       "      <td>0</td>\n",
       "      <td>0</td>\n",
       "      <td>0</td>\n",
       "      <td>0</td>\n",
       "      <td>1</td>\n",
       "      <td>0</td>\n",
       "      <td>0</td>\n",
       "      <td>0</td>\n",
       "      <td>0</td>\n",
       "      <td>0</td>\n",
       "      <td>1</td>\n",
       "      <td>1</td>\n",
       "      <td>0</td>\n",
       "      <td>0</td>\n",
       "      <td>0</td>\n",
       "      <td>0</td>\n",
       "      <td>0</td>\n",
       "      <td>0</td>\n",
       "      <td>0</td>\n",
       "      <td>0</td>\n",
       "      <td>0</td>\n",
       "      <td>0</td>\n",
       "      <td>0</td>\n",
       "      <td>0</td>\n",
       "      <td>0</td>\n",
       "      <td>0</td>\n",
       "      <td>0</td>\n",
       "      <td>0</td>\n",
       "      <td>0</td>\n",
       "    </tr>\n",
       "    <tr>\n",
       "      <th>15916</th>\n",
       "      <td>0</td>\n",
       "      <td>0</td>\n",
       "      <td>0</td>\n",
       "      <td>0</td>\n",
       "      <td>1</td>\n",
       "      <td>0</td>\n",
       "      <td>0</td>\n",
       "      <td>0</td>\n",
       "      <td>1</td>\n",
       "      <td>0</td>\n",
       "      <td>0</td>\n",
       "      <td>1</td>\n",
       "      <td>0</td>\n",
       "      <td>0</td>\n",
       "      <td>0</td>\n",
       "      <td>0</td>\n",
       "      <td>0</td>\n",
       "      <td>1</td>\n",
       "      <td>0</td>\n",
       "      <td>0</td>\n",
       "      <td>0</td>\n",
       "      <td>0</td>\n",
       "      <td>0</td>\n",
       "      <td>0</td>\n",
       "      <td>0</td>\n",
       "      <td>0</td>\n",
       "      <td>0</td>\n",
       "      <td>0</td>\n",
       "      <td>0</td>\n",
       "      <td>0</td>\n",
       "      <td>0</td>\n",
       "      <td>0</td>\n",
       "      <td>0</td>\n",
       "      <td>0</td>\n",
       "      <td>0</td>\n",
       "    </tr>\n",
       "    <tr>\n",
       "      <th>15917</th>\n",
       "      <td>0</td>\n",
       "      <td>0</td>\n",
       "      <td>1</td>\n",
       "      <td>0</td>\n",
       "      <td>0</td>\n",
       "      <td>0</td>\n",
       "      <td>0</td>\n",
       "      <td>0</td>\n",
       "      <td>0</td>\n",
       "      <td>0</td>\n",
       "      <td>1</td>\n",
       "      <td>0</td>\n",
       "      <td>0</td>\n",
       "      <td>0</td>\n",
       "      <td>0</td>\n",
       "      <td>0</td>\n",
       "      <td>1</td>\n",
       "      <td>1</td>\n",
       "      <td>0</td>\n",
       "      <td>0</td>\n",
       "      <td>0</td>\n",
       "      <td>0</td>\n",
       "      <td>0</td>\n",
       "      <td>0</td>\n",
       "      <td>0</td>\n",
       "      <td>0</td>\n",
       "      <td>0</td>\n",
       "      <td>0</td>\n",
       "      <td>0</td>\n",
       "      <td>0</td>\n",
       "      <td>0</td>\n",
       "      <td>0</td>\n",
       "      <td>0</td>\n",
       "      <td>0</td>\n",
       "      <td>0</td>\n",
       "    </tr>\n",
       "    <tr>\n",
       "      <th>15918</th>\n",
       "      <td>0</td>\n",
       "      <td>0</td>\n",
       "      <td>0</td>\n",
       "      <td>0</td>\n",
       "      <td>0</td>\n",
       "      <td>0</td>\n",
       "      <td>0</td>\n",
       "      <td>0</td>\n",
       "      <td>0</td>\n",
       "      <td>0</td>\n",
       "      <td>0</td>\n",
       "      <td>0</td>\n",
       "      <td>0</td>\n",
       "      <td>0</td>\n",
       "      <td>0</td>\n",
       "      <td>0</td>\n",
       "      <td>0</td>\n",
       "      <td>0</td>\n",
       "      <td>0</td>\n",
       "      <td>0</td>\n",
       "      <td>0</td>\n",
       "      <td>0</td>\n",
       "      <td>0</td>\n",
       "      <td>0</td>\n",
       "      <td>0</td>\n",
       "      <td>0</td>\n",
       "      <td>0</td>\n",
       "      <td>0</td>\n",
       "      <td>0</td>\n",
       "      <td>0</td>\n",
       "      <td>0</td>\n",
       "      <td>0</td>\n",
       "      <td>0</td>\n",
       "      <td>1</td>\n",
       "      <td>0</td>\n",
       "    </tr>\n",
       "  </tbody>\n",
       "</table>\n",
       "<p>15919 rows × 35 columns</p>\n",
       "</div>"
      ],
      "text/plain": [
       "        'CD player'   'CD player']   'Digital radio'   'Digital radio']   'Hands-free equipment'   'Hands-free equipment']   'MP3'   'MP3']   'On-board computer'   'On-board computer']   'Radio'   'Radio']   'Sound system'   'Sound system']   'Television'   'Television']   'USB']  ['Bluetooth'  ['Bluetooth']  ['CD player'  ['CD player']  ['Digital radio'  ['Digital radio']  ['Hands-free equipment'  ['Hands-free equipment']  ['MP3'  ['MP3']  ['On-board computer'  ['On-board computer']  ['Radio'  ['Radio']  ['Sound system'  ['Sound system']  ['USB']  []\n",
       "0                 0              0                 0                  0                        1                         0       0        0                     1                      0         0          1                0                 0              0               0        0             1              0             0              0                 0                  0                        0                         0       0        0                     0                      0         0          0                0                 0        0   0\n",
       "1                 0              0                 0                  0                        1                         0       0        0                     1                      0         1          0                0                 1              0               0        0             1              0             0              0                 0                  0                        0                         0       0        0                     0                      0         0          0                0                 0        0   0\n",
       "2                 0              0                 0                  0                        0                         0       0        0                     0                      1         0          0                0                 0              0               0        0             0              0             0              0                 0                  0                        0                         0       1        0                     0                      0         0          0                0                 0        0   0\n",
       "3                 1              0                 0                  0                        1                         0       1        0                     1                      0         1          0                1                 0              0               0        1             1              0             0              0                 0                  0                        0                         0       0        0                     0                      0         0          0                0                 0        0   0\n",
       "4                 1              0                 0                  0                        1                         0       1        0                     1                      0         1          0                0                 0              0               0        1             1              0             0              0                 0                  0                        0                         0       0        0                     0                      0         0          0                0                 0        0   0\n",
       "...             ...            ...               ...                ...                      ...                       ...     ...      ...                   ...                    ...       ...        ...              ...               ...            ...             ...      ...           ...            ...           ...            ...               ...                ...                      ...                       ...     ...      ...                   ...                    ...       ...        ...              ...               ...      ...  ..\n",
       "15914             0              0                 1                  0                        1                         0       0        0                     1                      0         1          0                0                 0              0               0        1             1              0             0              0                 0                  0                        0                         0       0        0                     0                      0         0          0                0                 0        0   0\n",
       "15915             0              0                 1                  0                        1                         0       0        0                     0                      0         1          0                0                 0              0               0        1             1              0             0              0                 0                  0                        0                         0       0        0                     0                      0         0          0                0                 0        0   0\n",
       "15916             0              0                 0                  0                        1                         0       0        0                     1                      0         0          1                0                 0              0               0        0             1              0             0              0                 0                  0                        0                         0       0        0                     0                      0         0          0                0                 0        0   0\n",
       "15917             0              0                 1                  0                        0                         0       0        0                     0                      0         1          0                0                 0              0               0        1             1              0             0              0                 0                  0                        0                         0       0        0                     0                      0         0          0                0                 0        0   0\n",
       "15918             0              0                 0                  0                        0                         0       0        0                     0                      0         0          0                0                 0              0               0        0             0              0             0              0                 0                  0                        0                         0       0        0                     0                      0         0          0                0                 0        1   0\n",
       "\n",
       "[15919 rows x 35 columns]"
      ]
     },
     "execution_count": 2045,
     "metadata": {},
     "output_type": "execute_result"
    }
   ],
   "source": [
    "data['\\nEntertainment & Media\\n'].str.get_dummies(sep = ',')"
   ]
  },
  {
   "cell_type": "code",
   "execution_count": 2046,
   "metadata": {},
   "outputs": [],
   "source": [
    "data = data.join(data['Entertainment&Media'].str.get_dummies(sep = ',').add_prefix('em_'))"
   ]
  },
  {
   "cell_type": "code",
   "execution_count": 2047,
   "metadata": {},
   "outputs": [
    {
     "data": {
      "text/html": [
       "<div>\n",
       "<style scoped>\n",
       "    .dataframe tbody tr th:only-of-type {\n",
       "        vertical-align: middle;\n",
       "    }\n",
       "\n",
       "    .dataframe tbody tr th {\n",
       "        vertical-align: top;\n",
       "    }\n",
       "\n",
       "    .dataframe thead th {\n",
       "        text-align: right;\n",
       "    }\n",
       "</style>\n",
       "<table border=\"1\" class=\"dataframe\">\n",
       "  <thead>\n",
       "    <tr style=\"text-align: right;\">\n",
       "      <th></th>\n",
       "      <th>url</th>\n",
       "      <th>make_model</th>\n",
       "      <th>short_description</th>\n",
       "      <th>body_type</th>\n",
       "      <th>price</th>\n",
       "      <th>vat</th>\n",
       "      <th>km</th>\n",
       "      <th>registration</th>\n",
       "      <th>hp</th>\n",
       "      <th>Type</th>\n",
       "      <th>Previous Owners</th>\n",
       "      <th>Next Inspection</th>\n",
       "      <th>Inspection new</th>\n",
       "      <th>Warranty</th>\n",
       "      <th>null</th>\n",
       "      <th>Make</th>\n",
       "      <th>Model</th>\n",
       "      <th>Offer Number</th>\n",
       "      <th>First Registration</th>\n",
       "      <th>Body Color</th>\n",
       "      <th>Paint Type</th>\n",
       "      <th>Body Color Original</th>\n",
       "      <th>Upholstery</th>\n",
       "      <th>Nr. of Doors</th>\n",
       "      <th>Nr. of Seats</th>\n",
       "      <th>Model Code</th>\n",
       "      <th>Gearing Type</th>\n",
       "      <th>Displacement</th>\n",
       "      <th>Cylinders</th>\n",
       "      <th>Drive chain</th>\n",
       "      <th>Fuel</th>\n",
       "      <th>Consumption</th>\n",
       "      <th>CO2 Emission</th>\n",
       "      <th>Emission Class</th>\n",
       "      <th>\\nComfort &amp; Convenience\\n</th>\n",
       "      <th>\\nEntertainment &amp; Media\\n</th>\n",
       "      <th>\\nExtras\\n</th>\n",
       "      <th>\\nSafety &amp; Security\\n</th>\n",
       "      <th>description</th>\n",
       "      <th>Emission Label</th>\n",
       "      <th>Gears</th>\n",
       "      <th>Country version</th>\n",
       "      <th>Previous_Owner1</th>\n",
       "      <th>Previous_Owner</th>\n",
       "      <th>Inspection_New_Bool</th>\n",
       "      <th>next_inspection</th>\n",
       "      <th>paint_type</th>\n",
       "      <th>country</th>\n",
       "      <th>emission_label</th>\n",
       "      <th>Comfort&amp;Convenience</th>\n",
       "      <th>cc_Air conditioning</th>\n",
       "      <th>cc_Air suspension</th>\n",
       "      <th>cc_Armrest</th>\n",
       "      <th>cc_Automatic climate control</th>\n",
       "      <th>cc_Auxiliary heating</th>\n",
       "      <th>cc_Cruise control</th>\n",
       "      <th>cc_Electric Starter</th>\n",
       "      <th>cc_Electric tailgate</th>\n",
       "      <th>cc_Electrical side mirrors</th>\n",
       "      <th>cc_Electrically adjustable seats</th>\n",
       "      <th>cc_Electrically heated windshield</th>\n",
       "      <th>cc_Heads-up display</th>\n",
       "      <th>cc_Heated steering wheel</th>\n",
       "      <th>cc_Hill Holder</th>\n",
       "      <th>cc_Keyless central door lock</th>\n",
       "      <th>cc_Leather seats</th>\n",
       "      <th>cc_Leather steering wheel</th>\n",
       "      <th>cc_Light sensor</th>\n",
       "      <th>cc_Lumbar support</th>\n",
       "      <th>cc_Massage seats</th>\n",
       "      <th>cc_Multi-function steering wheel</th>\n",
       "      <th>cc_Navigation system</th>\n",
       "      <th>cc_Panorama roof</th>\n",
       "      <th>cc_Park Distance Control</th>\n",
       "      <th>cc_Parking assist system camera</th>\n",
       "      <th>cc_Parking assist system self-steering</th>\n",
       "      <th>cc_Parking assist system sensors front</th>\n",
       "      <th>cc_Parking assist system sensors rear</th>\n",
       "      <th>cc_Power windows</th>\n",
       "      <th>cc_Rain sensor</th>\n",
       "      <th>cc_Seat heating</th>\n",
       "      <th>cc_Seat ventilation</th>\n",
       "      <th>cc_Split rear seats</th>\n",
       "      <th>cc_Start-stop system</th>\n",
       "      <th>cc_Sunroof</th>\n",
       "      <th>cc_Tinted windows</th>\n",
       "      <th>cc_Wind deflector</th>\n",
       "      <th>cc_Windshield</th>\n",
       "      <th>Entertainment&amp;Media</th>\n",
       "      <th>em_Bluetooth</th>\n",
       "      <th>em_CD player</th>\n",
       "      <th>em_Digital radio</th>\n",
       "      <th>em_Hands-free equipment</th>\n",
       "      <th>em_MP3</th>\n",
       "      <th>em_On-board computer</th>\n",
       "      <th>em_Radio</th>\n",
       "      <th>em_Sound system</th>\n",
       "      <th>em_Television</th>\n",
       "      <th>em_USB</th>\n",
       "    </tr>\n",
       "  </thead>\n",
       "  <tbody>\n",
       "    <tr>\n",
       "      <th>0</th>\n",
       "      <td>https://www.autoscout24.com//offers/audi-a1-sportback-1-4-tdi-s-tronic-xenon-navi-klima-diesel-black-bdab349a-caa5-41b0-98eb-c1345b84445e</td>\n",
       "      <td>Audi A1</td>\n",
       "      <td>Sportback 1.4 TDI S-tronic Xenon Navi Klima</td>\n",
       "      <td>Sedans</td>\n",
       "      <td>15770</td>\n",
       "      <td>VAT deductible</td>\n",
       "      <td>56,013 km</td>\n",
       "      <td>01/2016</td>\n",
       "      <td>66 kW</td>\n",
       "      <td>[, Used, , Diesel (Particulate Filter)]</td>\n",
       "      <td>\\n2\\n</td>\n",
       "      <td>[\\n06/2021\\n, \\n99 g CO2/km (comb)\\n]</td>\n",
       "      <td>[\\nYes\\n, \\nEuro 6\\n]</td>\n",
       "      <td>[\\n, \\n, \\n4 (Green)\\n]</td>\n",
       "      <td>[]</td>\n",
       "      <td>\\nAudi\\n</td>\n",
       "      <td>[\\n, A1, \\n]</td>\n",
       "      <td>[\\nLR-062483\\n]</td>\n",
       "      <td>[\\n, 2016, \\n]</td>\n",
       "      <td>[\\n, Black, \\n]</td>\n",
       "      <td>[\\nMetallic\\n]</td>\n",
       "      <td>[\\nMythosschwarz\\n]</td>\n",
       "      <td>[\\nCloth, Black\\n]</td>\n",
       "      <td>[\\n5\\n]</td>\n",
       "      <td>[\\n5\\n]</td>\n",
       "      <td>[\\n0588/BDF\\n]</td>\n",
       "      <td>[\\n, Automatic, \\n]</td>\n",
       "      <td>[\\n1,422 cc\\n]</td>\n",
       "      <td>3</td>\n",
       "      <td>[\\nfront\\n]</td>\n",
       "      <td>[\\n, Diesel (Particulate Filter), \\n]</td>\n",
       "      <td>[[3.8 l/100 km (comb)], [4.3 l/100 km (city)], [3.5 l/100 km (country)]]</td>\n",
       "      <td>[\\n99 g CO2/km (comb)\\n]</td>\n",
       "      <td>[\\nEuro 6\\n]</td>\n",
       "      <td>[Air conditioning, Armrest, Automatic climate control, Cruise control, Electrical side mirrors, Hill Holder, Leather steering wheel, Light sensor, Multi-function steering wheel, Navigation system, Park Distance Control, Parking assist system sensors rear, Power windows, Rain sensor, Seat heating, Start-stop system]</td>\n",
       "      <td>[Bluetooth, Hands-free equipment, On-board computer, Radio]</td>\n",
       "      <td>[Alloy wheels, Catalytic Converter, Voice Control]</td>\n",
       "      <td>[ABS, Central door lock, Daytime running lights, Driver-side airbag, Electronic stability control, Fog lights, Immobilizer, Isofix, Passenger-side airbag, Power steering, Side airbag, Tire pressure monitoring system, Traction control, Xenon headlights]</td>\n",
       "      <td>[\\n, Sicherheit:,  , Deaktivierung für Beifahrer-Airbag,  , ESC mit elektronischer Quersperre,  , Tagfahrlicht,  , Reifendruck-Kontrollanzeige,  , Kopfairbag-System mit Seiten-Airbags vorn,  , Sicherheitslenksäule, Assistenzsysteme:,  , Berganfahrassistent, Komfort:,  , Scheinwerferreinigung,  , Xenon plus inklusive Scheinwerfer-Reinigungsanlage,  , Scheinwerfer-Reinigungsanlage,  , Einparkhilfe hinten,  , Licht-/Regensensor,  , Funkfernbedienung,  , Elektrische Luftzusatzheizung, Interieur:...</td>\n",
       "      <td>NaN</td>\n",
       "      <td>NaN</td>\n",
       "      <td>NaN</td>\n",
       "      <td>NaN</td>\n",
       "      <td>2</td>\n",
       "      <td>1</td>\n",
       "      <td>2021-06-01</td>\n",
       "      <td>Metallic</td>\n",
       "      <td>NaN</td>\n",
       "      <td>NaN</td>\n",
       "      <td>Air conditioning,Armrest,Automatic climate control,Cruise control,Electrical side mirrors,Hill Holder,Leather steering wheel,Light sensor,Multi-function steering wheel,Navigation system,Park Distance Control,Parking assist system sensors rear,Power windows,Rain sensor,Seat heating,Start-stop system</td>\n",
       "      <td>1</td>\n",
       "      <td>0</td>\n",
       "      <td>1</td>\n",
       "      <td>1</td>\n",
       "      <td>0</td>\n",
       "      <td>1</td>\n",
       "      <td>0</td>\n",
       "      <td>0</td>\n",
       "      <td>1</td>\n",
       "      <td>0</td>\n",
       "      <td>0</td>\n",
       "      <td>0</td>\n",
       "      <td>0</td>\n",
       "      <td>1</td>\n",
       "      <td>0</td>\n",
       "      <td>0</td>\n",
       "      <td>1</td>\n",
       "      <td>1</td>\n",
       "      <td>0</td>\n",
       "      <td>0</td>\n",
       "      <td>1</td>\n",
       "      <td>1</td>\n",
       "      <td>0</td>\n",
       "      <td>1</td>\n",
       "      <td>0</td>\n",
       "      <td>0</td>\n",
       "      <td>0</td>\n",
       "      <td>1</td>\n",
       "      <td>1</td>\n",
       "      <td>1</td>\n",
       "      <td>1</td>\n",
       "      <td>0</td>\n",
       "      <td>0</td>\n",
       "      <td>1</td>\n",
       "      <td>0</td>\n",
       "      <td>0</td>\n",
       "      <td>0</td>\n",
       "      <td>0</td>\n",
       "      <td>Bluetooth,Hands-free equipment,On-board computer,Radio</td>\n",
       "      <td>1</td>\n",
       "      <td>0</td>\n",
       "      <td>0</td>\n",
       "      <td>1</td>\n",
       "      <td>0</td>\n",
       "      <td>1</td>\n",
       "      <td>1</td>\n",
       "      <td>0</td>\n",
       "      <td>0</td>\n",
       "      <td>0</td>\n",
       "    </tr>\n",
       "    <tr>\n",
       "      <th>1</th>\n",
       "      <td>https://www.autoscout24.com//offers/audi-a1-1-8-tfsi-sport-gasoline-red-b2547f8a-e83f-6237-e053-e250040a56df</td>\n",
       "      <td>Audi A1</td>\n",
       "      <td>1.8 TFSI sport</td>\n",
       "      <td>Sedans</td>\n",
       "      <td>14500</td>\n",
       "      <td>Price negotiable</td>\n",
       "      <td>80,000 km</td>\n",
       "      <td>03/2017</td>\n",
       "      <td>141 kW</td>\n",
       "      <td>[, Used, , Gasoline]</td>\n",
       "      <td>NaN</td>\n",
       "      <td>NaN</td>\n",
       "      <td>NaN</td>\n",
       "      <td>NaN</td>\n",
       "      <td>[]</td>\n",
       "      <td>\\nAudi\\n</td>\n",
       "      <td>[\\n, A1, \\n]</td>\n",
       "      <td>NaN</td>\n",
       "      <td>[\\n, 2017, \\n]</td>\n",
       "      <td>[\\n, Red, \\n]</td>\n",
       "      <td>NaN</td>\n",
       "      <td>NaN</td>\n",
       "      <td>[\\nCloth, Grey\\n]</td>\n",
       "      <td>[\\n3\\n]</td>\n",
       "      <td>[\\n4\\n]</td>\n",
       "      <td>[\\n0588/BCY\\n]</td>\n",
       "      <td>[\\n, Automatic, \\n]</td>\n",
       "      <td>[\\n1,798 cc\\n]</td>\n",
       "      <td>4</td>\n",
       "      <td>[\\nfront\\n]</td>\n",
       "      <td>[\\n, Gasoline, \\n]</td>\n",
       "      <td>[[5.6 l/100 km (comb)], [7.1 l/100 km (city)], [4.7 l/100 km (country)]]</td>\n",
       "      <td>[\\n129 g CO2/km (comb)\\n]</td>\n",
       "      <td>[\\nEuro 6\\n]</td>\n",
       "      <td>[Air conditioning, Automatic climate control, Hill Holder, Leather steering wheel, Lumbar support, Parking assist system sensors rear, Power windows, Start-stop system, Tinted windows]</td>\n",
       "      <td>[Bluetooth, Hands-free equipment, On-board computer, Radio, Sound system]</td>\n",
       "      <td>[Alloy wheels, Sport seats, Sport suspension, Voice Control]</td>\n",
       "      <td>[ABS, Central door lock, Central door lock with remote control, Daytime running lights, Driver-side airbag, Electronic stability control, Head airbag, Immobilizer, Isofix, Passenger-side airbag, Power steering, Side airbag, Tire pressure monitoring system, Traction control, Xenon headlights]</td>\n",
       "      <td>[\\nLangstreckenfahrzeug daher die hohe Kilometerleistung. , Bremsen neu bei 62000 km. , Gut gepflegter A1\\n]</td>\n",
       "      <td>[\\n4 (Green)\\n]</td>\n",
       "      <td>[\\n7\\n]</td>\n",
       "      <td>NaN</td>\n",
       "      <td>NaN</td>\n",
       "      <td>1</td>\n",
       "      <td>0</td>\n",
       "      <td>NaT</td>\n",
       "      <td>NaN</td>\n",
       "      <td>NaN</td>\n",
       "      <td>4 (Green)</td>\n",
       "      <td>Air conditioning,Automatic climate control,Hill Holder,Leather steering wheel,Lumbar support,Parking assist system sensors rear,Power windows,Start-stop system,Tinted windows</td>\n",
       "      <td>1</td>\n",
       "      <td>0</td>\n",
       "      <td>0</td>\n",
       "      <td>1</td>\n",
       "      <td>0</td>\n",
       "      <td>0</td>\n",
       "      <td>0</td>\n",
       "      <td>0</td>\n",
       "      <td>0</td>\n",
       "      <td>0</td>\n",
       "      <td>0</td>\n",
       "      <td>0</td>\n",
       "      <td>0</td>\n",
       "      <td>1</td>\n",
       "      <td>0</td>\n",
       "      <td>0</td>\n",
       "      <td>1</td>\n",
       "      <td>0</td>\n",
       "      <td>1</td>\n",
       "      <td>0</td>\n",
       "      <td>0</td>\n",
       "      <td>0</td>\n",
       "      <td>0</td>\n",
       "      <td>0</td>\n",
       "      <td>0</td>\n",
       "      <td>0</td>\n",
       "      <td>0</td>\n",
       "      <td>1</td>\n",
       "      <td>1</td>\n",
       "      <td>0</td>\n",
       "      <td>0</td>\n",
       "      <td>0</td>\n",
       "      <td>0</td>\n",
       "      <td>1</td>\n",
       "      <td>0</td>\n",
       "      <td>1</td>\n",
       "      <td>0</td>\n",
       "      <td>0</td>\n",
       "      <td>Bluetooth,Hands-free equipment,On-board computer,Radio,Sound system</td>\n",
       "      <td>1</td>\n",
       "      <td>0</td>\n",
       "      <td>0</td>\n",
       "      <td>1</td>\n",
       "      <td>0</td>\n",
       "      <td>1</td>\n",
       "      <td>1</td>\n",
       "      <td>1</td>\n",
       "      <td>0</td>\n",
       "      <td>0</td>\n",
       "    </tr>\n",
       "    <tr>\n",
       "      <th>2</th>\n",
       "      <td>https://www.autoscout24.com//offers/audi-a1-sportback-1-6-tdi-s-tronic-einparkhilfe-plus-music-diesel-black-6183cb6a-8570-4b86-a132-9b54214bca88</td>\n",
       "      <td>Audi A1</td>\n",
       "      <td>Sportback 1.6 TDI S tronic Einparkhilfe plus+music</td>\n",
       "      <td>Sedans</td>\n",
       "      <td>14640</td>\n",
       "      <td>VAT deductible</td>\n",
       "      <td>83,450 km</td>\n",
       "      <td>02/2016</td>\n",
       "      <td>85 kW</td>\n",
       "      <td>[, Used, , Diesel (Particulate Filter)]</td>\n",
       "      <td>\\n1\\n</td>\n",
       "      <td>NaN</td>\n",
       "      <td>NaN</td>\n",
       "      <td>[\\n, \\n, \\n99 g CO2/km (comb)\\n]</td>\n",
       "      <td>[]</td>\n",
       "      <td>\\nAudi\\n</td>\n",
       "      <td>[\\n, A1, \\n]</td>\n",
       "      <td>[\\nAM-95365\\n]</td>\n",
       "      <td>[\\n, 2016, \\n]</td>\n",
       "      <td>[\\n, Black, \\n]</td>\n",
       "      <td>[\\nMetallic\\n]</td>\n",
       "      <td>[\\nmythosschwarz metallic\\n]</td>\n",
       "      <td>[\\nCloth, Black\\n]</td>\n",
       "      <td>[\\n4\\n]</td>\n",
       "      <td>[\\n4\\n]</td>\n",
       "      <td>NaN</td>\n",
       "      <td>[\\n, Automatic, \\n]</td>\n",
       "      <td>[\\n1,598 cc\\n]</td>\n",
       "      <td>NaN</td>\n",
       "      <td>[\\nfront\\n]</td>\n",
       "      <td>[\\n, Diesel (Particulate Filter), \\n]</td>\n",
       "      <td>[[3.8 l/100 km (comb)], [4.4 l/100 km (city)], [3.4 l/100 km (country)]]</td>\n",
       "      <td>[\\n99 g CO2/km (comb)\\n]</td>\n",
       "      <td>[\\nEuro 6\\n]</td>\n",
       "      <td>[Air conditioning, Cruise control, Electrical side mirrors, Hill Holder, Leather steering wheel, Multi-function steering wheel, Navigation system, Park Distance Control, Parking assist system sensors front, Parking assist system sensors rear, Power windows, Seat heating, Start-stop system]</td>\n",
       "      <td>[MP3, On-board computer]</td>\n",
       "      <td>[Alloy wheels, Voice Control]</td>\n",
       "      <td>[ABS, Central door lock, Daytime running lights, Driver-side airbag, Electronic stability control, Immobilizer, Isofix, Passenger-side airbag, Power steering, Side airbag, Tire pressure monitoring system, Traction control]</td>\n",
       "      <td>[\\n, Fahrzeug-Nummer: AM-95365,  , Ehem. UPE 24.640 EUR,  , Komfort,  , Klimaanlage,  , Elektrische Fensterheber,  , Sitzheizung,  , Tempomat,  , Zentralverriegelung,  , Leder-Lenkrad,  , Elektrische Spiegel,  , Wärmedämmendes Glas,  , Anfahrassistent,  , Sicherheit,  , Window/Kopfairbags,  , ESP (el. Stabilitäts Programm),  , Elektronische Wegfahrsperre,  , Reifendruckkontrolle,  , Tagfahrlicht,  , Exterieur,  , Alufelgen 16 Zoll,  , Einparkhilfe vo + hi,  , Interieur,  , Stoff Zeitgeist,  ...</td>\n",
       "      <td>[\\n4 (Green)\\n]</td>\n",
       "      <td>NaN</td>\n",
       "      <td>NaN</td>\n",
       "      <td>NaN</td>\n",
       "      <td>1</td>\n",
       "      <td>0</td>\n",
       "      <td>NaT</td>\n",
       "      <td>Metallic</td>\n",
       "      <td>NaN</td>\n",
       "      <td>4 (Green)</td>\n",
       "      <td>Air conditioning,Cruise control,Electrical side mirrors,Hill Holder,Leather steering wheel,Multi-function steering wheel,Navigation system,Park Distance Control,Parking assist system sensors front,Parking assist system sensors rear,Power windows,Seat heating,Start-stop system</td>\n",
       "      <td>1</td>\n",
       "      <td>0</td>\n",
       "      <td>0</td>\n",
       "      <td>0</td>\n",
       "      <td>0</td>\n",
       "      <td>1</td>\n",
       "      <td>0</td>\n",
       "      <td>0</td>\n",
       "      <td>1</td>\n",
       "      <td>0</td>\n",
       "      <td>0</td>\n",
       "      <td>0</td>\n",
       "      <td>0</td>\n",
       "      <td>1</td>\n",
       "      <td>0</td>\n",
       "      <td>0</td>\n",
       "      <td>1</td>\n",
       "      <td>0</td>\n",
       "      <td>0</td>\n",
       "      <td>0</td>\n",
       "      <td>1</td>\n",
       "      <td>1</td>\n",
       "      <td>0</td>\n",
       "      <td>1</td>\n",
       "      <td>0</td>\n",
       "      <td>0</td>\n",
       "      <td>1</td>\n",
       "      <td>1</td>\n",
       "      <td>1</td>\n",
       "      <td>0</td>\n",
       "      <td>1</td>\n",
       "      <td>0</td>\n",
       "      <td>0</td>\n",
       "      <td>1</td>\n",
       "      <td>0</td>\n",
       "      <td>0</td>\n",
       "      <td>0</td>\n",
       "      <td>0</td>\n",
       "      <td>MP3,On-board computer</td>\n",
       "      <td>0</td>\n",
       "      <td>0</td>\n",
       "      <td>0</td>\n",
       "      <td>0</td>\n",
       "      <td>1</td>\n",
       "      <td>1</td>\n",
       "      <td>0</td>\n",
       "      <td>0</td>\n",
       "      <td>0</td>\n",
       "      <td>0</td>\n",
       "    </tr>\n",
       "    <tr>\n",
       "      <th>3</th>\n",
       "      <td>https://www.autoscout24.com//offers/audi-a1-1-4-tdi-design-s-tronic-diesel-brown-35c86585-2727-d61e-e053-e250040ad640</td>\n",
       "      <td>Audi A1</td>\n",
       "      <td>1.4 TDi Design S tronic</td>\n",
       "      <td>Sedans</td>\n",
       "      <td>14500</td>\n",
       "      <td>None</td>\n",
       "      <td>73,000 km</td>\n",
       "      <td>08/2016</td>\n",
       "      <td>66 kW</td>\n",
       "      <td>[, Used, , Diesel (Particulate Filter)]</td>\n",
       "      <td>\\n1\\n</td>\n",
       "      <td>NaN</td>\n",
       "      <td>NaN</td>\n",
       "      <td>NaN</td>\n",
       "      <td>[]</td>\n",
       "      <td>\\nAudi\\n</td>\n",
       "      <td>[\\n, A1, \\n]</td>\n",
       "      <td>NaN</td>\n",
       "      <td>[\\n, 2016, \\n]</td>\n",
       "      <td>[\\n, Brown, \\n]</td>\n",
       "      <td>[\\nMetallic\\n]</td>\n",
       "      <td>NaN</td>\n",
       "      <td>NaN</td>\n",
       "      <td>[\\n3\\n]</td>\n",
       "      <td>[\\n4\\n]</td>\n",
       "      <td>NaN</td>\n",
       "      <td>[\\n, Automatic, \\n]</td>\n",
       "      <td>[\\n1,422 cc\\n]</td>\n",
       "      <td>3</td>\n",
       "      <td>NaN</td>\n",
       "      <td>[\\n, Diesel (Particulate Filter), \\n]</td>\n",
       "      <td>[[3.8 l/100 km (comb)], [4.3 l/100 km (city)], [3.5 l/100 km (country)]]</td>\n",
       "      <td>[\\n99 g CO2/km (comb)\\n]</td>\n",
       "      <td>[\\nEuro 6\\n]</td>\n",
       "      <td>[Air suspension, Armrest, Auxiliary heating, Electrical side mirrors, Heads-up display, Hill Holder, Leather steering wheel, Light sensor, Lumbar support, Multi-function steering wheel, Navigation system, Power windows, Rain sensor, Seat heating, Split rear seats, Start-stop system]</td>\n",
       "      <td>[Bluetooth, CD player, Hands-free equipment, MP3, On-board computer, Radio, Sound system, USB]</td>\n",
       "      <td>[Alloy wheels, Sport seats, Voice Control]</td>\n",
       "      <td>[ABS, Alarm system, Central door lock with remote control, Driver drowsiness detection, Driver-side airbag, Electronic stability control, Emergency system, Head airbag, Immobilizer, Isofix, Passenger-side airbag, Power steering, Side airbag, Tire pressure monitoring system]</td>\n",
       "      <td>[\\nAudi A1: , - 1e eigenaar , - Perfecte staat: schade/ongevalvrij , - Onderhoudsboekje Audi garage , - Full option!, - S-line opties, - Automaat, lederen bekleding, navi-pro, Xenon lampen, zetelverwarming, automatische airco,...\\n]</td>\n",
       "      <td>NaN</td>\n",
       "      <td>[\\n6\\n]</td>\n",
       "      <td>NaN</td>\n",
       "      <td>NaN</td>\n",
       "      <td>1</td>\n",
       "      <td>0</td>\n",
       "      <td>NaT</td>\n",
       "      <td>Metallic</td>\n",
       "      <td>NaN</td>\n",
       "      <td>NaN</td>\n",
       "      <td>Air suspension,Armrest,Auxiliary heating,Electrical side mirrors,Heads-up display,Hill Holder,Leather steering wheel,Light sensor,Lumbar support,Multi-function steering wheel,Navigation system,Power windows,Rain sensor,Seat heating,Split rear seats,Start-stop system</td>\n",
       "      <td>0</td>\n",
       "      <td>1</td>\n",
       "      <td>1</td>\n",
       "      <td>0</td>\n",
       "      <td>1</td>\n",
       "      <td>0</td>\n",
       "      <td>0</td>\n",
       "      <td>0</td>\n",
       "      <td>1</td>\n",
       "      <td>0</td>\n",
       "      <td>0</td>\n",
       "      <td>1</td>\n",
       "      <td>0</td>\n",
       "      <td>1</td>\n",
       "      <td>0</td>\n",
       "      <td>0</td>\n",
       "      <td>1</td>\n",
       "      <td>1</td>\n",
       "      <td>1</td>\n",
       "      <td>0</td>\n",
       "      <td>1</td>\n",
       "      <td>1</td>\n",
       "      <td>0</td>\n",
       "      <td>0</td>\n",
       "      <td>0</td>\n",
       "      <td>0</td>\n",
       "      <td>0</td>\n",
       "      <td>0</td>\n",
       "      <td>1</td>\n",
       "      <td>1</td>\n",
       "      <td>1</td>\n",
       "      <td>0</td>\n",
       "      <td>1</td>\n",
       "      <td>1</td>\n",
       "      <td>0</td>\n",
       "      <td>0</td>\n",
       "      <td>0</td>\n",
       "      <td>0</td>\n",
       "      <td>Bluetooth,CD player,Hands-free equipment,MP3,On-board computer,Radio,Sound system,USB</td>\n",
       "      <td>1</td>\n",
       "      <td>1</td>\n",
       "      <td>0</td>\n",
       "      <td>1</td>\n",
       "      <td>1</td>\n",
       "      <td>1</td>\n",
       "      <td>1</td>\n",
       "      <td>1</td>\n",
       "      <td>0</td>\n",
       "      <td>1</td>\n",
       "    </tr>\n",
       "    <tr>\n",
       "      <th>4</th>\n",
       "      <td>https://www.autoscout24.com//offers/audi-a1-sportback-1-4-tdi-s-tronic-s-line-ext-admired-xe-diesel-black-b86b55d8-9c7c-4a58-b658-b97008a51efc</td>\n",
       "      <td>Audi A1</td>\n",
       "      <td>Sportback 1.4 TDI S-Tronic S-Line Ext. admired, Xe</td>\n",
       "      <td>Sedans</td>\n",
       "      <td>16790</td>\n",
       "      <td>None</td>\n",
       "      <td>16,200 km</td>\n",
       "      <td>05/2016</td>\n",
       "      <td>66 kW</td>\n",
       "      <td>[, Used, , Diesel (Particulate Filter)]</td>\n",
       "      <td>\\n1\\n</td>\n",
       "      <td>NaN</td>\n",
       "      <td>[\\nYes\\n, \\n109 g CO2/km (comb)\\n]</td>\n",
       "      <td>[\\n, \\n, \\nEuro 6\\n]</td>\n",
       "      <td>[]</td>\n",
       "      <td>\\nAudi\\n</td>\n",
       "      <td>[\\n, A1, \\n]</td>\n",
       "      <td>[\\nC1626\\n]</td>\n",
       "      <td>[\\n, 2016, \\n]</td>\n",
       "      <td>[\\n, Black, \\n]</td>\n",
       "      <td>[\\nMetallic\\n]</td>\n",
       "      <td>[\\nMythosschwarz Metallic\\n]</td>\n",
       "      <td>[\\nCloth, Black\\n]</td>\n",
       "      <td>[\\n5\\n]</td>\n",
       "      <td>[\\n5\\n]</td>\n",
       "      <td>[\\n0588/BDF\\n]</td>\n",
       "      <td>[\\n, Automatic, \\n]</td>\n",
       "      <td>[\\n1,422 cc\\n]</td>\n",
       "      <td>3</td>\n",
       "      <td>[\\nfront\\n]</td>\n",
       "      <td>[\\n, Diesel (Particulate Filter), \\n]</td>\n",
       "      <td>[[4.1 l/100 km (comb)], [4.6 l/100 km (city)], [3.8 l/100 km (country)]]</td>\n",
       "      <td>[\\n109 g CO2/km (comb)\\n]</td>\n",
       "      <td>[\\nEuro 6\\n]</td>\n",
       "      <td>[Air conditioning, Armrest, Automatic climate control, Electrical side mirrors, Hill Holder, Leather steering wheel, Light sensor, Multi-function steering wheel, Park Distance Control, Parking assist system sensors rear, Power windows, Rain sensor, Start-stop system]</td>\n",
       "      <td>[Bluetooth, CD player, Hands-free equipment, MP3, On-board computer, Radio, USB]</td>\n",
       "      <td>[Alloy wheels, Sport package, Sport suspension, Voice Control]</td>\n",
       "      <td>[ABS, Central door lock, Driver-side airbag, Electronic stability control, Fog lights, Immobilizer, Isofix, Passenger-side airbag, Power steering, Side airbag, Tire pressure monitoring system, Traction control, Xenon headlights]</td>\n",
       "      <td>[\\n, Technik &amp; Sicherheit:, Xenon plus, Klimaautomatik, Einparkhilfe hinten, Scheinwerferreinigungsanlage, Nebelscheinwerfer, Zentralverriegelung mit Fernbedienung, Außenspiegel elek. einstellbar, Fensterheber elek, Start/Stop Anlage, 6 Airbag inkl. Kopfairbag, Euro 6, Multimedia:, Radio CD Concert, audi music interface, Handyvorbereitung (Bluetooth), Sprachsteuerung, USB Anschluss, Assistenzsysteme:, Lichtsensor, Regensensor, Berganfahrassistent, Reifendruckkontrolle, ESP inkl. ABS, Interie...</td>\n",
       "      <td>NaN</td>\n",
       "      <td>NaN</td>\n",
       "      <td>[\\nGermany\\n]</td>\n",
       "      <td>NaN</td>\n",
       "      <td>1</td>\n",
       "      <td>1</td>\n",
       "      <td>NaT</td>\n",
       "      <td>Metallic</td>\n",
       "      <td>Germany</td>\n",
       "      <td>NaN</td>\n",
       "      <td>Air conditioning,Armrest,Automatic climate control,Electrical side mirrors,Hill Holder,Leather steering wheel,Light sensor,Multi-function steering wheel,Park Distance Control,Parking assist system sensors rear,Power windows,Rain sensor,Start-stop system</td>\n",
       "      <td>1</td>\n",
       "      <td>0</td>\n",
       "      <td>1</td>\n",
       "      <td>1</td>\n",
       "      <td>0</td>\n",
       "      <td>0</td>\n",
       "      <td>0</td>\n",
       "      <td>0</td>\n",
       "      <td>1</td>\n",
       "      <td>0</td>\n",
       "      <td>0</td>\n",
       "      <td>0</td>\n",
       "      <td>0</td>\n",
       "      <td>1</td>\n",
       "      <td>0</td>\n",
       "      <td>0</td>\n",
       "      <td>1</td>\n",
       "      <td>1</td>\n",
       "      <td>0</td>\n",
       "      <td>0</td>\n",
       "      <td>1</td>\n",
       "      <td>0</td>\n",
       "      <td>0</td>\n",
       "      <td>1</td>\n",
       "      <td>0</td>\n",
       "      <td>0</td>\n",
       "      <td>0</td>\n",
       "      <td>1</td>\n",
       "      <td>1</td>\n",
       "      <td>1</td>\n",
       "      <td>0</td>\n",
       "      <td>0</td>\n",
       "      <td>0</td>\n",
       "      <td>1</td>\n",
       "      <td>0</td>\n",
       "      <td>0</td>\n",
       "      <td>0</td>\n",
       "      <td>0</td>\n",
       "      <td>Bluetooth,CD player,Hands-free equipment,MP3,On-board computer,Radio,USB</td>\n",
       "      <td>1</td>\n",
       "      <td>1</td>\n",
       "      <td>0</td>\n",
       "      <td>1</td>\n",
       "      <td>1</td>\n",
       "      <td>1</td>\n",
       "      <td>1</td>\n",
       "      <td>0</td>\n",
       "      <td>0</td>\n",
       "      <td>1</td>\n",
       "    </tr>\n",
       "  </tbody>\n",
       "</table>\n",
       "</div>"
      ],
      "text/plain": [
       "                                                                                                                                                url make_model                                   short_description body_type  price               vat         km registration      hp                                     Type Previous Owners                        Next Inspection                      Inspection new                          Warranty null      Make         Model     Offer Number First Registration       Body Color      Paint Type           Body Color Original          Upholstery Nr. of Doors Nr. of Seats      Model Code         Gearing Type    Displacement Cylinders  Drive chain                                   Fuel                                                               Consumption               CO2 Emission Emission Class                                                                                                                                                                                                                                                                                                     \\nComfort & Convenience\\n                                                                       \\nEntertainment & Media\\n                                                      \\nExtras\\n                                                                                                                                                                                                                                                                                 \\nSafety & Security\\n  \\\n",
       "0         https://www.autoscout24.com//offers/audi-a1-sportback-1-4-tdi-s-tronic-xenon-navi-klima-diesel-black-bdab349a-caa5-41b0-98eb-c1345b84445e    Audi A1         Sportback 1.4 TDI S-tronic Xenon Navi Klima    Sedans  15770    VAT deductible  56,013 km      01/2016   66 kW  [, Used, , Diesel (Particulate Filter)]           \\n2\\n  [\\n06/2021\\n, \\n99 g CO2/km (comb)\\n]               [\\nYes\\n, \\nEuro 6\\n]           [\\n, \\n, \\n4 (Green)\\n]   []  \\nAudi\\n  [\\n, A1, \\n]  [\\nLR-062483\\n]     [\\n, 2016, \\n]  [\\n, Black, \\n]  [\\nMetallic\\n]           [\\nMythosschwarz\\n]  [\\nCloth, Black\\n]      [\\n5\\n]      [\\n5\\n]  [\\n0588/BDF\\n]  [\\n, Automatic, \\n]  [\\n1,422 cc\\n]         3  [\\nfront\\n]  [\\n, Diesel (Particulate Filter), \\n]  [[3.8 l/100 km (comb)], [4.3 l/100 km (city)], [3.5 l/100 km (country)]]   [\\n99 g CO2/km (comb)\\n]   [\\nEuro 6\\n]  [Air conditioning, Armrest, Automatic climate control, Cruise control, Electrical side mirrors, Hill Holder, Leather steering wheel, Light sensor, Multi-function steering wheel, Navigation system, Park Distance Control, Parking assist system sensors rear, Power windows, Rain sensor, Seat heating, Start-stop system]                                     [Bluetooth, Hands-free equipment, On-board computer, Radio]              [Alloy wheels, Catalytic Converter, Voice Control]                                          [ABS, Central door lock, Daytime running lights, Driver-side airbag, Electronic stability control, Fog lights, Immobilizer, Isofix, Passenger-side airbag, Power steering, Side airbag, Tire pressure monitoring system, Traction control, Xenon headlights]   \n",
       "1                                      https://www.autoscout24.com//offers/audi-a1-1-8-tfsi-sport-gasoline-red-b2547f8a-e83f-6237-e053-e250040a56df    Audi A1                                      1.8 TFSI sport    Sedans  14500  Price negotiable  80,000 km      03/2017  141 kW                     [, Used, , Gasoline]             NaN                                    NaN                                 NaN                               NaN   []  \\nAudi\\n  [\\n, A1, \\n]              NaN     [\\n, 2017, \\n]    [\\n, Red, \\n]             NaN                           NaN   [\\nCloth, Grey\\n]      [\\n3\\n]      [\\n4\\n]  [\\n0588/BCY\\n]  [\\n, Automatic, \\n]  [\\n1,798 cc\\n]         4  [\\nfront\\n]                     [\\n, Gasoline, \\n]  [[5.6 l/100 km (comb)], [7.1 l/100 km (city)], [4.7 l/100 km (country)]]  [\\n129 g CO2/km (comb)\\n]   [\\nEuro 6\\n]                                                                                                                                      [Air conditioning, Automatic climate control, Hill Holder, Leather steering wheel, Lumbar support, Parking assist system sensors rear, Power windows, Start-stop system, Tinted windows]                       [Bluetooth, Hands-free equipment, On-board computer, Radio, Sound system]    [Alloy wheels, Sport seats, Sport suspension, Voice Control]  [ABS, Central door lock, Central door lock with remote control, Daytime running lights, Driver-side airbag, Electronic stability control, Head airbag, Immobilizer, Isofix, Passenger-side airbag, Power steering, Side airbag, Tire pressure monitoring system, Traction control, Xenon headlights]   \n",
       "2  https://www.autoscout24.com//offers/audi-a1-sportback-1-6-tdi-s-tronic-einparkhilfe-plus-music-diesel-black-6183cb6a-8570-4b86-a132-9b54214bca88    Audi A1  Sportback 1.6 TDI S tronic Einparkhilfe plus+music    Sedans  14640    VAT deductible  83,450 km      02/2016   85 kW  [, Used, , Diesel (Particulate Filter)]           \\n1\\n                                    NaN                                 NaN  [\\n, \\n, \\n99 g CO2/km (comb)\\n]   []  \\nAudi\\n  [\\n, A1, \\n]   [\\nAM-95365\\n]     [\\n, 2016, \\n]  [\\n, Black, \\n]  [\\nMetallic\\n]  [\\nmythosschwarz metallic\\n]  [\\nCloth, Black\\n]      [\\n4\\n]      [\\n4\\n]             NaN  [\\n, Automatic, \\n]  [\\n1,598 cc\\n]       NaN  [\\nfront\\n]  [\\n, Diesel (Particulate Filter), \\n]  [[3.8 l/100 km (comb)], [4.4 l/100 km (city)], [3.4 l/100 km (country)]]   [\\n99 g CO2/km (comb)\\n]   [\\nEuro 6\\n]                            [Air conditioning, Cruise control, Electrical side mirrors, Hill Holder, Leather steering wheel, Multi-function steering wheel, Navigation system, Park Distance Control, Parking assist system sensors front, Parking assist system sensors rear, Power windows, Seat heating, Start-stop system]                                                                        [MP3, On-board computer]                                   [Alloy wheels, Voice Control]                                                                        [ABS, Central door lock, Daytime running lights, Driver-side airbag, Electronic stability control, Immobilizer, Isofix, Passenger-side airbag, Power steering, Side airbag, Tire pressure monitoring system, Traction control]   \n",
       "3                             https://www.autoscout24.com//offers/audi-a1-1-4-tdi-design-s-tronic-diesel-brown-35c86585-2727-d61e-e053-e250040ad640    Audi A1                             1.4 TDi Design S tronic    Sedans  14500              None  73,000 km      08/2016   66 kW  [, Used, , Diesel (Particulate Filter)]           \\n1\\n                                    NaN                                 NaN                               NaN   []  \\nAudi\\n  [\\n, A1, \\n]              NaN     [\\n, 2016, \\n]  [\\n, Brown, \\n]  [\\nMetallic\\n]                           NaN                 NaN      [\\n3\\n]      [\\n4\\n]             NaN  [\\n, Automatic, \\n]  [\\n1,422 cc\\n]         3          NaN  [\\n, Diesel (Particulate Filter), \\n]  [[3.8 l/100 km (comb)], [4.3 l/100 km (city)], [3.5 l/100 km (country)]]   [\\n99 g CO2/km (comb)\\n]   [\\nEuro 6\\n]                                   [Air suspension, Armrest, Auxiliary heating, Electrical side mirrors, Heads-up display, Hill Holder, Leather steering wheel, Light sensor, Lumbar support, Multi-function steering wheel, Navigation system, Power windows, Rain sensor, Seat heating, Split rear seats, Start-stop system]  [Bluetooth, CD player, Hands-free equipment, MP3, On-board computer, Radio, Sound system, USB]                      [Alloy wheels, Sport seats, Voice Control]                    [ABS, Alarm system, Central door lock with remote control, Driver drowsiness detection, Driver-side airbag, Electronic stability control, Emergency system, Head airbag, Immobilizer, Isofix, Passenger-side airbag, Power steering, Side airbag, Tire pressure monitoring system]   \n",
       "4    https://www.autoscout24.com//offers/audi-a1-sportback-1-4-tdi-s-tronic-s-line-ext-admired-xe-diesel-black-b86b55d8-9c7c-4a58-b658-b97008a51efc    Audi A1  Sportback 1.4 TDI S-Tronic S-Line Ext. admired, Xe    Sedans  16790              None  16,200 km      05/2016   66 kW  [, Used, , Diesel (Particulate Filter)]           \\n1\\n                                    NaN  [\\nYes\\n, \\n109 g CO2/km (comb)\\n]              [\\n, \\n, \\nEuro 6\\n]   []  \\nAudi\\n  [\\n, A1, \\n]      [\\nC1626\\n]     [\\n, 2016, \\n]  [\\n, Black, \\n]  [\\nMetallic\\n]  [\\nMythosschwarz Metallic\\n]  [\\nCloth, Black\\n]      [\\n5\\n]      [\\n5\\n]  [\\n0588/BDF\\n]  [\\n, Automatic, \\n]  [\\n1,422 cc\\n]         3  [\\nfront\\n]  [\\n, Diesel (Particulate Filter), \\n]  [[4.1 l/100 km (comb)], [4.6 l/100 km (city)], [3.8 l/100 km (country)]]  [\\n109 g CO2/km (comb)\\n]   [\\nEuro 6\\n]                                                   [Air conditioning, Armrest, Automatic climate control, Electrical side mirrors, Hill Holder, Leather steering wheel, Light sensor, Multi-function steering wheel, Park Distance Control, Parking assist system sensors rear, Power windows, Rain sensor, Start-stop system]                [Bluetooth, CD player, Hands-free equipment, MP3, On-board computer, Radio, USB]  [Alloy wheels, Sport package, Sport suspension, Voice Control]                                                                  [ABS, Central door lock, Driver-side airbag, Electronic stability control, Fog lights, Immobilizer, Isofix, Passenger-side airbag, Power steering, Side airbag, Tire pressure monitoring system, Traction control, Xenon headlights]   \n",
       "\n",
       "                                                                                                                                                                                                                                                                                                                                                                                                                                                                                                           description   Emission Label    Gears Country version Previous_Owner1 Previous_Owner  Inspection_New_Bool next_inspection paint_type  country emission_label                                                                                                                                                                                                                                                                                          Comfort&Convenience  cc_Air conditioning  cc_Air suspension  cc_Armrest  cc_Automatic climate control  cc_Auxiliary heating  cc_Cruise control  cc_Electric Starter  cc_Electric tailgate  cc_Electrical side mirrors  cc_Electrically adjustable seats  cc_Electrically heated windshield  cc_Heads-up display  cc_Heated steering wheel  cc_Hill Holder  cc_Keyless central door lock  cc_Leather seats  cc_Leather steering wheel  cc_Light sensor  cc_Lumbar support  cc_Massage seats  cc_Multi-function steering wheel  cc_Navigation system  cc_Panorama roof  cc_Park Distance Control  cc_Parking assist system camera  cc_Parking assist system self-steering  cc_Parking assist system sensors front  cc_Parking assist system sensors rear  cc_Power windows  cc_Rain sensor  cc_Seat heating  cc_Seat ventilation  cc_Split rear seats  cc_Start-stop system  cc_Sunroof  cc_Tinted windows  cc_Wind deflector  cc_Windshield                                                                    Entertainment&Media  em_Bluetooth  em_CD player  em_Digital radio  em_Hands-free equipment  \\\n",
       "0  [\\n, Sicherheit:,  , Deaktivierung für Beifahrer-Airbag,  , ESC mit elektronischer Quersperre,  , Tagfahrlicht,  , Reifendruck-Kontrollanzeige,  , Kopfairbag-System mit Seiten-Airbags vorn,  , Sicherheitslenksäule, Assistenzsysteme:,  , Berganfahrassistent, Komfort:,  , Scheinwerferreinigung,  , Xenon plus inklusive Scheinwerfer-Reinigungsanlage,  , Scheinwerfer-Reinigungsanlage,  , Einparkhilfe hinten,  , Licht-/Regensensor,  , Funkfernbedienung,  , Elektrische Luftzusatzheizung, Interieur:...              NaN      NaN             NaN             NaN              2                    1      2021-06-01   Metallic      NaN            NaN  Air conditioning,Armrest,Automatic climate control,Cruise control,Electrical side mirrors,Hill Holder,Leather steering wheel,Light sensor,Multi-function steering wheel,Navigation system,Park Distance Control,Parking assist system sensors rear,Power windows,Rain sensor,Seat heating,Start-stop system                    1                  0           1                             1                     0                  1                    0                     0                           1                                 0                                  0                    0                         0               1                             0                 0                          1                1                  0                 0                                 1                     1                 0                         1                                0                                       0                                       0                                      1                 1               1                1                    0                    0                     1           0                  0                  0              0                                 Bluetooth,Hands-free equipment,On-board computer,Radio             1             0                 0                        1   \n",
       "1                                                                                                                                                                                                                                                                                                                                                                                                         [\\nLangstreckenfahrzeug daher die hohe Kilometerleistung. , Bremsen neu bei 62000 km. , Gut gepflegter A1\\n]  [\\n4 (Green)\\n]  [\\n7\\n]             NaN             NaN              1                    0             NaT        NaN      NaN      4 (Green)                                                                                                                               Air conditioning,Automatic climate control,Hill Holder,Leather steering wheel,Lumbar support,Parking assist system sensors rear,Power windows,Start-stop system,Tinted windows                    1                  0           0                             1                     0                  0                    0                     0                           0                                 0                                  0                    0                         0               1                             0                 0                          1                0                  1                 0                                 0                     0                 0                         0                                0                                       0                                       0                                      1                 1               0                0                    0                    0                     1           0                  1                  0              0                    Bluetooth,Hands-free equipment,On-board computer,Radio,Sound system             1             0                 0                        1   \n",
       "2  [\\n, Fahrzeug-Nummer: AM-95365,  , Ehem. UPE 24.640 EUR,  , Komfort,  , Klimaanlage,  , Elektrische Fensterheber,  , Sitzheizung,  , Tempomat,  , Zentralverriegelung,  , Leder-Lenkrad,  , Elektrische Spiegel,  , Wärmedämmendes Glas,  , Anfahrassistent,  , Sicherheit,  , Window/Kopfairbags,  , ESP (el. Stabilitäts Programm),  , Elektronische Wegfahrsperre,  , Reifendruckkontrolle,  , Tagfahrlicht,  , Exterieur,  , Alufelgen 16 Zoll,  , Einparkhilfe vo + hi,  , Interieur,  , Stoff Zeitgeist,  ...  [\\n4 (Green)\\n]      NaN             NaN             NaN              1                    0             NaT   Metallic      NaN      4 (Green)                         Air conditioning,Cruise control,Electrical side mirrors,Hill Holder,Leather steering wheel,Multi-function steering wheel,Navigation system,Park Distance Control,Parking assist system sensors front,Parking assist system sensors rear,Power windows,Seat heating,Start-stop system                    1                  0           0                             0                     0                  1                    0                     0                           1                                 0                                  0                    0                         0               1                             0                 0                          1                0                  0                 0                                 1                     1                 0                         1                                0                                       0                                       1                                      1                 1               0                1                    0                    0                     1           0                  0                  0              0                                                                  MP3,On-board computer             0             0                 0                        0   \n",
       "3                                                                                                                                                                                                                                                                             [\\nAudi A1: , - 1e eigenaar , - Perfecte staat: schade/ongevalvrij , - Onderhoudsboekje Audi garage , - Full option!, - S-line opties, - Automaat, lederen bekleding, navi-pro, Xenon lampen, zetelverwarming, automatische airco,...\\n]              NaN  [\\n6\\n]             NaN             NaN              1                    0             NaT   Metallic      NaN            NaN                                   Air suspension,Armrest,Auxiliary heating,Electrical side mirrors,Heads-up display,Hill Holder,Leather steering wheel,Light sensor,Lumbar support,Multi-function steering wheel,Navigation system,Power windows,Rain sensor,Seat heating,Split rear seats,Start-stop system                    0                  1           1                             0                     1                  0                    0                     0                           1                                 0                                  0                    1                         0               1                             0                 0                          1                1                  1                 0                                 1                     1                 0                         0                                0                                       0                                       0                                      0                 1               1                1                    0                    1                     1           0                  0                  0              0  Bluetooth,CD player,Hands-free equipment,MP3,On-board computer,Radio,Sound system,USB             1             1                 0                        1   \n",
       "4  [\\n, Technik & Sicherheit:, Xenon plus, Klimaautomatik, Einparkhilfe hinten, Scheinwerferreinigungsanlage, Nebelscheinwerfer, Zentralverriegelung mit Fernbedienung, Außenspiegel elek. einstellbar, Fensterheber elek, Start/Stop Anlage, 6 Airbag inkl. Kopfairbag, Euro 6, Multimedia:, Radio CD Concert, audi music interface, Handyvorbereitung (Bluetooth), Sprachsteuerung, USB Anschluss, Assistenzsysteme:, Lichtsensor, Regensensor, Berganfahrassistent, Reifendruckkontrolle, ESP inkl. ABS, Interie...              NaN      NaN   [\\nGermany\\n]             NaN              1                    1             NaT   Metallic  Germany            NaN                                                Air conditioning,Armrest,Automatic climate control,Electrical side mirrors,Hill Holder,Leather steering wheel,Light sensor,Multi-function steering wheel,Park Distance Control,Parking assist system sensors rear,Power windows,Rain sensor,Start-stop system                    1                  0           1                             1                     0                  0                    0                     0                           1                                 0                                  0                    0                         0               1                             0                 0                          1                1                  0                 0                                 1                     0                 0                         1                                0                                       0                                       0                                      1                 1               1                0                    0                    0                     1           0                  0                  0              0               Bluetooth,CD player,Hands-free equipment,MP3,On-board computer,Radio,USB             1             1                 0                        1   \n",
       "\n",
       "   em_MP3  em_On-board computer  em_Radio  em_Sound system  em_Television  em_USB  \n",
       "0       0                     1         1                0              0       0  \n",
       "1       0                     1         1                1              0       0  \n",
       "2       1                     1         0                0              0       0  \n",
       "3       1                     1         1                1              0       1  \n",
       "4       1                     1         1                0              0       1  "
      ]
     },
     "execution_count": 2047,
     "metadata": {},
     "output_type": "execute_result"
    }
   ],
   "source": [
    "data.head()"
   ]
  },
  {
   "cell_type": "markdown",
   "metadata": {},
   "source": [
    "## \\nExtras\\n"
   ]
  },
  {
   "cell_type": "code",
   "execution_count": 2048,
   "metadata": {},
   "outputs": [
    {
     "data": {
      "text/plain": [
       "18.60669640052767"
      ]
     },
     "execution_count": 2048,
     "metadata": {},
     "output_type": "execute_result"
    }
   ],
   "source": [
    "data['\\nExtras\\n'].isnull().sum()/ len(data['\\nExtras\\n'])*100"
   ]
  },
  {
   "cell_type": "code",
   "execution_count": 2049,
   "metadata": {},
   "outputs": [
    {
     "ename": "TypeError",
     "evalue": "unhashable type: 'list'",
     "output_type": "error",
     "traceback": [
      "\u001b[0;31m---------------------------------------------------------------------------\u001b[0m",
      "\u001b[0;31mTypeError\u001b[0m                                 Traceback (most recent call last)",
      "\u001b[0;32mpandas/_libs/hashtable_class_helper.pxi\u001b[0m in \u001b[0;36mpandas._libs.hashtable.PyObjectHashTable.map_locations\u001b[0;34m()\u001b[0m\n",
      "\u001b[0;31mTypeError\u001b[0m: unhashable type: 'list'"
     ]
    },
    {
     "name": "stderr",
     "output_type": "stream",
     "text": [
      "Exception ignored in: 'pandas._libs.index.IndexEngine._call_map_locations'\n",
      "Traceback (most recent call last):\n",
      "  File \"pandas/_libs/hashtable_class_helper.pxi\", line 1652, in pandas._libs.hashtable.PyObjectHashTable.map_locations\n",
      "TypeError: unhashable type: 'list'\n"
     ]
    },
    {
     "data": {
      "text/plain": [
       "[Alloy wheels]                                                                                         3245\n",
       "NaN                                                                                                    2962\n",
       "[Alloy wheels, Touch screen]                                                                            697\n",
       "[Alloy wheels, Voice Control]                                                                           577\n",
       "[Alloy wheels, Touch screen, Voice Control]                                                             541\n",
       "                                                                                                       ... \n",
       "[Alloy wheels, Sport suspension, Touch screen, Trailer hitch, Voice Control]                              1\n",
       "[Alloy wheels, Catalytic Converter, Handicapped enabled, Touch screen, Voice Control, Winter tyres]       1\n",
       "[Ski bag, Sport suspension]                                                                               1\n",
       "[Alloy wheels, Sport package, Sport seats, Sport suspension, Tuned car]                                   1\n",
       "[Sport seats, Sport suspension, Voice Control]                                                            1\n",
       "Name: \\nExtras\\n, Length: 660, dtype: int64"
      ]
     },
     "execution_count": 2049,
     "metadata": {},
     "output_type": "execute_result"
    }
   ],
   "source": [
    "data['\\nExtras\\n'].value_counts(dropna = False)"
   ]
  },
  {
   "cell_type": "code",
   "execution_count": 2050,
   "metadata": {},
   "outputs": [
    {
     "data": {
      "text/plain": [
       "['Alloy wheels,Catalytic Converter,Voice Control',\n",
       " 'Alloy wheels,Sport seats,Sport suspension,Voice Control',\n",
       " 'Alloy wheels,Voice Control',\n",
       " 'Alloy wheels,Sport seats,Voice Control',\n",
       " 'Alloy wheels,Sport package,Sport suspension,Voice Control',\n",
       " 'Alloy wheels,Sport package,Sport seats,Sport suspension',\n",
       " 'Alloy wheels,Sport package,Sport seats,Sport suspension',\n",
       " 'Alloy wheels',\n",
       " 'Alloy wheels',\n",
       " nan,\n",
       " 'Alloy wheels,Shift paddles',\n",
       " 'Alloy wheels,Sport seats',\n",
       " 'Alloy wheels,Catalytic Converter,Sport package,Sport seats,Sport suspension,Voice Control',\n",
       " 'Alloy wheels,Sport seats,Sport suspension',\n",
       " 'Alloy wheels,Sport seats,Sport suspension',\n",
       " 'Alloy wheels',\n",
       " 'Alloy wheels,Sport package,Sport seats',\n",
       " 'Alloy wheels,Sport package',\n",
       " 'Alloy wheels',\n",
       " 'Alloy wheels,Catalytic Converter,Shift paddles,Voice Control',\n",
       " 'Alloy wheels,Shift paddles,Sport package,Voice Control',\n",
       " 'Alloy wheels,Sport seats,Voice Control',\n",
       " 'Alloy wheels,Catalytic Converter,Sport seats,Voice Control,Winter tyres',\n",
       " 'Alloy wheels',\n",
       " 'Alloy wheels,Voice Control',\n",
       " 'Alloy wheels,Winter tyres',\n",
       " 'Alloy wheels,Voice Control',\n",
       " 'Alloy wheels',\n",
       " 'Alloy wheels',\n",
       " 'Alloy wheels',\n",
       " nan,\n",
       " 'Alloy wheels,Catalytic Converter',\n",
       " 'Alloy wheels,Catalytic Converter',\n",
       " 'Catalytic Converter',\n",
       " 'Alloy wheels',\n",
       " 'Catalytic Converter',\n",
       " nan,\n",
       " 'Alloy wheels',\n",
       " 'Alloy wheels,Sport seats,Sport suspension',\n",
       " 'Alloy wheels,Sport suspension',\n",
       " 'Catalytic Converter',\n",
       " 'Alloy wheels',\n",
       " 'Alloy wheels',\n",
       " 'Alloy wheels',\n",
       " nan,\n",
       " 'Alloy wheels,Voice Control',\n",
       " 'Alloy wheels',\n",
       " 'Alloy wheels',\n",
       " 'Alloy wheels,Sport seats,Sport suspension',\n",
       " 'Catalytic Converter,Sport suspension,Voice Control',\n",
       " 'Alloy wheels,Sport seats',\n",
       " nan,\n",
       " 'Alloy wheels,Sport seats,Sport suspension',\n",
       " nan,\n",
       " 'Catalytic Converter',\n",
       " 'Alloy wheels',\n",
       " nan,\n",
       " 'Alloy wheels',\n",
       " 'Alloy wheels,Sport seats,Sport suspension',\n",
       " 'Alloy wheels',\n",
       " 'Alloy wheels,Touch screen,Voice Control',\n",
       " 'Alloy wheels,Catalytic Converter,Voice Control',\n",
       " 'Catalytic Converter,Voice Control,Winter tyres',\n",
       " 'Alloy wheels',\n",
       " nan,\n",
       " 'Alloy wheels',\n",
       " 'Alloy wheels,Sport seats',\n",
       " 'Alloy wheels',\n",
       " 'Alloy wheels,Shift paddles,Sport package,Sport seats,Sport suspension,Voice Control',\n",
       " 'Alloy wheels,Sport seats,Voice Control',\n",
       " 'Alloy wheels,Sport seats,Sport suspension',\n",
       " 'Alloy wheels,Sport seats,Sport suspension',\n",
       " 'Alloy wheels,Sport seats,Sport suspension,Voice Control',\n",
       " 'Alloy wheels,Catalytic Converter,Sport seats,Voice Control',\n",
       " 'Alloy wheels,Sport seats',\n",
       " 'Alloy wheels,Sport package,Sport seats,Voice Control',\n",
       " 'Alloy wheels,Sport seats,Voice Control',\n",
       " 'Alloy wheels,Sport seats,Sport suspension,Voice Control',\n",
       " 'Alloy wheels,Catalytic Converter,Sport package,Sport seats,Voice Control',\n",
       " 'Alloy wheels,Sport seats,Sport suspension',\n",
       " 'Alloy wheels',\n",
       " 'Alloy wheels,Catalytic Converter,Shift paddles,Voice Control',\n",
       " 'Alloy wheels,Catalytic Converter,Sport seats,Sport suspension',\n",
       " 'Alloy wheels,Shift paddles,Sport suspension,Voice Control',\n",
       " 'Alloy wheels',\n",
       " 'Alloy wheels,Catalytic Converter,Sport package,Sport seats,Sport suspension',\n",
       " 'Alloy wheels',\n",
       " 'Alloy wheels,Sport seats',\n",
       " 'Alloy wheels,Catalytic Converter,Sport seats,Sport suspension',\n",
       " 'Alloy wheels,Catalytic Converter,Sport package,Sport seats,Sport suspension,Voice Control',\n",
       " 'Alloy wheels,Voice Control',\n",
       " 'Alloy wheels,Sport seats',\n",
       " 'Alloy wheels,Catalytic Converter,Sport package,Sport seats',\n",
       " 'Alloy wheels,Sport package,Sport seats',\n",
       " 'Alloy wheels',\n",
       " nan,\n",
       " nan,\n",
       " 'Alloy wheels',\n",
       " 'Alloy wheels,Catalytic Converter,Handicapped enabled,Shift paddles,Voice Control',\n",
       " 'Sport seats,Sport suspension',\n",
       " nan,\n",
       " nan,\n",
       " nan,\n",
       " nan,\n",
       " 'Alloy wheels,Sport package,Sport seats',\n",
       " 'Alloy wheels,Sport package,Sport seats',\n",
       " 'Alloy wheels,Sport package,Sport seats',\n",
       " nan,\n",
       " 'Alloy wheels,Sport package,Sport seats',\n",
       " 'Alloy wheels,Sport suspension',\n",
       " 'Alloy wheels,Sport package,Sport seats',\n",
       " nan,\n",
       " 'Alloy wheels,Voice Control',\n",
       " 'Alloy wheels,Sport package,Sport seats',\n",
       " 'Alloy wheels,Catalytic Converter,Sport seats',\n",
       " 'Alloy wheels',\n",
       " 'Catalytic Converter,Sport seats,Sport suspension',\n",
       " 'Alloy wheels,Catalytic Converter,Sport seats,Voice Control',\n",
       " 'Alloy wheels',\n",
       " 'Alloy wheels,Sport seats,Voice Control',\n",
       " 'Alloy wheels,Sport seats',\n",
       " 'Alloy wheels,Voice Control',\n",
       " nan,\n",
       " 'Alloy wheels',\n",
       " 'Alloy wheels,Sport package,Sport seats,Sport suspension',\n",
       " 'Alloy wheels,Sport package,Winter tyres',\n",
       " 'Sport seats,Sport suspension',\n",
       " 'Alloy wheels,Catalytic Converter,Sport package,Sport seats,Voice Control',\n",
       " 'Alloy wheels,Sport seats',\n",
       " 'Alloy wheels,Sport seats',\n",
       " 'Alloy wheels',\n",
       " nan,\n",
       " 'Alloy wheels,Trailer hitch,Voice Control',\n",
       " 'Alloy wheels,Sport seats,Voice Control',\n",
       " 'Alloy wheels',\n",
       " 'Alloy wheels,Sport seats',\n",
       " 'Alloy wheels,Sport seats,Voice Control',\n",
       " 'Alloy wheels,Sport seats,Voice Control',\n",
       " 'Alloy wheels,Catalytic Converter,Handicapped enabled',\n",
       " 'Alloy wheels,Sport seats',\n",
       " 'Alloy wheels,Sport seats',\n",
       " 'Alloy wheels',\n",
       " 'Alloy wheels,Catalytic Converter,Shift paddles,Sport package,Sport suspension,Voice Control',\n",
       " 'Alloy wheels,Sport package,Sport seats,Sport suspension',\n",
       " 'Alloy wheels,Sport seats',\n",
       " 'Alloy wheels,Catalytic Converter,Shift paddles',\n",
       " 'Alloy wheels,Catalytic Converter',\n",
       " 'Alloy wheels,Sport package,Sport suspension',\n",
       " 'Alloy wheels,Sport seats,Sport suspension',\n",
       " 'Alloy wheels,Catalytic Converter,Sport seats',\n",
       " 'Alloy wheels,Sport seats',\n",
       " nan,\n",
       " 'Alloy wheels,Sport package,Voice Control',\n",
       " 'Alloy wheels,Catalytic Converter,Voice Control',\n",
       " nan,\n",
       " 'Alloy wheels,Catalytic Converter',\n",
       " 'Alloy wheels,Sport seats,Sport suspension',\n",
       " 'Alloy wheels,Sport seats',\n",
       " 'Alloy wheels',\n",
       " 'Alloy wheels',\n",
       " 'Alloy wheels,Catalytic Converter,Sport seats,Voice Control',\n",
       " 'Alloy wheels,Sport seats,Voice Control',\n",
       " 'Alloy wheels,Sport seats,Voice Control',\n",
       " nan,\n",
       " 'Alloy wheels,Sport package,Sport seats',\n",
       " 'Alloy wheels,Sport package,Sport seats,Sport suspension',\n",
       " 'Alloy wheels,Shift paddles',\n",
       " 'Alloy wheels,Sport package,Sport seats,Voice Control',\n",
       " 'Alloy wheels',\n",
       " 'Alloy wheels,Sport seats,Sport suspension',\n",
       " 'Sport seats',\n",
       " 'Alloy wheels,Sport package',\n",
       " 'Alloy wheels,Voice Control',\n",
       " nan,\n",
       " 'Alloy wheels,Cab or rented Car',\n",
       " 'Alloy wheels,Sport seats,Voice Control',\n",
       " 'Alloy wheels,Sport seats',\n",
       " 'Alloy wheels,Sport package,Sport seats,Sport suspension',\n",
       " 'Alloy wheels,Sport seats,Sport suspension',\n",
       " 'Alloy wheels,Catalytic Converter',\n",
       " 'Alloy wheels,Sport seats,Voice Control',\n",
       " 'Alloy wheels,Sport seats',\n",
       " 'Alloy wheels,Sport seats',\n",
       " 'Alloy wheels,Catalytic Converter,Voice Control',\n",
       " 'Alloy wheels,Sport package,Sport seats,Sport suspension,Voice Control',\n",
       " 'Alloy wheels,Voice Control',\n",
       " 'Alloy wheels,Catalytic Converter,Voice Control',\n",
       " 'Alloy wheels,Sport package,Voice Control',\n",
       " 'Alloy wheels,Sport package,Sport seats,Sport suspension,Voice Control',\n",
       " 'Sport suspension',\n",
       " 'Alloy wheels',\n",
       " nan,\n",
       " 'Alloy wheels,Catalytic Converter,Sport seats,Sport suspension',\n",
       " 'Alloy wheels',\n",
       " 'Alloy wheels,Sport seats,Voice Control',\n",
       " 'Alloy wheels',\n",
       " 'Sport seats,Sport suspension',\n",
       " 'Alloy wheels,Catalytic Converter,Voice Control',\n",
       " 'Alloy wheels',\n",
       " 'Alloy wheels',\n",
       " 'Alloy wheels,Sport package,Sport seats,Sport suspension',\n",
       " 'Alloy wheels,Catalytic Converter,Voice Control',\n",
       " 'Alloy wheels,Sport seats',\n",
       " nan,\n",
       " 'Alloy wheels,Catalytic Converter,Sport seats,Sport suspension',\n",
       " 'Alloy wheels',\n",
       " 'Alloy wheels,Sport package,Sport seats,Voice Control',\n",
       " 'Alloy wheels,Sport seats,Sport suspension',\n",
       " 'Alloy wheels',\n",
       " 'Alloy wheels,Sport package',\n",
       " 'Alloy wheels,Sport seats',\n",
       " 'Alloy wheels,Voice Control',\n",
       " 'Alloy wheels',\n",
       " 'Alloy wheels',\n",
       " 'Alloy wheels,Sport package',\n",
       " 'Alloy wheels,Catalytic Converter,Voice Control',\n",
       " 'Alloy wheels,Sport package,Sport seats,Voice Control',\n",
       " 'Alloy wheels',\n",
       " 'Alloy wheels,Sport seats',\n",
       " 'Alloy wheels,Sport seats,Voice Control',\n",
       " 'Alloy wheels',\n",
       " 'Alloy wheels,Catalytic Converter,Sport package,Sport suspension,Voice Control',\n",
       " 'Alloy wheels',\n",
       " 'Alloy wheels,Catalytic Converter,Sport seats',\n",
       " 'Alloy wheels,Catalytic Converter',\n",
       " 'Alloy wheels',\n",
       " nan,\n",
       " 'Alloy wheels,Sport seats,Voice Control',\n",
       " nan,\n",
       " nan,\n",
       " 'Alloy wheels,Sport package,Sport seats,Sport suspension,Voice Control',\n",
       " nan,\n",
       " 'Alloy wheels,Shift paddles',\n",
       " 'Alloy wheels,Sport seats,Sport suspension',\n",
       " 'Alloy wheels,Sport seats',\n",
       " 'Alloy wheels,Catalytic Converter,Voice Control',\n",
       " 'Alloy wheels,Catalytic Converter',\n",
       " 'Alloy wheels',\n",
       " 'Alloy wheels,Sport seats,Voice Control',\n",
       " 'Alloy wheels',\n",
       " 'Alloy wheels,Sport package,Sport seats,Sport suspension,Voice Control',\n",
       " 'Alloy wheels,Sport seats,Voice Control',\n",
       " 'Alloy wheels',\n",
       " 'Alloy wheels',\n",
       " 'Alloy wheels,Shift paddles,Sport package,Voice Control',\n",
       " nan,\n",
       " 'Alloy wheels,Voice Control,Winter tyres',\n",
       " 'Alloy wheels',\n",
       " 'Sport package,Sport seats,Sport suspension,Voice Control',\n",
       " 'Alloy wheels,Catalytic Converter,Sport package,Sport seats,Sport suspension,Touch screen,Voice Control',\n",
       " 'Alloy wheels,Sport seats,Sport suspension',\n",
       " 'Alloy wheels,Sport seats,Sport suspension,Voice Control',\n",
       " 'Sport seats',\n",
       " 'Alloy wheels,Catalytic Converter',\n",
       " 'Alloy wheels,Sport package,Sport seats,Voice Control',\n",
       " 'Alloy wheels,Sport seats,Voice Control',\n",
       " 'Alloy wheels,Sport suspension',\n",
       " 'Alloy wheels,Sport seats,Sport suspension',\n",
       " 'Alloy wheels,Catalytic Converter,Sport seats,Voice Control',\n",
       " 'Alloy wheels,Sport seats,Sport suspension,Voice Control',\n",
       " 'Alloy wheels,Voice Control',\n",
       " nan,\n",
       " 'Alloy wheels',\n",
       " 'Alloy wheels',\n",
       " 'Alloy wheels,Sport seats',\n",
       " 'Alloy wheels,Sport seats',\n",
       " 'Alloy wheels,Shift paddles,Sport package,Sport seats',\n",
       " 'Alloy wheels,Voice Control',\n",
       " 'Alloy wheels,Sport package,Sport seats,Winter tyres',\n",
       " 'Alloy wheels',\n",
       " 'Alloy wheels,Sport seats,Sport suspension',\n",
       " 'Alloy wheels,Sport seats',\n",
       " 'Alloy wheels,Sport seats',\n",
       " 'Alloy wheels,Catalytic Converter,Voice Control',\n",
       " 'Alloy wheels',\n",
       " 'Alloy wheels,Sport package,Sport seats,Voice Control',\n",
       " 'Alloy wheels,Shift paddles,Sport seats',\n",
       " nan,\n",
       " 'Alloy wheels,Sport seats',\n",
       " 'Alloy wheels,Sport seats,Voice Control',\n",
       " 'Alloy wheels,Sport package,Sport seats,Sport suspension,Voice Control',\n",
       " 'Sport seats,Sport suspension',\n",
       " 'Alloy wheels,Roof rack,Sport seats',\n",
       " 'Catalytic Converter',\n",
       " 'Alloy wheels,Voice Control',\n",
       " 'Voice Control',\n",
       " 'Alloy wheels',\n",
       " 'Alloy wheels,Sport package,Sport seats,Sport suspension',\n",
       " 'Alloy wheels,Sport package,Sport seats,Voice Control',\n",
       " 'Alloy wheels,Sport seats',\n",
       " 'Alloy wheels,Catalytic Converter,Sport package,Sport seats,Sport suspension',\n",
       " 'Alloy wheels,Sport package,Sport seats,Sport suspension',\n",
       " 'Alloy wheels,Sport package,Sport seats,Sport suspension',\n",
       " 'Alloy wheels,Sport package,Sport seats,Sport suspension',\n",
       " 'Alloy wheels,Sport package,Sport seats,Sport suspension',\n",
       " 'Alloy wheels,Sport package,Sport seats,Sport suspension',\n",
       " 'Alloy wheels,Sport package,Sport seats,Sport suspension',\n",
       " 'Alloy wheels,Sport package,Sport seats,Sport suspension',\n",
       " 'Alloy wheels,Sport package,Sport seats,Sport suspension',\n",
       " 'Alloy wheels,Catalytic Converter',\n",
       " 'Alloy wheels,Sport package,Sport seats,Sport suspension',\n",
       " 'Voice Control',\n",
       " 'Alloy wheels,Sport package,Sport seats,Sport suspension',\n",
       " 'Alloy wheels,Sport seats',\n",
       " 'Alloy wheels,Catalytic Converter,Sport seats,Voice Control',\n",
       " nan,\n",
       " 'Alloy wheels',\n",
       " 'Voice Control',\n",
       " 'Sport seats,Sport suspension',\n",
       " 'Alloy wheels',\n",
       " 'Alloy wheels,Sport package',\n",
       " 'Alloy wheels,Sport package,Sport seats,Sport suspension',\n",
       " 'Alloy wheels,Sport package,Sport seats,Sport suspension',\n",
       " 'Alloy wheels,Sport package,Sport seats,Sport suspension',\n",
       " 'Alloy wheels,Sport package,Sport seats,Sport suspension',\n",
       " 'Alloy wheels,Sport package,Sport seats,Sport suspension',\n",
       " 'Alloy wheels,Sport package,Sport seats,Sport suspension',\n",
       " 'Alloy wheels,Sport package,Sport seats,Sport suspension',\n",
       " 'Alloy wheels,Sport package,Sport seats,Sport suspension',\n",
       " 'Alloy wheels,Sport package,Sport seats,Sport suspension',\n",
       " 'Alloy wheels,Sport package,Sport seats,Sport suspension',\n",
       " 'Alloy wheels,Sport package,Sport seats,Sport suspension',\n",
       " 'Alloy wheels,Sport package,Sport seats,Sport suspension',\n",
       " 'Alloy wheels',\n",
       " 'Alloy wheels,Sport package,Sport seats,Sport suspension',\n",
       " 'Alloy wheels,Sport package,Sport seats,Sport suspension',\n",
       " 'Alloy wheels,Sport package,Sport seats,Sport suspension',\n",
       " 'Alloy wheels,Voice Control',\n",
       " 'Alloy wheels,Sport suspension',\n",
       " 'Alloy wheels,Catalytic Converter,Sport seats',\n",
       " 'Alloy wheels',\n",
       " nan,\n",
       " 'Alloy wheels,Shift paddles',\n",
       " nan,\n",
       " nan,\n",
       " 'Alloy wheels,Voice Control',\n",
       " 'Alloy wheels,Sport seats,Voice Control',\n",
       " 'Alloy wheels,Sport seats,Voice Control',\n",
       " 'Alloy wheels,Voice Control',\n",
       " 'Alloy wheels,Sport seats,Voice Control',\n",
       " 'Alloy wheels,Sport seats,Voice Control',\n",
       " 'Alloy wheels,Sport seats,Voice Control',\n",
       " 'Alloy wheels,Sport seats,Voice Control',\n",
       " 'Alloy wheels,Sport seats,Voice Control',\n",
       " 'Alloy wheels,Sport seats,Voice Control',\n",
       " 'Alloy wheels,Sport seats,Voice Control',\n",
       " 'Alloy wheels,Sport seats,Voice Control',\n",
       " 'Alloy wheels,Shift paddles',\n",
       " 'Alloy wheels,Catalytic Converter,Voice Control',\n",
       " 'Alloy wheels,Sport seats,Voice Control',\n",
       " 'Alloy wheels,Sport seats,Voice Control',\n",
       " 'Alloy wheels,Sport seats,Voice Control',\n",
       " 'Alloy wheels,Sport seats,Voice Control',\n",
       " 'Alloy wheels,Sport package,Sport suspension',\n",
       " 'Alloy wheels',\n",
       " 'Alloy wheels,Voice Control',\n",
       " 'Alloy wheels,Sport seats,Voice Control',\n",
       " 'Alloy wheels,Sport seats,Voice Control',\n",
       " 'Alloy wheels,Sport seats,Voice Control',\n",
       " 'Alloy wheels,Sport seats,Voice Control',\n",
       " 'Alloy wheels,Sport seats,Voice Control',\n",
       " 'Alloy wheels,Sport suspension,Winter tyres',\n",
       " 'Alloy wheels,Sport seats,Voice Control',\n",
       " 'Alloy wheels,Sport suspension',\n",
       " 'Alloy wheels,Sport suspension',\n",
       " 'Alloy wheels,Catalytic Converter,Shift paddles,Sport package,Sport suspension,Voice Control',\n",
       " 'Alloy wheels,Cab or rented Car,Sport seats,Voice Control',\n",
       " 'Alloy wheels,Shift paddles',\n",
       " 'Alloy wheels,Catalytic Converter,Shift paddles,Sport package,Sport suspension,Voice Control',\n",
       " nan,\n",
       " 'Alloy wheels,Sport seats,Sport suspension,Voice Control',\n",
       " 'Alloy wheels,Catalytic Converter,Sport seats,Sport suspension,Voice Control',\n",
       " 'Alloy wheels,Sport seats',\n",
       " 'Alloy wheels,Voice Control',\n",
       " 'Alloy wheels,Sport seats,Sport suspension',\n",
       " 'Alloy wheels,Sport seats,Voice Control',\n",
       " 'Alloy wheels,Sport seats,Voice Control',\n",
       " 'Alloy wheels,Sport seats,Voice Control',\n",
       " 'Alloy wheels,Sport seats,Voice Control',\n",
       " 'Alloy wheels,Sport seats,Voice Control',\n",
       " 'Alloy wheels,Catalytic Converter,Sport package,Sport seats,Sport suspension',\n",
       " 'Alloy wheels,Sport seats',\n",
       " 'Alloy wheels,Catalytic Converter,Sport seats,Sport suspension',\n",
       " 'Alloy wheels,Sport seats,Voice Control',\n",
       " 'Alloy wheels,Sport seats,Sport suspension',\n",
       " 'Alloy wheels,Sport seats,Voice Control',\n",
       " 'Alloy wheels,Voice Control',\n",
       " 'Alloy wheels,Sport seats',\n",
       " 'Alloy wheels',\n",
       " 'Alloy wheels,Sport package,Sport suspension',\n",
       " 'Alloy wheels,Winter tyres',\n",
       " 'Sport seats',\n",
       " 'Alloy wheels,Sport package,Voice Control',\n",
       " 'Alloy wheels,Sport seats,Sport suspension',\n",
       " 'Alloy wheels,Catalytic Converter,Sport seats',\n",
       " 'Alloy wheels,Sport package',\n",
       " 'Alloy wheels,Catalytic Converter,Sport suspension',\n",
       " 'Alloy wheels,Shift paddles,Sport package,Sport seats,Voice Control',\n",
       " nan,\n",
       " 'Voice Control',\n",
       " 'Alloy wheels,Sport seats,Sport suspension',\n",
       " 'Alloy wheels,Sport package,Sport seats,Touch screen,Voice Control',\n",
       " nan,\n",
       " nan,\n",
       " 'Sport package,Sport seats,Sport suspension,Voice Control',\n",
       " nan,\n",
       " nan,\n",
       " nan,\n",
       " 'Alloy wheels,Sport seats',\n",
       " 'Alloy wheels',\n",
       " 'Alloy wheels,Sport seats,Voice Control',\n",
       " 'Alloy wheels,Catalytic Converter,Voice Control',\n",
       " 'Alloy wheels,Shift paddles',\n",
       " 'Alloy wheels,Sport package,Sport seats,Sport suspension',\n",
       " 'Alloy wheels,Sport seats,Voice Control',\n",
       " 'Alloy wheels,Catalytic Converter,Voice Control',\n",
       " 'Alloy wheels,Catalytic Converter,Voice Control',\n",
       " 'Alloy wheels,Sport package,Sport suspension,Voice Control',\n",
       " 'Alloy wheels',\n",
       " 'Alloy wheels',\n",
       " 'Alloy wheels',\n",
       " 'Alloy wheels',\n",
       " 'Alloy wheels,Sport seats,Voice Control',\n",
       " 'Alloy wheels',\n",
       " 'Alloy wheels,Shift paddles,Sport seats',\n",
       " 'Alloy wheels,Catalytic Converter,Sport seats,Sport suspension,Voice Control',\n",
       " nan,\n",
       " 'Alloy wheels,Sport package',\n",
       " 'Alloy wheels,Sport package,Sport seats,Sport suspension',\n",
       " 'Alloy wheels',\n",
       " 'Alloy wheels,Catalytic Converter,Sport suspension,Voice Control',\n",
       " 'Alloy wheels,Sport seats,Voice Control',\n",
       " 'Alloy wheels,Sport seats,Voice Control',\n",
       " 'Alloy wheels,Catalytic Converter,Sport package,Sport suspension,Voice Control',\n",
       " 'Alloy wheels,Sport suspension',\n",
       " 'Alloy wheels',\n",
       " 'Alloy wheels',\n",
       " 'Catalytic Converter,Sport package',\n",
       " 'Alloy wheels',\n",
       " 'Alloy wheels,Catalytic Converter',\n",
       " 'Alloy wheels,Voice Control',\n",
       " 'Alloy wheels,Voice Control',\n",
       " 'Voice Control',\n",
       " 'Alloy wheels,Sport seats,Voice Control',\n",
       " nan,\n",
       " 'Alloy wheels',\n",
       " 'Alloy wheels,Handicapped enabled,Sport package,Sport seats,Sport suspension,Touch screen,Trailer hitch,Voice Control',\n",
       " 'Alloy wheels,Handicapped enabled,Sport package,Sport seats,Sport suspension,Touch screen,Voice Control',\n",
       " 'Alloy wheels,Sport suspension',\n",
       " 'Alloy wheels',\n",
       " 'Alloy wheels',\n",
       " 'Alloy wheels,Voice Control',\n",
       " 'Alloy wheels,Voice Control',\n",
       " 'Alloy wheels',\n",
       " 'Alloy wheels,Catalytic Converter,Sport package,Sport seats,Voice Control',\n",
       " nan,\n",
       " 'Alloy wheels,Sport seats,Voice Control',\n",
       " 'Alloy wheels,Sport package,Sport seats,Sport suspension',\n",
       " 'Alloy wheels,Sport package,Sport seats,Voice Control',\n",
       " 'Alloy wheels,Sport package,Sport seats',\n",
       " 'Alloy wheels,Voice Control',\n",
       " 'Alloy wheels',\n",
       " 'Alloy wheels',\n",
       " 'Alloy wheels',\n",
       " 'Alloy wheels,Sport seats,Sport suspension',\n",
       " 'Alloy wheels,Sport seats,Sport suspension,Voice Control',\n",
       " nan,\n",
       " 'Alloy wheels',\n",
       " 'Alloy wheels',\n",
       " 'Alloy wheels',\n",
       " 'Alloy wheels',\n",
       " nan,\n",
       " nan,\n",
       " 'Alloy wheels,Voice Control',\n",
       " 'Alloy wheels',\n",
       " 'Alloy wheels,Voice Control',\n",
       " 'Alloy wheels',\n",
       " 'Sport seats,Sport suspension',\n",
       " 'Alloy wheels,Touch screen',\n",
       " 'Alloy wheels',\n",
       " 'Alloy wheels',\n",
       " 'Alloy wheels,Sport package,Sport seats,Sport suspension',\n",
       " 'Alloy wheels,Sport seats',\n",
       " 'Alloy wheels,Sport package,Voice Control',\n",
       " 'Alloy wheels',\n",
       " 'Alloy wheels',\n",
       " 'Alloy wheels',\n",
       " 'Alloy wheels',\n",
       " 'Alloy wheels',\n",
       " 'Alloy wheels,Sport seats,Sport suspension,Voice Control',\n",
       " 'Alloy wheels',\n",
       " 'Alloy wheels,Catalytic Converter,Sport package,Voice Control',\n",
       " 'Alloy wheels,Catalytic Converter,Voice Control',\n",
       " 'Alloy wheels,Voice Control',\n",
       " 'Alloy wheels,Voice Control',\n",
       " 'Alloy wheels,Catalytic Converter',\n",
       " 'Alloy wheels,Sport seats,Voice Control',\n",
       " 'Alloy wheels',\n",
       " 'Alloy wheels,Sport seats,Sport suspension,Trailer hitch,Voice Control',\n",
       " 'Voice Control',\n",
       " 'Alloy wheels,Catalytic Converter,Voice Control',\n",
       " 'Alloy wheels,Sport seats',\n",
       " nan,\n",
       " nan,\n",
       " 'Sport seats',\n",
       " nan,\n",
       " 'Alloy wheels,Voice Control',\n",
       " 'Alloy wheels,Sport package,Sport seats,Sport suspension,Tuned car,Winter tyres',\n",
       " 'Alloy wheels,Catalytic Converter,Voice Control',\n",
       " 'Alloy wheels,Sport package,Sport seats,Touch screen,Voice Control',\n",
       " 'Alloy wheels,Catalytic Converter',\n",
       " 'Alloy wheels',\n",
       " 'Alloy wheels,Sport seats,Sport suspension,Voice Control',\n",
       " nan,\n",
       " 'Alloy wheels,Catalytic Converter,Voice Control',\n",
       " 'Alloy wheels,Sport package,Sport seats,Sport suspension,Voice Control',\n",
       " 'Alloy wheels,Sport seats,Sport suspension,Voice Control',\n",
       " nan,\n",
       " nan,\n",
       " 'Alloy wheels',\n",
       " 'Winter tyres',\n",
       " 'Alloy wheels,Sport suspension',\n",
       " 'Sport seats,Sport suspension',\n",
       " nan,\n",
       " 'Alloy wheels,Sport seats',\n",
       " 'Alloy wheels',\n",
       " 'Alloy wheels',\n",
       " 'Alloy wheels,Catalytic Converter',\n",
       " 'Alloy wheels',\n",
       " 'Alloy wheels,Voice Control',\n",
       " 'Alloy wheels',\n",
       " 'Alloy wheels,Sport seats,Sport suspension',\n",
       " nan,\n",
       " 'Alloy wheels,Sport seats,Sport suspension',\n",
       " 'Alloy wheels,Sport package,Voice Control',\n",
       " 'Ski bag,Sport suspension',\n",
       " 'Voice Control',\n",
       " 'Alloy wheels,Voice Control',\n",
       " 'Alloy wheels,Catalytic Converter,Sport package,Voice Control',\n",
       " 'Alloy wheels,Sport seats,Sport suspension',\n",
       " 'Alloy wheels,Sport seats,Sport suspension',\n",
       " 'Alloy wheels,Sport seats,Sport suspension',\n",
       " 'Alloy wheels,Sport seats,Sport suspension',\n",
       " 'Alloy wheels,Catalytic Converter,Sport package',\n",
       " 'Alloy wheels,Sport seats',\n",
       " 'Alloy wheels,Catalytic Converter,Sport package',\n",
       " 'Alloy wheels',\n",
       " 'Alloy wheels',\n",
       " 'Alloy wheels,Sport seats,Sport suspension',\n",
       " 'Alloy wheels,Catalytic Converter,Voice Control',\n",
       " 'Alloy wheels',\n",
       " nan,\n",
       " nan,\n",
       " nan,\n",
       " 'Alloy wheels,Sport seats',\n",
       " 'Alloy wheels,Sport seats,Sport suspension',\n",
       " 'Alloy wheels,Voice Control',\n",
       " 'Alloy wheels',\n",
       " 'Alloy wheels,Catalytic Converter,Sport seats,Touch screen',\n",
       " 'Alloy wheels,Sport seats',\n",
       " 'Alloy wheels,Catalytic Converter,Sport package',\n",
       " 'Sport seats,Sport suspension,Voice Control,Winter tyres',\n",
       " 'Alloy wheels',\n",
       " 'Alloy wheels',\n",
       " 'Alloy wheels,Sport suspension',\n",
       " 'Alloy wheels',\n",
       " 'Alloy wheels',\n",
       " 'Alloy wheels,Cab or rented Car',\n",
       " 'Alloy wheels,Sport seats,Sport suspension',\n",
       " nan,\n",
       " nan,\n",
       " 'Alloy wheels,Catalytic Converter,Sport suspension',\n",
       " 'Alloy wheels,Sport suspension',\n",
       " 'Alloy wheels,Sport package',\n",
       " 'Alloy wheels',\n",
       " 'Alloy wheels,Voice Control',\n",
       " 'Catalytic Converter',\n",
       " nan,\n",
       " 'Alloy wheels,Sport suspension,Winter tyres',\n",
       " 'Alloy wheels',\n",
       " 'Alloy wheels,Sport package,Sport seats,Voice Control',\n",
       " 'Alloy wheels',\n",
       " 'Alloy wheels',\n",
       " nan,\n",
       " 'Alloy wheels',\n",
       " 'Alloy wheels',\n",
       " 'Alloy wheels,Voice Control',\n",
       " 'Alloy wheels,Sport seats,Sport suspension,Voice Control',\n",
       " 'Sport seats,Sport suspension',\n",
       " 'Alloy wheels,Sport seats',\n",
       " nan,\n",
       " 'Alloy wheels,Voice Control',\n",
       " 'Alloy wheels,Catalytic Converter,Voice Control',\n",
       " 'Alloy wheels',\n",
       " 'Alloy wheels',\n",
       " nan,\n",
       " 'Alloy wheels',\n",
       " 'Alloy wheels,Sport seats,Sport suspension',\n",
       " 'Alloy wheels,Sport seats,Voice Control,Winter tyres',\n",
       " 'Alloy wheels,Sport seats,Sport suspension,Winter tyres',\n",
       " 'Alloy wheels',\n",
       " 'Alloy wheels,Sport suspension',\n",
       " 'Alloy wheels,Sport package,Sport seats,Sport suspension,Voice Control',\n",
       " 'Alloy wheels,Sport seats',\n",
       " 'Alloy wheels,Catalytic Converter,Sport seats,Sport suspension',\n",
       " 'Alloy wheels,Voice Control',\n",
       " 'Sport suspension',\n",
       " 'Sport suspension',\n",
       " 'Alloy wheels,Catalytic Converter,Voice Control',\n",
       " 'Alloy wheels,Sport seats,Sport suspension',\n",
       " 'Alloy wheels,Catalytic Converter,Sport seats,Sport suspension,Voice Control',\n",
       " 'Alloy wheels,Catalytic Converter,Sport seats,Sport suspension,Voice Control',\n",
       " nan,\n",
       " 'Alloy wheels,Sport package',\n",
       " 'Alloy wheels,Sport seats,Sport suspension',\n",
       " 'Catalytic Converter',\n",
       " 'Alloy wheels,Catalytic Converter,Sport seats,Voice Control',\n",
       " nan,\n",
       " 'Alloy wheels,Sport seats,Sport suspension,Winter tyres',\n",
       " 'Alloy wheels',\n",
       " 'Catalytic Converter,Voice Control',\n",
       " 'Catalytic Converter,Voice Control',\n",
       " 'Catalytic Converter,Voice Control',\n",
       " 'Alloy wheels',\n",
       " nan,\n",
       " 'Alloy wheels,Catalytic Converter,Sport package',\n",
       " 'Alloy wheels,Catalytic Converter,Voice Control',\n",
       " 'Alloy wheels,Sport suspension,Voice Control',\n",
       " 'Sport suspension',\n",
       " 'Catalytic Converter',\n",
       " 'Alloy wheels,Sport package,Voice Control',\n",
       " 'Alloy wheels,Catalytic Converter,Sport suspension',\n",
       " 'Alloy wheels,Voice Control',\n",
       " 'Alloy wheels,Catalytic Converter,Sport package,Sport seats,Sport suspension,Voice Control',\n",
       " nan,\n",
       " nan,\n",
       " 'Alloy wheels,Voice Control',\n",
       " 'Alloy wheels,Sport seats,Sport suspension',\n",
       " 'Alloy wheels,Catalytic Converter',\n",
       " 'Sport seats',\n",
       " 'Alloy wheels,Sport package,Sport suspension,Winter tyres',\n",
       " 'Alloy wheels',\n",
       " 'Alloy wheels,Sport package,Sport seats,Sport suspension',\n",
       " 'Alloy wheels,Sport seats,Sport suspension',\n",
       " 'Alloy wheels',\n",
       " 'Catalytic Converter,Voice Control',\n",
       " 'Alloy wheels,Catalytic Converter',\n",
       " 'Alloy wheels',\n",
       " 'Alloy wheels',\n",
       " 'Alloy wheels',\n",
       " 'Alloy wheels',\n",
       " 'Alloy wheels,Sport seats,Voice Control',\n",
       " 'Alloy wheels,Catalytic Converter,Voice Control',\n",
       " nan,\n",
       " nan,\n",
       " 'Alloy wheels,Catalytic Converter,Sport package',\n",
       " nan,\n",
       " 'Alloy wheels,Catalytic Converter',\n",
       " 'Alloy wheels,Sport seats',\n",
       " 'Alloy wheels,Catalytic Converter',\n",
       " nan,\n",
       " nan,\n",
       " 'Alloy wheels,Voice Control',\n",
       " 'Alloy wheels,Sport seats,Voice Control',\n",
       " 'Alloy wheels,Catalytic Converter',\n",
       " 'Alloy wheels',\n",
       " 'Alloy wheels,Voice Control',\n",
       " 'Alloy wheels,Sport seats,Sport suspension',\n",
       " 'Alloy wheels,Sport seats,Sport suspension',\n",
       " 'Alloy wheels',\n",
       " 'Alloy wheels',\n",
       " 'Alloy wheels',\n",
       " 'Alloy wheels,Sport seats,Sport suspension,Voice Control',\n",
       " nan,\n",
       " 'Alloy wheels',\n",
       " 'Alloy wheels',\n",
       " 'Alloy wheels,Voice Control',\n",
       " 'Alloy wheels,Sport package,Sport seats,Sport suspension,Voice Control,Winter tyres',\n",
       " nan,\n",
       " 'Alloy wheels,Sport package,Sport seats,Sport suspension,Voice Control',\n",
       " 'Voice Control',\n",
       " 'Alloy wheels,Sport seats',\n",
       " 'Alloy wheels',\n",
       " nan,\n",
       " nan,\n",
       " nan,\n",
       " 'Alloy wheels',\n",
       " 'Alloy wheels,Voice Control',\n",
       " nan,\n",
       " nan,\n",
       " 'Alloy wheels',\n",
       " 'Sport suspension',\n",
       " 'Sport seats,Sport suspension',\n",
       " 'Alloy wheels,Catalytic Converter',\n",
       " nan,\n",
       " 'Alloy wheels',\n",
       " 'Trailer hitch',\n",
       " 'Alloy wheels,Cab or rented Car',\n",
       " 'Alloy wheels,Sport package,Sport seats',\n",
       " 'Alloy wheels,Sport package',\n",
       " 'Alloy wheels,Cab or rented Car',\n",
       " 'Alloy wheels,Cab or rented Car',\n",
       " 'Alloy wheels,Sport seats,Voice Control',\n",
       " 'Alloy wheels,Voice Control',\n",
       " nan,\n",
       " 'Alloy wheels,Sport seats,Sport suspension,Voice Control',\n",
       " 'Alloy wheels,Sport suspension',\n",
       " 'Alloy wheels,Catalytic Converter,Sport package,Sport seats,Sport suspension',\n",
       " 'Alloy wheels',\n",
       " 'Alloy wheels,Sport suspension',\n",
       " 'Alloy wheels',\n",
       " 'Alloy wheels,Voice Control',\n",
       " 'Alloy wheels,Sport seats',\n",
       " 'Alloy wheels,Sport suspension',\n",
       " 'Alloy wheels,Sport seats',\n",
       " 'Alloy wheels,Voice Control',\n",
       " 'Alloy wheels,Voice Control',\n",
       " 'Alloy wheels,Catalytic Converter',\n",
       " 'Catalytic Converter',\n",
       " 'Alloy wheels',\n",
       " 'Alloy wheels',\n",
       " 'Alloy wheels,Voice Control',\n",
       " 'Alloy wheels,Catalytic Converter,Sport seats,Voice Control',\n",
       " 'Alloy wheels,Sport suspension',\n",
       " 'Alloy wheels,Sport package,Sport seats',\n",
       " 'Alloy wheels,Sport package,Sport suspension',\n",
       " 'Catalytic Converter',\n",
       " 'Alloy wheels,Sport seats,Voice Control',\n",
       " nan,\n",
       " nan,\n",
       " 'Alloy wheels,Sport seats',\n",
       " 'Alloy wheels,Sport package,Sport seats,Touch screen,Voice Control',\n",
       " 'Alloy wheels,Sport seats,Sport suspension,Touch screen',\n",
       " 'Alloy wheels,Handicapped enabled,Shift paddles,Sport package,Sport seats,Sport suspension,Voice Control',\n",
       " 'Alloy wheels,Sport suspension',\n",
       " 'Alloy wheels,Voice Control',\n",
       " 'Alloy wheels,Sport suspension,Touch screen',\n",
       " 'Alloy wheels,Catalytic Converter,Ski bag,Sport package,Sport suspension,Touch screen,Voice Control',\n",
       " 'Alloy wheels,Sport suspension',\n",
       " 'Alloy wheels,Touch screen',\n",
       " 'Alloy wheels,Shift paddles,Sport suspension,Touch screen',\n",
       " 'Alloy wheels',\n",
       " 'Alloy wheels,Touch screen',\n",
       " 'Alloy wheels,Sport suspension,Touch screen,Tuned car',\n",
       " 'Roof rack,Sport seats',\n",
       " 'Alloy wheels,Catalytic Converter,Shift paddles,Sport package,Sport seats,Touch screen',\n",
       " 'Alloy wheels,Sport seats',\n",
       " 'Alloy wheels,Sport seats,Sport suspension,Voice Control',\n",
       " 'Alloy wheels',\n",
       " 'Alloy wheels,Voice Control',\n",
       " 'Alloy wheels,Voice Control',\n",
       " 'Alloy wheels',\n",
       " nan,\n",
       " nan,\n",
       " 'Alloy wheels,Sport seats',\n",
       " nan,\n",
       " 'Alloy wheels,Sport seats,Sport suspension,Voice Control',\n",
       " 'Alloy wheels,Voice Control',\n",
       " 'Alloy wheels',\n",
       " 'Alloy wheels,Catalytic Converter,Sport suspension,Voice Control',\n",
       " 'Alloy wheels',\n",
       " 'Alloy wheels,Catalytic Converter,Voice Control',\n",
       " 'Sport seats,Sport suspension',\n",
       " 'Catalytic Converter',\n",
       " 'Alloy wheels,Sport seats',\n",
       " 'Alloy wheels,Sport suspension',\n",
       " 'Alloy wheels',\n",
       " nan,\n",
       " 'Alloy wheels',\n",
       " nan,\n",
       " 'Alloy wheels,Shift paddles,Touch screen',\n",
       " 'Alloy wheels,Shift paddles,Sport package,Sport suspension,Winter tyres',\n",
       " 'Alloy wheels',\n",
       " 'Alloy wheels,Catalytic Converter,Sport package,Sport seats,Sport suspension,Trailer hitch,Voice Control',\n",
       " 'Alloy wheels',\n",
       " 'Alloy wheels,Shift paddles',\n",
       " 'Alloy wheels',\n",
       " 'Alloy wheels',\n",
       " 'Alloy wheels',\n",
       " 'Alloy wheels',\n",
       " 'Alloy wheels,Shift paddles,Sport package,Sport suspension,Voice Control,Winter tyres',\n",
       " 'Alloy wheels',\n",
       " 'Alloy wheels',\n",
       " 'Alloy wheels,Shift paddles,Sport seats,Sport suspension',\n",
       " 'Alloy wheels',\n",
       " 'Alloy wheels,Shift paddles,Sport package,Touch screen,Voice Control',\n",
       " 'Alloy wheels',\n",
       " 'Alloy wheels',\n",
       " 'Alloy wheels',\n",
       " 'Alloy wheels,Touch screen',\n",
       " 'Alloy wheels,Sport package,Sport seats',\n",
       " 'Alloy wheels',\n",
       " 'Alloy wheels,Sport suspension',\n",
       " 'Alloy wheels,Sport seats,Sport suspension,Touch screen',\n",
       " 'Alloy wheels',\n",
       " 'Alloy wheels',\n",
       " nan,\n",
       " 'Alloy wheels',\n",
       " 'Alloy wheels',\n",
       " 'Alloy wheels,Sport seats',\n",
       " 'Alloy wheels',\n",
       " 'Alloy wheels',\n",
       " 'Alloy wheels',\n",
       " 'Alloy wheels,Voice Control',\n",
       " 'Voice Control',\n",
       " 'Alloy wheels',\n",
       " 'Alloy wheels,Catalytic Converter',\n",
       " 'Alloy wheels,Catalytic Converter',\n",
       " 'Alloy wheels,Catalytic Converter',\n",
       " 'Alloy wheels,Sport seats',\n",
       " nan,\n",
       " nan,\n",
       " 'Alloy wheels,Cab or rented Car,Catalytic Converter',\n",
       " 'Alloy wheels,Voice Control',\n",
       " 'Alloy wheels',\n",
       " 'Alloy wheels,Sport seats,Sport suspension,Winter tyres',\n",
       " 'Alloy wheels',\n",
       " 'Alloy wheels',\n",
       " 'Alloy wheels',\n",
       " nan,\n",
       " nan,\n",
       " 'Alloy wheels,Sport seats,Voice Control',\n",
       " nan,\n",
       " 'Alloy wheels,Voice Control',\n",
       " 'Alloy wheels',\n",
       " 'Alloy wheels,Voice Control',\n",
       " 'Alloy wheels,Sport seats,Sport suspension',\n",
       " 'Alloy wheels,Catalytic Converter,Sport seats,Voice Control',\n",
       " 'Alloy wheels',\n",
       " 'Alloy wheels,Sport package,Sport seats,Sport suspension,Winter tyres',\n",
       " 'Alloy wheels',\n",
       " 'Alloy wheels,Sport seats',\n",
       " 'Alloy wheels,Sport seats',\n",
       " 'Alloy wheels,Sport seats',\n",
       " 'Alloy wheels,Sport seats,Voice Control',\n",
       " 'Alloy wheels,Catalytic Converter,Sport package,Sport suspension,Voice Control',\n",
       " 'Alloy wheels,Catalytic Converter',\n",
       " 'Alloy wheels,Catalytic Converter,Sport seats,Sport suspension,Trailer hitch',\n",
       " nan,\n",
       " 'Alloy wheels,Sport seats',\n",
       " 'Alloy wheels,Sport seats,Sport suspension,Voice Control',\n",
       " 'Alloy wheels,Sport seats,Voice Control',\n",
       " 'Alloy wheels,Catalytic Converter',\n",
       " nan,\n",
       " 'Alloy wheels,Sport seats,Sport suspension,Voice Control',\n",
       " 'Alloy wheels,Sport seats,Voice Control',\n",
       " 'Alloy wheels,Voice Control',\n",
       " 'Alloy wheels,Sport seats,Voice Control',\n",
       " 'Alloy wheels,Voice Control',\n",
       " 'Alloy wheels,Catalytic Converter',\n",
       " 'Alloy wheels,Catalytic Converter,Ski bag,Sport package,Sport seats,Sport suspension,Touch screen',\n",
       " 'Voice Control',\n",
       " 'Alloy wheels',\n",
       " 'Alloy wheels,Sport seats',\n",
       " nan,\n",
       " 'Alloy wheels',\n",
       " 'Alloy wheels,Sport seats,Voice Control',\n",
       " 'Sport seats,Voice Control',\n",
       " 'Alloy wheels,Catalytic Converter,Sport seats,Voice Control',\n",
       " 'Alloy wheels,Cab or rented Car,Sport seats,Voice Control',\n",
       " 'Alloy wheels',\n",
       " 'Alloy wheels',\n",
       " 'Alloy wheels,Sport suspension',\n",
       " 'Alloy wheels,Sport seats,Sport suspension',\n",
       " 'Alloy wheels,Cab or rented Car,Sport seats',\n",
       " 'Alloy wheels,Sport seats',\n",
       " 'Alloy wheels',\n",
       " 'Alloy wheels',\n",
       " nan,\n",
       " 'Alloy wheels',\n",
       " 'Alloy wheels',\n",
       " 'Alloy wheels,Sport package,Sport seats,Sport suspension,Voice Control',\n",
       " 'Alloy wheels,Catalytic Converter,Sport seats',\n",
       " 'Alloy wheels,Voice Control',\n",
       " 'Alloy wheels',\n",
       " 'Alloy wheels',\n",
       " nan,\n",
       " nan,\n",
       " 'Alloy wheels,Shift paddles',\n",
       " 'Alloy wheels',\n",
       " 'Alloy wheels,Sport package,Sport seats,Voice Control',\n",
       " 'Alloy wheels,Sport seats',\n",
       " 'Cab or rented Car,Sport suspension',\n",
       " 'Cab or rented Car,Sport suspension',\n",
       " 'Alloy wheels,Catalytic Converter,Sport seats,Sport suspension,Voice Control',\n",
       " 'Alloy wheels',\n",
       " 'Alloy wheels',\n",
       " 'Alloy wheels,Catalytic Converter',\n",
       " 'Alloy wheels',\n",
       " 'Alloy wheels',\n",
       " nan,\n",
       " 'Alloy wheels,Catalytic Converter,Sport seats',\n",
       " 'Alloy wheels,Catalytic Converter,Voice Control',\n",
       " nan,\n",
       " 'Alloy wheels,Catalytic Converter,Sport seats,Voice Control',\n",
       " nan,\n",
       " 'Alloy wheels,Voice Control',\n",
       " 'Alloy wheels,Sport seats,Voice Control',\n",
       " 'Alloy wheels,Sport suspension,Winter tyres',\n",
       " 'Alloy wheels,Sport suspension',\n",
       " 'Alloy wheels,Sport seats,Voice Control',\n",
       " 'Alloy wheels,Voice Control',\n",
       " 'Alloy wheels,Voice Control',\n",
       " 'Alloy wheels',\n",
       " nan,\n",
       " 'Alloy wheels,Sport seats',\n",
       " 'Alloy wheels',\n",
       " 'Alloy wheels,Catalytic Converter',\n",
       " nan,\n",
       " 'Alloy wheels',\n",
       " 'Alloy wheels',\n",
       " 'Alloy wheels,Sport package,Sport seats,Sport suspension,Voice Control',\n",
       " 'Alloy wheels,Cab or rented Car',\n",
       " 'Alloy wheels',\n",
       " 'Alloy wheels,Cab or rented Car,Catalytic Converter,Sport seats,Voice Control',\n",
       " 'Alloy wheels,Sport suspension,Voice Control',\n",
       " 'Alloy wheels,Cab or rented Car,Sport seats',\n",
       " 'Sport suspension',\n",
       " 'Alloy wheels,Cab or rented Car',\n",
       " 'Catalytic Converter,Sport seats',\n",
       " 'Alloy wheels',\n",
       " nan,\n",
       " nan,\n",
       " 'Alloy wheels,Cab or rented Car,Sport seats,Voice Control',\n",
       " 'Alloy wheels,Sport seats',\n",
       " 'Alloy wheels,Sport package',\n",
       " 'Catalytic Converter,Touch screen,Voice Control',\n",
       " 'Alloy wheels,Sport seats',\n",
       " 'Alloy wheels,Cab or rented Car',\n",
       " 'Alloy wheels,Cab or rented Car,Catalytic Converter',\n",
       " 'Alloy wheels',\n",
       " 'Alloy wheels,Catalytic Converter,Sport seats,Sport suspension,Voice Control',\n",
       " nan,\n",
       " 'Alloy wheels,Sport package',\n",
       " 'Alloy wheels,Sport seats,Voice Control',\n",
       " 'Alloy wheels',\n",
       " 'Alloy wheels,Sport package',\n",
       " 'Alloy wheels,Sport package',\n",
       " 'Alloy wheels,Sport package',\n",
       " 'Alloy wheels,Sport package',\n",
       " 'Alloy wheels,Sport package',\n",
       " 'Alloy wheels,Cab or rented Car,Sport seats',\n",
       " 'Alloy wheels,Catalytic Converter,Sport package,Sport seats,Sport suspension,Voice Control',\n",
       " 'Alloy wheels,Cab or rented Car,Sport seats',\n",
       " 'Alloy wheels,Catalytic Converter,Shift paddles,Sport seats,Voice Control',\n",
       " 'Alloy wheels,Sport seats,Sport suspension',\n",
       " nan,\n",
       " 'Alloy wheels,Cab or rented Car,Sport seats,Sport suspension,Voice Control',\n",
       " 'Alloy wheels',\n",
       " 'Alloy wheels,Catalytic Converter,Sport seats,Voice Control',\n",
       " 'Catalytic Converter,Sport seats',\n",
       " 'Alloy wheels,Sport seats,Sport suspension',\n",
       " 'Sport seats',\n",
       " 'Alloy wheels,Sport package',\n",
       " 'Alloy wheels,Sport seats',\n",
       " 'Alloy wheels,Catalytic Converter,Sport package,Sport seats,Sport suspension,Voice Control',\n",
       " nan,\n",
       " 'Alloy wheels,Catalytic Converter,Sport package,Sport seats,Sport suspension,Voice Control',\n",
       " 'Alloy wheels,Catalytic Converter,Voice Control',\n",
       " 'Alloy wheels,Catalytic Converter,Sport package,Sport seats,Sport suspension,Voice Control',\n",
       " nan,\n",
       " 'Alloy wheels,Voice Control',\n",
       " 'Alloy wheels',\n",
       " 'Catalytic Converter,Voice Control',\n",
       " 'Alloy wheels,Catalytic Converter,Sport seats',\n",
       " 'Alloy wheels,Sport seats',\n",
       " 'Alloy wheels,Sport suspension,Voice Control',\n",
       " 'Alloy wheels,Sport package,Sport seats,Sport suspension,Voice Control',\n",
       " 'Alloy wheels,Sport package,Voice Control',\n",
       " 'Alloy wheels',\n",
       " 'Alloy wheels,Sport seats,Sport suspension,Voice Control',\n",
       " 'Alloy wheels,Catalytic Converter,Sport package,Sport seats,Sport suspension,Voice Control',\n",
       " 'Alloy wheels,Sport seats',\n",
       " 'Alloy wheels,Sport seats,Voice Control',\n",
       " 'Alloy wheels,Sport suspension',\n",
       " 'Alloy wheels,Catalytic Converter,Sport package,Sport seats,Sport suspension,Voice Control',\n",
       " 'Alloy wheels,Sport package,Sport seats,Sport suspension,Voice Control',\n",
       " 'Alloy wheels',\n",
       " 'Alloy wheels,Catalytic Converter,Sport seats,Voice Control',\n",
       " 'Alloy wheels,Touch screen',\n",
       " 'Alloy wheels',\n",
       " 'Alloy wheels',\n",
       " 'Alloy wheels,Sport seats',\n",
       " 'Alloy wheels',\n",
       " 'Alloy wheels,Sport seats',\n",
       " 'Alloy wheels,Sport seats,Voice Control',\n",
       " nan,\n",
       " 'Sport package',\n",
       " 'Alloy wheels,Catalytic Converter,Sport seats,Sport suspension,Voice Control',\n",
       " 'Alloy wheels',\n",
       " 'Alloy wheels,Sport seats,Sport suspension',\n",
       " 'Alloy wheels,Shift paddles,Sport seats,Sport suspension',\n",
       " 'Sport package',\n",
       " 'Alloy wheels,Shift paddles,Sport package,Sport seats,Sport suspension,Voice Control',\n",
       " 'Alloy wheels,Catalytic Converter,Sport seats,Voice Control',\n",
       " 'Alloy wheels,Catalytic Converter,Sport seats,Voice Control',\n",
       " 'Alloy wheels,Catalytic Converter,Sport seats,Sport suspension,Voice Control',\n",
       " 'Alloy wheels,Sport seats,Voice Control,Winter tyres',\n",
       " 'Alloy wheels,Sport seats,Sport suspension',\n",
       " 'Alloy wheels,Sport seats,Sport suspension',\n",
       " ...]"
      ]
     },
     "execution_count": 2050,
     "metadata": {},
     "output_type": "execute_result"
    }
   ],
   "source": [
    "[\",\".join(item).strip() if type(item) == list else item for item in data['\\nExtras\\n']]"
   ]
  },
  {
   "cell_type": "code",
   "execution_count": 2051,
   "metadata": {},
   "outputs": [],
   "source": [
    "temp = pd.DataFrame([\",\".join(item).strip() if type(item) == list else item for item in data['\\nExtras\\n']])"
   ]
  },
  {
   "cell_type": "code",
   "execution_count": 2052,
   "metadata": {},
   "outputs": [
    {
     "data": {
      "text/plain": [
       "0    2962\n",
       "dtype: int64"
      ]
     },
     "execution_count": 2052,
     "metadata": {},
     "output_type": "execute_result"
    }
   ],
   "source": [
    "temp.isnull().sum()"
   ]
  },
  {
   "cell_type": "code",
   "execution_count": 2053,
   "metadata": {},
   "outputs": [
    {
     "data": {
      "text/plain": [
       "array(['Alloy wheels,Catalytic Converter,Voice Control'], dtype=object)"
      ]
     },
     "execution_count": 2053,
     "metadata": {},
     "output_type": "execute_result"
    }
   ],
   "source": [
    "temp.iloc[0].values"
   ]
  },
  {
   "cell_type": "code",
   "execution_count": 2054,
   "metadata": {},
   "outputs": [],
   "source": [
    "data['extra'] = pd.DataFrame([\",\".join(item).strip() if type(item) == list else item for item in data['\\nExtras\\n']])"
   ]
  },
  {
   "cell_type": "code",
   "execution_count": 2055,
   "metadata": {},
   "outputs": [
    {
     "data": {
      "text/plain": [
       "Alloy wheels                                                                                                                                  3245\n",
       "NaN                                                                                                                                           2962\n",
       "Alloy wheels,Touch screen                                                                                                                      697\n",
       "Alloy wheels,Voice Control                                                                                                                     577\n",
       "Alloy wheels,Touch screen,Voice Control                                                                                                        541\n",
       "                                                                                                                                              ... \n",
       "Roof rack,Trailer hitch,Voice Control                                                                                                            1\n",
       "Roof rack,Shift paddles,Trailer hitch                                                                                                            1\n",
       "Roof rack,Ski bag,Sport seats,Touch screen,Voice Control                                                                                         1\n",
       "Alloy wheels,Catalytic Converter,Handicapped enabled,Shift paddles,Sport package,Sport suspension,Touch screen,Trailer hitch,Voice Control       1\n",
       "Alloy wheels,Catalytic Converter,Roof rack,Ski bag,Sport package,Sport seats,Sport suspension,Touch screen,Voice Control,Winter tyres            1\n",
       "Name: extra, Length: 660, dtype: int64"
      ]
     },
     "execution_count": 2055,
     "metadata": {},
     "output_type": "execute_result"
    }
   ],
   "source": [
    "data.extra.value_counts(dropna = False)"
   ]
  },
  {
   "cell_type": "code",
   "execution_count": 2056,
   "metadata": {},
   "outputs": [],
   "source": [
    "fill_most(data, 'make_model', 'extra')"
   ]
  },
  {
   "cell_type": "code",
   "execution_count": 2057,
   "metadata": {},
   "outputs": [
    {
     "data": {
      "text/plain": [
       "Alloy wheels                                                                                                                                  6174\n",
       "Alloy wheels,Touch screen                                                                                                                      697\n",
       "Alloy wheels,Voice Control                                                                                                                     577\n",
       "Alloy wheels,Touch screen,Voice Control                                                                                                        541\n",
       "Alloy wheels,Roof rack                                                                                                                         385\n",
       "                                                                                                                                              ... \n",
       "Roof rack,Trailer hitch,Voice Control                                                                                                            1\n",
       "Roof rack,Shift paddles,Trailer hitch                                                                                                            1\n",
       "Roof rack,Ski bag,Sport seats,Touch screen,Voice Control                                                                                         1\n",
       "Alloy wheels,Catalytic Converter,Handicapped enabled,Shift paddles,Sport package,Sport suspension,Touch screen,Trailer hitch,Voice Control       1\n",
       "Alloy wheels,Catalytic Converter,Ski bag,Sport package,Sport suspension,Touch screen,Voice Control                                               1\n",
       "Name: extra, Length: 659, dtype: int64"
      ]
     },
     "execution_count": 2057,
     "metadata": {},
     "output_type": "execute_result"
    }
   ],
   "source": [
    "data.extra.value_counts(dropna = False)"
   ]
  },
  {
   "cell_type": "code",
   "execution_count": 2058,
   "metadata": {},
   "outputs": [],
   "source": [
    "data = data.join(data['extra'].str.get_dummies(sep = ',').add_prefix('ex_'))"
   ]
  },
  {
   "cell_type": "code",
   "execution_count": 2059,
   "metadata": {},
   "outputs": [
    {
     "data": {
      "text/html": [
       "<div>\n",
       "<style scoped>\n",
       "    .dataframe tbody tr th:only-of-type {\n",
       "        vertical-align: middle;\n",
       "    }\n",
       "\n",
       "    .dataframe tbody tr th {\n",
       "        vertical-align: top;\n",
       "    }\n",
       "\n",
       "    .dataframe thead th {\n",
       "        text-align: right;\n",
       "    }\n",
       "</style>\n",
       "<table border=\"1\" class=\"dataframe\">\n",
       "  <thead>\n",
       "    <tr style=\"text-align: right;\">\n",
       "      <th></th>\n",
       "      <th>url</th>\n",
       "      <th>make_model</th>\n",
       "      <th>short_description</th>\n",
       "      <th>body_type</th>\n",
       "      <th>price</th>\n",
       "      <th>vat</th>\n",
       "      <th>km</th>\n",
       "      <th>registration</th>\n",
       "      <th>hp</th>\n",
       "      <th>Type</th>\n",
       "      <th>Previous Owners</th>\n",
       "      <th>Next Inspection</th>\n",
       "      <th>Inspection new</th>\n",
       "      <th>Warranty</th>\n",
       "      <th>null</th>\n",
       "      <th>Make</th>\n",
       "      <th>Model</th>\n",
       "      <th>Offer Number</th>\n",
       "      <th>First Registration</th>\n",
       "      <th>Body Color</th>\n",
       "      <th>Paint Type</th>\n",
       "      <th>Body Color Original</th>\n",
       "      <th>Upholstery</th>\n",
       "      <th>Nr. of Doors</th>\n",
       "      <th>Nr. of Seats</th>\n",
       "      <th>Model Code</th>\n",
       "      <th>Gearing Type</th>\n",
       "      <th>Displacement</th>\n",
       "      <th>Cylinders</th>\n",
       "      <th>Drive chain</th>\n",
       "      <th>Fuel</th>\n",
       "      <th>Consumption</th>\n",
       "      <th>CO2 Emission</th>\n",
       "      <th>Emission Class</th>\n",
       "      <th>\\nComfort &amp; Convenience\\n</th>\n",
       "      <th>\\nEntertainment &amp; Media\\n</th>\n",
       "      <th>\\nExtras\\n</th>\n",
       "      <th>\\nSafety &amp; Security\\n</th>\n",
       "      <th>description</th>\n",
       "      <th>Emission Label</th>\n",
       "      <th>Gears</th>\n",
       "      <th>Country version</th>\n",
       "      <th>Previous_Owner1</th>\n",
       "      <th>Previous_Owner</th>\n",
       "      <th>Inspection_New_Bool</th>\n",
       "      <th>next_inspection</th>\n",
       "      <th>paint_type</th>\n",
       "      <th>country</th>\n",
       "      <th>emission_label</th>\n",
       "      <th>Comfort&amp;Convenience</th>\n",
       "      <th>cc_Air conditioning</th>\n",
       "      <th>cc_Air suspension</th>\n",
       "      <th>cc_Armrest</th>\n",
       "      <th>cc_Automatic climate control</th>\n",
       "      <th>cc_Auxiliary heating</th>\n",
       "      <th>cc_Cruise control</th>\n",
       "      <th>cc_Electric Starter</th>\n",
       "      <th>cc_Electric tailgate</th>\n",
       "      <th>cc_Electrical side mirrors</th>\n",
       "      <th>cc_Electrically adjustable seats</th>\n",
       "      <th>cc_Electrically heated windshield</th>\n",
       "      <th>cc_Heads-up display</th>\n",
       "      <th>cc_Heated steering wheel</th>\n",
       "      <th>cc_Hill Holder</th>\n",
       "      <th>cc_Keyless central door lock</th>\n",
       "      <th>cc_Leather seats</th>\n",
       "      <th>cc_Leather steering wheel</th>\n",
       "      <th>cc_Light sensor</th>\n",
       "      <th>cc_Lumbar support</th>\n",
       "      <th>cc_Massage seats</th>\n",
       "      <th>cc_Multi-function steering wheel</th>\n",
       "      <th>cc_Navigation system</th>\n",
       "      <th>cc_Panorama roof</th>\n",
       "      <th>cc_Park Distance Control</th>\n",
       "      <th>cc_Parking assist system camera</th>\n",
       "      <th>cc_Parking assist system self-steering</th>\n",
       "      <th>cc_Parking assist system sensors front</th>\n",
       "      <th>cc_Parking assist system sensors rear</th>\n",
       "      <th>cc_Power windows</th>\n",
       "      <th>cc_Rain sensor</th>\n",
       "      <th>cc_Seat heating</th>\n",
       "      <th>cc_Seat ventilation</th>\n",
       "      <th>cc_Split rear seats</th>\n",
       "      <th>cc_Start-stop system</th>\n",
       "      <th>cc_Sunroof</th>\n",
       "      <th>cc_Tinted windows</th>\n",
       "      <th>cc_Wind deflector</th>\n",
       "      <th>cc_Windshield</th>\n",
       "      <th>Entertainment&amp;Media</th>\n",
       "      <th>em_Bluetooth</th>\n",
       "      <th>em_CD player</th>\n",
       "      <th>em_Digital radio</th>\n",
       "      <th>em_Hands-free equipment</th>\n",
       "      <th>em_MP3</th>\n",
       "      <th>em_On-board computer</th>\n",
       "      <th>em_Radio</th>\n",
       "      <th>em_Sound system</th>\n",
       "      <th>em_Television</th>\n",
       "      <th>em_USB</th>\n",
       "      <th>extra</th>\n",
       "      <th>ex_Alloy wheels</th>\n",
       "      <th>ex_Cab or rented Car</th>\n",
       "      <th>ex_Catalytic Converter</th>\n",
       "      <th>ex_Handicapped enabled</th>\n",
       "      <th>ex_Right hand drive</th>\n",
       "      <th>ex_Roof rack</th>\n",
       "      <th>ex_Shift paddles</th>\n",
       "      <th>ex_Ski bag</th>\n",
       "      <th>ex_Sliding door</th>\n",
       "      <th>ex_Sport package</th>\n",
       "      <th>ex_Sport seats</th>\n",
       "      <th>ex_Sport suspension</th>\n",
       "      <th>ex_Touch screen</th>\n",
       "      <th>ex_Trailer hitch</th>\n",
       "      <th>ex_Tuned car</th>\n",
       "      <th>ex_Voice Control</th>\n",
       "      <th>ex_Winter tyres</th>\n",
       "    </tr>\n",
       "  </thead>\n",
       "  <tbody>\n",
       "    <tr>\n",
       "      <th>0</th>\n",
       "      <td>https://www.autoscout24.com//offers/audi-a1-sportback-1-4-tdi-s-tronic-xenon-navi-klima-diesel-black-bdab349a-caa5-41b0-98eb-c1345b84445e</td>\n",
       "      <td>Audi A1</td>\n",
       "      <td>Sportback 1.4 TDI S-tronic Xenon Navi Klima</td>\n",
       "      <td>Sedans</td>\n",
       "      <td>15770</td>\n",
       "      <td>VAT deductible</td>\n",
       "      <td>56,013 km</td>\n",
       "      <td>01/2016</td>\n",
       "      <td>66 kW</td>\n",
       "      <td>[, Used, , Diesel (Particulate Filter)]</td>\n",
       "      <td>\\n2\\n</td>\n",
       "      <td>[\\n06/2021\\n, \\n99 g CO2/km (comb)\\n]</td>\n",
       "      <td>[\\nYes\\n, \\nEuro 6\\n]</td>\n",
       "      <td>[\\n, \\n, \\n4 (Green)\\n]</td>\n",
       "      <td>[]</td>\n",
       "      <td>\\nAudi\\n</td>\n",
       "      <td>[\\n, A1, \\n]</td>\n",
       "      <td>[\\nLR-062483\\n]</td>\n",
       "      <td>[\\n, 2016, \\n]</td>\n",
       "      <td>[\\n, Black, \\n]</td>\n",
       "      <td>[\\nMetallic\\n]</td>\n",
       "      <td>[\\nMythosschwarz\\n]</td>\n",
       "      <td>[\\nCloth, Black\\n]</td>\n",
       "      <td>[\\n5\\n]</td>\n",
       "      <td>[\\n5\\n]</td>\n",
       "      <td>[\\n0588/BDF\\n]</td>\n",
       "      <td>[\\n, Automatic, \\n]</td>\n",
       "      <td>[\\n1,422 cc\\n]</td>\n",
       "      <td>3</td>\n",
       "      <td>[\\nfront\\n]</td>\n",
       "      <td>[\\n, Diesel (Particulate Filter), \\n]</td>\n",
       "      <td>[[3.8 l/100 km (comb)], [4.3 l/100 km (city)], [3.5 l/100 km (country)]]</td>\n",
       "      <td>[\\n99 g CO2/km (comb)\\n]</td>\n",
       "      <td>[\\nEuro 6\\n]</td>\n",
       "      <td>[Air conditioning, Armrest, Automatic climate control, Cruise control, Electrical side mirrors, Hill Holder, Leather steering wheel, Light sensor, Multi-function steering wheel, Navigation system, Park Distance Control, Parking assist system sensors rear, Power windows, Rain sensor, Seat heating, Start-stop system]</td>\n",
       "      <td>[Bluetooth, Hands-free equipment, On-board computer, Radio]</td>\n",
       "      <td>[Alloy wheels, Catalytic Converter, Voice Control]</td>\n",
       "      <td>[ABS, Central door lock, Daytime running lights, Driver-side airbag, Electronic stability control, Fog lights, Immobilizer, Isofix, Passenger-side airbag, Power steering, Side airbag, Tire pressure monitoring system, Traction control, Xenon headlights]</td>\n",
       "      <td>[\\n, Sicherheit:,  , Deaktivierung für Beifahrer-Airbag,  , ESC mit elektronischer Quersperre,  , Tagfahrlicht,  , Reifendruck-Kontrollanzeige,  , Kopfairbag-System mit Seiten-Airbags vorn,  , Sicherheitslenksäule, Assistenzsysteme:,  , Berganfahrassistent, Komfort:,  , Scheinwerferreinigung,  , Xenon plus inklusive Scheinwerfer-Reinigungsanlage,  , Scheinwerfer-Reinigungsanlage,  , Einparkhilfe hinten,  , Licht-/Regensensor,  , Funkfernbedienung,  , Elektrische Luftzusatzheizung, Interieur:...</td>\n",
       "      <td>NaN</td>\n",
       "      <td>NaN</td>\n",
       "      <td>NaN</td>\n",
       "      <td>NaN</td>\n",
       "      <td>2</td>\n",
       "      <td>1</td>\n",
       "      <td>2021-06-01</td>\n",
       "      <td>Metallic</td>\n",
       "      <td>NaN</td>\n",
       "      <td>NaN</td>\n",
       "      <td>Air conditioning,Armrest,Automatic climate control,Cruise control,Electrical side mirrors,Hill Holder,Leather steering wheel,Light sensor,Multi-function steering wheel,Navigation system,Park Distance Control,Parking assist system sensors rear,Power windows,Rain sensor,Seat heating,Start-stop system</td>\n",
       "      <td>1</td>\n",
       "      <td>0</td>\n",
       "      <td>1</td>\n",
       "      <td>1</td>\n",
       "      <td>0</td>\n",
       "      <td>1</td>\n",
       "      <td>0</td>\n",
       "      <td>0</td>\n",
       "      <td>1</td>\n",
       "      <td>0</td>\n",
       "      <td>0</td>\n",
       "      <td>0</td>\n",
       "      <td>0</td>\n",
       "      <td>1</td>\n",
       "      <td>0</td>\n",
       "      <td>0</td>\n",
       "      <td>1</td>\n",
       "      <td>1</td>\n",
       "      <td>0</td>\n",
       "      <td>0</td>\n",
       "      <td>1</td>\n",
       "      <td>1</td>\n",
       "      <td>0</td>\n",
       "      <td>1</td>\n",
       "      <td>0</td>\n",
       "      <td>0</td>\n",
       "      <td>0</td>\n",
       "      <td>1</td>\n",
       "      <td>1</td>\n",
       "      <td>1</td>\n",
       "      <td>1</td>\n",
       "      <td>0</td>\n",
       "      <td>0</td>\n",
       "      <td>1</td>\n",
       "      <td>0</td>\n",
       "      <td>0</td>\n",
       "      <td>0</td>\n",
       "      <td>0</td>\n",
       "      <td>Bluetooth,Hands-free equipment,On-board computer,Radio</td>\n",
       "      <td>1</td>\n",
       "      <td>0</td>\n",
       "      <td>0</td>\n",
       "      <td>1</td>\n",
       "      <td>0</td>\n",
       "      <td>1</td>\n",
       "      <td>1</td>\n",
       "      <td>0</td>\n",
       "      <td>0</td>\n",
       "      <td>0</td>\n",
       "      <td>Alloy wheels,Catalytic Converter,Voice Control</td>\n",
       "      <td>1</td>\n",
       "      <td>0</td>\n",
       "      <td>1</td>\n",
       "      <td>0</td>\n",
       "      <td>0</td>\n",
       "      <td>0</td>\n",
       "      <td>0</td>\n",
       "      <td>0</td>\n",
       "      <td>0</td>\n",
       "      <td>0</td>\n",
       "      <td>0</td>\n",
       "      <td>0</td>\n",
       "      <td>0</td>\n",
       "      <td>0</td>\n",
       "      <td>0</td>\n",
       "      <td>1</td>\n",
       "      <td>0</td>\n",
       "    </tr>\n",
       "    <tr>\n",
       "      <th>1</th>\n",
       "      <td>https://www.autoscout24.com//offers/audi-a1-1-8-tfsi-sport-gasoline-red-b2547f8a-e83f-6237-e053-e250040a56df</td>\n",
       "      <td>Audi A1</td>\n",
       "      <td>1.8 TFSI sport</td>\n",
       "      <td>Sedans</td>\n",
       "      <td>14500</td>\n",
       "      <td>Price negotiable</td>\n",
       "      <td>80,000 km</td>\n",
       "      <td>03/2017</td>\n",
       "      <td>141 kW</td>\n",
       "      <td>[, Used, , Gasoline]</td>\n",
       "      <td>NaN</td>\n",
       "      <td>NaN</td>\n",
       "      <td>NaN</td>\n",
       "      <td>NaN</td>\n",
       "      <td>[]</td>\n",
       "      <td>\\nAudi\\n</td>\n",
       "      <td>[\\n, A1, \\n]</td>\n",
       "      <td>NaN</td>\n",
       "      <td>[\\n, 2017, \\n]</td>\n",
       "      <td>[\\n, Red, \\n]</td>\n",
       "      <td>NaN</td>\n",
       "      <td>NaN</td>\n",
       "      <td>[\\nCloth, Grey\\n]</td>\n",
       "      <td>[\\n3\\n]</td>\n",
       "      <td>[\\n4\\n]</td>\n",
       "      <td>[\\n0588/BCY\\n]</td>\n",
       "      <td>[\\n, Automatic, \\n]</td>\n",
       "      <td>[\\n1,798 cc\\n]</td>\n",
       "      <td>4</td>\n",
       "      <td>[\\nfront\\n]</td>\n",
       "      <td>[\\n, Gasoline, \\n]</td>\n",
       "      <td>[[5.6 l/100 km (comb)], [7.1 l/100 km (city)], [4.7 l/100 km (country)]]</td>\n",
       "      <td>[\\n129 g CO2/km (comb)\\n]</td>\n",
       "      <td>[\\nEuro 6\\n]</td>\n",
       "      <td>[Air conditioning, Automatic climate control, Hill Holder, Leather steering wheel, Lumbar support, Parking assist system sensors rear, Power windows, Start-stop system, Tinted windows]</td>\n",
       "      <td>[Bluetooth, Hands-free equipment, On-board computer, Radio, Sound system]</td>\n",
       "      <td>[Alloy wheels, Sport seats, Sport suspension, Voice Control]</td>\n",
       "      <td>[ABS, Central door lock, Central door lock with remote control, Daytime running lights, Driver-side airbag, Electronic stability control, Head airbag, Immobilizer, Isofix, Passenger-side airbag, Power steering, Side airbag, Tire pressure monitoring system, Traction control, Xenon headlights]</td>\n",
       "      <td>[\\nLangstreckenfahrzeug daher die hohe Kilometerleistung. , Bremsen neu bei 62000 km. , Gut gepflegter A1\\n]</td>\n",
       "      <td>[\\n4 (Green)\\n]</td>\n",
       "      <td>[\\n7\\n]</td>\n",
       "      <td>NaN</td>\n",
       "      <td>NaN</td>\n",
       "      <td>1</td>\n",
       "      <td>0</td>\n",
       "      <td>NaT</td>\n",
       "      <td>NaN</td>\n",
       "      <td>NaN</td>\n",
       "      <td>4 (Green)</td>\n",
       "      <td>Air conditioning,Automatic climate control,Hill Holder,Leather steering wheel,Lumbar support,Parking assist system sensors rear,Power windows,Start-stop system,Tinted windows</td>\n",
       "      <td>1</td>\n",
       "      <td>0</td>\n",
       "      <td>0</td>\n",
       "      <td>1</td>\n",
       "      <td>0</td>\n",
       "      <td>0</td>\n",
       "      <td>0</td>\n",
       "      <td>0</td>\n",
       "      <td>0</td>\n",
       "      <td>0</td>\n",
       "      <td>0</td>\n",
       "      <td>0</td>\n",
       "      <td>0</td>\n",
       "      <td>1</td>\n",
       "      <td>0</td>\n",
       "      <td>0</td>\n",
       "      <td>1</td>\n",
       "      <td>0</td>\n",
       "      <td>1</td>\n",
       "      <td>0</td>\n",
       "      <td>0</td>\n",
       "      <td>0</td>\n",
       "      <td>0</td>\n",
       "      <td>0</td>\n",
       "      <td>0</td>\n",
       "      <td>0</td>\n",
       "      <td>0</td>\n",
       "      <td>1</td>\n",
       "      <td>1</td>\n",
       "      <td>0</td>\n",
       "      <td>0</td>\n",
       "      <td>0</td>\n",
       "      <td>0</td>\n",
       "      <td>1</td>\n",
       "      <td>0</td>\n",
       "      <td>1</td>\n",
       "      <td>0</td>\n",
       "      <td>0</td>\n",
       "      <td>Bluetooth,Hands-free equipment,On-board computer,Radio,Sound system</td>\n",
       "      <td>1</td>\n",
       "      <td>0</td>\n",
       "      <td>0</td>\n",
       "      <td>1</td>\n",
       "      <td>0</td>\n",
       "      <td>1</td>\n",
       "      <td>1</td>\n",
       "      <td>1</td>\n",
       "      <td>0</td>\n",
       "      <td>0</td>\n",
       "      <td>Alloy wheels,Sport seats,Sport suspension,Voice Control</td>\n",
       "      <td>1</td>\n",
       "      <td>0</td>\n",
       "      <td>0</td>\n",
       "      <td>0</td>\n",
       "      <td>0</td>\n",
       "      <td>0</td>\n",
       "      <td>0</td>\n",
       "      <td>0</td>\n",
       "      <td>0</td>\n",
       "      <td>0</td>\n",
       "      <td>1</td>\n",
       "      <td>1</td>\n",
       "      <td>0</td>\n",
       "      <td>0</td>\n",
       "      <td>0</td>\n",
       "      <td>1</td>\n",
       "      <td>0</td>\n",
       "    </tr>\n",
       "    <tr>\n",
       "      <th>2</th>\n",
       "      <td>https://www.autoscout24.com//offers/audi-a1-sportback-1-6-tdi-s-tronic-einparkhilfe-plus-music-diesel-black-6183cb6a-8570-4b86-a132-9b54214bca88</td>\n",
       "      <td>Audi A1</td>\n",
       "      <td>Sportback 1.6 TDI S tronic Einparkhilfe plus+music</td>\n",
       "      <td>Sedans</td>\n",
       "      <td>14640</td>\n",
       "      <td>VAT deductible</td>\n",
       "      <td>83,450 km</td>\n",
       "      <td>02/2016</td>\n",
       "      <td>85 kW</td>\n",
       "      <td>[, Used, , Diesel (Particulate Filter)]</td>\n",
       "      <td>\\n1\\n</td>\n",
       "      <td>NaN</td>\n",
       "      <td>NaN</td>\n",
       "      <td>[\\n, \\n, \\n99 g CO2/km (comb)\\n]</td>\n",
       "      <td>[]</td>\n",
       "      <td>\\nAudi\\n</td>\n",
       "      <td>[\\n, A1, \\n]</td>\n",
       "      <td>[\\nAM-95365\\n]</td>\n",
       "      <td>[\\n, 2016, \\n]</td>\n",
       "      <td>[\\n, Black, \\n]</td>\n",
       "      <td>[\\nMetallic\\n]</td>\n",
       "      <td>[\\nmythosschwarz metallic\\n]</td>\n",
       "      <td>[\\nCloth, Black\\n]</td>\n",
       "      <td>[\\n4\\n]</td>\n",
       "      <td>[\\n4\\n]</td>\n",
       "      <td>NaN</td>\n",
       "      <td>[\\n, Automatic, \\n]</td>\n",
       "      <td>[\\n1,598 cc\\n]</td>\n",
       "      <td>NaN</td>\n",
       "      <td>[\\nfront\\n]</td>\n",
       "      <td>[\\n, Diesel (Particulate Filter), \\n]</td>\n",
       "      <td>[[3.8 l/100 km (comb)], [4.4 l/100 km (city)], [3.4 l/100 km (country)]]</td>\n",
       "      <td>[\\n99 g CO2/km (comb)\\n]</td>\n",
       "      <td>[\\nEuro 6\\n]</td>\n",
       "      <td>[Air conditioning, Cruise control, Electrical side mirrors, Hill Holder, Leather steering wheel, Multi-function steering wheel, Navigation system, Park Distance Control, Parking assist system sensors front, Parking assist system sensors rear, Power windows, Seat heating, Start-stop system]</td>\n",
       "      <td>[MP3, On-board computer]</td>\n",
       "      <td>[Alloy wheels, Voice Control]</td>\n",
       "      <td>[ABS, Central door lock, Daytime running lights, Driver-side airbag, Electronic stability control, Immobilizer, Isofix, Passenger-side airbag, Power steering, Side airbag, Tire pressure monitoring system, Traction control]</td>\n",
       "      <td>[\\n, Fahrzeug-Nummer: AM-95365,  , Ehem. UPE 24.640 EUR,  , Komfort,  , Klimaanlage,  , Elektrische Fensterheber,  , Sitzheizung,  , Tempomat,  , Zentralverriegelung,  , Leder-Lenkrad,  , Elektrische Spiegel,  , Wärmedämmendes Glas,  , Anfahrassistent,  , Sicherheit,  , Window/Kopfairbags,  , ESP (el. Stabilitäts Programm),  , Elektronische Wegfahrsperre,  , Reifendruckkontrolle,  , Tagfahrlicht,  , Exterieur,  , Alufelgen 16 Zoll,  , Einparkhilfe vo + hi,  , Interieur,  , Stoff Zeitgeist,  ...</td>\n",
       "      <td>[\\n4 (Green)\\n]</td>\n",
       "      <td>NaN</td>\n",
       "      <td>NaN</td>\n",
       "      <td>NaN</td>\n",
       "      <td>1</td>\n",
       "      <td>0</td>\n",
       "      <td>NaT</td>\n",
       "      <td>Metallic</td>\n",
       "      <td>NaN</td>\n",
       "      <td>4 (Green)</td>\n",
       "      <td>Air conditioning,Cruise control,Electrical side mirrors,Hill Holder,Leather steering wheel,Multi-function steering wheel,Navigation system,Park Distance Control,Parking assist system sensors front,Parking assist system sensors rear,Power windows,Seat heating,Start-stop system</td>\n",
       "      <td>1</td>\n",
       "      <td>0</td>\n",
       "      <td>0</td>\n",
       "      <td>0</td>\n",
       "      <td>0</td>\n",
       "      <td>1</td>\n",
       "      <td>0</td>\n",
       "      <td>0</td>\n",
       "      <td>1</td>\n",
       "      <td>0</td>\n",
       "      <td>0</td>\n",
       "      <td>0</td>\n",
       "      <td>0</td>\n",
       "      <td>1</td>\n",
       "      <td>0</td>\n",
       "      <td>0</td>\n",
       "      <td>1</td>\n",
       "      <td>0</td>\n",
       "      <td>0</td>\n",
       "      <td>0</td>\n",
       "      <td>1</td>\n",
       "      <td>1</td>\n",
       "      <td>0</td>\n",
       "      <td>1</td>\n",
       "      <td>0</td>\n",
       "      <td>0</td>\n",
       "      <td>1</td>\n",
       "      <td>1</td>\n",
       "      <td>1</td>\n",
       "      <td>0</td>\n",
       "      <td>1</td>\n",
       "      <td>0</td>\n",
       "      <td>0</td>\n",
       "      <td>1</td>\n",
       "      <td>0</td>\n",
       "      <td>0</td>\n",
       "      <td>0</td>\n",
       "      <td>0</td>\n",
       "      <td>MP3,On-board computer</td>\n",
       "      <td>0</td>\n",
       "      <td>0</td>\n",
       "      <td>0</td>\n",
       "      <td>0</td>\n",
       "      <td>1</td>\n",
       "      <td>1</td>\n",
       "      <td>0</td>\n",
       "      <td>0</td>\n",
       "      <td>0</td>\n",
       "      <td>0</td>\n",
       "      <td>Alloy wheels,Voice Control</td>\n",
       "      <td>1</td>\n",
       "      <td>0</td>\n",
       "      <td>0</td>\n",
       "      <td>0</td>\n",
       "      <td>0</td>\n",
       "      <td>0</td>\n",
       "      <td>0</td>\n",
       "      <td>0</td>\n",
       "      <td>0</td>\n",
       "      <td>0</td>\n",
       "      <td>0</td>\n",
       "      <td>0</td>\n",
       "      <td>0</td>\n",
       "      <td>0</td>\n",
       "      <td>0</td>\n",
       "      <td>1</td>\n",
       "      <td>0</td>\n",
       "    </tr>\n",
       "    <tr>\n",
       "      <th>3</th>\n",
       "      <td>https://www.autoscout24.com//offers/audi-a1-1-4-tdi-design-s-tronic-diesel-brown-35c86585-2727-d61e-e053-e250040ad640</td>\n",
       "      <td>Audi A1</td>\n",
       "      <td>1.4 TDi Design S tronic</td>\n",
       "      <td>Sedans</td>\n",
       "      <td>14500</td>\n",
       "      <td>None</td>\n",
       "      <td>73,000 km</td>\n",
       "      <td>08/2016</td>\n",
       "      <td>66 kW</td>\n",
       "      <td>[, Used, , Diesel (Particulate Filter)]</td>\n",
       "      <td>\\n1\\n</td>\n",
       "      <td>NaN</td>\n",
       "      <td>NaN</td>\n",
       "      <td>NaN</td>\n",
       "      <td>[]</td>\n",
       "      <td>\\nAudi\\n</td>\n",
       "      <td>[\\n, A1, \\n]</td>\n",
       "      <td>NaN</td>\n",
       "      <td>[\\n, 2016, \\n]</td>\n",
       "      <td>[\\n, Brown, \\n]</td>\n",
       "      <td>[\\nMetallic\\n]</td>\n",
       "      <td>NaN</td>\n",
       "      <td>NaN</td>\n",
       "      <td>[\\n3\\n]</td>\n",
       "      <td>[\\n4\\n]</td>\n",
       "      <td>NaN</td>\n",
       "      <td>[\\n, Automatic, \\n]</td>\n",
       "      <td>[\\n1,422 cc\\n]</td>\n",
       "      <td>3</td>\n",
       "      <td>NaN</td>\n",
       "      <td>[\\n, Diesel (Particulate Filter), \\n]</td>\n",
       "      <td>[[3.8 l/100 km (comb)], [4.3 l/100 km (city)], [3.5 l/100 km (country)]]</td>\n",
       "      <td>[\\n99 g CO2/km (comb)\\n]</td>\n",
       "      <td>[\\nEuro 6\\n]</td>\n",
       "      <td>[Air suspension, Armrest, Auxiliary heating, Electrical side mirrors, Heads-up display, Hill Holder, Leather steering wheel, Light sensor, Lumbar support, Multi-function steering wheel, Navigation system, Power windows, Rain sensor, Seat heating, Split rear seats, Start-stop system]</td>\n",
       "      <td>[Bluetooth, CD player, Hands-free equipment, MP3, On-board computer, Radio, Sound system, USB]</td>\n",
       "      <td>[Alloy wheels, Sport seats, Voice Control]</td>\n",
       "      <td>[ABS, Alarm system, Central door lock with remote control, Driver drowsiness detection, Driver-side airbag, Electronic stability control, Emergency system, Head airbag, Immobilizer, Isofix, Passenger-side airbag, Power steering, Side airbag, Tire pressure monitoring system]</td>\n",
       "      <td>[\\nAudi A1: , - 1e eigenaar , - Perfecte staat: schade/ongevalvrij , - Onderhoudsboekje Audi garage , - Full option!, - S-line opties, - Automaat, lederen bekleding, navi-pro, Xenon lampen, zetelverwarming, automatische airco,...\\n]</td>\n",
       "      <td>NaN</td>\n",
       "      <td>[\\n6\\n]</td>\n",
       "      <td>NaN</td>\n",
       "      <td>NaN</td>\n",
       "      <td>1</td>\n",
       "      <td>0</td>\n",
       "      <td>NaT</td>\n",
       "      <td>Metallic</td>\n",
       "      <td>NaN</td>\n",
       "      <td>NaN</td>\n",
       "      <td>Air suspension,Armrest,Auxiliary heating,Electrical side mirrors,Heads-up display,Hill Holder,Leather steering wheel,Light sensor,Lumbar support,Multi-function steering wheel,Navigation system,Power windows,Rain sensor,Seat heating,Split rear seats,Start-stop system</td>\n",
       "      <td>0</td>\n",
       "      <td>1</td>\n",
       "      <td>1</td>\n",
       "      <td>0</td>\n",
       "      <td>1</td>\n",
       "      <td>0</td>\n",
       "      <td>0</td>\n",
       "      <td>0</td>\n",
       "      <td>1</td>\n",
       "      <td>0</td>\n",
       "      <td>0</td>\n",
       "      <td>1</td>\n",
       "      <td>0</td>\n",
       "      <td>1</td>\n",
       "      <td>0</td>\n",
       "      <td>0</td>\n",
       "      <td>1</td>\n",
       "      <td>1</td>\n",
       "      <td>1</td>\n",
       "      <td>0</td>\n",
       "      <td>1</td>\n",
       "      <td>1</td>\n",
       "      <td>0</td>\n",
       "      <td>0</td>\n",
       "      <td>0</td>\n",
       "      <td>0</td>\n",
       "      <td>0</td>\n",
       "      <td>0</td>\n",
       "      <td>1</td>\n",
       "      <td>1</td>\n",
       "      <td>1</td>\n",
       "      <td>0</td>\n",
       "      <td>1</td>\n",
       "      <td>1</td>\n",
       "      <td>0</td>\n",
       "      <td>0</td>\n",
       "      <td>0</td>\n",
       "      <td>0</td>\n",
       "      <td>Bluetooth,CD player,Hands-free equipment,MP3,On-board computer,Radio,Sound system,USB</td>\n",
       "      <td>1</td>\n",
       "      <td>1</td>\n",
       "      <td>0</td>\n",
       "      <td>1</td>\n",
       "      <td>1</td>\n",
       "      <td>1</td>\n",
       "      <td>1</td>\n",
       "      <td>1</td>\n",
       "      <td>0</td>\n",
       "      <td>1</td>\n",
       "      <td>Alloy wheels,Sport seats,Voice Control</td>\n",
       "      <td>1</td>\n",
       "      <td>0</td>\n",
       "      <td>0</td>\n",
       "      <td>0</td>\n",
       "      <td>0</td>\n",
       "      <td>0</td>\n",
       "      <td>0</td>\n",
       "      <td>0</td>\n",
       "      <td>0</td>\n",
       "      <td>0</td>\n",
       "      <td>1</td>\n",
       "      <td>0</td>\n",
       "      <td>0</td>\n",
       "      <td>0</td>\n",
       "      <td>0</td>\n",
       "      <td>1</td>\n",
       "      <td>0</td>\n",
       "    </tr>\n",
       "    <tr>\n",
       "      <th>4</th>\n",
       "      <td>https://www.autoscout24.com//offers/audi-a1-sportback-1-4-tdi-s-tronic-s-line-ext-admired-xe-diesel-black-b86b55d8-9c7c-4a58-b658-b97008a51efc</td>\n",
       "      <td>Audi A1</td>\n",
       "      <td>Sportback 1.4 TDI S-Tronic S-Line Ext. admired, Xe</td>\n",
       "      <td>Sedans</td>\n",
       "      <td>16790</td>\n",
       "      <td>None</td>\n",
       "      <td>16,200 km</td>\n",
       "      <td>05/2016</td>\n",
       "      <td>66 kW</td>\n",
       "      <td>[, Used, , Diesel (Particulate Filter)]</td>\n",
       "      <td>\\n1\\n</td>\n",
       "      <td>NaN</td>\n",
       "      <td>[\\nYes\\n, \\n109 g CO2/km (comb)\\n]</td>\n",
       "      <td>[\\n, \\n, \\nEuro 6\\n]</td>\n",
       "      <td>[]</td>\n",
       "      <td>\\nAudi\\n</td>\n",
       "      <td>[\\n, A1, \\n]</td>\n",
       "      <td>[\\nC1626\\n]</td>\n",
       "      <td>[\\n, 2016, \\n]</td>\n",
       "      <td>[\\n, Black, \\n]</td>\n",
       "      <td>[\\nMetallic\\n]</td>\n",
       "      <td>[\\nMythosschwarz Metallic\\n]</td>\n",
       "      <td>[\\nCloth, Black\\n]</td>\n",
       "      <td>[\\n5\\n]</td>\n",
       "      <td>[\\n5\\n]</td>\n",
       "      <td>[\\n0588/BDF\\n]</td>\n",
       "      <td>[\\n, Automatic, \\n]</td>\n",
       "      <td>[\\n1,422 cc\\n]</td>\n",
       "      <td>3</td>\n",
       "      <td>[\\nfront\\n]</td>\n",
       "      <td>[\\n, Diesel (Particulate Filter), \\n]</td>\n",
       "      <td>[[4.1 l/100 km (comb)], [4.6 l/100 km (city)], [3.8 l/100 km (country)]]</td>\n",
       "      <td>[\\n109 g CO2/km (comb)\\n]</td>\n",
       "      <td>[\\nEuro 6\\n]</td>\n",
       "      <td>[Air conditioning, Armrest, Automatic climate control, Electrical side mirrors, Hill Holder, Leather steering wheel, Light sensor, Multi-function steering wheel, Park Distance Control, Parking assist system sensors rear, Power windows, Rain sensor, Start-stop system]</td>\n",
       "      <td>[Bluetooth, CD player, Hands-free equipment, MP3, On-board computer, Radio, USB]</td>\n",
       "      <td>[Alloy wheels, Sport package, Sport suspension, Voice Control]</td>\n",
       "      <td>[ABS, Central door lock, Driver-side airbag, Electronic stability control, Fog lights, Immobilizer, Isofix, Passenger-side airbag, Power steering, Side airbag, Tire pressure monitoring system, Traction control, Xenon headlights]</td>\n",
       "      <td>[\\n, Technik &amp; Sicherheit:, Xenon plus, Klimaautomatik, Einparkhilfe hinten, Scheinwerferreinigungsanlage, Nebelscheinwerfer, Zentralverriegelung mit Fernbedienung, Außenspiegel elek. einstellbar, Fensterheber elek, Start/Stop Anlage, 6 Airbag inkl. Kopfairbag, Euro 6, Multimedia:, Radio CD Concert, audi music interface, Handyvorbereitung (Bluetooth), Sprachsteuerung, USB Anschluss, Assistenzsysteme:, Lichtsensor, Regensensor, Berganfahrassistent, Reifendruckkontrolle, ESP inkl. ABS, Interie...</td>\n",
       "      <td>NaN</td>\n",
       "      <td>NaN</td>\n",
       "      <td>[\\nGermany\\n]</td>\n",
       "      <td>NaN</td>\n",
       "      <td>1</td>\n",
       "      <td>1</td>\n",
       "      <td>NaT</td>\n",
       "      <td>Metallic</td>\n",
       "      <td>Germany</td>\n",
       "      <td>NaN</td>\n",
       "      <td>Air conditioning,Armrest,Automatic climate control,Electrical side mirrors,Hill Holder,Leather steering wheel,Light sensor,Multi-function steering wheel,Park Distance Control,Parking assist system sensors rear,Power windows,Rain sensor,Start-stop system</td>\n",
       "      <td>1</td>\n",
       "      <td>0</td>\n",
       "      <td>1</td>\n",
       "      <td>1</td>\n",
       "      <td>0</td>\n",
       "      <td>0</td>\n",
       "      <td>0</td>\n",
       "      <td>0</td>\n",
       "      <td>1</td>\n",
       "      <td>0</td>\n",
       "      <td>0</td>\n",
       "      <td>0</td>\n",
       "      <td>0</td>\n",
       "      <td>1</td>\n",
       "      <td>0</td>\n",
       "      <td>0</td>\n",
       "      <td>1</td>\n",
       "      <td>1</td>\n",
       "      <td>0</td>\n",
       "      <td>0</td>\n",
       "      <td>1</td>\n",
       "      <td>0</td>\n",
       "      <td>0</td>\n",
       "      <td>1</td>\n",
       "      <td>0</td>\n",
       "      <td>0</td>\n",
       "      <td>0</td>\n",
       "      <td>1</td>\n",
       "      <td>1</td>\n",
       "      <td>1</td>\n",
       "      <td>0</td>\n",
       "      <td>0</td>\n",
       "      <td>0</td>\n",
       "      <td>1</td>\n",
       "      <td>0</td>\n",
       "      <td>0</td>\n",
       "      <td>0</td>\n",
       "      <td>0</td>\n",
       "      <td>Bluetooth,CD player,Hands-free equipment,MP3,On-board computer,Radio,USB</td>\n",
       "      <td>1</td>\n",
       "      <td>1</td>\n",
       "      <td>0</td>\n",
       "      <td>1</td>\n",
       "      <td>1</td>\n",
       "      <td>1</td>\n",
       "      <td>1</td>\n",
       "      <td>0</td>\n",
       "      <td>0</td>\n",
       "      <td>1</td>\n",
       "      <td>Alloy wheels,Sport package,Sport suspension,Voice Control</td>\n",
       "      <td>1</td>\n",
       "      <td>0</td>\n",
       "      <td>0</td>\n",
       "      <td>0</td>\n",
       "      <td>0</td>\n",
       "      <td>0</td>\n",
       "      <td>0</td>\n",
       "      <td>0</td>\n",
       "      <td>0</td>\n",
       "      <td>1</td>\n",
       "      <td>0</td>\n",
       "      <td>1</td>\n",
       "      <td>0</td>\n",
       "      <td>0</td>\n",
       "      <td>0</td>\n",
       "      <td>1</td>\n",
       "      <td>0</td>\n",
       "    </tr>\n",
       "  </tbody>\n",
       "</table>\n",
       "</div>"
      ],
      "text/plain": [
       "                                                                                                                                                url make_model                                   short_description body_type  price               vat         km registration      hp                                     Type Previous Owners                        Next Inspection                      Inspection new                          Warranty null      Make         Model     Offer Number First Registration       Body Color      Paint Type           Body Color Original          Upholstery Nr. of Doors Nr. of Seats      Model Code         Gearing Type    Displacement Cylinders  Drive chain                                   Fuel                                                               Consumption               CO2 Emission Emission Class                                                                                                                                                                                                                                                                                                     \\nComfort & Convenience\\n                                                                       \\nEntertainment & Media\\n                                                      \\nExtras\\n                                                                                                                                                                                                                                                                                 \\nSafety & Security\\n  \\\n",
       "0         https://www.autoscout24.com//offers/audi-a1-sportback-1-4-tdi-s-tronic-xenon-navi-klima-diesel-black-bdab349a-caa5-41b0-98eb-c1345b84445e    Audi A1         Sportback 1.4 TDI S-tronic Xenon Navi Klima    Sedans  15770    VAT deductible  56,013 km      01/2016   66 kW  [, Used, , Diesel (Particulate Filter)]           \\n2\\n  [\\n06/2021\\n, \\n99 g CO2/km (comb)\\n]               [\\nYes\\n, \\nEuro 6\\n]           [\\n, \\n, \\n4 (Green)\\n]   []  \\nAudi\\n  [\\n, A1, \\n]  [\\nLR-062483\\n]     [\\n, 2016, \\n]  [\\n, Black, \\n]  [\\nMetallic\\n]           [\\nMythosschwarz\\n]  [\\nCloth, Black\\n]      [\\n5\\n]      [\\n5\\n]  [\\n0588/BDF\\n]  [\\n, Automatic, \\n]  [\\n1,422 cc\\n]         3  [\\nfront\\n]  [\\n, Diesel (Particulate Filter), \\n]  [[3.8 l/100 km (comb)], [4.3 l/100 km (city)], [3.5 l/100 km (country)]]   [\\n99 g CO2/km (comb)\\n]   [\\nEuro 6\\n]  [Air conditioning, Armrest, Automatic climate control, Cruise control, Electrical side mirrors, Hill Holder, Leather steering wheel, Light sensor, Multi-function steering wheel, Navigation system, Park Distance Control, Parking assist system sensors rear, Power windows, Rain sensor, Seat heating, Start-stop system]                                     [Bluetooth, Hands-free equipment, On-board computer, Radio]              [Alloy wheels, Catalytic Converter, Voice Control]                                          [ABS, Central door lock, Daytime running lights, Driver-side airbag, Electronic stability control, Fog lights, Immobilizer, Isofix, Passenger-side airbag, Power steering, Side airbag, Tire pressure monitoring system, Traction control, Xenon headlights]   \n",
       "1                                      https://www.autoscout24.com//offers/audi-a1-1-8-tfsi-sport-gasoline-red-b2547f8a-e83f-6237-e053-e250040a56df    Audi A1                                      1.8 TFSI sport    Sedans  14500  Price negotiable  80,000 km      03/2017  141 kW                     [, Used, , Gasoline]             NaN                                    NaN                                 NaN                               NaN   []  \\nAudi\\n  [\\n, A1, \\n]              NaN     [\\n, 2017, \\n]    [\\n, Red, \\n]             NaN                           NaN   [\\nCloth, Grey\\n]      [\\n3\\n]      [\\n4\\n]  [\\n0588/BCY\\n]  [\\n, Automatic, \\n]  [\\n1,798 cc\\n]         4  [\\nfront\\n]                     [\\n, Gasoline, \\n]  [[5.6 l/100 km (comb)], [7.1 l/100 km (city)], [4.7 l/100 km (country)]]  [\\n129 g CO2/km (comb)\\n]   [\\nEuro 6\\n]                                                                                                                                      [Air conditioning, Automatic climate control, Hill Holder, Leather steering wheel, Lumbar support, Parking assist system sensors rear, Power windows, Start-stop system, Tinted windows]                       [Bluetooth, Hands-free equipment, On-board computer, Radio, Sound system]    [Alloy wheels, Sport seats, Sport suspension, Voice Control]  [ABS, Central door lock, Central door lock with remote control, Daytime running lights, Driver-side airbag, Electronic stability control, Head airbag, Immobilizer, Isofix, Passenger-side airbag, Power steering, Side airbag, Tire pressure monitoring system, Traction control, Xenon headlights]   \n",
       "2  https://www.autoscout24.com//offers/audi-a1-sportback-1-6-tdi-s-tronic-einparkhilfe-plus-music-diesel-black-6183cb6a-8570-4b86-a132-9b54214bca88    Audi A1  Sportback 1.6 TDI S tronic Einparkhilfe plus+music    Sedans  14640    VAT deductible  83,450 km      02/2016   85 kW  [, Used, , Diesel (Particulate Filter)]           \\n1\\n                                    NaN                                 NaN  [\\n, \\n, \\n99 g CO2/km (comb)\\n]   []  \\nAudi\\n  [\\n, A1, \\n]   [\\nAM-95365\\n]     [\\n, 2016, \\n]  [\\n, Black, \\n]  [\\nMetallic\\n]  [\\nmythosschwarz metallic\\n]  [\\nCloth, Black\\n]      [\\n4\\n]      [\\n4\\n]             NaN  [\\n, Automatic, \\n]  [\\n1,598 cc\\n]       NaN  [\\nfront\\n]  [\\n, Diesel (Particulate Filter), \\n]  [[3.8 l/100 km (comb)], [4.4 l/100 km (city)], [3.4 l/100 km (country)]]   [\\n99 g CO2/km (comb)\\n]   [\\nEuro 6\\n]                            [Air conditioning, Cruise control, Electrical side mirrors, Hill Holder, Leather steering wheel, Multi-function steering wheel, Navigation system, Park Distance Control, Parking assist system sensors front, Parking assist system sensors rear, Power windows, Seat heating, Start-stop system]                                                                        [MP3, On-board computer]                                   [Alloy wheels, Voice Control]                                                                        [ABS, Central door lock, Daytime running lights, Driver-side airbag, Electronic stability control, Immobilizer, Isofix, Passenger-side airbag, Power steering, Side airbag, Tire pressure monitoring system, Traction control]   \n",
       "3                             https://www.autoscout24.com//offers/audi-a1-1-4-tdi-design-s-tronic-diesel-brown-35c86585-2727-d61e-e053-e250040ad640    Audi A1                             1.4 TDi Design S tronic    Sedans  14500              None  73,000 km      08/2016   66 kW  [, Used, , Diesel (Particulate Filter)]           \\n1\\n                                    NaN                                 NaN                               NaN   []  \\nAudi\\n  [\\n, A1, \\n]              NaN     [\\n, 2016, \\n]  [\\n, Brown, \\n]  [\\nMetallic\\n]                           NaN                 NaN      [\\n3\\n]      [\\n4\\n]             NaN  [\\n, Automatic, \\n]  [\\n1,422 cc\\n]         3          NaN  [\\n, Diesel (Particulate Filter), \\n]  [[3.8 l/100 km (comb)], [4.3 l/100 km (city)], [3.5 l/100 km (country)]]   [\\n99 g CO2/km (comb)\\n]   [\\nEuro 6\\n]                                   [Air suspension, Armrest, Auxiliary heating, Electrical side mirrors, Heads-up display, Hill Holder, Leather steering wheel, Light sensor, Lumbar support, Multi-function steering wheel, Navigation system, Power windows, Rain sensor, Seat heating, Split rear seats, Start-stop system]  [Bluetooth, CD player, Hands-free equipment, MP3, On-board computer, Radio, Sound system, USB]                      [Alloy wheels, Sport seats, Voice Control]                    [ABS, Alarm system, Central door lock with remote control, Driver drowsiness detection, Driver-side airbag, Electronic stability control, Emergency system, Head airbag, Immobilizer, Isofix, Passenger-side airbag, Power steering, Side airbag, Tire pressure monitoring system]   \n",
       "4    https://www.autoscout24.com//offers/audi-a1-sportback-1-4-tdi-s-tronic-s-line-ext-admired-xe-diesel-black-b86b55d8-9c7c-4a58-b658-b97008a51efc    Audi A1  Sportback 1.4 TDI S-Tronic S-Line Ext. admired, Xe    Sedans  16790              None  16,200 km      05/2016   66 kW  [, Used, , Diesel (Particulate Filter)]           \\n1\\n                                    NaN  [\\nYes\\n, \\n109 g CO2/km (comb)\\n]              [\\n, \\n, \\nEuro 6\\n]   []  \\nAudi\\n  [\\n, A1, \\n]      [\\nC1626\\n]     [\\n, 2016, \\n]  [\\n, Black, \\n]  [\\nMetallic\\n]  [\\nMythosschwarz Metallic\\n]  [\\nCloth, Black\\n]      [\\n5\\n]      [\\n5\\n]  [\\n0588/BDF\\n]  [\\n, Automatic, \\n]  [\\n1,422 cc\\n]         3  [\\nfront\\n]  [\\n, Diesel (Particulate Filter), \\n]  [[4.1 l/100 km (comb)], [4.6 l/100 km (city)], [3.8 l/100 km (country)]]  [\\n109 g CO2/km (comb)\\n]   [\\nEuro 6\\n]                                                   [Air conditioning, Armrest, Automatic climate control, Electrical side mirrors, Hill Holder, Leather steering wheel, Light sensor, Multi-function steering wheel, Park Distance Control, Parking assist system sensors rear, Power windows, Rain sensor, Start-stop system]                [Bluetooth, CD player, Hands-free equipment, MP3, On-board computer, Radio, USB]  [Alloy wheels, Sport package, Sport suspension, Voice Control]                                                                  [ABS, Central door lock, Driver-side airbag, Electronic stability control, Fog lights, Immobilizer, Isofix, Passenger-side airbag, Power steering, Side airbag, Tire pressure monitoring system, Traction control, Xenon headlights]   \n",
       "\n",
       "                                                                                                                                                                                                                                                                                                                                                                                                                                                                                                           description   Emission Label    Gears Country version Previous_Owner1 Previous_Owner  Inspection_New_Bool next_inspection paint_type  country emission_label                                                                                                                                                                                                                                                                                          Comfort&Convenience  cc_Air conditioning  cc_Air suspension  cc_Armrest  cc_Automatic climate control  cc_Auxiliary heating  cc_Cruise control  cc_Electric Starter  cc_Electric tailgate  cc_Electrical side mirrors  cc_Electrically adjustable seats  cc_Electrically heated windshield  cc_Heads-up display  cc_Heated steering wheel  cc_Hill Holder  cc_Keyless central door lock  cc_Leather seats  cc_Leather steering wheel  cc_Light sensor  cc_Lumbar support  cc_Massage seats  cc_Multi-function steering wheel  cc_Navigation system  cc_Panorama roof  cc_Park Distance Control  cc_Parking assist system camera  cc_Parking assist system self-steering  cc_Parking assist system sensors front  cc_Parking assist system sensors rear  cc_Power windows  cc_Rain sensor  cc_Seat heating  cc_Seat ventilation  cc_Split rear seats  cc_Start-stop system  cc_Sunroof  cc_Tinted windows  cc_Wind deflector  cc_Windshield                                                                    Entertainment&Media  em_Bluetooth  em_CD player  em_Digital radio  em_Hands-free equipment  \\\n",
       "0  [\\n, Sicherheit:,  , Deaktivierung für Beifahrer-Airbag,  , ESC mit elektronischer Quersperre,  , Tagfahrlicht,  , Reifendruck-Kontrollanzeige,  , Kopfairbag-System mit Seiten-Airbags vorn,  , Sicherheitslenksäule, Assistenzsysteme:,  , Berganfahrassistent, Komfort:,  , Scheinwerferreinigung,  , Xenon plus inklusive Scheinwerfer-Reinigungsanlage,  , Scheinwerfer-Reinigungsanlage,  , Einparkhilfe hinten,  , Licht-/Regensensor,  , Funkfernbedienung,  , Elektrische Luftzusatzheizung, Interieur:...              NaN      NaN             NaN             NaN              2                    1      2021-06-01   Metallic      NaN            NaN  Air conditioning,Armrest,Automatic climate control,Cruise control,Electrical side mirrors,Hill Holder,Leather steering wheel,Light sensor,Multi-function steering wheel,Navigation system,Park Distance Control,Parking assist system sensors rear,Power windows,Rain sensor,Seat heating,Start-stop system                    1                  0           1                             1                     0                  1                    0                     0                           1                                 0                                  0                    0                         0               1                             0                 0                          1                1                  0                 0                                 1                     1                 0                         1                                0                                       0                                       0                                      1                 1               1                1                    0                    0                     1           0                  0                  0              0                                 Bluetooth,Hands-free equipment,On-board computer,Radio             1             0                 0                        1   \n",
       "1                                                                                                                                                                                                                                                                                                                                                                                                         [\\nLangstreckenfahrzeug daher die hohe Kilometerleistung. , Bremsen neu bei 62000 km. , Gut gepflegter A1\\n]  [\\n4 (Green)\\n]  [\\n7\\n]             NaN             NaN              1                    0             NaT        NaN      NaN      4 (Green)                                                                                                                               Air conditioning,Automatic climate control,Hill Holder,Leather steering wheel,Lumbar support,Parking assist system sensors rear,Power windows,Start-stop system,Tinted windows                    1                  0           0                             1                     0                  0                    0                     0                           0                                 0                                  0                    0                         0               1                             0                 0                          1                0                  1                 0                                 0                     0                 0                         0                                0                                       0                                       0                                      1                 1               0                0                    0                    0                     1           0                  1                  0              0                    Bluetooth,Hands-free equipment,On-board computer,Radio,Sound system             1             0                 0                        1   \n",
       "2  [\\n, Fahrzeug-Nummer: AM-95365,  , Ehem. UPE 24.640 EUR,  , Komfort,  , Klimaanlage,  , Elektrische Fensterheber,  , Sitzheizung,  , Tempomat,  , Zentralverriegelung,  , Leder-Lenkrad,  , Elektrische Spiegel,  , Wärmedämmendes Glas,  , Anfahrassistent,  , Sicherheit,  , Window/Kopfairbags,  , ESP (el. Stabilitäts Programm),  , Elektronische Wegfahrsperre,  , Reifendruckkontrolle,  , Tagfahrlicht,  , Exterieur,  , Alufelgen 16 Zoll,  , Einparkhilfe vo + hi,  , Interieur,  , Stoff Zeitgeist,  ...  [\\n4 (Green)\\n]      NaN             NaN             NaN              1                    0             NaT   Metallic      NaN      4 (Green)                         Air conditioning,Cruise control,Electrical side mirrors,Hill Holder,Leather steering wheel,Multi-function steering wheel,Navigation system,Park Distance Control,Parking assist system sensors front,Parking assist system sensors rear,Power windows,Seat heating,Start-stop system                    1                  0           0                             0                     0                  1                    0                     0                           1                                 0                                  0                    0                         0               1                             0                 0                          1                0                  0                 0                                 1                     1                 0                         1                                0                                       0                                       1                                      1                 1               0                1                    0                    0                     1           0                  0                  0              0                                                                  MP3,On-board computer             0             0                 0                        0   \n",
       "3                                                                                                                                                                                                                                                                             [\\nAudi A1: , - 1e eigenaar , - Perfecte staat: schade/ongevalvrij , - Onderhoudsboekje Audi garage , - Full option!, - S-line opties, - Automaat, lederen bekleding, navi-pro, Xenon lampen, zetelverwarming, automatische airco,...\\n]              NaN  [\\n6\\n]             NaN             NaN              1                    0             NaT   Metallic      NaN            NaN                                   Air suspension,Armrest,Auxiliary heating,Electrical side mirrors,Heads-up display,Hill Holder,Leather steering wheel,Light sensor,Lumbar support,Multi-function steering wheel,Navigation system,Power windows,Rain sensor,Seat heating,Split rear seats,Start-stop system                    0                  1           1                             0                     1                  0                    0                     0                           1                                 0                                  0                    1                         0               1                             0                 0                          1                1                  1                 0                                 1                     1                 0                         0                                0                                       0                                       0                                      0                 1               1                1                    0                    1                     1           0                  0                  0              0  Bluetooth,CD player,Hands-free equipment,MP3,On-board computer,Radio,Sound system,USB             1             1                 0                        1   \n",
       "4  [\\n, Technik & Sicherheit:, Xenon plus, Klimaautomatik, Einparkhilfe hinten, Scheinwerferreinigungsanlage, Nebelscheinwerfer, Zentralverriegelung mit Fernbedienung, Außenspiegel elek. einstellbar, Fensterheber elek, Start/Stop Anlage, 6 Airbag inkl. Kopfairbag, Euro 6, Multimedia:, Radio CD Concert, audi music interface, Handyvorbereitung (Bluetooth), Sprachsteuerung, USB Anschluss, Assistenzsysteme:, Lichtsensor, Regensensor, Berganfahrassistent, Reifendruckkontrolle, ESP inkl. ABS, Interie...              NaN      NaN   [\\nGermany\\n]             NaN              1                    1             NaT   Metallic  Germany            NaN                                                Air conditioning,Armrest,Automatic climate control,Electrical side mirrors,Hill Holder,Leather steering wheel,Light sensor,Multi-function steering wheel,Park Distance Control,Parking assist system sensors rear,Power windows,Rain sensor,Start-stop system                    1                  0           1                             1                     0                  0                    0                     0                           1                                 0                                  0                    0                         0               1                             0                 0                          1                1                  0                 0                                 1                     0                 0                         1                                0                                       0                                       0                                      1                 1               1                0                    0                    0                     1           0                  0                  0              0               Bluetooth,CD player,Hands-free equipment,MP3,On-board computer,Radio,USB             1             1                 0                        1   \n",
       "\n",
       "   em_MP3  em_On-board computer  em_Radio  em_Sound system  em_Television  em_USB                                                      extra  ex_Alloy wheels  ex_Cab or rented Car  ex_Catalytic Converter  ex_Handicapped enabled  ex_Right hand drive  ex_Roof rack  ex_Shift paddles  ex_Ski bag  ex_Sliding door  ex_Sport package  ex_Sport seats  ex_Sport suspension  ex_Touch screen  ex_Trailer hitch  ex_Tuned car  ex_Voice Control  ex_Winter tyres  \n",
       "0       0                     1         1                0              0       0             Alloy wheels,Catalytic Converter,Voice Control                1                     0                       1                       0                    0             0                 0           0                0                 0               0                    0                0                 0             0                 1                0  \n",
       "1       0                     1         1                1              0       0    Alloy wheels,Sport seats,Sport suspension,Voice Control                1                     0                       0                       0                    0             0                 0           0                0                 0               1                    1                0                 0             0                 1                0  \n",
       "2       1                     1         0                0              0       0                                 Alloy wheels,Voice Control                1                     0                       0                       0                    0             0                 0           0                0                 0               0                    0                0                 0             0                 1                0  \n",
       "3       1                     1         1                1              0       1                     Alloy wheels,Sport seats,Voice Control                1                     0                       0                       0                    0             0                 0           0                0                 0               1                    0                0                 0             0                 1                0  \n",
       "4       1                     1         1                0              0       1  Alloy wheels,Sport package,Sport suspension,Voice Control                1                     0                       0                       0                    0             0                 0           0                0                 1               0                    1                0                 0             0                 1                0  "
      ]
     },
     "execution_count": 2059,
     "metadata": {},
     "output_type": "execute_result"
    }
   ],
   "source": [
    "data.head()"
   ]
  },
  {
   "cell_type": "code",
   "execution_count": 2060,
   "metadata": {},
   "outputs": [
    {
     "data": {
      "text/plain": [
       "(15919, 117)"
      ]
     },
     "execution_count": 2060,
     "metadata": {},
     "output_type": "execute_result"
    }
   ],
   "source": [
    "data.shape"
   ]
  },
  {
   "cell_type": "markdown",
   "metadata": {},
   "source": [
    "## \\nSafety & Security\\n"
   ]
  },
  {
   "cell_type": "code",
   "execution_count": 2061,
   "metadata": {},
   "outputs": [
    {
     "data": {
      "text/plain": [
       "6.168729191532131"
      ]
     },
     "execution_count": 2061,
     "metadata": {},
     "output_type": "execute_result"
    }
   ],
   "source": [
    "data['\\nSafety & Security\\n'].isnull().sum()/ len(data['\\nSafety & Security\\n'])*100"
   ]
  },
  {
   "cell_type": "code",
   "execution_count": 2062,
   "metadata": {},
   "outputs": [
    {
     "ename": "TypeError",
     "evalue": "unhashable type: 'list'",
     "output_type": "error",
     "traceback": [
      "\u001b[0;31m---------------------------------------------------------------------------\u001b[0m",
      "\u001b[0;31mTypeError\u001b[0m                                 Traceback (most recent call last)",
      "\u001b[0;32mpandas/_libs/hashtable_class_helper.pxi\u001b[0m in \u001b[0;36mpandas._libs.hashtable.PyObjectHashTable.map_locations\u001b[0;34m()\u001b[0m\n",
      "\u001b[0;31mTypeError\u001b[0m: unhashable type: 'list'"
     ]
    },
    {
     "name": "stderr",
     "output_type": "stream",
     "text": [
      "Exception ignored in: 'pandas._libs.index.IndexEngine._call_map_locations'\n",
      "Traceback (most recent call last):\n",
      "  File \"pandas/_libs/hashtable_class_helper.pxi\", line 1652, in pandas._libs.hashtable.PyObjectHashTable.map_locations\n",
      "TypeError: unhashable type: 'list'\n"
     ]
    },
    {
     "data": {
      "text/plain": [
       "NaN                                                                                                                                                                                                                                                                                                                                                                                        982\n",
       "[ABS, Central door lock, Daytime running lights, Driver-side airbag, Electronic stability control, Fog lights, Immobilizer, Isofix, Passenger-side airbag, Power steering, Side airbag, Tire pressure monitoring system, Traction control]                                                                                                                                                 538\n",
       "[ABS, Central door lock, Daytime running lights, Driver-side airbag, Electronic stability control, Immobilizer, Isofix, Passenger-side airbag, Power steering, Side airbag, Tire pressure monitoring system, Traction control]                                                                                                                                                             480\n",
       "[ABS, Central door lock, Daytime running lights, Driver-side airbag, Electronic stability control, Immobilizer, Isofix, Passenger-side airbag, Power steering, Side airbag, Tire pressure monitoring system, Traction control, Xenon headlights]                                                                                                                                           275\n",
       "[ABS, Central door lock, Daytime running lights, Driver-side airbag, Electronic stability control, Fog lights, Immobilizer, Isofix, LED Daytime Running Lights, Passenger-side airbag, Power steering, Side airbag, Tire pressure monitoring system, Traction control]                                                                                                                     272\n",
       "                                                                                                                                                                                                                                                                                                                                                                                          ... \n",
       "[ABS, Adaptive Cruise Control, Central door lock, Driver-side airbag, Electronic stability control, Emergency brake assistant, Isofix, Lane departure warning system, Passenger-side airbag, Side airbag, Tire pressure monitoring system, Traction control]                                                                                                                                 1\n",
       "[ABS, Adaptive headlights, Central door lock, Daytime running lights, Driver-side airbag, Electronic stability control, Emergency brake assistant, Fog lights, Immobilizer, Isofix, Lane departure warning system, LED Daytime Running Lights, LED Headlights, Passenger-side airbag, Power steering, Side airbag, Tire pressure monitoring system]                                          1\n",
       "[ABS, Alarm system, Central door lock, Driver drowsiness detection, Driver-side airbag, Electronic stability control, Isofix, LED Daytime Running Lights, Passenger-side airbag, Power steering, Side airbag, Tire pressure monitoring system, Traction control, Xenon headlights]                                                                                                           1\n",
       "[ABS, Central door lock, Central door lock with remote control, Daytime running lights, Driver-side airbag, Electronic stability control, Emergency brake assistant, Emergency system, Fog lights, Head airbag, Immobilizer, Isofix, Lane departure warning system, Passenger-side airbag, Power steering, Rear airbag, Side airbag, Tire pressure monitoring system, Traction control]      1\n",
       "[ABS, Central door lock with remote control, Daytime running lights, Driver drowsiness detection, Driver-side airbag, Electronic stability control, Emergency brake assistant, Emergency system, Head airbag, Immobilizer, Isofix, LED Daytime Running Lights, Passenger-side airbag, Power steering, Side airbag, Tire pressure monitoring system, Traction control]                        1\n",
       "Name: \\nSafety & Security\\n, Length: 4444, dtype: int64"
      ]
     },
     "execution_count": 2062,
     "metadata": {},
     "output_type": "execute_result"
    }
   ],
   "source": [
    "data['\\nSafety & Security\\n'].value_counts(dropna = False)"
   ]
  },
  {
   "cell_type": "code",
   "execution_count": 2063,
   "metadata": {},
   "outputs": [],
   "source": [
    "data['Safe&Security'] = pd.DataFrame([','.join(item).strip() if type(item) == list else item for item in data['\\nSafety & Security\\n']])"
   ]
  },
  {
   "cell_type": "code",
   "execution_count": 2064,
   "metadata": {},
   "outputs": [
    {
     "data": {
      "text/plain": [
       "NaN                                                                                                                                                                                                                                                                                                                                                                                                                                                                                          982\n",
       "ABS,Central door lock,Daytime running lights,Driver-side airbag,Electronic stability control,Fog lights,Immobilizer,Isofix,Passenger-side airbag,Power steering,Side airbag,Tire pressure monitoring system,Traction control                                                                                                                                                                                                                                                                 538\n",
       "ABS,Central door lock,Daytime running lights,Driver-side airbag,Electronic stability control,Immobilizer,Isofix,Passenger-side airbag,Power steering,Side airbag,Tire pressure monitoring system,Traction control                                                                                                                                                                                                                                                                            480\n",
       "ABS,Central door lock,Daytime running lights,Driver-side airbag,Electronic stability control,Immobilizer,Isofix,Passenger-side airbag,Power steering,Side airbag,Tire pressure monitoring system,Traction control,Xenon headlights                                                                                                                                                                                                                                                           275\n",
       "ABS,Central door lock,Daytime running lights,Driver-side airbag,Electronic stability control,Fog lights,Immobilizer,Isofix,LED Daytime Running Lights,Passenger-side airbag,Power steering,Side airbag,Tire pressure monitoring system,Traction control                                                                                                                                                                                                                                      272\n",
       "                                                                                                                                                                                                                                                                                                                                                                                                                                                                                            ... \n",
       "ABS,Central door lock,Daytime running lights,Driver-side airbag,Head airbag,Immobilizer,Isofix,Passenger-side airbag,Power steering,Side airbag,Tire pressure monitoring system                                                                                                                                                                                                                                                                                                                1\n",
       "ABS,Blind spot monitor,Central door lock,Driver-side airbag,Electronic stability control,Fog lights,Immobilizer,Isofix,Lane departure warning system,LED Headlights,Passenger-side airbag,Power steering,Side airbag                                                                                                                                                                                                                                                                           1\n",
       "ABS,Adaptive headlights,Central door lock,Central door lock with remote control,Daytime running lights,Driver-side airbag,Electronic stability control,Emergency system,Fog lights,Immobilizer,Isofix,Passenger-side airbag,Power steering,Side airbag,Tire pressure monitoring system,Traction control,Xenon headlights                                                                                                                                                                       1\n",
       "ABS,Daytime running lights,Driver-side airbag,Electronic stability control,Fog lights,Isofix,LED Daytime Running Lights                                                                                                                                                                                                                                                                                                                                                                        1\n",
       "ABS,Adaptive Cruise Control,Adaptive headlights,Blind spot monitor,Central door lock,Central door lock with remote control,Daytime running lights,Driver-side airbag,Electronic stability control,Emergency brake assistant,Fog lights,Immobilizer,Isofix,Lane departure warning system,LED Daytime Running Lights,LED Headlights,Passenger-side airbag,Power steering,Rear airbag,Side airbag,Tire pressure monitoring system,Traction control,Traffic sign recognition,Xenon headlights      1\n",
       "Name: Safe&Security, Length: 4444, dtype: int64"
      ]
     },
     "execution_count": 2064,
     "metadata": {},
     "output_type": "execute_result"
    }
   ],
   "source": [
    "data['Safe&Security'].value_counts(dropna = False)"
   ]
  },
  {
   "cell_type": "code",
   "execution_count": 2065,
   "metadata": {},
   "outputs": [],
   "source": [
    "fill_most(data, 'make_model','Safe&Security' )"
   ]
  },
  {
   "cell_type": "code",
   "execution_count": 2066,
   "metadata": {},
   "outputs": [
    {
     "data": {
      "text/plain": [
       "ABS,Central door lock,Daytime running lights,Driver-side airbag,Electronic stability control,Fog lights,Immobilizer,Isofix,Passenger-side airbag,Power steering,Side airbag,Tire pressure monitoring system,Traction control                                                                                                                   825\n",
       "ABS,Central door lock,Daytime running lights,Driver-side airbag,Electronic stability control,Immobilizer,Isofix,Passenger-side airbag,Power steering,Side airbag,Tire pressure monitoring system,Traction control                                                                                                                              480\n",
       "ABS,Central door lock,Daytime running lights,Driver-side airbag,Electronic stability control,Fog lights,Immobilizer,Isofix,LED Daytime Running Lights,Passenger-side airbag,Power steering,Side airbag,Tire pressure monitoring system,Traction control                                                                                        452\n",
       "ABS,Central door lock,Daytime running lights,Driver-side airbag,Electronic stability control,Immobilizer,Isofix,Passenger-side airbag,Power steering,Side airbag,Tire pressure monitoring system,Traction control,Xenon headlights                                                                                                             382\n",
       "ABS,Central door lock,Daytime running lights,Driver-side airbag,Electronic stability control,Immobilizer,Isofix,LED Daytime Running Lights,Passenger-side airbag,Power steering,Side airbag,Tire pressure monitoring system,Traction control                                                                                                   345\n",
       "                                                                                                                                                                                                                                                                                                                                              ... \n",
       "ABS,Adaptive Cruise Control,Adaptive headlights,Blind spot monitor,Central door lock,Driver-side airbag,Electronic stability control,Emergency brake assistant,Fog lights,Immobilizer,Lane departure warning system,LED Daytime Running Lights,Passenger-side airbag,Power steering,Side airbag,Traction control,Traffic sign recognition        1\n",
       "ABS,Adaptive headlights,Blind spot monitor,Central door lock,Daytime running lights,Electronic stability control,Emergency brake assistant,Fog lights,Immobilizer,Lane departure warning system,LED Daytime Running Lights,LED Headlights,Passenger-side airbag,Power steering,Side airbag,Tire pressure monitoring system,Traction control      1\n",
       "ABS,Adaptive Cruise Control,Central door lock,Central door lock with remote control,Daytime running lights,Driver-side airbag,Electronic stability control,Fog lights,Head airbag,Isofix,LED Daytime Running Lights,Passenger-side airbag,Power steering,Side airbag,Tire pressure monitoring system,Traction control                            1\n",
       "ABS,Central door lock,Central door lock with remote control,Daytime running lights,Driver-side airbag,Electronic stability control,Immobilizer,Isofix,LED Daytime Running Lights,LED Headlights,Passenger-side airbag,Power steering,Side airbag,Tire pressure monitoring system                                                                 1\n",
       "ABS,Central door lock,Daytime running lights,Electronic stability control,Immobilizer,Power steering,Side airbag,Traction control                                                                                                                                                                                                                1\n",
       "Name: Safe&Security, Length: 4443, dtype: int64"
      ]
     },
     "execution_count": 2066,
     "metadata": {},
     "output_type": "execute_result"
    }
   ],
   "source": [
    "data['Safe&Security'].value_counts(dropna = False)"
   ]
  },
  {
   "cell_type": "code",
   "execution_count": 2067,
   "metadata": {},
   "outputs": [],
   "source": [
    "data = data.join(data['Safe&Security'].str.get_dummies(sep = ',').add_prefix('ss_'))"
   ]
  },
  {
   "cell_type": "code",
   "execution_count": 2068,
   "metadata": {},
   "outputs": [
    {
     "data": {
      "text/html": [
       "<div>\n",
       "<style scoped>\n",
       "    .dataframe tbody tr th:only-of-type {\n",
       "        vertical-align: middle;\n",
       "    }\n",
       "\n",
       "    .dataframe tbody tr th {\n",
       "        vertical-align: top;\n",
       "    }\n",
       "\n",
       "    .dataframe thead th {\n",
       "        text-align: right;\n",
       "    }\n",
       "</style>\n",
       "<table border=\"1\" class=\"dataframe\">\n",
       "  <thead>\n",
       "    <tr style=\"text-align: right;\">\n",
       "      <th></th>\n",
       "      <th>url</th>\n",
       "      <th>make_model</th>\n",
       "      <th>short_description</th>\n",
       "      <th>body_type</th>\n",
       "      <th>price</th>\n",
       "      <th>vat</th>\n",
       "      <th>km</th>\n",
       "      <th>registration</th>\n",
       "      <th>hp</th>\n",
       "      <th>Type</th>\n",
       "      <th>Previous Owners</th>\n",
       "      <th>Next Inspection</th>\n",
       "      <th>Inspection new</th>\n",
       "      <th>Warranty</th>\n",
       "      <th>null</th>\n",
       "      <th>Make</th>\n",
       "      <th>Model</th>\n",
       "      <th>Offer Number</th>\n",
       "      <th>First Registration</th>\n",
       "      <th>Body Color</th>\n",
       "      <th>Paint Type</th>\n",
       "      <th>Body Color Original</th>\n",
       "      <th>Upholstery</th>\n",
       "      <th>Nr. of Doors</th>\n",
       "      <th>Nr. of Seats</th>\n",
       "      <th>Model Code</th>\n",
       "      <th>Gearing Type</th>\n",
       "      <th>Displacement</th>\n",
       "      <th>Cylinders</th>\n",
       "      <th>Drive chain</th>\n",
       "      <th>Fuel</th>\n",
       "      <th>Consumption</th>\n",
       "      <th>CO2 Emission</th>\n",
       "      <th>Emission Class</th>\n",
       "      <th>\\nComfort &amp; Convenience\\n</th>\n",
       "      <th>\\nEntertainment &amp; Media\\n</th>\n",
       "      <th>\\nExtras\\n</th>\n",
       "      <th>\\nSafety &amp; Security\\n</th>\n",
       "      <th>description</th>\n",
       "      <th>Emission Label</th>\n",
       "      <th>Gears</th>\n",
       "      <th>Country version</th>\n",
       "      <th>Previous_Owner1</th>\n",
       "      <th>Previous_Owner</th>\n",
       "      <th>Inspection_New_Bool</th>\n",
       "      <th>next_inspection</th>\n",
       "      <th>paint_type</th>\n",
       "      <th>country</th>\n",
       "      <th>emission_label</th>\n",
       "      <th>Comfort&amp;Convenience</th>\n",
       "      <th>cc_Air conditioning</th>\n",
       "      <th>cc_Air suspension</th>\n",
       "      <th>cc_Armrest</th>\n",
       "      <th>cc_Automatic climate control</th>\n",
       "      <th>cc_Auxiliary heating</th>\n",
       "      <th>cc_Cruise control</th>\n",
       "      <th>cc_Electric Starter</th>\n",
       "      <th>cc_Electric tailgate</th>\n",
       "      <th>cc_Electrical side mirrors</th>\n",
       "      <th>cc_Electrically adjustable seats</th>\n",
       "      <th>cc_Electrically heated windshield</th>\n",
       "      <th>cc_Heads-up display</th>\n",
       "      <th>cc_Heated steering wheel</th>\n",
       "      <th>cc_Hill Holder</th>\n",
       "      <th>cc_Keyless central door lock</th>\n",
       "      <th>cc_Leather seats</th>\n",
       "      <th>cc_Leather steering wheel</th>\n",
       "      <th>cc_Light sensor</th>\n",
       "      <th>cc_Lumbar support</th>\n",
       "      <th>cc_Massage seats</th>\n",
       "      <th>cc_Multi-function steering wheel</th>\n",
       "      <th>cc_Navigation system</th>\n",
       "      <th>cc_Panorama roof</th>\n",
       "      <th>cc_Park Distance Control</th>\n",
       "      <th>cc_Parking assist system camera</th>\n",
       "      <th>cc_Parking assist system self-steering</th>\n",
       "      <th>cc_Parking assist system sensors front</th>\n",
       "      <th>cc_Parking assist system sensors rear</th>\n",
       "      <th>cc_Power windows</th>\n",
       "      <th>cc_Rain sensor</th>\n",
       "      <th>cc_Seat heating</th>\n",
       "      <th>cc_Seat ventilation</th>\n",
       "      <th>cc_Split rear seats</th>\n",
       "      <th>cc_Start-stop system</th>\n",
       "      <th>cc_Sunroof</th>\n",
       "      <th>cc_Tinted windows</th>\n",
       "      <th>cc_Wind deflector</th>\n",
       "      <th>cc_Windshield</th>\n",
       "      <th>Entertainment&amp;Media</th>\n",
       "      <th>em_Bluetooth</th>\n",
       "      <th>em_CD player</th>\n",
       "      <th>em_Digital radio</th>\n",
       "      <th>em_Hands-free equipment</th>\n",
       "      <th>em_MP3</th>\n",
       "      <th>em_On-board computer</th>\n",
       "      <th>em_Radio</th>\n",
       "      <th>em_Sound system</th>\n",
       "      <th>em_Television</th>\n",
       "      <th>em_USB</th>\n",
       "      <th>extra</th>\n",
       "      <th>ex_Alloy wheels</th>\n",
       "      <th>ex_Cab or rented Car</th>\n",
       "      <th>ex_Catalytic Converter</th>\n",
       "      <th>ex_Handicapped enabled</th>\n",
       "      <th>ex_Right hand drive</th>\n",
       "      <th>ex_Roof rack</th>\n",
       "      <th>ex_Shift paddles</th>\n",
       "      <th>ex_Ski bag</th>\n",
       "      <th>ex_Sliding door</th>\n",
       "      <th>ex_Sport package</th>\n",
       "      <th>ex_Sport seats</th>\n",
       "      <th>ex_Sport suspension</th>\n",
       "      <th>ex_Touch screen</th>\n",
       "      <th>ex_Trailer hitch</th>\n",
       "      <th>ex_Tuned car</th>\n",
       "      <th>ex_Voice Control</th>\n",
       "      <th>ex_Winter tyres</th>\n",
       "      <th>Safe&amp;Security</th>\n",
       "      <th>ss_ABS</th>\n",
       "      <th>ss_Adaptive Cruise Control</th>\n",
       "      <th>ss_Adaptive headlights</th>\n",
       "      <th>ss_Alarm system</th>\n",
       "      <th>ss_Blind spot monitor</th>\n",
       "      <th>ss_Central door lock</th>\n",
       "      <th>ss_Central door lock with remote control</th>\n",
       "      <th>ss_Daytime running lights</th>\n",
       "      <th>ss_Driver drowsiness detection</th>\n",
       "      <th>ss_Driver-side airbag</th>\n",
       "      <th>ss_Electronic stability control</th>\n",
       "      <th>ss_Emergency brake assistant</th>\n",
       "      <th>ss_Emergency system</th>\n",
       "      <th>ss_Fog lights</th>\n",
       "      <th>ss_Head airbag</th>\n",
       "      <th>ss_Immobilizer</th>\n",
       "      <th>ss_Isofix</th>\n",
       "      <th>ss_LED Daytime Running Lights</th>\n",
       "      <th>ss_LED Headlights</th>\n",
       "      <th>ss_Lane departure warning system</th>\n",
       "      <th>ss_Night view assist</th>\n",
       "      <th>ss_Passenger-side airbag</th>\n",
       "      <th>ss_Power steering</th>\n",
       "      <th>ss_Rear airbag</th>\n",
       "      <th>ss_Side airbag</th>\n",
       "      <th>ss_Tire pressure monitoring system</th>\n",
       "      <th>ss_Traction control</th>\n",
       "      <th>ss_Traffic sign recognition</th>\n",
       "      <th>ss_Xenon headlights</th>\n",
       "    </tr>\n",
       "  </thead>\n",
       "  <tbody>\n",
       "    <tr>\n",
       "      <th>0</th>\n",
       "      <td>https://www.autoscout24.com//offers/audi-a1-sportback-1-4-tdi-s-tronic-xenon-navi-klima-diesel-black-bdab349a-caa5-41b0-98eb-c1345b84445e</td>\n",
       "      <td>Audi A1</td>\n",
       "      <td>Sportback 1.4 TDI S-tronic Xenon Navi Klima</td>\n",
       "      <td>Sedans</td>\n",
       "      <td>15770</td>\n",
       "      <td>VAT deductible</td>\n",
       "      <td>56,013 km</td>\n",
       "      <td>01/2016</td>\n",
       "      <td>66 kW</td>\n",
       "      <td>[, Used, , Diesel (Particulate Filter)]</td>\n",
       "      <td>\\n2\\n</td>\n",
       "      <td>[\\n06/2021\\n, \\n99 g CO2/km (comb)\\n]</td>\n",
       "      <td>[\\nYes\\n, \\nEuro 6\\n]</td>\n",
       "      <td>[\\n, \\n, \\n4 (Green)\\n]</td>\n",
       "      <td>[]</td>\n",
       "      <td>\\nAudi\\n</td>\n",
       "      <td>[\\n, A1, \\n]</td>\n",
       "      <td>[\\nLR-062483\\n]</td>\n",
       "      <td>[\\n, 2016, \\n]</td>\n",
       "      <td>[\\n, Black, \\n]</td>\n",
       "      <td>[\\nMetallic\\n]</td>\n",
       "      <td>[\\nMythosschwarz\\n]</td>\n",
       "      <td>[\\nCloth, Black\\n]</td>\n",
       "      <td>[\\n5\\n]</td>\n",
       "      <td>[\\n5\\n]</td>\n",
       "      <td>[\\n0588/BDF\\n]</td>\n",
       "      <td>[\\n, Automatic, \\n]</td>\n",
       "      <td>[\\n1,422 cc\\n]</td>\n",
       "      <td>3</td>\n",
       "      <td>[\\nfront\\n]</td>\n",
       "      <td>[\\n, Diesel (Particulate Filter), \\n]</td>\n",
       "      <td>[[3.8 l/100 km (comb)], [4.3 l/100 km (city)], [3.5 l/100 km (country)]]</td>\n",
       "      <td>[\\n99 g CO2/km (comb)\\n]</td>\n",
       "      <td>[\\nEuro 6\\n]</td>\n",
       "      <td>[Air conditioning, Armrest, Automatic climate control, Cruise control, Electrical side mirrors, Hill Holder, Leather steering wheel, Light sensor, Multi-function steering wheel, Navigation system, Park Distance Control, Parking assist system sensors rear, Power windows, Rain sensor, Seat heating, Start-stop system]</td>\n",
       "      <td>[Bluetooth, Hands-free equipment, On-board computer, Radio]</td>\n",
       "      <td>[Alloy wheels, Catalytic Converter, Voice Control]</td>\n",
       "      <td>[ABS, Central door lock, Daytime running lights, Driver-side airbag, Electronic stability control, Fog lights, Immobilizer, Isofix, Passenger-side airbag, Power steering, Side airbag, Tire pressure monitoring system, Traction control, Xenon headlights]</td>\n",
       "      <td>[\\n, Sicherheit:,  , Deaktivierung für Beifahrer-Airbag,  , ESC mit elektronischer Quersperre,  , Tagfahrlicht,  , Reifendruck-Kontrollanzeige,  , Kopfairbag-System mit Seiten-Airbags vorn,  , Sicherheitslenksäule, Assistenzsysteme:,  , Berganfahrassistent, Komfort:,  , Scheinwerferreinigung,  , Xenon plus inklusive Scheinwerfer-Reinigungsanlage,  , Scheinwerfer-Reinigungsanlage,  , Einparkhilfe hinten,  , Licht-/Regensensor,  , Funkfernbedienung,  , Elektrische Luftzusatzheizung, Interieur:...</td>\n",
       "      <td>NaN</td>\n",
       "      <td>NaN</td>\n",
       "      <td>NaN</td>\n",
       "      <td>NaN</td>\n",
       "      <td>2</td>\n",
       "      <td>1</td>\n",
       "      <td>2021-06-01</td>\n",
       "      <td>Metallic</td>\n",
       "      <td>NaN</td>\n",
       "      <td>NaN</td>\n",
       "      <td>Air conditioning,Armrest,Automatic climate control,Cruise control,Electrical side mirrors,Hill Holder,Leather steering wheel,Light sensor,Multi-function steering wheel,Navigation system,Park Distance Control,Parking assist system sensors rear,Power windows,Rain sensor,Seat heating,Start-stop system</td>\n",
       "      <td>1</td>\n",
       "      <td>0</td>\n",
       "      <td>1</td>\n",
       "      <td>1</td>\n",
       "      <td>0</td>\n",
       "      <td>1</td>\n",
       "      <td>0</td>\n",
       "      <td>0</td>\n",
       "      <td>1</td>\n",
       "      <td>0</td>\n",
       "      <td>0</td>\n",
       "      <td>0</td>\n",
       "      <td>0</td>\n",
       "      <td>1</td>\n",
       "      <td>0</td>\n",
       "      <td>0</td>\n",
       "      <td>1</td>\n",
       "      <td>1</td>\n",
       "      <td>0</td>\n",
       "      <td>0</td>\n",
       "      <td>1</td>\n",
       "      <td>1</td>\n",
       "      <td>0</td>\n",
       "      <td>1</td>\n",
       "      <td>0</td>\n",
       "      <td>0</td>\n",
       "      <td>0</td>\n",
       "      <td>1</td>\n",
       "      <td>1</td>\n",
       "      <td>1</td>\n",
       "      <td>1</td>\n",
       "      <td>0</td>\n",
       "      <td>0</td>\n",
       "      <td>1</td>\n",
       "      <td>0</td>\n",
       "      <td>0</td>\n",
       "      <td>0</td>\n",
       "      <td>0</td>\n",
       "      <td>Bluetooth,Hands-free equipment,On-board computer,Radio</td>\n",
       "      <td>1</td>\n",
       "      <td>0</td>\n",
       "      <td>0</td>\n",
       "      <td>1</td>\n",
       "      <td>0</td>\n",
       "      <td>1</td>\n",
       "      <td>1</td>\n",
       "      <td>0</td>\n",
       "      <td>0</td>\n",
       "      <td>0</td>\n",
       "      <td>Alloy wheels,Catalytic Converter,Voice Control</td>\n",
       "      <td>1</td>\n",
       "      <td>0</td>\n",
       "      <td>1</td>\n",
       "      <td>0</td>\n",
       "      <td>0</td>\n",
       "      <td>0</td>\n",
       "      <td>0</td>\n",
       "      <td>0</td>\n",
       "      <td>0</td>\n",
       "      <td>0</td>\n",
       "      <td>0</td>\n",
       "      <td>0</td>\n",
       "      <td>0</td>\n",
       "      <td>0</td>\n",
       "      <td>0</td>\n",
       "      <td>1</td>\n",
       "      <td>0</td>\n",
       "      <td>ABS,Central door lock,Daytime running lights,Driver-side airbag,Electronic stability control,Fog lights,Immobilizer,Isofix,Passenger-side airbag,Power steering,Side airbag,Tire pressure monitoring system,Traction control,Xenon headlights</td>\n",
       "      <td>1</td>\n",
       "      <td>0</td>\n",
       "      <td>0</td>\n",
       "      <td>0</td>\n",
       "      <td>0</td>\n",
       "      <td>1</td>\n",
       "      <td>0</td>\n",
       "      <td>1</td>\n",
       "      <td>0</td>\n",
       "      <td>1</td>\n",
       "      <td>1</td>\n",
       "      <td>0</td>\n",
       "      <td>0</td>\n",
       "      <td>1</td>\n",
       "      <td>0</td>\n",
       "      <td>1</td>\n",
       "      <td>1</td>\n",
       "      <td>0</td>\n",
       "      <td>0</td>\n",
       "      <td>0</td>\n",
       "      <td>0</td>\n",
       "      <td>1</td>\n",
       "      <td>1</td>\n",
       "      <td>0</td>\n",
       "      <td>1</td>\n",
       "      <td>1</td>\n",
       "      <td>1</td>\n",
       "      <td>0</td>\n",
       "      <td>1</td>\n",
       "    </tr>\n",
       "    <tr>\n",
       "      <th>1</th>\n",
       "      <td>https://www.autoscout24.com//offers/audi-a1-1-8-tfsi-sport-gasoline-red-b2547f8a-e83f-6237-e053-e250040a56df</td>\n",
       "      <td>Audi A1</td>\n",
       "      <td>1.8 TFSI sport</td>\n",
       "      <td>Sedans</td>\n",
       "      <td>14500</td>\n",
       "      <td>Price negotiable</td>\n",
       "      <td>80,000 km</td>\n",
       "      <td>03/2017</td>\n",
       "      <td>141 kW</td>\n",
       "      <td>[, Used, , Gasoline]</td>\n",
       "      <td>NaN</td>\n",
       "      <td>NaN</td>\n",
       "      <td>NaN</td>\n",
       "      <td>NaN</td>\n",
       "      <td>[]</td>\n",
       "      <td>\\nAudi\\n</td>\n",
       "      <td>[\\n, A1, \\n]</td>\n",
       "      <td>NaN</td>\n",
       "      <td>[\\n, 2017, \\n]</td>\n",
       "      <td>[\\n, Red, \\n]</td>\n",
       "      <td>NaN</td>\n",
       "      <td>NaN</td>\n",
       "      <td>[\\nCloth, Grey\\n]</td>\n",
       "      <td>[\\n3\\n]</td>\n",
       "      <td>[\\n4\\n]</td>\n",
       "      <td>[\\n0588/BCY\\n]</td>\n",
       "      <td>[\\n, Automatic, \\n]</td>\n",
       "      <td>[\\n1,798 cc\\n]</td>\n",
       "      <td>4</td>\n",
       "      <td>[\\nfront\\n]</td>\n",
       "      <td>[\\n, Gasoline, \\n]</td>\n",
       "      <td>[[5.6 l/100 km (comb)], [7.1 l/100 km (city)], [4.7 l/100 km (country)]]</td>\n",
       "      <td>[\\n129 g CO2/km (comb)\\n]</td>\n",
       "      <td>[\\nEuro 6\\n]</td>\n",
       "      <td>[Air conditioning, Automatic climate control, Hill Holder, Leather steering wheel, Lumbar support, Parking assist system sensors rear, Power windows, Start-stop system, Tinted windows]</td>\n",
       "      <td>[Bluetooth, Hands-free equipment, On-board computer, Radio, Sound system]</td>\n",
       "      <td>[Alloy wheels, Sport seats, Sport suspension, Voice Control]</td>\n",
       "      <td>[ABS, Central door lock, Central door lock with remote control, Daytime running lights, Driver-side airbag, Electronic stability control, Head airbag, Immobilizer, Isofix, Passenger-side airbag, Power steering, Side airbag, Tire pressure monitoring system, Traction control, Xenon headlights]</td>\n",
       "      <td>[\\nLangstreckenfahrzeug daher die hohe Kilometerleistung. , Bremsen neu bei 62000 km. , Gut gepflegter A1\\n]</td>\n",
       "      <td>[\\n4 (Green)\\n]</td>\n",
       "      <td>[\\n7\\n]</td>\n",
       "      <td>NaN</td>\n",
       "      <td>NaN</td>\n",
       "      <td>1</td>\n",
       "      <td>0</td>\n",
       "      <td>NaT</td>\n",
       "      <td>NaN</td>\n",
       "      <td>NaN</td>\n",
       "      <td>4 (Green)</td>\n",
       "      <td>Air conditioning,Automatic climate control,Hill Holder,Leather steering wheel,Lumbar support,Parking assist system sensors rear,Power windows,Start-stop system,Tinted windows</td>\n",
       "      <td>1</td>\n",
       "      <td>0</td>\n",
       "      <td>0</td>\n",
       "      <td>1</td>\n",
       "      <td>0</td>\n",
       "      <td>0</td>\n",
       "      <td>0</td>\n",
       "      <td>0</td>\n",
       "      <td>0</td>\n",
       "      <td>0</td>\n",
       "      <td>0</td>\n",
       "      <td>0</td>\n",
       "      <td>0</td>\n",
       "      <td>1</td>\n",
       "      <td>0</td>\n",
       "      <td>0</td>\n",
       "      <td>1</td>\n",
       "      <td>0</td>\n",
       "      <td>1</td>\n",
       "      <td>0</td>\n",
       "      <td>0</td>\n",
       "      <td>0</td>\n",
       "      <td>0</td>\n",
       "      <td>0</td>\n",
       "      <td>0</td>\n",
       "      <td>0</td>\n",
       "      <td>0</td>\n",
       "      <td>1</td>\n",
       "      <td>1</td>\n",
       "      <td>0</td>\n",
       "      <td>0</td>\n",
       "      <td>0</td>\n",
       "      <td>0</td>\n",
       "      <td>1</td>\n",
       "      <td>0</td>\n",
       "      <td>1</td>\n",
       "      <td>0</td>\n",
       "      <td>0</td>\n",
       "      <td>Bluetooth,Hands-free equipment,On-board computer,Radio,Sound system</td>\n",
       "      <td>1</td>\n",
       "      <td>0</td>\n",
       "      <td>0</td>\n",
       "      <td>1</td>\n",
       "      <td>0</td>\n",
       "      <td>1</td>\n",
       "      <td>1</td>\n",
       "      <td>1</td>\n",
       "      <td>0</td>\n",
       "      <td>0</td>\n",
       "      <td>Alloy wheels,Sport seats,Sport suspension,Voice Control</td>\n",
       "      <td>1</td>\n",
       "      <td>0</td>\n",
       "      <td>0</td>\n",
       "      <td>0</td>\n",
       "      <td>0</td>\n",
       "      <td>0</td>\n",
       "      <td>0</td>\n",
       "      <td>0</td>\n",
       "      <td>0</td>\n",
       "      <td>0</td>\n",
       "      <td>1</td>\n",
       "      <td>1</td>\n",
       "      <td>0</td>\n",
       "      <td>0</td>\n",
       "      <td>0</td>\n",
       "      <td>1</td>\n",
       "      <td>0</td>\n",
       "      <td>ABS,Central door lock,Central door lock with remote control,Daytime running lights,Driver-side airbag,Electronic stability control,Head airbag,Immobilizer,Isofix,Passenger-side airbag,Power steering,Side airbag,Tire pressure monitoring system,Traction control,Xenon headlights</td>\n",
       "      <td>1</td>\n",
       "      <td>0</td>\n",
       "      <td>0</td>\n",
       "      <td>0</td>\n",
       "      <td>0</td>\n",
       "      <td>1</td>\n",
       "      <td>1</td>\n",
       "      <td>1</td>\n",
       "      <td>0</td>\n",
       "      <td>1</td>\n",
       "      <td>1</td>\n",
       "      <td>0</td>\n",
       "      <td>0</td>\n",
       "      <td>0</td>\n",
       "      <td>1</td>\n",
       "      <td>1</td>\n",
       "      <td>1</td>\n",
       "      <td>0</td>\n",
       "      <td>0</td>\n",
       "      <td>0</td>\n",
       "      <td>0</td>\n",
       "      <td>1</td>\n",
       "      <td>1</td>\n",
       "      <td>0</td>\n",
       "      <td>1</td>\n",
       "      <td>1</td>\n",
       "      <td>1</td>\n",
       "      <td>0</td>\n",
       "      <td>1</td>\n",
       "    </tr>\n",
       "    <tr>\n",
       "      <th>2</th>\n",
       "      <td>https://www.autoscout24.com//offers/audi-a1-sportback-1-6-tdi-s-tronic-einparkhilfe-plus-music-diesel-black-6183cb6a-8570-4b86-a132-9b54214bca88</td>\n",
       "      <td>Audi A1</td>\n",
       "      <td>Sportback 1.6 TDI S tronic Einparkhilfe plus+music</td>\n",
       "      <td>Sedans</td>\n",
       "      <td>14640</td>\n",
       "      <td>VAT deductible</td>\n",
       "      <td>83,450 km</td>\n",
       "      <td>02/2016</td>\n",
       "      <td>85 kW</td>\n",
       "      <td>[, Used, , Diesel (Particulate Filter)]</td>\n",
       "      <td>\\n1\\n</td>\n",
       "      <td>NaN</td>\n",
       "      <td>NaN</td>\n",
       "      <td>[\\n, \\n, \\n99 g CO2/km (comb)\\n]</td>\n",
       "      <td>[]</td>\n",
       "      <td>\\nAudi\\n</td>\n",
       "      <td>[\\n, A1, \\n]</td>\n",
       "      <td>[\\nAM-95365\\n]</td>\n",
       "      <td>[\\n, 2016, \\n]</td>\n",
       "      <td>[\\n, Black, \\n]</td>\n",
       "      <td>[\\nMetallic\\n]</td>\n",
       "      <td>[\\nmythosschwarz metallic\\n]</td>\n",
       "      <td>[\\nCloth, Black\\n]</td>\n",
       "      <td>[\\n4\\n]</td>\n",
       "      <td>[\\n4\\n]</td>\n",
       "      <td>NaN</td>\n",
       "      <td>[\\n, Automatic, \\n]</td>\n",
       "      <td>[\\n1,598 cc\\n]</td>\n",
       "      <td>NaN</td>\n",
       "      <td>[\\nfront\\n]</td>\n",
       "      <td>[\\n, Diesel (Particulate Filter), \\n]</td>\n",
       "      <td>[[3.8 l/100 km (comb)], [4.4 l/100 km (city)], [3.4 l/100 km (country)]]</td>\n",
       "      <td>[\\n99 g CO2/km (comb)\\n]</td>\n",
       "      <td>[\\nEuro 6\\n]</td>\n",
       "      <td>[Air conditioning, Cruise control, Electrical side mirrors, Hill Holder, Leather steering wheel, Multi-function steering wheel, Navigation system, Park Distance Control, Parking assist system sensors front, Parking assist system sensors rear, Power windows, Seat heating, Start-stop system]</td>\n",
       "      <td>[MP3, On-board computer]</td>\n",
       "      <td>[Alloy wheels, Voice Control]</td>\n",
       "      <td>[ABS, Central door lock, Daytime running lights, Driver-side airbag, Electronic stability control, Immobilizer, Isofix, Passenger-side airbag, Power steering, Side airbag, Tire pressure monitoring system, Traction control]</td>\n",
       "      <td>[\\n, Fahrzeug-Nummer: AM-95365,  , Ehem. UPE 24.640 EUR,  , Komfort,  , Klimaanlage,  , Elektrische Fensterheber,  , Sitzheizung,  , Tempomat,  , Zentralverriegelung,  , Leder-Lenkrad,  , Elektrische Spiegel,  , Wärmedämmendes Glas,  , Anfahrassistent,  , Sicherheit,  , Window/Kopfairbags,  , ESP (el. Stabilitäts Programm),  , Elektronische Wegfahrsperre,  , Reifendruckkontrolle,  , Tagfahrlicht,  , Exterieur,  , Alufelgen 16 Zoll,  , Einparkhilfe vo + hi,  , Interieur,  , Stoff Zeitgeist,  ...</td>\n",
       "      <td>[\\n4 (Green)\\n]</td>\n",
       "      <td>NaN</td>\n",
       "      <td>NaN</td>\n",
       "      <td>NaN</td>\n",
       "      <td>1</td>\n",
       "      <td>0</td>\n",
       "      <td>NaT</td>\n",
       "      <td>Metallic</td>\n",
       "      <td>NaN</td>\n",
       "      <td>4 (Green)</td>\n",
       "      <td>Air conditioning,Cruise control,Electrical side mirrors,Hill Holder,Leather steering wheel,Multi-function steering wheel,Navigation system,Park Distance Control,Parking assist system sensors front,Parking assist system sensors rear,Power windows,Seat heating,Start-stop system</td>\n",
       "      <td>1</td>\n",
       "      <td>0</td>\n",
       "      <td>0</td>\n",
       "      <td>0</td>\n",
       "      <td>0</td>\n",
       "      <td>1</td>\n",
       "      <td>0</td>\n",
       "      <td>0</td>\n",
       "      <td>1</td>\n",
       "      <td>0</td>\n",
       "      <td>0</td>\n",
       "      <td>0</td>\n",
       "      <td>0</td>\n",
       "      <td>1</td>\n",
       "      <td>0</td>\n",
       "      <td>0</td>\n",
       "      <td>1</td>\n",
       "      <td>0</td>\n",
       "      <td>0</td>\n",
       "      <td>0</td>\n",
       "      <td>1</td>\n",
       "      <td>1</td>\n",
       "      <td>0</td>\n",
       "      <td>1</td>\n",
       "      <td>0</td>\n",
       "      <td>0</td>\n",
       "      <td>1</td>\n",
       "      <td>1</td>\n",
       "      <td>1</td>\n",
       "      <td>0</td>\n",
       "      <td>1</td>\n",
       "      <td>0</td>\n",
       "      <td>0</td>\n",
       "      <td>1</td>\n",
       "      <td>0</td>\n",
       "      <td>0</td>\n",
       "      <td>0</td>\n",
       "      <td>0</td>\n",
       "      <td>MP3,On-board computer</td>\n",
       "      <td>0</td>\n",
       "      <td>0</td>\n",
       "      <td>0</td>\n",
       "      <td>0</td>\n",
       "      <td>1</td>\n",
       "      <td>1</td>\n",
       "      <td>0</td>\n",
       "      <td>0</td>\n",
       "      <td>0</td>\n",
       "      <td>0</td>\n",
       "      <td>Alloy wheels,Voice Control</td>\n",
       "      <td>1</td>\n",
       "      <td>0</td>\n",
       "      <td>0</td>\n",
       "      <td>0</td>\n",
       "      <td>0</td>\n",
       "      <td>0</td>\n",
       "      <td>0</td>\n",
       "      <td>0</td>\n",
       "      <td>0</td>\n",
       "      <td>0</td>\n",
       "      <td>0</td>\n",
       "      <td>0</td>\n",
       "      <td>0</td>\n",
       "      <td>0</td>\n",
       "      <td>0</td>\n",
       "      <td>1</td>\n",
       "      <td>0</td>\n",
       "      <td>ABS,Central door lock,Daytime running lights,Driver-side airbag,Electronic stability control,Immobilizer,Isofix,Passenger-side airbag,Power steering,Side airbag,Tire pressure monitoring system,Traction control</td>\n",
       "      <td>1</td>\n",
       "      <td>0</td>\n",
       "      <td>0</td>\n",
       "      <td>0</td>\n",
       "      <td>0</td>\n",
       "      <td>1</td>\n",
       "      <td>0</td>\n",
       "      <td>1</td>\n",
       "      <td>0</td>\n",
       "      <td>1</td>\n",
       "      <td>1</td>\n",
       "      <td>0</td>\n",
       "      <td>0</td>\n",
       "      <td>0</td>\n",
       "      <td>0</td>\n",
       "      <td>1</td>\n",
       "      <td>1</td>\n",
       "      <td>0</td>\n",
       "      <td>0</td>\n",
       "      <td>0</td>\n",
       "      <td>0</td>\n",
       "      <td>1</td>\n",
       "      <td>1</td>\n",
       "      <td>0</td>\n",
       "      <td>1</td>\n",
       "      <td>1</td>\n",
       "      <td>1</td>\n",
       "      <td>0</td>\n",
       "      <td>0</td>\n",
       "    </tr>\n",
       "    <tr>\n",
       "      <th>3</th>\n",
       "      <td>https://www.autoscout24.com//offers/audi-a1-1-4-tdi-design-s-tronic-diesel-brown-35c86585-2727-d61e-e053-e250040ad640</td>\n",
       "      <td>Audi A1</td>\n",
       "      <td>1.4 TDi Design S tronic</td>\n",
       "      <td>Sedans</td>\n",
       "      <td>14500</td>\n",
       "      <td>None</td>\n",
       "      <td>73,000 km</td>\n",
       "      <td>08/2016</td>\n",
       "      <td>66 kW</td>\n",
       "      <td>[, Used, , Diesel (Particulate Filter)]</td>\n",
       "      <td>\\n1\\n</td>\n",
       "      <td>NaN</td>\n",
       "      <td>NaN</td>\n",
       "      <td>NaN</td>\n",
       "      <td>[]</td>\n",
       "      <td>\\nAudi\\n</td>\n",
       "      <td>[\\n, A1, \\n]</td>\n",
       "      <td>NaN</td>\n",
       "      <td>[\\n, 2016, \\n]</td>\n",
       "      <td>[\\n, Brown, \\n]</td>\n",
       "      <td>[\\nMetallic\\n]</td>\n",
       "      <td>NaN</td>\n",
       "      <td>NaN</td>\n",
       "      <td>[\\n3\\n]</td>\n",
       "      <td>[\\n4\\n]</td>\n",
       "      <td>NaN</td>\n",
       "      <td>[\\n, Automatic, \\n]</td>\n",
       "      <td>[\\n1,422 cc\\n]</td>\n",
       "      <td>3</td>\n",
       "      <td>NaN</td>\n",
       "      <td>[\\n, Diesel (Particulate Filter), \\n]</td>\n",
       "      <td>[[3.8 l/100 km (comb)], [4.3 l/100 km (city)], [3.5 l/100 km (country)]]</td>\n",
       "      <td>[\\n99 g CO2/km (comb)\\n]</td>\n",
       "      <td>[\\nEuro 6\\n]</td>\n",
       "      <td>[Air suspension, Armrest, Auxiliary heating, Electrical side mirrors, Heads-up display, Hill Holder, Leather steering wheel, Light sensor, Lumbar support, Multi-function steering wheel, Navigation system, Power windows, Rain sensor, Seat heating, Split rear seats, Start-stop system]</td>\n",
       "      <td>[Bluetooth, CD player, Hands-free equipment, MP3, On-board computer, Radio, Sound system, USB]</td>\n",
       "      <td>[Alloy wheels, Sport seats, Voice Control]</td>\n",
       "      <td>[ABS, Alarm system, Central door lock with remote control, Driver drowsiness detection, Driver-side airbag, Electronic stability control, Emergency system, Head airbag, Immobilizer, Isofix, Passenger-side airbag, Power steering, Side airbag, Tire pressure monitoring system]</td>\n",
       "      <td>[\\nAudi A1: , - 1e eigenaar , - Perfecte staat: schade/ongevalvrij , - Onderhoudsboekje Audi garage , - Full option!, - S-line opties, - Automaat, lederen bekleding, navi-pro, Xenon lampen, zetelverwarming, automatische airco,...\\n]</td>\n",
       "      <td>NaN</td>\n",
       "      <td>[\\n6\\n]</td>\n",
       "      <td>NaN</td>\n",
       "      <td>NaN</td>\n",
       "      <td>1</td>\n",
       "      <td>0</td>\n",
       "      <td>NaT</td>\n",
       "      <td>Metallic</td>\n",
       "      <td>NaN</td>\n",
       "      <td>NaN</td>\n",
       "      <td>Air suspension,Armrest,Auxiliary heating,Electrical side mirrors,Heads-up display,Hill Holder,Leather steering wheel,Light sensor,Lumbar support,Multi-function steering wheel,Navigation system,Power windows,Rain sensor,Seat heating,Split rear seats,Start-stop system</td>\n",
       "      <td>0</td>\n",
       "      <td>1</td>\n",
       "      <td>1</td>\n",
       "      <td>0</td>\n",
       "      <td>1</td>\n",
       "      <td>0</td>\n",
       "      <td>0</td>\n",
       "      <td>0</td>\n",
       "      <td>1</td>\n",
       "      <td>0</td>\n",
       "      <td>0</td>\n",
       "      <td>1</td>\n",
       "      <td>0</td>\n",
       "      <td>1</td>\n",
       "      <td>0</td>\n",
       "      <td>0</td>\n",
       "      <td>1</td>\n",
       "      <td>1</td>\n",
       "      <td>1</td>\n",
       "      <td>0</td>\n",
       "      <td>1</td>\n",
       "      <td>1</td>\n",
       "      <td>0</td>\n",
       "      <td>0</td>\n",
       "      <td>0</td>\n",
       "      <td>0</td>\n",
       "      <td>0</td>\n",
       "      <td>0</td>\n",
       "      <td>1</td>\n",
       "      <td>1</td>\n",
       "      <td>1</td>\n",
       "      <td>0</td>\n",
       "      <td>1</td>\n",
       "      <td>1</td>\n",
       "      <td>0</td>\n",
       "      <td>0</td>\n",
       "      <td>0</td>\n",
       "      <td>0</td>\n",
       "      <td>Bluetooth,CD player,Hands-free equipment,MP3,On-board computer,Radio,Sound system,USB</td>\n",
       "      <td>1</td>\n",
       "      <td>1</td>\n",
       "      <td>0</td>\n",
       "      <td>1</td>\n",
       "      <td>1</td>\n",
       "      <td>1</td>\n",
       "      <td>1</td>\n",
       "      <td>1</td>\n",
       "      <td>0</td>\n",
       "      <td>1</td>\n",
       "      <td>Alloy wheels,Sport seats,Voice Control</td>\n",
       "      <td>1</td>\n",
       "      <td>0</td>\n",
       "      <td>0</td>\n",
       "      <td>0</td>\n",
       "      <td>0</td>\n",
       "      <td>0</td>\n",
       "      <td>0</td>\n",
       "      <td>0</td>\n",
       "      <td>0</td>\n",
       "      <td>0</td>\n",
       "      <td>1</td>\n",
       "      <td>0</td>\n",
       "      <td>0</td>\n",
       "      <td>0</td>\n",
       "      <td>0</td>\n",
       "      <td>1</td>\n",
       "      <td>0</td>\n",
       "      <td>ABS,Alarm system,Central door lock with remote control,Driver drowsiness detection,Driver-side airbag,Electronic stability control,Emergency system,Head airbag,Immobilizer,Isofix,Passenger-side airbag,Power steering,Side airbag,Tire pressure monitoring system</td>\n",
       "      <td>1</td>\n",
       "      <td>0</td>\n",
       "      <td>0</td>\n",
       "      <td>1</td>\n",
       "      <td>0</td>\n",
       "      <td>0</td>\n",
       "      <td>1</td>\n",
       "      <td>0</td>\n",
       "      <td>1</td>\n",
       "      <td>1</td>\n",
       "      <td>1</td>\n",
       "      <td>0</td>\n",
       "      <td>1</td>\n",
       "      <td>0</td>\n",
       "      <td>1</td>\n",
       "      <td>1</td>\n",
       "      <td>1</td>\n",
       "      <td>0</td>\n",
       "      <td>0</td>\n",
       "      <td>0</td>\n",
       "      <td>0</td>\n",
       "      <td>1</td>\n",
       "      <td>1</td>\n",
       "      <td>0</td>\n",
       "      <td>1</td>\n",
       "      <td>1</td>\n",
       "      <td>0</td>\n",
       "      <td>0</td>\n",
       "      <td>0</td>\n",
       "    </tr>\n",
       "    <tr>\n",
       "      <th>4</th>\n",
       "      <td>https://www.autoscout24.com//offers/audi-a1-sportback-1-4-tdi-s-tronic-s-line-ext-admired-xe-diesel-black-b86b55d8-9c7c-4a58-b658-b97008a51efc</td>\n",
       "      <td>Audi A1</td>\n",
       "      <td>Sportback 1.4 TDI S-Tronic S-Line Ext. admired, Xe</td>\n",
       "      <td>Sedans</td>\n",
       "      <td>16790</td>\n",
       "      <td>None</td>\n",
       "      <td>16,200 km</td>\n",
       "      <td>05/2016</td>\n",
       "      <td>66 kW</td>\n",
       "      <td>[, Used, , Diesel (Particulate Filter)]</td>\n",
       "      <td>\\n1\\n</td>\n",
       "      <td>NaN</td>\n",
       "      <td>[\\nYes\\n, \\n109 g CO2/km (comb)\\n]</td>\n",
       "      <td>[\\n, \\n, \\nEuro 6\\n]</td>\n",
       "      <td>[]</td>\n",
       "      <td>\\nAudi\\n</td>\n",
       "      <td>[\\n, A1, \\n]</td>\n",
       "      <td>[\\nC1626\\n]</td>\n",
       "      <td>[\\n, 2016, \\n]</td>\n",
       "      <td>[\\n, Black, \\n]</td>\n",
       "      <td>[\\nMetallic\\n]</td>\n",
       "      <td>[\\nMythosschwarz Metallic\\n]</td>\n",
       "      <td>[\\nCloth, Black\\n]</td>\n",
       "      <td>[\\n5\\n]</td>\n",
       "      <td>[\\n5\\n]</td>\n",
       "      <td>[\\n0588/BDF\\n]</td>\n",
       "      <td>[\\n, Automatic, \\n]</td>\n",
       "      <td>[\\n1,422 cc\\n]</td>\n",
       "      <td>3</td>\n",
       "      <td>[\\nfront\\n]</td>\n",
       "      <td>[\\n, Diesel (Particulate Filter), \\n]</td>\n",
       "      <td>[[4.1 l/100 km (comb)], [4.6 l/100 km (city)], [3.8 l/100 km (country)]]</td>\n",
       "      <td>[\\n109 g CO2/km (comb)\\n]</td>\n",
       "      <td>[\\nEuro 6\\n]</td>\n",
       "      <td>[Air conditioning, Armrest, Automatic climate control, Electrical side mirrors, Hill Holder, Leather steering wheel, Light sensor, Multi-function steering wheel, Park Distance Control, Parking assist system sensors rear, Power windows, Rain sensor, Start-stop system]</td>\n",
       "      <td>[Bluetooth, CD player, Hands-free equipment, MP3, On-board computer, Radio, USB]</td>\n",
       "      <td>[Alloy wheels, Sport package, Sport suspension, Voice Control]</td>\n",
       "      <td>[ABS, Central door lock, Driver-side airbag, Electronic stability control, Fog lights, Immobilizer, Isofix, Passenger-side airbag, Power steering, Side airbag, Tire pressure monitoring system, Traction control, Xenon headlights]</td>\n",
       "      <td>[\\n, Technik &amp; Sicherheit:, Xenon plus, Klimaautomatik, Einparkhilfe hinten, Scheinwerferreinigungsanlage, Nebelscheinwerfer, Zentralverriegelung mit Fernbedienung, Außenspiegel elek. einstellbar, Fensterheber elek, Start/Stop Anlage, 6 Airbag inkl. Kopfairbag, Euro 6, Multimedia:, Radio CD Concert, audi music interface, Handyvorbereitung (Bluetooth), Sprachsteuerung, USB Anschluss, Assistenzsysteme:, Lichtsensor, Regensensor, Berganfahrassistent, Reifendruckkontrolle, ESP inkl. ABS, Interie...</td>\n",
       "      <td>NaN</td>\n",
       "      <td>NaN</td>\n",
       "      <td>[\\nGermany\\n]</td>\n",
       "      <td>NaN</td>\n",
       "      <td>1</td>\n",
       "      <td>1</td>\n",
       "      <td>NaT</td>\n",
       "      <td>Metallic</td>\n",
       "      <td>Germany</td>\n",
       "      <td>NaN</td>\n",
       "      <td>Air conditioning,Armrest,Automatic climate control,Electrical side mirrors,Hill Holder,Leather steering wheel,Light sensor,Multi-function steering wheel,Park Distance Control,Parking assist system sensors rear,Power windows,Rain sensor,Start-stop system</td>\n",
       "      <td>1</td>\n",
       "      <td>0</td>\n",
       "      <td>1</td>\n",
       "      <td>1</td>\n",
       "      <td>0</td>\n",
       "      <td>0</td>\n",
       "      <td>0</td>\n",
       "      <td>0</td>\n",
       "      <td>1</td>\n",
       "      <td>0</td>\n",
       "      <td>0</td>\n",
       "      <td>0</td>\n",
       "      <td>0</td>\n",
       "      <td>1</td>\n",
       "      <td>0</td>\n",
       "      <td>0</td>\n",
       "      <td>1</td>\n",
       "      <td>1</td>\n",
       "      <td>0</td>\n",
       "      <td>0</td>\n",
       "      <td>1</td>\n",
       "      <td>0</td>\n",
       "      <td>0</td>\n",
       "      <td>1</td>\n",
       "      <td>0</td>\n",
       "      <td>0</td>\n",
       "      <td>0</td>\n",
       "      <td>1</td>\n",
       "      <td>1</td>\n",
       "      <td>1</td>\n",
       "      <td>0</td>\n",
       "      <td>0</td>\n",
       "      <td>0</td>\n",
       "      <td>1</td>\n",
       "      <td>0</td>\n",
       "      <td>0</td>\n",
       "      <td>0</td>\n",
       "      <td>0</td>\n",
       "      <td>Bluetooth,CD player,Hands-free equipment,MP3,On-board computer,Radio,USB</td>\n",
       "      <td>1</td>\n",
       "      <td>1</td>\n",
       "      <td>0</td>\n",
       "      <td>1</td>\n",
       "      <td>1</td>\n",
       "      <td>1</td>\n",
       "      <td>1</td>\n",
       "      <td>0</td>\n",
       "      <td>0</td>\n",
       "      <td>1</td>\n",
       "      <td>Alloy wheels,Sport package,Sport suspension,Voice Control</td>\n",
       "      <td>1</td>\n",
       "      <td>0</td>\n",
       "      <td>0</td>\n",
       "      <td>0</td>\n",
       "      <td>0</td>\n",
       "      <td>0</td>\n",
       "      <td>0</td>\n",
       "      <td>0</td>\n",
       "      <td>0</td>\n",
       "      <td>1</td>\n",
       "      <td>0</td>\n",
       "      <td>1</td>\n",
       "      <td>0</td>\n",
       "      <td>0</td>\n",
       "      <td>0</td>\n",
       "      <td>1</td>\n",
       "      <td>0</td>\n",
       "      <td>ABS,Central door lock,Driver-side airbag,Electronic stability control,Fog lights,Immobilizer,Isofix,Passenger-side airbag,Power steering,Side airbag,Tire pressure monitoring system,Traction control,Xenon headlights</td>\n",
       "      <td>1</td>\n",
       "      <td>0</td>\n",
       "      <td>0</td>\n",
       "      <td>0</td>\n",
       "      <td>0</td>\n",
       "      <td>1</td>\n",
       "      <td>0</td>\n",
       "      <td>0</td>\n",
       "      <td>0</td>\n",
       "      <td>1</td>\n",
       "      <td>1</td>\n",
       "      <td>0</td>\n",
       "      <td>0</td>\n",
       "      <td>1</td>\n",
       "      <td>0</td>\n",
       "      <td>1</td>\n",
       "      <td>1</td>\n",
       "      <td>0</td>\n",
       "      <td>0</td>\n",
       "      <td>0</td>\n",
       "      <td>0</td>\n",
       "      <td>1</td>\n",
       "      <td>1</td>\n",
       "      <td>0</td>\n",
       "      <td>1</td>\n",
       "      <td>1</td>\n",
       "      <td>1</td>\n",
       "      <td>0</td>\n",
       "      <td>1</td>\n",
       "    </tr>\n",
       "  </tbody>\n",
       "</table>\n",
       "</div>"
      ],
      "text/plain": [
       "                                                                                                                                                url make_model                                   short_description body_type  price               vat         km registration      hp                                     Type Previous Owners                        Next Inspection                      Inspection new                          Warranty null      Make         Model     Offer Number First Registration       Body Color      Paint Type           Body Color Original          Upholstery Nr. of Doors Nr. of Seats      Model Code         Gearing Type    Displacement Cylinders  Drive chain                                   Fuel                                                               Consumption               CO2 Emission Emission Class                                                                                                                                                                                                                                                                                                     \\nComfort & Convenience\\n                                                                       \\nEntertainment & Media\\n                                                      \\nExtras\\n                                                                                                                                                                                                                                                                                 \\nSafety & Security\\n  \\\n",
       "0         https://www.autoscout24.com//offers/audi-a1-sportback-1-4-tdi-s-tronic-xenon-navi-klima-diesel-black-bdab349a-caa5-41b0-98eb-c1345b84445e    Audi A1         Sportback 1.4 TDI S-tronic Xenon Navi Klima    Sedans  15770    VAT deductible  56,013 km      01/2016   66 kW  [, Used, , Diesel (Particulate Filter)]           \\n2\\n  [\\n06/2021\\n, \\n99 g CO2/km (comb)\\n]               [\\nYes\\n, \\nEuro 6\\n]           [\\n, \\n, \\n4 (Green)\\n]   []  \\nAudi\\n  [\\n, A1, \\n]  [\\nLR-062483\\n]     [\\n, 2016, \\n]  [\\n, Black, \\n]  [\\nMetallic\\n]           [\\nMythosschwarz\\n]  [\\nCloth, Black\\n]      [\\n5\\n]      [\\n5\\n]  [\\n0588/BDF\\n]  [\\n, Automatic, \\n]  [\\n1,422 cc\\n]         3  [\\nfront\\n]  [\\n, Diesel (Particulate Filter), \\n]  [[3.8 l/100 km (comb)], [4.3 l/100 km (city)], [3.5 l/100 km (country)]]   [\\n99 g CO2/km (comb)\\n]   [\\nEuro 6\\n]  [Air conditioning, Armrest, Automatic climate control, Cruise control, Electrical side mirrors, Hill Holder, Leather steering wheel, Light sensor, Multi-function steering wheel, Navigation system, Park Distance Control, Parking assist system sensors rear, Power windows, Rain sensor, Seat heating, Start-stop system]                                     [Bluetooth, Hands-free equipment, On-board computer, Radio]              [Alloy wheels, Catalytic Converter, Voice Control]                                          [ABS, Central door lock, Daytime running lights, Driver-side airbag, Electronic stability control, Fog lights, Immobilizer, Isofix, Passenger-side airbag, Power steering, Side airbag, Tire pressure monitoring system, Traction control, Xenon headlights]   \n",
       "1                                      https://www.autoscout24.com//offers/audi-a1-1-8-tfsi-sport-gasoline-red-b2547f8a-e83f-6237-e053-e250040a56df    Audi A1                                      1.8 TFSI sport    Sedans  14500  Price negotiable  80,000 km      03/2017  141 kW                     [, Used, , Gasoline]             NaN                                    NaN                                 NaN                               NaN   []  \\nAudi\\n  [\\n, A1, \\n]              NaN     [\\n, 2017, \\n]    [\\n, Red, \\n]             NaN                           NaN   [\\nCloth, Grey\\n]      [\\n3\\n]      [\\n4\\n]  [\\n0588/BCY\\n]  [\\n, Automatic, \\n]  [\\n1,798 cc\\n]         4  [\\nfront\\n]                     [\\n, Gasoline, \\n]  [[5.6 l/100 km (comb)], [7.1 l/100 km (city)], [4.7 l/100 km (country)]]  [\\n129 g CO2/km (comb)\\n]   [\\nEuro 6\\n]                                                                                                                                      [Air conditioning, Automatic climate control, Hill Holder, Leather steering wheel, Lumbar support, Parking assist system sensors rear, Power windows, Start-stop system, Tinted windows]                       [Bluetooth, Hands-free equipment, On-board computer, Radio, Sound system]    [Alloy wheels, Sport seats, Sport suspension, Voice Control]  [ABS, Central door lock, Central door lock with remote control, Daytime running lights, Driver-side airbag, Electronic stability control, Head airbag, Immobilizer, Isofix, Passenger-side airbag, Power steering, Side airbag, Tire pressure monitoring system, Traction control, Xenon headlights]   \n",
       "2  https://www.autoscout24.com//offers/audi-a1-sportback-1-6-tdi-s-tronic-einparkhilfe-plus-music-diesel-black-6183cb6a-8570-4b86-a132-9b54214bca88    Audi A1  Sportback 1.6 TDI S tronic Einparkhilfe plus+music    Sedans  14640    VAT deductible  83,450 km      02/2016   85 kW  [, Used, , Diesel (Particulate Filter)]           \\n1\\n                                    NaN                                 NaN  [\\n, \\n, \\n99 g CO2/km (comb)\\n]   []  \\nAudi\\n  [\\n, A1, \\n]   [\\nAM-95365\\n]     [\\n, 2016, \\n]  [\\n, Black, \\n]  [\\nMetallic\\n]  [\\nmythosschwarz metallic\\n]  [\\nCloth, Black\\n]      [\\n4\\n]      [\\n4\\n]             NaN  [\\n, Automatic, \\n]  [\\n1,598 cc\\n]       NaN  [\\nfront\\n]  [\\n, Diesel (Particulate Filter), \\n]  [[3.8 l/100 km (comb)], [4.4 l/100 km (city)], [3.4 l/100 km (country)]]   [\\n99 g CO2/km (comb)\\n]   [\\nEuro 6\\n]                            [Air conditioning, Cruise control, Electrical side mirrors, Hill Holder, Leather steering wheel, Multi-function steering wheel, Navigation system, Park Distance Control, Parking assist system sensors front, Parking assist system sensors rear, Power windows, Seat heating, Start-stop system]                                                                        [MP3, On-board computer]                                   [Alloy wheels, Voice Control]                                                                        [ABS, Central door lock, Daytime running lights, Driver-side airbag, Electronic stability control, Immobilizer, Isofix, Passenger-side airbag, Power steering, Side airbag, Tire pressure monitoring system, Traction control]   \n",
       "3                             https://www.autoscout24.com//offers/audi-a1-1-4-tdi-design-s-tronic-diesel-brown-35c86585-2727-d61e-e053-e250040ad640    Audi A1                             1.4 TDi Design S tronic    Sedans  14500              None  73,000 km      08/2016   66 kW  [, Used, , Diesel (Particulate Filter)]           \\n1\\n                                    NaN                                 NaN                               NaN   []  \\nAudi\\n  [\\n, A1, \\n]              NaN     [\\n, 2016, \\n]  [\\n, Brown, \\n]  [\\nMetallic\\n]                           NaN                 NaN      [\\n3\\n]      [\\n4\\n]             NaN  [\\n, Automatic, \\n]  [\\n1,422 cc\\n]         3          NaN  [\\n, Diesel (Particulate Filter), \\n]  [[3.8 l/100 km (comb)], [4.3 l/100 km (city)], [3.5 l/100 km (country)]]   [\\n99 g CO2/km (comb)\\n]   [\\nEuro 6\\n]                                   [Air suspension, Armrest, Auxiliary heating, Electrical side mirrors, Heads-up display, Hill Holder, Leather steering wheel, Light sensor, Lumbar support, Multi-function steering wheel, Navigation system, Power windows, Rain sensor, Seat heating, Split rear seats, Start-stop system]  [Bluetooth, CD player, Hands-free equipment, MP3, On-board computer, Radio, Sound system, USB]                      [Alloy wheels, Sport seats, Voice Control]                    [ABS, Alarm system, Central door lock with remote control, Driver drowsiness detection, Driver-side airbag, Electronic stability control, Emergency system, Head airbag, Immobilizer, Isofix, Passenger-side airbag, Power steering, Side airbag, Tire pressure monitoring system]   \n",
       "4    https://www.autoscout24.com//offers/audi-a1-sportback-1-4-tdi-s-tronic-s-line-ext-admired-xe-diesel-black-b86b55d8-9c7c-4a58-b658-b97008a51efc    Audi A1  Sportback 1.4 TDI S-Tronic S-Line Ext. admired, Xe    Sedans  16790              None  16,200 km      05/2016   66 kW  [, Used, , Diesel (Particulate Filter)]           \\n1\\n                                    NaN  [\\nYes\\n, \\n109 g CO2/km (comb)\\n]              [\\n, \\n, \\nEuro 6\\n]   []  \\nAudi\\n  [\\n, A1, \\n]      [\\nC1626\\n]     [\\n, 2016, \\n]  [\\n, Black, \\n]  [\\nMetallic\\n]  [\\nMythosschwarz Metallic\\n]  [\\nCloth, Black\\n]      [\\n5\\n]      [\\n5\\n]  [\\n0588/BDF\\n]  [\\n, Automatic, \\n]  [\\n1,422 cc\\n]         3  [\\nfront\\n]  [\\n, Diesel (Particulate Filter), \\n]  [[4.1 l/100 km (comb)], [4.6 l/100 km (city)], [3.8 l/100 km (country)]]  [\\n109 g CO2/km (comb)\\n]   [\\nEuro 6\\n]                                                   [Air conditioning, Armrest, Automatic climate control, Electrical side mirrors, Hill Holder, Leather steering wheel, Light sensor, Multi-function steering wheel, Park Distance Control, Parking assist system sensors rear, Power windows, Rain sensor, Start-stop system]                [Bluetooth, CD player, Hands-free equipment, MP3, On-board computer, Radio, USB]  [Alloy wheels, Sport package, Sport suspension, Voice Control]                                                                  [ABS, Central door lock, Driver-side airbag, Electronic stability control, Fog lights, Immobilizer, Isofix, Passenger-side airbag, Power steering, Side airbag, Tire pressure monitoring system, Traction control, Xenon headlights]   \n",
       "\n",
       "                                                                                                                                                                                                                                                                                                                                                                                                                                                                                                           description   Emission Label    Gears Country version Previous_Owner1 Previous_Owner  Inspection_New_Bool next_inspection paint_type  country emission_label                                                                                                                                                                                                                                                                                          Comfort&Convenience  cc_Air conditioning  cc_Air suspension  cc_Armrest  cc_Automatic climate control  cc_Auxiliary heating  cc_Cruise control  cc_Electric Starter  cc_Electric tailgate  cc_Electrical side mirrors  cc_Electrically adjustable seats  cc_Electrically heated windshield  cc_Heads-up display  cc_Heated steering wheel  cc_Hill Holder  cc_Keyless central door lock  cc_Leather seats  cc_Leather steering wheel  cc_Light sensor  cc_Lumbar support  cc_Massage seats  cc_Multi-function steering wheel  cc_Navigation system  cc_Panorama roof  cc_Park Distance Control  cc_Parking assist system camera  cc_Parking assist system self-steering  cc_Parking assist system sensors front  cc_Parking assist system sensors rear  cc_Power windows  cc_Rain sensor  cc_Seat heating  cc_Seat ventilation  cc_Split rear seats  cc_Start-stop system  cc_Sunroof  cc_Tinted windows  cc_Wind deflector  cc_Windshield                                                                    Entertainment&Media  em_Bluetooth  em_CD player  em_Digital radio  em_Hands-free equipment  \\\n",
       "0  [\\n, Sicherheit:,  , Deaktivierung für Beifahrer-Airbag,  , ESC mit elektronischer Quersperre,  , Tagfahrlicht,  , Reifendruck-Kontrollanzeige,  , Kopfairbag-System mit Seiten-Airbags vorn,  , Sicherheitslenksäule, Assistenzsysteme:,  , Berganfahrassistent, Komfort:,  , Scheinwerferreinigung,  , Xenon plus inklusive Scheinwerfer-Reinigungsanlage,  , Scheinwerfer-Reinigungsanlage,  , Einparkhilfe hinten,  , Licht-/Regensensor,  , Funkfernbedienung,  , Elektrische Luftzusatzheizung, Interieur:...              NaN      NaN             NaN             NaN              2                    1      2021-06-01   Metallic      NaN            NaN  Air conditioning,Armrest,Automatic climate control,Cruise control,Electrical side mirrors,Hill Holder,Leather steering wheel,Light sensor,Multi-function steering wheel,Navigation system,Park Distance Control,Parking assist system sensors rear,Power windows,Rain sensor,Seat heating,Start-stop system                    1                  0           1                             1                     0                  1                    0                     0                           1                                 0                                  0                    0                         0               1                             0                 0                          1                1                  0                 0                                 1                     1                 0                         1                                0                                       0                                       0                                      1                 1               1                1                    0                    0                     1           0                  0                  0              0                                 Bluetooth,Hands-free equipment,On-board computer,Radio             1             0                 0                        1   \n",
       "1                                                                                                                                                                                                                                                                                                                                                                                                         [\\nLangstreckenfahrzeug daher die hohe Kilometerleistung. , Bremsen neu bei 62000 km. , Gut gepflegter A1\\n]  [\\n4 (Green)\\n]  [\\n7\\n]             NaN             NaN              1                    0             NaT        NaN      NaN      4 (Green)                                                                                                                               Air conditioning,Automatic climate control,Hill Holder,Leather steering wheel,Lumbar support,Parking assist system sensors rear,Power windows,Start-stop system,Tinted windows                    1                  0           0                             1                     0                  0                    0                     0                           0                                 0                                  0                    0                         0               1                             0                 0                          1                0                  1                 0                                 0                     0                 0                         0                                0                                       0                                       0                                      1                 1               0                0                    0                    0                     1           0                  1                  0              0                    Bluetooth,Hands-free equipment,On-board computer,Radio,Sound system             1             0                 0                        1   \n",
       "2  [\\n, Fahrzeug-Nummer: AM-95365,  , Ehem. UPE 24.640 EUR,  , Komfort,  , Klimaanlage,  , Elektrische Fensterheber,  , Sitzheizung,  , Tempomat,  , Zentralverriegelung,  , Leder-Lenkrad,  , Elektrische Spiegel,  , Wärmedämmendes Glas,  , Anfahrassistent,  , Sicherheit,  , Window/Kopfairbags,  , ESP (el. Stabilitäts Programm),  , Elektronische Wegfahrsperre,  , Reifendruckkontrolle,  , Tagfahrlicht,  , Exterieur,  , Alufelgen 16 Zoll,  , Einparkhilfe vo + hi,  , Interieur,  , Stoff Zeitgeist,  ...  [\\n4 (Green)\\n]      NaN             NaN             NaN              1                    0             NaT   Metallic      NaN      4 (Green)                         Air conditioning,Cruise control,Electrical side mirrors,Hill Holder,Leather steering wheel,Multi-function steering wheel,Navigation system,Park Distance Control,Parking assist system sensors front,Parking assist system sensors rear,Power windows,Seat heating,Start-stop system                    1                  0           0                             0                     0                  1                    0                     0                           1                                 0                                  0                    0                         0               1                             0                 0                          1                0                  0                 0                                 1                     1                 0                         1                                0                                       0                                       1                                      1                 1               0                1                    0                    0                     1           0                  0                  0              0                                                                  MP3,On-board computer             0             0                 0                        0   \n",
       "3                                                                                                                                                                                                                                                                             [\\nAudi A1: , - 1e eigenaar , - Perfecte staat: schade/ongevalvrij , - Onderhoudsboekje Audi garage , - Full option!, - S-line opties, - Automaat, lederen bekleding, navi-pro, Xenon lampen, zetelverwarming, automatische airco,...\\n]              NaN  [\\n6\\n]             NaN             NaN              1                    0             NaT   Metallic      NaN            NaN                                   Air suspension,Armrest,Auxiliary heating,Electrical side mirrors,Heads-up display,Hill Holder,Leather steering wheel,Light sensor,Lumbar support,Multi-function steering wheel,Navigation system,Power windows,Rain sensor,Seat heating,Split rear seats,Start-stop system                    0                  1           1                             0                     1                  0                    0                     0                           1                                 0                                  0                    1                         0               1                             0                 0                          1                1                  1                 0                                 1                     1                 0                         0                                0                                       0                                       0                                      0                 1               1                1                    0                    1                     1           0                  0                  0              0  Bluetooth,CD player,Hands-free equipment,MP3,On-board computer,Radio,Sound system,USB             1             1                 0                        1   \n",
       "4  [\\n, Technik & Sicherheit:, Xenon plus, Klimaautomatik, Einparkhilfe hinten, Scheinwerferreinigungsanlage, Nebelscheinwerfer, Zentralverriegelung mit Fernbedienung, Außenspiegel elek. einstellbar, Fensterheber elek, Start/Stop Anlage, 6 Airbag inkl. Kopfairbag, Euro 6, Multimedia:, Radio CD Concert, audi music interface, Handyvorbereitung (Bluetooth), Sprachsteuerung, USB Anschluss, Assistenzsysteme:, Lichtsensor, Regensensor, Berganfahrassistent, Reifendruckkontrolle, ESP inkl. ABS, Interie...              NaN      NaN   [\\nGermany\\n]             NaN              1                    1             NaT   Metallic  Germany            NaN                                                Air conditioning,Armrest,Automatic climate control,Electrical side mirrors,Hill Holder,Leather steering wheel,Light sensor,Multi-function steering wheel,Park Distance Control,Parking assist system sensors rear,Power windows,Rain sensor,Start-stop system                    1                  0           1                             1                     0                  0                    0                     0                           1                                 0                                  0                    0                         0               1                             0                 0                          1                1                  0                 0                                 1                     0                 0                         1                                0                                       0                                       0                                      1                 1               1                0                    0                    0                     1           0                  0                  0              0               Bluetooth,CD player,Hands-free equipment,MP3,On-board computer,Radio,USB             1             1                 0                        1   \n",
       "\n",
       "   em_MP3  em_On-board computer  em_Radio  em_Sound system  em_Television  em_USB                                                      extra  ex_Alloy wheels  ex_Cab or rented Car  ex_Catalytic Converter  ex_Handicapped enabled  ex_Right hand drive  ex_Roof rack  ex_Shift paddles  ex_Ski bag  ex_Sliding door  ex_Sport package  ex_Sport seats  ex_Sport suspension  ex_Touch screen  ex_Trailer hitch  ex_Tuned car  ex_Voice Control  ex_Winter tyres                                                                                                                                                                                                                                                                         Safe&Security  ss_ABS  ss_Adaptive Cruise Control  ss_Adaptive headlights  ss_Alarm system  ss_Blind spot monitor  ss_Central door lock  ss_Central door lock with remote control  ss_Daytime running lights  ss_Driver drowsiness detection  ss_Driver-side airbag  ss_Electronic stability control  ss_Emergency brake assistant  ss_Emergency system  ss_Fog lights  ss_Head airbag  ss_Immobilizer  ss_Isofix  ss_LED Daytime Running Lights  ss_LED Headlights  ss_Lane departure warning system  ss_Night view assist  ss_Passenger-side airbag  ss_Power steering  ss_Rear airbag  ss_Side airbag  ss_Tire pressure monitoring system  ss_Traction control  ss_Traffic sign recognition  ss_Xenon headlights  \n",
       "0       0                     1         1                0              0       0             Alloy wheels,Catalytic Converter,Voice Control                1                     0                       1                       0                    0             0                 0           0                0                 0               0                    0                0                 0             0                 1                0                                         ABS,Central door lock,Daytime running lights,Driver-side airbag,Electronic stability control,Fog lights,Immobilizer,Isofix,Passenger-side airbag,Power steering,Side airbag,Tire pressure monitoring system,Traction control,Xenon headlights       1                           0                       0                0                      0                     1                                         0                          1                               0                      1                                1                             0                    0              1               0               1          1                              0                  0                                 0                     0                         1                  1               0               1                                   1                    1                            0                    1  \n",
       "1       0                     1         1                1              0       0    Alloy wheels,Sport seats,Sport suspension,Voice Control                1                     0                       0                       0                    0             0                 0           0                0                 0               1                    1                0                 0             0                 1                0  ABS,Central door lock,Central door lock with remote control,Daytime running lights,Driver-side airbag,Electronic stability control,Head airbag,Immobilizer,Isofix,Passenger-side airbag,Power steering,Side airbag,Tire pressure monitoring system,Traction control,Xenon headlights       1                           0                       0                0                      0                     1                                         1                          1                               0                      1                                1                             0                    0              0               1               1          1                              0                  0                                 0                     0                         1                  1               0               1                                   1                    1                            0                    1  \n",
       "2       1                     1         0                0              0       0                                 Alloy wheels,Voice Control                1                     0                       0                       0                    0             0                 0           0                0                 0               0                    0                0                 0             0                 1                0                                                                     ABS,Central door lock,Daytime running lights,Driver-side airbag,Electronic stability control,Immobilizer,Isofix,Passenger-side airbag,Power steering,Side airbag,Tire pressure monitoring system,Traction control       1                           0                       0                0                      0                     1                                         0                          1                               0                      1                                1                             0                    0              0               0               1          1                              0                  0                                 0                     0                         1                  1               0               1                                   1                    1                            0                    0  \n",
       "3       1                     1         1                1              0       1                     Alloy wheels,Sport seats,Voice Control                1                     0                       0                       0                    0             0                 0           0                0                 0               1                    0                0                 0             0                 1                0                   ABS,Alarm system,Central door lock with remote control,Driver drowsiness detection,Driver-side airbag,Electronic stability control,Emergency system,Head airbag,Immobilizer,Isofix,Passenger-side airbag,Power steering,Side airbag,Tire pressure monitoring system       1                           0                       0                1                      0                     0                                         1                          0                               1                      1                                1                             0                    1              0               1               1          1                              0                  0                                 0                     0                         1                  1               0               1                                   1                    0                            0                    0  \n",
       "4       1                     1         1                0              0       1  Alloy wheels,Sport package,Sport suspension,Voice Control                1                     0                       0                       0                    0             0                 0           0                0                 1               0                    1                0                 0             0                 1                0                                                                ABS,Central door lock,Driver-side airbag,Electronic stability control,Fog lights,Immobilizer,Isofix,Passenger-side airbag,Power steering,Side airbag,Tire pressure monitoring system,Traction control,Xenon headlights       1                           0                       0                0                      0                     1                                         0                          0                               0                      1                                1                             0                    0              1               0               1          1                              0                  0                                 0                     0                         1                  1               0               1                                   1                    1                            0                    1  "
      ]
     },
     "execution_count": 2068,
     "metadata": {},
     "output_type": "execute_result"
    }
   ],
   "source": [
    "data.head()"
   ]
  },
  {
   "cell_type": "code",
   "execution_count": 2069,
   "metadata": {},
   "outputs": [
    {
     "data": {
      "text/plain": [
       "(15919, 147)"
      ]
     },
     "execution_count": 2069,
     "metadata": {},
     "output_type": "execute_result"
    }
   ],
   "source": [
    "data.shape"
   ]
  },
  {
   "cell_type": "markdown",
   "metadata": {},
   "source": [
    "## Consumption"
   ]
  },
  {
   "cell_type": "code",
   "execution_count": 2070,
   "metadata": {},
   "outputs": [
    {
     "data": {
      "text/plain": [
       "11.973113889063383"
      ]
     },
     "execution_count": 2070,
     "metadata": {},
     "output_type": "execute_result"
    }
   ],
   "source": [
    "data['Consumption'].isnull().sum()/ len(data['Consumption'])*100"
   ]
  },
  {
   "cell_type": "code",
   "execution_count": 2071,
   "metadata": {},
   "outputs": [
    {
     "ename": "TypeError",
     "evalue": "unhashable type: 'list'",
     "output_type": "error",
     "traceback": [
      "\u001b[0;31m---------------------------------------------------------------------------\u001b[0m",
      "\u001b[0;31mTypeError\u001b[0m                                 Traceback (most recent call last)",
      "\u001b[0;32mpandas/_libs/hashtable_class_helper.pxi\u001b[0m in \u001b[0;36mpandas._libs.hashtable.PyObjectHashTable.map_locations\u001b[0;34m()\u001b[0m\n",
      "\u001b[0;31mTypeError\u001b[0m: unhashable type: 'list'"
     ]
    },
    {
     "name": "stderr",
     "output_type": "stream",
     "text": [
      "Exception ignored in: 'pandas._libs.index.IndexEngine._call_map_locations'\n",
      "Traceback (most recent call last):\n",
      "  File \"pandas/_libs/hashtable_class_helper.pxi\", line 1652, in pandas._libs.hashtable.PyObjectHashTable.map_locations\n",
      "TypeError: unhashable type: 'list'\n"
     ]
    },
    {
     "data": {
      "text/plain": [
       "NaN                                                                                   1906\n",
       "[[3.9 l/100 km (comb)], [4.1 l/100 km (city)], [3.7 l/100 km (country)]]               304\n",
       "[[4.2 l/100 km (comb)], [5 l/100 km (city)], [3.7 l/100 km (country)]]                 276\n",
       "[[5.4 l/100 km (comb)], [6.8 l/100 km (city)], [4.5 l/100 km (country)]]               257\n",
       "[[3.8 l/100 km (comb)], [4.3 l/100 km (city)], [3.5 l/100 km (country)]]               253\n",
       "                                                                                      ... \n",
       "[[3.6 l/100 km (comb)], [], [4.4 l/100 km (country)]]                                    1\n",
       "[\\n, 4.8 l/100 km (comb), \\n, 5.6 l/100 km (city), \\n, 4.3 l/100 km (country), \\n]       1\n",
       "[[7.6 l/100 km (comb)], [], []]                                                          1\n",
       "[[5.6 l/100 km (comb)], [7.6 l/100 km (city)], [4.4 l/100 km (country)]]                 1\n",
       "[\\n, 4.7 l/100 km (comb), \\n, \\n, \\n]                                                    1\n",
       "Name: Consumption, Length: 882, dtype: int64"
      ]
     },
     "execution_count": 2071,
     "metadata": {},
     "output_type": "execute_result"
    }
   ],
   "source": [
    "data['Consumption'].value_counts(dropna = False)"
   ]
  },
  {
   "cell_type": "code",
   "execution_count": 2072,
   "metadata": {},
   "outputs": [
    {
     "data": {
      "text/plain": [
       "4367               [[4.2 l/100 km (comb)], [4.7 l/100 km (city)], [3.9 l/100 km (country)]]\n",
       "7610     [\\n, 6.4 l/100 km (comb), \\n, 8.3 l/100 km (city), \\n, 5.3 l/100 km (country), \\n]\n",
       "5964                                                                                    NaN\n",
       "3939                                                                                    NaN\n",
       "10647              [[6.4 l/100 km (comb)], [8.7 l/100 km (city)], [5.1 l/100 km (country)]]\n",
       "15323                [[4.4 l/100 km (comb)], [5.1 l/100 km (city)], [4 l/100 km (country)]]\n",
       "10486              [[4.1 l/100 km (comb)], [4.9 l/100 km (city)], [3.7 l/100 km (country)]]\n",
       "7251               [[5.1 l/100 km (comb)], [6.3 l/100 km (city)], [4.3 l/100 km (country)]]\n",
       "14877                [[5 l/100 km (comb)], [6.3 l/100 km (city)], [4.2 l/100 km (country)]]\n",
       "12933              [[5.7 l/100 km (comb)], [7.3 l/100 km (city)], [4.7 l/100 km (country)]]\n",
       "5084               [[5.1 l/100 km (comb)], [6.4 l/100 km (city)], [4.4 l/100 km (country)]]\n",
       "2107               [[4.8 l/100 km (comb)], [5.8 l/100 km (city)], [4.2 l/100 km (country)]]\n",
       "3163               [[3.8 l/100 km (comb)], [4.5 l/100 km (city)], [3.4 l/100 km (country)]]\n",
       "9795               [[5.1 l/100 km (comb)], [6.7 l/100 km (city)], [4.2 l/100 km (country)]]\n",
       "8773                                                                                    NaN\n",
       "9661               [[4.8 l/100 km (comb)], [5.8 l/100 km (city)], [4.1 l/100 km (country)]]\n",
       "10942              [[4.3 l/100 km (comb)], [5.5 l/100 km (city)], [3.6 l/100 km (country)]]\n",
       "9931                 [[6 l/100 km (comb)], [7.8 l/100 km (city)], [4.9 l/100 km (country)]]\n",
       "7431                                                                                    NaN\n",
       "14660                [[5 l/100 km (comb)], [6.3 l/100 km (city)], [4.2 l/100 km (country)]]\n",
       "8620               [[5.2 l/100 km (comb)], [6.8 l/100 km (city)], [4.3 l/100 km (country)]]\n",
       "10807                [[5 l/100 km (comb)], [6.5 l/100 km (city)], [4.1 l/100 km (country)]]\n",
       "10090              [[6.3 l/100 km (comb)], [7.8 l/100 km (city)], [5.4 l/100 km (country)]]\n",
       "6974                 [[3.5 l/100 km (comb)], [4 l/100 km (city)], [3.2 l/100 km (country)]]\n",
       "1172       [\\n, 4.2 l/100 km (comb), \\n, 5 l/100 km (city), \\n, 3.7 l/100 km (country), \\n]\n",
       "3254                 [[4.4 l/100 km (comb)], [5.2 l/100 km (city)], [4 l/100 km (country)]]\n",
       "3160               [[3.9 l/100 km (comb)], [4.6 l/100 km (city)], [3.5 l/100 km (country)]]\n",
       "10993              [[5.6 l/100 km (comb)], [7.1 l/100 km (city)], [4.7 l/100 km (country)]]\n",
       "769                [[5.6 l/100 km (comb)], [7.1 l/100 km (city)], [4.7 l/100 km (country)]]\n",
       "2432       [\\n, 4.9 l/100 km (comb), \\n, 6 l/100 km (city), \\n, 4.2 l/100 km (country), \\n]\n",
       "3958               [[3.9 l/100 km (comb)], [4.1 l/100 km (city)], [3.7 l/100 km (country)]]\n",
       "6445               [[3.4 l/100 km (comb)], [3.8 l/100 km (city)], [3.1 l/100 km (country)]]\n",
       "15664              [[4.7 l/100 km (comb)], [5.1 l/100 km (city)], [4.4 l/100 km (country)]]\n",
       "10895              [[4.3 l/100 km (comb)], [5.1 l/100 km (city)], [3.9 l/100 km (country)]]\n",
       "14253              [[5.4 l/100 km (comb)], [6.8 l/100 km (city)], [4.5 l/100 km (country)]]\n",
       "148                [[3.9 l/100 km (comb)], [4.3 l/100 km (city)], [3.6 l/100 km (country)]]\n",
       "12295              [[5.9 l/100 km (comb)], [7.5 l/100 km (city)], [4.9 l/100 km (country)]]\n",
       "15006                [[4.6 l/100 km (comb)], [5 l/100 km (city)], [4.4 l/100 km (country)]]\n",
       "1000                 [[4 l/100 km (comb)], [4.6 l/100 km (city)], [3.6 l/100 km (country)]]\n",
       "502                                                                                     NaN\n",
       "10710                                                       [[5.4 l/100 km (comb)], [], []]\n",
       "12235              [[6.1 l/100 km (comb)], [7.5 l/100 km (city)], [5.3 l/100 km (country)]]\n",
       "8603               [[5.4 l/100 km (comb)], [6.7 l/100 km (city)], [4.6 l/100 km (country)]]\n",
       "2554                                                                                    NaN\n",
       "636                                                                                     NaN\n",
       "6456     [\\n, 6.3 l/100 km (comb), \\n, 8.3 l/100 km (city), \\n, 5.1 l/100 km (country), \\n]\n",
       "3588               [[4.4 l/100 km (comb)], [5.2 l/100 km (city)], [3.9 l/100 km (country)]]\n",
       "9324               [[5.2 l/100 km (comb)], [6.6 l/100 km (city)], [4.4 l/100 km (country)]]\n",
       "10960                    [[3 l/100 km (comb)], [4 l/100 km (city)], [3 l/100 km (country)]]\n",
       "7752                                                                                    NaN\n",
       "1114     [\\n, 4.5 l/100 km (comb), \\n, 5.5 l/100 km (city), \\n, 3.9 l/100 km (country), \\n]\n",
       "7772     [\\n, 6.1 l/100 km (comb), \\n, 7.5 l/100 km (city), \\n, 5.2 l/100 km (country), \\n]\n",
       "13303              [[5.4 l/100 km (comb)], [6.8 l/100 km (city)], [4.5 l/100 km (country)]]\n",
       "14826                                                       [[5.2 l/100 km (comb)], [], []]\n",
       "7166                                                                                    NaN\n",
       "Name: Consumption, dtype: object"
      ]
     },
     "execution_count": 2072,
     "metadata": {},
     "output_type": "execute_result"
    }
   ],
   "source": [
    "data['Consumption'].sample(55)"
   ]
  },
  {
   "cell_type": "code",
   "execution_count": 2073,
   "metadata": {},
   "outputs": [
    {
     "data": {
      "text/plain": [
       "12882                                                       [[4.3 l/100 km (comb)], [], []]\n",
       "9069               [[3.7 l/100 km (comb)], [4.4 l/100 km (city)], [3.3 l/100 km (country)]]\n",
       "5311               [[3.9 l/100 km (comb)], [4.2 l/100 km (city)], [3.7 l/100 km (country)]]\n",
       "10684                                                                                   NaN\n",
       "3344               [[4.5 l/100 km (comb)], [5.3 l/100 km (city)], [4.1 l/100 km (country)]]\n",
       "11897              [[5.4 l/100 km (comb)], [6.8 l/100 km (city)], [4.6 l/100 km (country)]]\n",
       "9475                                                                                    NaN\n",
       "478                [[3.7 l/100 km (comb)], [4.3 l/100 km (city)], [3.1 l/100 km (country)]]\n",
       "778                [[4.4 l/100 km (comb)], [5.4 l/100 km (city)], [3.8 l/100 km (country)]]\n",
       "12443    [\\n, 6.6 l/100 km (comb), \\n, 8.4 l/100 km (city), \\n, 5.6 l/100 km (country), \\n]\n",
       "14178              [[3.3 l/100 km (comb)], [3.5 l/100 km (city)], [3.1 l/100 km (country)]]\n",
       "134                [[4.4 l/100 km (comb)], [5.4 l/100 km (city)], [3.8 l/100 km (country)]]\n",
       "10553              [[5.5 l/100 km (comb)], [7.7 l/100 km (city)], [4.2 l/100 km (country)]]\n",
       "4066                 [[4 l/100 km (comb)], [4.7 l/100 km (city)], [3.6 l/100 km (country)]]\n",
       "10586                                                                                   NaN\n",
       "11951    [\\n, 6.1 l/100 km (comb), \\n, 7.5 l/100 km (city), \\n, 5.3 l/100 km (country), \\n]\n",
       "12337    [\\n, 5.9 l/100 km (comb), \\n, 7.5 l/100 km (city), \\n, 4.9 l/100 km (country), \\n]\n",
       "14526                [[5 l/100 km (comb)], [6.3 l/100 km (city)], [4.2 l/100 km (country)]]\n",
       "13561              [[5.6 l/100 km (comb)], [7.2 l/100 km (city)], [4.7 l/100 km (country)]]\n",
       "11661                  [[5 l/100 km (comb)], [5.8 l/100 km (city)], [4 l/100 km (country)]]\n",
       "589                  [[4.2 l/100 km (comb)], [5 l/100 km (city)], [3.7 l/100 km (country)]]\n",
       "7738     [\\n, 6.5 l/100 km (comb), \\n, 8.5 l/100 km (city), \\n, 5.4 l/100 km (country), \\n]\n",
       "13374              [[5.4 l/100 km (comb)], [6.8 l/100 km (city)], [4.5 l/100 km (country)]]\n",
       "7834                     [[4 l/100 km (comb)], [5 l/100 km (city)], [3 l/100 km (country)]]\n",
       "13943              [[5.7 l/100 km (comb)], [7.2 l/100 km (city)], [4.9 l/100 km (country)]]\n",
       "1081               [[4.4 l/100 km (comb)], [5.4 l/100 km (city)], [3.8 l/100 km (country)]]\n",
       "15149                [[4.6 l/100 km (comb)], [5 l/100 km (city)], [4.4 l/100 km (country)]]\n",
       "14730                                                         [[5 l/100 km (comb)], [], []]\n",
       "8256               [[4.8 l/100 km (comb)], [5.8 l/100 km (city)], [4.1 l/100 km (country)]]\n",
       "10889                [[4.5 l/100 km (comb)], [5.7 l/100 km (city)], [4 l/100 km (country)]]\n",
       "12150              [[5.8 l/100 km (comb)], [7.4 l/100 km (city)], [4.9 l/100 km (country)]]\n",
       "10466              [[4.3 l/100 km (comb)], [5.5 l/100 km (city)], [3.6 l/100 km (country)]]\n",
       "7968                                                                                    NaN\n",
       "14447              [[5.9 l/100 km (comb)], [7.6 l/100 km (city)], [5.1 l/100 km (country)]]\n",
       "798                [[4.4 l/100 km (comb)], [5.4 l/100 km (city)], [3.8 l/100 km (country)]]\n",
       "1379               [[4.4 l/100 km (comb)], [5.2 l/100 km (city)], [3.9 l/100 km (country)]]\n",
       "6356               [[4.5 l/100 km (comb)], [5.6 l/100 km (city)], [3.9 l/100 km (country)]]\n",
       "6379                 [[3.5 l/100 km (comb)], [4 l/100 km (city)], [3.2 l/100 km (country)]]\n",
       "11164                [[6.2 l/100 km (comb)], [8 l/100 km (city)], [5.2 l/100 km (country)]]\n",
       "2257               [[4.8 l/100 km (comb)], [5.9 l/100 km (city)], [4.1 l/100 km (country)]]\n",
       "7357               [[3.9 l/100 km (comb)], [4.6 l/100 km (city)], [3.6 l/100 km (country)]]\n",
       "1966               [[4.8 l/100 km (comb)], [5.8 l/100 km (city)], [4.2 l/100 km (country)]]\n",
       "5039               [[3.9 l/100 km (comb)], [4.1 l/100 km (city)], [3.7 l/100 km (country)]]\n",
       "3143               [[3.8 l/100 km (comb)], [4.5 l/100 km (city)], [3.4 l/100 km (country)]]\n",
       "8085               [[4.7 l/100 km (comb)], [5.5 l/100 km (city)], [4.1 l/100 km (country)]]\n",
       "398                [[3.8 l/100 km (comb)], [4.4 l/100 km (city)], [3.4 l/100 km (country)]]\n",
       "7866               [[5.8 l/100 km (comb)], [7.4 l/100 km (city)], [4.9 l/100 km (country)]]\n",
       "12608              [[6.1 l/100 km (comb)], [7.8 l/100 km (city)], [5.1 l/100 km (country)]]\n",
       "5833               [[6.2 l/100 km (comb)], [7.7 l/100 km (city)], [5.3 l/100 km (country)]]\n",
       "14219              [[5.6 l/100 km (comb)], [7.2 l/100 km (city)], [4.7 l/100 km (country)]]\n",
       "12005              [[6.1 l/100 km (comb)], [7.5 l/100 km (city)], [5.3 l/100 km (country)]]\n",
       "9803               [[5.1 l/100 km (comb)], [6.7 l/100 km (city)], [4.2 l/100 km (country)]]\n",
       "7576               [[6.2 l/100 km (comb)], [7.7 l/100 km (city)], [5.3 l/100 km (country)]]\n",
       "6572               [[3.7 l/100 km (comb)], [3.9 l/100 km (city)], [3.5 l/100 km (country)]]\n",
       "9325                                                                                    NaN\n",
       "Name: Consumption, dtype: object"
      ]
     },
     "execution_count": 2073,
     "metadata": {},
     "output_type": "execute_result"
    }
   ],
   "source": [
    "data['Consumption'].sample(55)"
   ]
  },
  {
   "cell_type": "code",
   "execution_count": 2074,
   "metadata": {},
   "outputs": [
    {
     "data": {
      "text/plain": [
       "7199               [[5.4 l/100 km (comb)], [7.1 l/100 km (city)], [4.4 l/100 km (country)]]\n",
       "10771             [[9.1 l/100 km (comb)], [11.3 l/100 km (city)], [7.8 l/100 km (country)]]\n",
       "10448              [[5.5 l/100 km (comb)], [6.7 l/100 km (city)], [4.8 l/100 km (country)]]\n",
       "10871                [[4.9 l/100 km (comb)], [6.3 l/100 km (city)], [4 l/100 km (country)]]\n",
       "3933                 [[4 l/100 km (comb)], [4.2 l/100 km (city)], [3.9 l/100 km (country)]]\n",
       "9043                                                                                    NaN\n",
       "8150       [\\n, 6.1 l/100 km (comb), \\n, 8 l/100 km (city), \\n, 5.1 l/100 km (country), \\n]\n",
       "13809              [[3.5 l/100 km (comb)], [3.9 l/100 km (city)], [3.3 l/100 km (country)]]\n",
       "2670               [[5.5 l/100 km (comb)], [7.3 l/100 km (city)], [4.4 l/100 km (country)]]\n",
       "8266     [\\n, 6.3 l/100 km (comb), \\n, 7.8 l/100 km (city), \\n, 5.4 l/100 km (country), \\n]\n",
       "12811                                                       [[4.9 l/100 km (comb)], [], []]\n",
       "10897              [[3.8 l/100 km (comb)], [4.5 l/100 km (city)], [3.3 l/100 km (country)]]\n",
       "5611                   [[4.4 l/100 km (comb)], [5 l/100 km (city)], [4 l/100 km (country)]]\n",
       "1684                                                                                    NaN\n",
       "14111                                                       [[5.6 l/100 km (comb)], [], []]\n",
       "15690    [\\n, 7.4 l/100 km (comb), \\n, 9.2 l/100 km (city), \\n, 6.3 l/100 km (country), \\n]\n",
       "3173                                                                                    NaN\n",
       "13343              [[5.4 l/100 km (comb)], [6.8 l/100 km (city)], [4.5 l/100 km (country)]]\n",
       "12806                [[6.3 l/100 km (comb)], [8 l/100 km (city)], [5.3 l/100 km (country)]]\n",
       "9598               [[5.2 l/100 km (comb)], [6.9 l/100 km (city)], [4.2 l/100 km (country)]]\n",
       "4397               [[4.5 l/100 km (comb)], [5.5 l/100 km (city)], [3.9 l/100 km (country)]]\n",
       "11319                                 [[], [4.6 l/100 km (city)], [5.7 l/100 km (country)]]\n",
       "6613               [[4.7 l/100 km (comb)], [5.8 l/100 km (city)], [4.1 l/100 km (country)]]\n",
       "11802                                                                                   NaN\n",
       "4021               [[3.8 l/100 km (comb)], [4.3 l/100 km (city)], [3.5 l/100 km (country)]]\n",
       "14117              [[3.3 l/100 km (comb)], [3.5 l/100 km (city)], [3.1 l/100 km (country)]]\n",
       "4387                 [[4 l/100 km (comb)], [4.5 l/100 km (city)], [3.7 l/100 km (country)]]\n",
       "5161           [[8.3 kg/100 km (comb)], [10.5 kg/100 km (city)], [6.9 kg/100 km (country)]]\n",
       "6051               [[4.4 l/100 km (comb)], [5.5 l/100 km (city)], [3.7 l/100 km (country)]]\n",
       "15918              [[6.8 l/100 km (comb)], [8.7 l/100 km (city)], [5.7 l/100 km (country)]]\n",
       "14907                                   [[10 l/100 km (comb)], [], [10 l/100 km (country)]]\n",
       "3566               [[3.9 l/100 km (comb)], [4.6 l/100 km (city)], [3.5 l/100 km (country)]]\n",
       "13632                                                                                   NaN\n",
       "7124               [[4.3 l/100 km (comb)], [5.2 l/100 km (city)], [3.8 l/100 km (country)]]\n",
       "10213              [[5.4 l/100 km (comb)], [6.7 l/100 km (city)], [4.6 l/100 km (country)]]\n",
       "13614              [[3.6 l/100 km (comb)], [4.3 l/100 km (city)], [3.2 l/100 km (country)]]\n",
       "6065                                                                                    NaN\n",
       "6335               [[5.4 l/100 km (comb)], [7.1 l/100 km (city)], [4.4 l/100 km (country)]]\n",
       "6592               [[5.6 l/100 km (comb)], [7.3 l/100 km (city)], [4.5 l/100 km (country)]]\n",
       "1142                                                                                    NaN\n",
       "12846              [[4.8 l/100 km (comb)], [5.7 l/100 km (city)], [4.1 l/100 km (country)]]\n",
       "4748                   [[4.4 l/100 km (comb)], [5 l/100 km (city)], [4 l/100 km (country)]]\n",
       "7191     [\\n, 5.4 l/100 km (comb), \\n, 7.1 l/100 km (city), \\n, 4.4 l/100 km (country), \\n]\n",
       "12942              [[7.1 l/100 km (comb)], [9.4 l/100 km (city)], [5.8 l/100 km (country)]]\n",
       "13324              [[5.4 l/100 km (comb)], [6.8 l/100 km (city)], [4.5 l/100 km (country)]]\n",
       "5803               [[4.6 l/100 km (comb)], [5.8 l/100 km (city)], [3.9 l/100 km (country)]]\n",
       "655                [[3.4 l/100 km (comb)], [3.9 l/100 km (city)], [3.1 l/100 km (country)]]\n",
       "9483               [[5.2 l/100 km (comb)], [6.6 l/100 km (city)], [4.4 l/100 km (country)]]\n",
       "5393                   [[4.4 l/100 km (comb)], [5 l/100 km (city)], [4 l/100 km (country)]]\n",
       "5615                                                                                    NaN\n",
       "1427                                                                                    NaN\n",
       "1066               [[4.9 l/100 km (comb)], [6.2 l/100 km (city)], [4.2 l/100 km (country)]]\n",
       "10656              [[4.3 l/100 km (comb)], [5.2 l/100 km (city)], [3.8 l/100 km (country)]]\n",
       "810                                                                                     NaN\n",
       "13002                                                                                   NaN\n",
       "Name: Consumption, dtype: object"
      ]
     },
     "execution_count": 2074,
     "metadata": {},
     "output_type": "execute_result"
    }
   ],
   "source": [
    "data['Consumption'].sample(55)"
   ]
  },
  {
   "cell_type": "code",
   "execution_count": 2075,
   "metadata": {},
   "outputs": [
    {
     "data": {
      "text/plain": [
       "0        [3.8 l/100 km (comb)]\n",
       "1        [5.6 l/100 km (comb)]\n",
       "2        [3.8 l/100 km (comb)]\n",
       "3        [3.8 l/100 km (comb)]\n",
       "4        [4.1 l/100 km (comb)]\n",
       "                 ...          \n",
       "15914    [5.3 l/100 km (comb)]\n",
       "15915                       \\n\n",
       "15916    [5.3 l/100 km (comb)]\n",
       "15917    [5.3 l/100 km (comb)]\n",
       "15918    [6.8 l/100 km (comb)]\n",
       "Name: Consumption, Length: 15919, dtype: object"
      ]
     },
     "execution_count": 2075,
     "metadata": {},
     "output_type": "execute_result"
    }
   ],
   "source": [
    "data['Consumption'].str[0]"
   ]
  },
  {
   "cell_type": "code",
   "execution_count": 2076,
   "metadata": {},
   "outputs": [
    {
     "ename": "TypeError",
     "evalue": "unhashable type: 'list'",
     "output_type": "error",
     "traceback": [
      "\u001b[0;31m---------------------------------------------------------------------------\u001b[0m",
      "\u001b[0;31mTypeError\u001b[0m                                 Traceback (most recent call last)",
      "\u001b[0;32mpandas/_libs/hashtable_class_helper.pxi\u001b[0m in \u001b[0;36mpandas._libs.hashtable.PyObjectHashTable.map_locations\u001b[0;34m()\u001b[0m\n",
      "\u001b[0;31mTypeError\u001b[0m: unhashable type: 'list'"
     ]
    },
    {
     "name": "stderr",
     "output_type": "stream",
     "text": [
      "Exception ignored in: 'pandas._libs.index.IndexEngine._call_map_locations'\n",
      "Traceback (most recent call last):\n",
      "  File \"pandas/_libs/hashtable_class_helper.pxi\", line 1652, in pandas._libs.hashtable.PyObjectHashTable.map_locations\n",
      "TypeError: unhashable type: 'list'\n"
     ]
    },
    {
     "data": {
      "text/plain": [
       "[4.1 l/100 km (comb)]      341\n",
       "[5.1 l/100 km (comb)]      627\n",
       "[4.2 l/100 km (comb)]      408\n",
       "[3.8 l/100 km (comb)]      585\n",
       "[3.1 l/100 km (comb)]        7\n",
       "[3.6 l/100 km (comb)]      193\n",
       "[3.3 kg/100 km (comb)]       9\n",
       "[7.4 l/100 km (comb)]       62\n",
       "[7.9 l/100 km (comb)]        2\n",
       "[1 l/100 km (comb)]          1\n",
       "[5.1 kg/100 km (comb)]       3\n",
       "[43 l/100 km (comb)]         1\n",
       "[3.6 kg/100 km (comb)]       1\n",
       "[4.4 l/100 km (comb)]      595\n",
       "[3 l/100 km (comb)]         69\n",
       "[6.9 l/100 km (comb)]       21\n",
       "[5.3 l/100 km (comb)]      374\n",
       "[54 l/100 km (comb)]         1\n",
       "[6.1 l/100 km (comb)]      135\n",
       "[7.2 l/100 km (comb)]        6\n",
       "[4.8 l/100 km (comb)]      523\n",
       "[38 l/100 km (comb)]         2\n",
       "[6.6 l/100 km (comb)]      119\n",
       "[8.7 l/100 km (comb)]        3\n",
       "[6.7 l/100 km (comb)]       33\n",
       "[10 l/100 km (comb)]        34\n",
       "[0 l/100 km (comb)]          2\n",
       "[4.5 l/100 km (comb)]      511\n",
       "[7.6 l/100 km (comb)]       14\n",
       "[3.4 kg/100 km (comb)]      12\n",
       "[7.5 l/100 km (comb)]        1\n",
       "[3.9 l/100 km (comb)]      732\n",
       "[7.3 l/100 km (comb)]        2\n",
       "[9.1 l/100 km (comb)]        1\n",
       "[55 l/100 km (comb)]         1\n",
       "[5.2 l/100 km (comb)]      429\n",
       "[8 l/100 km (comb)]          5\n",
       "[6.3 l/100 km (comb)]      141\n",
       "[5.4 kg/100 km (comb)]       1\n",
       "[32 l/100 km (comb)]         1\n",
       "[51 l/100 km (comb)]         4\n",
       "[8.3 kg/100 km (comb)]       1\n",
       "[40 l/100 km (comb)]         2\n",
       "[8.6 l/100 km (comb)]        3\n",
       "[5.8 l/100 km (comb)]      142\n",
       "[46 l/100 km (comb)]         1\n",
       "[6.4 l/100 km (comb)]       64\n",
       "[3.5 kg/100 km (comb)]       3\n",
       "[5.9 l/100 km (comb)]      308\n",
       "[6 l/100 km (comb)]        278\n",
       "[6.2 l/100 km (comb)]      184\n",
       "NaN                       1906\n",
       "[11 l/100 km (comb)]         1\n",
       "[5.5 l/100 km (comb)]      342\n",
       "[3.4 l/100 km (comb)]       94\n",
       "Name: Consumption, dtype: int64"
      ]
     },
     "execution_count": 2076,
     "metadata": {},
     "output_type": "execute_result"
    }
   ],
   "source": [
    "data['Consumption'].str[0].value_counts(dropna = False).sample(55)"
   ]
  },
  {
   "cell_type": "code",
   "execution_count": 2077,
   "metadata": {},
   "outputs": [
    {
     "ename": "TypeError",
     "evalue": "unhashable type: 'list'",
     "output_type": "error",
     "traceback": [
      "\u001b[0;31m---------------------------------------------------------------------------\u001b[0m",
      "\u001b[0;31mTypeError\u001b[0m                                 Traceback (most recent call last)",
      "\u001b[0;32mpandas/_libs/hashtable_class_helper.pxi\u001b[0m in \u001b[0;36mpandas._libs.hashtable.PyObjectHashTable.map_locations\u001b[0;34m()\u001b[0m\n",
      "\u001b[0;31mTypeError\u001b[0m: unhashable type: 'list'"
     ]
    },
    {
     "name": "stderr",
     "output_type": "stream",
     "text": [
      "Exception ignored in: 'pandas._libs.index.IndexEngine._call_map_locations'\n",
      "Traceback (most recent call last):\n",
      "  File \"pandas/_libs/hashtable_class_helper.pxi\", line 1652, in pandas._libs.hashtable.PyObjectHashTable.map_locations\n",
      "TypeError: unhashable type: 'list'\n"
     ]
    },
    {
     "data": {
      "text/plain": [
       "[4.7 l/100 km (comb)]     555\n",
       "[54 l/100 km (comb)]        1\n",
       "[8.3 kg/100 km (comb)]      1\n",
       "[55 l/100 km (comb)]        1\n",
       "[8.1 l/100 km (comb)]       2\n",
       "[6 l/100 km (comb)]       278\n",
       "[38 l/100 km (comb)]        2\n",
       "[40 l/100 km (comb)]        2\n",
       "[7.1 l/100 km (comb)]      38\n",
       "[4.6 l/100 km (comb)]     420\n",
       "[3.5 kg/100 km (comb)]      3\n",
       "[3.1 l/100 km (comb)]       7\n",
       "[7.9 l/100 km (comb)]       2\n",
       "[7.5 l/100 km (comb)]       1\n",
       "[4.5 l/100 km (comb)]     511\n",
       "[3.5 l/100 km (comb)]     285\n",
       "[4.1 l/100 km (comb)]     341\n",
       "[4.4 l/100 km (comb)]     595\n",
       "[0 l/100 km (comb)]         2\n",
       "[6.8 l/100 km (comb)]     134\n",
       "[6.4 l/100 km (comb)]      64\n",
       "[3.4 l/100 km (comb)]      94\n",
       "\\n                        850\n",
       "[3.7 l/100 km (comb)]     369\n",
       "[3 l/100 km (comb)]        69\n",
       "[8.3 l/100 km (comb)]      19\n",
       "[7.2 l/100 km (comb)]       6\n",
       "[5.8 l/100 km (comb)]     142\n",
       "[3.2 l/100 km (comb)]      25\n",
       "[3.3 l/100 km (comb)]     298\n",
       "[13.8 l/100 km (comb)]      1\n",
       "[7.3 l/100 km (comb)]       2\n",
       "[32 l/100 km (comb)]        1\n",
       "[1.2 l/100 km (comb)]       1\n",
       "[7.4 l/100 km (comb)]      62\n",
       "[1 l/100 km (comb)]         1\n",
       "[46 l/100 km (comb)]        1\n",
       "[5 l/100 km (comb)]       513\n",
       "[43 l/100 km (comb)]        1\n",
       "[8 l/100 km (comb)]         5\n",
       "[5.4 kg/100 km (comb)]      1\n",
       "[51 l/100 km (comb)]        4\n",
       "[3.9 l/100 km (comb)]     732\n",
       "[5.5 l/100 km (comb)]     342\n",
       "[3.8 l/100 km (comb)]     585\n",
       "[6.2 l/100 km (comb)]     184\n",
       "[3.6 kg/100 km (comb)]      1\n",
       "[3.3 kg/100 km (comb)]      9\n",
       "[33 l/100 km (comb)]        1\n",
       "[4.8 l/100 km (comb)]     523\n",
       "[4.9 l/100 km (comb)]     348\n",
       "[4 l/100 km (comb)]       712\n",
       "[5.4 l/100 km (comb)]     662\n",
       "[6.6 l/100 km (comb)]     119\n",
       "[5.3 l/100 km (comb)]     374\n",
       "Name: Consumption, dtype: int64"
      ]
     },
     "execution_count": 2077,
     "metadata": {},
     "output_type": "execute_result"
    }
   ],
   "source": [
    "data['Consumption'].str[0].value_counts(dropna = False).sample(55)"
   ]
  },
  {
   "cell_type": "code",
   "execution_count": 2078,
   "metadata": {},
   "outputs": [
    {
     "data": {
      "text/plain": [
       "5.3 kg/100 km (comb)       1\n",
       "4.3 l/100 km (comb)      295\n",
       "8 l/100 km (comb)          5\n",
       "3.4 kg/100 km (comb)      12\n",
       "11 l/100 km (comb)         1\n",
       "3.1 l/100 km (comb)        7\n",
       "6.8 l/100 km (comb)      134\n",
       "4.1 l/100 km (comb)      341\n",
       "5.5 l/100 km (comb)      342\n",
       "7.3 l/100 km (comb)        2\n",
       "3.6 kg/100 km (comb)       1\n",
       "3.5 l/100 km (comb)      285\n",
       "46 l/100 km (comb)         1\n",
       "6.7 l/100 km (comb)       33\n",
       "3 l/100 km (comb)         69\n",
       "0 l/100 km (comb)          2\n",
       "50 l/100 km (comb)         1\n",
       "\\n                       850\n",
       "6.3 l/100 km (comb)      141\n",
       "9.1 l/100 km (comb)        1\n",
       "7 l/100 km (comb)          9\n",
       "8.6 l/100 km (comb)        3\n",
       "43 l/100 km (comb)         1\n",
       "32 l/100 km (comb)         1\n",
       "4.2 l/100 km (comb)      408\n",
       "7.4 l/100 km (comb)       62\n",
       "3.6 l/100 km (comb)      193\n",
       "3.3 kg/100 km (comb)       9\n",
       "5.9 l/100 km (comb)      308\n",
       "7.9 l/100 km (comb)        2\n",
       "3.8 l/100 km (comb)      585\n",
       "8.7 l/100 km (comb)        3\n",
       "5.8 l/100 km (comb)      142\n",
       "5.6 l/100 km (comb)      568\n",
       "6.9 l/100 km (comb)       21\n",
       "6.4 l/100 km (comb)       64\n",
       "7.8 l/100 km (comb)        6\n",
       "NaN                     2033\n",
       "6.6 l/100 km (comb)      119\n",
       "4 l/100 km (comb)        712\n",
       "6.5 l/100 km (comb)       36\n",
       "55 l/100 km (comb)         1\n",
       "1 l/100 km (comb)          1\n",
       "1.2 l/100 km (comb)        1\n",
       "5.3 l/100 km (comb)      374\n",
       "6.1 l/100 km (comb)      135\n",
       "5.7 l/100 km (comb)      302\n",
       "7.1 l/100 km (comb)       38\n",
       "3.9 l/100 km (comb)      732\n",
       "10 l/100 km (comb)        34\n",
       "7.2 l/100 km (comb)        6\n",
       "5.4 l/100 km (comb)      662\n",
       "54 l/100 km (comb)         1\n",
       "7.5 l/100 km (comb)        1\n",
       "40 l/100 km (comb)         2\n",
       "Name: Consumption, dtype: int64"
      ]
     },
     "execution_count": 2078,
     "metadata": {},
     "output_type": "execute_result"
    }
   ],
   "source": [
    "data['Consumption'].str[0].str[0].value_counts(dropna = False).sample(55)"
   ]
  },
  {
   "cell_type": "markdown",
   "metadata": {},
   "source": [
    "- There are 850 values in which only 'one' list (the value of ``\"\\n\"`` indicates that). Consists of no sub list. \n",
    "\n",
    "- There are 127 values is ``'[]'`` which means there is no ``comb`` consumption. Only have ``city`` or ``country`` or both.\n",
    "\n",
    "- There are still 1906 ``NaN``s."
   ]
  },
  {
   "cell_type": "code",
   "execution_count": 2079,
   "metadata": {},
   "outputs": [
    {
     "data": {
      "text/plain": [
       "array(['3.8', '5.6', '4.1', '3.5', '3.7', nan, '4', '4.9', '4.2', '4.5',\n",
       "       '4.4', '4.3', '3', '3.6', '3.4', '3.9', '5.1', '5.2', '4.6', '4.8',\n",
       "       '5.8', '4.7', '5', '1', '6', '5.9', '5.3', '5.5', '3.3', '3.2',\n",
       "       '6.6', '8.3', '6.5', '7.1', '8.1', '5.4', '6.4', '6.7', '6.2',\n",
       "       '7.3', '6.3', '5.7', '6.1', '6.8', '7.5', '7.4', '0', '7.8', '3.1',\n",
       "       '6.9', '7', '7.2', '8', '9.1', '8.6', '8.7', '7.9', '1.2', '7.6'],\n",
       "      dtype=object)"
      ]
     },
     "execution_count": 2079,
     "metadata": {},
     "output_type": "execute_result"
    }
   ],
   "source": [
    "data.Consumption.str[0].str[0].str.extract('(\\d.\\d|\\d)')[0].unique()"
   ]
  },
  {
   "cell_type": "code",
   "execution_count": 2080,
   "metadata": {},
   "outputs": [],
   "source": [
    "# data['Consumption'].str[0].str[0].str.extract('(^\\d*.\\d*)').iloc[:,0].unique()"
   ]
  },
  {
   "cell_type": "code",
   "execution_count": 2081,
   "metadata": {},
   "outputs": [
    {
     "data": {
      "text/plain": [
       "0    18.110434\n",
       "dtype: float64"
      ]
     },
     "execution_count": 2081,
     "metadata": {},
     "output_type": "execute_result"
    }
   ],
   "source": [
    "data.Consumption.str[0].str[0].str.extract('(\\d.\\d|\\d)').isnull().sum()*100/ len(data.Consumption.str[0].str[0].str.extract('(\\d.\\d|\\d)'))"
   ]
  },
  {
   "cell_type": "code",
   "execution_count": 2082,
   "metadata": {},
   "outputs": [],
   "source": [
    "data['consumption_comb'] = data.Consumption.str[0].str[0].str.extract('(\\d.\\d|\\d)')"
   ]
  },
  {
   "cell_type": "code",
   "execution_count": 2083,
   "metadata": {},
   "outputs": [
    {
     "data": {
      "text/plain": [
       "NaN    2883\n",
       "3.9     732\n",
       "4       716\n",
       "5.4     663\n",
       "5.1     630\n",
       "4.4     595\n",
       "3.8     585\n",
       "5.6     568\n",
       "4.7     555\n",
       "4.8     523\n",
       "5       520\n",
       "4.5     511\n",
       "5.2     429\n",
       "4.6     420\n",
       "4.2     408\n",
       "5.3     375\n",
       "3.7     369\n",
       "4.9     348\n",
       "5.5     342\n",
       "4.1     341\n",
       "5.9     308\n",
       "3.3     307\n",
       "5.7     302\n",
       "4.3     295\n",
       "3.5     288\n",
       "6       278\n",
       "3.6     194\n",
       "6.2     184\n",
       "5.8     142\n",
       "6.3     141\n",
       "6.1     135\n",
       "6.8     134\n",
       "6.6     119\n",
       "3.4     106\n",
       "3        73\n",
       "6.4      64\n",
       "7.4      62\n",
       "7.1      38\n",
       "1        37\n",
       "6.5      36\n",
       "6.7      33\n",
       "3.2      25\n",
       "6.9      21\n",
       "8.3      20\n",
       "7.6      14\n",
       "7         9\n",
       "3.1       7\n",
       "7.8       6\n",
       "7.2       6\n",
       "8         5\n",
       "8.6       3\n",
       "8.7       3\n",
       "8.1       2\n",
       "7.3       2\n",
       "0         2\n",
       "7.9       2\n",
       "9.1       1\n",
       "1.2       1\n",
       "7.5       1\n",
       "Name: consumption_comb, dtype: int64"
      ]
     },
     "execution_count": 2083,
     "metadata": {},
     "output_type": "execute_result"
    }
   ],
   "source": [
    "data.consumption_comb.value_counts(dropna = False)"
   ]
  },
  {
   "cell_type": "markdown",
   "metadata": {},
   "source": [
    "- Now, lets go into the other types. Let's try ``str[1]``"
   ]
  },
  {
   "cell_type": "code",
   "execution_count": 2084,
   "metadata": {},
   "outputs": [
    {
     "ename": "TypeError",
     "evalue": "unhashable type: 'list'",
     "output_type": "error",
     "traceback": [
      "\u001b[0;31m---------------------------------------------------------------------------\u001b[0m",
      "\u001b[0;31mTypeError\u001b[0m                                 Traceback (most recent call last)",
      "\u001b[0;32mpandas/_libs/hashtable_class_helper.pxi\u001b[0m in \u001b[0;36mpandas._libs.hashtable.PyObjectHashTable.map_locations\u001b[0;34m()\u001b[0m\n",
      "\u001b[0;31mTypeError\u001b[0m: unhashable type: 'list'"
     ]
    },
    {
     "name": "stderr",
     "output_type": "stream",
     "text": [
      "Exception ignored in: 'pandas._libs.index.IndexEngine._call_map_locations'\n",
      "Traceback (most recent call last):\n",
      "  File \"pandas/_libs/hashtable_class_helper.pxi\", line 1652, in pandas._libs.hashtable.PyObjectHashTable.map_locations\n",
      "TypeError: unhashable type: 'list'\n"
     ]
    },
    {
     "data": {
      "text/plain": [
       "NaN                       1906\n",
       "[5 l/100 km (city)]        642\n",
       "[5.8 l/100 km (city)]      597\n",
       "[4.5 l/100 km (city)]      577\n",
       "[]                         516\n",
       "                          ... \n",
       "[4.4 kg/100 km (city)]       1\n",
       "[64 l/100 km (city)]         1\n",
       "[19.9 l/100 km (city)]       1\n",
       "[66 l/100 km (city)]         1\n",
       "[6.5 kg/100 km (city)]       1\n",
       "Name: Consumption, Length: 130, dtype: int64"
      ]
     },
     "execution_count": 2084,
     "metadata": {},
     "output_type": "execute_result"
    }
   ],
   "source": [
    "data.Consumption.str[1].value_counts(dropna = False)"
   ]
  },
  {
   "cell_type": "code",
   "execution_count": 2085,
   "metadata": {},
   "outputs": [
    {
     "ename": "TypeError",
     "evalue": "unhashable type: 'list'",
     "output_type": "error",
     "traceback": [
      "\u001b[0;31m---------------------------------------------------------------------------\u001b[0m",
      "\u001b[0;31mTypeError\u001b[0m                                 Traceback (most recent call last)",
      "\u001b[0;32mpandas/_libs/hashtable_class_helper.pxi\u001b[0m in \u001b[0;36mpandas._libs.hashtable.PyObjectHashTable.map_locations\u001b[0;34m()\u001b[0m\n",
      "\u001b[0;31mTypeError\u001b[0m: unhashable type: 'list'"
     ]
    },
    {
     "name": "stderr",
     "output_type": "stream",
     "text": [
      "Exception ignored in: 'pandas._libs.index.IndexEngine._call_map_locations'\n",
      "Traceback (most recent call last):\n",
      "  File \"pandas/_libs/hashtable_class_helper.pxi\", line 1652, in pandas._libs.hashtable.PyObjectHashTable.map_locations\n",
      "TypeError: unhashable type: 'list'\n"
     ]
    },
    {
     "data": {
      "text/plain": [
       "[7.4 l/100 km (city)]     170\n",
       "4.3 l/100 km (comb)        12\n",
       "[9.4 l/100 km (city)]      13\n",
       "[3 l/100 km (city)]         9\n",
       "[6.8 kg/100 km (city)]      1\n",
       "6.8 l/100 km (comb)         2\n",
       "[3.4 l/100 km (city)]      50\n",
       "5.2 l/100 km (comb)        25\n",
       "[10.4 l/100 km (city)]      1\n",
       "5.4 l/100 km (comb)       107\n",
       "[6.9 l/100 km (city)]     215\n",
       "[5.5 l/100 km (city)]     207\n",
       "[3.5 l/100 km (city)]     230\n",
       "[3.9 l/100 km (city)]     245\n",
       "[7.8 l/100 km (city)]     341\n",
       "7 l/100 km (comb)           1\n",
       "4.7 l/100 km (comb)        47\n",
       "[10.8 l/100 km (city)]      3\n",
       "[4.9 l/100 km (city)]      58\n",
       "[4.4 kg/100 km (city)]      1\n",
       "5.6 l/100 km (comb)        50\n",
       "[8.3 l/100 km (city)]      25\n",
       "[6.1 l/100 km (city)]     151\n",
       "7.9 l/100 km (comb)         1\n",
       "[8.4 l/100 km (city)]       5\n",
       "[19.9 l/100 km (city)]      1\n",
       "3.9 l/100 km (comb)         1\n",
       "[9.6 l/100 km (city)]      41\n",
       "5.5 l/100 km (comb)        38\n",
       "[10 l/100 km (city)]       16\n",
       "[7.1 l/100 km (city)]     221\n",
       "4.5 l/100 km (comb)        12\n",
       "6.1 l/100 km (comb)        40\n",
       "[43 l/100 km (city)]        2\n",
       "[4.3 l/100 km (city)]     512\n",
       "[7.6 l/100 km (city)]     227\n",
       "[5.6 l/100 km (city)]     100\n",
       "[8.2 l/100 km (city)]     118\n",
       "[3.7 l/100 km (city)]      53\n",
       "[5.7 l/100 km (city)]     365\n",
       "1.6 l/100 km (comb)         3\n",
       "[5.1 l/100 km (city)]     470\n",
       "[8.6 l/100 km (city)]      27\n",
       "[3.8 l/100 km (city)]      25\n",
       "[7 l/100 km (city)]       184\n",
       "6.9 l/100 km (comb)         6\n",
       "[3.6 l/100 km (city)]       2\n",
       "[6.3 l/100 km (city)]     317\n",
       "5.3 l/100 km (comb)         5\n",
       "[4 l/100 km (city)]       300\n",
       "[4.5 l/100 km (city)]     577\n",
       "5.1 l/100 km (comb)        27\n",
       "[4.3 kg/100 km (city)]     21\n",
       "[16.1 l/100 km (city)]      1\n",
       "[5.2 l/100 km (city)]     333\n",
       "Name: Consumption, dtype: int64"
      ]
     },
     "execution_count": 2085,
     "metadata": {},
     "output_type": "execute_result"
    }
   ],
   "source": [
    "data.Consumption.str[1].value_counts(dropna = False).sample(55)"
   ]
  },
  {
   "cell_type": "code",
   "execution_count": 2086,
   "metadata": {},
   "outputs": [],
   "source": [
    "consumption1 = data.Consumption.str[1].str.extract('(\\d.\\d|\\d)')"
   ]
  },
  {
   "cell_type": "code",
   "execution_count": 2087,
   "metadata": {},
   "outputs": [
    {
     "data": {
      "text/html": [
       "<div>\n",
       "<style scoped>\n",
       "    .dataframe tbody tr th:only-of-type {\n",
       "        vertical-align: middle;\n",
       "    }\n",
       "\n",
       "    .dataframe tbody tr th {\n",
       "        vertical-align: top;\n",
       "    }\n",
       "\n",
       "    .dataframe thead th {\n",
       "        text-align: right;\n",
       "    }\n",
       "</style>\n",
       "<table border=\"1\" class=\"dataframe\">\n",
       "  <thead>\n",
       "    <tr style=\"text-align: right;\">\n",
       "      <th></th>\n",
       "      <th>0</th>\n",
       "    </tr>\n",
       "  </thead>\n",
       "  <tbody>\n",
       "    <tr>\n",
       "      <th>0</th>\n",
       "      <td>NaN</td>\n",
       "    </tr>\n",
       "    <tr>\n",
       "      <th>1</th>\n",
       "      <td>NaN</td>\n",
       "    </tr>\n",
       "    <tr>\n",
       "      <th>2</th>\n",
       "      <td>NaN</td>\n",
       "    </tr>\n",
       "    <tr>\n",
       "      <th>3</th>\n",
       "      <td>NaN</td>\n",
       "    </tr>\n",
       "    <tr>\n",
       "      <th>4</th>\n",
       "      <td>NaN</td>\n",
       "    </tr>\n",
       "  </tbody>\n",
       "</table>\n",
       "</div>"
      ],
      "text/plain": [
       "     0\n",
       "0  NaN\n",
       "1  NaN\n",
       "2  NaN\n",
       "3  NaN\n",
       "4  NaN"
      ]
     },
     "execution_count": 2087,
     "metadata": {},
     "output_type": "execute_result"
    }
   ],
   "source": [
    "consumption1.head()"
   ]
  },
  {
   "cell_type": "code",
   "execution_count": 2088,
   "metadata": {},
   "outputs": [
    {
     "data": {
      "text/plain": [
       "NaN    15069\n",
       "5.4      107\n",
       "5.9       61\n",
       "6         53\n",
       "5.6       50\n",
       "4.7       47\n",
       "4.9       45\n",
       "6.1       40\n",
       "6.3       40\n",
       "5.7       40\n",
       "5.5       38\n",
       "5         32\n",
       "6.2       32\n",
       "6.6       29\n",
       "4.4       28\n",
       "5.1       27\n",
       "4.2       27\n",
       "5.2       25\n",
       "4.8       23\n",
       "5.8       22\n",
       "4.3       12\n",
       "4.5       12\n",
       "6.4       11\n",
       "6.7       10\n",
       "6.5        7\n",
       "4.6        6\n",
       "6.9        6\n",
       "5.3        5\n",
       "7.4        4\n",
       "1.6        3\n",
       "6.8        2\n",
       "3.9        1\n",
       "8.6        1\n",
       "7          1\n",
       "4          1\n",
       "7.9        1\n",
       "4.1        1\n",
       "Name: 0, dtype: int64"
      ]
     },
     "execution_count": 2088,
     "metadata": {},
     "output_type": "execute_result"
    }
   ],
   "source": [
    "consumption1[0].value_counts(dropna = False)"
   ]
  },
  {
   "cell_type": "code",
   "execution_count": 2089,
   "metadata": {},
   "outputs": [
    {
     "data": {
      "text/plain": [
       "850"
      ]
     },
     "execution_count": 2089,
     "metadata": {},
     "output_type": "execute_result"
    }
   ],
   "source": [
    "consumption1[0].value_counts().sum()"
   ]
  },
  {
   "cell_type": "code",
   "execution_count": 2090,
   "metadata": {},
   "outputs": [
    {
     "data": {
      "text/plain": [
       "13036"
      ]
     },
     "execution_count": 2090,
     "metadata": {},
     "output_type": "execute_result"
    }
   ],
   "source": [
    "data['consumption_comb'].value_counts().sum()"
   ]
  },
  {
   "cell_type": "code",
   "execution_count": 2091,
   "metadata": {},
   "outputs": [],
   "source": [
    "data.consumption_comb.fillna(consumption1[0], inplace = True)"
   ]
  },
  {
   "cell_type": "code",
   "execution_count": 2092,
   "metadata": {},
   "outputs": [
    {
     "data": {
      "text/plain": [
       "NaN    2033\n",
       "5.4     770\n",
       "3.9     733\n",
       "4       717\n",
       "5.1     657\n",
       "4.4     623\n",
       "5.6     618\n",
       "4.7     602\n",
       "3.8     585\n",
       "5       552\n",
       "4.8     546\n",
       "4.5     523\n",
       "5.2     454\n",
       "4.2     435\n",
       "4.6     426\n",
       "4.9     393\n",
       "5.5     380\n",
       "5.3     380\n",
       "3.7     369\n",
       "5.9     369\n",
       "4.1     342\n",
       "5.7     342\n",
       "6       331\n",
       "4.3     307\n",
       "3.3     307\n",
       "3.5     288\n",
       "6.2     216\n",
       "3.6     194\n",
       "6.3     181\n",
       "6.1     175\n",
       "5.8     164\n",
       "6.6     148\n",
       "6.8     136\n",
       "3.4     106\n",
       "6.4      75\n",
       "3        73\n",
       "7.4      66\n",
       "6.5      43\n",
       "6.7      43\n",
       "7.1      38\n",
       "1        37\n",
       "6.9      27\n",
       "3.2      25\n",
       "8.3      20\n",
       "7.6      14\n",
       "7        10\n",
       "3.1       7\n",
       "7.8       6\n",
       "7.2       6\n",
       "8         5\n",
       "8.6       4\n",
       "1.6       3\n",
       "7.9       3\n",
       "8.7       3\n",
       "0         2\n",
       "8.1       2\n",
       "7.3       2\n",
       "7.5       1\n",
       "1.2       1\n",
       "9.1       1\n",
       "Name: consumption_comb, dtype: int64"
      ]
     },
     "execution_count": 2092,
     "metadata": {},
     "output_type": "execute_result"
    }
   ],
   "source": [
    "data.consumption_comb.value_counts(dropna = False)"
   ]
  },
  {
   "cell_type": "code",
   "execution_count": 2093,
   "metadata": {},
   "outputs": [
    {
     "data": {
      "text/plain": [
       "12.770902694892895"
      ]
     },
     "execution_count": 2093,
     "metadata": {},
     "output_type": "execute_result"
    }
   ],
   "source": [
    "data.consumption_comb.isnull().sum()*100 / data.consumption_comb.shape[0]"
   ]
  },
  {
   "cell_type": "code",
   "execution_count": 2094,
   "metadata": {},
   "outputs": [
    {
     "ename": "TypeError",
     "evalue": "unhashable type: 'list'",
     "output_type": "error",
     "traceback": [
      "\u001b[0;31m---------------------------------------------------------------------------\u001b[0m",
      "\u001b[0;31mTypeError\u001b[0m                                 Traceback (most recent call last)",
      "\u001b[0;32mpandas/_libs/hashtable_class_helper.pxi\u001b[0m in \u001b[0;36mpandas._libs.hashtable.PyObjectHashTable.map_locations\u001b[0;34m()\u001b[0m\n",
      "\u001b[0;31mTypeError\u001b[0m: unhashable type: 'list'"
     ]
    },
    {
     "name": "stderr",
     "output_type": "stream",
     "text": [
      "Exception ignored in: 'pandas._libs.index.IndexEngine._call_map_locations'\n",
      "Traceback (most recent call last):\n",
      "  File \"pandas/_libs/hashtable_class_helper.pxi\", line 1652, in pandas._libs.hashtable.PyObjectHashTable.map_locations\n",
      "TypeError: unhashable type: 'list'\n"
     ]
    },
    {
     "data": {
      "text/plain": [
       "NaN                        1906\n",
       "[5 l/100 km (city)]         642\n",
       "[5.8 l/100 km (city)]       597\n",
       "[4.5 l/100 km (city)]       577\n",
       "[]                          516\n",
       "                           ... \n",
       "7 l/100 km (country)          1\n",
       "[10.5 kg/100 km (city)]       1\n",
       "[10.4 l/100 km (city)]        1\n",
       "[4.4 kg/100 km (city)]        1\n",
       "[6.5 kg/100 km (city)]        1\n",
       "Name: Consumption, Length: 121, dtype: int64"
      ]
     },
     "execution_count": 2094,
     "metadata": {},
     "output_type": "execute_result"
    }
   ],
   "source": [
    "data[\"Consumption\"].str[-2].value_counts( dropna = False)"
   ]
  },
  {
   "cell_type": "code",
   "execution_count": 2095,
   "metadata": {},
   "outputs": [
    {
     "ename": "TypeError",
     "evalue": "unhashable type: 'list'",
     "output_type": "error",
     "traceback": [
      "\u001b[0;31m---------------------------------------------------------------------------\u001b[0m",
      "\u001b[0;31mTypeError\u001b[0m                                 Traceback (most recent call last)",
      "\u001b[0;32mpandas/_libs/hashtable_class_helper.pxi\u001b[0m in \u001b[0;36mpandas._libs.hashtable.PyObjectHashTable.map_locations\u001b[0;34m()\u001b[0m\n",
      "\u001b[0;31mTypeError\u001b[0m: unhashable type: 'list'"
     ]
    },
    {
     "name": "stderr",
     "output_type": "stream",
     "text": [
      "Exception ignored in: 'pandas._libs.index.IndexEngine._call_map_locations'\n",
      "Traceback (most recent call last):\n",
      "  File \"pandas/_libs/hashtable_class_helper.pxi\", line 1652, in pandas._libs.hashtable.PyObjectHashTable.map_locations\n",
      "TypeError: unhashable type: 'list'\n"
     ]
    },
    {
     "data": {
      "text/plain": [
       "NaN                       1906\n",
       "[5 l/100 km (city)]        642\n",
       "[5.8 l/100 km (city)]      597\n",
       "[4.5 l/100 km (city)]      577\n",
       "[]                         516\n",
       "                          ... \n",
       "[4.4 kg/100 km (city)]       1\n",
       "[64 l/100 km (city)]         1\n",
       "[19.9 l/100 km (city)]       1\n",
       "[66 l/100 km (city)]         1\n",
       "[6.5 kg/100 km (city)]       1\n",
       "Name: Consumption, Length: 130, dtype: int64"
      ]
     },
     "execution_count": 2095,
     "metadata": {},
     "output_type": "execute_result"
    }
   ],
   "source": [
    "data[\"Consumption\"].str[1].value_counts( dropna = False)"
   ]
  },
  {
   "cell_type": "code",
   "execution_count": 2096,
   "metadata": {},
   "outputs": [
    {
     "data": {
      "text/plain": [
       "NaN                     2422\n",
       "5 l/100 km (city)        642\n",
       "5.8 l/100 km (city)      597\n",
       "4.5 l/100 km (city)      577\n",
       "4                        532\n",
       "                        ... \n",
       "9.7 l/100 km (city)        1\n",
       "7                          1\n",
       "16.1 l/100 km (city)       1\n",
       "66 l/100 km (city)         1\n",
       "6.5 kg/100 km (city)       1\n",
       "Name: Consumption, Length: 99, dtype: int64"
      ]
     },
     "execution_count": 2096,
     "metadata": {},
     "output_type": "execute_result"
    }
   ],
   "source": [
    "data['Consumption'].str[-2].str[0].value_counts(dropna = False)"
   ]
  },
  {
   "cell_type": "code",
   "execution_count": 2097,
   "metadata": {},
   "outputs": [
    {
     "data": {
      "text/plain": [
       "array(['4.3 l/100 km (city)', '7.1 l/100 km (city)',\n",
       "       '4.4 l/100 km (city)', '4.6 l/100 km (city)',\n",
       "       '4.2 l/100 km (city)', nan, '6.2 l/100 km (city)',\n",
       "       '5 l/100 km (city)', '5.5 l/100 km (city)', '5.4 l/100 km (city)',\n",
       "       '3.8 l/100 km (city)', '5.2 l/100 km (city)', '3 l/100 km (city)',\n",
       "       '4 l/100 km (city)', '3.9 l/100 km (city)', '4.1 l/100 km (city)',\n",
       "       '3', '4.7 l/100 km (city)', '6.3 l/100 km (city)',\n",
       "       '6.7 l/100 km (city)', '5.6 l/100 km (city)',\n",
       "       '4.8 l/100 km (city)', '6.6 l/100 km (city)',\n",
       "       '4.5 l/100 km (city)', '5.8 l/100 km (city)', '4',\n",
       "       '7.4 l/100 km (city)', '6.1 l/100 km (city)',\n",
       "       '3.7 l/100 km (city)', '5.1 l/100 km (city)',\n",
       "       '19.9 l/100 km (city)', '6.4 l/100 km (city)',\n",
       "       '8.2 l/100 km (city)', '6 l/100 km (city)', '6.5 l/100 km (city)',\n",
       "       '5.9 l/100 km (city)', '8 l/100 km (city)', '62 l/100 km (city)',\n",
       "       '6.8 l/100 km (city)', '7.5 l/100 km (city)',\n",
       "       '3.5 l/100 km (city)', '5.3 l/100 km (city)',\n",
       "       '3.4 l/100 km (city)', '6.9 l/100 km (city)',\n",
       "       '5.7 l/100 km (city)', '6.5 kg/100 km (city)',\n",
       "       '7.3 l/100 km (city)', '4.3 kg/100 km (city)',\n",
       "       '4.9 l/100 km (city)', '3.6 l/100 km (city)',\n",
       "       '4.5 kg/100 km (city)', '11.3 l/100 km (city)',\n",
       "       '9 l/100 km (city)', '11.2 l/100 km (city)', '\\n',\n",
       "       '6.8 kg/100 km (city)', '45 l/100 km (city)', '43 l/100 km (city)',\n",
       "       '8.3 l/100 km (city)', '10.5 kg/100 km (city)',\n",
       "       '5.8 kg/100 km (city)', '0 l/100 km (city)', '7.2 l/100 km (city)',\n",
       "       '8.5 l/100 km (city)', '7.7 l/100 km (city)',\n",
       "       '9.9 l/100 km (city)', '5', '8.9 l/100 km (city)',\n",
       "       '7.8 l/100 km (city)', '8.4 l/100 km (city)', '7 l/100 km (city)',\n",
       "       '7.9 l/100 km (city)', '8.6 l/100 km (city)',\n",
       "       '8.7 l/100 km (city)', '10.4 l/100 km (city)',\n",
       "       '7.6 l/100 km (city)', '4.4 kg/100 km (city)',\n",
       "       '8.1 l/100 km (city)', '66 l/100 km (city)', '6',\n",
       "       '9.8 l/100 km (city)', '1 l/100 km (city)', '11 l/100 km (city)',\n",
       "       '16.1 l/100 km (city)', '11.5 l/100 km (city)',\n",
       "       '9.5 l/100 km (city)', '9.2 l/100 km (city)',\n",
       "       '9.6 l/100 km (city)', '9.4 l/100 km (city)',\n",
       "       '10.8 l/100 km (city)', '8.8 l/100 km (city)', '7',\n",
       "       '10.2 l/100 km (city)', '10.1 l/100 km (city)',\n",
       "       '3.3 l/100 km (city)', '64 l/100 km (city)', '10 l/100 km (city)',\n",
       "       '9.1 l/100 km (city)', '9.7 l/100 km (city)'], dtype=object)"
      ]
     },
     "execution_count": 2097,
     "metadata": {},
     "output_type": "execute_result"
    }
   ],
   "source": [
    "data['Consumption'].str[-2].str[0].unique()"
   ]
  },
  {
   "cell_type": "code",
   "execution_count": 2098,
   "metadata": {},
   "outputs": [
    {
     "data": {
      "text/plain": [
       "array(['3.5 l/100 km (country)', '4.7 l/100 km (country)',\n",
       "       '3.4 l/100 km (country)', '3.8 l/100 km (country)',\n",
       "       '3.1 l/100 km (country)', nan, '3.6 l/100 km (country)',\n",
       "       '4.2 l/100 km (country)', '3.7 l/100 km (country)',\n",
       "       '3.9 l/100 km (country)', '3.3 l/100 km (country)',\n",
       "       '3 l/100 km (country)', '\\n', '4.4 l/100 km (country)',\n",
       "       '4 l/100 km (country)', '4.3 l/100 km (country)',\n",
       "       '4.9 l/100 km (country)', '4.1 l/100 km (country)',\n",
       "       '4.5 l/100 km (country)', '3.2 l/100 km (country)',\n",
       "       '10.3 l/100 km (country)', '5.1 l/100 km (country)',\n",
       "       '6.7 l/100 km (country)', '6.3 l/100 km (country)',\n",
       "       '4.8 l/100 km (country)', '44 l/100 km (country)',\n",
       "       '5.4 l/100 km (country)', '4.6 l/100 km (country)',\n",
       "       '4.6 kg/100 km (country)', '2.9 kg/100 km (country)',\n",
       "       '2.8 kg/100 km (country)', '5.6 l/100 km (country)',\n",
       "       '6.6 l/100 km (country)', '6 l/100 km (country)',\n",
       "       '6.5 l/100 km (country)', '4.5 kg/100 km (country)',\n",
       "       '37 l/100 km (country)', '2.9 l/100 km (country)',\n",
       "       '35 l/100 km (country)', '7 l/100 km (country)',\n",
       "       '5.3 l/100 km (country)', '6.9 kg/100 km (country)',\n",
       "       '4.7 kg/100 km (country)', '0 l/100 km (country)',\n",
       "       '5.7 l/100 km (country)', '5.8 l/100 km (country)',\n",
       "       '5.5 l/100 km (country)', '5.2 l/100 km (country)',\n",
       "       '5 l/100 km (country)', '6.4 l/100 km (country)',\n",
       "       '3 kg/100 km (country)', '7.3 l/100 km (country)',\n",
       "       '5.9 l/100 km (country)', '2 l/100 km (country)',\n",
       "       '8 l/100 km (country)', '8.6 l/100 km (country)',\n",
       "       '7.8 l/100 km (country)', '6.1 l/100 km (country)',\n",
       "       '6.9 l/100 km (country)', '7.1 l/100 km (country)',\n",
       "       '7.6 l/100 km (country)', '7.7 l/100 km (country)',\n",
       "       '42 l/100 km (country)', '10 l/100 km (country)',\n",
       "       '1 l/100 km (country)'], dtype=object)"
      ]
     },
     "execution_count": 2098,
     "metadata": {},
     "output_type": "execute_result"
    }
   ],
   "source": [
    "data['Consumption'].str[-1].str[0].unique()"
   ]
  },
  {
   "cell_type": "code",
   "execution_count": 2099,
   "metadata": {},
   "outputs": [
    {
     "data": {
      "text/plain": [
       "NaN    2436\n",
       "5       858\n",
       "4       836\n",
       "5.8     600\n",
       "4.5     580\n",
       "       ... \n",
       "9.5       2\n",
       "3.6       2\n",
       "8.8       2\n",
       "9.7       1\n",
       "9         1\n",
       "Name: 0, Length: 70, dtype: int64"
      ]
     },
     "execution_count": 2099,
     "metadata": {},
     "output_type": "execute_result"
    }
   ],
   "source": [
    "data['Consumption'].str[-2].str[0].str.extract('(\\d.\\d|\\d)')[0].value_counts(dropna = False)"
   ]
  },
  {
   "cell_type": "code",
   "execution_count": 2100,
   "metadata": {},
   "outputs": [],
   "source": [
    "consumption_city = data['Consumption'].str[-2].str[0].str.extract('(\\d.\\d|\\d)')"
   ]
  },
  {
   "cell_type": "code",
   "execution_count": 2101,
   "metadata": {},
   "outputs": [],
   "source": [
    "consumption_city = pd.to_numeric(consumption_city[0])"
   ]
  },
  {
   "cell_type": "code",
   "execution_count": 2102,
   "metadata": {},
   "outputs": [
    {
     "data": {
      "text/plain": [
       "0        4.3\n",
       "1        7.1\n",
       "2        4.4\n",
       "3        4.3\n",
       "4        4.6\n",
       "        ... \n",
       "15914    6.2\n",
       "15915    6.0\n",
       "15916    6.2\n",
       "15917    6.2\n",
       "15918    8.7\n",
       "Name: 0, Length: 15919, dtype: float64"
      ]
     },
     "execution_count": 2102,
     "metadata": {},
     "output_type": "execute_result"
    }
   ],
   "source": [
    "consumption_city"
   ]
  },
  {
   "cell_type": "code",
   "execution_count": 2103,
   "metadata": {},
   "outputs": [
    {
     "data": {
      "text/plain": [
       "NaN                        2362\n",
       "4.2 l/100 km (country)     1101\n",
       "3.7 l/100 km (country)     1059\n",
       "\\n                          850\n",
       "4.4 l/100 km (country)      829\n",
       "                           ... \n",
       "4.5 kg/100 km (country)       1\n",
       "4.6 kg/100 km (country)       1\n",
       "1 l/100 km (country)          1\n",
       "7.6 l/100 km (country)        1\n",
       "10.3 l/100 km (country)       1\n",
       "Name: Consumption, Length: 65, dtype: int64"
      ]
     },
     "execution_count": 2103,
     "metadata": {},
     "output_type": "execute_result"
    }
   ],
   "source": [
    "data['Consumption'].str[-1].str[0].value_counts(dropna = False)"
   ]
  },
  {
   "cell_type": "code",
   "execution_count": 2104,
   "metadata": {},
   "outputs": [
    {
     "data": {
      "text/plain": [
       "NaN    3212\n",
       "4.2    1101\n",
       "3.7    1059\n",
       "4.4     829\n",
       "4.5     789\n",
       "3.8     775\n",
       "3.9     759\n",
       "4.1     569\n",
       "4.7     562\n",
       "4       560\n",
       "3.5     525\n",
       "4.3     496\n",
       "3.6     486\n",
       "3.1     481\n",
       "3.3     456\n",
       "4.6     446\n",
       "4.9     410\n",
       "3.4     353\n",
       "4.8     289\n",
       "5.3     227\n",
       "5.1     215\n",
       "5.7     191\n",
       "5.4     190\n",
       "3.2     180\n",
       "3       146\n",
       "5.6     131\n",
       "5       106\n",
       "5.2      84\n",
       "6.3      49\n",
       "6        35\n",
       "1        34\n",
       "5.5      30\n",
       "5.8      30\n",
       "7.7      20\n",
       "6.6      19\n",
       "2.9      16\n",
       "6.4      15\n",
       "2.8       9\n",
       "0         9\n",
       "6.5       4\n",
       "7.3       4\n",
       "7.1       3\n",
       "5.9       2\n",
       "6.7       2\n",
       "7.8       2\n",
       "6.9       2\n",
       "7         2\n",
       "7.6       1\n",
       "6.1       1\n",
       "2         1\n",
       "8         1\n",
       "8.6       1\n",
       "Name: 0, dtype: int64"
      ]
     },
     "execution_count": 2104,
     "metadata": {},
     "output_type": "execute_result"
    }
   ],
   "source": [
    "data['Consumption'].str[-1].str[0].str.extract('(\\d.\\d|\\d)')[0].value_counts(dropna = False)"
   ]
  },
  {
   "cell_type": "code",
   "execution_count": 2105,
   "metadata": {},
   "outputs": [],
   "source": [
    "consumption_country = data['Consumption'].str[-1].str[0].str.extract('(\\d.\\d|\\d)')"
   ]
  },
  {
   "cell_type": "code",
   "execution_count": 2106,
   "metadata": {},
   "outputs": [],
   "source": [
    "consumption_country = pd.to_numeric(consumption_country[0])"
   ]
  },
  {
   "cell_type": "code",
   "execution_count": 2107,
   "metadata": {},
   "outputs": [
    {
     "data": {
      "text/plain": [
       "0        3.90\n",
       "1        5.90\n",
       "2        3.90\n",
       "3        3.90\n",
       "4        4.20\n",
       "         ... \n",
       "15914    5.45\n",
       "15915     NaN\n",
       "15916    5.45\n",
       "15917    5.45\n",
       "15918    7.20\n",
       "Name: 0, Length: 15919, dtype: float64"
      ]
     },
     "execution_count": 2107,
     "metadata": {},
     "output_type": "execute_result"
    }
   ],
   "source": [
    "(consumption_city + consumption_country)/ 2"
   ]
  },
  {
   "cell_type": "code",
   "execution_count": 2108,
   "metadata": {},
   "outputs": [],
   "source": [
    "consumption2 = (consumption_city + consumption_country)/ 2"
   ]
  },
  {
   "cell_type": "code",
   "execution_count": 2109,
   "metadata": {},
   "outputs": [
    {
     "data": {
      "text/plain": [
       "NaN     3283\n",
       "3.90     610\n",
       "5.65     498\n",
       "4.75     497\n",
       "4.10     439\n",
       "        ... \n",
       "7.70       1\n",
       "7.25       1\n",
       "7.45       1\n",
       "7.20       1\n",
       "7.35       1\n",
       "Name: 0, Length: 139, dtype: int64"
      ]
     },
     "execution_count": 2109,
     "metadata": {},
     "output_type": "execute_result"
    }
   ],
   "source": [
    "consumption2.value_counts(dropna = False)"
   ]
  },
  {
   "cell_type": "code",
   "execution_count": 2110,
   "metadata": {},
   "outputs": [
    {
     "data": {
      "text/plain": [
       "NaN     1925\n",
       "5.4      770\n",
       "3.9      733\n",
       "4        717\n",
       "5.1      657\n",
       "        ... \n",
       "7.5        1\n",
       "1.2        1\n",
       "4.5        1\n",
       "5.8        1\n",
       "4.55       1\n",
       "Name: consumption_comb, Length: 70, dtype: int64"
      ]
     },
     "execution_count": 2110,
     "metadata": {},
     "output_type": "execute_result"
    }
   ],
   "source": [
    "data.consumption_comb.fillna(consumption2).value_counts(dropna = False)"
   ]
  },
  {
   "cell_type": "code",
   "execution_count": 2111,
   "metadata": {},
   "outputs": [],
   "source": [
    "data.consumption_comb.fillna(consumption2, inplace = True)"
   ]
  },
  {
   "cell_type": "code",
   "execution_count": 2112,
   "metadata": {},
   "outputs": [
    {
     "data": {
      "text/plain": [
       "NaN     1925\n",
       "5.4      770\n",
       "3.9      733\n",
       "4        717\n",
       "5.1      657\n",
       "        ... \n",
       "7.5        1\n",
       "1.2        1\n",
       "4.5        1\n",
       "5.8        1\n",
       "4.55       1\n",
       "Name: consumption_comb, Length: 70, dtype: int64"
      ]
     },
     "execution_count": 2112,
     "metadata": {},
     "output_type": "execute_result"
    }
   ],
   "source": [
    "data.consumption_comb.value_counts(dropna = False)"
   ]
  },
  {
   "cell_type": "markdown",
   "metadata": {},
   "source": [
    "## Gearing Type"
   ]
  },
  {
   "cell_type": "code",
   "execution_count": 2113,
   "metadata": {},
   "outputs": [
    {
     "ename": "TypeError",
     "evalue": "unhashable type: 'list'",
     "output_type": "error",
     "traceback": [
      "\u001b[0;31m---------------------------------------------------------------------------\u001b[0m",
      "\u001b[0;31mTypeError\u001b[0m                                 Traceback (most recent call last)",
      "\u001b[0;32mpandas/_libs/hashtable_class_helper.pxi\u001b[0m in \u001b[0;36mpandas._libs.hashtable.PyObjectHashTable.map_locations\u001b[0;34m()\u001b[0m\n",
      "\u001b[0;31mTypeError\u001b[0m: unhashable type: 'list'"
     ]
    },
    {
     "name": "stderr",
     "output_type": "stream",
     "text": [
      "Exception ignored in: 'pandas._libs.index.IndexEngine._call_map_locations'\n",
      "Traceback (most recent call last):\n",
      "  File \"pandas/_libs/hashtable_class_helper.pxi\", line 1652, in pandas._libs.hashtable.PyObjectHashTable.map_locations\n",
      "TypeError: unhashable type: 'list'\n"
     ]
    },
    {
     "data": {
      "text/plain": [
       "[\\n, Manual, \\n]            8153\n",
       "[\\n, Automatic, \\n]         7297\n",
       "[\\n, Semi-automatic, \\n]     469\n",
       "Name: Gearing Type, dtype: int64"
      ]
     },
     "execution_count": 2113,
     "metadata": {},
     "output_type": "execute_result"
    }
   ],
   "source": [
    "data['Gearing Type'].value_counts(dropna = False)"
   ]
  },
  {
   "cell_type": "code",
   "execution_count": 2114,
   "metadata": {},
   "outputs": [
    {
     "data": {
      "text/plain": [
       "Manual            8153\n",
       "Automatic         7297\n",
       "Semi-automatic     469\n",
       "Name: Gearing Type, dtype: int64"
      ]
     },
     "execution_count": 2114,
     "metadata": {},
     "output_type": "execute_result"
    }
   ],
   "source": [
    "data['Gearing Type'].str[1].value_counts()"
   ]
  },
  {
   "cell_type": "code",
   "execution_count": 2115,
   "metadata": {},
   "outputs": [],
   "source": [
    "data['gear_type'] = data['Gearing Type'].str[1]"
   ]
  },
  {
   "cell_type": "code",
   "execution_count": 2116,
   "metadata": {},
   "outputs": [
    {
     "data": {
      "text/plain": [
       "0        Automatic\n",
       "1        Automatic\n",
       "2        Automatic\n",
       "3        Automatic\n",
       "4        Automatic\n",
       "           ...    \n",
       "15914    Automatic\n",
       "15915    Automatic\n",
       "15916    Automatic\n",
       "15917    Automatic\n",
       "15918    Automatic\n",
       "Name: gear_type, Length: 15919, dtype: object"
      ]
     },
     "execution_count": 2116,
     "metadata": {},
     "output_type": "execute_result"
    }
   ],
   "source": [
    "data['gear_type']"
   ]
  },
  {
   "cell_type": "markdown",
   "metadata": {},
   "source": [
    "## Drive Chain"
   ]
  },
  {
   "cell_type": "code",
   "execution_count": 2117,
   "metadata": {},
   "outputs": [
    {
     "ename": "TypeError",
     "evalue": "unhashable type: 'list'",
     "output_type": "error",
     "traceback": [
      "\u001b[0;31m---------------------------------------------------------------------------\u001b[0m",
      "\u001b[0;31mTypeError\u001b[0m                                 Traceback (most recent call last)",
      "\u001b[0;32mpandas/_libs/hashtable_class_helper.pxi\u001b[0m in \u001b[0;36mpandas._libs.hashtable.PyObjectHashTable.map_locations\u001b[0;34m()\u001b[0m\n",
      "\u001b[0;31mTypeError\u001b[0m: unhashable type: 'list'"
     ]
    },
    {
     "name": "stderr",
     "output_type": "stream",
     "text": [
      "Exception ignored in: 'pandas._libs.index.IndexEngine._call_map_locations'\n",
      "Traceback (most recent call last):\n",
      "  File \"pandas/_libs/hashtable_class_helper.pxi\", line 1652, in pandas._libs.hashtable.PyObjectHashTable.map_locations\n",
      "TypeError: unhashable type: 'list'\n"
     ]
    },
    {
     "data": {
      "text/plain": [
       "[\\nfront\\n]    8886\n",
       "NaN            6858\n",
       "[\\n4WD\\n]       171\n",
       "[\\nrear\\n]        4\n",
       "Name: Drive chain, dtype: int64"
      ]
     },
     "execution_count": 2117,
     "metadata": {},
     "output_type": "execute_result"
    }
   ],
   "source": [
    "data['Drive chain'].value_counts(dropna = False)"
   ]
  },
  {
   "cell_type": "code",
   "execution_count": 2118,
   "metadata": {},
   "outputs": [],
   "source": [
    "data['drive_chain'] = data['Drive chain'].str[0].str.strip('\\n')"
   ]
  },
  {
   "cell_type": "code",
   "execution_count": 2119,
   "metadata": {},
   "outputs": [
    {
     "data": {
      "text/plain": [
       "0        front\n",
       "1        front\n",
       "2        front\n",
       "3          NaN\n",
       "4        front\n",
       "         ...  \n",
       "15914    front\n",
       "15915    front\n",
       "15916    front\n",
       "15917    front\n",
       "15918      4WD\n",
       "Name: drive_chain, Length: 15919, dtype: object"
      ]
     },
     "execution_count": 2119,
     "metadata": {},
     "output_type": "execute_result"
    }
   ],
   "source": [
    "data['drive_chain']"
   ]
  },
  {
   "cell_type": "markdown",
   "metadata": {},
   "source": [
    "## Model Code"
   ]
  },
  {
   "cell_type": "code",
   "execution_count": 2120,
   "metadata": {},
   "outputs": [
    {
     "ename": "TypeError",
     "evalue": "unhashable type: 'list'",
     "output_type": "error",
     "traceback": [
      "\u001b[0;31m---------------------------------------------------------------------------\u001b[0m",
      "\u001b[0;31mTypeError\u001b[0m                                 Traceback (most recent call last)",
      "\u001b[0;32mpandas/_libs/hashtable_class_helper.pxi\u001b[0m in \u001b[0;36mpandas._libs.hashtable.PyObjectHashTable.map_locations\u001b[0;34m()\u001b[0m\n",
      "\u001b[0;31mTypeError\u001b[0m: unhashable type: 'list'"
     ]
    },
    {
     "name": "stderr",
     "output_type": "stream",
     "text": [
      "Exception ignored in: 'pandas._libs.index.IndexEngine._call_map_locations'\n",
      "Traceback (most recent call last):\n",
      "  File \"pandas/_libs/hashtable_class_helper.pxi\", line 1652, in pandas._libs.hashtable.PyObjectHashTable.map_locations\n",
      "TypeError: unhashable type: 'list'\n"
     ]
    },
    {
     "data": {
      "text/plain": [
       "NaN               10941\n",
       "[\\n0035/BCB\\n]      268\n",
       "[\\n0588/BNO\\n]      245\n",
       "[\\n0588/BDB\\n]      206\n",
       "[\\n0588/BHX\\n]      188\n",
       "                  ...  \n",
       "[\\n1844/AEN\\n]        1\n",
       "[\\n0588/AVR\\n]        1\n",
       "[\\n0035/AFF\\n]        1\n",
       "[\\n1844/AFM\\n]        1\n",
       "[\\n0035/AVN\\n]        1\n",
       "Name: Model Code, Length: 233, dtype: int64"
      ]
     },
     "execution_count": 2120,
     "metadata": {},
     "output_type": "execute_result"
    }
   ],
   "source": [
    "data['Model Code'].value_counts(dropna = False)"
   ]
  },
  {
   "cell_type": "code",
   "execution_count": 2121,
   "metadata": {},
   "outputs": [
    {
     "data": {
      "text/plain": [
       "0        0588/BDF\n",
       "1        0588/BCY\n",
       "2             NaN\n",
       "3             NaN\n",
       "4        0588/BDF\n",
       "           ...   \n",
       "15914         NaN\n",
       "15915    0000/000\n",
       "15916         NaN\n",
       "15917         NaN\n",
       "15918    3333/BHJ\n",
       "Name: Model Code, Length: 15919, dtype: object"
      ]
     },
     "execution_count": 2121,
     "metadata": {},
     "output_type": "execute_result"
    }
   ],
   "source": [
    "data['Model Code'].str[0].str.strip('\\n')"
   ]
  },
  {
   "cell_type": "code",
   "execution_count": 2122,
   "metadata": {},
   "outputs": [],
   "source": [
    "data.drop('Model Code', axis = 1, inplace = True)"
   ]
  },
  {
   "cell_type": "markdown",
   "metadata": {},
   "source": [
    "## Now we start to analyze the variables which has below %35 percentage of missing values.\n",
    "\n",
    "### ``'Body Color'``"
   ]
  },
  {
   "cell_type": "markdown",
   "metadata": {},
   "source": [
    "## Body Color"
   ]
  },
  {
   "cell_type": "code",
   "execution_count": 2123,
   "metadata": {},
   "outputs": [
    {
     "ename": "TypeError",
     "evalue": "unhashable type: 'list'",
     "output_type": "error",
     "traceback": [
      "\u001b[0;31m---------------------------------------------------------------------------\u001b[0m",
      "\u001b[0;31mTypeError\u001b[0m                                 Traceback (most recent call last)",
      "\u001b[0;32mpandas/_libs/hashtable_class_helper.pxi\u001b[0m in \u001b[0;36mpandas._libs.hashtable.PyObjectHashTable.map_locations\u001b[0;34m()\u001b[0m\n",
      "\u001b[0;31mTypeError\u001b[0m: unhashable type: 'list'"
     ]
    },
    {
     "name": "stderr",
     "output_type": "stream",
     "text": [
      "Exception ignored in: 'pandas._libs.index.IndexEngine._call_map_locations'\n",
      "Traceback (most recent call last):\n",
      "  File \"pandas/_libs/hashtable_class_helper.pxi\", line 1652, in pandas._libs.hashtable.PyObjectHashTable.map_locations\n",
      "TypeError: unhashable type: 'list'\n"
     ]
    },
    {
     "data": {
      "text/plain": [
       "[\\n, Black, \\n]     3745\n",
       "[\\n, Grey, \\n]      3505\n",
       "[\\n, White, \\n]     3406\n",
       "[\\n, Silver, \\n]    1647\n",
       "[\\n, Blue, \\n]      1431\n",
       "[\\n, Red, \\n]        957\n",
       "NaN                  597\n",
       "[\\n, Brown, \\n]      289\n",
       "[\\n, Green, \\n]      154\n",
       "[\\n, Beige, \\n]      108\n",
       "[\\n, Yellow, \\n]      51\n",
       "[\\n, Violet, \\n]      18\n",
       "[\\n, Bronze, \\n]       6\n",
       "[\\n, Orange, \\n]       3\n",
       "[\\n, Gold, \\n]         2\n",
       "Name: Body Color, dtype: int64"
      ]
     },
     "execution_count": 2123,
     "metadata": {},
     "output_type": "execute_result"
    }
   ],
   "source": [
    "data['Body Color'].value_counts(dropna = False)"
   ]
  },
  {
   "cell_type": "code",
   "execution_count": 2124,
   "metadata": {},
   "outputs": [
    {
     "data": {
      "text/plain": [
       "Black     3745\n",
       "Grey      3505\n",
       "White     3406\n",
       "Silver    1647\n",
       "Blue      1431\n",
       "Red        957\n",
       "NaN        597\n",
       "Brown      289\n",
       "Green      154\n",
       "Beige      108\n",
       "Yellow      51\n",
       "Violet      18\n",
       "Bronze       6\n",
       "Orange       3\n",
       "Gold         2\n",
       "Name: Body Color, dtype: int64"
      ]
     },
     "execution_count": 2124,
     "metadata": {},
     "output_type": "execute_result"
    }
   ],
   "source": [
    "data['Body Color'].str[1].value_counts(dropna = False)"
   ]
  },
  {
   "cell_type": "code",
   "execution_count": 2125,
   "metadata": {},
   "outputs": [
    {
     "data": {
      "text/plain": [
       "0        Black\n",
       "1          Red\n",
       "2        Black\n",
       "3        Brown\n",
       "4        Black\n",
       "         ...  \n",
       "15914     Grey\n",
       "15915     Grey\n",
       "15916    White\n",
       "15917     Grey\n",
       "15918     Grey\n",
       "Name: Body_Color, Length: 15919, dtype: object"
      ]
     },
     "execution_count": 2125,
     "metadata": {},
     "output_type": "execute_result"
    }
   ],
   "source": [
    "data['Body_Color'] = data['Body Color'].str[1].str.strip()\n",
    "data.Body_Color"
   ]
  },
  {
   "cell_type": "code",
   "execution_count": 2126,
   "metadata": {},
   "outputs": [],
   "source": [
    "data.Body_Color.fillna(method = 'bfill', inplace = True)"
   ]
  },
  {
   "cell_type": "code",
   "execution_count": 2127,
   "metadata": {},
   "outputs": [
    {
     "data": {
      "text/plain": [
       "Black     3888\n",
       "Grey      3638\n",
       "White     3540\n",
       "Silver    1687\n",
       "Blue      1524\n",
       "Red        989\n",
       "Brown      299\n",
       "Green      163\n",
       "Beige      108\n",
       "Yellow      53\n",
       "Violet      18\n",
       "Bronze       7\n",
       "Orange       3\n",
       "Gold         2\n",
       "Name: Body_Color, dtype: int64"
      ]
     },
     "execution_count": 2127,
     "metadata": {},
     "output_type": "execute_result"
    }
   ],
   "source": [
    "data.Body_Color.value_counts(dropna = False)"
   ]
  },
  {
   "cell_type": "markdown",
   "metadata": {},
   "source": [
    "## Body Color Original"
   ]
  },
  {
   "cell_type": "code",
   "execution_count": 2128,
   "metadata": {},
   "outputs": [
    {
     "ename": "TypeError",
     "evalue": "unhashable type: 'list'",
     "output_type": "error",
     "traceback": [
      "\u001b[0;31m---------------------------------------------------------------------------\u001b[0m",
      "\u001b[0;31mTypeError\u001b[0m                                 Traceback (most recent call last)",
      "\u001b[0;32mpandas/_libs/hashtable_class_helper.pxi\u001b[0m in \u001b[0;36mpandas._libs.hashtable.PyObjectHashTable.map_locations\u001b[0;34m()\u001b[0m\n",
      "\u001b[0;31mTypeError\u001b[0m: unhashable type: 'list'"
     ]
    },
    {
     "name": "stderr",
     "output_type": "stream",
     "text": [
      "Exception ignored in: 'pandas._libs.index.IndexEngine._call_map_locations'\n",
      "Traceback (most recent call last):\n",
      "  File \"pandas/_libs/hashtable_class_helper.pxi\", line 1652, in pandas._libs.hashtable.PyObjectHashTable.map_locations\n",
      "TypeError: unhashable type: 'list'\n"
     ]
    },
    {
     "data": {
      "text/plain": [
       "NaN                             3759\n",
       "[\\nOnyx Schwarz\\n]               338\n",
       "[\\nBianco\\n]                     282\n",
       "[\\nMythosschwarz Metallic\\n]     238\n",
       "[\\nBrillantschwarz\\n]            216\n",
       "                                ... \n",
       "[\\nBianca - Tetto Nero\\n]          1\n",
       "[\\ndezir rot\\n]                    1\n",
       "[\\nnero/tetto argento met\\n]       1\n",
       "[\\nPython Yellow Metallic\\n]       1\n",
       "[\\nkarbongrau\\n]                   1\n",
       "Name: Body Color Original, Length: 1928, dtype: int64"
      ]
     },
     "execution_count": 2128,
     "metadata": {},
     "output_type": "execute_result"
    }
   ],
   "source": [
    "data['Body Color Original'].value_counts(dropna = False)"
   ]
  },
  {
   "cell_type": "code",
   "execution_count": 2129,
   "metadata": {},
   "outputs": [],
   "source": [
    "data.drop('Body Color Original', axis = 1, inplace = True)"
   ]
  },
  {
   "cell_type": "markdown",
   "metadata": {},
   "source": [
    "## CO2 Emission"
   ]
  },
  {
   "cell_type": "code",
   "execution_count": 2130,
   "metadata": {},
   "outputs": [
    {
     "ename": "TypeError",
     "evalue": "unhashable type: 'list'",
     "output_type": "error",
     "traceback": [
      "\u001b[0;31m---------------------------------------------------------------------------\u001b[0m",
      "\u001b[0;31mTypeError\u001b[0m                                 Traceback (most recent call last)",
      "\u001b[0;32mpandas/_libs/hashtable_class_helper.pxi\u001b[0m in \u001b[0;36mpandas._libs.hashtable.PyObjectHashTable.map_locations\u001b[0;34m()\u001b[0m\n",
      "\u001b[0;31mTypeError\u001b[0m: unhashable type: 'list'"
     ]
    },
    {
     "name": "stderr",
     "output_type": "stream",
     "text": [
      "Exception ignored in: 'pandas._libs.index.IndexEngine._call_map_locations'\n",
      "Traceback (most recent call last):\n",
      "  File \"pandas/_libs/hashtable_class_helper.pxi\", line 1652, in pandas._libs.hashtable.PyObjectHashTable.map_locations\n",
      "TypeError: unhashable type: 'list'\n"
     ]
    },
    {
     "data": {
      "text/plain": [
       "NaN                            1808\n",
       "[\\n120 g CO2/km (comb)\\n]       740\n",
       "[[], [], []]                    628\n",
       "[\\n99 g CO2/km (comb)\\n]        545\n",
       "[\\n97 g CO2/km (comb)\\n]        537\n",
       "                               ... \n",
       "[\\n193 g CO2/km (comb)\\n]         1\n",
       "[\\n171 g CO2/km (comb)\\n]         1\n",
       "[\\n990 g CO2/km (comb)\\n]         1\n",
       "[\\n1,060 g CO2/km (comb)\\n]       1\n",
       "[\\n183 g CO2/km (comb)\\n]         1\n",
       "Name: CO2 Emission, Length: 124, dtype: int64"
      ]
     },
     "execution_count": 2130,
     "metadata": {},
     "output_type": "execute_result"
    }
   ],
   "source": [
    "data['CO2 Emission'].value_counts(dropna = False)"
   ]
  },
  {
   "cell_type": "code",
   "execution_count": 2131,
   "metadata": {},
   "outputs": [
    {
     "ename": "TypeError",
     "evalue": "unhashable type: 'list'",
     "output_type": "error",
     "traceback": [
      "\u001b[0;31m---------------------------------------------------------------------------\u001b[0m",
      "\u001b[0;31mTypeError\u001b[0m                                 Traceback (most recent call last)",
      "\u001b[0;32mpandas/_libs/hashtable_class_helper.pxi\u001b[0m in \u001b[0;36mpandas._libs.hashtable.PyObjectHashTable.map_locations\u001b[0;34m()\u001b[0m\n",
      "\u001b[0;31mTypeError\u001b[0m: unhashable type: 'list'"
     ]
    },
    {
     "name": "stderr",
     "output_type": "stream",
     "text": [
      "Exception ignored in: 'pandas._libs.index.IndexEngine._call_map_locations'\n",
      "Traceback (most recent call last):\n",
      "  File \"pandas/_libs/hashtable_class_helper.pxi\", line 1652, in pandas._libs.hashtable.PyObjectHashTable.map_locations\n",
      "TypeError: unhashable type: 'list'\n"
     ]
    },
    {
     "data": {
      "text/plain": [
       "NaN                        1808\n",
       "\\n120 g CO2/km (comb)\\n     740\n",
       "[]                          628\n",
       "\\n99 g CO2/km (comb)\\n      545\n",
       "\\n97 g CO2/km (comb)\\n      537\n",
       "                           ... \n",
       "\\n14 g CO2/km (comb)\\n        1\n",
       "\\n180 g CO2/km (comb)\\n       1\n",
       "\\n181 g CO2/km (comb)\\n       1\n",
       "\\n171 g CO2/km (comb)\\n       1\n",
       "\\n177 g CO2/km (comb)\\n       1\n",
       "Name: CO2 Emission, Length: 124, dtype: int64"
      ]
     },
     "execution_count": 2131,
     "metadata": {},
     "output_type": "execute_result"
    }
   ],
   "source": [
    "data['CO2 Emission'].str[0].value_counts(dropna = False)"
   ]
  },
  {
   "cell_type": "code",
   "execution_count": 2132,
   "metadata": {},
   "outputs": [
    {
     "data": {
      "text/plain": [
       "157 g CO2/km (comb)         18\n",
       "12,324 g CO2/km (comb)       1\n",
       "14,457 g CO2/km (comb)       1\n",
       "88 g CO2/km (comb)          15\n",
       "124 g CO2/km (comb)        372\n",
       "NaN                       2436\n",
       "122 g CO2/km (comb)         83\n",
       "87 g CO2/km (comb)           6\n",
       "134 g CO2/km (comb)        130\n",
       "197 g CO2/km (comb)          4\n",
       "130 g CO2/km (comb)        180\n",
       "148 g CO2/km (comb)         48\n",
       "113 g CO2/km (comb)        235\n",
       "135 g CO2/km (comb)        202\n",
       "95 g CO2/km (comb)         161\n",
       "153 g CO2/km (comb)        113\n",
       "116 g CO2/km (comb)        157\n",
       "1 g CO2/km (comb)            1\n",
       "172 g CO2/km (comb)         25\n",
       "177 g CO2/km (comb)          1\n",
       "80 g CO2/km (comb)           1\n",
       "139 g CO2/km (comb)        224\n",
       "84 g CO2/km (comb)           2\n",
       "13,983 g CO2/km (comb)       1\n",
       "142 g CO2/km (comb)         58\n",
       "190 g CO2/km (comb)          1\n",
       "94 g CO2/km (comb)          37\n",
       "85 g CO2/km (comb)         275\n",
       "101 g CO2/km (comb)        105\n",
       "171 g CO2/km (comb)          1\n",
       "169 g CO2/km (comb)         15\n",
       "154 g CO2/km (comb)         40\n",
       "125 g CO2/km (comb)        132\n",
       "97 g CO2/km (comb)         537\n",
       "162 g CO2/km (comb)          2\n",
       "96 g CO2/km (comb)          22\n",
       "92 g CO2/km (comb)         198\n",
       "108 g CO2/km (comb)        362\n",
       "155 g CO2/km (comb)          8\n",
       "123 g CO2/km (comb)        178\n",
       "91 g CO2/km (comb)          31\n",
       "147 g CO2/km (comb)        109\n",
       "184 g CO2/km (comb)          1\n",
       "14 g CO2/km (comb)           1\n",
       "111 g CO2/km (comb)        237\n",
       "36 g CO2/km (comb)           3\n",
       "170 g CO2/km (comb)         10\n",
       "138 g CO2/km (comb)         75\n",
       "156 g CO2/km (comb)         14\n",
       "990 g CO2/km (comb)          1\n",
       "1,060 g CO2/km (comb)        1\n",
       "193 g CO2/km (comb)          1\n",
       "112 g CO2/km (comb)        171\n",
       "137 g CO2/km (comb)        133\n",
       "127 g CO2/km (comb)        257\n",
       "Name: CO2 Emission, dtype: int64"
      ]
     },
     "execution_count": 2132,
     "metadata": {},
     "output_type": "execute_result"
    }
   ],
   "source": [
    "data['CO2 Emission'].str[0].str.strip('\\n').value_counts(dropna = False).sample(55)"
   ]
  },
  {
   "cell_type": "code",
   "execution_count": 2133,
   "metadata": {},
   "outputs": [
    {
     "data": {
      "text/plain": [
       "139 g CO2/km (comb)      224\n",
       "170 g CO2/km (comb)       10\n",
       "148 g CO2/km (comb)       48\n",
       "137 g CO2/km (comb)      133\n",
       "171 g CO2/km (comb)        1\n",
       "184 g CO2/km (comb)        1\n",
       "12087 g CO2/km (comb)      3\n",
       "108 g CO2/km (comb)      362\n",
       "109 g CO2/km (comb)      234\n",
       "199 g CO2/km (comb)        2\n",
       "13983 g CO2/km (comb)      1\n",
       "141 g CO2/km (comb)      156\n",
       "103 g CO2/km (comb)      445\n",
       "93 g CO2/km (comb)        66\n",
       "106 g CO2/km (comb)      349\n",
       "172 g CO2/km (comb)       25\n",
       "115 g CO2/km (comb)       86\n",
       "194 g CO2/km (comb)        3\n",
       "158 g CO2/km (comb)       17\n",
       "140 g CO2/km (comb)      218\n",
       "150 g CO2/km (comb)      174\n",
       "88 g CO2/km (comb)        15\n",
       "175 g CO2/km (comb)        8\n",
       "197 g CO2/km (comb)        4\n",
       "119 g CO2/km (comb)      361\n",
       "1060 g CO2/km (comb)       1\n",
       "159 g CO2/km (comb)        7\n",
       "143 g CO2/km (comb)      171\n",
       "112 g CO2/km (comb)      171\n",
       "183 g CO2/km (comb)        1\n",
       "89 g CO2/km (comb)        19\n",
       "84 g CO2/km (comb)         2\n",
       "96 g CO2/km (comb)        22\n",
       "95 g CO2/km (comb)       161\n",
       "36 g CO2/km (comb)         3\n",
       "167 g CO2/km (comb)        2\n",
       "91 g CO2/km (comb)        31\n",
       "191 g CO2/km (comb)        2\n",
       "142 g CO2/km (comb)       58\n",
       "120 g CO2/km (comb)      740\n",
       "113 g CO2/km (comb)      235\n",
       "135 g CO2/km (comb)      202\n",
       "149 g CO2/km (comb)      117\n",
       "82 g CO2/km (comb)        25\n",
       "90 g CO2/km (comb)        35\n",
       "990 g CO2/km (comb)        1\n",
       "102 g CO2/km (comb)      477\n",
       "147 g CO2/km (comb)      109\n",
       "239 g CO2/km (comb)        1\n",
       "193 g CO2/km (comb)        1\n",
       "131 g CO2/km (comb)       48\n",
       "92 g CO2/km (comb)       198\n",
       "94 g CO2/km (comb)        37\n",
       "107 g CO2/km (comb)      362\n",
       "130 g CO2/km (comb)      180\n",
       "Name: CO2 Emission, dtype: int64"
      ]
     },
     "execution_count": 2133,
     "metadata": {},
     "output_type": "execute_result"
    }
   ],
   "source": [
    "data['CO2 Emission'].str[0].str.strip('\\n').str.replace(',', '').value_counts(dropna = False).sample(55)"
   ]
  },
  {
   "cell_type": "code",
   "execution_count": 2134,
   "metadata": {},
   "outputs": [
    {
     "data": {
      "text/plain": [
       "array(['99 g CO2/km (comb)', '129 g CO2/km (comb)', '109 g CO2/km (comb)',\n",
       "       '92 g CO2/km (comb)', '98 g CO2/km (comb)', '97 g CO2/km (comb)',\n",
       "       nan, '105 g CO2/km (comb)', '112 g CO2/km (comb)',\n",
       "       '103 g CO2/km (comb)', '102 g CO2/km (comb)', '95 g CO2/km (comb)',\n",
       "       '104 g CO2/km (comb)', '91 g CO2/km (comb)', '94 g CO2/km (comb)',\n",
       "       '117 g CO2/km (comb)', '123 g CO2/km (comb)',\n",
       "       '106 g CO2/km (comb)', '108 g CO2/km (comb)',\n",
       "       '121 g CO2/km (comb)', '107 g CO2/km (comb)',\n",
       "       '101 g CO2/km (comb)', '113 g CO2/km (comb)',\n",
       "       '137 g CO2/km (comb)', '100 g CO2/km (comb)',\n",
       "       '116 g CO2/km (comb)', '114 g CO2/km (comb)',\n",
       "       '118 g CO2/km (comb)', '331 g CO2/km (comb)',\n",
       "       '115 g CO2/km (comb)', '119 g CO2/km (comb)', '90 g CO2/km (comb)',\n",
       "       '136 g CO2/km (comb)', '134 g CO2/km (comb)',\n",
       "       '110 g CO2/km (comb)', '111 g CO2/km (comb)',\n",
       "       '120 g CO2/km (comb)', '89 g CO2/km (comb)', '142 g CO2/km (comb)',\n",
       "       '126 g CO2/km (comb)', '122 g CO2/km (comb)',\n",
       "       '128 g CO2/km (comb)', '127 g CO2/km (comb)',\n",
       "       '138 g CO2/km (comb)', '130 g CO2/km (comb)',\n",
       "       '125 g CO2/km (comb)', '85 g CO2/km (comb)', '124 g CO2/km (comb)',\n",
       "       '152 g CO2/km (comb)', '88 g CO2/km (comb)', '189 g CO2/km (comb)',\n",
       "       '194 g CO2/km (comb)', '149 g CO2/km (comb)',\n",
       "       '153 g CO2/km (comb)', '188 g CO2/km (comb)', '36 g CO2/km (comb)',\n",
       "       '1060 g CO2/km (comb)', '96 g CO2/km (comb)',\n",
       "       '990 g CO2/km (comb)', '146 g CO2/km (comb)',\n",
       "       '135 g CO2/km (comb)', '158 g CO2/km (comb)',\n",
       "       '12087 g CO2/km (comb)', '141 g CO2/km (comb)',\n",
       "       '172 g CO2/km (comb)', '154 g CO2/km (comb)',\n",
       "       '150 g CO2/km (comb)', '167 g CO2/km (comb)',\n",
       "       '174 g CO2/km (comb)', '93 g CO2/km (comb)', '133 g CO2/km (comb)',\n",
       "       '131 g CO2/km (comb)', '145 g CO2/km (comb)',\n",
       "       '147 g CO2/km (comb)', '156 g CO2/km (comb)', '87 g CO2/km (comb)',\n",
       "       '5 g CO2/km (comb)', '148 g CO2/km (comb)', '139 g CO2/km (comb)',\n",
       "       '151 g CO2/km (comb)', '144 g CO2/km (comb)',\n",
       "       '168 g CO2/km (comb)', '160 g CO2/km (comb)',\n",
       "       '170 g CO2/km (comb)', '80 g CO2/km (comb)', '132 g CO2/km (comb)',\n",
       "       '155 g CO2/km (comb)', '14 g CO2/km (comb)', '159 g CO2/km (comb)',\n",
       "       '0 g CO2/km (comb)', '143 g CO2/km (comb)', '140 g CO2/km (comb)',\n",
       "       '82 g CO2/km (comb)', '12324 g CO2/km (comb)',\n",
       "       '84 g CO2/km (comb)', '165 g CO2/km (comb)', '51 g CO2/km (comb)',\n",
       "       '157 g CO2/km (comb)', '169 g CO2/km (comb)',\n",
       "       '166 g CO2/km (comb)', '253 g CO2/km (comb)',\n",
       "       '164 g CO2/km (comb)', '175 g CO2/km (comb)',\n",
       "       '190 g CO2/km (comb)', '161 g CO2/km (comb)',\n",
       "       '239 g CO2/km (comb)', '197 g CO2/km (comb)',\n",
       "       '184 g CO2/km (comb)', '14457 g CO2/km (comb)',\n",
       "       '199 g CO2/km (comb)', '13983 g CO2/km (comb)',\n",
       "       '187 g CO2/km (comb)', '181 g CO2/km (comb)',\n",
       "       '186 g CO2/km (comb)', '177 g CO2/km (comb)',\n",
       "       '180 g CO2/km (comb)', '162 g CO2/km (comb)', '45 g CO2/km (comb)',\n",
       "       '171 g CO2/km (comb)', '183 g CO2/km (comb)', '1 g CO2/km (comb)',\n",
       "       '191 g CO2/km (comb)', '193 g CO2/km (comb)'], dtype=object)"
      ]
     },
     "execution_count": 2134,
     "metadata": {},
     "output_type": "execute_result"
    }
   ],
   "source": [
    "data['CO2 Emission'].str[0].str.strip('\\n').str.replace(',', '').unique()"
   ]
  },
  {
   "cell_type": "code",
   "execution_count": 2135,
   "metadata": {},
   "outputs": [],
   "source": [
    "pattern =\"(\\d\\d\\d\\d\\d|\\d\\d\\d\\d|\\d\\d\\d|\\d\\d|\\d)\""
   ]
  },
  {
   "cell_type": "code",
   "execution_count": 2136,
   "metadata": {},
   "outputs": [],
   "source": [
    "data['CO2_Emission'] =  data['CO2 Emission'].str[0].str.strip('\\n').str.replace(',', '').str.extract(pattern)"
   ]
  },
  {
   "cell_type": "code",
   "execution_count": 2137,
   "metadata": {},
   "outputs": [
    {
     "data": {
      "text/plain": [
       "NaN     2436\n",
       "120      740\n",
       "99       545\n",
       "97       537\n",
       "104      501\n",
       "        ... \n",
       "14         1\n",
       "1060       1\n",
       "184        1\n",
       "1          1\n",
       "180        1\n",
       "Name: CO2_Emission, Length: 123, dtype: int64"
      ]
     },
     "execution_count": 2137,
     "metadata": {},
     "output_type": "execute_result"
    }
   ],
   "source": [
    "data['CO2_Emission'].value_counts(dropna = False)"
   ]
  },
  {
   "cell_type": "code",
   "execution_count": 2138,
   "metadata": {},
   "outputs": [
    {
     "data": {
      "text/plain": [
       "array(['99', '129', '109', '92', '98', '97', nan, '105', '112', '103',\n",
       "       '102', '95', '104', '91', '94', '117', '123', '106', '108', '121',\n",
       "       '107', '101', '113', '137', '100', '116', '114', '118', '331',\n",
       "       '115', '119', '90', '136', '134', '110', '111', '120', '89', '142',\n",
       "       '126', '122', '128', '127', '138', '130', '125', '85', '124',\n",
       "       '152', '88', '189', '194', '149', '153', '188', '36', '1060', '96',\n",
       "       '990', '146', '135', '158', '12087', '141', '172', '154', '150',\n",
       "       '167', '174', '93', '133', '131', '145', '147', '156', '87', '5',\n",
       "       '148', '139', '151', '144', '168', '160', '170', '80', '132',\n",
       "       '155', '14', '159', '0', '143', '140', '82', '12324', '84', '165',\n",
       "       '51', '157', '169', '166', '253', '164', '175', '190', '161',\n",
       "       '239', '197', '184', '14457', '199', '13983', '187', '181', '186',\n",
       "       '177', '180', '162', '45', '171', '183', '1', '191', '193'],\n",
       "      dtype=object)"
      ]
     },
     "execution_count": 2138,
     "metadata": {},
     "output_type": "execute_result"
    }
   ],
   "source": [
    "data['CO2_Emission'].unique()"
   ]
  },
  {
   "cell_type": "markdown",
   "metadata": {},
   "source": [
    "* let's fill missing values using median because it has many outliers"
   ]
  },
  {
   "cell_type": "code",
   "execution_count": 2139,
   "metadata": {},
   "outputs": [
    {
     "data": {
      "text/plain": [
       "116.0"
      ]
     },
     "execution_count": 2139,
     "metadata": {},
     "output_type": "execute_result"
    }
   ],
   "source": [
    "data.CO2_Emission.median()"
   ]
  },
  {
   "cell_type": "code",
   "execution_count": 2140,
   "metadata": {},
   "outputs": [],
   "source": [
    "data.CO2_Emission.fillna(data.CO2_Emission.median(), inplace = True)"
   ]
  },
  {
   "cell_type": "code",
   "execution_count": 2141,
   "metadata": {},
   "outputs": [
    {
     "data": {
      "text/plain": [
       "116.0    2436\n",
       "120       740\n",
       "99        545\n",
       "97        537\n",
       "104       501\n",
       "         ... \n",
       "14          1\n",
       "1060        1\n",
       "184         1\n",
       "1           1\n",
       "180         1\n",
       "Name: CO2_Emission, Length: 123, dtype: int64"
      ]
     },
     "execution_count": 2141,
     "metadata": {},
     "output_type": "execute_result"
    }
   ],
   "source": [
    "data.CO2_Emission.value_counts(dropna = False)"
   ]
  },
  {
   "cell_type": "markdown",
   "metadata": {},
   "source": [
    "## Displacement"
   ]
  },
  {
   "cell_type": "code",
   "execution_count": 2142,
   "metadata": {},
   "outputs": [
    {
     "data": {
      "text/plain": [
       "3.11577360386959"
      ]
     },
     "execution_count": 2142,
     "metadata": {},
     "output_type": "execute_result"
    }
   ],
   "source": [
    "data.Displacement.isnull().sum()/data.Displacement.shape[0]*100"
   ]
  },
  {
   "cell_type": "code",
   "execution_count": 2143,
   "metadata": {},
   "outputs": [
    {
     "ename": "TypeError",
     "evalue": "unhashable type: 'list'",
     "output_type": "error",
     "traceback": [
      "\u001b[0;31m---------------------------------------------------------------------------\u001b[0m",
      "\u001b[0;31mTypeError\u001b[0m                                 Traceback (most recent call last)",
      "\u001b[0;32mpandas/_libs/hashtable_class_helper.pxi\u001b[0m in \u001b[0;36mpandas._libs.hashtable.PyObjectHashTable.map_locations\u001b[0;34m()\u001b[0m\n",
      "\u001b[0;31mTypeError\u001b[0m: unhashable type: 'list'"
     ]
    },
    {
     "name": "stderr",
     "output_type": "stream",
     "text": [
      "Exception ignored in: 'pandas._libs.index.IndexEngine._call_map_locations'\n",
      "Traceback (most recent call last):\n",
      "  File \"pandas/_libs/hashtable_class_helper.pxi\", line 1652, in pandas._libs.hashtable.PyObjectHashTable.map_locations\n",
      "TypeError: unhashable type: 'list'\n"
     ]
    },
    {
     "data": {
      "text/plain": [
       "[\\n1,598 cc\\n]     4761\n",
       "[\\n999 cc\\n]       2438\n",
       "[\\n1,398 cc\\n]     1314\n",
       "[\\n1,399 cc\\n]      749\n",
       "[\\n1,229 cc\\n]      677\n",
       "                   ... \n",
       "[\\n1,800 cc\\n]        1\n",
       "[\\n140 cc\\n]          1\n",
       "[\\n15,898 cc\\n]       1\n",
       "[\\n1,686 cc\\n]        1\n",
       "[\\n1,368 cc\\n]        1\n",
       "Name: Displacement, Length: 78, dtype: int64"
      ]
     },
     "execution_count": 2143,
     "metadata": {},
     "output_type": "execute_result"
    }
   ],
   "source": [
    "data['Displacement'].value_counts(dropna = False)"
   ]
  },
  {
   "cell_type": "code",
   "execution_count": 2144,
   "metadata": {},
   "outputs": [
    {
     "data": {
      "text/plain": [
       "1,598 cc    4761\n",
       "999 cc      2438\n",
       "1,398 cc    1314\n",
       "1,399 cc     749\n",
       "1,229 cc     677\n",
       "            ... \n",
       "1,333 cc       1\n",
       "1,800 cc       1\n",
       "1,195 cc       1\n",
       "996 cc         1\n",
       "890 cc         1\n",
       "Name: Displacement, Length: 78, dtype: int64"
      ]
     },
     "execution_count": 2144,
     "metadata": {},
     "output_type": "execute_result"
    }
   ],
   "source": [
    "data['Displacement'].str[0].str.strip('\\n').value_counts(dropna = False)"
   ]
  },
  {
   "cell_type": "code",
   "execution_count": 2145,
   "metadata": {},
   "outputs": [],
   "source": [
    "data['Displacement_cc'] = data['Displacement'].str[0].str.strip('\\n')"
   ]
  },
  {
   "cell_type": "code",
   "execution_count": 2146,
   "metadata": {},
   "outputs": [],
   "source": [
    "data.replace({'Displacement_cc': {',' : '', ' ': '', 'cc': ''}}, regex = True,  inplace = True)"
   ]
  },
  {
   "cell_type": "code",
   "execution_count": 2147,
   "metadata": {},
   "outputs": [
    {
     "data": {
      "text/plain": [
       "1598    4761\n",
       "999     2438\n",
       "1398    1314\n",
       "1399     749\n",
       "1229     677\n",
       "        ... \n",
       "1995       1\n",
       "1856       1\n",
       "1239       1\n",
       "54         1\n",
       "1333       1\n",
       "Name: Displacement_cc, Length: 78, dtype: int64"
      ]
     },
     "execution_count": 2147,
     "metadata": {},
     "output_type": "execute_result"
    }
   ],
   "source": [
    "data.Displacement_cc.value_counts(dropna = False)"
   ]
  },
  {
   "cell_type": "code",
   "execution_count": 2148,
   "metadata": {},
   "outputs": [
    {
     "data": {
      "text/plain": [
       "0        1422.0\n",
       "1        1798.0\n",
       "2        1598.0\n",
       "3        1422.0\n",
       "4        1422.0\n",
       "          ...  \n",
       "15914    1997.0\n",
       "15915    1798.0\n",
       "15916    1997.0\n",
       "15917    1997.0\n",
       "15918    1798.0\n",
       "Name: Displacement_cc, Length: 15919, dtype: float64"
      ]
     },
     "execution_count": 2148,
     "metadata": {},
     "output_type": "execute_result"
    }
   ],
   "source": [
    "data.Displacement_cc = pd.to_numeric(data.Displacement_cc)\n",
    "\n",
    "data.Displacement_cc"
   ]
  },
  {
   "cell_type": "markdown",
   "metadata": {},
   "source": [
    "## 'Emission Class'"
   ]
  },
  {
   "cell_type": "code",
   "execution_count": 2149,
   "metadata": {},
   "outputs": [
    {
     "data": {
      "text/plain": [
       "18.97732269614926"
      ]
     },
     "execution_count": 2149,
     "metadata": {},
     "output_type": "execute_result"
    }
   ],
   "source": [
    "data['Emission Class'].isnull().sum()/data['Emission Class'].shape[0]*100"
   ]
  },
  {
   "cell_type": "code",
   "execution_count": 2150,
   "metadata": {},
   "outputs": [
    {
     "ename": "TypeError",
     "evalue": "unhashable type: 'list'",
     "output_type": "error",
     "traceback": [
      "\u001b[0;31m---------------------------------------------------------------------------\u001b[0m",
      "\u001b[0;31mTypeError\u001b[0m                                 Traceback (most recent call last)",
      "\u001b[0;32mpandas/_libs/hashtable_class_helper.pxi\u001b[0m in \u001b[0;36mpandas._libs.hashtable.PyObjectHashTable.map_locations\u001b[0;34m()\u001b[0m\n",
      "\u001b[0;31mTypeError\u001b[0m: unhashable type: 'list'"
     ]
    },
    {
     "name": "stderr",
     "output_type": "stream",
     "text": [
      "Exception ignored in: 'pandas._libs.index.IndexEngine._call_map_locations'\n",
      "Traceback (most recent call last):\n",
      "  File \"pandas/_libs/hashtable_class_helper.pxi\", line 1652, in pandas._libs.hashtable.PyObjectHashTable.map_locations\n",
      "TypeError: unhashable type: 'list'\n"
     ]
    },
    {
     "data": {
      "text/plain": [
       "\\nEuro 6\\n          10139\n",
       "NaN                  3021\n",
       "\\nEuro 6d-TEMP\\n     1845\n",
       "[]                    607\n",
       "\\nEuro 6c\\n           127\n",
       "\\nEuro 5\\n             78\n",
       "\\nEuro 6d\\n            62\n",
       "\\nEuro 4\\n             40\n",
       "Name: Emission Class, dtype: int64"
      ]
     },
     "execution_count": 2150,
     "metadata": {},
     "output_type": "execute_result"
    }
   ],
   "source": [
    "data['Emission Class'].str[0].value_counts(dropna = False)"
   ]
  },
  {
   "cell_type": "code",
   "execution_count": 2151,
   "metadata": {},
   "outputs": [
    {
     "data": {
      "text/plain": [
       "Euro 6          10139\n",
       "NaN              3628\n",
       "Euro 6d-TEMP     1845\n",
       "Euro 6c           127\n",
       "Euro 5             78\n",
       "Euro 6d            62\n",
       "Euro 4             40\n",
       "Name: Emission Class, dtype: int64"
      ]
     },
     "execution_count": 2151,
     "metadata": {},
     "output_type": "execute_result"
    }
   ],
   "source": [
    "data['Emission Class'].str[0].str.strip('\\n').value_counts(dropna = False)"
   ]
  },
  {
   "cell_type": "code",
   "execution_count": 2152,
   "metadata": {},
   "outputs": [],
   "source": [
    "data['Emission_Class'] = data['Emission Class'].str[0].str.strip('\\n')"
   ]
  },
  {
   "cell_type": "code",
   "execution_count": 2153,
   "metadata": {},
   "outputs": [],
   "source": [
    "data.replace({\"Emission_Class\" : {\"Euro 6d-TEMP\":\"Euro 6\", \"Euro 6c\":\"Euro 6\", \"Euro 6d\":\"Euro 6\"}}, regex = True, inplace = True)"
   ]
  },
  {
   "cell_type": "code",
   "execution_count": 2154,
   "metadata": {},
   "outputs": [
    {
     "data": {
      "text/plain": [
       "Euro 6    12173\n",
       "NaN        3628\n",
       "Euro 5       78\n",
       "Euro 4       40\n",
       "Name: Emission_Class, dtype: int64"
      ]
     },
     "execution_count": 2154,
     "metadata": {},
     "output_type": "execute_result"
    }
   ],
   "source": [
    "data.Emission_Class.value_counts(dropna=False)"
   ]
  },
  {
   "cell_type": "markdown",
   "metadata": {},
   "source": [
    "## First Registration"
   ]
  },
  {
   "cell_type": "code",
   "execution_count": 2155,
   "metadata": {},
   "outputs": [
    {
     "data": {
      "text/plain": [
       "10.032037188265594"
      ]
     },
     "execution_count": 2155,
     "metadata": {},
     "output_type": "execute_result"
    }
   ],
   "source": [
    "data['First Registration'].isnull().sum()/data['First Registration'].shape[0]*100"
   ]
  },
  {
   "cell_type": "code",
   "execution_count": 2156,
   "metadata": {},
   "outputs": [
    {
     "ename": "TypeError",
     "evalue": "unhashable type: 'list'",
     "output_type": "error",
     "traceback": [
      "\u001b[0;31m---------------------------------------------------------------------------\u001b[0m",
      "\u001b[0;31mTypeError\u001b[0m                                 Traceback (most recent call last)",
      "\u001b[0;32mpandas/_libs/hashtable_class_helper.pxi\u001b[0m in \u001b[0;36mpandas._libs.hashtable.PyObjectHashTable.map_locations\u001b[0;34m()\u001b[0m\n",
      "\u001b[0;31mTypeError\u001b[0m: unhashable type: 'list'"
     ]
    },
    {
     "name": "stderr",
     "output_type": "stream",
     "text": [
      "Exception ignored in: 'pandas._libs.index.IndexEngine._call_map_locations'\n",
      "Traceback (most recent call last):\n",
      "  File \"pandas/_libs/hashtable_class_helper.pxi\", line 1652, in pandas._libs.hashtable.PyObjectHashTable.map_locations\n",
      "TypeError: unhashable type: 'list'\n"
     ]
    },
    {
     "data": {
      "text/plain": [
       "[\\n, 2018, \\n]    4522\n",
       "[\\n, 2016, \\n]    3674\n",
       "[\\n, 2017, \\n]    3273\n",
       "[\\n, 2019, \\n]    2853\n",
       "NaN               1597\n",
       "Name: First Registration, dtype: int64"
      ]
     },
     "execution_count": 2156,
     "metadata": {},
     "output_type": "execute_result"
    }
   ],
   "source": [
    "data['First Registration'].value_counts(dropna = False)"
   ]
  },
  {
   "cell_type": "code",
   "execution_count": 2157,
   "metadata": {},
   "outputs": [
    {
     "data": {
      "text/plain": [
       "2018.0    4522\n",
       "2016.0    3674\n",
       "2017.0    3273\n",
       "2019.0    2853\n",
       "NaN       1597\n",
       "Name: register_age, dtype: int64"
      ]
     },
     "execution_count": 2157,
     "metadata": {},
     "output_type": "execute_result"
    }
   ],
   "source": [
    "data['register_age'] = pd.to_numeric(data['First Registration'].str[1])\n",
    "data.register_age.value_counts(dropna = False)"
   ]
  },
  {
   "cell_type": "code",
   "execution_count": 2158,
   "metadata": {},
   "outputs": [],
   "source": [
    "data.register_age = 2020 - data.register_age"
   ]
  },
  {
   "cell_type": "markdown",
   "metadata": {},
   "source": [
    "- We can transform this feature into an \"age\" column. Let's create a new column called ``\"register_age\"``"
   ]
  },
  {
   "cell_type": "code",
   "execution_count": 2159,
   "metadata": {},
   "outputs": [
    {
     "data": {
      "text/plain": [
       "2.0    4522\n",
       "4.0    3674\n",
       "3.0    3273\n",
       "1.0    2853\n",
       "NaN    1597\n",
       "Name: register_age, dtype: int64"
      ]
     },
     "execution_count": 2159,
     "metadata": {},
     "output_type": "execute_result"
    }
   ],
   "source": [
    "data.register_age.value_counts(dropna = False)"
   ]
  },
  {
   "cell_type": "markdown",
   "metadata": {},
   "source": [
    "## Fuel"
   ]
  },
  {
   "cell_type": "code",
   "execution_count": 2160,
   "metadata": {},
   "outputs": [
    {
     "data": {
      "text/plain": [
       "0.0"
      ]
     },
     "execution_count": 2160,
     "metadata": {},
     "output_type": "execute_result"
    }
   ],
   "source": [
    "data.Fuel.isnull().sum() / data.Fuel.shape[0]*100"
   ]
  },
  {
   "cell_type": "code",
   "execution_count": 2161,
   "metadata": {},
   "outputs": [
    {
     "ename": "TypeError",
     "evalue": "unhashable type: 'list'",
     "output_type": "error",
     "traceback": [
      "\u001b[0;31m---------------------------------------------------------------------------\u001b[0m",
      "\u001b[0;31mTypeError\u001b[0m                                 Traceback (most recent call last)",
      "\u001b[0;32mpandas/_libs/hashtable_class_helper.pxi\u001b[0m in \u001b[0;36mpandas._libs.hashtable.PyObjectHashTable.map_locations\u001b[0;34m()\u001b[0m\n",
      "\u001b[0;31mTypeError\u001b[0m: unhashable type: 'list'"
     ]
    },
    {
     "name": "stderr",
     "output_type": "stream",
     "text": [
      "Exception ignored in: 'pandas._libs.index.IndexEngine._call_map_locations'\n",
      "Traceback (most recent call last):\n",
      "  File \"pandas/_libs/hashtable_class_helper.pxi\", line 1652, in pandas._libs.hashtable.PyObjectHashTable.map_locations\n",
      "TypeError: unhashable type: 'list'\n"
     ]
    },
    {
     "data": {
      "text/plain": [
       "[\\n, Diesel (Particulate Filter), \\n]                                                                                  4315\n",
       "[\\n, Super 95, \\n]                                                                                                     3338\n",
       "[\\n, Gasoline, \\n]                                                                                                     3175\n",
       "[\\n, Diesel, \\n]                                                                                                       2984\n",
       "[\\n, Super 95 / Regular/Benzine 91, \\n]                                                                                 424\n",
       "                                                                                                                       ... \n",
       "[\\n, Super Plus 98 / Super E10 95, \\n]                                                                                    1\n",
       "[\\n, Regular/Benzine 91 / Super 95 / Regular/Benzine E10 91 / Super E10 95 / Super Plus 98 / Super Plus E10 98, \\n]       1\n",
       "[\\n, Super 95 / Regular/Benzine 91 / Super Plus 98 / Regular/Benzine E10 91 / Super Plus E10 98 / Super E10 95, \\n]       1\n",
       "[\\n, Super 95 / Regular/Benzine 91 / Super E10 95 / Super Plus E10 98 / Super Plus 98, \\n]                                1\n",
       "[\\n, Domestic gas H, \\n]                                                                                                  1\n",
       "Name: Fuel, Length: 77, dtype: int64"
      ]
     },
     "execution_count": 2161,
     "metadata": {},
     "output_type": "execute_result"
    }
   ],
   "source": [
    "data.Fuel.value_counts(dropna = False)"
   ]
  },
  {
   "cell_type": "code",
   "execution_count": 2162,
   "metadata": {},
   "outputs": [
    {
     "ename": "TypeError",
     "evalue": "unhashable type: 'list'",
     "output_type": "error",
     "traceback": [
      "\u001b[0;31m---------------------------------------------------------------------------\u001b[0m",
      "\u001b[0;31mTypeError\u001b[0m                                 Traceback (most recent call last)",
      "\u001b[0;32mpandas/_libs/hashtable_class_helper.pxi\u001b[0m in \u001b[0;36mpandas._libs.hashtable.PyObjectHashTable.map_locations\u001b[0;34m()\u001b[0m\n",
      "\u001b[0;31mTypeError\u001b[0m: unhashable type: 'list'"
     ]
    },
    {
     "name": "stderr",
     "output_type": "stream",
     "text": [
      "Exception ignored in: 'pandas._libs.index.IndexEngine._call_map_locations'\n",
      "Traceback (most recent call last):\n",
      "  File \"pandas/_libs/hashtable_class_helper.pxi\", line 1652, in pandas._libs.hashtable.PyObjectHashTable.map_locations\n",
      "TypeError: unhashable type: 'list'\n"
     ]
    },
    {
     "data": {
      "text/plain": [
       "[\\n, Diesel (Particulate Filter), \\n]                                                                                  4315\n",
       "[\\n, Super 95, \\n]                                                                                                     3338\n",
       "[\\n, Gasoline, \\n]                                                                                                     3175\n",
       "[\\n, Diesel, \\n]                                                                                                       2984\n",
       "[\\n, Super 95 / Regular/Benzine 91, \\n]                                                                                 424\n",
       "[\\n, Regular/Benzine 91, \\n]                                                                                            354\n",
       "[\\n, Super E10 95, \\n]                                                                                                  331\n",
       "[\\n, Super 95 (Particulate Filter), \\n]                                                                                 268\n",
       "[\\n, Super 95 / Super E10 95, \\n]                                                                                       131\n",
       "[\\n, Regular/Benzine 91 (Particulate Filter), \\n]                                                                       100\n",
       "[\\n, Super 95 / Super Plus 98, \\n]                                                                                       85\n",
       "[\\n, Gasoline (Particulate Filter), \\n]                                                                                  77\n",
       "[\\n, Super 95 / Super Plus 98 / Super E10 95 / Super Plus E10 98, \\n]                                                    40\n",
       "[\\n, Super E10 95 / Super 95, \\n]                                                                                        38\n",
       "[\\n, CNG, \\n]                                                                                                            33\n",
       "[\\n, Super 95 / Super E10 95 (Particulate Filter), \\n]                                                                   25\n",
       "[\\n, Super E10 95 / Super 95 / Super Plus 98 / Super Plus E10 98, \\n]                                                    19\n",
       "[\\n, LPG, \\n]                                                                                                            16\n",
       "[\\n, Super 95 / Super Plus 98 (Particulate Filter), \\n]                                                                  14\n",
       "[\\n, Regular/Benzine 91 / Super 95 / Super Plus 98 / Regular/Benzine E10 91 / Super E10 95 / Super Plus E10 98, \\n]      13\n",
       "[\\n, Regular/Benzine E10 91, \\n]                                                                                         11\n",
       "[\\n, Liquid petroleum gas (LPG), \\n]                                                                                     10\n",
       "[\\n, Super 95 / Super Plus 98 / Super E10 95, \\n]                                                                         8\n",
       "[\\n, Super 95 / Regular/Benzine 91 / Super Plus 98 / Regular/Benzine E10 91 / Super E10 95 / Super Plus E10 98, \\n]       7\n",
       "[\\n, Super E10 95 (Particulate Filter), \\n]                                                                               7\n",
       "[\\n, Super Plus 98, \\n]                                                                                                   7\n",
       "[\\n, Regular/Benzine 91 / Regular/Benzine E10 91, \\n]                                                                     7\n",
       "[\\n, Others, \\n]                                                                                                          5\n",
       "[\\n, Super 95 / Super Plus 98 / Super Plus E10 98 / Super E10 95, \\n]                                                     5\n",
       "[\\n, Super 95 / Super Plus 98 / Super E10 95 / Super Plus E10 98 (Particulate Filter), \\n]                                4\n",
       "[\\n, Regular/Benzine 91 / Super 95 / Super Plus 98 / Regular/Benzine E10 91 / Super Plus E10 98 / Super E10 95, \\n]       4\n",
       "[\\n, Super 95 / Super E10 95 / Super Plus E10 98 / Super Plus 98, \\n]                                                     4\n",
       "[\\n, Electric/Gasoline, \\n]                                                                                               4\n",
       "[\\n, Super E10 95 / Super Plus E10 98, \\n]                                                                                4\n",
       "[\\n, CNG (Particulate Filter), \\n]                                                                                        3\n",
       "[\\n, Super E10 95 / Super 95 / Super Plus 98, \\n]                                                                         3\n",
       "[\\n, Super E10 95 / Super 95 / Super Plus 98 / Super Plus E10 98 (Particulate Filter), \\n]                                3\n",
       "[\\n, Super 95 / Regular/Benzine 91 / Super Plus 98, \\n]                                                                   2\n",
       "[\\n, Super E10 95 / Regular/Benzine 91, \\n]                                                                               2\n",
       "[\\n, Regular/Benzine 91 / Super 95 / Super Plus 98 / Super Plus E10 98 / Super E10 95 / Regular/Benzine E10 91, \\n]       2\n",
       "Name: Fuel, dtype: int64"
      ]
     },
     "execution_count": 2162,
     "metadata": {},
     "output_type": "execute_result"
    }
   ],
   "source": [
    "data.Fuel.value_counts().head(40)"
   ]
  },
  {
   "cell_type": "code",
   "execution_count": 2163,
   "metadata": {},
   "outputs": [
    {
     "ename": "TypeError",
     "evalue": "unhashable type: 'list'",
     "output_type": "error",
     "traceback": [
      "\u001b[0;31m---------------------------------------------------------------------------\u001b[0m",
      "\u001b[0;31mTypeError\u001b[0m                                 Traceback (most recent call last)",
      "\u001b[0;32mpandas/_libs/hashtable_class_helper.pxi\u001b[0m in \u001b[0;36mpandas._libs.hashtable.PyObjectHashTable.map_locations\u001b[0;34m()\u001b[0m\n",
      "\u001b[0;31mTypeError\u001b[0m: unhashable type: 'list'"
     ]
    },
    {
     "name": "stderr",
     "output_type": "stream",
     "text": [
      "Exception ignored in: 'pandas._libs.index.IndexEngine._call_map_locations'\n",
      "Traceback (most recent call last):\n",
      "  File \"pandas/_libs/hashtable_class_helper.pxi\", line 1652, in pandas._libs.hashtable.PyObjectHashTable.map_locations\n",
      "TypeError: unhashable type: 'list'\n"
     ]
    },
    {
     "data": {
      "text/plain": [
       "[\\n, Super 95 / Regular/Benzine 91 / Super Plus 98, \\n]                                                                                     2\n",
       "[\\n, Super E10 95 / Regular/Benzine 91, \\n]                                                                                                 2\n",
       "[\\n, Regular/Benzine 91 / Super 95 / Super Plus 98 / Super Plus E10 98 / Super E10 95 / Regular/Benzine E10 91, \\n]                         2\n",
       "[\\n, Super Plus 98 / Super 95 / Super Plus E10 98, \\n]                                                                                      1\n",
       "[\\n, Super 95 / Super E10 95 / Super Plus E10 98, \\n]                                                                                       1\n",
       "[\\n, Regular/Benzine 91 / Super 95 / Super E10 95 / Regular/Benzine E10 91, \\n]                                                             1\n",
       "[\\n, Super 95 / Regular/Benzine 91 / Super E10 95 / Super Plus 98 / Super Plus E10 98 / Regular/Benzine E10 91, \\n]                         1\n",
       "[\\n, Super E10 95 / Regular/Benzine 91 / Regular/Benzine E10 91 / Super 95, \\n]                                                             1\n",
       "[\\n, Super 95 / Regular/Benzine 91 / Super E10 95 / Super Plus E10 98 / Super Plus 98 / Regular/Benzine E10 91, \\n]                         1\n",
       "[\\n, Super 95 / Regular/Benzine E10 91, \\n]                                                                                                 1\n",
       "[\\n, Regular/Benzine 91 / Super 95 / Super Plus E10 98 / Super E10 95 / Regular/Benzine E10 91 / Super Plus 98, \\n]                         1\n",
       "[\\n, Regular/Benzine 91 / Super 95 / Super E10 95 / Super Plus E10 98 / Super Plus 98 / Regular/Benzine E10 91, \\n]                         1\n",
       "[\\n, Electric, \\n]                                                                                                                          1\n",
       "[\\n, Super 95 / Super Plus 98 / Regular/Benzine E10 91 / Super Plus E10 98 / Super E10 95 / Regular/Benzine 91, \\n]                         1\n",
       "[\\n, Super Plus 98 / Regular/Benzine 91, \\n]                                                                                                1\n",
       "[\\n, Super 95 / Regular/Benzine 91 (Particulate Filter), \\n]                                                                                1\n",
       "[\\n, Regular/Benzine 91 / Super Plus 98 / Regular/Benzine E10 91 / Super 95 / Super E10 95 / Super Plus E10 98, \\n]                         1\n",
       "[\\n, Super 95 / Super E10 95 / Regular/Benzine 91, \\n]                                                                                      1\n",
       "[\\n, Super 95 / Super E10 95 / Super Plus 98, \\n]                                                                                           1\n",
       "[\\n, Super 95 / Super Plus 98 / Super Plus E10 98, \\n]                                                                                      1\n",
       "[\\n, Regular/Benzine E10 91 / Regular/Benzine 91 / Super 95 / Super Plus 98 / Super E10 95 / Super Plus E10 98, \\n]                         1\n",
       "[\\n, Super 95 / Regular/Benzine E10 91 / Super E10 95, \\n]                                                                                  1\n",
       "[\\n, Regular/Benzine 91 / Super 95 / Super E10 95, \\n]                                                                                      1\n",
       "[\\n, Regular/Benzine E10 91 / Super E10 95 / Super Plus E10 98 / Super Plus 98 / Super 95 / Regular/Benzine 91, \\n]                         1\n",
       "[\\n, Regular/Benzine 91 / Super 95, \\n]                                                                                                     1\n",
       "[\\n, Regular/Benzine 91 / Super 95 / Super Plus 98, \\n]                                                                                     1\n",
       "[\\n, Regular/Benzine 91 / Super 95 / Super Plus 98 / Super Plus E10 98 / Super E10 95 / Regular/Benzine E10 91 (Particulate Filter), \\n]    1\n",
       "[\\n, Super E10 95 / Regular/Benzine 91 / Super 95 / Super Plus 98 / Regular/Benzine E10 91 / Super Plus E10 98, \\n]                         1\n",
       "[\\n, Super Plus E10 98 / Super 95 / Super Plus 98 / Super E10 95, \\n]                                                                       1\n",
       "[\\n, Super 95 / Biodiesel, \\n]                                                                                                              1\n",
       "[\\n, Biogas, \\n]                                                                                                                            1\n",
       "[\\n, Super Plus 98 / Super 95 / Super E10 95, \\n]                                                                                           1\n",
       "[\\n, Others (Particulate Filter), \\n]                                                                                                       1\n",
       "[\\n, Super Plus E10 98, \\n]                                                                                                                 1\n",
       "[\\n, Regular/Benzine 91 / Super 95 / Regular/Benzine E10 91, \\n]                                                                            1\n",
       "[\\n, Super Plus 98 / Super E10 95, \\n]                                                                                                      1\n",
       "[\\n, Regular/Benzine 91 / Super 95 / Regular/Benzine E10 91 / Super E10 95 / Super Plus 98 / Super Plus E10 98, \\n]                         1\n",
       "[\\n, Super 95 / Regular/Benzine 91 / Super Plus 98 / Regular/Benzine E10 91 / Super Plus E10 98 / Super E10 95, \\n]                         1\n",
       "[\\n, Super 95 / Regular/Benzine 91 / Super E10 95 / Super Plus E10 98 / Super Plus 98, \\n]                                                  1\n",
       "[\\n, Domestic gas H, \\n]                                                                                                                    1\n",
       "Name: Fuel, dtype: int64"
      ]
     },
     "execution_count": 2163,
     "metadata": {},
     "output_type": "execute_result"
    }
   ],
   "source": [
    "data.Fuel.value_counts().tail(40)"
   ]
  },
  {
   "cell_type": "code",
   "execution_count": 2164,
   "metadata": {},
   "outputs": [
    {
     "data": {
      "text/plain": [
       "Diesel (Particulate Filter)                                                                                  4315\n",
       "Super 95                                                                                                     3338\n",
       "Gasoline                                                                                                     3175\n",
       "Diesel                                                                                                       2984\n",
       "Super 95 / Regular/Benzine 91                                                                                 424\n",
       "                                                                                                             ... \n",
       "Regular/Benzine 91 / Super 95                                                                                   1\n",
       "Super 95 / Biodiesel                                                                                            1\n",
       "Super 95 / Super E10 95 / Super Plus 98                                                                         1\n",
       "Regular/Benzine 91 / Super 95 / Regular/Benzine E10 91                                                          1\n",
       "Super 95 / Regular/Benzine 91 / Super Plus 98 / Regular/Benzine E10 91 / Super Plus E10 98 / Super E10 95       1\n",
       "Name: Fuel, Length: 77, dtype: int64"
      ]
     },
     "execution_count": 2164,
     "metadata": {},
     "output_type": "execute_result"
    }
   ],
   "source": [
    "data.Fuel.str[1].value_counts(dropna = False)"
   ]
  },
  {
   "cell_type": "code",
   "execution_count": 2165,
   "metadata": {},
   "outputs": [],
   "source": [
    "data['fuel_new'] = data.Fuel.str[1] "
   ]
  },
  {
   "cell_type": "code",
   "execution_count": 2166,
   "metadata": {},
   "outputs": [],
   "source": [
    "diesel_bool = data['fuel_new'].str.contains('diesel', case = False, regex = True)"
   ]
  },
  {
   "cell_type": "code",
   "execution_count": 2167,
   "metadata": {},
   "outputs": [],
   "source": [
    "lpg_bool = data['fuel_new'].str.contains('lpg|cng|bio|domestic|electric', case= False, regex=True)"
   ]
  },
  {
   "cell_type": "code",
   "execution_count": 2168,
   "metadata": {},
   "outputs": [],
   "source": [
    "data.loc[diesel_bool, 'fuel_new'] = 'Diesel'"
   ]
  },
  {
   "cell_type": "code",
   "execution_count": 2169,
   "metadata": {},
   "outputs": [],
   "source": [
    "data.loc[lpg_bool, 'fuel_new'] = 'LPG/CNG'"
   ]
  },
  {
   "cell_type": "code",
   "execution_count": 2170,
   "metadata": {},
   "outputs": [
    {
     "data": {
      "text/plain": [
       "1                                             Gasoline\n",
       "9                                             Gasoline\n",
       "11                                            Super 95\n",
       "12                                  Regular/Benzine 91\n",
       "13                                            Gasoline\n",
       "                             ...                      \n",
       "15908                                         Gasoline\n",
       "15910                           Regular/Benzine E10 91\n",
       "15913                                         Super 95\n",
       "15915    Super 95 / Super Plus 98 (Particulate Filter)\n",
       "15918                                         Super 95\n",
       "Name: fuel_new, Length: 8550, dtype: object"
      ]
     },
     "execution_count": 2170,
     "metadata": {},
     "output_type": "execute_result"
    }
   ],
   "source": [
    "data.fuel_new.loc[lambda x : x!= 'Diesel'][lambda x: x!= 'LPG/CNG']"
   ]
  },
  {
   "cell_type": "code",
   "execution_count": 2171,
   "metadata": {},
   "outputs": [
    {
     "data": {
      "text/plain": [
       "Int64Index([    1,     9,    11,    12,    13,    14,    18,    21,    22,    24,\n",
       "            ...\n",
       "            15900, 15903, 15905, 15906, 15907, 15908, 15910, 15913, 15915, 15918], dtype='int64', length=8550)"
      ]
     },
     "execution_count": 2171,
     "metadata": {},
     "output_type": "execute_result"
    }
   ],
   "source": [
    "data.fuel_new.loc[lambda x : x!= 'Diesel'][lambda x: x!= 'LPG/CNG'].index"
   ]
  },
  {
   "cell_type": "code",
   "execution_count": 2172,
   "metadata": {},
   "outputs": [],
   "source": [
    "gas = list(data.fuel_new.loc[lambda x : x!= 'Diesel'][lambda x: x!= 'LPG/CNG'].index)"
   ]
  },
  {
   "cell_type": "code",
   "execution_count": 2173,
   "metadata": {},
   "outputs": [],
   "source": [
    "data.fuel_new.iloc[gas] = 'Gassoline'"
   ]
  },
  {
   "cell_type": "code",
   "execution_count": 2174,
   "metadata": {},
   "outputs": [
    {
     "data": {
      "text/plain": [
       "Gassoline    8550\n",
       "Diesel       7299\n",
       "LPG/CNG        70\n",
       "Name: fuel_new, dtype: int64"
      ]
     },
     "execution_count": 2174,
     "metadata": {},
     "output_type": "execute_result"
    }
   ],
   "source": [
    "data.fuel_new.value_counts(dropna = False)"
   ]
  },
  {
   "cell_type": "markdown",
   "metadata": {},
   "source": [
    "## Gears"
   ]
  },
  {
   "cell_type": "code",
   "execution_count": 2175,
   "metadata": {},
   "outputs": [
    {
     "data": {
      "text/plain": [
       "29.599849236761106"
      ]
     },
     "execution_count": 2175,
     "metadata": {},
     "output_type": "execute_result"
    }
   ],
   "source": [
    "data.Gears.isnull().sum()/data.Gears.shape[0]*100"
   ]
  },
  {
   "cell_type": "code",
   "execution_count": 2176,
   "metadata": {},
   "outputs": [
    {
     "ename": "TypeError",
     "evalue": "unhashable type: 'list'",
     "output_type": "error",
     "traceback": [
      "\u001b[0;31m---------------------------------------------------------------------------\u001b[0m",
      "\u001b[0;31mTypeError\u001b[0m                                 Traceback (most recent call last)",
      "\u001b[0;32mpandas/_libs/hashtable_class_helper.pxi\u001b[0m in \u001b[0;36mpandas._libs.hashtable.PyObjectHashTable.map_locations\u001b[0;34m()\u001b[0m\n",
      "\u001b[0;31mTypeError\u001b[0m: unhashable type: 'list'"
     ]
    },
    {
     "name": "stderr",
     "output_type": "stream",
     "text": [
      "Exception ignored in: 'pandas._libs.index.IndexEngine._call_map_locations'\n",
      "Traceback (most recent call last):\n",
      "  File \"pandas/_libs/hashtable_class_helper.pxi\", line 1652, in pandas._libs.hashtable.PyObjectHashTable.map_locations\n",
      "TypeError: unhashable type: 'list'\n"
     ]
    },
    {
     "data": {
      "text/plain": [
       "[\\n6\\n]     5822\n",
       "NaN         4712\n",
       "[\\n5\\n]     3239\n",
       "[\\n7\\n]     1908\n",
       "[\\n8\\n]      224\n",
       "[\\n9\\n]        6\n",
       "[\\n4\\n]        2\n",
       "[\\n3\\n]        2\n",
       "[\\n1\\n]        2\n",
       "[\\n50\\n]       1\n",
       "[\\n2\\n]        1\n",
       "Name: Gears, dtype: int64"
      ]
     },
     "execution_count": 2176,
     "metadata": {},
     "output_type": "execute_result"
    }
   ],
   "source": [
    "data.Gears.value_counts(dropna = False)"
   ]
  },
  {
   "cell_type": "code",
   "execution_count": 2177,
   "metadata": {},
   "outputs": [],
   "source": [
    "data['Gears'] = data['Gears'].str[0].str.strip('\\n')"
   ]
  },
  {
   "cell_type": "code",
   "execution_count": 2178,
   "metadata": {},
   "outputs": [
    {
     "data": {
      "text/plain": [
       "6      5822\n",
       "NaN    4712\n",
       "5      3239\n",
       "7      1908\n",
       "8       224\n",
       "9         6\n",
       "3         2\n",
       "1         2\n",
       "4         2\n",
       "2         1\n",
       "50        1\n",
       "Name: Gears, dtype: int64"
      ]
     },
     "execution_count": 2178,
     "metadata": {},
     "output_type": "execute_result"
    }
   ],
   "source": [
    "data.Gears.value_counts(dropna = False)"
   ]
  },
  {
   "cell_type": "code",
   "execution_count": 2179,
   "metadata": {},
   "outputs": [
    {
     "data": {
      "text/html": [
       "<div>\n",
       "<style scoped>\n",
       "    .dataframe tbody tr th:only-of-type {\n",
       "        vertical-align: middle;\n",
       "    }\n",
       "\n",
       "    .dataframe tbody tr th {\n",
       "        vertical-align: top;\n",
       "    }\n",
       "\n",
       "    .dataframe thead th {\n",
       "        text-align: right;\n",
       "    }\n",
       "</style>\n",
       "<table border=\"1\" class=\"dataframe\">\n",
       "  <thead>\n",
       "    <tr style=\"text-align: right;\">\n",
       "      <th></th>\n",
       "      <th>url</th>\n",
       "      <th>make_model</th>\n",
       "      <th>short_description</th>\n",
       "      <th>body_type</th>\n",
       "      <th>price</th>\n",
       "      <th>vat</th>\n",
       "      <th>km</th>\n",
       "      <th>registration</th>\n",
       "      <th>hp</th>\n",
       "      <th>Type</th>\n",
       "      <th>Previous Owners</th>\n",
       "      <th>Next Inspection</th>\n",
       "      <th>Inspection new</th>\n",
       "      <th>Warranty</th>\n",
       "      <th>null</th>\n",
       "      <th>Make</th>\n",
       "      <th>Model</th>\n",
       "      <th>Offer Number</th>\n",
       "      <th>First Registration</th>\n",
       "      <th>Body Color</th>\n",
       "      <th>Paint Type</th>\n",
       "      <th>Upholstery</th>\n",
       "      <th>Nr. of Doors</th>\n",
       "      <th>Nr. of Seats</th>\n",
       "      <th>Gearing Type</th>\n",
       "      <th>Displacement</th>\n",
       "      <th>Cylinders</th>\n",
       "      <th>Drive chain</th>\n",
       "      <th>Fuel</th>\n",
       "      <th>Consumption</th>\n",
       "      <th>CO2 Emission</th>\n",
       "      <th>Emission Class</th>\n",
       "      <th>\\nComfort &amp; Convenience\\n</th>\n",
       "      <th>\\nEntertainment &amp; Media\\n</th>\n",
       "      <th>\\nExtras\\n</th>\n",
       "      <th>\\nSafety &amp; Security\\n</th>\n",
       "      <th>description</th>\n",
       "      <th>Emission Label</th>\n",
       "      <th>Gears</th>\n",
       "      <th>Country version</th>\n",
       "      <th>Previous_Owner1</th>\n",
       "      <th>Previous_Owner</th>\n",
       "      <th>Inspection_New_Bool</th>\n",
       "      <th>next_inspection</th>\n",
       "      <th>paint_type</th>\n",
       "      <th>country</th>\n",
       "      <th>emission_label</th>\n",
       "      <th>Comfort&amp;Convenience</th>\n",
       "      <th>cc_Air conditioning</th>\n",
       "      <th>cc_Air suspension</th>\n",
       "      <th>cc_Armrest</th>\n",
       "      <th>cc_Automatic climate control</th>\n",
       "      <th>cc_Auxiliary heating</th>\n",
       "      <th>cc_Cruise control</th>\n",
       "      <th>cc_Electric Starter</th>\n",
       "      <th>cc_Electric tailgate</th>\n",
       "      <th>cc_Electrical side mirrors</th>\n",
       "      <th>cc_Electrically adjustable seats</th>\n",
       "      <th>cc_Electrically heated windshield</th>\n",
       "      <th>cc_Heads-up display</th>\n",
       "      <th>cc_Heated steering wheel</th>\n",
       "      <th>cc_Hill Holder</th>\n",
       "      <th>cc_Keyless central door lock</th>\n",
       "      <th>cc_Leather seats</th>\n",
       "      <th>cc_Leather steering wheel</th>\n",
       "      <th>cc_Light sensor</th>\n",
       "      <th>cc_Lumbar support</th>\n",
       "      <th>cc_Massage seats</th>\n",
       "      <th>cc_Multi-function steering wheel</th>\n",
       "      <th>cc_Navigation system</th>\n",
       "      <th>cc_Panorama roof</th>\n",
       "      <th>cc_Park Distance Control</th>\n",
       "      <th>cc_Parking assist system camera</th>\n",
       "      <th>cc_Parking assist system self-steering</th>\n",
       "      <th>cc_Parking assist system sensors front</th>\n",
       "      <th>cc_Parking assist system sensors rear</th>\n",
       "      <th>cc_Power windows</th>\n",
       "      <th>cc_Rain sensor</th>\n",
       "      <th>cc_Seat heating</th>\n",
       "      <th>cc_Seat ventilation</th>\n",
       "      <th>cc_Split rear seats</th>\n",
       "      <th>cc_Start-stop system</th>\n",
       "      <th>cc_Sunroof</th>\n",
       "      <th>cc_Tinted windows</th>\n",
       "      <th>cc_Wind deflector</th>\n",
       "      <th>cc_Windshield</th>\n",
       "      <th>Entertainment&amp;Media</th>\n",
       "      <th>em_Bluetooth</th>\n",
       "      <th>em_CD player</th>\n",
       "      <th>em_Digital radio</th>\n",
       "      <th>em_Hands-free equipment</th>\n",
       "      <th>em_MP3</th>\n",
       "      <th>em_On-board computer</th>\n",
       "      <th>em_Radio</th>\n",
       "      <th>em_Sound system</th>\n",
       "      <th>em_Television</th>\n",
       "      <th>em_USB</th>\n",
       "      <th>extra</th>\n",
       "      <th>ex_Alloy wheels</th>\n",
       "      <th>ex_Cab or rented Car</th>\n",
       "      <th>ex_Catalytic Converter</th>\n",
       "      <th>ex_Handicapped enabled</th>\n",
       "      <th>ex_Right hand drive</th>\n",
       "      <th>ex_Roof rack</th>\n",
       "      <th>ex_Shift paddles</th>\n",
       "      <th>ex_Ski bag</th>\n",
       "      <th>ex_Sliding door</th>\n",
       "      <th>ex_Sport package</th>\n",
       "      <th>ex_Sport seats</th>\n",
       "      <th>ex_Sport suspension</th>\n",
       "      <th>ex_Touch screen</th>\n",
       "      <th>ex_Trailer hitch</th>\n",
       "      <th>ex_Tuned car</th>\n",
       "      <th>ex_Voice Control</th>\n",
       "      <th>ex_Winter tyres</th>\n",
       "      <th>Safe&amp;Security</th>\n",
       "      <th>ss_ABS</th>\n",
       "      <th>ss_Adaptive Cruise Control</th>\n",
       "      <th>ss_Adaptive headlights</th>\n",
       "      <th>ss_Alarm system</th>\n",
       "      <th>ss_Blind spot monitor</th>\n",
       "      <th>ss_Central door lock</th>\n",
       "      <th>ss_Central door lock with remote control</th>\n",
       "      <th>ss_Daytime running lights</th>\n",
       "      <th>ss_Driver drowsiness detection</th>\n",
       "      <th>ss_Driver-side airbag</th>\n",
       "      <th>ss_Electronic stability control</th>\n",
       "      <th>ss_Emergency brake assistant</th>\n",
       "      <th>ss_Emergency system</th>\n",
       "      <th>ss_Fog lights</th>\n",
       "      <th>ss_Head airbag</th>\n",
       "      <th>ss_Immobilizer</th>\n",
       "      <th>ss_Isofix</th>\n",
       "      <th>ss_LED Daytime Running Lights</th>\n",
       "      <th>ss_LED Headlights</th>\n",
       "      <th>ss_Lane departure warning system</th>\n",
       "      <th>ss_Night view assist</th>\n",
       "      <th>ss_Passenger-side airbag</th>\n",
       "      <th>ss_Power steering</th>\n",
       "      <th>ss_Rear airbag</th>\n",
       "      <th>ss_Side airbag</th>\n",
       "      <th>ss_Tire pressure monitoring system</th>\n",
       "      <th>ss_Traction control</th>\n",
       "      <th>ss_Traffic sign recognition</th>\n",
       "      <th>ss_Xenon headlights</th>\n",
       "      <th>consumption_comb</th>\n",
       "      <th>gear_type</th>\n",
       "      <th>drive_chain</th>\n",
       "      <th>Body_Color</th>\n",
       "      <th>CO2_Emission</th>\n",
       "      <th>Displacement_cc</th>\n",
       "      <th>Emission_Class</th>\n",
       "      <th>register_age</th>\n",
       "      <th>fuel_new</th>\n",
       "    </tr>\n",
       "  </thead>\n",
       "  <tbody>\n",
       "    <tr>\n",
       "      <th>14495</th>\n",
       "      <td>https://www.autoscout24.com//offers/renault-clio-limited-2018-tce-75-klima-led-gasoline-black-d14154cc-3f6a-4947-87d6-d92768954315</td>\n",
       "      <td>Renault Clio</td>\n",
       "      <td>LIMITED 2018 TCe 75 Klima/LED</td>\n",
       "      <td>Sedans</td>\n",
       "      <td>10798</td>\n",
       "      <td>VAT deductible</td>\n",
       "      <td>10 km</td>\n",
       "      <td>01/2019</td>\n",
       "      <td>56 kW</td>\n",
       "      <td>[, Pre-registered, , Super 95]</td>\n",
       "      <td>\\n1\\n</td>\n",
       "      <td>NaN</td>\n",
       "      <td>NaN</td>\n",
       "      <td>NaN</td>\n",
       "      <td>[]</td>\n",
       "      <td>\\nRenault\\n</td>\n",
       "      <td>[\\n, Clio, \\n]</td>\n",
       "      <td>[\\nKL_503764\\n]</td>\n",
       "      <td>[\\n, 2019, \\n]</td>\n",
       "      <td>[\\n, Black, \\n]</td>\n",
       "      <td>[\\nMetallic\\n]</td>\n",
       "      <td>[\\nCloth\\n]</td>\n",
       "      <td>[\\n5\\n]</td>\n",
       "      <td>[\\n5\\n]</td>\n",
       "      <td>[\\n, Manual, \\n]</td>\n",
       "      <td>[\\n898 cc\\n]</td>\n",
       "      <td>NaN</td>\n",
       "      <td>NaN</td>\n",
       "      <td>[\\n, Super 95, \\n]</td>\n",
       "      <td>[[5.2 l/100 km (comb)], [6.5 l/100 km (city)], [4.4 l/100 km (country)]]</td>\n",
       "      <td>[\\n118 g CO2/km (comb)\\n]</td>\n",
       "      <td>[\\nEuro 6\\n]</td>\n",
       "      <td>[Air conditioning, Cruise control, Electrical side mirrors, Leather steering wheel, Power windows, Start-stop system]</td>\n",
       "      <td>[USB]</td>\n",
       "      <td>NaN</td>\n",
       "      <td>[ABS, Central door lock, Daytime running lights, Driver-side airbag, Electronic stability control, Isofix, LED Daytime Running Lights, Passenger-side airbag, Side airbag, Tire pressure monitoring system, Traction control]</td>\n",
       "      <td>[\\n, Sicherheit Airbags:,  , Beifahrerairbag,  , Fahrerairbag,  , Kopfairbags vorne,  , Seitenairbag,  , Sicherheit:,  , ABS,  , Antriebsschlupfregelung (ASR),  , elektr. Stabilitätsprogramm (ESP),  , Geschwindigkeitsbegrenzungsanlage,  , ISOFIX Kindersitzhalterung,  , Kopfstützen im Fonds,  , LED-Tagfahrlicht,  , Reifendruckkontrolle,  , Sommerreifen,  , Tagfahrlicht,  , Traktionskontrolle,  , Komfort:,  , Außenspiegel beheizbar,  , Außenspiegel elektr.,  , Elektr. Fensterheber,  , Fahrersi...</td>\n",
       "      <td>[\\n4 (Green)\\n]</td>\n",
       "      <td>50</td>\n",
       "      <td>[\\nGermany\\n]</td>\n",
       "      <td>NaN</td>\n",
       "      <td>1</td>\n",
       "      <td>0</td>\n",
       "      <td>NaT</td>\n",
       "      <td>Metallic</td>\n",
       "      <td>Germany</td>\n",
       "      <td>4 (Green)</td>\n",
       "      <td>Air conditioning,Cruise control,Electrical side mirrors,Leather steering wheel,Power windows,Start-stop system</td>\n",
       "      <td>1</td>\n",
       "      <td>0</td>\n",
       "      <td>0</td>\n",
       "      <td>0</td>\n",
       "      <td>0</td>\n",
       "      <td>1</td>\n",
       "      <td>0</td>\n",
       "      <td>0</td>\n",
       "      <td>1</td>\n",
       "      <td>0</td>\n",
       "      <td>0</td>\n",
       "      <td>0</td>\n",
       "      <td>0</td>\n",
       "      <td>0</td>\n",
       "      <td>0</td>\n",
       "      <td>0</td>\n",
       "      <td>1</td>\n",
       "      <td>0</td>\n",
       "      <td>0</td>\n",
       "      <td>0</td>\n",
       "      <td>0</td>\n",
       "      <td>0</td>\n",
       "      <td>0</td>\n",
       "      <td>0</td>\n",
       "      <td>0</td>\n",
       "      <td>0</td>\n",
       "      <td>0</td>\n",
       "      <td>0</td>\n",
       "      <td>1</td>\n",
       "      <td>0</td>\n",
       "      <td>0</td>\n",
       "      <td>0</td>\n",
       "      <td>0</td>\n",
       "      <td>1</td>\n",
       "      <td>0</td>\n",
       "      <td>0</td>\n",
       "      <td>0</td>\n",
       "      <td>0</td>\n",
       "      <td>USB</td>\n",
       "      <td>0</td>\n",
       "      <td>0</td>\n",
       "      <td>0</td>\n",
       "      <td>0</td>\n",
       "      <td>0</td>\n",
       "      <td>0</td>\n",
       "      <td>0</td>\n",
       "      <td>0</td>\n",
       "      <td>0</td>\n",
       "      <td>1</td>\n",
       "      <td>Alloy wheels</td>\n",
       "      <td>1</td>\n",
       "      <td>0</td>\n",
       "      <td>0</td>\n",
       "      <td>0</td>\n",
       "      <td>0</td>\n",
       "      <td>0</td>\n",
       "      <td>0</td>\n",
       "      <td>0</td>\n",
       "      <td>0</td>\n",
       "      <td>0</td>\n",
       "      <td>0</td>\n",
       "      <td>0</td>\n",
       "      <td>0</td>\n",
       "      <td>0</td>\n",
       "      <td>0</td>\n",
       "      <td>0</td>\n",
       "      <td>0</td>\n",
       "      <td>ABS,Central door lock,Daytime running lights,Driver-side airbag,Electronic stability control,Isofix,LED Daytime Running Lights,Passenger-side airbag,Side airbag,Tire pressure monitoring system,Traction control</td>\n",
       "      <td>1</td>\n",
       "      <td>0</td>\n",
       "      <td>0</td>\n",
       "      <td>0</td>\n",
       "      <td>0</td>\n",
       "      <td>1</td>\n",
       "      <td>0</td>\n",
       "      <td>1</td>\n",
       "      <td>0</td>\n",
       "      <td>1</td>\n",
       "      <td>1</td>\n",
       "      <td>0</td>\n",
       "      <td>0</td>\n",
       "      <td>0</td>\n",
       "      <td>0</td>\n",
       "      <td>0</td>\n",
       "      <td>1</td>\n",
       "      <td>1</td>\n",
       "      <td>0</td>\n",
       "      <td>0</td>\n",
       "      <td>0</td>\n",
       "      <td>1</td>\n",
       "      <td>0</td>\n",
       "      <td>0</td>\n",
       "      <td>1</td>\n",
       "      <td>1</td>\n",
       "      <td>1</td>\n",
       "      <td>0</td>\n",
       "      <td>0</td>\n",
       "      <td>5.2</td>\n",
       "      <td>Manual</td>\n",
       "      <td>NaN</td>\n",
       "      <td>Black</td>\n",
       "      <td>118</td>\n",
       "      <td>898.0</td>\n",
       "      <td>Euro 6</td>\n",
       "      <td>1.0</td>\n",
       "      <td>Gassoline</td>\n",
       "    </tr>\n",
       "  </tbody>\n",
       "</table>\n",
       "</div>"
      ],
      "text/plain": [
       "                                                                                                                                      url    make_model              short_description body_type  price             vat     km registration     hp                            Type Previous Owners Next Inspection Inspection new Warranty null         Make           Model     Offer Number First Registration       Body Color      Paint Type   Upholstery Nr. of Doors Nr. of Seats      Gearing Type  Displacement Cylinders Drive chain                Fuel                                                               Consumption               CO2 Emission Emission Class                                                                                              \\nComfort & Convenience\\n \\nEntertainment & Media\\n \\nExtras\\n                                                                                                                                                                                                          \\nSafety & Security\\n                                                                                                                                                                                                                                                                                                                                                                                                                                                                                                          description   Emission Label Gears Country version Previous_Owner1 Previous_Owner  Inspection_New_Bool next_inspection paint_type  country emission_label                                                                                             Comfort&Convenience  cc_Air conditioning  cc_Air suspension  cc_Armrest  cc_Automatic climate control  cc_Auxiliary heating  cc_Cruise control  cc_Electric Starter  cc_Electric tailgate  cc_Electrical side mirrors  \\\n",
       "14495  https://www.autoscout24.com//offers/renault-clio-limited-2018-tce-75-klima-led-gasoline-black-d14154cc-3f6a-4947-87d6-d92768954315  Renault Clio  LIMITED 2018 TCe 75 Klima/LED    Sedans  10798  VAT deductible  10 km      01/2019  56 kW  [, Pre-registered, , Super 95]           \\n1\\n             NaN            NaN      NaN   []  \\nRenault\\n  [\\n, Clio, \\n]  [\\nKL_503764\\n]     [\\n, 2019, \\n]  [\\n, Black, \\n]  [\\nMetallic\\n]  [\\nCloth\\n]      [\\n5\\n]      [\\n5\\n]  [\\n, Manual, \\n]  [\\n898 cc\\n]       NaN         NaN  [\\n, Super 95, \\n]  [[5.2 l/100 km (comb)], [6.5 l/100 km (city)], [4.4 l/100 km (country)]]  [\\n118 g CO2/km (comb)\\n]   [\\nEuro 6\\n]  [Air conditioning, Cruise control, Electrical side mirrors, Leather steering wheel, Power windows, Start-stop system]                     [USB]        NaN  [ABS, Central door lock, Daytime running lights, Driver-side airbag, Electronic stability control, Isofix, LED Daytime Running Lights, Passenger-side airbag, Side airbag, Tire pressure monitoring system, Traction control]  [\\n, Sicherheit Airbags:,  , Beifahrerairbag,  , Fahrerairbag,  , Kopfairbags vorne,  , Seitenairbag,  , Sicherheit:,  , ABS,  , Antriebsschlupfregelung (ASR),  , elektr. Stabilitätsprogramm (ESP),  , Geschwindigkeitsbegrenzungsanlage,  , ISOFIX Kindersitzhalterung,  , Kopfstützen im Fonds,  , LED-Tagfahrlicht,  , Reifendruckkontrolle,  , Sommerreifen,  , Tagfahrlicht,  , Traktionskontrolle,  , Komfort:,  , Außenspiegel beheizbar,  , Außenspiegel elektr.,  , Elektr. Fensterheber,  , Fahrersi...  [\\n4 (Green)\\n]    50   [\\nGermany\\n]             NaN              1                    0             NaT   Metallic  Germany      4 (Green)  Air conditioning,Cruise control,Electrical side mirrors,Leather steering wheel,Power windows,Start-stop system                    1                  0           0                             0                     0                  1                    0                     0                           1   \n",
       "\n",
       "       cc_Electrically adjustable seats  cc_Electrically heated windshield  cc_Heads-up display  cc_Heated steering wheel  cc_Hill Holder  cc_Keyless central door lock  cc_Leather seats  cc_Leather steering wheel  cc_Light sensor  cc_Lumbar support  cc_Massage seats  cc_Multi-function steering wheel  cc_Navigation system  cc_Panorama roof  cc_Park Distance Control  cc_Parking assist system camera  cc_Parking assist system self-steering  cc_Parking assist system sensors front  cc_Parking assist system sensors rear  cc_Power windows  cc_Rain sensor  cc_Seat heating  cc_Seat ventilation  cc_Split rear seats  cc_Start-stop system  cc_Sunroof  cc_Tinted windows  cc_Wind deflector  cc_Windshield Entertainment&Media  em_Bluetooth  em_CD player  em_Digital radio  em_Hands-free equipment  em_MP3  em_On-board computer  em_Radio  em_Sound system  em_Television  em_USB         extra  ex_Alloy wheels  ex_Cab or rented Car  ex_Catalytic Converter  ex_Handicapped enabled  ex_Right hand drive  ex_Roof rack  ex_Shift paddles  ex_Ski bag  ex_Sliding door  ex_Sport package  ex_Sport seats  ex_Sport suspension  ex_Touch screen  ex_Trailer hitch  ex_Tuned car  ex_Voice Control  ex_Winter tyres                                                                                                                                                                                                      Safe&Security  ss_ABS  ss_Adaptive Cruise Control  ss_Adaptive headlights  ss_Alarm system  ss_Blind spot monitor  ss_Central door lock  ss_Central door lock with remote control  ss_Daytime running lights  ss_Driver drowsiness detection  ss_Driver-side airbag  ss_Electronic stability control  ss_Emergency brake assistant  ss_Emergency system  ss_Fog lights  ss_Head airbag  ss_Immobilizer  ss_Isofix  ss_LED Daytime Running Lights  ss_LED Headlights  ss_Lane departure warning system  ss_Night view assist  ss_Passenger-side airbag  ss_Power steering  ss_Rear airbag  ss_Side airbag  \\\n",
       "14495                                 0                                  0                    0                         0               0                             0                 0                          1                0                  0                 0                                 0                     0                 0                         0                                0                                       0                                       0                                      0                 1               0                0                    0                    0                     1           0                  0                  0              0                 USB             0             0                 0                        0       0                     0         0                0              0       1  Alloy wheels                1                     0                       0                       0                    0             0                 0           0                0                 0               0                    0                0                 0             0                 0                0  ABS,Central door lock,Daytime running lights,Driver-side airbag,Electronic stability control,Isofix,LED Daytime Running Lights,Passenger-side airbag,Side airbag,Tire pressure monitoring system,Traction control       1                           0                       0                0                      0                     1                                         0                          1                               0                      1                                1                             0                    0              0               0               0          1                              1                  0                                 0                     0                         1                  0               0               1   \n",
       "\n",
       "       ss_Tire pressure monitoring system  ss_Traction control  ss_Traffic sign recognition  ss_Xenon headlights consumption_comb gear_type drive_chain Body_Color CO2_Emission  Displacement_cc Emission_Class  register_age   fuel_new  \n",
       "14495                                   1                    1                            0                    0              5.2    Manual         NaN      Black          118            898.0         Euro 6           1.0  Gassoline  "
      ]
     },
     "execution_count": 2179,
     "metadata": {},
     "output_type": "execute_result"
    }
   ],
   "source": [
    "data[data['Gears']=='50']"
   ]
  },
  {
   "cell_type": "code",
   "execution_count": 2180,
   "metadata": {},
   "outputs": [],
   "source": [
    "data.Gears.iloc[14495] = \"5\""
   ]
  },
  {
   "cell_type": "markdown",
   "metadata": {},
   "source": [
    "## Make"
   ]
  },
  {
   "cell_type": "code",
   "execution_count": 2181,
   "metadata": {},
   "outputs": [
    {
     "data": {
      "text/plain": [
       "\\nOpel\\n       7343\n",
       "\\nAudi\\n       5712\n",
       "\\nRenault\\n    2864\n",
       "Name: Make, dtype: int64"
      ]
     },
     "execution_count": 2181,
     "metadata": {},
     "output_type": "execute_result"
    }
   ],
   "source": [
    "data.Make.value_counts(dropna = False)"
   ]
  },
  {
   "cell_type": "code",
   "execution_count": 2182,
   "metadata": {},
   "outputs": [],
   "source": [
    "data.Make = data.Make.str.strip('\\n')"
   ]
  },
  {
   "cell_type": "code",
   "execution_count": 2183,
   "metadata": {},
   "outputs": [
    {
     "data": {
      "text/plain": [
       "Opel       7343\n",
       "Audi       5712\n",
       "Renault    2864\n",
       "Name: Make, dtype: int64"
      ]
     },
     "execution_count": 2183,
     "metadata": {},
     "output_type": "execute_result"
    }
   ],
   "source": [
    "data.Make.value_counts(dropna = False)"
   ]
  },
  {
   "cell_type": "markdown",
   "metadata": {},
   "source": [
    "## Model"
   ]
  },
  {
   "cell_type": "code",
   "execution_count": 2184,
   "metadata": {},
   "outputs": [
    {
     "ename": "TypeError",
     "evalue": "unhashable type: 'list'",
     "output_type": "error",
     "traceback": [
      "\u001b[0;31m---------------------------------------------------------------------------\u001b[0m",
      "\u001b[0;31mTypeError\u001b[0m                                 Traceback (most recent call last)",
      "\u001b[0;32mpandas/_libs/hashtable_class_helper.pxi\u001b[0m in \u001b[0;36mpandas._libs.hashtable.PyObjectHashTable.map_locations\u001b[0;34m()\u001b[0m\n",
      "\u001b[0;31mTypeError\u001b[0m: unhashable type: 'list'"
     ]
    },
    {
     "name": "stderr",
     "output_type": "stream",
     "text": [
      "Exception ignored in: 'pandas._libs.index.IndexEngine._call_map_locations'\n",
      "Traceback (most recent call last):\n",
      "  File \"pandas/_libs/hashtable_class_helper.pxi\", line 1652, in pandas._libs.hashtable.PyObjectHashTable.map_locations\n",
      "TypeError: unhashable type: 'list'\n"
     ]
    },
    {
     "data": {
      "text/plain": [
       "[\\n, A3, \\n]          3097\n",
       "[\\n, A1, \\n]          2614\n",
       "[\\n, Insignia, \\n]    2598\n",
       "[\\n, Astra, \\n]       2526\n",
       "[\\n, Corsa, \\n]       2219\n",
       "[\\n, Clio, \\n]        1839\n",
       "[\\n, Espace, \\n]       991\n",
       "[\\n, Duster, \\n]        34\n",
       "[\\n, A2, \\n]             1\n",
       "Name: Model, dtype: int64"
      ]
     },
     "execution_count": 2184,
     "metadata": {},
     "output_type": "execute_result"
    }
   ],
   "source": [
    "data['Model'].value_counts(dropna = False)"
   ]
  },
  {
   "cell_type": "code",
   "execution_count": 2185,
   "metadata": {},
   "outputs": [],
   "source": [
    "data.Model = data['Model'].str[1]"
   ]
  },
  {
   "cell_type": "code",
   "execution_count": 2186,
   "metadata": {},
   "outputs": [
    {
     "data": {
      "text/plain": [
       "A3          3097\n",
       "A1          2614\n",
       "Insignia    2598\n",
       "Astra       2526\n",
       "Corsa       2219\n",
       "Clio        1839\n",
       "Espace       991\n",
       "Duster        34\n",
       "A2             1\n",
       "Name: Model, dtype: int64"
      ]
     },
     "execution_count": 2186,
     "metadata": {},
     "output_type": "execute_result"
    }
   ],
   "source": [
    "data.Model.value_counts()"
   ]
  },
  {
   "cell_type": "markdown",
   "metadata": {},
   "source": [
    "## Nr. of Doors"
   ]
  },
  {
   "cell_type": "code",
   "execution_count": 2187,
   "metadata": {},
   "outputs": [
    {
     "data": {
      "text/plain": [
       "1.3317419435894216"
      ]
     },
     "execution_count": 2187,
     "metadata": {},
     "output_type": "execute_result"
    }
   ],
   "source": [
    "data['Nr. of Doors'].isnull().sum() / data['Nr. of Doors'].shape[0]*100"
   ]
  },
  {
   "cell_type": "code",
   "execution_count": 2188,
   "metadata": {},
   "outputs": [
    {
     "ename": "TypeError",
     "evalue": "unhashable type: 'list'",
     "output_type": "error",
     "traceback": [
      "\u001b[0;31m---------------------------------------------------------------------------\u001b[0m",
      "\u001b[0;31mTypeError\u001b[0m                                 Traceback (most recent call last)",
      "\u001b[0;32mpandas/_libs/hashtable_class_helper.pxi\u001b[0m in \u001b[0;36mpandas._libs.hashtable.PyObjectHashTable.map_locations\u001b[0;34m()\u001b[0m\n",
      "\u001b[0;31mTypeError\u001b[0m: unhashable type: 'list'"
     ]
    },
    {
     "name": "stderr",
     "output_type": "stream",
     "text": [
      "Exception ignored in: 'pandas._libs.index.IndexEngine._call_map_locations'\n",
      "Traceback (most recent call last):\n",
      "  File \"pandas/_libs/hashtable_class_helper.pxi\", line 1652, in pandas._libs.hashtable.PyObjectHashTable.map_locations\n",
      "TypeError: unhashable type: 'list'\n"
     ]
    },
    {
     "data": {
      "text/plain": [
       "[\\n5\\n]    11575\n",
       "[\\n4\\n]     3079\n",
       "[\\n3\\n]      832\n",
       "[\\n2\\n]      219\n",
       "NaN          212\n",
       "[\\n7\\n]        1\n",
       "[\\n1\\n]        1\n",
       "Name: Nr. of Doors, dtype: int64"
      ]
     },
     "execution_count": 2188,
     "metadata": {},
     "output_type": "execute_result"
    }
   ],
   "source": [
    "data['Nr. of Doors'].value_counts(dropna = False)"
   ]
  },
  {
   "cell_type": "code",
   "execution_count": 2189,
   "metadata": {},
   "outputs": [
    {
     "data": {
      "text/plain": [
       "5      11575\n",
       "4       3079\n",
       "3        832\n",
       "2        219\n",
       "NaN      212\n",
       "1          1\n",
       "7          1\n",
       "Name: Nr. of Doors, dtype: int64"
      ]
     },
     "execution_count": 2189,
     "metadata": {},
     "output_type": "execute_result"
    }
   ],
   "source": [
    "data['Nr. of Doors'].str[0].str.strip('\\n').value_counts(dropna = False)"
   ]
  },
  {
   "cell_type": "code",
   "execution_count": 2190,
   "metadata": {},
   "outputs": [
    {
     "data": {
      "text/plain": [
       "5      11575\n",
       "4       3079\n",
       "3        832\n",
       "2        219\n",
       "NaN      212\n",
       "1          1\n",
       "7          1\n",
       "Name: nr_doors, dtype: int64"
      ]
     },
     "execution_count": 2190,
     "metadata": {},
     "output_type": "execute_result"
    }
   ],
   "source": [
    "data['nr_doors'] = data['Nr. of Doors'].str[0].str.strip('\\n') \n",
    "data.nr_doors.value_counts(dropna = False)"
   ]
  },
  {
   "cell_type": "markdown",
   "metadata": {},
   "source": [
    "## Nr. of Seats"
   ]
  },
  {
   "cell_type": "code",
   "execution_count": 2191,
   "metadata": {},
   "outputs": [
    {
     "data": {
      "text/plain": [
       "6.137320183428607"
      ]
     },
     "execution_count": 2191,
     "metadata": {},
     "output_type": "execute_result"
    }
   ],
   "source": [
    "data['Nr. of Seats'].isnull().sum() / data['Nr. of Seats'].shape[0]*100"
   ]
  },
  {
   "cell_type": "code",
   "execution_count": 2192,
   "metadata": {},
   "outputs": [
    {
     "data": {
      "text/plain": [
       "5      13336\n",
       "4       1125\n",
       "NaN      977\n",
       "7        362\n",
       "2        116\n",
       "6          2\n",
       "3          1\n",
       "Name: Nr. of Seats, dtype: int64"
      ]
     },
     "execution_count": 2192,
     "metadata": {},
     "output_type": "execute_result"
    }
   ],
   "source": [
    "data['Nr. of Seats'].str[0].str.strip('\\n').value_counts(dropna = False)"
   ]
  },
  {
   "cell_type": "code",
   "execution_count": 2193,
   "metadata": {},
   "outputs": [
    {
     "data": {
      "text/plain": [
       "5      13336\n",
       "4       1125\n",
       "NaN      977\n",
       "7        362\n",
       "2        116\n",
       "6          2\n",
       "3          1\n",
       "Name: Nr. of Seats, dtype: int64"
      ]
     },
     "execution_count": 2193,
     "metadata": {},
     "output_type": "execute_result"
    }
   ],
   "source": [
    "data['Nr. of Seats'].str[0].str.strip('\\n').value_counts(dropna = False)"
   ]
  },
  {
   "cell_type": "code",
   "execution_count": 2194,
   "metadata": {},
   "outputs": [
    {
     "data": {
      "text/plain": [
       "5      13336\n",
       "4       1125\n",
       "NaN      977\n",
       "7        362\n",
       "2        116\n",
       "6          2\n",
       "3          1\n",
       "Name: nr_seats, dtype: int64"
      ]
     },
     "execution_count": 2194,
     "metadata": {},
     "output_type": "execute_result"
    }
   ],
   "source": [
    "data['nr_seats'] = data['Nr. of Seats'].str[0].str.strip('\\n')\n",
    "\n",
    "data.nr_seats.value_counts(dropna = False)"
   ]
  },
  {
   "cell_type": "markdown",
   "metadata": {},
   "source": [
    "## Offer Number"
   ]
  },
  {
   "cell_type": "code",
   "execution_count": 2195,
   "metadata": {},
   "outputs": [
    {
     "ename": "TypeError",
     "evalue": "unhashable type: 'list'",
     "output_type": "error",
     "traceback": [
      "\u001b[0;31m---------------------------------------------------------------------------\u001b[0m",
      "\u001b[0;31mTypeError\u001b[0m                                 Traceback (most recent call last)",
      "\u001b[0;32mpandas/_libs/hashtable_class_helper.pxi\u001b[0m in \u001b[0;36mpandas._libs.hashtable.PyObjectHashTable.map_locations\u001b[0;34m()\u001b[0m\n",
      "\u001b[0;31mTypeError\u001b[0m: unhashable type: 'list'"
     ]
    },
    {
     "name": "stderr",
     "output_type": "stream",
     "text": [
      "Exception ignored in: 'pandas._libs.index.IndexEngine._call_map_locations'\n",
      "Traceback (most recent call last):\n",
      "  File \"pandas/_libs/hashtable_class_helper.pxi\", line 1652, in pandas._libs.hashtable.PyObjectHashTable.map_locations\n",
      "TypeError: unhashable type: 'list'\n"
     ]
    },
    {
     "data": {
      "text/plain": [
       "NaN                       3175\n",
       "[\\nXJ38068\\n]               27\n",
       "[\\nHM53619\\n]               27\n",
       "[\\nLT67679\\n]               27\n",
       "[\\nJV03654\\n]               27\n",
       "                          ... \n",
       "[\\nE84_474_6130_158\\n]       1\n",
       "[\\n101\\n]                    1\n",
       "[\\n418394\\n]                 1\n",
       "[\\nrv290009\\n]               1\n",
       "[\\nG02394\\n]                 1\n",
       "Name: Offer Number, Length: 11441, dtype: int64"
      ]
     },
     "execution_count": 2195,
     "metadata": {},
     "output_type": "execute_result"
    }
   ],
   "source": [
    "data['Offer Number'].value_counts(dropna = False)"
   ]
  },
  {
   "cell_type": "code",
   "execution_count": 2196,
   "metadata": {},
   "outputs": [],
   "source": [
    "data.drop('Offer Number', axis=1, inplace=True)"
   ]
  },
  {
   "cell_type": "markdown",
   "metadata": {},
   "source": [
    "## Type"
   ]
  },
  {
   "cell_type": "code",
   "execution_count": 2197,
   "metadata": {},
   "outputs": [
    {
     "data": {
      "text/plain": [
       "0.012563603241409635"
      ]
     },
     "execution_count": 2197,
     "metadata": {},
     "output_type": "execute_result"
    }
   ],
   "source": [
    "data.Type.isnull().sum()/ data.Type.shape[0]*100"
   ]
  },
  {
   "cell_type": "code",
   "execution_count": 2198,
   "metadata": {},
   "outputs": [
    {
     "data": {
      "text/plain": [
       "Used              11096\n",
       "New                1650\n",
       "Pre-registered     1364\n",
       "Employee's car     1011\n",
       "Demonstration       796\n",
       "NaN                   2\n",
       "Name: Type, dtype: int64"
      ]
     },
     "execution_count": 2198,
     "metadata": {},
     "output_type": "execute_result"
    }
   ],
   "source": [
    "data.Type.str[1].value_counts(dropna = False)"
   ]
  },
  {
   "cell_type": "code",
   "execution_count": 2199,
   "metadata": {},
   "outputs": [
    {
     "data": {
      "text/plain": [
       "Used              11096\n",
       "New                1650\n",
       "Pre-registered     1364\n",
       "Employee's car     1011\n",
       "Demonstration       796\n",
       "NaN                   2\n",
       "Name: Type, dtype: int64"
      ]
     },
     "execution_count": 2199,
     "metadata": {},
     "output_type": "execute_result"
    }
   ],
   "source": [
    "data.Type = data['Type'].str[1]\n",
    "\n",
    "data.Type.value_counts(dropna = False)"
   ]
  },
  {
   "cell_type": "markdown",
   "metadata": {},
   "source": [
    "## Upholstery"
   ]
  },
  {
   "cell_type": "code",
   "execution_count": 2200,
   "metadata": {},
   "outputs": [
    {
     "data": {
      "text/plain": [
       "23.368302029021923"
      ]
     },
     "execution_count": 2200,
     "metadata": {},
     "output_type": "execute_result"
    }
   ],
   "source": [
    "data.Upholstery.isnull().sum()/ data.Upholstery.shape[0]*100"
   ]
  },
  {
   "cell_type": "code",
   "execution_count": 2201,
   "metadata": {},
   "outputs": [
    {
     "ename": "TypeError",
     "evalue": "unhashable type: 'list'",
     "output_type": "error",
     "traceback": [
      "\u001b[0;31m---------------------------------------------------------------------------\u001b[0m",
      "\u001b[0;31mTypeError\u001b[0m                                 Traceback (most recent call last)",
      "\u001b[0;32mpandas/_libs/hashtable_class_helper.pxi\u001b[0m in \u001b[0;36mpandas._libs.hashtable.PyObjectHashTable.map_locations\u001b[0;34m()\u001b[0m\n",
      "\u001b[0;31mTypeError\u001b[0m: unhashable type: 'list'"
     ]
    },
    {
     "name": "stderr",
     "output_type": "stream",
     "text": [
      "Exception ignored in: 'pandas._libs.index.IndexEngine._call_map_locations'\n",
      "Traceback (most recent call last):\n",
      "  File \"pandas/_libs/hashtable_class_helper.pxi\", line 1652, in pandas._libs.hashtable.PyObjectHashTable.map_locations\n",
      "TypeError: unhashable type: 'list'\n"
     ]
    },
    {
     "data": {
      "text/plain": [
       "[\\nCloth, Black\\n]           5821\n",
       "NaN                          3720\n",
       "[\\nPart leather, Black\\n]    1121\n",
       "[\\nCloth\\n]                  1005\n",
       "[\\nCloth, Grey\\n]             891\n",
       "[\\nCloth, Other\\n]            639\n",
       "[\\nFull leather, Black\\n]     575\n",
       "[\\nBlack\\n]                   491\n",
       "[\\nGrey\\n]                    273\n",
       "[\\nOther, Other\\n]            182\n",
       "[\\nPart leather\\n]            140\n",
       "[\\nFull leather\\n]            139\n",
       "[\\nFull leather, Brown\\n]     116\n",
       "[\\nPart leather, Grey\\n]      116\n",
       "[\\nOther, Black\\n]            110\n",
       "[\\nFull leather, Other\\n]      72\n",
       "[\\nFull leather, Grey\\n]       67\n",
       "[\\nPart leather, Other\\n]      65\n",
       "[\\nOther\\n]                    56\n",
       "[\\nPart leather, Brown\\n]      50\n",
       "[\\nalcantara, Black\\n]         47\n",
       "[\\nVelour, Black\\n]            36\n",
       "[\\nFull leather, Beige\\n]      36\n",
       "[\\nCloth, Brown\\n]             28\n",
       "[\\nVelour\\n]                   16\n",
       "[\\nOther, Grey\\n]              15\n",
       "[\\nCloth, Beige\\n]             13\n",
       "[\\nCloth, Blue\\n]              12\n",
       "[\\nBrown\\n]                    12\n",
       "[\\nVelour, Grey\\n]              8\n",
       "[\\nCloth, White\\n]              8\n",
       "[\\nalcantara, Grey\\n]           6\n",
       "[\\nCloth, Red\\n]                5\n",
       "[\\nOther, Yellow\\n]             4\n",
       "[\\nBeige\\n]                     3\n",
       "[\\nPart leather, Red\\n]         3\n",
       "[\\nPart leather, Beige\\n]       2\n",
       "[\\nFull leather, Blue\\n]        2\n",
       "[\\nalcantara\\n]                 2\n",
       "[\\nWhite\\n]                     2\n",
       "[\\nPart leather, White\\n]       2\n",
       "[\\nalcantara, Other\\n]          2\n",
       "[\\nBlue\\n]                      2\n",
       "[\\nOther, Brown\\n]              1\n",
       "[\\nFull leather, Red\\n]         1\n",
       "[\\nFull leather, White\\n]       1\n",
       "[\\nCloth, Orange\\n]             1\n",
       "Name: Upholstery, dtype: int64"
      ]
     },
     "execution_count": 2201,
     "metadata": {},
     "output_type": "execute_result"
    }
   ],
   "source": [
    "data.Upholstery.value_counts(dropna = False)"
   ]
  },
  {
   "cell_type": "code",
   "execution_count": 2202,
   "metadata": {},
   "outputs": [],
   "source": [
    "data.Upholstery = data.Upholstery.str[0].str.strip('\\n')"
   ]
  },
  {
   "cell_type": "code",
   "execution_count": 2203,
   "metadata": {},
   "outputs": [
    {
     "data": {
      "text/plain": [
       "Cloth, Black           5821\n",
       "NaN                    3720\n",
       "Part leather, Black    1121\n",
       "Cloth                  1005\n",
       "Cloth, Grey             891\n",
       "Cloth, Other            639\n",
       "Full leather, Black     575\n",
       "Black                   491\n",
       "Grey                    273\n",
       "Other, Other            182\n",
       "Part leather            140\n",
       "Full leather            139\n",
       "Full leather, Brown     116\n",
       "Part leather, Grey      116\n",
       "Other, Black            110\n",
       "Full leather, Other      72\n",
       "Full leather, Grey       67\n",
       "Part leather, Other      65\n",
       "Other                    56\n",
       "Part leather, Brown      50\n",
       "alcantara, Black         47\n",
       "Velour, Black            36\n",
       "Full leather, Beige      36\n",
       "Cloth, Brown             28\n",
       "Velour                   16\n",
       "Other, Grey              15\n",
       "Cloth, Beige             13\n",
       "Cloth, Blue              12\n",
       "Brown                    12\n",
       "Velour, Grey              8\n",
       "Cloth, White              8\n",
       "alcantara, Grey           6\n",
       "Cloth, Red                5\n",
       "Other, Yellow             4\n",
       "Part leather, Red         3\n",
       "Beige                     3\n",
       "Blue                      2\n",
       "White                     2\n",
       "alcantara, Other          2\n",
       "alcantara                 2\n",
       "Part leather, Beige       2\n",
       "Full leather, Blue        2\n",
       "Part leather, White       2\n",
       "Full leather, White       1\n",
       "Cloth, Orange             1\n",
       "Full leather, Red         1\n",
       "Other, Brown              1\n",
       "Name: Upholstery, dtype: int64"
      ]
     },
     "execution_count": 2203,
     "metadata": {},
     "output_type": "execute_result"
    }
   ],
   "source": [
    "data.Upholstery.value_counts(dropna = False)"
   ]
  },
  {
   "cell_type": "markdown",
   "metadata": {},
   "source": [
    "## Warranty"
   ]
  },
  {
   "cell_type": "code",
   "execution_count": 2204,
   "metadata": {},
   "outputs": [
    {
     "data": {
      "text/plain": [
       "34.047364784220115"
      ]
     },
     "execution_count": 2204,
     "metadata": {},
     "output_type": "execute_result"
    }
   ],
   "source": [
    "data.Warranty.isnull().sum()/ data.Warranty.shape[0]*100"
   ]
  },
  {
   "cell_type": "code",
   "execution_count": 2205,
   "metadata": {},
   "outputs": [
    {
     "ename": "TypeError",
     "evalue": "unhashable type: 'list'",
     "output_type": "error",
     "traceback": [
      "\u001b[0;31m---------------------------------------------------------------------------\u001b[0m",
      "\u001b[0;31mTypeError\u001b[0m                                 Traceback (most recent call last)",
      "\u001b[0;32mpandas/_libs/hashtable_class_helper.pxi\u001b[0m in \u001b[0;36mpandas._libs.hashtable.PyObjectHashTable.map_locations\u001b[0;34m()\u001b[0m\n",
      "\u001b[0;31mTypeError\u001b[0m: unhashable type: 'list'"
     ]
    },
    {
     "name": "stderr",
     "output_type": "stream",
     "text": [
      "Exception ignored in: 'pandas._libs.index.IndexEngine._call_map_locations'\n",
      "Traceback (most recent call last):\n",
      "  File \"pandas/_libs/hashtable_class_helper.pxi\", line 1652, in pandas._libs.hashtable.PyObjectHashTable.map_locations\n",
      "TypeError: unhashable type: 'list'\n"
     ]
    },
    {
     "data": {
      "text/plain": [
       "[\\n, \\n, \\n150 g CO2/km (comb)\\n]                                                                      21\n",
       "[\\n12 months\\n, \\n104 g CO2/km (comb)\\n]                                                               34\n",
       "[\\n, \\n, \\n104 g CO2/km (comb)\\n]                                                                      44\n",
       "\\n12 months\\n                                                                                        1177\n",
       "[\\n24 months\\n, \\n, 6.4 l/100 km (comb), \\n, 8.1 l/100 km (city), \\n, 5.4 l/100 km (country), \\n]       1\n",
       "[\\n6 months\\n, \\n92 g CO2/km (comb)\\n]                                                                  2\n",
       "[\\n12 months\\n, \\n124 g CO2/km (comb)\\n]                                                               33\n",
       "[\\n, \\n, \\n89 g CO2/km (comb)\\n]                                                                        4\n",
       "[\\n48 months\\n, \\n98 g CO2/km (comb)\\n]                                                                 1\n",
       "[\\n60 months\\n, \\nEuro 6c\\n]                                                                            5\n",
       "[\\n12 months\\n, \\nEuro 6\\n]                                                                           425\n",
       "[\\n13 months\\n, \\n104 g CO2/km (comb)\\n]                                                                2\n",
       "[\\n, \\n, \\n158 g CO2/km (comb)\\n]                                                                       2\n",
       "[\\n, \\n, \\n172 g CO2/km (comb)\\n]                                                                      20\n",
       "[\\n36 months\\n, \\n85 g CO2/km (comb)\\n]                                                                 1\n",
       "[\\n6 months\\n, \\n120 g CO2/km (comb)\\n]                                                                 5\n",
       "[\\n60 months\\n, \\n92 g CO2/km (comb)\\n]                                                                 2\n",
       "[\\n60 months\\n, \\n141 g CO2/km (comb)\\n]                                                                6\n",
       "[\\n60 months\\n, \\n110 g CO2/km (comb)\\n]                                                                5\n",
       "[\\n, \\n, \\n145 g CO2/km (comb)\\n]                                                                      20\n",
       "[\\n60 months\\n, \\n143 g CO2/km (comb)\\n]                                                                8\n",
       "[\\n, \\n, \\n138 g CO2/km (comb)\\n]                                                                      16\n",
       "[\\n24 months\\n, \\n116 g CO2/km (comb)\\n]                                                                4\n",
       "[\\n60 months\\n, \\n144 g CO2/km (comb)\\n]                                                                1\n",
       "[\\n, \\n, \\n1 (No sticker)\\n]                                                                           17\n",
       "[\\n12 months\\n, \\n, 5.6 l/100 km (comb), \\n, 7.2 l/100 km (city), \\n, 4.7 l/100 km (country), \\n]       1\n",
       "[\\n60 months\\n, \\n115 g CO2/km (comb)\\n]                                                                2\n",
       "[\\n, \\n, \\n149 g CO2/km (comb)\\n]                                                                       5\n",
       "[\\n15 months\\n, \\n132 g CO2/km (comb)\\n]                                                                1\n",
       "[\\n24 months\\n, \\n111 g CO2/km (comb)\\n]                                                                8\n",
       "[\\n, \\n, \\n147 g CO2/km (comb)\\n]                                                                       8\n",
       "[\\n6 months\\n, \\nEuro 6\\n]                                                                              3\n",
       "\\n18 months\\n                                                                                           3\n",
       "[\\n3 months\\n, \\n85 g CO2/km (comb)\\n]                                                                  1\n",
       "[\\n6 months\\n, \\n140 g CO2/km (comb)\\n]                                                                 3\n",
       "[\\n6 months\\n, \\n85 g CO2/km (comb)\\n]                                                                  2\n",
       "[\\n60 months\\n, \\n, 6.1 l/100 km (comb), \\n, 7.5 l/100 km (city), \\n, 5.3 l/100 km (country), \\n]       5\n",
       "[\\n60 months\\n, \\n145 g CO2/km (comb)\\n]                                                                9\n",
       "[\\n18 months\\n, \\n120 g CO2/km (comb)\\n]                                                                3\n",
       "[\\n, \\n, \\n, 4.9 l/100 km (comb), \\n, 6.2 l/100 km (city), \\n, 4.2 l/100 km (country), \\n]              1\n",
       "Name: Warranty, dtype: int64"
      ]
     },
     "execution_count": 2205,
     "metadata": {},
     "output_type": "execute_result"
    }
   ],
   "source": [
    "data.Warranty.value_counts().sample(40)"
   ]
  },
  {
   "cell_type": "code",
   "execution_count": 2206,
   "metadata": {},
   "outputs": [],
   "source": [
    "warranty_list = [''.join(item).strip() if type(item) == list else item for item in data['Warranty']]"
   ]
  },
  {
   "cell_type": "code",
   "execution_count": 2207,
   "metadata": {},
   "outputs": [],
   "source": [
    "data['warranty_month'] =pd.DataFrame(warranty_list)"
   ]
  },
  {
   "cell_type": "code",
   "execution_count": 2208,
   "metadata": {},
   "outputs": [
    {
     "data": {
      "text/plain": [
       "NaN                                                                              5420\n",
       "Euro 6                                                                           1868\n",
       "\\n12 months\\n                                                                    1177\n",
       "\\n                                                                                979\n",
       "\\n24 months\\n                                                                     566\n",
       "                                                                                 ... \n",
       "60 months\\n\\n148 g CO2/km (comb)                                                    1\n",
       "60 months\\n\\n134 g CO2/km (comb)                                                    1\n",
       "72 months\\n\\n6.1 l/100 km (comb)\\n7.7 l/100 km (city)\\n5.2 l/100 km (country)       1\n",
       "4.9 l/100 km (comb)\\n6.2 l/100 km (city)\\n4.2 l/100 km (country)                    1\n",
       "18 months\\n\\n129 g CO2/km (comb)                                                    1\n",
       "Name: warranty_month, Length: 516, dtype: int64"
      ]
     },
     "execution_count": 2208,
     "metadata": {},
     "output_type": "execute_result"
    }
   ],
   "source": [
    "data['warranty_month'].value_counts(dropna = False)"
   ]
  },
  {
   "cell_type": "markdown",
   "metadata": {},
   "source": [
    "- There are several numeric values in the same line\n",
    "- In order to select months from among the other numeric values, we should use the syntax below.\n",
    "- Firstly, we will select ``\"dd months\"``\n",
    "- Secondly, we replace all chars other than numeric"
   ]
  },
  {
   "cell_type": "code",
   "execution_count": 2209,
   "metadata": {},
   "outputs": [
    {
     "data": {
      "text/html": [
       "<div>\n",
       "<style scoped>\n",
       "    .dataframe tbody tr th:only-of-type {\n",
       "        vertical-align: middle;\n",
       "    }\n",
       "\n",
       "    .dataframe tbody tr th {\n",
       "        vertical-align: top;\n",
       "    }\n",
       "\n",
       "    .dataframe thead th {\n",
       "        text-align: right;\n",
       "    }\n",
       "</style>\n",
       "<table border=\"1\" class=\"dataframe\">\n",
       "  <thead>\n",
       "    <tr style=\"text-align: right;\">\n",
       "      <th></th>\n",
       "      <th>0</th>\n",
       "    </tr>\n",
       "  </thead>\n",
       "  <tbody>\n",
       "    <tr>\n",
       "      <th>0</th>\n",
       "      <td>NaN</td>\n",
       "    </tr>\n",
       "    <tr>\n",
       "      <th>1</th>\n",
       "      <td>NaN</td>\n",
       "    </tr>\n",
       "    <tr>\n",
       "      <th>2</th>\n",
       "      <td>NaN</td>\n",
       "    </tr>\n",
       "    <tr>\n",
       "      <th>3</th>\n",
       "      <td>NaN</td>\n",
       "    </tr>\n",
       "    <tr>\n",
       "      <th>4</th>\n",
       "      <td>NaN</td>\n",
       "    </tr>\n",
       "    <tr>\n",
       "      <th>...</th>\n",
       "      <td>...</td>\n",
       "    </tr>\n",
       "    <tr>\n",
       "      <th>15914</th>\n",
       "      <td>24 months</td>\n",
       "    </tr>\n",
       "    <tr>\n",
       "      <th>15915</th>\n",
       "      <td>NaN</td>\n",
       "    </tr>\n",
       "    <tr>\n",
       "      <th>15916</th>\n",
       "      <td>NaN</td>\n",
       "    </tr>\n",
       "    <tr>\n",
       "      <th>15917</th>\n",
       "      <td>NaN</td>\n",
       "    </tr>\n",
       "    <tr>\n",
       "      <th>15918</th>\n",
       "      <td>NaN</td>\n",
       "    </tr>\n",
       "  </tbody>\n",
       "</table>\n",
       "<p>15919 rows × 1 columns</p>\n",
       "</div>"
      ],
      "text/plain": [
       "               0\n",
       "0            NaN\n",
       "1            NaN\n",
       "2            NaN\n",
       "3            NaN\n",
       "4            NaN\n",
       "...          ...\n",
       "15914  24 months\n",
       "15915        NaN\n",
       "15916        NaN\n",
       "15917        NaN\n",
       "15918        NaN\n",
       "\n",
       "[15919 rows x 1 columns]"
      ]
     },
     "execution_count": 2209,
     "metadata": {},
     "output_type": "execute_result"
    }
   ],
   "source": [
    "data.warranty_month.str.extract(\"(\\d\\d months|\\d months)\")"
   ]
  },
  {
   "cell_type": "code",
   "execution_count": 2210,
   "metadata": {},
   "outputs": [],
   "source": [
    "data[\"warranty_month\"] = data.warranty_month.str.extract(\"(\\d\\d months|\\d months)\")"
   ]
  },
  {
   "cell_type": "code",
   "execution_count": 2211,
   "metadata": {},
   "outputs": [
    {
     "data": {
      "text/plain": [
       "NaN          11066\n",
       "12 months     2594\n",
       "24 months     1118\n",
       "60 months      401\n",
       "36 months      279\n",
       "48 months      149\n",
       "6 months       125\n",
       "72 months       59\n",
       "3 months        33\n",
       "23 months       11\n",
       "18 months       10\n",
       "20 months        7\n",
       "25 months        6\n",
       "2 months         5\n",
       "26 months        4\n",
       "16 months        4\n",
       "50 months        4\n",
       "1 months         3\n",
       "34 months        3\n",
       "19 months        3\n",
       "13 months        3\n",
       "4 months         3\n",
       "46 months        2\n",
       "28 months        2\n",
       "45 months        2\n",
       "17 months        2\n",
       "21 months        2\n",
       "22 months        2\n",
       "14 months        2\n",
       "9 months         2\n",
       "11 months        2\n",
       "40 months        1\n",
       "15 months        1\n",
       "56 months        1\n",
       "47 months        1\n",
       "49 months        1\n",
       "8 months         1\n",
       "7 months         1\n",
       "30 months        1\n",
       "33 months        1\n",
       "65 months        1\n",
       "10 months        1\n",
       "Name: warranty_month, dtype: int64"
      ]
     },
     "execution_count": 2211,
     "metadata": {},
     "output_type": "execute_result"
    }
   ],
   "source": [
    "data.warranty_month.value_counts(dropna = False)"
   ]
  },
  {
   "cell_type": "code",
   "execution_count": 2212,
   "metadata": {},
   "outputs": [],
   "source": [
    "data.drop(['Warranty', 'warranty_month'], axis = 1, inplace = True)"
   ]
  },
  {
   "cell_type": "code",
   "execution_count": 2213,
   "metadata": {},
   "outputs": [
    {
     "data": {
      "text/html": [
       "<div>\n",
       "<style scoped>\n",
       "    .dataframe tbody tr th:only-of-type {\n",
       "        vertical-align: middle;\n",
       "    }\n",
       "\n",
       "    .dataframe tbody tr th {\n",
       "        vertical-align: top;\n",
       "    }\n",
       "\n",
       "    .dataframe thead th {\n",
       "        text-align: right;\n",
       "    }\n",
       "</style>\n",
       "<table border=\"1\" class=\"dataframe\">\n",
       "  <thead>\n",
       "    <tr style=\"text-align: right;\">\n",
       "      <th></th>\n",
       "      <th>url</th>\n",
       "      <th>make_model</th>\n",
       "      <th>short_description</th>\n",
       "      <th>body_type</th>\n",
       "      <th>price</th>\n",
       "      <th>vat</th>\n",
       "      <th>km</th>\n",
       "      <th>registration</th>\n",
       "      <th>hp</th>\n",
       "      <th>Type</th>\n",
       "      <th>Previous Owners</th>\n",
       "      <th>Next Inspection</th>\n",
       "      <th>Inspection new</th>\n",
       "      <th>null</th>\n",
       "      <th>Make</th>\n",
       "      <th>Model</th>\n",
       "      <th>First Registration</th>\n",
       "      <th>Body Color</th>\n",
       "      <th>Paint Type</th>\n",
       "      <th>Upholstery</th>\n",
       "      <th>Nr. of Doors</th>\n",
       "      <th>Nr. of Seats</th>\n",
       "      <th>Gearing Type</th>\n",
       "      <th>Displacement</th>\n",
       "      <th>Cylinders</th>\n",
       "      <th>Drive chain</th>\n",
       "      <th>Fuel</th>\n",
       "      <th>Consumption</th>\n",
       "      <th>CO2 Emission</th>\n",
       "      <th>Emission Class</th>\n",
       "      <th>\\nComfort &amp; Convenience\\n</th>\n",
       "      <th>\\nEntertainment &amp; Media\\n</th>\n",
       "      <th>\\nExtras\\n</th>\n",
       "      <th>\\nSafety &amp; Security\\n</th>\n",
       "      <th>description</th>\n",
       "      <th>Emission Label</th>\n",
       "      <th>Gears</th>\n",
       "      <th>Country version</th>\n",
       "      <th>Previous_Owner1</th>\n",
       "      <th>Previous_Owner</th>\n",
       "      <th>Inspection_New_Bool</th>\n",
       "      <th>next_inspection</th>\n",
       "      <th>paint_type</th>\n",
       "      <th>country</th>\n",
       "      <th>emission_label</th>\n",
       "      <th>Comfort&amp;Convenience</th>\n",
       "      <th>cc_Air conditioning</th>\n",
       "      <th>cc_Air suspension</th>\n",
       "      <th>cc_Armrest</th>\n",
       "      <th>cc_Automatic climate control</th>\n",
       "      <th>cc_Auxiliary heating</th>\n",
       "      <th>cc_Cruise control</th>\n",
       "      <th>cc_Electric Starter</th>\n",
       "      <th>cc_Electric tailgate</th>\n",
       "      <th>cc_Electrical side mirrors</th>\n",
       "      <th>cc_Electrically adjustable seats</th>\n",
       "      <th>cc_Electrically heated windshield</th>\n",
       "      <th>cc_Heads-up display</th>\n",
       "      <th>cc_Heated steering wheel</th>\n",
       "      <th>cc_Hill Holder</th>\n",
       "      <th>cc_Keyless central door lock</th>\n",
       "      <th>cc_Leather seats</th>\n",
       "      <th>cc_Leather steering wheel</th>\n",
       "      <th>cc_Light sensor</th>\n",
       "      <th>cc_Lumbar support</th>\n",
       "      <th>cc_Massage seats</th>\n",
       "      <th>cc_Multi-function steering wheel</th>\n",
       "      <th>cc_Navigation system</th>\n",
       "      <th>cc_Panorama roof</th>\n",
       "      <th>cc_Park Distance Control</th>\n",
       "      <th>cc_Parking assist system camera</th>\n",
       "      <th>cc_Parking assist system self-steering</th>\n",
       "      <th>cc_Parking assist system sensors front</th>\n",
       "      <th>cc_Parking assist system sensors rear</th>\n",
       "      <th>cc_Power windows</th>\n",
       "      <th>cc_Rain sensor</th>\n",
       "      <th>cc_Seat heating</th>\n",
       "      <th>cc_Seat ventilation</th>\n",
       "      <th>cc_Split rear seats</th>\n",
       "      <th>cc_Start-stop system</th>\n",
       "      <th>cc_Sunroof</th>\n",
       "      <th>cc_Tinted windows</th>\n",
       "      <th>cc_Wind deflector</th>\n",
       "      <th>cc_Windshield</th>\n",
       "      <th>Entertainment&amp;Media</th>\n",
       "      <th>em_Bluetooth</th>\n",
       "      <th>em_CD player</th>\n",
       "      <th>em_Digital radio</th>\n",
       "      <th>em_Hands-free equipment</th>\n",
       "      <th>em_MP3</th>\n",
       "      <th>em_On-board computer</th>\n",
       "      <th>em_Radio</th>\n",
       "      <th>em_Sound system</th>\n",
       "      <th>em_Television</th>\n",
       "      <th>em_USB</th>\n",
       "      <th>extra</th>\n",
       "      <th>ex_Alloy wheels</th>\n",
       "      <th>ex_Cab or rented Car</th>\n",
       "      <th>ex_Catalytic Converter</th>\n",
       "      <th>ex_Handicapped enabled</th>\n",
       "      <th>ex_Right hand drive</th>\n",
       "      <th>ex_Roof rack</th>\n",
       "      <th>ex_Shift paddles</th>\n",
       "      <th>ex_Ski bag</th>\n",
       "      <th>ex_Sliding door</th>\n",
       "      <th>ex_Sport package</th>\n",
       "      <th>ex_Sport seats</th>\n",
       "      <th>ex_Sport suspension</th>\n",
       "      <th>ex_Touch screen</th>\n",
       "      <th>ex_Trailer hitch</th>\n",
       "      <th>ex_Tuned car</th>\n",
       "      <th>ex_Voice Control</th>\n",
       "      <th>ex_Winter tyres</th>\n",
       "      <th>Safe&amp;Security</th>\n",
       "      <th>ss_ABS</th>\n",
       "      <th>ss_Adaptive Cruise Control</th>\n",
       "      <th>ss_Adaptive headlights</th>\n",
       "      <th>ss_Alarm system</th>\n",
       "      <th>ss_Blind spot monitor</th>\n",
       "      <th>ss_Central door lock</th>\n",
       "      <th>ss_Central door lock with remote control</th>\n",
       "      <th>ss_Daytime running lights</th>\n",
       "      <th>ss_Driver drowsiness detection</th>\n",
       "      <th>ss_Driver-side airbag</th>\n",
       "      <th>ss_Electronic stability control</th>\n",
       "      <th>ss_Emergency brake assistant</th>\n",
       "      <th>ss_Emergency system</th>\n",
       "      <th>ss_Fog lights</th>\n",
       "      <th>ss_Head airbag</th>\n",
       "      <th>ss_Immobilizer</th>\n",
       "      <th>ss_Isofix</th>\n",
       "      <th>ss_LED Daytime Running Lights</th>\n",
       "      <th>ss_LED Headlights</th>\n",
       "      <th>ss_Lane departure warning system</th>\n",
       "      <th>ss_Night view assist</th>\n",
       "      <th>ss_Passenger-side airbag</th>\n",
       "      <th>ss_Power steering</th>\n",
       "      <th>ss_Rear airbag</th>\n",
       "      <th>ss_Side airbag</th>\n",
       "      <th>ss_Tire pressure monitoring system</th>\n",
       "      <th>ss_Traction control</th>\n",
       "      <th>ss_Traffic sign recognition</th>\n",
       "      <th>ss_Xenon headlights</th>\n",
       "      <th>consumption_comb</th>\n",
       "      <th>gear_type</th>\n",
       "      <th>drive_chain</th>\n",
       "      <th>Body_Color</th>\n",
       "      <th>CO2_Emission</th>\n",
       "      <th>Displacement_cc</th>\n",
       "      <th>Emission_Class</th>\n",
       "      <th>register_age</th>\n",
       "      <th>fuel_new</th>\n",
       "      <th>nr_doors</th>\n",
       "      <th>nr_seats</th>\n",
       "    </tr>\n",
       "  </thead>\n",
       "  <tbody>\n",
       "    <tr>\n",
       "      <th>0</th>\n",
       "      <td>https://www.autoscout24.com//offers/audi-a1-sportback-1-4-tdi-s-tronic-xenon-navi-klima-diesel-black-bdab349a-caa5-41b0-98eb-c1345b84445e</td>\n",
       "      <td>Audi A1</td>\n",
       "      <td>Sportback 1.4 TDI S-tronic Xenon Navi Klima</td>\n",
       "      <td>Sedans</td>\n",
       "      <td>15770</td>\n",
       "      <td>VAT deductible</td>\n",
       "      <td>56,013 km</td>\n",
       "      <td>01/2016</td>\n",
       "      <td>66 kW</td>\n",
       "      <td>Used</td>\n",
       "      <td>\\n2\\n</td>\n",
       "      <td>[\\n06/2021\\n, \\n99 g CO2/km (comb)\\n]</td>\n",
       "      <td>[\\nYes\\n, \\nEuro 6\\n]</td>\n",
       "      <td>[]</td>\n",
       "      <td>Audi</td>\n",
       "      <td>A1</td>\n",
       "      <td>[\\n, 2016, \\n]</td>\n",
       "      <td>[\\n, Black, \\n]</td>\n",
       "      <td>[\\nMetallic\\n]</td>\n",
       "      <td>Cloth, Black</td>\n",
       "      <td>[\\n5\\n]</td>\n",
       "      <td>[\\n5\\n]</td>\n",
       "      <td>[\\n, Automatic, \\n]</td>\n",
       "      <td>[\\n1,422 cc\\n]</td>\n",
       "      <td>3</td>\n",
       "      <td>[\\nfront\\n]</td>\n",
       "      <td>[\\n, Diesel (Particulate Filter), \\n]</td>\n",
       "      <td>[[3.8 l/100 km (comb)], [4.3 l/100 km (city)], [3.5 l/100 km (country)]]</td>\n",
       "      <td>[\\n99 g CO2/km (comb)\\n]</td>\n",
       "      <td>[\\nEuro 6\\n]</td>\n",
       "      <td>[Air conditioning, Armrest, Automatic climate control, Cruise control, Electrical side mirrors, Hill Holder, Leather steering wheel, Light sensor, Multi-function steering wheel, Navigation system, Park Distance Control, Parking assist system sensors rear, Power windows, Rain sensor, Seat heating, Start-stop system]</td>\n",
       "      <td>[Bluetooth, Hands-free equipment, On-board computer, Radio]</td>\n",
       "      <td>[Alloy wheels, Catalytic Converter, Voice Control]</td>\n",
       "      <td>[ABS, Central door lock, Daytime running lights, Driver-side airbag, Electronic stability control, Fog lights, Immobilizer, Isofix, Passenger-side airbag, Power steering, Side airbag, Tire pressure monitoring system, Traction control, Xenon headlights]</td>\n",
       "      <td>[\\n, Sicherheit:,  , Deaktivierung für Beifahrer-Airbag,  , ESC mit elektronischer Quersperre,  , Tagfahrlicht,  , Reifendruck-Kontrollanzeige,  , Kopfairbag-System mit Seiten-Airbags vorn,  , Sicherheitslenksäule, Assistenzsysteme:,  , Berganfahrassistent, Komfort:,  , Scheinwerferreinigung,  , Xenon plus inklusive Scheinwerfer-Reinigungsanlage,  , Scheinwerfer-Reinigungsanlage,  , Einparkhilfe hinten,  , Licht-/Regensensor,  , Funkfernbedienung,  , Elektrische Luftzusatzheizung, Interieur:...</td>\n",
       "      <td>NaN</td>\n",
       "      <td>NaN</td>\n",
       "      <td>NaN</td>\n",
       "      <td>NaN</td>\n",
       "      <td>2</td>\n",
       "      <td>1</td>\n",
       "      <td>2021-06-01</td>\n",
       "      <td>Metallic</td>\n",
       "      <td>NaN</td>\n",
       "      <td>NaN</td>\n",
       "      <td>Air conditioning,Armrest,Automatic climate control,Cruise control,Electrical side mirrors,Hill Holder,Leather steering wheel,Light sensor,Multi-function steering wheel,Navigation system,Park Distance Control,Parking assist system sensors rear,Power windows,Rain sensor,Seat heating,Start-stop system</td>\n",
       "      <td>1</td>\n",
       "      <td>0</td>\n",
       "      <td>1</td>\n",
       "      <td>1</td>\n",
       "      <td>0</td>\n",
       "      <td>1</td>\n",
       "      <td>0</td>\n",
       "      <td>0</td>\n",
       "      <td>1</td>\n",
       "      <td>0</td>\n",
       "      <td>0</td>\n",
       "      <td>0</td>\n",
       "      <td>0</td>\n",
       "      <td>1</td>\n",
       "      <td>0</td>\n",
       "      <td>0</td>\n",
       "      <td>1</td>\n",
       "      <td>1</td>\n",
       "      <td>0</td>\n",
       "      <td>0</td>\n",
       "      <td>1</td>\n",
       "      <td>1</td>\n",
       "      <td>0</td>\n",
       "      <td>1</td>\n",
       "      <td>0</td>\n",
       "      <td>0</td>\n",
       "      <td>0</td>\n",
       "      <td>1</td>\n",
       "      <td>1</td>\n",
       "      <td>1</td>\n",
       "      <td>1</td>\n",
       "      <td>0</td>\n",
       "      <td>0</td>\n",
       "      <td>1</td>\n",
       "      <td>0</td>\n",
       "      <td>0</td>\n",
       "      <td>0</td>\n",
       "      <td>0</td>\n",
       "      <td>Bluetooth,Hands-free equipment,On-board computer,Radio</td>\n",
       "      <td>1</td>\n",
       "      <td>0</td>\n",
       "      <td>0</td>\n",
       "      <td>1</td>\n",
       "      <td>0</td>\n",
       "      <td>1</td>\n",
       "      <td>1</td>\n",
       "      <td>0</td>\n",
       "      <td>0</td>\n",
       "      <td>0</td>\n",
       "      <td>Alloy wheels,Catalytic Converter,Voice Control</td>\n",
       "      <td>1</td>\n",
       "      <td>0</td>\n",
       "      <td>1</td>\n",
       "      <td>0</td>\n",
       "      <td>0</td>\n",
       "      <td>0</td>\n",
       "      <td>0</td>\n",
       "      <td>0</td>\n",
       "      <td>0</td>\n",
       "      <td>0</td>\n",
       "      <td>0</td>\n",
       "      <td>0</td>\n",
       "      <td>0</td>\n",
       "      <td>0</td>\n",
       "      <td>0</td>\n",
       "      <td>1</td>\n",
       "      <td>0</td>\n",
       "      <td>ABS,Central door lock,Daytime running lights,Driver-side airbag,Electronic stability control,Fog lights,Immobilizer,Isofix,Passenger-side airbag,Power steering,Side airbag,Tire pressure monitoring system,Traction control,Xenon headlights</td>\n",
       "      <td>1</td>\n",
       "      <td>0</td>\n",
       "      <td>0</td>\n",
       "      <td>0</td>\n",
       "      <td>0</td>\n",
       "      <td>1</td>\n",
       "      <td>0</td>\n",
       "      <td>1</td>\n",
       "      <td>0</td>\n",
       "      <td>1</td>\n",
       "      <td>1</td>\n",
       "      <td>0</td>\n",
       "      <td>0</td>\n",
       "      <td>1</td>\n",
       "      <td>0</td>\n",
       "      <td>1</td>\n",
       "      <td>1</td>\n",
       "      <td>0</td>\n",
       "      <td>0</td>\n",
       "      <td>0</td>\n",
       "      <td>0</td>\n",
       "      <td>1</td>\n",
       "      <td>1</td>\n",
       "      <td>0</td>\n",
       "      <td>1</td>\n",
       "      <td>1</td>\n",
       "      <td>1</td>\n",
       "      <td>0</td>\n",
       "      <td>1</td>\n",
       "      <td>3.8</td>\n",
       "      <td>Automatic</td>\n",
       "      <td>front</td>\n",
       "      <td>Black</td>\n",
       "      <td>99</td>\n",
       "      <td>1422.0</td>\n",
       "      <td>Euro 6</td>\n",
       "      <td>4.0</td>\n",
       "      <td>Diesel</td>\n",
       "      <td>5</td>\n",
       "      <td>5</td>\n",
       "    </tr>\n",
       "    <tr>\n",
       "      <th>1</th>\n",
       "      <td>https://www.autoscout24.com//offers/audi-a1-1-8-tfsi-sport-gasoline-red-b2547f8a-e83f-6237-e053-e250040a56df</td>\n",
       "      <td>Audi A1</td>\n",
       "      <td>1.8 TFSI sport</td>\n",
       "      <td>Sedans</td>\n",
       "      <td>14500</td>\n",
       "      <td>Price negotiable</td>\n",
       "      <td>80,000 km</td>\n",
       "      <td>03/2017</td>\n",
       "      <td>141 kW</td>\n",
       "      <td>Used</td>\n",
       "      <td>NaN</td>\n",
       "      <td>NaN</td>\n",
       "      <td>NaN</td>\n",
       "      <td>[]</td>\n",
       "      <td>Audi</td>\n",
       "      <td>A1</td>\n",
       "      <td>[\\n, 2017, \\n]</td>\n",
       "      <td>[\\n, Red, \\n]</td>\n",
       "      <td>NaN</td>\n",
       "      <td>Cloth, Grey</td>\n",
       "      <td>[\\n3\\n]</td>\n",
       "      <td>[\\n4\\n]</td>\n",
       "      <td>[\\n, Automatic, \\n]</td>\n",
       "      <td>[\\n1,798 cc\\n]</td>\n",
       "      <td>4</td>\n",
       "      <td>[\\nfront\\n]</td>\n",
       "      <td>[\\n, Gasoline, \\n]</td>\n",
       "      <td>[[5.6 l/100 km (comb)], [7.1 l/100 km (city)], [4.7 l/100 km (country)]]</td>\n",
       "      <td>[\\n129 g CO2/km (comb)\\n]</td>\n",
       "      <td>[\\nEuro 6\\n]</td>\n",
       "      <td>[Air conditioning, Automatic climate control, Hill Holder, Leather steering wheel, Lumbar support, Parking assist system sensors rear, Power windows, Start-stop system, Tinted windows]</td>\n",
       "      <td>[Bluetooth, Hands-free equipment, On-board computer, Radio, Sound system]</td>\n",
       "      <td>[Alloy wheels, Sport seats, Sport suspension, Voice Control]</td>\n",
       "      <td>[ABS, Central door lock, Central door lock with remote control, Daytime running lights, Driver-side airbag, Electronic stability control, Head airbag, Immobilizer, Isofix, Passenger-side airbag, Power steering, Side airbag, Tire pressure monitoring system, Traction control, Xenon headlights]</td>\n",
       "      <td>[\\nLangstreckenfahrzeug daher die hohe Kilometerleistung. , Bremsen neu bei 62000 km. , Gut gepflegter A1\\n]</td>\n",
       "      <td>[\\n4 (Green)\\n]</td>\n",
       "      <td>7</td>\n",
       "      <td>NaN</td>\n",
       "      <td>NaN</td>\n",
       "      <td>1</td>\n",
       "      <td>0</td>\n",
       "      <td>NaT</td>\n",
       "      <td>NaN</td>\n",
       "      <td>NaN</td>\n",
       "      <td>4 (Green)</td>\n",
       "      <td>Air conditioning,Automatic climate control,Hill Holder,Leather steering wheel,Lumbar support,Parking assist system sensors rear,Power windows,Start-stop system,Tinted windows</td>\n",
       "      <td>1</td>\n",
       "      <td>0</td>\n",
       "      <td>0</td>\n",
       "      <td>1</td>\n",
       "      <td>0</td>\n",
       "      <td>0</td>\n",
       "      <td>0</td>\n",
       "      <td>0</td>\n",
       "      <td>0</td>\n",
       "      <td>0</td>\n",
       "      <td>0</td>\n",
       "      <td>0</td>\n",
       "      <td>0</td>\n",
       "      <td>1</td>\n",
       "      <td>0</td>\n",
       "      <td>0</td>\n",
       "      <td>1</td>\n",
       "      <td>0</td>\n",
       "      <td>1</td>\n",
       "      <td>0</td>\n",
       "      <td>0</td>\n",
       "      <td>0</td>\n",
       "      <td>0</td>\n",
       "      <td>0</td>\n",
       "      <td>0</td>\n",
       "      <td>0</td>\n",
       "      <td>0</td>\n",
       "      <td>1</td>\n",
       "      <td>1</td>\n",
       "      <td>0</td>\n",
       "      <td>0</td>\n",
       "      <td>0</td>\n",
       "      <td>0</td>\n",
       "      <td>1</td>\n",
       "      <td>0</td>\n",
       "      <td>1</td>\n",
       "      <td>0</td>\n",
       "      <td>0</td>\n",
       "      <td>Bluetooth,Hands-free equipment,On-board computer,Radio,Sound system</td>\n",
       "      <td>1</td>\n",
       "      <td>0</td>\n",
       "      <td>0</td>\n",
       "      <td>1</td>\n",
       "      <td>0</td>\n",
       "      <td>1</td>\n",
       "      <td>1</td>\n",
       "      <td>1</td>\n",
       "      <td>0</td>\n",
       "      <td>0</td>\n",
       "      <td>Alloy wheels,Sport seats,Sport suspension,Voice Control</td>\n",
       "      <td>1</td>\n",
       "      <td>0</td>\n",
       "      <td>0</td>\n",
       "      <td>0</td>\n",
       "      <td>0</td>\n",
       "      <td>0</td>\n",
       "      <td>0</td>\n",
       "      <td>0</td>\n",
       "      <td>0</td>\n",
       "      <td>0</td>\n",
       "      <td>1</td>\n",
       "      <td>1</td>\n",
       "      <td>0</td>\n",
       "      <td>0</td>\n",
       "      <td>0</td>\n",
       "      <td>1</td>\n",
       "      <td>0</td>\n",
       "      <td>ABS,Central door lock,Central door lock with remote control,Daytime running lights,Driver-side airbag,Electronic stability control,Head airbag,Immobilizer,Isofix,Passenger-side airbag,Power steering,Side airbag,Tire pressure monitoring system,Traction control,Xenon headlights</td>\n",
       "      <td>1</td>\n",
       "      <td>0</td>\n",
       "      <td>0</td>\n",
       "      <td>0</td>\n",
       "      <td>0</td>\n",
       "      <td>1</td>\n",
       "      <td>1</td>\n",
       "      <td>1</td>\n",
       "      <td>0</td>\n",
       "      <td>1</td>\n",
       "      <td>1</td>\n",
       "      <td>0</td>\n",
       "      <td>0</td>\n",
       "      <td>0</td>\n",
       "      <td>1</td>\n",
       "      <td>1</td>\n",
       "      <td>1</td>\n",
       "      <td>0</td>\n",
       "      <td>0</td>\n",
       "      <td>0</td>\n",
       "      <td>0</td>\n",
       "      <td>1</td>\n",
       "      <td>1</td>\n",
       "      <td>0</td>\n",
       "      <td>1</td>\n",
       "      <td>1</td>\n",
       "      <td>1</td>\n",
       "      <td>0</td>\n",
       "      <td>1</td>\n",
       "      <td>5.6</td>\n",
       "      <td>Automatic</td>\n",
       "      <td>front</td>\n",
       "      <td>Red</td>\n",
       "      <td>129</td>\n",
       "      <td>1798.0</td>\n",
       "      <td>Euro 6</td>\n",
       "      <td>3.0</td>\n",
       "      <td>Gassoline</td>\n",
       "      <td>3</td>\n",
       "      <td>4</td>\n",
       "    </tr>\n",
       "  </tbody>\n",
       "</table>\n",
       "</div>"
      ],
      "text/plain": [
       "                                                                                                                                         url make_model                            short_description body_type  price               vat         km registration      hp  Type Previous Owners                        Next Inspection         Inspection new null  Make Model First Registration       Body Color      Paint Type    Upholstery Nr. of Doors Nr. of Seats         Gearing Type    Displacement Cylinders  Drive chain                                   Fuel                                                               Consumption               CO2 Emission Emission Class                                                                                                                                                                                                                                                                                                     \\nComfort & Convenience\\n                                                  \\nEntertainment & Media\\n                                                    \\nExtras\\n                                                                                                                                                                                                                                                                                 \\nSafety & Security\\n                                                                                                                                                                                                                                                                                                                                                                                                                                                                                                          description   Emission Label Gears Country version Previous_Owner1 Previous_Owner  \\\n",
       "0  https://www.autoscout24.com//offers/audi-a1-sportback-1-4-tdi-s-tronic-xenon-navi-klima-diesel-black-bdab349a-caa5-41b0-98eb-c1345b84445e    Audi A1  Sportback 1.4 TDI S-tronic Xenon Navi Klima    Sedans  15770    VAT deductible  56,013 km      01/2016   66 kW  Used           \\n2\\n  [\\n06/2021\\n, \\n99 g CO2/km (comb)\\n]  [\\nYes\\n, \\nEuro 6\\n]   []  Audi    A1     [\\n, 2016, \\n]  [\\n, Black, \\n]  [\\nMetallic\\n]  Cloth, Black      [\\n5\\n]      [\\n5\\n]  [\\n, Automatic, \\n]  [\\n1,422 cc\\n]         3  [\\nfront\\n]  [\\n, Diesel (Particulate Filter), \\n]  [[3.8 l/100 km (comb)], [4.3 l/100 km (city)], [3.5 l/100 km (country)]]   [\\n99 g CO2/km (comb)\\n]   [\\nEuro 6\\n]  [Air conditioning, Armrest, Automatic climate control, Cruise control, Electrical side mirrors, Hill Holder, Leather steering wheel, Light sensor, Multi-function steering wheel, Navigation system, Park Distance Control, Parking assist system sensors rear, Power windows, Rain sensor, Seat heating, Start-stop system]                [Bluetooth, Hands-free equipment, On-board computer, Radio]            [Alloy wheels, Catalytic Converter, Voice Control]                                          [ABS, Central door lock, Daytime running lights, Driver-side airbag, Electronic stability control, Fog lights, Immobilizer, Isofix, Passenger-side airbag, Power steering, Side airbag, Tire pressure monitoring system, Traction control, Xenon headlights]  [\\n, Sicherheit:,  , Deaktivierung für Beifahrer-Airbag,  , ESC mit elektronischer Quersperre,  , Tagfahrlicht,  , Reifendruck-Kontrollanzeige,  , Kopfairbag-System mit Seiten-Airbags vorn,  , Sicherheitslenksäule, Assistenzsysteme:,  , Berganfahrassistent, Komfort:,  , Scheinwerferreinigung,  , Xenon plus inklusive Scheinwerfer-Reinigungsanlage,  , Scheinwerfer-Reinigungsanlage,  , Einparkhilfe hinten,  , Licht-/Regensensor,  , Funkfernbedienung,  , Elektrische Luftzusatzheizung, Interieur:...              NaN   NaN             NaN             NaN              2   \n",
       "1                               https://www.autoscout24.com//offers/audi-a1-1-8-tfsi-sport-gasoline-red-b2547f8a-e83f-6237-e053-e250040a56df    Audi A1                               1.8 TFSI sport    Sedans  14500  Price negotiable  80,000 km      03/2017  141 kW  Used             NaN                                    NaN                    NaN   []  Audi    A1     [\\n, 2017, \\n]    [\\n, Red, \\n]             NaN   Cloth, Grey      [\\n3\\n]      [\\n4\\n]  [\\n, Automatic, \\n]  [\\n1,798 cc\\n]         4  [\\nfront\\n]                     [\\n, Gasoline, \\n]  [[5.6 l/100 km (comb)], [7.1 l/100 km (city)], [4.7 l/100 km (country)]]  [\\n129 g CO2/km (comb)\\n]   [\\nEuro 6\\n]                                                                                                                                      [Air conditioning, Automatic climate control, Hill Holder, Leather steering wheel, Lumbar support, Parking assist system sensors rear, Power windows, Start-stop system, Tinted windows]  [Bluetooth, Hands-free equipment, On-board computer, Radio, Sound system]  [Alloy wheels, Sport seats, Sport suspension, Voice Control]  [ABS, Central door lock, Central door lock with remote control, Daytime running lights, Driver-side airbag, Electronic stability control, Head airbag, Immobilizer, Isofix, Passenger-side airbag, Power steering, Side airbag, Tire pressure monitoring system, Traction control, Xenon headlights]                                                                                                                                                                                                                                                                                                                                                                                                         [\\nLangstreckenfahrzeug daher die hohe Kilometerleistung. , Bremsen neu bei 62000 km. , Gut gepflegter A1\\n]  [\\n4 (Green)\\n]     7             NaN             NaN              1   \n",
       "\n",
       "   Inspection_New_Bool next_inspection paint_type country emission_label                                                                                                                                                                                                                                                                                          Comfort&Convenience  cc_Air conditioning  cc_Air suspension  cc_Armrest  cc_Automatic climate control  cc_Auxiliary heating  cc_Cruise control  cc_Electric Starter  cc_Electric tailgate  cc_Electrical side mirrors  cc_Electrically adjustable seats  cc_Electrically heated windshield  cc_Heads-up display  cc_Heated steering wheel  cc_Hill Holder  cc_Keyless central door lock  cc_Leather seats  cc_Leather steering wheel  cc_Light sensor  cc_Lumbar support  cc_Massage seats  cc_Multi-function steering wheel  cc_Navigation system  cc_Panorama roof  cc_Park Distance Control  cc_Parking assist system camera  cc_Parking assist system self-steering  cc_Parking assist system sensors front  cc_Parking assist system sensors rear  cc_Power windows  cc_Rain sensor  cc_Seat heating  cc_Seat ventilation  cc_Split rear seats  cc_Start-stop system  cc_Sunroof  cc_Tinted windows  cc_Wind deflector  cc_Windshield                                                  Entertainment&Media  em_Bluetooth  em_CD player  em_Digital radio  em_Hands-free equipment  em_MP3  em_On-board computer  em_Radio  em_Sound system  em_Television  em_USB                                                    extra  ex_Alloy wheels  ex_Cab or rented Car  ex_Catalytic Converter  ex_Handicapped enabled  ex_Right hand drive  ex_Roof rack  ex_Shift paddles  ex_Ski bag  ex_Sliding door  ex_Sport package  ex_Sport seats  ex_Sport suspension  ex_Touch screen  ex_Trailer hitch  ex_Tuned car  ex_Voice Control  ex_Winter tyres  \\\n",
       "0                    1      2021-06-01   Metallic     NaN            NaN  Air conditioning,Armrest,Automatic climate control,Cruise control,Electrical side mirrors,Hill Holder,Leather steering wheel,Light sensor,Multi-function steering wheel,Navigation system,Park Distance Control,Parking assist system sensors rear,Power windows,Rain sensor,Seat heating,Start-stop system                    1                  0           1                             1                     0                  1                    0                     0                           1                                 0                                  0                    0                         0               1                             0                 0                          1                1                  0                 0                                 1                     1                 0                         1                                0                                       0                                       0                                      1                 1               1                1                    0                    0                     1           0                  0                  0              0               Bluetooth,Hands-free equipment,On-board computer,Radio             1             0                 0                        1       0                     1         1                0              0       0           Alloy wheels,Catalytic Converter,Voice Control                1                     0                       1                       0                    0             0                 0           0                0                 0               0                    0                0                 0             0                 1                0   \n",
       "1                    0             NaT        NaN     NaN      4 (Green)                                                                                                                               Air conditioning,Automatic climate control,Hill Holder,Leather steering wheel,Lumbar support,Parking assist system sensors rear,Power windows,Start-stop system,Tinted windows                    1                  0           0                             1                     0                  0                    0                     0                           0                                 0                                  0                    0                         0               1                             0                 0                          1                0                  1                 0                                 0                     0                 0                         0                                0                                       0                                       0                                      1                 1               0                0                    0                    0                     1           0                  1                  0              0  Bluetooth,Hands-free equipment,On-board computer,Radio,Sound system             1             0                 0                        1       0                     1         1                1              0       0  Alloy wheels,Sport seats,Sport suspension,Voice Control                1                     0                       0                       0                    0             0                 0           0                0                 0               1                    1                0                 0             0                 1                0   \n",
       "\n",
       "                                                                                                                                                                                                                                                                          Safe&Security  ss_ABS  ss_Adaptive Cruise Control  ss_Adaptive headlights  ss_Alarm system  ss_Blind spot monitor  ss_Central door lock  ss_Central door lock with remote control  ss_Daytime running lights  ss_Driver drowsiness detection  ss_Driver-side airbag  ss_Electronic stability control  ss_Emergency brake assistant  ss_Emergency system  ss_Fog lights  ss_Head airbag  ss_Immobilizer  ss_Isofix  ss_LED Daytime Running Lights  ss_LED Headlights  ss_Lane departure warning system  ss_Night view assist  ss_Passenger-side airbag  ss_Power steering  ss_Rear airbag  ss_Side airbag  ss_Tire pressure monitoring system  ss_Traction control  ss_Traffic sign recognition  ss_Xenon headlights consumption_comb  gear_type drive_chain Body_Color CO2_Emission  Displacement_cc Emission_Class  register_age   fuel_new nr_doors nr_seats  \n",
       "0                                         ABS,Central door lock,Daytime running lights,Driver-side airbag,Electronic stability control,Fog lights,Immobilizer,Isofix,Passenger-side airbag,Power steering,Side airbag,Tire pressure monitoring system,Traction control,Xenon headlights       1                           0                       0                0                      0                     1                                         0                          1                               0                      1                                1                             0                    0              1               0               1          1                              0                  0                                 0                     0                         1                  1               0               1                                   1                    1                            0                    1              3.8  Automatic       front      Black           99           1422.0         Euro 6           4.0     Diesel        5        5  \n",
       "1  ABS,Central door lock,Central door lock with remote control,Daytime running lights,Driver-side airbag,Electronic stability control,Head airbag,Immobilizer,Isofix,Passenger-side airbag,Power steering,Side airbag,Tire pressure monitoring system,Traction control,Xenon headlights       1                           0                       0                0                      0                     1                                         1                          1                               0                      1                                1                             0                    0              0               1               1          1                              0                  0                                 0                     0                         1                  1               0               1                                   1                    1                            0                    1              5.6  Automatic       front        Red          129           1798.0         Euro 6           3.0  Gassoline        3        4  "
      ]
     },
     "execution_count": 2213,
     "metadata": {},
     "output_type": "execute_result"
    }
   ],
   "source": [
    "data.head(2)"
   ]
  },
  {
   "cell_type": "markdown",
   "metadata": {},
   "source": [
    "## description"
   ]
  },
  {
   "cell_type": "code",
   "execution_count": 2214,
   "metadata": {},
   "outputs": [
    {
     "data": {
      "text/plain": [
       "0    [\\n, Sicherheit:,  , Deaktivierung für Beifahrer-Airbag,  , ESC mit elektronischer Quersperre,  , Tagfahrlicht,  , Reifendruck-Kontrollanzeige,  , Kopfairbag-System mit Seiten-Airbags vorn,  , Sicherheitslenksäule, Assistenzsysteme:,  , Berganfahrassistent, Komfort:,  , Scheinwerferreinigung,  , Xenon plus inklusive Scheinwerfer-Reinigungsanlage,  , Scheinwerfer-Reinigungsanlage,  , Einparkhilfe hinten,  , Licht-/Regensensor,  , Funkfernbedienung,  , Elektrische Luftzusatzheizung, Interieur:...\n",
       "1                                                                                                                                                                                                                                                                                                                                                                                                           [\\nLangstreckenfahrzeug daher die hohe Kilometerleistung. , Bremsen neu bei 62000 km. , Gut gepflegter A1\\n]\n",
       "2    [\\n, Fahrzeug-Nummer: AM-95365,  , Ehem. UPE 24.640 EUR,  , Komfort,  , Klimaanlage,  , Elektrische Fensterheber,  , Sitzheizung,  , Tempomat,  , Zentralverriegelung,  , Leder-Lenkrad,  , Elektrische Spiegel,  , Wärmedämmendes Glas,  , Anfahrassistent,  , Sicherheit,  , Window/Kopfairbags,  , ESP (el. Stabilitäts Programm),  , Elektronische Wegfahrsperre,  , Reifendruckkontrolle,  , Tagfahrlicht,  , Exterieur,  , Alufelgen 16 Zoll,  , Einparkhilfe vo + hi,  , Interieur,  , Stoff Zeitgeist,  ...\n",
       "3                                                                                                                                                                                                                                                                               [\\nAudi A1: , - 1e eigenaar , - Perfecte staat: schade/ongevalvrij , - Onderhoudsboekje Audi garage , - Full option!, - S-line opties, - Automaat, lederen bekleding, navi-pro, Xenon lampen, zetelverwarming, automatische airco,...\\n]\n",
       "4    [\\n, Technik & Sicherheit:, Xenon plus, Klimaautomatik, Einparkhilfe hinten, Scheinwerferreinigungsanlage, Nebelscheinwerfer, Zentralverriegelung mit Fernbedienung, Außenspiegel elek. einstellbar, Fensterheber elek, Start/Stop Anlage, 6 Airbag inkl. Kopfairbag, Euro 6, Multimedia:, Radio CD Concert, audi music interface, Handyvorbereitung (Bluetooth), Sprachsteuerung, USB Anschluss, Assistenzsysteme:, Lichtsensor, Regensensor, Berganfahrassistent, Reifendruckkontrolle, ESP inkl. ABS, Interie...\n",
       "Name: description, dtype: object"
      ]
     },
     "execution_count": 2214,
     "metadata": {},
     "output_type": "execute_result"
    }
   ],
   "source": [
    "data.description.head()"
   ]
  },
  {
   "cell_type": "code",
   "execution_count": 2215,
   "metadata": {},
   "outputs": [],
   "source": [
    "data.drop('description', axis=1, inplace = True)"
   ]
  },
  {
   "cell_type": "markdown",
   "metadata": {},
   "source": [
    "## hp"
   ]
  },
  {
   "cell_type": "code",
   "execution_count": 2216,
   "metadata": {},
   "outputs": [
    {
     "data": {
      "text/plain": [
       "54 kW      276\n",
       "164 kW      27\n",
       "168 kW       3\n",
       "63 kW        2\n",
       "146 kW      18\n",
       "165 kW     194\n",
       "84 kW        1\n",
       "125 kW     707\n",
       "154 kW      39\n",
       "140 kW       2\n",
       "115 kW       1\n",
       "119 kW      30\n",
       "239 kW       1\n",
       "89 kW        2\n",
       "76 kW        4\n",
       "118 kW     516\n",
       "80 kW        3\n",
       "90 kW        4\n",
       "55 kW      569\n",
       "- kW        88\n",
       "110 kW    1112\n",
       "4 kW         1\n",
       "294 kW      18\n",
       "74 kW       81\n",
       "228 kW       2\n",
       "132 kW       1\n",
       "44 kW        1\n",
       "70 kW      888\n",
       "56 kW      286\n",
       "40 kW        2\n",
       "98 kW        3\n",
       "87 kW      232\n",
       "65 kW        4\n",
       "155 kW       6\n",
       "53 kW        2\n",
       "101 kW      47\n",
       "117 kW       6\n",
       "195 kW       1\n",
       "81 kW     1402\n",
       "75 kW        1\n",
       "143 kW       2\n",
       "270 kW       2\n",
       "96 kW       72\n",
       "51 kW      695\n",
       "66 kW     2122\n",
       "52 kW       22\n",
       "133 kW       1\n",
       "147 kW     380\n",
       "71 kW       59\n",
       "60 kW      160\n",
       "163 kW       1\n",
       "78 kW       20\n",
       "137 kW       1\n",
       "9 kW         1\n",
       "112 kW       7\n",
       "Name: hp, dtype: int64"
      ]
     },
     "execution_count": 2216,
     "metadata": {},
     "output_type": "execute_result"
    }
   ],
   "source": [
    "data.hp.value_counts(dropna = False).sample(55)"
   ]
  },
  {
   "cell_type": "code",
   "execution_count": 2217,
   "metadata": {},
   "outputs": [
    {
     "data": {
      "text/plain": [
       "0"
      ]
     },
     "execution_count": 2217,
     "metadata": {},
     "output_type": "execute_result"
    }
   ],
   "source": [
    "data.hp.isnull().sum()"
   ]
  },
  {
   "cell_type": "code",
   "execution_count": 2218,
   "metadata": {},
   "outputs": [
    {
     "data": {
      "text/plain": [
       "array(['66 kW', '141 kW', '85 kW', '70 kW', '92 kW', '112 kW', '60 kW',\n",
       "       '71 kW', '67 kW', '110 kW', '93 kW', '147 kW', '86 kW', '140 kW',\n",
       "       '87 kW', '- kW', '81 kW', '82 kW', '135 kW', '132 kW', '100 kW',\n",
       "       '96 kW', '162 kW', '150 kW', '294 kW', '228 kW', '270 kW',\n",
       "       '137 kW', '9 kW', '133 kW', '77 kW', '101 kW', '78 kW', '103 kW',\n",
       "       '1 kW', '74 kW', '118 kW', '84 kW', '88 kW', '80 kW', '76 kW',\n",
       "       '149 kW', '44 kW', '51 kW', '55 kW', '52 kW', '63 kW', '40 kW',\n",
       "       '65 kW', '75 kW', '125 kW', '120 kW', '184 kW', '239 kW', '121 kW',\n",
       "       '143 kW', '191 kW', '89 kW', '195 kW', '127 kW', '122 kW',\n",
       "       '154 kW', '155 kW', '104 kW', '123 kW', '146 kW', '90 kW', '53 kW',\n",
       "       '54 kW', '56 kW', '164 kW', '4 kW', '163 kW', '57 kW', '119 kW',\n",
       "       '165 kW', '117 kW', '115 kW', '98 kW', '168 kW', '167 kW'],\n",
       "      dtype=object)"
      ]
     },
     "execution_count": 2218,
     "metadata": {},
     "output_type": "execute_result"
    }
   ],
   "source": [
    "data.hp.unique()"
   ]
  },
  {
   "cell_type": "code",
   "execution_count": 2219,
   "metadata": {},
   "outputs": [],
   "source": [
    "data.replace({'hp': {'kW':\"\", '-':'0'}}, regex = True, inplace = True)"
   ]
  },
  {
   "cell_type": "code",
   "execution_count": 2220,
   "metadata": {},
   "outputs": [
    {
     "data": {
      "text/plain": [
       "array(['66 ', '141 ', '85 ', '70 ', '92 ', '112 ', '60 ', '71 ', '67 ',\n",
       "       '110 ', '93 ', '147 ', '86 ', '140 ', '87 ', '0 ', '81 ', '82 ',\n",
       "       '135 ', '132 ', '100 ', '96 ', '162 ', '150 ', '294 ', '228 ',\n",
       "       '270 ', '137 ', '9 ', '133 ', '77 ', '101 ', '78 ', '103 ', '1 ',\n",
       "       '74 ', '118 ', '84 ', '88 ', '80 ', '76 ', '149 ', '44 ', '51 ',\n",
       "       '55 ', '52 ', '63 ', '40 ', '65 ', '75 ', '125 ', '120 ', '184 ',\n",
       "       '239 ', '121 ', '143 ', '191 ', '89 ', '195 ', '127 ', '122 ',\n",
       "       '154 ', '155 ', '104 ', '123 ', '146 ', '90 ', '53 ', '54 ', '56 ',\n",
       "       '164 ', '4 ', '163 ', '57 ', '119 ', '165 ', '117 ', '115 ', '98 ',\n",
       "       '168 ', '167 '], dtype=object)"
      ]
     },
     "execution_count": 2220,
     "metadata": {},
     "output_type": "execute_result"
    }
   ],
   "source": [
    "data.hp.unique()"
   ]
  },
  {
   "cell_type": "code",
   "execution_count": 2221,
   "metadata": {},
   "outputs": [],
   "source": [
    "data['hp_kw'] = pd.to_numeric(data.hp)"
   ]
  },
  {
   "cell_type": "markdown",
   "metadata": {},
   "source": [
    "## km"
   ]
  },
  {
   "cell_type": "code",
   "execution_count": 2222,
   "metadata": {},
   "outputs": [
    {
     "data": {
      "text/plain": [
       "0"
      ]
     },
     "execution_count": 2222,
     "metadata": {},
     "output_type": "execute_result"
    }
   ],
   "source": [
    "data.km.isnull().sum()"
   ]
  },
  {
   "cell_type": "code",
   "execution_count": 2223,
   "metadata": {},
   "outputs": [
    {
     "data": {
      "text/plain": [
       "10 km         1045\n",
       "- km          1024\n",
       "1 km           367\n",
       "5 km           170\n",
       "50 km          148\n",
       "              ... \n",
       "138,717 km       1\n",
       "111,670 km       1\n",
       "80,272 km        1\n",
       "20,017 km        1\n",
       "37,292 km        1\n",
       "Name: km, Length: 6690, dtype: int64"
      ]
     },
     "execution_count": 2223,
     "metadata": {},
     "output_type": "execute_result"
    }
   ],
   "source": [
    "data.km.value_counts(dropna = False)"
   ]
  },
  {
   "cell_type": "markdown",
   "metadata": {},
   "source": [
    "- There are \"-\" values which means NaNs. We can not accept these values as 0 km."
   ]
  },
  {
   "cell_type": "code",
   "execution_count": 2224,
   "metadata": {},
   "outputs": [
    {
     "data": {
      "text/plain": [
       "NaN    838\n",
       "1.0    147\n",
       "2.0     38\n",
       "3.0      1\n",
       "Name: register_age, dtype: int64"
      ]
     },
     "execution_count": 2224,
     "metadata": {},
     "output_type": "execute_result"
    }
   ],
   "source": [
    "data[data['km']=='- km']['register_age'].value_counts(dropna = False)"
   ]
  },
  {
   "cell_type": "code",
   "execution_count": 2225,
   "metadata": {},
   "outputs": [],
   "source": [
    "data.replace({'km' : {' km': '', ',':'', '-':np.nan}}, regex=True, inplace = True)"
   ]
  },
  {
   "cell_type": "code",
   "execution_count": 2226,
   "metadata": {},
   "outputs": [],
   "source": [
    "data.km = pd.to_numeric(data.km)"
   ]
  },
  {
   "cell_type": "code",
   "execution_count": 2227,
   "metadata": {},
   "outputs": [
    {
     "data": {
      "text/plain": [
       "10.0       1045\n",
       "NaN        1024\n",
       "1.0         367\n",
       "5.0         170\n",
       "50.0        148\n",
       "           ... \n",
       "8329.0        1\n",
       "267.0         1\n",
       "1060.0        1\n",
       "73652.0       1\n",
       "49320.0       1\n",
       "Name: km, Length: 6690, dtype: int64"
      ]
     },
     "execution_count": 2227,
     "metadata": {},
     "output_type": "execute_result"
    }
   ],
   "source": [
    "data.km.value_counts(dropna = False)"
   ]
  },
  {
   "cell_type": "markdown",
   "metadata": {},
   "source": [
    "## make_model"
   ]
  },
  {
   "cell_type": "code",
   "execution_count": 2228,
   "metadata": {},
   "outputs": [
    {
     "data": {
      "text/plain": [
       "0"
      ]
     },
     "execution_count": 2228,
     "metadata": {},
     "output_type": "execute_result"
    }
   ],
   "source": [
    "data.make_model.isnull().sum()"
   ]
  },
  {
   "cell_type": "code",
   "execution_count": 2229,
   "metadata": {},
   "outputs": [
    {
     "data": {
      "text/plain": [
       "Audi A3           3097\n",
       "Audi A1           2614\n",
       "Opel Insignia     2598\n",
       "Opel Astra        2526\n",
       "Opel Corsa        2219\n",
       "Renault Clio      1839\n",
       "Renault Espace     991\n",
       "Renault Duster      34\n",
       "Audi A2              1\n",
       "Name: make_model, dtype: int64"
      ]
     },
     "execution_count": 2229,
     "metadata": {},
     "output_type": "execute_result"
    }
   ],
   "source": [
    "data.make_model.value_counts(dropna=False)"
   ]
  },
  {
   "cell_type": "code",
   "execution_count": 2230,
   "metadata": {},
   "outputs": [],
   "source": [
    "data.drop(['Make', 'Model'], axis=1, inplace=True)"
   ]
  },
  {
   "cell_type": "markdown",
   "metadata": {},
   "source": [
    "## null"
   ]
  },
  {
   "cell_type": "code",
   "execution_count": 2231,
   "metadata": {},
   "outputs": [
    {
     "data": {
      "text/plain": [
       "0"
      ]
     },
     "execution_count": 2231,
     "metadata": {},
     "output_type": "execute_result"
    }
   ],
   "source": [
    "data.null.isnull().sum()"
   ]
  },
  {
   "cell_type": "code",
   "execution_count": 2232,
   "metadata": {},
   "outputs": [
    {
     "ename": "TypeError",
     "evalue": "unhashable type: 'list'",
     "output_type": "error",
     "traceback": [
      "\u001b[0;31m---------------------------------------------------------------------------\u001b[0m",
      "\u001b[0;31mTypeError\u001b[0m                                 Traceback (most recent call last)",
      "\u001b[0;32mpandas/_libs/hashtable_class_helper.pxi\u001b[0m in \u001b[0;36mpandas._libs.hashtable.PyObjectHashTable.map_locations\u001b[0;34m()\u001b[0m\n",
      "\u001b[0;31mTypeError\u001b[0m: unhashable type: 'list'"
     ]
    },
    {
     "name": "stderr",
     "output_type": "stream",
     "text": [
      "Exception ignored in: 'pandas._libs.index.IndexEngine._call_map_locations'\n",
      "Traceback (most recent call last):\n",
      "  File \"pandas/_libs/hashtable_class_helper.pxi\", line 1652, in pandas._libs.hashtable.PyObjectHashTable.map_locations\n",
      "TypeError: unhashable type: 'list'\n"
     ]
    },
    {
     "data": {
      "text/plain": [
       "[]    15919\n",
       "Name: null, dtype: int64"
      ]
     },
     "execution_count": 2232,
     "metadata": {},
     "output_type": "execute_result"
    }
   ],
   "source": [
    "data.null.value_counts(dropna=False) "
   ]
  },
  {
   "cell_type": "code",
   "execution_count": 2233,
   "metadata": {},
   "outputs": [],
   "source": [
    "data.drop('null', axis=1, inplace=True)"
   ]
  },
  {
   "cell_type": "markdown",
   "metadata": {},
   "source": [
    "## registration"
   ]
  },
  {
   "cell_type": "code",
   "execution_count": 2234,
   "metadata": {},
   "outputs": [
    {
     "data": {
      "text/plain": [
       "0"
      ]
     },
     "execution_count": 2234,
     "metadata": {},
     "output_type": "execute_result"
    }
   ],
   "source": [
    "data.registration.isnull().sum()"
   ]
  },
  {
   "cell_type": "code",
   "execution_count": 2235,
   "metadata": {},
   "outputs": [
    {
     "data": {
      "text/plain": [
       "-/-        1597\n",
       "03/2018     695\n",
       "02/2019     585\n",
       "05/2018     572\n",
       "03/2019     543\n",
       "01/2019     541\n",
       "04/2018     541\n",
       "02/2018     539\n",
       "03/2016     536\n",
       "04/2016     532\n",
       "06/2018     532\n",
       "01/2018     511\n",
       "04/2019     506\n",
       "02/2016     472\n",
       "03/2017     471\n",
       "05/2016     459\n",
       "06/2016     452\n",
       "05/2019     440\n",
       "06/2017     409\n",
       "05/2017     404\n",
       "07/2018     396\n",
       "04/2017     380\n",
       "01/2016     376\n",
       "02/2017     368\n",
       "01/2017     306\n",
       "08/2018     285\n",
       "06/2019     224\n",
       "07/2017     215\n",
       "11/2017     180\n",
       "07/2016     176\n",
       "10/2016     160\n",
       "10/2017     154\n",
       "09/2017     149\n",
       "11/2016     142\n",
       "09/2018     141\n",
       "09/2016     141\n",
       "12/2016     134\n",
       "12/2017     123\n",
       "08/2017     114\n",
       "11/2018     110\n",
       "12/2018     103\n",
       "10/2018      97\n",
       "08/2016      94\n",
       "07/2019       6\n",
       "09/2019       5\n",
       "11/2019       1\n",
       "08/2019       1\n",
       "12/2019       1\n",
       "Name: registration, dtype: int64"
      ]
     },
     "execution_count": 2235,
     "metadata": {},
     "output_type": "execute_result"
    }
   ],
   "source": [
    "data.registration.value_counts(dropna = False)"
   ]
  },
  {
   "cell_type": "code",
   "execution_count": 2236,
   "metadata": {},
   "outputs": [],
   "source": [
    "data.drop('registration', axis=1, inplace = True)"
   ]
  },
  {
   "cell_type": "markdown",
   "metadata": {},
   "source": [
    "## short_description"
   ]
  },
  {
   "cell_type": "code",
   "execution_count": 2237,
   "metadata": {},
   "outputs": [
    {
     "data": {
      "text/plain": [
       "46"
      ]
     },
     "execution_count": 2237,
     "metadata": {},
     "output_type": "execute_result"
    }
   ],
   "source": [
    "data.short_description.isnull().sum()"
   ]
  },
  {
   "cell_type": "code",
   "execution_count": 2238,
   "metadata": {},
   "outputs": [
    {
     "data": {
      "text/plain": [
       "SPB 1.6 TDI 116 CV S tronic Sport                     64\n",
       "NaN                                                   46\n",
       "1.4 66kW (90CV) Selective                             40\n",
       "MOVE KLIMA CD USB ALLWETTER BLUETOOTH                 38\n",
       "SPB 30 TDI S tronic Business                          35\n",
       "                                                      ..\n",
       "SPORTBACK 30 TFSI*MODEL 2019*VELE OPTIES*TOPPRIJS!     1\n",
       "4 société 1.5 dci 75cv,2016,93000 kms                  1\n",
       "1.0 (105pk)S/S*Edition*Navi/17¨alu/airco/pdc/demow     1\n",
       "1,5 TFSI BENZINA TURBO 155 CV CABRIO                   1\n",
       "Sportback 1.0 TFSI sport Pano/NaviVorb/SitzHzg/PDC     1\n",
       "Name: short_description, Length: 10002, dtype: int64"
      ]
     },
     "execution_count": 2238,
     "metadata": {},
     "output_type": "execute_result"
    }
   ],
   "source": [
    "data.short_description.value_counts(dropna = False)"
   ]
  },
  {
   "cell_type": "code",
   "execution_count": 2239,
   "metadata": {},
   "outputs": [],
   "source": [
    "data.drop('short_description', axis = 1, inplace = True)"
   ]
  },
  {
   "cell_type": "markdown",
   "metadata": {},
   "source": [
    "## 'url'"
   ]
  },
  {
   "cell_type": "code",
   "execution_count": 2240,
   "metadata": {},
   "outputs": [],
   "source": [
    "data.drop('url', axis=1, inplace = True)"
   ]
  },
  {
   "cell_type": "markdown",
   "metadata": {},
   "source": [
    "## 'vat'"
   ]
  },
  {
   "cell_type": "code",
   "execution_count": 2241,
   "metadata": {},
   "outputs": [
    {
     "data": {
      "text/plain": [
       "28.349770714240847"
      ]
     },
     "execution_count": 2241,
     "metadata": {},
     "output_type": "execute_result"
    }
   ],
   "source": [
    "data.vat.isnull().sum()/data.vat.shape[0]*100"
   ]
  },
  {
   "cell_type": "code",
   "execution_count": 2242,
   "metadata": {},
   "outputs": [
    {
     "data": {
      "text/plain": [
       "VAT deductible      10980\n",
       "NaN                  4513\n",
       "Price negotiable      426\n",
       "Name: vat, dtype: int64"
      ]
     },
     "execution_count": 2242,
     "metadata": {},
     "output_type": "execute_result"
    }
   ],
   "source": [
    "data.vat.value_counts(dropna = False)"
   ]
  },
  {
   "cell_type": "markdown",
   "metadata": {},
   "source": [
    "## 'price'"
   ]
  },
  {
   "cell_type": "markdown",
   "metadata": {},
   "source": [
    "- This is our target variable which we try to predict.."
   ]
  },
  {
   "cell_type": "code",
   "execution_count": 2243,
   "metadata": {},
   "outputs": [
    {
     "data": {
      "text/plain": [
       "0"
      ]
     },
     "execution_count": 2243,
     "metadata": {},
     "output_type": "execute_result"
    }
   ],
   "source": [
    "data.price.isnull().sum()"
   ]
  },
  {
   "cell_type": "code",
   "execution_count": 2244,
   "metadata": {},
   "outputs": [
    {
     "data": {
      "text/plain": [
       "8594        13\n",
       "8828       120\n",
       "6066       255\n",
       "8829       331\n",
       "8827      4950\n",
       "         ...  \n",
       "15828    64332\n",
       "3587     64900\n",
       "3649     67600\n",
       "15826    68320\n",
       "3648     74600\n",
       "Name: price, Length: 15919, dtype: int64"
      ]
     },
     "execution_count": 2244,
     "metadata": {},
     "output_type": "execute_result"
    }
   ],
   "source": [
    "data.price.sort_values()"
   ]
  },
  {
   "cell_type": "code",
   "execution_count": 2245,
   "metadata": {},
   "outputs": [
    {
     "data": {
      "text/plain": [
       "14990    154\n",
       "15990    151\n",
       "10990    139\n",
       "15900    106\n",
       "17990    102\n",
       "        ... \n",
       "48490      1\n",
       "36180      1\n",
       "40745      1\n",
       "9545       1\n",
       "34815      1\n",
       "Name: price, Length: 2956, dtype: int64"
      ]
     },
     "execution_count": 2245,
     "metadata": {},
     "output_type": "execute_result"
    }
   ],
   "source": [
    "data.price.value_counts(dropna = False)"
   ]
  },
  {
   "cell_type": "code",
   "execution_count": 2246,
   "metadata": {},
   "outputs": [
    {
     "name": "stdout",
     "output_type": "stream",
     "text": [
      "['make_model', 'body_type', 'price', 'vat', 'km', 'hp', 'Type', 'Previous Owners', 'Next Inspection', 'Inspection new', 'First Registration', 'Body Color', 'Paint Type', 'Upholstery', 'Nr. of Doors', 'Nr. of Seats', 'Gearing Type', 'Displacement', 'Cylinders', 'Drive chain', 'Fuel', 'Consumption', 'CO2 Emission', 'Emission Class', '\\nComfort & Convenience\\n', '\\nEntertainment & Media\\n', '\\nExtras\\n', '\\nSafety & Security\\n', 'Emission Label', 'Gears', 'Country version', 'Previous_Owner1', 'Previous_Owner', 'Inspection_New_Bool', 'next_inspection', 'paint_type', 'country', 'emission_label', 'Comfort&Convenience', 'cc_Air conditioning', 'cc_Air suspension', 'cc_Armrest', 'cc_Automatic climate control', 'cc_Auxiliary heating', 'cc_Cruise control', 'cc_Electric Starter', 'cc_Electric tailgate', 'cc_Electrical side mirrors', 'cc_Electrically adjustable seats', 'cc_Electrically heated windshield', 'cc_Heads-up display', 'cc_Heated steering wheel', 'cc_Hill Holder', 'cc_Keyless central door lock', 'cc_Leather seats', 'cc_Leather steering wheel', 'cc_Light sensor', 'cc_Lumbar support', 'cc_Massage seats', 'cc_Multi-function steering wheel', 'cc_Navigation system', 'cc_Panorama roof', 'cc_Park Distance Control', 'cc_Parking assist system camera', 'cc_Parking assist system self-steering', 'cc_Parking assist system sensors front', 'cc_Parking assist system sensors rear', 'cc_Power windows', 'cc_Rain sensor', 'cc_Seat heating', 'cc_Seat ventilation', 'cc_Split rear seats', 'cc_Start-stop system', 'cc_Sunroof', 'cc_Tinted windows', 'cc_Wind deflector', 'cc_Windshield', 'Entertainment&Media', 'em_Bluetooth', 'em_CD player', 'em_Digital radio', 'em_Hands-free equipment', 'em_MP3', 'em_On-board computer', 'em_Radio', 'em_Sound system', 'em_Television', 'em_USB', 'extra', 'ex_Alloy wheels', 'ex_Cab or rented Car', 'ex_Catalytic Converter', 'ex_Handicapped enabled', 'ex_Right hand drive', 'ex_Roof rack', 'ex_Shift paddles', 'ex_Ski bag', 'ex_Sliding door', 'ex_Sport package', 'ex_Sport seats', 'ex_Sport suspension', 'ex_Touch screen', 'ex_Trailer hitch', 'ex_Tuned car', 'ex_Voice Control', 'ex_Winter tyres', 'Safe&Security', 'ss_ABS', 'ss_Adaptive Cruise Control', 'ss_Adaptive headlights', 'ss_Alarm system', 'ss_Blind spot monitor', 'ss_Central door lock', 'ss_Central door lock with remote control', 'ss_Daytime running lights', 'ss_Driver drowsiness detection', 'ss_Driver-side airbag', 'ss_Electronic stability control', 'ss_Emergency brake assistant', 'ss_Emergency system', 'ss_Fog lights', 'ss_Head airbag', 'ss_Immobilizer', 'ss_Isofix', 'ss_LED Daytime Running Lights', 'ss_LED Headlights', 'ss_Lane departure warning system', 'ss_Night view assist', 'ss_Passenger-side airbag', 'ss_Power steering', 'ss_Rear airbag', 'ss_Side airbag', 'ss_Tire pressure monitoring system', 'ss_Traction control', 'ss_Traffic sign recognition', 'ss_Xenon headlights', 'consumption_comb', 'gear_type', 'drive_chain', 'Body_Color', 'CO2_Emission', 'Displacement_cc', 'Emission_Class', 'register_age', 'fuel_new', 'nr_doors', 'nr_seats', 'hp_kw']\n"
     ]
    }
   ],
   "source": [
    "print(list(data.columns))"
   ]
  },
  {
   "cell_type": "code",
   "execution_count": 2247,
   "metadata": {},
   "outputs": [],
   "source": [
    "current_columns = list(data.columns)"
   ]
  },
  {
   "cell_type": "code",
   "execution_count": 2248,
   "metadata": {},
   "outputs": [],
   "source": [
    "drop_columns = ['Previous Owners', 'Next Inspection', 'Inspection new', 'First Registration', 'Body Color', 'Paint Type',\n",
    " 'Nr. of Doors', 'Nr. of Seats', 'Gearing Type', 'Displacement', 'Drive chain', 'Fuel', 'Consumption',\n",
    " 'CO2 Emission', 'Emission Class', '\\nComfort & Convenience\\n', 'Entertainment&Media', '\\nExtras\\n',\n",
    " '\\nSafety & Security\\n', 'Emission Label', 'Country version', 'Previous_Owner1', 'Comfort&Convenience', 'extra', 'Safe&Security', \"hp\"]"
   ]
  },
  {
   "cell_type": "code",
   "execution_count": 2249,
   "metadata": {},
   "outputs": [],
   "source": [
    "data1 = data.drop(drop_columns, axis=1)"
   ]
  },
  {
   "cell_type": "code",
   "execution_count": 2250,
   "metadata": {},
   "outputs": [],
   "source": [
    "data1.columns = data1.columns.str.lower()"
   ]
  },
  {
   "cell_type": "code",
   "execution_count": 2251,
   "metadata": {},
   "outputs": [
    {
     "data": {
      "text/plain": [
       "['make_model',\n",
       " 'body_type',\n",
       " 'price',\n",
       " 'vat',\n",
       " 'km',\n",
       " 'type',\n",
       " 'upholstery',\n",
       " 'cylinders',\n",
       " '\\nentertainment & media\\n',\n",
       " 'gears',\n",
       " 'previous_owner',\n",
       " 'inspection_new_bool',\n",
       " 'next_inspection',\n",
       " 'paint_type',\n",
       " 'country',\n",
       " 'emission_label',\n",
       " 'cc_air conditioning',\n",
       " 'cc_air suspension',\n",
       " 'cc_armrest',\n",
       " 'cc_automatic climate control',\n",
       " 'cc_auxiliary heating',\n",
       " 'cc_cruise control',\n",
       " 'cc_electric starter',\n",
       " 'cc_electric tailgate',\n",
       " 'cc_electrical side mirrors',\n",
       " 'cc_electrically adjustable seats',\n",
       " 'cc_electrically heated windshield',\n",
       " 'cc_heads-up display',\n",
       " 'cc_heated steering wheel',\n",
       " 'cc_hill holder',\n",
       " 'cc_keyless central door lock',\n",
       " 'cc_leather seats',\n",
       " 'cc_leather steering wheel',\n",
       " 'cc_light sensor',\n",
       " 'cc_lumbar support',\n",
       " 'cc_massage seats',\n",
       " 'cc_multi-function steering wheel',\n",
       " 'cc_navigation system',\n",
       " 'cc_panorama roof',\n",
       " 'cc_park distance control',\n",
       " 'cc_parking assist system camera',\n",
       " 'cc_parking assist system self-steering',\n",
       " 'cc_parking assist system sensors front',\n",
       " 'cc_parking assist system sensors rear',\n",
       " 'cc_power windows',\n",
       " 'cc_rain sensor',\n",
       " 'cc_seat heating',\n",
       " 'cc_seat ventilation',\n",
       " 'cc_split rear seats',\n",
       " 'cc_start-stop system',\n",
       " 'cc_sunroof',\n",
       " 'cc_tinted windows',\n",
       " 'cc_wind deflector',\n",
       " 'cc_windshield',\n",
       " 'em_bluetooth',\n",
       " 'em_cd player',\n",
       " 'em_digital radio',\n",
       " 'em_hands-free equipment',\n",
       " 'em_mp3',\n",
       " 'em_on-board computer',\n",
       " 'em_radio',\n",
       " 'em_sound system',\n",
       " 'em_television',\n",
       " 'em_usb',\n",
       " 'ex_alloy wheels',\n",
       " 'ex_cab or rented car',\n",
       " 'ex_catalytic converter',\n",
       " 'ex_handicapped enabled',\n",
       " 'ex_right hand drive',\n",
       " 'ex_roof rack',\n",
       " 'ex_shift paddles',\n",
       " 'ex_ski bag',\n",
       " 'ex_sliding door',\n",
       " 'ex_sport package',\n",
       " 'ex_sport seats',\n",
       " 'ex_sport suspension',\n",
       " 'ex_touch screen',\n",
       " 'ex_trailer hitch',\n",
       " 'ex_tuned car',\n",
       " 'ex_voice control',\n",
       " 'ex_winter tyres',\n",
       " 'ss_abs',\n",
       " 'ss_adaptive cruise control',\n",
       " 'ss_adaptive headlights',\n",
       " 'ss_alarm system',\n",
       " 'ss_blind spot monitor',\n",
       " 'ss_central door lock',\n",
       " 'ss_central door lock with remote control',\n",
       " 'ss_daytime running lights',\n",
       " 'ss_driver drowsiness detection',\n",
       " 'ss_driver-side airbag',\n",
       " 'ss_electronic stability control',\n",
       " 'ss_emergency brake assistant',\n",
       " 'ss_emergency system',\n",
       " 'ss_fog lights',\n",
       " 'ss_head airbag',\n",
       " 'ss_immobilizer',\n",
       " 'ss_isofix',\n",
       " 'ss_led daytime running lights',\n",
       " 'ss_led headlights',\n",
       " 'ss_lane departure warning system',\n",
       " 'ss_night view assist',\n",
       " 'ss_passenger-side airbag',\n",
       " 'ss_power steering',\n",
       " 'ss_rear airbag',\n",
       " 'ss_side airbag',\n",
       " 'ss_tire pressure monitoring system',\n",
       " 'ss_traction control',\n",
       " 'ss_traffic sign recognition',\n",
       " 'ss_xenon headlights',\n",
       " 'consumption_comb',\n",
       " 'gear_type',\n",
       " 'drive_chain',\n",
       " 'body_color',\n",
       " 'co2_emission',\n",
       " 'displacement_cc',\n",
       " 'emission_class',\n",
       " 'register_age',\n",
       " 'fuel_new',\n",
       " 'nr_doors',\n",
       " 'nr_seats',\n",
       " 'hp_kw']"
      ]
     },
     "execution_count": 2251,
     "metadata": {},
     "output_type": "execute_result"
    }
   ],
   "source": [
    "list(data1.columns)"
   ]
  },
  {
   "cell_type": "code",
   "execution_count": 2252,
   "metadata": {},
   "outputs": [],
   "source": [
    "data1.to_csv('scout_car_precleaned.csv', index= False)"
   ]
  }
 ],
 "metadata": {
  "kernelspec": {
   "display_name": "Python 3",
   "language": "python",
   "name": "python3"
  },
  "language_info": {
   "codemirror_mode": {
    "name": "ipython",
    "version": 3
   },
   "file_extension": ".py",
   "mimetype": "text/x-python",
   "name": "python",
   "nbconvert_exporter": "python",
   "pygments_lexer": "ipython3",
   "version": "3.7.6"
  }
 },
 "nbformat": 4,
 "nbformat_minor": 4
}
